{
 "cells": [
  {
   "cell_type": "markdown",
   "metadata": {
    "slideshow": {
     "slide_type": "slide"
    }
   },
   "source": [
    "# C++20 improved compilation with Modules"
   ]
  },
  {
   "cell_type": "markdown",
   "metadata": {
    "slideshow": {
     "slide_type": "slide"
    }
   },
   "source": [
    "## Motivation\n",
    "\n",
    "Despites many novelties, modern C++ still rely on the legacy preprocessor, which accumulates many defects."
   ]
  },
  {
   "cell_type": "markdown",
   "metadata": {
    "slideshow": {
     "slide_type": "fragment"
    }
   },
   "source": [
    "#### Endless compilation time"
   ]
  },
  {
   "cell_type": "markdown",
   "metadata": {
    "slideshow": {
     "slide_type": "skip"
    }
   },
   "source": [
    "For each translation unit (body file to be compiled separately), the compilation must include recursively all included header files, then scan and compile the whole. There is a lot of redundant work, made worse with recent template-rich code. Pre-compilation techniques for header files have failed to address this problem."
   ]
  },
  {
   "cell_type": "markdown",
   "metadata": {
    "slideshow": {
     "slide_type": "fragment"
    }
   },
   "source": [
    "#### Fragility"
   ]
  },
  {
   "cell_type": "markdown",
   "metadata": {
    "slideshow": {
     "slide_type": "skip"
    }
   },
   "source": [
    "The interpretation of an included file is very dependent on possible macros defined beforehand. This can lead to especially tricky bugs."
   ]
  },
  {
   "cell_type": "markdown",
   "metadata": {
    "slideshow": {
     "slide_type": "fragment"
    }
   },
   "source": [
    "#### Code pollution"
   ]
  },
  {
   "cell_type": "markdown",
   "metadata": {
    "slideshow": {
     "slide_type": "skip"
    }
   },
   "source": [
    "To overcome certain problems related to the pre-processor, a certain number of practices have become mandatory, such as the *include guards*. This complicates the learning process for newcomers, and unnecessarily obscure the code."
   ]
  },
  {
   "cell_type": "markdown",
   "metadata": {
    "slideshow": {
     "slide_type": "fragment"
    }
   },
   "source": [
    "#### Tools disturbance"
   ]
  },
  {
   "cell_type": "markdown",
   "metadata": {
    "slideshow": {
     "slide_type": "skip"
    }
   },
   "source": [
    "The pre-processing system singularly complicates the task of development tools, especially when they try to establish what constitutes the interface of a library ."
   ]
  },
  {
   "cell_type": "markdown",
   "metadata": {
    "slideshow": {
     "slide_type": "slide"
    }
   },
   "source": [
    "## General ideas\n",
    "\n",
    "Already considered for C++11, postponed several times, the **C++ 20 modules** aim to suppress the use of the preprocessor, review the distinction between header and body files, better express the logical structure of the code, and of course **make compilation faster**."
   ]
  },
  {
   "cell_type": "markdown",
   "metadata": {
    "slideshow": {
     "slide_type": "subslide"
    }
   },
   "source": [
    "### Using a module"
   ]
  },
  {
   "cell_type": "markdown",
   "metadata": {
    "slideshow": {
     "slide_type": "skip"
    }
   },
   "source": [
    "One can now **easily import modules**, as in any recent languages. If the standard library was written as a single module (this is not yet achieved), one may write:"
   ]
  },
  {
   "cell_type": "markdown",
   "metadata": {
    "slideshow": {
     "slide_type": "fragment"
    }
   },
   "source": [
    "```c++\n",
    "import std ;\n",
    "int main() {\n",
    "    std::cout << “Hello World\\n”;\n",
    "}\n",
    "```"
   ]
  },
  {
   "cell_type": "markdown",
   "metadata": {
    "slideshow": {
     "slide_type": "subslide"
    }
   },
   "source": [
    "### Defining a module... the terminology"
   ]
  },
  {
   "cell_type": "markdown",
   "metadata": {
    "slideshow": {
     "slide_type": "fragment"
    }
   },
   "source": [
    "For a user-defined **named module**, the developer can simply put everything needed in a single file, said to be a **complete module**."
   ]
  },
  {
   "cell_type": "markdown",
   "metadata": {
    "slideshow": {
     "slide_type": "fragment"
    }
   },
   "source": [
    "Yet, so to benefit from the efficiency of the external build systems, he will more likely split the logical **named module** into several physical files, called **module units**. "
   ]
  },
  {
   "cell_type": "markdown",
   "metadata": {
    "slideshow": {
     "slide_type": "fragment"
    }
   },
   "source": [
    "A typical setup, for each individual module, would be to have a *header-like* file, called **primary module interface unit**, and a *body-like* file, called a **module implementation unit**. "
   ]
  },
  {
   "cell_type": "markdown",
   "metadata": {
    "slideshow": {
     "slide_type": "fragment"
    }
   },
   "source": [
    "If one want to divide the module even more, he can subdivide the units into **module interface partitions** and **module implementation partitions**."
   ]
  },
  {
   "cell_type": "markdown",
   "metadata": {
    "slideshow": {
     "slide_type": "fragment"
    }
   },
   "source": [
    "A **module unit** is made of one or several **module fragments** of different kinds: **global**, **purview**, **private**, **partitions**... Only some predefined mixtures of fragments are allowed, corresponding to different unit kinds."
   ]
  },
  {
   "cell_type": "markdown",
   "metadata": {
    "slideshow": {
     "slide_type": "fragment"
    }
   },
   "source": [
    "**To be noticed**: some module units are kind of header/interface files, yet they now need to be compiled !"
   ]
  },
  {
   "cell_type": "markdown",
   "metadata": {
    "slideshow": {
     "slide_type": "subslide"
    }
   },
   "source": [
    "### Diversity of strategies and implementations\n",
    "\n",
    "> there is no one way of correctly using C++20 modules\". *[Niall Cooling](https://blog.feabhas.com/2021/08/c20-modules-with-gcc11/)*"
   ]
  },
  {
   "cell_type": "markdown",
   "metadata": {
    "slideshow": {
     "slide_type": "fragment"
    }
   },
   "source": [
    "The C++20 standard does not enforce a single way to split the modules into files, the file suffix, the use of auxiliary directories/files... the implementation of **C++ modules may differ significantly between compilers**."
   ]
  },
  {
   "cell_type": "markdown",
   "metadata": {
    "slideshow": {
     "slide_type": "fragment"
    }
   },
   "source": [
    "In the following examples, we will investigate the GCC implementation, and we will stick to the usual *interface+implementation* pair of files for each module, similar to the old-school *header+body* files. This is somehow a modern implementation of the old \"precompiled header files\"."
   ]
  },
  {
   "cell_type": "markdown",
   "metadata": {
    "slideshow": {
     "slide_type": "slide"
    }
   },
   "source": [
    "## My first GCC module"
   ]
  },
  {
   "cell_type": "markdown",
   "metadata": {
    "slideshow": {
     "slide_type": "fragment"
    }
   },
   "source": [
    "GCC does not introduce some new files extensions, it is up to you to define some convention. Let's use a *pre-suffix* **`_mh`** for a header-like file (*Primary Module Interface Unit*), and **`_mb`** for a body-like file (*Module Implementation Unit*)."
   ]
  },
  {
   "cell_type": "markdown",
   "metadata": {
    "slideshow": {
     "slide_type": "fragment"
    }
   },
   "source": [
    "GCC requires the options **`-std=c++20 -fmodules-ts`**, and will produce an object file for each module file."
   ]
  },
  {
   "cell_type": "markdown",
   "metadata": {
    "slideshow": {
     "slide_type": "fragment"
    }
   },
   "source": [
    "Warning: GCC requires the module interface to be compiled before the module implementation."
   ]
  },
  {
   "cell_type": "code",
   "execution_count": 6,
   "metadata": {
    "slideshow": {
     "slide_type": "subslide"
    }
   },
   "outputs": [
    {
     "name": "stdout",
     "output_type": "stream",
     "text": [
      "Overwriting tmp.math_mh.cc\n"
     ]
    }
   ],
   "source": [
    "%%file tmp.math_mh.cc\n",
    "\n",
    "export module math ;\n",
    "\n",
    "export int add( int first, int second ) ;"
   ]
  },
  {
   "cell_type": "markdown",
   "metadata": {
    "slideshow": {
     "slide_type": "skip"
    }
   },
   "source": [
    "The first statement `export module math` declare the module. The keyword `export` before `add()` makes it available to the module users."
   ]
  },
  {
   "cell_type": "code",
   "execution_count": 7,
   "metadata": {
    "slideshow": {
     "slide_type": "fragment"
    }
   },
   "outputs": [],
   "source": [
    "!rm -f tmp.math_mh.o && g++ -c -std=c++20 -fmodules-ts tmp.math_mh.cc -o tmp.math_mh.o"
   ]
  },
  {
   "cell_type": "code",
   "execution_count": 8,
   "metadata": {
    "slideshow": {
     "slide_type": "subslide"
    }
   },
   "outputs": [
    {
     "name": "stdout",
     "output_type": "stream",
     "text": [
      "Overwriting tmp.math_mb.cc\n"
     ]
    }
   ],
   "source": [
    "%%file tmp.math_mb.cc\n",
    "\n",
    "module math ;\n",
    "\n",
    "int add( int first, int second )\n",
    " { return first + second ; } "
   ]
  },
  {
   "cell_type": "code",
   "execution_count": 9,
   "metadata": {
    "slideshow": {
     "slide_type": "fragment"
    }
   },
   "outputs": [],
   "source": [
    "!rm -f tmp.math_mb.o && g++ -c -std=c++20 -fmodules-ts tmp.math_mb.cc -o tmp.math_mb.o"
   ]
  },
  {
   "cell_type": "code",
   "execution_count": 10,
   "metadata": {
    "slideshow": {
     "slide_type": "subslide"
    }
   },
   "outputs": [
    {
     "name": "stdout",
     "output_type": "stream",
     "text": [
      "Overwriting tmp.main1.cpp\n"
     ]
    }
   ],
   "source": [
    "%%file tmp.main1.cpp\n",
    "\n",
    "#include <iostream>\n",
    "\n",
    "import math ;\n",
    "\n",
    "int main()\n",
    " { std::cout<<add(40, 2)<<std::endl ; }"
   ]
  },
  {
   "cell_type": "code",
   "execution_count": 11,
   "metadata": {
    "slideshow": {
     "slide_type": "fragment"
    }
   },
   "outputs": [],
   "source": [
    "!rm -f tmp.main1.exe && g++ -std=c++20 -fmodules-ts tmp.main1.cpp -o tmp.main1.exe tmp.math_mh.o tmp.math_mb.o"
   ]
  },
  {
   "cell_type": "code",
   "execution_count": 12,
   "metadata": {
    "slideshow": {
     "slide_type": "fragment"
    }
   },
   "outputs": [
    {
     "name": "stdout",
     "output_type": "stream",
     "text": [
      "42\r\n"
     ]
    }
   ],
   "source": [
    "!./tmp.main1.exe"
   ]
  },
  {
   "cell_type": "markdown",
   "metadata": {
    "slideshow": {
     "slide_type": "slide"
    }
   },
   "source": [
    "## A module using another module\n",
    "\n",
    "Withing a module file, any `import` or `include` statement must be made within a **global fragment**, introduced by the statement `module ;`."
   ]
  },
  {
   "cell_type": "code",
   "execution_count": 13,
   "metadata": {
    "slideshow": {
     "slide_type": "subslide"
    }
   },
   "outputs": [
    {
     "name": "stdout",
     "output_type": "stream",
     "text": [
      "Writing tmp.answer_mh.cc\n"
     ]
    }
   ],
   "source": [
    "%%file tmp.answer_mh.cc\n",
    "\n",
    "export module answer ;\n",
    "\n",
    "export class Printer {\n",
    "  public:\n",
    "    void answer() ;\n",
    "} ;"
   ]
  },
  {
   "cell_type": "code",
   "execution_count": 14,
   "metadata": {
    "slideshow": {
     "slide_type": "fragment"
    }
   },
   "outputs": [],
   "source": [
    "!rm -f tmp.answer_mh.o && g++ -c -std=c++20 -fmodules-ts tmp.answer_mh.cc -o tmp.answer_mh.o"
   ]
  },
  {
   "cell_type": "code",
   "execution_count": 15,
   "metadata": {
    "slideshow": {
     "slide_type": "subslide"
    }
   },
   "outputs": [
    {
     "name": "stdout",
     "output_type": "stream",
     "text": [
      "Writing tmp.answer_mb.cc\n"
     ]
    }
   ],
   "source": [
    "%%file tmp.answer_mb.cc\n",
    "\n",
    "module ;\n",
    "\n",
    "#include <iostream>\n",
    "\n",
    "import math ;\n",
    "\n",
    "module answer ;\n",
    "\n",
    "void Printer::answer()\n",
    " { std::cout<<add(40, 2)<<std::endl ; }"
   ]
  },
  {
   "cell_type": "code",
   "execution_count": 16,
   "metadata": {
    "slideshow": {
     "slide_type": "fragment"
    }
   },
   "outputs": [],
   "source": [
    "!rm -f tmp.answer_mb.o && g++ -c -std=c++20 -fmodules-ts tmp.answer_mb.cc -o tmp.answer_mb.o"
   ]
  },
  {
   "cell_type": "code",
   "execution_count": 17,
   "metadata": {
    "slideshow": {
     "slide_type": "subslide"
    }
   },
   "outputs": [
    {
     "name": "stdout",
     "output_type": "stream",
     "text": [
      "Writing tmp.main2.cpp\n"
     ]
    }
   ],
   "source": [
    "%%file tmp.main2.cpp\n",
    "\n",
    "import answer ;\n",
    "\n",
    "int main()\n",
    " {\n",
    "  Printer pr ;\n",
    "  pr.answer() ;\n",
    " }"
   ]
  },
  {
   "cell_type": "code",
   "execution_count": 18,
   "metadata": {
    "slideshow": {
     "slide_type": "fragment"
    }
   },
   "outputs": [],
   "source": [
    "!rm -f tmp.main2.exe && g++ -std=c++20 -fmodules-ts tmp.main2.cpp -o tmp.main2.exe tmp.answer_mh.o tmp.answer_mb.o tmp.math_mh.o tmp.math_mb.o"
   ]
  },
  {
   "cell_type": "code",
   "execution_count": 19,
   "metadata": {
    "slideshow": {
     "slide_type": "fragment"
    }
   },
   "outputs": [
    {
     "name": "stdout",
     "output_type": "stream",
     "text": [
      "42\r\n"
     ]
    }
   ],
   "source": [
    "!./tmp.main2.exe"
   ]
  },
  {
   "cell_type": "markdown",
   "metadata": {
    "slideshow": {
     "slide_type": "slide"
    }
   },
   "source": [
    "## What about namespaces ?\n",
    "\n",
    "The namespaces are orthogonal and independant of the modules. Yet, if one wants to mimic the Python approach, for example, he can associate each module with a namespace with same name."
   ]
  },
  {
   "cell_type": "code",
   "execution_count": 20,
   "metadata": {
    "slideshow": {
     "slide_type": "subslide"
    }
   },
   "outputs": [
    {
     "name": "stdout",
     "output_type": "stream",
     "text": [
      "Overwriting tmp.math_mh.cc\n"
     ]
    }
   ],
   "source": [
    "%%file tmp.math_mh.cc\n",
    "\n",
    "export module math ;\n",
    "\n",
    "namespace math {\n",
    "\n",
    "  export int add( int first, int second ) ;\n",
    "\n",
    "}"
   ]
  },
  {
   "cell_type": "code",
   "execution_count": 21,
   "metadata": {
    "slideshow": {
     "slide_type": "fragment"
    }
   },
   "outputs": [],
   "source": [
    "!rm -f tmp.math_mh.o && g++ -c -std=c++20 -fmodules-ts tmp.math_mh.cc -o tmp.math_mh.o"
   ]
  },
  {
   "cell_type": "code",
   "execution_count": 22,
   "metadata": {
    "slideshow": {
     "slide_type": "subslide"
    }
   },
   "outputs": [
    {
     "name": "stdout",
     "output_type": "stream",
     "text": [
      "Overwriting tmp.math_mb.cc\n"
     ]
    }
   ],
   "source": [
    "%%file tmp.math_mb.cc\n",
    "\n",
    "module math ;\n",
    "\n",
    "namespace math {\n",
    "\n",
    "  int add( int first, int second )\n",
    "   { return first + second ; } \n",
    "    \n",
    "}"
   ]
  },
  {
   "cell_type": "code",
   "execution_count": 23,
   "metadata": {
    "slideshow": {
     "slide_type": "fragment"
    }
   },
   "outputs": [],
   "source": [
    "!rm -f tmp.math_mb.o && g++ -c -std=c++20 -fmodules-ts tmp.math_mb.cc -o tmp.math_mb.o"
   ]
  },
  {
   "cell_type": "code",
   "execution_count": 24,
   "metadata": {
    "slideshow": {
     "slide_type": "subslide"
    }
   },
   "outputs": [
    {
     "name": "stdout",
     "output_type": "stream",
     "text": [
      "Writing tmp.main3.cpp\n"
     ]
    }
   ],
   "source": [
    "%%file tmp.main3.cpp\n",
    "\n",
    "#include <iostream>\n",
    "\n",
    "import math ;\n",
    "\n",
    "int main()\n",
    " { std::cout<<math::add(40, 2)<<std::endl ; }"
   ]
  },
  {
   "cell_type": "code",
   "execution_count": 25,
   "metadata": {
    "slideshow": {
     "slide_type": "fragment"
    }
   },
   "outputs": [],
   "source": [
    "!rm -f tmp.main3.exe && g++ -std=c++20 -fmodules-ts tmp.main3.cpp -o tmp.main3.exe tmp.math_mh.o tmp.math_mb.o"
   ]
  },
  {
   "cell_type": "code",
   "execution_count": 26,
   "metadata": {
    "slideshow": {
     "slide_type": "fragment"
    }
   },
   "outputs": [
    {
     "name": "stdout",
     "output_type": "stream",
     "text": [
      "42\r\n"
     ]
    }
   ],
   "source": [
    "!./tmp.main3.exe"
   ]
  },
  {
   "cell_type": "code",
   "execution_count": 27,
   "metadata": {
    "slideshow": {
     "slide_type": "fragment"
    }
   },
   "outputs": [],
   "source": [
    "!rm -f tmp.math_mh.o && g++ -c -std=c++20 -fmodules-ts tmp.math_mh.cc -o tmp.math_mh.o"
   ]
  },
  {
   "cell_type": "markdown",
   "metadata": {
    "slideshow": {
     "slide_type": "slide"
    }
   },
   "source": [
    "## What about templates ?\n",
    "\n",
    "It sounds like, as before, one must put the template body in the module interface."
   ]
  },
  {
   "cell_type": "code",
   "execution_count": 28,
   "metadata": {
    "slideshow": {
     "slide_type": "subslide"
    }
   },
   "outputs": [
    {
     "name": "stdout",
     "output_type": "stream",
     "text": [
      "Overwriting tmp.math_mh.cc\n"
     ]
    }
   ],
   "source": [
    "%%file tmp.math_mh.cc\n",
    "\n",
    "export module math ;\n",
    "\n",
    "export\n",
    "template< typename T >\n",
    "T add( T first, T second )\n",
    " { return first + second ; } "
   ]
  },
  {
   "cell_type": "code",
   "execution_count": 29,
   "metadata": {
    "slideshow": {
     "slide_type": "fragment"
    }
   },
   "outputs": [],
   "source": [
    "!rm -f tmp.math_mh.o && g++ -c -std=c++20 -fmodules-ts tmp.math_mh.cc -o tmp.math_mh.o"
   ]
  },
  {
   "cell_type": "code",
   "execution_count": 30,
   "metadata": {
    "slideshow": {
     "slide_type": "subslide"
    }
   },
   "outputs": [
    {
     "name": "stdout",
     "output_type": "stream",
     "text": [
      "Overwriting tmp.main3.cpp\n"
     ]
    }
   ],
   "source": [
    "%%file tmp.main3.cpp\n",
    "\n",
    "#include <iostream>\n",
    "\n",
    "import math ;\n",
    "\n",
    "int main()\n",
    " { std::cout<<add(40, 2)<<std::endl ; }"
   ]
  },
  {
   "cell_type": "code",
   "execution_count": 31,
   "metadata": {
    "slideshow": {
     "slide_type": "fragment"
    }
   },
   "outputs": [],
   "source": [
    "!rm -f tmp.main3.exe && g++ -std=c++20 -fmodules-ts tmp.main3.cpp -o tmp.main3.exe tmp.math_mh.o"
   ]
  },
  {
   "cell_type": "code",
   "execution_count": 32,
   "metadata": {
    "slideshow": {
     "slide_type": "fragment"
    }
   },
   "outputs": [
    {
     "name": "stdout",
     "output_type": "stream",
     "text": [
      "42\r\n"
     ]
    }
   ],
   "source": [
    "!./tmp.main3.exe"
   ]
  },
  {
   "cell_type": "markdown",
   "metadata": {
    "slideshow": {
     "slide_type": "slide"
    }
   },
   "source": [
    "## What about the standard library ?\n",
    "\n",
    "GCC does not deliver yet the standard library as a set of modules."
   ]
  },
  {
   "cell_type": "markdown",
   "metadata": {
    "slideshow": {
     "slide_type": "slide"
    }
   },
   "source": [
    "## Availability\n",
    "\n",
    "Microsoft tools seem more advanced about this feature :\n",
    "* **Visual Studio 2017**, MSVC 19.25 & 19.28: partial support.\n",
    "* Clang 8, with  `-fmodules-ts`: partial support.\n",
    "* GCC 11, with `-std=c++20 -fmodules-ts`: [partial support](https://gcc.gnu.org/onlinedocs/gcc-11.2.0/gcc/C_002b_002b-Modules.html#C_002b_002b-Modules)."
   ]
  },
  {
   "cell_type": "markdown",
   "metadata": {
    "slideshow": {
     "slide_type": "slide"
    }
   },
   "source": [
    "## Conclusion\n",
    "\n",
    "Despites all C++ committee members have agreed on a common terminology and set of features, there are many ways to implement it, and it is largely embedded with the build tools. Thus, it is unclear how a project developed for a given operating system, with a given set compilation and build tools, will be portable to another environment..."
   ]
  },
  {
   "cell_type": "markdown",
   "metadata": {
    "slideshow": {
     "slide_type": "slide"
    }
   },
   "source": [
    "## Questions ?"
   ]
  },
  {
   "cell_type": "markdown",
   "metadata": {
    "slideshow": {
     "slide_type": "skip"
    }
   },
   "source": [
    "## Sources\n",
    "\n",
    "* [Sticky Bits – Powered by Feabhas: C++20 modules with GCC11](https://blog.feabhas.com/2021/08/c20-modules-with-gcc11/)\n",
    "* [Cpp Reference, compiler support](https://en.cppreference.com/w/cpp/compiler_support)\n",
    "* [Cpp reference, modules](https://en.cppreference.com/w/cpp/language/modules)\n",
    "* [Cpp Depend](http://cppdepend.com/blog/?p=228)\n",
    "* [Modernes CPP, C++20: Modules](http://modernescpp.com/index.php/c-20-modules)\n",
    "* [Modernes CPP, C++20: More Details to Modules](http://modernescpp.com/index.php/c-20-more-details-to-modules)\n",
    "* [Minimal module support for the standard library](https://wg21.link/p2412r0)\n"
   ]
  },
  {
   "cell_type": "markdown",
   "metadata": {
    "slideshow": {
     "slide_type": "skip"
    }
   },
   "source": [
    "© *CNRS 2022*  \n",
    "*Assembled and written by David Chamont, this work is made available according to the terms of the*  \n",
    "[*Creative Commons License - Attribution - NonCommercial - ShareAlike 4.0 International*](http://creativecommons.org/licenses/by-nc-sa/4.0/)"
   ]
  }
 ],
 "metadata": {
  "celltoolbar": "Diaporama",
  "kernelspec": {
   "display_name": "Python 3 (ipykernel)",
   "language": "python",
   "name": "python3"
  },
  "language_info": {
   "codemirror_mode": {
    "name": "ipython",
    "version": 3
   },
   "file_extension": ".py",
   "mimetype": "text/x-python",
   "name": "python",
   "nbconvert_exporter": "python",
   "pygments_lexer": "ipython3",
   "version": "3.9.13"
  }
 },
 "nbformat": 4,
 "nbformat_minor": 4
}
