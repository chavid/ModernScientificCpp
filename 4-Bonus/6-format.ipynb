{
 "cells": [
  {
   "cell_type": "markdown",
   "id": "6ea77bff",
   "metadata": {
    "slideshow": {
     "slide_type": "slide"
    }
   },
   "source": [
    "# The awaited return of the format string"
   ]
  },
  {
   "cell_type": "markdown",
   "id": "713dfb5c",
   "metadata": {
    "slideshow": {
     "slide_type": "slide"
    }
   },
   "source": [
    "## Motivation\n",
    "\n",
    "C++ makes available the I/O functions from the C ecosystem: `printf`, `scanf`, and their many variations.\n",
    "\n",
    "On top of it,  C++ provides an input/output library, highly object-oriented, therefore highly extendable (typically for new user-defined classes). It also has better type safety.\n",
    "\n",
    "Yet, the new library is often considered cumbersome and verbose. It lacks the very appreciated conciseness of the good old-fashioned C functions."
   ]
  },
  {
   "cell_type": "markdown",
   "id": "fcdbb031",
   "metadata": {
    "slideshow": {
     "slide_type": "slide"
    }
   },
   "source": [
    "## Idea\n",
    "\n",
    "The new C++20 `std::format` function aims to fill this gap: provide a concise way to pack many values into a `std::string`, which can then be feeded into the usual C++ streams.\n",
    "\n",
    "In the format string, placeholders to be filled are materialized with a pair of curly braces (very python-like...):\n",
    "\n",
    "```\n",
    "#include <iostream>\n",
    "#include <format>\n",
    "\n",
    "int main()\n",
    " {\n",
    "  std::cout<<std::format(\"The answer is {}.\",3.14)<<std::endl ;\n",
    " }\n",
    "```"
   ]
  },
  {
   "cell_type": "markdown",
   "id": "0f11997a",
   "metadata": {
    "slideshow": {
     "slide_type": "slide"
    }
   },
   "source": [
    "## The {fmt} library\n",
    "\n",
    "Only the last versions of the compilers start to support the new text formatting features. Meanwhile, one can use the [{fmt}](https://github.com/fmtlib/fmt) library, which was the base of the C++20 proposal."
   ]
  },
  {
   "cell_type": "code",
   "execution_count": 51,
   "id": "ff0bd405",
   "metadata": {
    "slideshow": {
     "slide_type": "subslide"
    }
   },
   "outputs": [
    {
     "name": "stdout",
     "output_type": "stream",
     "text": [
      "Overwriting tmp.format.cpp\n"
     ]
    }
   ],
   "source": [
    "%%file tmp.format.cpp\n",
    "\n",
    "#include <iostream>\n",
    "#include <fmt/core.h>\n",
    "\n",
    "int main()\n",
    " {\n",
    "  std::cout<<fmt::format(\"The answer is {}.\",42)<<std::endl ;\n",
    " }"
   ]
  },
  {
   "cell_type": "code",
   "execution_count": 52,
   "id": "6d2fa1d8",
   "metadata": {
    "slideshow": {
     "slide_type": "skip"
    }
   },
   "outputs": [],
   "source": [
    "!rm -f tmp.format.exe && g++ -std=c++20 tmp.format.cpp -lfmt -o tmp.format.exe"
   ]
  },
  {
   "cell_type": "code",
   "execution_count": 53,
   "id": "f9ec29de",
   "metadata": {
    "slideshow": {
     "slide_type": "-"
    }
   },
   "outputs": [
    {
     "name": "stdout",
     "output_type": "stream",
     "text": [
      "The answer is 42.\r\n"
     ]
    }
   ],
   "source": [
    "!./tmp.format.exe"
   ]
  },
  {
   "cell_type": "markdown",
   "id": "94966317",
   "metadata": {
    "slideshow": {
     "slide_type": "slide"
    }
   },
   "source": [
    "## Reordering the values\n",
    "\n",
    "If there are several placeholders in the format string, they are filled one by one with the other arguments. Yet, one can add numbers to reorder or reuse the values."
   ]
  },
  {
   "cell_type": "code",
   "execution_count": 54,
   "id": "1317ec9f",
   "metadata": {
    "slideshow": {
     "slide_type": "subslide"
    }
   },
   "outputs": [
    {
     "name": "stdout",
     "output_type": "stream",
     "text": [
      "Overwriting tmp.format.cpp\n"
     ]
    }
   ],
   "source": [
    "%%file tmp.format.cpp\n",
    "\n",
    "#include <iostream>\n",
    "#include <fmt/core.h>\n",
    "\n",
    "struct Vector3d { double x, y, z ; };\n",
    "\n",
    "int main()\n",
    " {\n",
    "  Vector3d v { 1./2., 2./2., 2./3. } ;\n",
    "  std::cout<<fmt::format(\"{1}{0}{2}{0}{3}\",'|',v.x,v.y,v.z)<<std::endl ;\n",
    " }"
   ]
  },
  {
   "cell_type": "code",
   "execution_count": 55,
   "id": "00574d3d",
   "metadata": {
    "slideshow": {
     "slide_type": "skip"
    }
   },
   "outputs": [],
   "source": [
    "!rm -f tmp.format.exe && g++ -std=c++20 tmp.format.cpp -lfmt -o tmp.format.exe"
   ]
  },
  {
   "cell_type": "code",
   "execution_count": 56,
   "id": "db899ca1",
   "metadata": {
    "slideshow": {
     "slide_type": "-"
    }
   },
   "outputs": [
    {
     "name": "stdout",
     "output_type": "stream",
     "text": [
      "0.5|1|0.6666666666666666\r\n"
     ]
    }
   ],
   "source": [
    "!./tmp.format.exe"
   ]
  },
  {
   "cell_type": "markdown",
   "id": "0ecdc9b1",
   "metadata": {
    "slideshow": {
     "slide_type": "slide"
    }
   },
   "source": [
    "## Formatting modifiers for builtin types\n",
    "\n",
    "Within each placeholder, one can given additional printf-like options, after a `:` separator. See [cppreference.com](https://en.cppreference.com/w/cpp/utility/format/formatter) for a complete documentation."
   ]
  },
  {
   "cell_type": "code",
   "execution_count": 57,
   "id": "456cc105",
   "metadata": {
    "slideshow": {
     "slide_type": "subslide"
    }
   },
   "outputs": [
    {
     "name": "stdout",
     "output_type": "stream",
     "text": [
      "Overwriting tmp.format.cpp\n"
     ]
    }
   ],
   "source": [
    "%%file tmp.format.cpp\n",
    "\n",
    "#include <iostream>\n",
    "#include <fmt/core.h>\n",
    "\n",
    "struct Vector3d { double x, y, z ; };\n",
    "\n",
    "int main()\n",
    " {\n",
    "  Vector3d v { 1./2., 2./2., 2./3. } ;\n",
    "  std::cout<<fmt::format(\"vector: {1:.2f}{0}{2:.2f}{0}{3:.2f}\",'|',v.x,v.y,v.z)<<std::endl ;\n",
    " }"
   ]
  },
  {
   "cell_type": "code",
   "execution_count": 58,
   "id": "2b5921b1",
   "metadata": {
    "slideshow": {
     "slide_type": "skip"
    }
   },
   "outputs": [],
   "source": [
    "!rm -f tmp.format.exe && g++ -std=c++20 tmp.format.cpp -lfmt -o tmp.format.exe"
   ]
  },
  {
   "cell_type": "code",
   "execution_count": 59,
   "id": "261d259e",
   "metadata": {
    "slideshow": {
     "slide_type": "-"
    }
   },
   "outputs": [
    {
     "name": "stdout",
     "output_type": "stream",
     "text": [
      "vector: 0.50|1.00|0.67\r\n"
     ]
    }
   ],
   "source": [
    "!./tmp.format.exe"
   ]
  },
  {
   "cell_type": "markdown",
   "id": "be0938e4",
   "metadata": {
    "slideshow": {
     "slide_type": "slide"
    }
   },
   "source": [
    "## Formatting user-defined types\n",
    "\n",
    "One can override the usual C++ IO streams, and it will be "
   ]
  },
  {
   "cell_type": "code",
   "execution_count": 85,
   "id": "b277d94b",
   "metadata": {
    "slideshow": {
     "slide_type": "subslide"
    }
   },
   "outputs": [
    {
     "name": "stdout",
     "output_type": "stream",
     "text": [
      "Overwriting tmp.format.cpp\n"
     ]
    }
   ],
   "source": [
    "%%file tmp.format.cpp\n",
    "\n",
    "#include <iostream>\n",
    "#include <fmt/format.h>\n",
    "\n",
    "struct Vector3d { double x, y, z ; } ;\n",
    "\n",
    "template <>\n",
    "struct fmt::formatter<Vector3d>\n",
    " {\n",
    "  char sep ;\n",
    "  constexpr auto parse(format_parse_context& ctx)\n",
    "   {\n",
    "    auto it = ctx.begin(), end = ctx.end();\n",
    "    if (it != end && *it != '}') sep = *it++ ;\n",
    "    while (it != end && *it != '}') it++ ;\n",
    "    return it;\n",
    "   }\n",
    "      \n",
    "  // Formats the point p using the parsed format specification (presentation)\n",
    "  // stored in this formatter.\n",
    "  template <typename FormatContext>\n",
    "  auto format( const Vector3d & v, FormatContext & ctx ) const\n",
    "   {\n",
    "    return fmt::format_to(ctx.out(),\"vector: {1:.2f}{0}{2:.2f}{0}{3:.2f}\",sep,v.x,v.y,v.z) ;\n",
    "   }\n",
    "};\n",
    "        \n",
    "int main()\n",
    " {\n",
    "  Vector3d v { 1./2., 2./2., 2./3. } ;\n",
    "  std::string txt = fmt::format(\"{:|}\",v) ;\n",
    "  std::cout<<txt<<std::endl ;\n",
    " }"
   ]
  },
  {
   "cell_type": "code",
   "execution_count": 86,
   "id": "0379b500",
   "metadata": {
    "slideshow": {
     "slide_type": "skip"
    }
   },
   "outputs": [],
   "source": [
    "!rm -f tmp.format.exe && g++ -std=c++20 tmp.format.cpp -lfmt -o tmp.format.exe"
   ]
  },
  {
   "cell_type": "code",
   "execution_count": 87,
   "id": "a3f06873",
   "metadata": {
    "slideshow": {
     "slide_type": "-"
    }
   },
   "outputs": [
    {
     "name": "stdout",
     "output_type": "stream",
     "text": [
      "vector: 0.50|1.00|0.67\r\n"
     ]
    }
   ],
   "source": [
    "!./tmp.format.exe"
   ]
  },
  {
   "cell_type": "markdown",
   "id": "28875326",
   "metadata": {},
   "source": [
    "## The {fmt} library vs the C++20 standard library\n",
    "\n",
    "As of september 2022, *{fmt}* implements nearly all of the C++20 formatting library with the following differences:\n",
    "- Names are defined in the `fmt` namespace instead of `std` to avoid collisions.\n",
    "- Most C++20 chrono types are not supported yet.\n",
    "\n",
    "There are some nice extra features:\n",
    "- `fmt::print()` as a substitute for `std::cout`,\n",
    "- colored output with foreground and background modifiers,\n",
    "- built-in support for formatting containers,\n",
    "- named arguments,\n",
    "- for a user-defined type `T`, a way to make `operator<<(std::ostream &, T const &)` reusable for `fmt::format`."
   ]
  },
  {
   "cell_type": "markdown",
   "id": "0a2f69b0",
   "metadata": {
    "slideshow": {
     "slide_type": "slide"
    }
   },
   "source": [
    "## To remember\n",
    "\n",
    "Thanks to variadic templates and compile-time parsing of the format string, the function `std::format`,\n",
    "- is checking that the types of its arguments are the ones expected,\n",
    "- is faster than `std::printf` or `std::ostream`,\n",
    "- can be extended for user-defined types."
   ]
  },
  {
   "cell_type": "markdown",
   "id": "da4d8217",
   "metadata": {
    "slideshow": {
     "slide_type": "slide"
    }
   },
   "source": [
    "# Questions ?"
   ]
  },
  {
   "cell_type": "markdown",
   "id": "d8ca1291",
   "metadata": {
    "slideshow": {
     "slide_type": "skip"
    }
   },
   "source": [
    "# Availability\n",
    "\n",
    "- MSVC 16.10 is the only compiler that fully supports `std::format`.\n",
    "- Clang 14 (with libc++14) also has almost full support.\n",
    "- GCC 12 doesn't support it yet.\n",
    "- Meanwhile, one can use the [{fmt}](https://github.com/fmtlib/fmt) library, which was the base of the C++20 proposal."
   ]
  },
  {
   "cell_type": "markdown",
   "id": "585f9c06",
   "metadata": {
    "slideshow": {
     "slide_type": "skip"
    }
   },
   "source": [
    "# Exercise\n",
    "\n",
    "In the code below, we would like to choose the number of displayed digits at runtime. Modify the specialized `fmt::formatter<Vector3d>` so that the value given in `main()` (`3`) is taken into account. Trick: as already done, the first step is to make `fmt::formatter<Vector3d>` inherit from `fmt::formatter<double>`."
   ]
  },
  {
   "cell_type": "code",
   "execution_count": 82,
   "id": "27d5983b",
   "metadata": {
    "slideshow": {
     "slide_type": "skip"
    }
   },
   "outputs": [
    {
     "name": "stdout",
     "output_type": "stream",
     "text": [
      "Overwriting tmp.format.cpp\n"
     ]
    }
   ],
   "source": [
    "%%file tmp.format.cpp\n",
    "\n",
    "#include <iostream>\n",
    "#include <fmt/format.h>\n",
    "\n",
    "struct Vector3d { double x, y, z ; };\n",
    "\n",
    "template <>\n",
    "struct fmt::formatter<Vector3d> : formatter<double>\n",
    " {\n",
    "  char sep ;\n",
    "  constexpr auto parse(format_parse_context& ctx)\n",
    "   {\n",
    "    auto it = ctx.begin(), end = ctx.end();\n",
    "    // HERE YOU SHOULD EXTRACT THE SEPARATOR,\n",
    "    // THEN CALL formatter<double>::parse(ctx)\n",
    "    // SO TO NOT DISTURB THE LATTER WITH THE\n",
    "    // SEPARATOR LETTER, YOU WILL NEED\n",
    "    // fmt::format_parse_context::advance_to()\n",
    "   }\n",
    "      \n",
    "  // Formats the point p using the parsed format specification (presentation)\n",
    "  // stored in this formatter.\n",
    "  template <typename FormatContext>\n",
    "  auto format( Vector3d const & v, FormatContext & ctx ) const -> decltype(ctx.out())\n",
    "   {\n",
    "    format_to(ctx.out(),\"vector: \") ;\n",
    "    // HERE YOU SHOULD MIX CALLS TO fmt::format_to()\n",
    "    // AND INHERITED formatter<double>::format()\n",
    "    return ctx.out() ;\n",
    "   }\n",
    "};\n",
    "        \n",
    "int main()\n",
    " {\n",
    "  Vector3d v { 1./2., 2./2., 2./3. } ;\n",
    "  std::string txt = fmt::format(\"{:|.3f}\",v) ;\n",
    "  std::cout<<txt<<std::endl ;\n",
    " }"
   ]
  },
  {
   "cell_type": "code",
   "execution_count": 83,
   "id": "ce5179ce",
   "metadata": {
    "slideshow": {
     "slide_type": "skip"
    }
   },
   "outputs": [],
   "source": [
    "!rm -f tmp.format.exe && g++ -std=c++20 tmp.format.cpp -lfmt -o tmp.format.exe"
   ]
  },
  {
   "cell_type": "code",
   "execution_count": 84,
   "id": "d68be415",
   "metadata": {
    "slideshow": {
     "slide_type": "skip"
    }
   },
   "outputs": [
    {
     "name": "stdout",
     "output_type": "stream",
     "text": [
      "vector: 0.500|1.000|0.667\r\n"
     ]
    }
   ],
   "source": [
    "!./tmp.format.exe"
   ]
  },
  {
   "cell_type": "markdown",
   "id": "0bee68eb",
   "metadata": {
    "slideshow": {
     "slide_type": "skip"
    }
   },
   "source": [
    "# Sources\n",
    "\n",
    "- [cppreference.com](https://en.cppreference.com/w/cpp/utility/format/)\n",
    "- [Modernes C++](https://www.modernescpp.com/index.php/std-format-in-c-20/)\n",
    "- [Madrid C/C++](https://madridccppug.github.io/posts/stdformat/)"
   ]
  },
  {
   "cell_type": "markdown",
   "id": "f7d2f62f",
   "metadata": {
    "slideshow": {
     "slide_type": "skip"
    }
   },
   "source": [
    "© *CNRS 2022*  \n",
    "*Assembled and written by David Chamont, with corrections from Bernhard Manfred Gruber, this work is made available according to the terms of the*  \n",
    "[*Creative Commons License - Attribution - NonCommercial - ShareAlike 4.0 International*](http://creativecommons.org/licenses/by-nc-sa/4.0/)"
   ]
  }
 ],
 "metadata": {
  "celltoolbar": "Diaporama",
  "kernelspec": {
   "display_name": "Python 3 (ipykernel)",
   "language": "python",
   "name": "python3"
  },
  "language_info": {
   "codemirror_mode": {
    "name": "ipython",
    "version": 3
   },
   "file_extension": ".py",
   "mimetype": "text/x-python",
   "name": "python",
   "nbconvert_exporter": "python",
   "pygments_lexer": "ipython3",
   "version": "3.9.13"
  }
 },
 "nbformat": 4,
 "nbformat_minor": 5
}
