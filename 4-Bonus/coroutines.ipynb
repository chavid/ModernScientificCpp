{
 "cells": [
  {
   "cell_type": "markdown",
   "metadata": {
    "slideshow": {
     "slide_type": "slide"
    }
   },
   "source": [
    "# C++20 improved asynchronism with Coroutines\n",
    "\n",
    "Coroutines are functions whose execution may be repeatedly suspended and resumed, with the possibility to exchange data each time."
   ]
  },
  {
   "cell_type": "markdown",
   "metadata": {
    "slideshow": {
     "slide_type": "subslide"
    }
   },
   "source": [
    "**C++ Coroutines are asymmetric and stackless**: they suspend execution by returning to the caller, and the data that is required to resume execution is stored separately from the stack."
   ]
  },
  {
   "cell_type": "markdown",
   "metadata": {
    "slideshow": {
     "slide_type": "subslide"
    }
   },
   "source": [
    "Currently, only a low level machinery is provided, so to allows library designers to implement higher-level tools such as generators, goroutines, tasks, and more."
   ]
  },
  {
   "cell_type": "markdown",
   "metadata": {
    "slideshow": {
     "slide_type": "subslide"
    }
   },
   "source": [
    "Coroutines are well-suited for implementing event-driven applications or cooperative multitasking, and components such as iterators, infinite lists and pipes. BEWARE: they are usable only in environments where exceptions are forbidden or not available."
   ]
  },
  {
   "cell_type": "markdown",
   "metadata": {
    "slideshow": {
     "slide_type": "slide"
    }
   },
   "source": [
    "## New keywords\n",
    "\n",
    "A function is a **coroutine** if it uses some of the three new keywords : `co_await`, `co_yield` or `co_return`."
   ]
  },
  {
   "cell_type": "code",
   "execution_count": 1,
   "metadata": {
    "slideshow": {
     "slide_type": "subslide"
    }
   },
   "outputs": [
    {
     "name": "stdout",
     "output_type": "stream",
     "text": [
      "Writing tmp.generator.h\n"
     ]
    }
   ],
   "source": [
    "%%file tmp.generator.h\n",
    "\n",
    "#include <coroutine>\n",
    "\n",
    "template <typename T>\n",
    "struct generator\n",
    " {\n",
    "  struct promise_type ;\n",
    "  using coro_handle = std::coroutine_handle<promise_type> ;\n",
    "\n",
    "  struct promise_type\n",
    "   {\n",
    "    std::suspend_always yield_value( T value ) { m_value = value ; return {} ; }\n",
    "    std::suspend_always initial_suspend() { return {} ; }\n",
    "    std::suspend_always final_suspend () { return {} ; }\n",
    "    std::suspend_never return_void() { return {} ; }\n",
    "    generator get_return_object () { return { coro_handle::from_promise(*this) } ; }\n",
    "    void unhandled_exception () { return ; }\n",
    "    T m_value ;\n",
    "   } ;\n",
    "    \n",
    "  coro_handle handle ;\n",
    "  generator( coro_handle h ) : handle(h) {}\n",
    "  ~generator() { if (handle) { handle.destroy() ; } }\n",
    "\n",
    "  bool resume()\n",
    "   {\n",
    "    if (not handle.done()) { handle.resume() ; }\n",
    "    return not handle.done() ;\n",
    "   } ;\n",
    "  T get()\n",
    "   { return handle.promise().m_value ; }\n",
    " } ;"
   ]
  },
  {
   "cell_type": "code",
   "execution_count": 2,
   "metadata": {
    "slideshow": {
     "slide_type": "subslide"
    }
   },
   "outputs": [
    {
     "name": "stdout",
     "output_type": "stream",
     "text": [
      "Writing tmp.make-gen.h\n"
     ]
    }
   ],
   "source": [
    "%%file tmp.make-gen.h\n",
    "\n",
    "#include \"tmp.generator.h\"\n",
    "\n",
    "generator<int> make_gen( int start = 0, int step = 1 )\n",
    " {\n",
    "  auto value = start ;\n",
    "  while (true)\n",
    "   {\n",
    "    co_yield value ;\n",
    "    value += step ;\n",
    "   } \n",
    " }"
   ]
  },
  {
   "cell_type": "code",
   "execution_count": 3,
   "metadata": {
    "slideshow": {
     "slide_type": "subslide"
    }
   },
   "outputs": [
    {
     "name": "stdout",
     "output_type": "stream",
     "text": [
      "Writing tmp.coroutines.cpp\n"
     ]
    }
   ],
   "source": [
    "%%file tmp.coroutines.cpp\n",
    "\n",
    "#include \"tmp.make-gen.h\"\n",
    "#include <iostream>\n",
    "\n",
    "int main()\n",
    " {    \n",
    "  auto gen = make_gen(100, -10) ;\n",
    "  for ( int i = 0 ; i <= 5 ; ++i )\n",
    "   { gen.resume() ; std::cout << gen.get() << \" \" ; }\n",
    "  std::cout << std::endl;\n",
    " }"
   ]
  },
  {
   "cell_type": "code",
   "execution_count": 4,
   "metadata": {
    "slideshow": {
     "slide_type": "skip"
    }
   },
   "outputs": [],
   "source": [
    "!rm -f tmp.coroutines.exe && g++ -std=c++20 -fcoroutines -fno-exceptions tmp.coroutines.cpp -o tmp.coroutines.exe"
   ]
  },
  {
   "cell_type": "code",
   "execution_count": 5,
   "metadata": {
    "slideshow": {
     "slide_type": "fragment"
    }
   },
   "outputs": [
    {
     "name": "stdout",
     "output_type": "stream",
     "text": [
      "100 90 80 70 60 50 \r\n"
     ]
    }
   ],
   "source": [
    "!./tmp.coroutines.exe"
   ]
  },
  {
   "cell_type": "markdown",
   "metadata": {
    "slideshow": {
     "slide_type": "slide"
    }
   },
   "source": [
    "## Restrictions\n",
    "\n",
    "* Incompatible with exceptions\n",
    "* Coroutines cannot use: variadic arguments, plain return statements, placeholder return types (auto or concept).\n",
    "* They cannot be coroutines: constexpr functions, constructors, destructors, main function."
   ]
  },
  {
   "cell_type": "markdown",
   "metadata": {
    "slideshow": {
     "slide_type": "slide"
    }
   },
   "source": [
    "## Availability... almost here\n",
    "\n",
    "* Visual C++ and Clang already support major portions, in the namespace `std::experimental`.\n",
    "* GCC 10: coroutines isn't exposed with `-std=c++20`, but for now explicitly requires the `-fcoroutines -fno-exceptions` flags to be set.\n",
    "* C++23 standard library should introduce turnkey elements such as `std::generator`.\n",
    "* Meanwhile, a well known third-party library is [https://github.com/lewissbaker/cppcoro](cppcoro)."
   ]
  },
  {
   "cell_type": "markdown",
   "metadata": {
    "slideshow": {
     "slide_type": "skip"
    }
   },
   "source": [
    "## Sources\n",
    "\n",
    "* [Cpp Reference](https://en.cppreference.com/w/cpp/language/coroutines)\n",
    "* [C++ Coroutines Technical Specification](http://www.open-std.org/jtc1/sc22/wg21/docs/papers/2017/n4680.pdf)\n",
    "* [Lewis Baker](https://github.com/lewissbaker/cppcoro)\n",
    "* [GCC Coroutines Wiki](https://gcc.gnu.org/wiki/cxx-coroutines)"
   ]
  },
  {
   "cell_type": "markdown",
   "metadata": {
    "slideshow": {
     "slide_type": "skip"
    }
   },
   "source": [
    "© *CNRS 2020*  \n",
    "*Assembled and written by David Chamont, this work is made available according to the terms of the*  \n",
    "[*Creative Commons License - Attribution - NonCommercial - ShareAlike 4.0 International*](http://creativecommons.org/licenses/by-nc-sa/4.0/)"
   ]
  }
 ],
 "metadata": {
  "celltoolbar": "Diaporama",
  "kernelspec": {
   "display_name": "Python 3 (ipykernel)",
   "language": "python",
   "name": "python3"
  },
  "language_info": {
   "codemirror_mode": {
    "name": "ipython",
    "version": 3
   },
   "file_extension": ".py",
   "mimetype": "text/x-python",
   "name": "python",
   "nbconvert_exporter": "python",
   "pygments_lexer": "ipython3",
   "version": "3.10.6"
  },
  "vscode": {
   "interpreter": {
    "hash": "e7370f93d1d0cde622a1f8e1c04877d8463912d04d973331ad4851f04de6915a"
   }
  }
 },
 "nbformat": 4,
 "nbformat_minor": 4
}
