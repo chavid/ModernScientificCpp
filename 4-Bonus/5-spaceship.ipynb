{
 "cells": [
  {
   "cell_type": "markdown",
   "id": "6ea77bff",
   "metadata": {
    "slideshow": {
     "slide_type": "slide"
    }
   },
   "source": [
    "# The spaceship operator"
   ]
  },
  {
   "cell_type": "markdown",
   "id": "713dfb5c",
   "metadata": {
    "slideshow": {
     "slide_type": "slide"
    }
   },
   "source": [
    "## Motivation\n",
    "\n",
    "\n",
    "There are frequent situations where one needs `<` operator for a home-made class. Typically, if you want to make a `std::vector` of such objects, and sort it. But also if you want to use it as a key for e.g. `std::set` or `std::map`.\n",
    "\n",
    "For completeness, one should also add `>`, `>=`, and `<=`, implemented reusing either `<` and `==`, or `<` and `>`.\n",
    "\n",
    "Those operators should be defined as free functions, optionally friends, so that left and right arguments will be similarly convertible.\n",
    "\n",
    "Much boilerplate code to write. Too much."
   ]
  },
  {
   "cell_type": "markdown",
   "id": "fcdbb031",
   "metadata": {
    "slideshow": {
     "slide_type": "slide"
    }
   },
   "source": [
    "## Idea\n",
    "\n",
    "C++20 introduces the *spaceship* operator : `<=>`. Well, the real official name is *three-way comparison operator*.\n",
    "\n",
    "It is provided by default for all predefined types, and returns *something* which can be compared to `0` (similar to `std::strcmp`), meaning *lower than* if this *something* is lower than `0`, *greater than* if it is greater than `0`, and *equivalent* if it is equal `0`:"
   ]
  },
  {
   "cell_type": "code",
   "execution_count": 27,
   "id": "642b0cee",
   "metadata": {
    "slideshow": {
     "slide_type": "subslide"
    }
   },
   "outputs": [
    {
     "name": "stdout",
     "output_type": "stream",
     "text": [
      "Overwriting tmp.compare.h\n"
     ]
    }
   ],
   "source": [
    "%%file tmp.compare.h\n",
    "\n",
    "#include <iostream>\n",
    "\n",
    "template <typename T>\n",
    "void compare( T lhs, T rhs )\n",
    " {\n",
    "  auto result = (lhs<=>rhs) ;\n",
    "  if (result<0) std::cout<<lhs<<\" < \"<<rhs<<std::endl ;\n",
    "  else if (result>0) std::cout<<lhs<<\" > \"<<rhs<<std::endl ;\n",
    "  else if (result==0) std::cout<<lhs<<\" ~ \"<<rhs<<std::endl ;\n",
    "  else std::cout<<lhs<<\" ? \"<<rhs<<std::endl ;\n",
    " }"
   ]
  },
  {
   "cell_type": "code",
   "execution_count": 28,
   "id": "ff0bd405",
   "metadata": {
    "slideshow": {
     "slide_type": "subslide"
    }
   },
   "outputs": [
    {
     "name": "stdout",
     "output_type": "stream",
     "text": [
      "Overwriting tmp.spaceship.cpp\n"
     ]
    }
   ],
   "source": [
    "%%file tmp.spaceship.cpp\n",
    "\n",
    "#include \"tmp.compare.h\"\n",
    "\n",
    "int main()\n",
    " {\n",
    "  compare(1,2) ;\n",
    "  compare(2,2) ;\n",
    "  compare(2,1) ;\n",
    " }"
   ]
  },
  {
   "cell_type": "code",
   "execution_count": 29,
   "id": "6d2fa1d8",
   "metadata": {
    "slideshow": {
     "slide_type": "skip"
    }
   },
   "outputs": [],
   "source": [
    "!rm -f tmp.spaceship.exe && g++ -std=c++20 tmp.spaceship.cpp -o tmp.spaceship.exe"
   ]
  },
  {
   "cell_type": "code",
   "execution_count": 30,
   "id": "f9ec29de",
   "metadata": {
    "slideshow": {
     "slide_type": "-"
    }
   },
   "outputs": [
    {
     "name": "stdout",
     "output_type": "stream",
     "text": [
      "1 < 2\r\n",
      "2 ~ 2\r\n",
      "2 > 1\r\n"
     ]
    }
   ],
   "source": [
    "!./tmp.spaceship.exe"
   ]
  },
  {
   "cell_type": "markdown",
   "id": "9f09579b",
   "metadata": {
    "slideshow": {
     "slide_type": "slide"
    }
   },
   "source": [
    "## Different kinds of ordering\n",
    "\n",
    "The real return type of `<=>` for integers is `std::strong_ordering`: whatever the values, you will always get `true` for exactly one test among `<0`, `==0`, and `>0`.\n",
    "\n",
    "On the contrary, the return type of `<=>` for floating point numbers is `std::partial_ordering`, because sometimes all tests may return `false`, typically if one number is `NaN`."
   ]
  },
  {
   "cell_type": "code",
   "execution_count": 31,
   "id": "873f1393",
   "metadata": {
    "slideshow": {
     "slide_type": "subslide"
    }
   },
   "outputs": [
    {
     "name": "stdout",
     "output_type": "stream",
     "text": [
      "Overwriting tmp.spaceship.cpp\n"
     ]
    }
   ],
   "source": [
    "%%file tmp.spaceship.cpp\n",
    "\n",
    "#include \"tmp.compare.h\"\n",
    "\n",
    "int main()\n",
    " {\n",
    "  compare(+0.,-0.) ;\n",
    "  compare(0./1.,1./0.) ;\n",
    "  compare(0.,0./0.) ;\n",
    " }"
   ]
  },
  {
   "cell_type": "code",
   "execution_count": 32,
   "id": "8934a197",
   "metadata": {
    "slideshow": {
     "slide_type": "skip"
    }
   },
   "outputs": [],
   "source": [
    "!rm -f tmp.spaceship.exe && g++ -std=c++20 tmp.spaceship.cpp -o tmp.spaceship.exe"
   ]
  },
  {
   "cell_type": "code",
   "execution_count": 33,
   "id": "870ad5cc",
   "metadata": {
    "slideshow": {
     "slide_type": "-"
    }
   },
   "outputs": [
    {
     "name": "stdout",
     "output_type": "stream",
     "text": [
      "0 ~ -0\r\n",
      "0 < inf\r\n",
      "0 ? -nan\r\n"
     ]
    }
   ],
   "source": [
    "!./tmp.spaceship.exe"
   ]
  },
  {
   "cell_type": "markdown",
   "id": "8b75716f",
   "metadata": {
    "slideshow": {
     "slide_type": "subslide"
    }
   },
   "source": [
    "Between the two, we have a class `std::weak_ordering`, where `==0` mean that the two compared values are equivalent from a ranking point of view, but not necessarily *equal*: in a given expression, one cannot substitutes one value for the other and be sure to have the same result.\n",
    "\n",
    "I am not aware of some builtin type whose `<=>` would return an instance of `std::weak_ordering`, but it may make sense for some home-made class, such as the following."
   ]
  },
  {
   "cell_type": "markdown",
   "id": "2e12d712",
   "metadata": {
    "slideshow": {
     "slide_type": "slide"
    }
   },
   "source": [
    "## Home-made class\n",
    "\n",
    "In the example below, we define a very basic class for positive rational numbers, and provide an implementation of `<=>`:"
   ]
  },
  {
   "cell_type": "code",
   "execution_count": 34,
   "id": "bafabbec",
   "metadata": {
    "slideshow": {
     "slide_type": "subslide"
    }
   },
   "outputs": [
    {
     "name": "stdout",
     "output_type": "stream",
     "text": [
      "Writing tmp.rational.h\n"
     ]
    }
   ],
   "source": [
    "%%file tmp.rational.h\n",
    "\n",
    "#include <iostream>\n",
    "\n",
    "struct Rational\n",
    " {\n",
    "  unsigned n, d ;\n",
    "  \n",
    "  friend std::weak_ordering operator<=>( Rational const & lhs, Rational const & rhs )\n",
    "   { return (lhs.n*rhs.d)<=>(lhs.d*rhs.n) ; }\n",
    "\n",
    "  friend std::ostream & operator<<( std::ostream & os, Rational const & r )\n",
    "   { return (os<<r.n<<'/'<<r.d) ; }\n",
    "} ;"
   ]
  },
  {
   "cell_type": "code",
   "execution_count": 37,
   "id": "be3ac8ff",
   "metadata": {
    "slideshow": {
     "slide_type": "skip"
    }
   },
   "outputs": [
    {
     "name": "stdout",
     "output_type": "stream",
     "text": [
      "Overwriting tmp.spaceship.cpp\n"
     ]
    }
   ],
   "source": [
    "%%file tmp.spaceship.cpp\n",
    "\n",
    "#include \"tmp.rational.h\"\n",
    "#include \"tmp.compare.h\"\n",
    "\n",
    "int main()\n",
    " {  \n",
    "  compare<Rational>({ 3, 4 },{ 2, 3 }) ;\n",
    "  compare<Rational>({ 3, 6 },{ 2, 3 }) ;\n",
    "  compare<Rational>({ 1, 2 },{ 2, 4 }) ;\n",
    " }"
   ]
  },
  {
   "cell_type": "code",
   "execution_count": 38,
   "id": "1e4df473",
   "metadata": {
    "slideshow": {
     "slide_type": "skip"
    }
   },
   "outputs": [],
   "source": [
    "!rm -f tmp.spaceship.exe && g++ -std=c++20 tmp.spaceship.cpp -o tmp.spaceship.exe"
   ]
  },
  {
   "cell_type": "code",
   "execution_count": 39,
   "id": "273ba9cb",
   "metadata": {
    "slideshow": {
     "slide_type": "-"
    }
   },
   "outputs": [
    {
     "name": "stdout",
     "output_type": "stream",
     "text": [
      "3/4 > 2/3\r\n",
      "3/6 < 2/3\r\n",
      "1/2 ~ 2/4\r\n"
     ]
    }
   ],
   "source": [
    "!./tmp.spaceship.exe"
   ]
  },
  {
   "cell_type": "markdown",
   "id": "3ef2d1a7",
   "metadata": {
    "slideshow": {
     "slide_type": "subslide"
    }
   },
   "source": [
    "Despites `<=>` for `unsigned` returning a `std::strong_ordering`, we prefer here to convert it to `std::weak_ordering`. This way, we emphasize that if `a<=>b` is equal to `0`, it only means that `a` and `b` are logically equivalent, but may lead to different results in other expressions (e.g. printing them)."
   ]
  },
  {
   "cell_type": "markdown",
   "id": "a9cbb964",
   "metadata": {
    "slideshow": {
     "slide_type": "subslide"
    }
   },
   "source": [
    "As one can see from the following code, we have defined only `<=>`, but `<` and `>` (and `<=` and `=>`) work as well. The compiler can rephrase any use of the latter operators in terms of {\\it <=>}. Of course, the author of {\\ it Rational} can also provide his own implementations.\n",
    "\n",
    "The compiler is NOT able to rephrase `==` and `!=` in terms of `<=>`. Those operators are generally expected to mean *equal*, rather than *equivalent*. When `<=>` does not enable a strong order, it is generally advised not to define `==` in terms of `<=>`."
   ]
  },
  {
   "cell_type": "code",
   "execution_count": 27,
   "id": "83593db8",
   "metadata": {
    "slideshow": {
     "slide_type": "subslide"
    }
   },
   "outputs": [
    {
     "name": "stdout",
     "output_type": "stream",
     "text": [
      "Overwriting tmp.compare.h\n"
     ]
    }
   ],
   "source": [
    "%%file tmp.compare.h\n",
    "\n",
    "#include <iostream>\n",
    "\n",
    "template <typename T>\n",
    "void compare( T lhs, T rhs )\n",
    " {\n",
    "  if (lhs<rhs) std::cout<<lhs<<\" < \"<<rhs<<std::endl ;\n",
    "  else if (lhs>rhs) std::cout<<lhs<<\" > \"<<rhs<<std::endl ;\n",
    "  else if ((lhs<=>rhs)==0) std::cout<<lhs<<\" ~ \"<<rhs<<std::endl ;\n",
    "  else std::cout<<lhs<<\" ? \"<<rhs<<std::endl ;\n",
    " }"
   ]
  },
  {
   "cell_type": "markdown",
   "id": "c46adfe8",
   "metadata": {
    "slideshow": {
     "slide_type": "subslide"
    }
   },
   "source": [
    "The compiler is NOT able to rephrase `==` and `!=` in terms of `<=>`. Those operators are generally expected to mean *equal*, rather than *equivalent*. And if you add some `==` operator to your class, it is generally adviced NOT to implement it in terms of `<=>`, especially if `<=>` does not return an instance of `std::strong_ordering`."
   ]
  },
  {
   "cell_type": "markdown",
   "id": "b1512141",
   "metadata": {
    "slideshow": {
     "slide_type": "slide"
    }
   },
   "source": [
    "## Default `<=>` implementation\n",
    "\n",
    "One can ask the compiler to provide some default implementation for `<=>` and/or `==`. Logically enough, the default `<=>` will compare the first member variable of the two objects, and goes on to the next member variable as long as the current ones are equivalent.\n",
    "\n",
    "In the previous example, that would not be relevant, because it would compare the numerators first, and conclude that `3/6` is greater than `2/3`:"
   ]
  },
  {
   "cell_type": "code",
   "execution_count": 46,
   "id": "0478ed02",
   "metadata": {
    "slideshow": {
     "slide_type": "subslide"
    }
   },
   "outputs": [
    {
     "name": "stdout",
     "output_type": "stream",
     "text": [
      "Overwriting tmp.rational.h\n"
     ]
    }
   ],
   "source": [
    "%%file tmp.rational.h\n",
    "\n",
    "#include <iostream>\n",
    "\n",
    "struct Rational\n",
    " {\n",
    "  unsigned n, d ;\n",
    "  \n",
    "  friend auto operator<=>( Rational const &, Rational const & ) = default ;\n",
    "\n",
    "  friend std::ostream & operator<<( std::ostream & os, Rational const & r )\n",
    "   { return (os<<r.n<<'/'<<r.d) ; }\n",
    "} ;"
   ]
  },
  {
   "cell_type": "code",
   "execution_count": 47,
   "id": "bfbcf1e3",
   "metadata": {
    "slideshow": {
     "slide_type": "subslide"
    }
   },
   "outputs": [
    {
     "name": "stdout",
     "output_type": "stream",
     "text": [
      "Overwriting tmp.spaceship.cpp\n"
     ]
    }
   ],
   "source": [
    "%%file tmp.spaceship.cpp\n",
    "\n",
    "#include \"tmp.rational.h\"\n",
    "#include \"tmp.compare.h\"\n",
    "\n",
    "int main()\n",
    " {  \n",
    "  Rational r1 { 3, 6 }, r2 { 2, 3 } ;\n",
    "  compare(r1,r2) ;\n",
    " }"
   ]
  },
  {
   "cell_type": "code",
   "execution_count": 48,
   "id": "3f2fad56",
   "metadata": {
    "slideshow": {
     "slide_type": "skip"
    }
   },
   "outputs": [],
   "source": [
    "!rm -f tmp.spaceship.exe && g++ -std=c++20 tmp.spaceship.cpp -o tmp.spaceship.exe"
   ]
  },
  {
   "cell_type": "code",
   "execution_count": 49,
   "id": "14642b0f",
   "metadata": {
    "slideshow": {
     "slide_type": "-"
    }
   },
   "outputs": [
    {
     "name": "stdout",
     "output_type": "stream",
     "text": [
      "3/6 > 2/3\r\n"
     ]
    }
   ],
   "source": [
    "!./tmp.spaceship.exe"
   ]
  },
  {
   "cell_type": "markdown",
   "id": "5227de21",
   "metadata": {
    "slideshow": {
     "slide_type": "subslide"
    }
   },
   "source": [
    "On the contrary, for some tuple-like class, it may make sense:"
   ]
  },
  {
   "cell_type": "code",
   "execution_count": 69,
   "id": "4db9d052",
   "metadata": {
    "slideshow": {
     "slide_type": "subslide"
    }
   },
   "outputs": [
    {
     "name": "stdout",
     "output_type": "stream",
     "text": [
      "Overwriting tmp.grade.h\n"
     ]
    }
   ],
   "source": [
    "%%file tmp.grade.h\n",
    "\n",
    "#include <iostream>\n",
    "#include <string>\n",
    "\n",
    "struct Grade\n",
    " {\n",
    "  double number ;\n",
    "  char letter ;\n",
    "  std::string name ;\n",
    "  \n",
    "  friend auto operator<=>( Grade const &,  Grade const & ) = default ;\n",
    "\n",
    "  friend std::ostream & operator<<( std::ostream & os, Grade const & g )\n",
    "   { return (os<<g.letter<<\", \"<<g.number<<\", \"<<g.name) ; }\n",
    " } ;"
   ]
  },
  {
   "cell_type": "code",
   "execution_count": 70,
   "id": "fcf9a5fd",
   "metadata": {
    "slideshow": {
     "slide_type": "-"
    }
   },
   "outputs": [
    {
     "name": "stdout",
     "output_type": "stream",
     "text": [
      "Overwriting tmp.spaceship.cpp\n"
     ]
    }
   ],
   "source": [
    "%%file tmp.spaceship.cpp\n",
    "\n",
    "#include \"tmp.grade.h\"\n",
    "#include <set>\n",
    "\n",
    "int main()\n",
    " {\n",
    "  std::set<Grade> grades\n",
    "   {\n",
    "     { 19, 'A', \"Djamila\" },\n",
    "     { 12, 'C', \"Charles\" },\n",
    "     { 16.5, 'A', \"Marc\" },\n",
    "   } ;\n",
    "  \n",
    "  for ( auto const & grade : grades )\n",
    "   { std::cout<<grade<<std::endl ; }\n",
    " }"
   ]
  },
  {
   "cell_type": "code",
   "execution_count": 71,
   "id": "4757ce37",
   "metadata": {
    "slideshow": {
     "slide_type": "-"
    }
   },
   "outputs": [],
   "source": [
    "!rm -f tmp.spaceship.exe && g++ -std=c++20 tmp.spaceship.cpp -o tmp.spaceship.exe"
   ]
  },
  {
   "cell_type": "code",
   "execution_count": 72,
   "id": "40d62bc1",
   "metadata": {
    "slideshow": {
     "slide_type": "-"
    }
   },
   "outputs": [
    {
     "name": "stdout",
     "output_type": "stream",
     "text": [
      "C, 12, Charles\r\n",
      "A, 16.5, Marc\r\n",
      "A, 19, Djamila\r\n"
     ]
    }
   ],
   "source": [
    "!./tmp.spaceship.exe"
   ]
  },
  {
   "cell_type": "markdown",
   "id": "bc47ffce",
   "metadata": {
    "slideshow": {
     "slide_type": "subslide"
    }
   },
   "source": [
    "We see above that the definition of `<=>` has been provided, and the use of `<` by `std::set` to sorts its elements has been rewritten by the compiler in terms of {\\it <=>}.\n",
    "\n",
    "Worth to note : if {\\it <=>} is defaulted and no {\\it ==} is defined, then the compiler also provides a defaulted {\\it ==}. I guess that in most cases, the default implementation of `<=>` will return some instance of `std::strong_ordering`, and it makes sense to also get `==`."
   ]
  },
  {
   "cell_type": "markdown",
   "id": "94966317",
   "metadata": {
    "slideshow": {
     "slide_type": "slide"
    }
   },
   "source": [
    "## Summary\n",
    "\n",
    "- Defining `<=>` allows you to use `<`, `>`, `<=`, and `>=` as well.\n",
    "- The standard library defines a few different kinds of order (strong, weak and partial).\n",
    "- Do not confuse equivalence (`(a<=>b)==0`) with equality (`a==b`)."
   ]
  },
  {
   "cell_type": "markdown",
   "id": "da4d8217",
   "metadata": {
    "slideshow": {
     "slide_type": "slide"
    }
   },
   "source": [
    "# Questions ?"
   ]
  },
  {
   "cell_type": "markdown",
   "id": "189cda5e",
   "metadata": {
    "slideshow": {
     "slide_type": "skip"
    }
   },
   "source": [
    "# Exercise\n",
    "\n",
    "We are not fully happy with the default implementation of `<=>`for our `Complex` class below.\n",
    "1. What happens if I ask the return type of `<=>` to be `std::string_ordering` instead of `auto` ? Why ? \n",
    "1. Modify it so that the ordering is based on the norm of the complexes.\n",
    "1. Because you do not use any more the default implementation of `<=>` you had to provide also an implementation for `==`. What happens if you deduce it from `<=>` (using `(((*this)<=>other)==0)`) ?\n",
    "1. Try to restore the default implementation for `==` only."
   ]
  },
  {
   "cell_type": "code",
   "execution_count": 73,
   "id": "72ef970d",
   "metadata": {
    "slideshow": {
     "slide_type": "skip"
    }
   },
   "outputs": [
    {
     "name": "stdout",
     "output_type": "stream",
     "text": [
      "Overwriting tmp.spaceship.cpp\n"
     ]
    }
   ],
   "source": [
    "%%file tmp.spaceship.cpp\n",
    "\n",
    "#include <iostream>\n",
    "#include <cmath>\n",
    "\n",
    "struct Complex\n",
    " {\n",
    "  double r, i ;\n",
    "  double norm() const { return std::sqrt(r*r+i*i) ; }\n",
    "  friend auto operator<=>( Complex const &, Complex const & ) = default ;\n",
    " } ;\n",
    " \n",
    "std::ostream & operator<<( std::ostream & os, std::partial_ordering cmp )\n",
    " { return (os<<'<'<<(cmp<0)<<'|'<<(cmp==0)<<'|'<<(cmp>0)<<'>') ; }\n",
    "\n",
    "std::ostream & operator<<( std::ostream & os, Complex const & c )\n",
    " { return (os<<c.r<<'+'<<c.i<<'i') ; }\n",
    "\n",
    "template <typename T>\n",
    "void compare( T lhs, T rhs )\n",
    " {\n",
    "  std::cout<<std::endl ;\n",
    "  std::cout<<lhs<<\" ==  \"<<rhs<<\" : \"<<(lhs==rhs)<<std::endl ;\n",
    "  std::cout<<lhs<<\" <=> \"<<rhs<<\" : \"<<(lhs<=>rhs)<<std::endl ;\n",
    " }\n",
    "\n",
    "int main()\n",
    " {  \n",
    "  compare<Complex>({ 1., 2. },{ 1.5, 1.5 }) ;\n",
    "  compare<Complex>({ 1., 0. },{ 0., 1. }) ;\n",
    " }"
   ]
  },
  {
   "cell_type": "code",
   "execution_count": 74,
   "id": "97b435ef",
   "metadata": {
    "slideshow": {
     "slide_type": "skip"
    }
   },
   "outputs": [],
   "source": [
    "!rm -f tmp.spaceship.exe && g++ -std=c++20 tmp.spaceship.cpp -o tmp.spaceship.exe"
   ]
  },
  {
   "cell_type": "code",
   "execution_count": 75,
   "id": "cccc0c91",
   "metadata": {
    "slideshow": {
     "slide_type": "skip"
    }
   },
   "outputs": [
    {
     "name": "stdout",
     "output_type": "stream",
     "text": [
      "\r\n",
      "1+2i ==  1.5+1.5i : 0\r\n",
      "1+2i <=> 1.5+1.5i : <1|0|0>\r\n",
      "\r\n",
      "1+0i ==  0+1i : 0\r\n",
      "1+0i <=> 0+1i : <0|0|1>\r\n"
     ]
    }
   ],
   "source": [
    "!./tmp.spaceship.exe"
   ]
  },
  {
   "cell_type": "markdown",
   "id": "66b01d11",
   "metadata": {
    "slideshow": {
     "slide_type": "skip"
    }
   },
   "source": [
    "# Sources\n",
    "\n",
    "- https://blog.tartanllama.xyz/spaceship-operator/\n",
    "- https://iq.opengenus.org/spaceship-operator-cpp/\n",
    "- https://www.jonathanmueller.dev/talk/meetingcpp2019/\n",
    "- https://quuxplusone.github.io/blog/2021/10/22/hidden-friend-outlives-spaceship/"
   ]
  },
  {
   "cell_type": "markdown",
   "id": "f7d2f62f",
   "metadata": {
    "slideshow": {
     "slide_type": "skip"
    }
   },
   "source": [
    "© *CNRS 2022*  \n",
    "*Assembled and written by David Chamont, with corrections from Bernhard Manfred Gruber, this work is made available according to the terms of the*  \n",
    "[*Creative Commons License - Attribution - NonCommercial - ShareAlike 4.0 International*](http://creativecommons.org/licenses/by-nc-sa/4.0/)"
   ]
  }
 ],
 "metadata": {
  "celltoolbar": "Diaporama",
  "kernelspec": {
   "display_name": "Python 3 (ipykernel)",
   "language": "python",
   "name": "python3"
  },
  "language_info": {
   "codemirror_mode": {
    "name": "ipython",
    "version": 3
   },
   "file_extension": ".py",
   "mimetype": "text/x-python",
   "name": "python",
   "nbconvert_exporter": "python",
   "pygments_lexer": "ipython3",
   "version": "3.9.13"
  }
 },
 "nbformat": 4,
 "nbformat_minor": 5
}
