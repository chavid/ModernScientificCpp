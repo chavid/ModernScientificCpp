{
 "cells": [
  {
   "cell_type": "markdown",
   "metadata": {
    "slideshow": {
     "slide_type": "slide"
    }
   },
   "source": [
    "# Modern C++: Lambda expression"
   ]
  },
  {
   "cell_type": "markdown",
   "metadata": {
    "slideshow": {
     "slide_type": "slide"
    }
   },
   "source": [
    "## Single-use functions"
   ]
  },
  {
   "cell_type": "markdown",
   "metadata": {
    "slideshow": {
     "slide_type": "subslide"
    }
   },
   "source": [
    "Some functions are only used once:"
   ]
  },
  {
   "cell_type": "code",
   "execution_count": 2,
   "metadata": {
    "slideshow": {
     "slide_type": "skip"
    }
   },
   "outputs": [],
   "source": [
    "#include <iostream>\n",
    "#include <vector>\n",
    "#include <algorithm>"
   ]
  },
  {
   "cell_type": "code",
   "execution_count": 3,
   "metadata": {
    "slideshow": {
     "slide_type": "-"
    }
   },
   "outputs": [],
   "source": [
    "void print_times_3( int a_n )\n",
    " { std::cout << (3*a_n) << \" \" ; }"
   ]
  },
  {
   "cell_type": "code",
   "execution_count": 4,
   "metadata": {
    "attributes": {
     "classes": [
      "cpp"
     ],
     "id": ""
    },
    "slideshow": {
     "slide_type": "-"
    }
   },
   "outputs": [
    {
     "name": "stdout",
     "output_type": "stream",
     "text": [
      "3 6 9 12 15 "
     ]
    }
   ],
   "source": [
    "std::vector<int> numbers { 1, 2, 3, 4, 5 } ;\n",
    "std::for_each\n",
    " (\n",
    "  numbers.begin(),numbers.end(),\n",
    "  print_times_3\n",
    " ) ;"
   ]
  },
  {
   "cell_type": "markdown",
   "metadata": {
    "slideshow": {
     "slide_type": "subslide"
    }
   },
   "source": [
    "C ++ allows a function to be defined on the fly, where it is expected, by replacing its name with `[]`. We call this a lambda expression:"
   ]
  },
  {
   "cell_type": "code",
   "execution_count": 4,
   "metadata": {
    "attributes": {
     "classes": [
      "cpp"
     ],
     "id": ""
    },
    "slideshow": {
     "slide_type": "-"
    }
   },
   "outputs": [
    {
     "name": "stdout",
     "output_type": "stream",
     "text": [
      "3 6 9 12 15 "
     ]
    }
   ],
   "source": [
    "std::vector<int> numbers { 1, 2, 3, 4, 5 } ;\n",
    "std::for_each\n",
    " (\n",
    "  numbers.begin(),numbers.end(),\n",
    "  []( int a_n ){ std::cout << (3*a_n) << \" \" ; }\n",
    " ) ;"
   ]
  },
  {
   "cell_type": "markdown",
   "metadata": {
    "slideshow": {
     "slide_type": "subslide"
    }
   },
   "source": [
    "Like an ordinary function, it only sees its arguments, local variables and global variables from the file. This does not compile:"
   ]
  },
  {
   "cell_type": "code",
   "execution_count": 5,
   "metadata": {
    "attributes": {
     "classes": [
      "cpp"
     ],
     "id": ""
    },
    "slideshow": {
     "slide_type": "-"
    }
   },
   "outputs": [
    {
     "name": "stderr",
     "output_type": "stream",
     "text": [
      "\u001b[1minput_line_11:7:32: \u001b[0m\u001b[0;1;31merror: \u001b[0m\u001b[1mvariable 'coef' cannot be implicitly captured in a lambda with no capture-default specified\u001b[0m\n",
      "  []( int a_n ){ std::cout << (coef*a_n) << \" \" ; }\n",
      "\u001b[0;1;32m                               ^\n",
      "\u001b[0m\u001b[1minput_line_11:3:5: \u001b[0m\u001b[0;1;30mnote: \u001b[0m'coef' declared here\u001b[0m\n",
      "int coef = 3 ;\n",
      "\u001b[0;1;32m    ^\n",
      "\u001b[0m\u001b[1minput_line_11:7:3: \u001b[0m\u001b[0;1;30mnote: \u001b[0mlambda expression begins here\u001b[0m\n",
      "  []( int a_n ){ std::cout << (coef*a_n) << \" \" ; }\n",
      "\u001b[0;1;32m  ^\n",
      "\u001b[0m"
     ]
    },
    {
     "ename": "Interpreter Error",
     "evalue": "",
     "output_type": "error",
     "traceback": [
      "Interpreter Error: "
     ]
    }
   ],
   "source": [
    "std::vector<int> numbers { 1, 2, 3, 4, 5 } ;\n",
    "int coef = 3 ;\n",
    "std::for_each\n",
    " (\n",
    "  numbers.begin(),numbers.end(),\n",
    "  []( int a_n ){ std::cout << (coef*a_n) << \" \" ; }\n",
    " ) ;"
   ]
  },
  {
   "cell_type": "markdown",
   "metadata": {
    "slideshow": {
     "slide_type": "slide"
    }
   },
   "source": [
    "## Capturing local variables\n",
    "\n",
    "A lambda function can include between its initial brackets a list of variables to be \"captured\" from its context, by value or by reference:\n",
    "* `[x,y,&j]`: `x` and` y` by value and `j` by reference;\n",
    "* `[]`: no variable;\n",
    "* `[&]`: all variables by reference;\n",
    "* `[=]`: all variables by copy;\n",
    "* `[=,&j]`: all variables by copy except `j` by reference;\n",
    "* `[&,j]`: all variables by reference, except `j` by copy."
   ]
  },
  {
   "cell_type": "markdown",
   "metadata": {
    "slideshow": {
     "slide_type": "subslide"
    }
   },
   "source": [
    "Capturing `m` allows to resolve the previous problem:"
   ]
  },
  {
   "cell_type": "code",
   "execution_count": 6,
   "metadata": {
    "attributes": {
     "classes": [
      "cpp"
     ],
     "id": ""
    },
    "slideshow": {
     "slide_type": "-"
    }
   },
   "outputs": [
    {
     "name": "stdout",
     "output_type": "stream",
     "text": [
      "3 6 9 12 15 "
     ]
    }
   ],
   "source": [
    "std::vector<int> numbers { 1, 2, 3, 4, 5 } ;\n",
    "int coef = 3 ;\n",
    "std::for_each\n",
    " (\n",
    "  numbers.begin(),numbers.end(),\n",
    "  [coef]( int a_n ){ std::cout << (coef*a_n) << \" \" ; }\n",
    " ) ;"
   ]
  },
  {
   "cell_type": "markdown",
   "metadata": {
    "slideshow": {
     "slide_type": "subslide"
    }
   },
   "source": [
    "If I want to do the same in old C ++, without a lamba function, I need a function-object:"
   ]
  },
  {
   "cell_type": "code",
   "execution_count": 7,
   "metadata": {
    "slideshow": {
     "slide_type": "-"
    }
   },
   "outputs": [],
   "source": [
    "class Multiplier\n",
    " {\n",
    "  public :\n",
    "    Multiplier( int a_coef ) : m_coef(a_coef) {}\n",
    "    void operator() ( int a_n ) { std::cout << (m_coef*a_n) << \" \" ; }\n",
    "  private :\n",
    "    int const m_coef ;\n",
    " } ;"
   ]
  },
  {
   "cell_type": "code",
   "execution_count": 8,
   "metadata": {
    "attributes": {
     "classes": [
      "cpp"
     ],
     "id": ""
    },
    "slideshow": {
     "slide_type": "-"
    }
   },
   "outputs": [
    {
     "name": "stdout",
     "output_type": "stream",
     "text": [
      "3 6 9 12 15 "
     ]
    }
   ],
   "source": [
    "std::vector<int> numbers { 1, 2, 3, 4, 5 } ;\n",
    "std::for_each(numbers.begin(),numbers.end(),Multiplier(3)) ;"
   ]
  },
  {
   "cell_type": "markdown",
   "metadata": {
    "slideshow": {
     "slide_type": "slide"
    }
   },
   "source": [
    "## Return type\n",
    "\n",
    "The compiler is able to guess the return type of an anonymous function by scanning its `return` statements, if they are consistent."
   ]
  },
  {
   "cell_type": "markdown",
   "metadata": {
    "slideshow": {
     "slide_type": "subslide"
    }
   },
   "source": [
    "Otherwise, we can help it, using a syntax called **trailing return type**:"
   ]
  },
  {
   "cell_type": "code",
   "execution_count": 9,
   "metadata": {
    "attributes": {
     "classes": [
      "cpp"
     ],
     "id": ""
    },
    "slideshow": {
     "slide_type": "-"
    }
   },
   "outputs": [
    {
     "name": "stdout",
     "output_type": "stream",
     "text": [
      "3 6 9 12 15 "
     ]
    }
   ],
   "source": [
    "std::vector<int> numbers { 1, 2, 3, 4, 5 } ;\n",
    "int coef = 3 ;\n",
    "std::for_each\n",
    " (\n",
    "  numbers.begin(),numbers.end(),\n",
    "  [coef]( int a_n ) -> void { std::cout << (coef*a_n) << \" \" ; }\n",
    " ) ;"
   ]
  },
  {
   "cell_type": "markdown",
   "metadata": {
    "slideshow": {
     "slide_type": "slide"
    }
   },
   "source": [
    "## Questions ?"
   ]
  },
  {
   "cell_type": "markdown",
   "metadata": {
    "slideshow": {
     "slide_type": "skip"
    }
   },
   "source": [
    "# Exercise\n",
    "\n",
    "Replace below `random_unit` and `Pow` with lambdas functions. Make sure that you always get the same end result throughout your trials."
   ]
  },
  {
   "cell_type": "code",
   "execution_count": 10,
   "metadata": {
    "slideshow": {
     "slide_type": "skip"
    }
   },
   "outputs": [
    {
     "name": "stdout",
     "output_type": "stream",
     "text": [
      "Writing tmp.lambdas.cpp\n"
     ]
    }
   ],
   "source": [
    "%%file tmp.lambdas.cpp\n",
    "\n",
    "#include <vector>\n",
    "#include <algorithm>\n",
    "#include <numeric>\n",
    "#include <iostream>\n",
    "#include <cmath>\n",
    "\n",
    "// random double value in [-1,1]\n",
    "void random_unit( double & a_value )\n",
    " { a_value = ((2.*std::rand())/RAND_MAX-1.) ; }\n",
    "\n",
    "// compute value^degree\n",
    "struct Pow\n",
    " {\n",
    "  int m_degree ;\n",
    "  Pow( int a_degree ) : m_degree {a_degree} {}\n",
    "  double operator()( double a_value ) const\n",
    "   { return std::pow(a_value,m_degree) ; }\n",
    " } ;\n",
    "\n",
    "// main program\n",
    "int main()\n",
    " {\n",
    "  int const DIM {10} ;\n",
    "  int const DEGREE {5} ;\n",
    "  \n",
    "  // generate random input\n",
    "  std::vector<double> input(DIM) ;\n",
    "  std::for_each(input.begin(),input.end(),random_unit) ;\n",
    "\n",
    "  // compute output\n",
    "  std::vector<double> output(DIM) ;\n",
    "  std::transform(input.begin(),input.end(),output.begin(),Pow(DEGREE)) ;\n",
    "  \n",
    "  // print sum\n",
    "  std::cout<<std::accumulate(output.begin(),output.end(),0.)<<std::endl ;\n",
    "}"
   ]
  },
  {
   "cell_type": "code",
   "execution_count": 8,
   "metadata": {
    "slideshow": {
     "slide_type": "skip"
    }
   },
   "outputs": [],
   "source": [
    "!rm -f tmp.lambdas.exe && g++  -std=c++17 tmp.lambdas.cpp -o tmp.lambdas.exe"
   ]
  },
  {
   "cell_type": "code",
   "execution_count": 9,
   "metadata": {
    "slideshow": {
     "slide_type": "skip"
    }
   },
   "outputs": [
    {
     "name": "stdout",
     "output_type": "stream",
     "text": [
      "0.599801\n"
     ]
    }
   ],
   "source": [
    "!./tmp.lambdas.exe"
   ]
  },
  {
   "cell_type": "markdown",
   "metadata": {
    "slideshow": {
     "slide_type": "skip"
    }
   },
   "source": [
    "© *CNRS 2020*  \n",
    "*This document was created by David Chamont and translated by Olga Abramkina. It is available under the [License Creative Commons - Attribution - No commercial use - Shared under the conditions 4.0 International](http://creativecommons.org/licenses/by-nc-sa/4.0/)*"
   ]
  }
 ],
 "metadata": {
  "celltoolbar": "Diaporama",
  "kernelspec": {
   "display_name": "C++17",
   "language": "C++17",
   "name": "xcpp17"
  },
  "language_info": {
   "codemirror_mode": "text/x-c++src",
   "file_extension": ".cpp",
   "mimetype": "text/x-c++src",
   "name": "c++",
   "version": "17"
  },
  "toc": {
   "base_numbering": 1,
   "nav_menu": {},
   "number_sections": true,
   "sideBar": true,
   "skip_h1_title": true,
   "title_cell": "Table of Contents",
   "title_sidebar": "Contents",
   "toc_cell": false,
   "toc_position": {},
   "toc_section_display": true,
   "toc_window_display": false
  },
  "varInspector": {
   "cols": {
    "lenName": 16,
    "lenType": 16,
    "lenVar": 40
   },
   "kernels_config": {
    "python": {
     "delete_cmd_postfix": "",
     "delete_cmd_prefix": "del ",
     "library": "var_list.py",
     "varRefreshCmd": "print(var_dic_list())"
    },
    "r": {
     "delete_cmd_postfix": ") ",
     "delete_cmd_prefix": "rm(",
     "library": "var_list.r",
     "varRefreshCmd": "cat(var_dic_list()) "
    }
   },
   "types_to_exclude": [
    "module",
    "function",
    "builtin_function_or_method",
    "instance",
    "_Feature"
   ],
   "window_display": false
  }
 },
 "nbformat": 4,
 "nbformat_minor": 4
}
