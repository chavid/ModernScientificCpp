{
 "cells": [
  {
   "cell_type": "markdown",
   "metadata": {
    "heading_collapsed": true,
    "slideshow": {
     "slide_type": "slide"
    }
   },
   "source": [
    "# Numbers"
   ]
  },
  {
   "cell_type": "markdown",
   "metadata": {
    "hidden": true,
    "slideshow": {
     "slide_type": "subslide"
    }
   },
   "source": [
    "C++ benefits for scientific computing:\n",
    "* performance and precision is the primary priority\n",
    "* compatibility with C"
   ]
  },
  {
   "cell_type": "markdown",
   "metadata": {
    "hidden": true,
    "slideshow": {
     "slide_type": "subslide"
    }
   },
   "source": [
    "Drawbacks:\n",
    "* portability is not the primary priority\n",
    "* some C inherited features, such as implicit conversions, may lead to tricky numerical errors."
   ]
  },
  {
   "cell_type": "markdown",
   "metadata": {
    "hidden": true,
    "slideshow": {
     "slide_type": "slide"
    }
   },
   "source": [
    "## Uninitialized variables\n",
    "\n",
    "First thing to be very careful about: if a basic variable is defined without any initial value, there is no guarantee that its value is set to 0. The C designers probably thought it was a waste of precious runtime..."
   ]
  },
  {
   "cell_type": "markdown",
   "metadata": {
    "hidden": true,
    "slideshow": {
     "slide_type": "fragment"
    }
   },
   "source": [
    "Recommendation : **always give an initial value to your variables**."
   ]
  },
  {
   "cell_type": "markdown",
   "metadata": {
    "hidden": true,
    "slideshow": {
     "slide_type": "fragment"
    }
   },
   "source": [
    "If by mistake you use an uninitialized variable, no doubt that the compiler will give you a warning."
   ]
  },
  {
   "cell_type": "markdown",
   "metadata": {
    "hidden": true,
    "slideshow": {
     "slide_type": "fragment"
    }
   },
   "source": [
    "Recommendation : **compiler's warnings should be taken with the utmost seriousness**."
   ]
  },
  {
   "cell_type": "markdown",
   "metadata": {
    "hidden": true,
    "slideshow": {
     "slide_type": "slide"
    }
   },
   "source": [
    "## Unportable numeric types\n",
    "\n",
    "The size of numeric variable types in C++ depends on the implementation. This may impede the portability of the code."
   ]
  },
  {
   "cell_type": "markdown",
   "metadata": {
    "hidden": true,
    "slideshow": {
     "slide_type": "subslide"
    }
   },
   "source": [
    "For example, the following rules are imposed on integer types by the C++ standards:\n",
    "* `short` : a width of at least 16 bits.\n",
    "* `int`   : a width of at least 16 bits.\n",
    "* `long`  : a width of at least 32 bits.\n",
    "* `sizeof(short)` <= `sizeof(int)` <= `sizeof(long)`"
   ]
  },
  {
   "cell_type": "markdown",
   "metadata": {
    "hidden": true,
    "slideshow": {
     "slide_type": "subslide"
    }
   },
   "source": [
    "The rules on floating point types are not strict either:\n",
    "* `sizeof(float)` <= `sizeof(double)` <= `sizeof(long double)`\n",
    "* `float`  : typically 32 bits *(IEEE 754, 6-9 significant digits, typically 7)*.\n",
    "* `double` : typically 64 bits *(IEEE 754, 15-18 significant digits, typically 16)*.\n",
    "* `long double` : 80 to 128 bits *(18-36 significant digits)*."
   ]
  },
  {
   "cell_type": "markdown",
   "metadata": {
    "hidden": true,
    "slideshow": {
     "slide_type": "subslide"
    }
   },
   "source": [
    "For a given platform, the standard class `numeric_limits` can help to check the sizes:"
   ]
  },
  {
   "cell_type": "code",
   "execution_count": 1,
   "metadata": {
    "hidden": true,
    "slideshow": {
     "slide_type": "skip"
    }
   },
   "outputs": [],
   "source": [
    "#include <iostream>"
   ]
  },
  {
   "cell_type": "code",
   "execution_count": 16,
   "metadata": {
    "hidden": true,
    "slideshow": {
     "slide_type": "-"
    }
   },
   "outputs": [
    {
     "name": "stdout",
     "output_type": "stream",
     "text": [
      "type\tbits\tmin\t\tmax\n",
      "int\t32\t-2147483648\t2147483647\n",
      "float\t32\t1.17549e-38\t3.40282e+38\n",
      "double\t64\t2.22507e-308\t1.79769e+308\n"
     ]
    }
   ],
   "source": [
    "#include <limits>\n",
    "\n",
    "std::cout\n",
    " << \"type\\tbits\\tmin\\t\\tmax\\n\"\n",
    " << \"int\\t\" << sizeof(int)*8 << \"\\t\"\n",
    " << std::numeric_limits<int>::min() << '\\t'\n",
    " << std::numeric_limits<int>::max() << '\\n'\n",
    " << \"float\\t\" << sizeof(float)*8 << \"\\t\"\n",
    " << std::numeric_limits<float>::min() << '\\t'\n",
    " << std::numeric_limits<float>::max() << '\\n' \n",
    " << \"double\\t\" << sizeof(double)*8 << \"\\t\"\n",
    " << std::numeric_limits<double>::min() << '\\t' \n",
    " << std::numeric_limits<double>::max() << '\\n' ;"
   ]
  },
  {
   "cell_type": "markdown",
   "metadata": {
    "hidden": true,
    "slideshow": {
     "slide_type": "slide"
    }
   },
   "source": [
    "## Unpredictable precision\n",
    "\n",
    "When an operation mix variables with different precisions, the compiler casts all the operands to the *best* precision."
   ]
  },
  {
   "cell_type": "code",
   "execution_count": 4,
   "metadata": {
    "hidden": true,
    "scrolled": true,
    "slideshow": {
     "slide_type": "-"
    }
   },
   "outputs": [
    {
     "name": "stdout",
     "output_type": "stream",
     "text": [
      "inf\n",
      "3.40282e+39\n"
     ]
    }
   ],
   "source": [
    "float f = std::numeric_limits<float>::max() ;\n",
    "std::cout<<( f * 10.f )<<std::endl ;\n",
    "std::cout<<( f * 10.  )<<std::endl ;"
   ]
  },
  {
   "cell_type": "markdown",
   "metadata": {
    "hidden": true,
    "slideshow": {
     "slide_type": "subslide"
    }
   },
   "source": [
    "Floating point types are considered better than integer types."
   ]
  },
  {
   "cell_type": "code",
   "execution_count": 5,
   "metadata": {
    "hidden": true,
    "slideshow": {
     "slide_type": "-"
    }
   },
   "outputs": [
    {
     "name": "stdout",
     "output_type": "stream",
     "text": [
      "inf\n"
     ]
    }
   ],
   "source": [
    "float f = std::numeric_limits<float>::max() ;\n",
    "std::cout<<( f * 10 )<<std::endl ;"
   ]
  },
  {
   "cell_type": "markdown",
   "metadata": {
    "hidden": true,
    "slideshow": {
     "slide_type": "subslide"
    }
   },
   "source": [
    "`unsigned` types are considered better than their `signed` flavor..."
   ]
  },
  {
   "cell_type": "code",
   "execution_count": 6,
   "metadata": {
    "hidden": true,
    "slideshow": {
     "slide_type": "-"
    }
   },
   "outputs": [
    {
     "name": "stdout",
     "output_type": "stream",
     "text": [
      "4294967295\n"
     ]
    }
   ],
   "source": [
    "unsigned int i = 1 ;\n",
    "int j = -1 ;\n",
    "std::cout<<( i * j )<<std::endl ;"
   ]
  },
  {
   "cell_type": "markdown",
   "metadata": {
    "hidden": true,
    "slideshow": {
     "slide_type": "subslide"
    }
   },
   "source": [
    "Sometimes, computation is performed with a precision higher than the original variables. For example, a `short` based operation will always be evaluated as an `int` (because `int` is the same size as the hardware registers)."
   ]
  },
  {
   "cell_type": "code",
   "execution_count": 8,
   "metadata": {
    "hidden": true,
    "slideshow": {
     "slide_type": "-"
    }
   },
   "outputs": [
    {
     "name": "stdout",
     "output_type": "stream",
     "text": [
      "32768\n",
      "-32768\n"
     ]
    }
   ],
   "source": [
    "short s1 = std::numeric_limits<short>::max() ;\n",
    "short s2 = 1 ;\n",
    "short s3 = (s1+s2) ;\n",
    "std::cout << (s1+s2) << std::endl ;\n",
    "std::cout << s3 << std::endl ;"
   ]
  },
  {
   "cell_type": "markdown",
   "metadata": {
    "hidden": true,
    "slideshow": {
     "slide_type": "subslide"
    }
   },
   "source": [
    "**BEWARE**: Intel processors are typically computing their `double` operations with extraneous digits (80). One may think **the higher the precision, the better**. But it implies a **portability issue**, because the results will differ when running your code on a different processor, when vectorizing, when porting the code to GPU..."
   ]
  },
  {
   "cell_type": "markdown",
   "metadata": {
    "hidden": true,
    "slideshow": {
     "slide_type": "slide"
    }
   },
   "source": [
    "## Unnoticed conversions\n",
    "\n",
    "For simplicity of coding, C compilers and thus, C++ compilers as well, are authorized to perform multiple conversions between predefined numeric types. These so-called **implicit conversions** are automatic and often unnoticed by the developer. "
   ]
  },
  {
   "cell_type": "markdown",
   "metadata": {
    "hidden": true,
    "slideshow": {
     "slide_type": "subslide"
    }
   },
   "source": [
    "Some of these allowed implicit conversions can introduce a loss of precision: for example a transformation from a floating-point number to an integer. The compiler assumes that such ***narrowing*** is done on purpose. Is it a reasonable assumption for a code made of thousands of lines?"
   ]
  },
  {
   "cell_type": "code",
   "execution_count": 8,
   "metadata": {
    "hidden": true,
    "slideshow": {
     "slide_type": "fragment"
    }
   },
   "outputs": [
    {
     "name": "stdout",
     "output_type": "stream",
     "text": [
      "double 3.1416 => int 3\n"
     ]
    }
   ],
   "source": [
    "double pi = 3.1416 ; \n",
    "int i = pi ;\n",
    "std::cout<<\"double \"<<pi<<\" => int \"<<i<<std::endl ;"
   ]
  },
  {
   "cell_type": "code",
   "execution_count": 9,
   "metadata": {
    "hidden": true,
    "slideshow": {
     "slide_type": "fragment"
    }
   },
   "outputs": [
    {
     "name": "stdout",
     "output_type": "stream",
     "text": [
      "long 9223372036854775807 => short -1\n"
     ]
    }
   ],
   "source": [
    "long lmax = std::numeric_limits<long>::max() ;\n",
    "short s = lmax ;\n",
    "std::cout<<\"long \"<<lmax<<\" => short \"<<s<<std::endl ;"
   ]
  },
  {
   "cell_type": "code",
   "execution_count": 10,
   "metadata": {
    "hidden": true,
    "slideshow": {
     "slide_type": "fragment"
    }
   },
   "outputs": [
    {
     "name": "stdout",
     "output_type": "stream",
     "text": [
      "double 1.79769e+308 => float inf\n"
     ]
    }
   ],
   "source": [
    "double dmax = std::numeric_limits<double>::max() ;\n",
    "float f = dmax ;\n",
    "std::cout<<\"double \"<<dmax<<\" => float \"<<f<<std::endl ;"
   ]
  },
  {
   "cell_type": "markdown",
   "metadata": {
    "hidden": true,
    "slideshow": {
     "slide_type": "subslide"
    }
   },
   "source": [
    "Even worse, the compiler can transform any signed/unsigned integer into unsigned/signed !"
   ]
  },
  {
   "cell_type": "code",
   "execution_count": 11,
   "metadata": {
    "hidden": true,
    "slideshow": {
     "slide_type": "fragment"
    }
   },
   "outputs": [
    {
     "name": "stdout",
     "output_type": "stream",
     "text": [
      "-23536\n"
     ]
    }
   ],
   "source": [
    "void display_signed( short v )\n",
    " { std::cout<<v<<std::endl ; }\n",
    "\n",
    "unsigned short us = 42000 ;\n",
    "display_signed(us) ;"
   ]
  },
  {
   "cell_type": "code",
   "execution_count": 12,
   "metadata": {
    "hidden": true,
    "slideshow": {
     "slide_type": "fragment"
    }
   },
   "outputs": [
    {
     "name": "stdout",
     "output_type": "stream",
     "text": [
      "65494\n"
     ]
    }
   ],
   "source": [
    "void display_unsigned( unsigned short v )\n",
    " { std::cout<<v<<std::endl ; }\n",
    "\n",
    "short s = -42 ;\n",
    "display_unsigned(s) ;"
   ]
  },
  {
   "cell_type": "markdown",
   "metadata": {
    "hidden": true,
    "slideshow": {
     "slide_type": "skip"
    }
   },
   "source": [
    "**BEWARE**: when mixing signed and unsigned integers in an expression, the compiler will consider the unsigned flavor as the most accurate, and transform all the integers accordingly. One more time, **paying attention to compiler warnings will help you out**."
   ]
  },
  {
   "cell_type": "markdown",
   "metadata": {
    "hidden": true,
    "slideshow": {
     "slide_type": "slide"
    }
   },
   "source": [
    "## Disputed practice: never use unsigned numbers\n",
    "\n",
    "...if you can !\n",
    "- There are some contexts (embedded computing) where every bits is worth saving.\n",
    "- The standard library designers made the choice of unsigned integers for the size and indexes of all the containers :("
   ]
  },
  {
   "cell_type": "markdown",
   "metadata": {
    "hidden": true,
    "slideshow": {
     "slide_type": "slide"
    }
   },
   "source": [
    "## Good old-fashioned practice: make all conversions explicit\n",
    "\n",
    "In a program of a large size, implicit conversions are more of a hindrance than a help. It is advised to set the warning level to maximum, scrutinize carefully all compiler warnings, and make explicit any conversion you identify in the code."
   ]
  },
  {
   "cell_type": "markdown",
   "metadata": {
    "hidden": true,
    "slideshow": {
     "slide_type": "subslide"
    }
   },
   "source": [
    "The C way, for explicit conversions, is to use the type name as a function:"
   ]
  },
  {
   "cell_type": "code",
   "execution_count": 17,
   "metadata": {
    "hidden": true,
    "slideshow": {
     "slide_type": "-"
    }
   },
   "outputs": [
    {
     "name": "stdout",
     "output_type": "stream",
     "text": [
      "-23536\n"
     ]
    }
   ],
   "source": [
    "unsigned short i = 42000 ;\n",
    "short j = short(i) ; \n",
    "std::cout<<j<<std::endl ;"
   ]
  },
  {
   "cell_type": "markdown",
   "metadata": {
    "hidden": true,
    "slideshow": {
     "slide_type": "subslide"
    }
   },
   "source": [
    "Better, C++ comes with a set of explicit type casting operators. The one to be used by default is `static_cast`:"
   ]
  },
  {
   "cell_type": "code",
   "execution_count": 10,
   "metadata": {
    "hidden": true,
    "slideshow": {
     "slide_type": "-"
    }
   },
   "outputs": [
    {
     "name": "stdout",
     "output_type": "stream",
     "text": [
      "-23536\n"
     ]
    }
   ],
   "source": [
    "unsigned short i = 42000 ;\n",
    "short j = static_cast<short>(i) ;\n",
    "std::cout<<j<<std::endl ;"
   ]
  },
  {
   "cell_type": "markdown",
   "metadata": {
    "hidden": true,
    "slideshow": {
     "slide_type": "skip"
    }
   },
   "source": [
    "Three other type casting operators are available, for rare specific use-cases:\n",
    "* `const_cast` : in rare cases, when one wants to get rid of the constness of a variable;\n",
    "* `dynamic_cast` : to goes down an inheritance tree;\n",
    "* `reinterpret_cast` : in very rare cases, when one wants to change the way a memory chunk is interpreted."
   ]
  },
  {
   "cell_type": "markdown",
   "metadata": {
    "hidden": true,
    "slideshow": {
     "slide_type": "slide"
    }
   },
   "source": [
    "## User-defined numerical types\n",
    "\n",
    "If you are gritty enough to develop your own numerical type, you may want to provide a constructor and/or a conversion operator, so to ease interaction with functions which generate and/or require doubles."
   ]
  },
  {
   "cell_type": "code",
   "execution_count": 18,
   "metadata": {
    "hidden": true,
    "slideshow": {
     "slide_type": "subslide"
    }
   },
   "outputs": [],
   "source": [
    "#include <iostream>"
   ]
  },
  {
   "cell_type": "code",
   "execution_count": 19,
   "metadata": {
    "hidden": true,
    "slideshow": {
     "slide_type": "-"
    }
   },
   "outputs": [],
   "source": [
    "class Half\n",
    " {\n",
    "  public :\n",
    "    Half( double f ) { std::cout<<\"Half::Half(double)\"<<std::endl ; }\n",
    "    operator double() { std::cout<<\"Half::operator double())\"<<std::endl ; return 0 ; }\n",
    " } ;  "
   ]
  },
  {
   "cell_type": "code",
   "execution_count": 20,
   "metadata": {
    "hidden": true,
    "slideshow": {
     "slide_type": "fragment"
    }
   },
   "outputs": [],
   "source": [
    "void display_double( double ) { std::cout<<\"display_double()\"<<std::endl ; }"
   ]
  },
  {
   "cell_type": "code",
   "execution_count": 21,
   "metadata": {
    "hidden": true,
    "slideshow": {
     "slide_type": "-"
    }
   },
   "outputs": [],
   "source": [
    "void display_half( Half ) { std::cout<<\"display_half()\"<<std::endl ; }"
   ]
  },
  {
   "cell_type": "code",
   "execution_count": 22,
   "metadata": {
    "hidden": true,
    "slideshow": {
     "slide_type": "fragment"
    }
   },
   "outputs": [
    {
     "name": "stdout",
     "output_type": "stream",
     "text": [
      "Half::Half(double)\n",
      "Half::operator double())\n",
      "display_double()\n",
      "Half::Half(double)\n",
      "display_half()\n"
     ]
    }
   ],
   "source": [
    "Half value = 3.14 ;\n",
    "display_double(value) ;\n",
    "display_half(3.14) ;"
   ]
  },
  {
   "cell_type": "markdown",
   "metadata": {
    "hidden": true,
    "slideshow": {
     "slide_type": "subslide"
    }
   },
   "source": [
    "BEWARE: the unary constructor, and the conversion operator, opens the door for **implicit conversions**. The compiler can even chain several ones, such as `short` => `double` => `Half` below, or the contrary. "
   ]
  },
  {
   "cell_type": "code",
   "execution_count": 23,
   "metadata": {
    "hidden": true,
    "slideshow": {
     "slide_type": "-"
    }
   },
   "outputs": [
    {
     "name": "stdout",
     "output_type": "stream",
     "text": [
      "Half::Half(double)\n",
      "display_half()\n"
     ]
    }
   ],
   "source": [
    "short value = 42 ;\n",
    "display_half(value) ;"
   ]
  },
  {
   "cell_type": "code",
   "execution_count": 25,
   "metadata": {
    "hidden": true,
    "slideshow": {
     "slide_type": "-"
    }
   },
   "outputs": [],
   "source": [
    "void display_short( short ) { std::cout<<\"display_short()\"<<std::endl ; }"
   ]
  },
  {
   "cell_type": "code",
   "execution_count": 26,
   "metadata": {
    "hidden": true,
    "slideshow": {
     "slide_type": "-"
    }
   },
   "outputs": [
    {
     "name": "stdout",
     "output_type": "stream",
     "text": [
      "Half::Half(double)\n",
      "Half::operator double())\n",
      "display_short()\n"
     ]
    }
   ],
   "source": [
    "Half value = 42 ;\n",
    "display_short(value) ;"
   ]
  },
  {
   "cell_type": "markdown",
   "metadata": {
    "hidden": true,
    "slideshow": {
     "slide_type": "slide"
    }
   },
   "source": [
    "## Good old-fashioned practice: make unary constructors explicit\n",
    "\n",
    "The implicit conversions problem does not only apply to numerical classes. It is true for any class which has a unary constructor (constructor with only one argument).\n",
    "\n",
    "The keyword `explicit` forbids the use of those unary constructors for implicit conversions. It should be used almost always."
   ]
  },
  {
   "cell_type": "code",
   "execution_count": null,
   "metadata": {
    "hidden": true,
    "slideshow": {
     "slide_type": "skip"
    }
   },
   "outputs": [],
   "source": [
    "#include <iostream>"
   ]
  },
  {
   "cell_type": "code",
   "execution_count": 8,
   "metadata": {
    "hidden": true,
    "slideshow": {
     "slide_type": "subslide"
    }
   },
   "outputs": [],
   "source": [
    "class Half\n",
    " { \n",
    "  public :\n",
    "    explicit Half( double f ) { std::cout<<\"construct\"<<std::endl ; }\n",
    "    operator double() { std::cout<<\"convert\"<<std::endl ; return 0 ; }\n",
    " } ;"
   ]
  },
  {
   "cell_type": "code",
   "execution_count": 9,
   "metadata": {
    "hidden": true,
    "slideshow": {
     "slide_type": "fragment"
    }
   },
   "outputs": [
    {
     "name": "stderr",
     "output_type": "stream",
     "text": [
      "\u001b[1minput_line_15:2:7: \u001b[0m\u001b[0;1;31merror: \u001b[0m\u001b[1mno viable conversion from 'double' to '__cling_N58::Half'\u001b[0m\n",
      " Half value = 3.14 ;\n",
      "\u001b[0;1;32m      ^       ~~~~\n",
      "\u001b[0m\u001b[1minput_line_14:1:7: \u001b[0m\u001b[0;1;30mnote: \u001b[0mcandidate constructor (the implicit copy constructor) not viable: no known conversion from 'double' to 'const __cling_N58::Half &' for 1st argument\u001b[0m\n",
      "class Half\n",
      "\u001b[0;1;32m      ^\n",
      "\u001b[0m\u001b[1minput_line_14:1:7: \u001b[0m\u001b[0;1;30mnote: \u001b[0mcandidate constructor (the implicit move constructor) not viable: no known conversion from 'double' to '__cling_N58::Half &&' for 1st argument\u001b[0m\n"
     ]
    },
    {
     "ename": "Interpreter Error",
     "evalue": "",
     "output_type": "error",
     "traceback": [
      "Interpreter Error: "
     ]
    }
   ],
   "source": [
    "Half value = 3.14 ;\n",
    "display_double(value) ;"
   ]
  },
  {
   "cell_type": "markdown",
   "metadata": {
    "hidden": true,
    "slideshow": {
     "slide_type": "subslide"
    }
   },
   "source": [
    "The keyword `explicit` has been generalized to conversion operators within C++11."
   ]
  },
  {
   "cell_type": "markdown",
   "metadata": {
    "hidden": true,
    "slideshow": {
     "slide_type": "slide"
    }
   },
   "source": [
    "# Take Away\n",
    "\n",
    "Implicit conversions are a major source of bugs in ancient C++, and modern C++ will hardly try to make them visible, forbid them, control them... thanks to various mechanisms such as the **universal initialization**."
   ]
  },
  {
   "cell_type": "markdown",
   "metadata": {
    "hidden": true,
    "slideshow": {
     "slide_type": "slide"
    }
   },
   "source": [
    "# Questions ?"
   ]
  },
  {
   "cell_type": "markdown",
   "metadata": {
    "slideshow": {
     "slide_type": "skip"
    }
   },
   "source": [
    "# References\n",
    "\n",
    "* https://en.cppreference.com/w/cpp/language/types\n",
    "* https://en.cppreference.com/w/cpp/language/implicit_conversion\n",
    "* https://dbj.org/how-to-avoid-implicit-conversion-in-c/"
   ]
  },
  {
   "cell_type": "markdown",
   "metadata": {
    "slideshow": {
     "slide_type": "skip"
    }
   },
   "source": [
    "© *CNRS 2020*  \n",
    "*This document was created by David Chamont and translated by Olga Abramkina. It is available under the [Licence Creative Commons - Attribution - No commercial use - Shared under the conditions 4.0 International](http://creativecommons.org/licenses/by-nc-sa/4.0/)*"
   ]
  }
 ],
 "metadata": {
  "celltoolbar": "Diaporama",
  "kernelspec": {
   "display_name": "C++17",
   "language": "C++17",
   "name": "xcpp17"
  },
  "language_info": {
   "codemirror_mode": "text/x-c++src",
   "file_extension": ".cpp",
   "mimetype": "text/x-c++src",
   "name": "c++",
   "version": "17"
  },
  "toc": {
   "base_numbering": 1,
   "nav_menu": {},
   "number_sections": true,
   "sideBar": true,
   "skip_h1_title": true,
   "title_cell": "Table of Contents",
   "title_sidebar": "Contents",
   "toc_cell": false,
   "toc_position": {},
   "toc_section_display": true,
   "toc_window_display": false
  },
  "varInspector": {
   "cols": {
    "lenName": 16,
    "lenType": 16,
    "lenVar": 40
   },
   "kernels_config": {
    "python": {
     "delete_cmd_postfix": "",
     "delete_cmd_prefix": "del ",
     "library": "var_list.py",
     "varRefreshCmd": "print(var_dic_list())"
    },
    "r": {
     "delete_cmd_postfix": ") ",
     "delete_cmd_prefix": "rm(",
     "library": "var_list.r",
     "varRefreshCmd": "cat(var_dic_list()) "
    }
   },
   "types_to_exclude": [
    "module",
    "function",
    "builtin_function_or_method",
    "instance",
    "_Feature"
   ],
   "window_display": false
  }
 },
 "nbformat": 4,
 "nbformat_minor": 4
}
