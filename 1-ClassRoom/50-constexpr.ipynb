{
 "cells": [
  {
   "cell_type": "markdown",
   "metadata": {
    "slideshow": {
     "slide_type": "slide"
    }
   },
   "source": [
    "# Constant expressions\n",
    "\n",
    "A **constant expression** is an expression which can be evaluated during compilation. It is required in different contexts such as an array size or non-type template arguments.\n",
    "\n",
    "In C++03, a constant expression can only involve literal integers and constant variables which are themselves initialized using constant expressions.\n",
    "- C++11 extends the possibilities to floats, functions and objects.\n",
    "- C++17 adds the statement `if constexpr`, which is evaluated at compile time.\n",
    "- C++20 adds `consteval`, which enforces a compile-time evaluation."
   ]
  },
  {
   "cell_type": "markdown",
   "metadata": {
    "slideshow": {
     "slide_type": "slide"
    }
   },
   "source": [
    "## `constexpr` variables\n",
    "\n",
    "A variable declared as `constexpr` is implicitly `const`, and **must be evaluable at compile time**. Unlike a `const` variable, it should not take up any space in memory, and its value should be directly substituted in the code wherever it is used. Unlike a `#define`, it is fully pre-evaluated by the C++ compiler, and will not suffer from the pitfalls specific to preprocessor macros."
   ]
  },
  {
   "cell_type": "markdown",
   "metadata": {
    "slideshow": {
     "slide_type": "subslide"
    }
   },
   "source": [
    "Additionally, float values are supported, and we can now initialize, within a struct|class definition, the member variables which are both `static` and` constexpr`. For example, this would not be allowed in old C++:"
   ]
  },
  {
   "cell_type": "code",
   "execution_count": null,
   "metadata": {
    "slideshow": {
     "slide_type": "-"
    }
   },
   "outputs": [],
   "source": [
    "struct X\n",
    " {\n",
    "  static constexpr float pi = 3.14 ;\n",
    " } ;"
   ]
  },
  {
   "cell_type": "markdown",
   "metadata": {},
   "source": [
    "Note 1 : the fact that the variable is eventually evaluated is up to the compiler."
   ]
  },
  {
   "cell_type": "markdown",
   "metadata": {},
   "source": [
    "Note 2 : there are situations where the compiler were already doing this optimization."
   ]
  },
  {
   "cell_type": "markdown",
   "metadata": {
    "slideshow": {
     "slide_type": "slide"
    }
   },
   "source": [
    "## `constexpr` functions\n",
    "\n",
    "A function declared as `constexpr` **can optionally** be evaluated at compile time, if the arguments passed to it are themselves constant expressions. Thus, the compiler can rely on such function, for example to calculate the size of a fixed array:"
   ]
  },
  {
   "cell_type": "code",
   "execution_count": null,
   "metadata": {
    "slideshow": {
     "slide_type": "-"
    }
   },
   "outputs": [],
   "source": [
    "constexpr int size( int lines, int columns )\n",
    " { return lines*columns ; }"
   ]
  },
  {
   "cell_type": "code",
   "execution_count": null,
   "metadata": {
    "attributes": {
     "classes": [
      "cpp"
     ],
     "id": ""
    },
    "slideshow": {
     "slide_type": "skip"
    }
   },
   "outputs": [],
   "source": [
    "#include <iostream>"
   ]
  },
  {
   "cell_type": "code",
   "execution_count": null,
   "metadata": {
    "attributes": {
     "classes": [
      "cpp"
     ],
     "id": ""
    },
    "slideshow": {
     "slide_type": "subslide"
    }
   },
   "outputs": [],
   "source": [
    "constexpr int l1 = 2, c1 = 3 ;\n",
    "int const l2 = 2, c2 = 3 ;\n",
    "int l3 = 2, c3 = 3 ;\n",
    "//..."
   ]
  },
  {
   "cell_type": "code",
   "execution_count": null,
   "metadata": {
    "attributes": {
     "classes": [
      "cpp"
     ],
     "id": ""
    },
    "slideshow": {
     "slide_type": "-"
    }
   },
   "outputs": [],
   "source": [
    "int s1 = size(l1,c1) ;\n",
    "int s2 = size(l2,c2) ;\n",
    "int s3 = size(l3,c3) ;\n",
    "double a1[size(l1,c1)] = { 1., 2., 3., 4., 5., 6. } ;\n",
    "double a2[size(l2,c2)] = { 1., 2., 3., 4., 5., 6. } ;\n",
    "double a3[size(l3,c3)] = { 1., 2., 3., 4., 5., 6. } ;"
   ]
  },
  {
   "cell_type": "markdown",
   "metadata": {
    "slideshow": {
     "slide_type": "slide"
    }
   },
   "source": [
    "Such functions were originally limited to a single `return` statement ! But all subsequent C++ versions have opened more and more the possibilities:\n",
    "- C++11: one return statement !\n",
    "- C++14: more statements, local variables, if/switch, for/while, member functions, ...\n",
    "- C++17: lambdas, constexpr destructors, if constexpr, static_assert, ...\n",
    "- C++20: new/delete, virtual, lambdas, try/catch, vector/string, ...\n",
    "- C++23: more math, allocators, non-literal params, ...\n"
   ]
  },
  {
   "cell_type": "markdown",
   "metadata": {
    "slideshow": {
     "slide_type": "slide"
    }
   },
   "source": [
    "## `constexpr` constructor"
   ]
  },
  {
   "cell_type": "markdown",
   "metadata": {
    "slideshow": {
     "slide_type": "subslide"
    }
   },
   "source": [
    "By simplifying, the use of `constexpr` is allowed for a constructor if the body is empty and the members are explicitly initialized in the initialization area:"
   ]
  },
  {
   "cell_type": "code",
   "execution_count": null,
   "metadata": {
    "slideshow": {
     "slide_type": "-"
    }
   },
   "outputs": [],
   "source": [
    "class Point\n",
    " {\n",
    "  public :\n",
    "    constexpr Point( int a_x, int a_y ) : m_x {a_x}, m_y {a_y} {}\n",
    "  private :\n",
    "    int m_x, m_y ;\n",
    " } ;"
   ]
  },
  {
   "cell_type": "code",
   "execution_count": null,
   "metadata": {
    "attributes": {
     "classes": [
      "cpp"
     ],
     "id": ""
    },
    "slideshow": {
     "slide_type": "-"
    }
   },
   "outputs": [],
   "source": [
    "constexpr Point origin(0,0) ;"
   ]
  },
  {
   "cell_type": "markdown",
   "metadata": {
    "slideshow": {
     "slide_type": "slide"
    }
   },
   "source": [
    "## `if constexpr` (C++17)\n",
    "\n",
    "This variant of `if` is evaluated at compile time. The condition must obviously be a constant expression, evaluable at compile time. This new *static if* is much better than a preprocessor `#if`, because its condition can be based on complex expressions evaluated by the compiler."
   ]
  },
  {
   "cell_type": "markdown",
   "metadata": {
    "slideshow": {
     "slide_type": "subslide"
    }
   },
   "source": [
    "In this example, we are comparing two numbers, with a margin in the case of a floating point number."
   ]
  },
  {
   "cell_type": "code",
   "execution_count": null,
   "metadata": {
    "slideshow": {
     "slide_type": "skip"
    }
   },
   "outputs": [],
   "source": [
    "#include <iostream>\n",
    "#include <cmath>"
   ]
  },
  {
   "cell_type": "code",
   "execution_count": null,
   "metadata": {
    "slideshow": {
     "slide_type": "fragment"
    }
   },
   "outputs": [],
   "source": [
    "template <typename T>\n",
    "struct Traits { static constexpr bool is_floating_point = false ; } ;\n",
    "\n",
    "template <>\n",
    "struct Traits<float> {\n",
    "  static constexpr bool is_floating_point = true ;\n",
    "  static constexpr float epsilon = 1e-3 ;\n",
    " } ;\n",
    "\n",
    "template <>\n",
    "struct Traits<double> {\n",
    "  static constexpr bool is_floating_point = true ;\n",
    "  static constexpr double epsilon = 1e-6 ;\n",
    " } ;"
   ]
  },
  {
   "cell_type": "code",
   "execution_count": null,
   "metadata": {
    "slideshow": {
     "slide_type": "subslide"
    }
   },
   "outputs": [],
   "source": [
    "template <class T>\n",
    "bool equal( T lhs, T rhs )\n",
    " {\n",
    "  if constexpr (Traits<T>::is_floating_point)\n",
    "   { return (std::abs(lhs-rhs)<Traits<T>::epsilon) ; }\n",
    "  else\n",
    "   { return lhs == rhs ; }\n",
    " } "
   ]
  },
  {
   "cell_type": "code",
   "execution_count": null,
   "metadata": {
    "slideshow": {
     "slide_type": "fragment"
    }
   },
   "outputs": [],
   "source": [
    "std::cout\n",
    "  <<\".3 =~ .1+.2 ? \"\n",
    "  <<equal(.3,.1+.2)\n",
    "  <<std::endl ;\n",
    "std::cout<<\"100 =~ 10*10 ? \"<<equal(100,10*10)<<std::endl ;  "
   ]
  },
  {
   "cell_type": "markdown",
   "metadata": {
    "slideshow": {
     "slide_type": "skip"
    }
   },
   "source": [
    "**To be noticed**: the \"if block\" above is not compilable when `T` is `int`, because `Traits<int>::epsilon` does not exists. Yet, this is not a problem, since the compiler directly evaluates `Traits<T>::is_floating_point` to `false`, discards the \"if block\", and only compiles the \"else block\"."
   ]
  },
  {
   "cell_type": "markdown",
   "metadata": {
    "slideshow": {
     "slide_type": "slide"
    }
   },
   "source": [
    "## `consteval` function (C++20)\n",
    "\n",
    "Such a function can only be called at compile time. It is meant to be an implementation which comply to the rules of constant expressions, but is not as fast as what can be done at run time. "
   ]
  },
  {
   "cell_type": "markdown",
   "metadata": {
    "slideshow": {
     "slide_type": "slide"
    }
   },
   "source": [
    "## `constinit` variable (C++20)\n",
    "\n",
    "This weaker variant of `constexpr` let you require a compile time evaluation, although the variable is not `const`and can be modified later on. This can only be used with global or static variables, and may help to solve the *Static Initialization Order Fiasco*.\n",
    "\n",
    "Since you safely avoid such dangerous global or static variables, this is not your concern ;)"
   ]
  },
  {
   "cell_type": "markdown",
   "metadata": {
    "slideshow": {
     "slide_type": "slide"
    }
   },
   "source": [
    "## `if consteval` (C++23)\n",
    "\n",
    "This let you detect that the current code is evaluated at compile time, and let you use the `consteval` function optimized for this. The `else` block, on the contrary, can use the function which is optimized for run time evaluation."
   ]
  },
  {
   "cell_type": "markdown",
   "metadata": {
    "slideshow": {
     "slide_type": "slide"
    }
   },
   "source": [
    "# Take away"
   ]
  },
  {
   "cell_type": "markdown",
   "metadata": {
    "slideshow": {
     "slide_type": "slide"
    }
   },
   "source": [
    "- A `const` variable **can** be initialized at compile time.\n",
    "- A `constexpr` variable **must** be initialized at compile time, and is `const`.\n",
    "- A `constinit` global/static variable **must** be initialized at compile time, and is not `const`."
   ]
  },
  {
   "cell_type": "markdown",
   "metadata": {
    "slideshow": {
     "slide_type": "slide"
    }
   },
   "source": [
    "- `if constexpr ()` is evaluated at compile time.\n",
    "- `if consteval` let you known if a compile time evaluation is under way."
   ]
  },
  {
   "cell_type": "markdown",
   "metadata": {
    "slideshow": {
     "slide_type": "slide"
    }
   },
   "source": [
    "- A `constexpr` function call **can** be evaluated at compile time, if its inputs are constant expressions.\n",
    "- A `consteval` function call **must** be evaluated at compile time."
   ]
  },
  {
   "cell_type": "markdown",
   "metadata": {
    "slideshow": {
     "slide_type": "slide"
    }
   },
   "source": [
    "# Questions?"
   ]
  },
  {
   "cell_type": "markdown",
   "metadata": {
    "slideshow": {
     "slide_type": "skip"
    }
   },
   "source": [
    "# Exercise\n",
    "\n",
    "The Fibonacci function is defined as follows:\n",
    "* f(0) = 0\n",
    "* f(1) = 1\n",
    "* f(n) = f(n-1)+f(n-2)\n",
    "\n",
    "It is written below using old meta-programming techniques, in order to be evaluated at compile time.\n",
    "- Simplify it ?\n",
    "- Mesure separately the time of compilation and execution.\n",
    "- Change the type of `res` not to be `constexpr`, measure again and compare."
   ]
  },
  {
   "cell_type": "code",
   "execution_count": null,
   "metadata": {
    "slideshow": {
     "slide_type": "skip"
    }
   },
   "outputs": [],
   "source": [
    "%%file tmp.constexpr.cpp\n",
    "\n",
    "#include <iostream>\n",
    "\n",
    "template<int N>\n",
    "struct fibonacci\n",
    " {\n",
    "  enum { value = fibonacci<N-1>::value + fibonacci<N-2>::value } ;\n",
    " } ;\n",
    "\n",
    "template<>\n",
    "struct fibonacci<1>\n",
    " {\n",
    "  enum { value = 1 } ;\n",
    " } ;\n",
    "\n",
    "template<>\n",
    "struct fibonacci<0>\n",
    " {\n",
    "  enum { value = 0 } ;\n",
    " } ;\n",
    "\n",
    "int main()\n",
    " {\n",
    "  constexpr int res { fibonacci<36>::value } ;\n",
    "  std::cout<<res<<std::endl ;\n",
    "  return 0 ;\n",
    " }"
   ]
  },
  {
   "cell_type": "code",
   "execution_count": null,
   "metadata": {
    "slideshow": {
     "slide_type": "skip"
    }
   },
   "outputs": [],
   "source": [
    "!rm -f tmp.constexpr.exe"
   ]
  },
  {
   "cell_type": "code",
   "execution_count": null,
   "metadata": {
    "slideshow": {
     "slide_type": "skip"
    }
   },
   "outputs": [],
   "source": [
    "!bash -c \"time g++ -std=c++17 tmp.constexpr.cpp -o tmp.constexpr.exe\""
   ]
  },
  {
   "cell_type": "code",
   "execution_count": null,
   "metadata": {
    "slideshow": {
     "slide_type": "skip"
    }
   },
   "outputs": [],
   "source": [
    "!bash -c \"time ./tmp.constexpr.exe\""
   ]
  },
  {
   "cell_type": "markdown",
   "metadata": {
    "slideshow": {
     "slide_type": "skip"
    }
   },
   "source": [
    "## Resources\n",
    "* https://en.cppreference.com/w/cpp/language/constant_expression\n",
    "* http://meetingcpp.com/blog/items/How-if-constexpr-simplifies-your-code-in-Cpp17.html\n",
    "* https://www.codingame.com/playgrounds/2205/7-features-of-c17-that-will-simplify-your-code/constexpr-if\n",
    "* https://linuxfr.org/news/cpp17-branche-a-la-compilation-if-constexpr\n",
    "* https://solarianprogrammer.com/2017/12/27/cpp-17-constexpr-everything-as-much-as-the-compiler-can/\n",
    "* [Herb Sutter @ CppCon2024](https://www.youtube.com/watch?v=FNi1-x4pojs)"
   ]
  },
  {
   "cell_type": "markdown",
   "metadata": {
    "slideshow": {
     "slide_type": "skip"
    }
   },
   "source": [
    "© *CNRS 2024*  \n",
    "*This document was created by David Chamont and translated by Olga Abramkina. It is available under the [License Creative Commons - Attribution - No commercial use - Shared under the conditions 4.0 International](http://creativecommons.org/licenses/by-nc-sa/4.0/)*\n",
    "\n"
   ]
  }
 ],
 "metadata": {
  "celltoolbar": "Slideshow",
  "kernelspec": {
   "display_name": "C++17",
   "language": "C++17",
   "name": "xcpp17"
  },
  "language_info": {
   "codemirror_mode": "text/x-c++src",
   "file_extension": ".cpp",
   "mimetype": "text/x-c++src",
   "name": "c++",
   "version": "17"
  },
  "toc": {
   "base_numbering": 1,
   "nav_menu": {},
   "number_sections": true,
   "sideBar": true,
   "skip_h1_title": true,
   "title_cell": "Table of Contents",
   "title_sidebar": "Contents",
   "toc_cell": false,
   "toc_position": {},
   "toc_section_display": true,
   "toc_window_display": false
  },
  "varInspector": {
   "cols": {
    "lenName": 16,
    "lenType": 16,
    "lenVar": 40
   },
   "kernels_config": {
    "python": {
     "delete_cmd_postfix": "",
     "delete_cmd_prefix": "del ",
     "library": "var_list.py",
     "varRefreshCmd": "print(var_dic_list())"
    },
    "r": {
     "delete_cmd_postfix": ") ",
     "delete_cmd_prefix": "rm(",
     "library": "var_list.r",
     "varRefreshCmd": "cat(var_dic_list()) "
    }
   },
   "types_to_exclude": [
    "module",
    "function",
    "builtin_function_or_method",
    "instance",
    "_Feature"
   ],
   "window_display": false
  }
 },
 "nbformat": 4,
 "nbformat_minor": 4
}
