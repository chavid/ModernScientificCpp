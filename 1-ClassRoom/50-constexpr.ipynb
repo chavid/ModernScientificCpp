{
 "cells": [
  {
   "cell_type": "markdown",
   "metadata": {
    "slideshow": {
     "slide_type": "slide"
    }
   },
   "source": [
    "# Constant expressions\n",
    "\n",
    "A **constant expression** is an expression which can be evaluated during compilation. In C++03, it can only involve literal integers and constant variables which are themselves initialized using constant expressions.\n",
    "- C++11 extends the possibilities to floats, functions and objects.\n",
    "- C++17 adds the statement `if constexpr`, which is evaluated at compile time.\n",
    "- C++20 adds `consteval`, which enforces a compile-time evaluation."
   ]
  },
  {
   "cell_type": "markdown",
   "metadata": {
    "slideshow": {
     "slide_type": "slide"
    }
   },
   "source": [
    "## `constexpr` variables\n",
    "\n",
    "A variable declared as `constexpr` is implicitly` const`, and **must be evaluable at compile-time**. Unlike a `const` variable, it should not take up any space in memory, and its value should be directly substituted in the code wherever it is used. Unlike a `#define`, it is fully pre-evaluated by the C++ compiler, and will not suffer from the pitfalls specific to preprocessor macros."
   ]
  },
  {
   "cell_type": "markdown",
   "metadata": {
    "slideshow": {
     "slide_type": "subslide"
    }
   },
   "source": [
    "Additionally, float values ​​are supported. We can now initialize, within a class definition, the member variables which are both `static` and` constexpr`. For example, this would not be allowed in old C++:"
   ]
  },
  {
   "cell_type": "code",
   "execution_count": 1,
   "metadata": {
    "slideshow": {
     "slide_type": "-"
    }
   },
   "outputs": [],
   "source": [
    "struct X\n",
    " {\n",
    "  static constexpr float pi = 3.14 ;\n",
    " } ;"
   ]
  },
  {
   "cell_type": "markdown",
   "metadata": {
    "slideshow": {
     "slide_type": "slide"
    }
   },
   "source": [
    "## `constexpr` functions\n",
    "\n",
    "A function declared as `constexpr` **can optionally** be evaluated at compile time, if the arguments passed to it are themselves constant expressions. Thus, for example, we can call functions, during compilation, so to calculate the size of a fixed array:"
   ]
  },
  {
   "cell_type": "code",
   "execution_count": 1,
   "metadata": {
    "slideshow": {
     "slide_type": "-"
    }
   },
   "outputs": [],
   "source": [
    "constexpr int square( int n )\n",
    " { return n*n ; }"
   ]
  },
  {
   "cell_type": "code",
   "execution_count": null,
   "metadata": {
    "attributes": {
     "classes": [
      "cpp"
     ],
     "id": ""
    },
    "slideshow": {
     "slide_type": "skip"
    }
   },
   "outputs": [],
   "source": [
    "#include <iostream>"
   ]
  },
  {
   "cell_type": "code",
   "execution_count": null,
   "metadata": {
    "attributes": {
     "classes": [
      "cpp"
     ],
     "id": ""
    },
    "slideshow": {
     "slide_type": "subslide"
    }
   },
   "outputs": [],
   "source": [
    "constexpr int t1 = 2 ;\n",
    "int const t2 = 2 ;\n",
    "int t3 = 2 ;\n",
    "//..."
   ]
  },
  {
   "cell_type": "code",
   "execution_count": 11,
   "metadata": {
    "attributes": {
     "classes": [
      "cpp"
     ],
     "id": ""
    },
    "slideshow": {
     "slide_type": "-"
    }
   },
   "outputs": [
    {
     "name": "stderr",
     "output_type": "stream",
     "text": [
      "\u001b[1minput_line_24:4:11: \u001b[0m\u001b[0;1;31merror: \u001b[0m\u001b[1mvariable-sized object may not be initialized\u001b[0m\n",
      "double a3[square(t3)] = { 1., 2., 3., 4. } ;\n",
      "\u001b[0;1;32m          ^~~~~~~~~~\n",
      "\u001b[0m"
     ]
    },
    {
     "ename": "Interpreter Error",
     "evalue": "",
     "output_type": "error",
     "traceback": [
      "Interpreter Error: "
     ]
    }
   ],
   "source": [
    "double a1[square(t1)] = { 1., 2., 3., 4. } ;\n",
    "double a2[square(t2)] = { 1., 2., 3., 4. } ;\n",
    "double a3[square(t3)] = { 1., 2., 3., 4. } ;"
   ]
  },
  {
   "cell_type": "markdown",
   "metadata": {},
   "source": [
    "Such functions were originally limited to a single `return` statement ! But all subsequent C++ versions have opened more and more the possibilities, so that today the main remaining prohibitions are:\n",
    "- the function to be `virtual`,\n",
    "- `try` blocks, `goto` statements,\n",
    "- more than one `return `statement`,\n",
    "- non-literal types for parameters and return value."
   ]
  },
  {
   "cell_type": "markdown",
   "metadata": {
    "slideshow": {
     "slide_type": "slide"
    }
   },
   "source": [
    "## `constexpr` constructor"
   ]
  },
  {
   "cell_type": "markdown",
   "metadata": {
    "slideshow": {
     "slide_type": "subslide"
    }
   },
   "source": [
    "The use of `constexpr` is allowed for a constructor if the body is empty and the members are explicitly initialized in the initialization area:"
   ]
  },
  {
   "cell_type": "code",
   "execution_count": 1,
   "metadata": {
    "slideshow": {
     "slide_type": "-"
    }
   },
   "outputs": [],
   "source": [
    "class Point\n",
    " {\n",
    "  public :\n",
    "    constexpr Point( int a_x, int a_y ) : m_x {a_x}, m_y {a_y} {}\n",
    "  private :\n",
    "    int m_x, m_y ;\n",
    " } ;"
   ]
  },
  {
   "cell_type": "code",
   "execution_count": 2,
   "metadata": {
    "attributes": {
     "classes": [
      "cpp"
     ],
     "id": ""
    },
    "slideshow": {
     "slide_type": "-"
    }
   },
   "outputs": [],
   "source": [
    "constexpr Point origin(0,0) ;"
   ]
  },
  {
   "cell_type": "markdown",
   "metadata": {
    "slideshow": {
     "slide_type": "slide"
    }
   },
   "source": [
    "## `if constexpr` (C++17)\n",
    "\n",
    "This variant of `if` is evaluated at compile time. The condition must obviously be a constant expression, evaluable at compilation time. This new *static if* is much better than a preprocessor `#if`, because its condition can be based on complex expressions evaluated by the compiler."
   ]
  },
  {
   "cell_type": "markdown",
   "metadata": {
    "slideshow": {
     "slide_type": "subslide"
    }
   },
   "source": [
    "In this example, we are comparing two numbers, with a margin in the case of a floating point number."
   ]
  },
  {
   "cell_type": "code",
   "execution_count": 1,
   "metadata": {
    "slideshow": {
     "slide_type": "skip"
    }
   },
   "outputs": [],
   "source": [
    "#include <iostream>\n",
    "#include <cmath>\n",
    "#include <type_traits>\n",
    "#include <limits>"
   ]
  },
  {
   "cell_type": "code",
   "execution_count": 3,
   "metadata": {
    "slideshow": {
     "slide_type": "-"
    }
   },
   "outputs": [],
   "source": [
    "template <class T>\n",
    "bool equal( T lhs, T rhs )\n",
    " {\n",
    "  if constexpr (std::is_floating_point_v<T>)\n",
    "   { return (std::abs(lhs-rhs)<std::numeric_limits<T>::epsilon()) ; }\n",
    "  else\n",
    "   { return lhs == rhs ; }\n",
    " } "
   ]
  },
  {
   "cell_type": "code",
   "execution_count": 11,
   "metadata": {
    "slideshow": {
     "slide_type": "-"
    }
   },
   "outputs": [
    {
     "name": "stdout",
     "output_type": "stream",
     "text": [
      "1. =~ .1+.1+.1+.1+.1+.1+.1+.1+.1+.1 ? 1\n",
      "100 =~ 10*10 ? 1\n"
     ]
    }
   ],
   "source": [
    "std::cout\n",
    "  <<\"1. =~ .1+.1+.1+.1+.1+.1+.1+.1+.1+.1 ? \"\n",
    "  <<equal(1.,.1+.1+.1+.1+.1+.1+.1+.1+.1+.1)\n",
    "  <<std::endl ;\n",
    "std::cout<<\"100 =~ 10*10 ? \"<<equal(100,10*10)<<std::endl ;  "
   ]
  },
  {
   "cell_type": "markdown",
   "metadata": {
    "slideshow": {
     "slide_type": "skip"
    }
   },
   "source": [
    "**To be noticed**: the \"if block\" above is not compilable when `T` is `int`, because `std::numeric_limits<int>::epsilon()` does not exists. Yet, this is not a problem, since the compiler directly evaluates `std::is_floating_point_v<int>` to `false`, discards the \"if block\", and only compiles the \"else block\"."
   ]
  },
  {
   "cell_type": "markdown",
   "metadata": {
    "slideshow": {
     "slide_type": "slide"
    }
   },
   "source": [
    "## `consteval` function (C++20)\n",
    "\n",
    "Such a function can only be called at compile time. It is meant to be an implementation which comply to the rules of constant expressions, but is not as fast as what cane be done at runtime. "
   ]
  },
  {
   "cell_type": "markdown",
   "metadata": {
    "slideshow": {
     "slide_type": "slide"
    }
   },
   "source": [
    "## `constinit` variable (C++20)\n",
    "\n",
    "This weaker variant of `constexpr` let you require a compile time evaluation, although the variable is not `const`and can be modified later on. This can only be used with global or static variables, and may help to solve the *Static Initialization Order Fiasco*.\n",
    "\n",
    "Since you safely avoid such dangerous global or static variables, this is not your concern ;)"
   ]
  },
  {
   "cell_type": "markdown",
   "metadata": {
    "slideshow": {
     "slide_type": "slide"
    }
   },
   "source": [
    "## `if consteval` (C++23)\n",
    "\n",
    "This let you detect that the current code is evaluated at compile-time, and let you use the `consteval` function optimized for this. The `else` block, on the contrary, can use the function which is optimized for runtime evaluation."
   ]
  },
  {
   "cell_type": "markdown",
   "metadata": {
    "slideshow": {
     "slide_type": "slide"
    }
   },
   "source": [
    "# Take away"
   ]
  },
  {
   "cell_type": "markdown",
   "metadata": {
    "slideshow": {
     "slide_type": "slide"
    }
   },
   "source": [
    "- A `const` variable **can** be initialized at compile-time.\n",
    "- A `constexpr` variable **must** be initialized at compile-time, and is `const`.\n",
    "- A `constinit` global/static variable **must** be initialized at compile-time, and is not `const`."
   ]
  },
  {
   "cell_type": "markdown",
   "metadata": {
    "slideshow": {
     "slide_type": "slide"
    }
   },
   "source": [
    "- A `constexpr` function call **can** be evaluated at compile-time, if its inputs are constant expressions.\n",
    "- A `consteval` function call **must** be evaluated at compile-time."
   ]
  },
  {
   "cell_type": "markdown",
   "metadata": {
    "slideshow": {
     "slide_type": "slide"
    }
   },
   "source": [
    "- `if constexpr ()` is evaluated at compile-time.\n",
    "- `if consteval` let you known if a compile-time evaluation is under way."
   ]
  },
  {
   "cell_type": "markdown",
   "metadata": {
    "slideshow": {
     "slide_type": "slide"
    }
   },
   "source": [
    "# Questions ?"
   ]
  },
  {
   "cell_type": "markdown",
   "metadata": {
    "slideshow": {
     "slide_type": "skip"
    }
   },
   "source": [
    "# Exercise\n",
    "\n",
    "The Fibonacci function is defined as follows:\n",
    "* f(0) = 0\n",
    "* f(1) = 1\n",
    "* f(n) = f(n-1)+f(n-2)\n",
    "\n",
    "It is written below using old meta-programming techniques, in order to be evaluated at compile time.\n",
    "- Simplify it ?\n",
    "- Mesure separately the time of compilation and excution.\n",
    "- Change the type of `fibo10`, measure again and compare."
   ]
  },
  {
   "cell_type": "code",
   "execution_count": 42,
   "metadata": {
    "slideshow": {
     "slide_type": "skip"
    }
   },
   "outputs": [
    {
     "name": "stdout",
     "output_type": "stream",
     "text": [
      "Overwriting tmp.constexpr.cpp\n"
     ]
    }
   ],
   "source": [
    "%%file tmp.constexpr.cpp\n",
    "\n",
    "#include <iostream>\n",
    "\n",
    "template<int N>\n",
    "struct fibonacci\n",
    " {\n",
    "  enum { value = fibonacci<N-1>::value + fibonacci<N-2>::value } ;\n",
    " } ;\n",
    "\n",
    "template<>\n",
    "struct fibonacci<1>\n",
    " {\n",
    "  enum { value = 1 } ;\n",
    " } ;\n",
    "\n",
    "template<>\n",
    "struct fibonacci<0>\n",
    " {\n",
    "  enum { value = 0 } ;\n",
    " } ;\n",
    "\n",
    "int main()\n",
    " {\n",
    "  constexpr int res {fibonacci(36)} ;\n",
    "  std::cout<<res<<std::endl ;\n",
    "  return 0 ;\n",
    " }"
   ]
  },
  {
   "cell_type": "code",
   "execution_count": 43,
   "metadata": {
    "slideshow": {
     "slide_type": "skip"
    }
   },
   "outputs": [],
   "source": [
    "!rm -f tmp.constexpr.exe"
   ]
  },
  {
   "cell_type": "code",
   "execution_count": 44,
   "metadata": {
    "slideshow": {
     "slide_type": "skip"
    }
   },
   "outputs": [
    {
     "name": "stdout",
     "output_type": "stream",
     "text": [
      "2.01user 0.04system 0:02.05elapsed 99%CPU (0avgtext+0avgdata 64680maxresident)k\n",
      "0inputs+48outputs (0major+17974minor)pagefaults 0swaps\n"
     ]
    }
   ],
   "source": [
    "!time g++ -std=c++17 tmp.constexpr.cpp -o tmp.constexpr.exe"
   ]
  },
  {
   "cell_type": "code",
   "execution_count": 45,
   "metadata": {
    "slideshow": {
     "slide_type": "skip"
    }
   },
   "outputs": [
    {
     "name": "stdout",
     "output_type": "stream",
     "text": [
      "14930352\n",
      "0.11user 0.00system 0:00.12elapsed 99%CPU (0avgtext+0avgdata 3452maxresident)k\n",
      "0inputs+0outputs (0major+143minor)pagefaults 0swaps\n"
     ]
    }
   ],
   "source": [
    "!time ./tmp.constexpr.exe"
   ]
  },
  {
   "cell_type": "markdown",
   "metadata": {
    "slideshow": {
     "slide_type": "skip"
    }
   },
   "source": [
    "## Resources\n",
    "* http://meetingcpp.com/blog/items/How-if-constexpr-simplifies-your-code-in-Cpp17.html\n",
    "* https://www.codingame.com/playgrounds/2205/7-features-of-c17-that-will-simplify-your-code/constexpr-if\n",
    "* https://linuxfr.org/news/cpp17-branche-a-la-compilation-if-constexpr\n",
    "* https://solarianprogrammer.com/2017/12/27/cpp-17-constexpr-everything-as-much-as-the-compiler-can/"
   ]
  },
  {
   "cell_type": "markdown",
   "metadata": {
    "slideshow": {
     "slide_type": "skip"
    }
   },
   "source": [
    "© *CNRS 2019*  \n",
    "*This document was created by David Chamont and translated by Olga Abramkina. It is available under the [License Creative Commons - Attribution - No commercial use - Shared under the conditions 4.0 International](http://creativecommons.org/licenses/by-nc-sa/4.0/)*\n",
    "\n"
   ]
  }
 ],
 "metadata": {
  "celltoolbar": "Diaporama",
  "kernelspec": {
   "display_name": "C++17",
   "language": "C++17",
   "name": "xcpp17"
  },
  "language_info": {
   "codemirror_mode": "text/x-c++src",
   "file_extension": ".cpp",
   "mimetype": "text/x-c++src",
   "name": "c++",
   "version": "17"
  },
  "toc": {
   "base_numbering": 1,
   "nav_menu": {},
   "number_sections": true,
   "sideBar": true,
   "skip_h1_title": true,
   "title_cell": "Table of Contents",
   "title_sidebar": "Contents",
   "toc_cell": false,
   "toc_position": {},
   "toc_section_display": true,
   "toc_window_display": false
  },
  "varInspector": {
   "cols": {
    "lenName": 16,
    "lenType": 16,
    "lenVar": 40
   },
   "kernels_config": {
    "python": {
     "delete_cmd_postfix": "",
     "delete_cmd_prefix": "del ",
     "library": "var_list.py",
     "varRefreshCmd": "print(var_dic_list())"
    },
    "r": {
     "delete_cmd_postfix": ") ",
     "delete_cmd_prefix": "rm(",
     "library": "var_list.r",
     "varRefreshCmd": "cat(var_dic_list()) "
    }
   },
   "types_to_exclude": [
    "module",
    "function",
    "builtin_function_or_method",
    "instance",
    "_Feature"
   ],
   "window_display": false
  }
 },
 "nbformat": 4,
 "nbformat_minor": 4
}
