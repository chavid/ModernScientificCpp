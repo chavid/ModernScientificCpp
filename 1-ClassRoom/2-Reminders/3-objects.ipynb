{
 "cells": [
  {
   "cell_type": "markdown",
   "metadata": {
    "slideshow": {
     "slide_type": "slide"
    }
   },
   "source": [
    "# Objects & classes"
   ]
  },
  {
   "cell_type": "markdown",
   "metadata": {
    "slideshow": {
     "slide_type": "slide"
    }
   },
   "source": [
    "## Redefinition of a class member function\n",
    "\n",
    "In the case of simple public inheritance, it is possible to define new member functions in the derived class, as well as to override those defined in the base class:"
   ]
  },
  {
   "cell_type": "code",
   "execution_count": 1,
   "metadata": {
    "slideshow": {
     "slide_type": "skip"
    }
   },
   "outputs": [],
   "source": [
    "#include<iostream>"
   ]
  },
  {
   "cell_type": "code",
   "execution_count": 2,
   "metadata": {
    "slideshow": {
     "slide_type": "fragment"
    }
   },
   "outputs": [],
   "source": [
    "struct Base\n",
    " {\n",
    "  void function1() { std::cout<<\"Base::function1\"<<std::endl ; }\n",
    "  void function2() { std::cout<<\"Base::function2\"<<std::endl ; }\n",
    " } ;"
   ]
  },
  {
   "cell_type": "code",
   "execution_count": 3,
   "metadata": {
    "slideshow": {
     "slide_type": "fragment"
    }
   },
   "outputs": [],
   "source": [
    "struct Derived : public Base\n",
    " {\n",
    "  void function2() { std::cout<<\"Derived::function2\"<<std::endl ; }\n",
    "  void function3() { std::cout<<\"Derived::function3\"<<std::endl ; }\n",
    " } ;"
   ]
  },
  {
   "cell_type": "code",
   "execution_count": 4,
   "metadata": {
    "slideshow": {
     "slide_type": "fragment"
    }
   },
   "outputs": [
    {
     "name": "stdout",
     "output_type": "stream",
     "text": [
      "Base::function1\n",
      "Derived::function2\n",
      "Derived::function3\n"
     ]
    }
   ],
   "source": [
    "Derived obj ;\n",
    "obj.function1() ;\n",
    "obj.function2() ;\n",
    "obj.function3() ;"
   ]
  },
  {
   "cell_type": "markdown",
   "metadata": {
    "slideshow": {
     "slide_type": "slide"
    }
   },
   "source": [
    "## Overloading and hiding\n",
    "\n",
    "Now let's discuss function overloading, i.e., using multiple functions with the same name but different signatures (the number or type of arguments). How does it work?"
   ]
  },
  {
   "cell_type": "code",
   "execution_count": 5,
   "metadata": {
    "slideshow": {
     "slide_type": "subslide"
    }
   },
   "outputs": [],
   "source": [
    "struct Base\n",
    " {\n",
    "  void display( int ) { std::cout<<\"Base::display( int )\"<<std::endl ; }\n",
    "  void display( float ) { std::cout<<\"Base::display( float )\"<<std::endl ; }\n",
    " } ;"
   ]
  },
  {
   "cell_type": "code",
   "execution_count": 6,
   "metadata": {
    "slideshow": {
     "slide_type": "fragment"
    }
   },
   "outputs": [],
   "source": [
    "struct Derived : public Base\n",
    " {\n",
    "  void display( float ) { std::cout<<\"Derived::display( float )\"<<std::endl ; }\n",
    "  void display( double ) { std::cout<<\"Derived::display( double )\"<<std::endl ; }\n",
    " } ;"
   ]
  },
  {
   "cell_type": "code",
   "execution_count": 7,
   "metadata": {
    "slideshow": {
     "slide_type": "fragment"
    }
   },
   "outputs": [
    {
     "name": "stderr",
     "output_type": "stream",
     "text": [
      "\u001b[1minput_line_13:3:7: \u001b[0m\u001b[0;1;31merror: \u001b[0m\u001b[1mcall to member function 'display' is ambiguous\u001b[0m\n",
      "  obj.display(42) ;\n",
      "\u001b[0;1;32m  ~~~~^~~~~~~\n",
      "\u001b[0m\u001b[1minput_line_12:3:8: \u001b[0m\u001b[0;1;30mnote: \u001b[0mcandidate function\u001b[0m\n",
      "  void display( float ) { std::cout<<\"Derived::display( float \"<<std::endl ; }\n",
      "\u001b[0;1;32m       ^\n",
      "\u001b[0m\u001b[1minput_line_12:4:8: \u001b[0m\u001b[0;1;30mnote: \u001b[0mcandidate function\u001b[0m\n",
      "  void display( double ) { std::cout<<\"Derived::display( double )\"<<std::endl ; }\n",
      "\u001b[0;1;32m       ^\n",
      "\u001b[0m"
     ]
    },
    {
     "ename": "Interpreter Error",
     "evalue": "",
     "output_type": "error",
     "traceback": [
      "Interpreter Error: "
     ]
    }
   ],
   "source": [
    "void check( Derived obj )\n",
    " { \n",
    "  obj.display(42) ;\n",
    "  obj.display(3.14f) ;\n",
    "  obj.display(3.14) ;\n",
    " }"
   ]
  },
  {
   "cell_type": "markdown",
   "metadata": {
    "slideshow": {
     "slide_type": "subslide"
    }
   },
   "source": [
    "When compiling `obj.mf(...)`, the compiler follow those steps:\n",
    "1. search some member function named `mf` in the class of `obj`;\n",
    "2. while not found at least one `mf`, move to its base classes, one after the other;\n",
    "3. in the selected class, within all overloaded `mf` functions, select the one which fit better the call arguments `(...)`."
   ]
  },
  {
   "cell_type": "markdown",
   "metadata": {
    "slideshow": {
     "slide_type": "fragment"
    }
   },
   "source": [
    "In the previous example, the compiler first select the `Derived` class, then hesitate to convert its `int` argument into either a `float` or a `double`."
   ]
  },
  {
   "cell_type": "markdown",
   "metadata": {
    "slideshow": {
     "slide_type": "subslide"
    }
   },
   "source": [
    "### Good old-fashioned practice\n",
    "\n",
    "When you redefine an inherited member function, **redefine all the base class functions which share the same name**, or you will hide some of them."
   ]
  },
  {
   "cell_type": "markdown",
   "metadata": {
    "slideshow": {
     "slide_type": "slide"
    }
   },
   "source": [
    "## Virtual member functions\n",
    "\n",
    "Let's make all the member functions virtual, and modify `check()` so to take as input a reference to the base class, so that we can provide any derived class instance."
   ]
  },
  {
   "cell_type": "code",
   "execution_count": 8,
   "metadata": {
    "slideshow": {
     "slide_type": "skip"
    }
   },
   "outputs": [],
   "source": [
    "#include<iostream>"
   ]
  },
  {
   "cell_type": "code",
   "execution_count": 9,
   "metadata": {
    "slideshow": {
     "slide_type": "subslide"
    }
   },
   "outputs": [],
   "source": [
    "struct Base\n",
    " {\n",
    "  virtual void display( int ) { std::cout<<\"Base::display( int )\"<<std::endl ; }\n",
    "  virtual void display( float ) { std::cout<<\"Base::display( float )\"<<std::endl ; }\n",
    " } ;"
   ]
  },
  {
   "cell_type": "code",
   "execution_count": 10,
   "metadata": {
    "slideshow": {
     "slide_type": "fragment"
    }
   },
   "outputs": [],
   "source": [
    "struct Derived : public Base\n",
    " {\n",
    "  virtual void display( float ) { std::cout<<\"Derived::display( float \"<<std::endl ; }\n",
    "  virtual void display( double ) { std::cout<<\"Derived::display( double )\"<<std::endl ; }\n",
    " } ;"
   ]
  },
  {
   "cell_type": "code",
   "execution_count": 11,
   "metadata": {
    "slideshow": {
     "slide_type": "fragment"
    }
   },
   "outputs": [
    {
     "name": "stderr",
     "output_type": "stream",
     "text": [
      "\u001b[1minput_line_17:5:8: \u001b[0m\u001b[0;1;31merror: \u001b[0m\u001b[1mcall to member function 'display' is ambiguous\u001b[0m\n",
      "  obj->display(3.14) ;\n",
      "\u001b[0;1;32m  ~~~~~^~~~~~~\n",
      "\u001b[0m\u001b[1minput_line_15:3:16: \u001b[0m\u001b[0;1;30mnote: \u001b[0mcandidate function\u001b[0m\n",
      "  virtual void display( int ) { std::cout<<\"Base::display( int )\"<<std::endl ; }\n",
      "\u001b[0;1;32m               ^\n",
      "\u001b[0m\u001b[1minput_line_15:4:16: \u001b[0m\u001b[0;1;30mnote: \u001b[0mcandidate function\u001b[0m\n",
      "  virtual void display( float ) { std::cout<<\"Base::display( float )\"<<std::endl ; }\n",
      "\u001b[0;1;32m               ^\n",
      "\u001b[0m"
     ]
    },
    {
     "ename": "Interpreter Error",
     "evalue": "",
     "output_type": "error",
     "traceback": [
      "Interpreter Error: "
     ]
    }
   ],
   "source": [
    "void check( Base * obj )\n",
    " {\n",
    "  obj->display(42) ;\n",
    "  obj->display(3.14f) ;\n",
    "  obj->display(3.14) ;\n",
    " }"
   ]
  },
  {
   "cell_type": "markdown",
   "metadata": {
    "slideshow": {
     "slide_type": "subslide"
    }
   },
   "source": [
    "The ambiguous line is now `obj.display(3.14)`: the type of `*obj` is `Base`, and the compiler hesitate to convert its `double` argument into either an `int` or a `float`."
   ]
  },
  {
   "cell_type": "markdown",
   "metadata": {
    "slideshow": {
     "slide_type": "subslide"
    }
   },
   "source": [
    "### Good old-fashioned practice\n",
    "\n",
    "When you define a base class with virtual functions, overload those functions for all the expected type of arguments that you expect in the derived classes."
   ]
  },
  {
   "cell_type": "code",
   "execution_count": 12,
   "metadata": {
    "slideshow": {
     "slide_type": "-"
    }
   },
   "outputs": [],
   "source": [
    "struct Base\n",
    " {\n",
    "  virtual void display( int ) { std::cout<<\"Base::display( int )\"<<std::endl ; }\n",
    "  virtual void display( float ) { std::cout<<\"Base::display( float )\"<<std::endl ; }\n",
    "  virtual void display( double ) { std::cout<<\"Base::display( double )\"<<std::endl ; }\n",
    " } ;"
   ]
  },
  {
   "cell_type": "markdown",
   "metadata": {
    "slideshow": {
     "slide_type": "subslide"
    }
   },
   "source": [
    "### Other good old-fashioned practice\n",
    "\n",
    "**Make the destructor `virtual`**. Indeed, you may create a derived object with `new` and store its address in a base class pointer. When calling `delete` on this pointer, one will bypass the derived destructor, unless it is virtual."
   ]
  },
  {
   "cell_type": "code",
   "execution_count": null,
   "metadata": {
    "slideshow": {
     "slide_type": "-"
    }
   },
   "outputs": [],
   "source": [
    "struct Base\n",
    " {\n",
    "  virtual void display( int ) { std::cout<<\"Base::display( int )\"<<std::endl ; }\n",
    "  virtual void display( float ) { std::cout<<\"Base::display( float )\"<<std::endl ; }\n",
    "  virtual void display( double ) { std::cout<<\"Base::display( double )\"<<std::endl ; }\n",
    "  virtual ~Base() {}\n",
    " } ;"
   ]
  },
  {
   "cell_type": "markdown",
   "metadata": {
    "slideshow": {
     "slide_type": "subslide"
    }
   },
   "source": [
    "### The cost of virtual functions\n",
    "\n",
    "When a class has at least one virtual member function:"
   ]
  },
  {
   "cell_type": "markdown",
   "metadata": {
    "slideshow": {
     "slide_type": "fragment"
    }
   },
   "source": [
    "1. **the size of all objects**, for this class and any derived class, **is increased by the size of a pointer** (pointing to the *virtual table* of the object real class)."
   ]
  },
  {
   "cell_type": "markdown",
   "metadata": {
    "slideshow": {
     "slide_type": "fragment"
    }
   },
   "source": [
    "2. for each call to a virtual function, the compiler **inserts** in the binary **a redirection** through the object *virtual table*, so to reach the object real class function."
   ]
  },
  {
   "cell_type": "markdown",
   "metadata": {
    "slideshow": {
     "slide_type": "subslide"
    }
   },
   "source": [
    "### The recommended use of virtual functions\n",
    "\n",
    "Because of the cost, virtual functions are rather used for large and not numerous objects : the upper software layers of your application. For what concerns the numerous and small objects, it is preferable to use templates (which slow down the compilation but have not effect during execution)."
   ]
  },
  {
   "cell_type": "markdown",
   "metadata": {
    "slideshow": {
     "slide_type": "slide"
    }
   },
   "source": [
    "## Function-objects\n",
    "\n",
    "If a class supply an `operator()`, its objects can behave similarly to a function. The member variables of the class can be seen as extraneous parameters for this function."
   ]
  },
  {
   "cell_type": "code",
   "execution_count": 13,
   "metadata": {
    "slideshow": {
     "slide_type": "skip"
    }
   },
   "outputs": [],
   "source": [
    "#include <iostream>"
   ]
  },
  {
   "cell_type": "code",
   "execution_count": 22,
   "metadata": {
    "slideshow": {
     "slide_type": "subslide"
    }
   },
   "outputs": [],
   "source": [
    "class LinearFunction\n",
    " {\n",
    "  public :\n",
    "    LinearFunction( double constant ) : m_constant(constant) {}\n",
    "    double operator()( double value ) { return m_constant*value ; }\n",
    "  private :\n",
    "    double m_constant ;    \n",
    " } ;"
   ]
  },
  {
   "cell_type": "code",
   "execution_count": 23,
   "metadata": {
    "slideshow": {
     "slide_type": "-"
    }
   },
   "outputs": [
    {
     "name": "stdout",
     "output_type": "stream",
     "text": [
      "0 2 4 6 8 10 12 14 16 18 "
     ]
    }
   ],
   "source": [
    "LinearFunction times2(2) ;\n",
    "const int SIZE = 10 ;\n",
    "double values[SIZE] = { 0, 1, 2, 3, 4, 5, 6, 7, 8, 9 } ;\n",
    "for ( int i=0 ; i<SIZE ; ++i )\n",
    " { std::cout << times2(values[i]) << \" \" ; }"
   ]
  },
  {
   "cell_type": "markdown",
   "metadata": {
    "slideshow": {
     "slide_type": "subslide"
    }
   },
   "source": [
    "### The recommended use of function-objects\n",
    "\n",
    "This type of classes is especially used with algorithms of the standard library."
   ]
  },
  {
   "cell_type": "markdown",
   "metadata": {
    "slideshow": {
     "slide_type": "subslide"
    }
   },
   "source": [
    "Below, we review the previous function-object, in order to integrate the call to `std::cout`, and then we combine it with `std::foreach`."
   ]
  },
  {
   "cell_type": "code",
   "execution_count": 16,
   "metadata": {
    "slideshow": {
     "slide_type": "skip"
    }
   },
   "outputs": [],
   "source": [
    "#include <algorithm>"
   ]
  },
  {
   "cell_type": "code",
   "execution_count": 24,
   "metadata": {
    "slideshow": {
     "slide_type": "-"
    }
   },
   "outputs": [],
   "source": [
    "class LinearFunctionPrint\n",
    "\n",
    " {\n",
    "  public :\n",
    "    LinearFunctionPrint( double constant ) : m_constant(constant) {}\n",
    "    void operator()( double value )\n",
    "     { std::cout << (m_constant*value) << \" \" ; }\n",
    "  private :\n",
    "    double m_constant ;    \n",
    " } ;"
   ]
  },
  {
   "cell_type": "code",
   "execution_count": 25,
   "metadata": {
    "slideshow": {
     "slide_type": "-"
    }
   },
   "outputs": [
    {
     "name": "stdout",
     "output_type": "stream",
     "text": [
      "0 2 4 6 8 10 12 14 16 18 "
     ]
    }
   ],
   "source": [
    "const int SIZE = 10 ;\n",
    "double values[SIZE] = { 0, 1, 2, 3, 4, 5, 6, 7, 8, 9 } ;\n",
    "std::for_each(values,values+SIZE,LinearFunctionPrint(2)) ;"
   ]
  },
  {
   "cell_type": "markdown",
   "metadata": {
    "slideshow": {
     "slide_type": "subslide"
    }
   },
   "source": [
    "Objet-functions are classes. They can also use inheritance:"
   ]
  },
  {
   "cell_type": "code",
   "execution_count": 20,
   "metadata": {
    "slideshow": {
     "slide_type": "-"
    }
   },
   "outputs": [],
   "source": [
    "class LinearFunctionPrint : public LinearFunction\n",
    " {\n",
    "  public :\n",
    "    LinearFunctionPrint( double constant ) : LinearFunction(constant) {}\n",
    "    void operator()( double value )\n",
    "     { std::cout << LinearFunction::operator()(value) << \" \" ; }\n",
    " } ;"
   ]
  },
  {
   "cell_type": "code",
   "execution_count": 21,
   "metadata": {
    "slideshow": {
     "slide_type": "-"
    }
   },
   "outputs": [
    {
     "name": "stdout",
     "output_type": "stream",
     "text": [
      "0 2 4 6 8 10 12 14 16 18 "
     ]
    }
   ],
   "source": [
    "const int SIZE = 10 ;\n",
    "double values[SIZE] = { 0, 1, 2, 3, 4, 5, 6, 7, 8, 9 } ;\n",
    "std::for_each(values,values+SIZE,LinearFunctionPrint(2)) ;"
   ]
  },
  {
   "cell_type": "markdown",
   "metadata": {
    "slideshow": {
     "slide_type": "subslide"
    }
   },
   "source": [
    "### Soon...\n",
    "\n",
    "This approach paves the way for a future parallel version of `for_each`, which will automate vectorization and/or multi-threaded execution."
   ]
  },
  {
   "cell_type": "markdown",
   "metadata": {
    "slideshow": {
     "slide_type": "slide"
    }
   },
   "source": [
    "## Conclusion\n",
    "\n",
    "Modern C++ will not revolutionize the object-orientated features, but rather bring many small improvements for all the identified flaws. With the exception of function-objects, which will be mostly replaced with the incredible **lambda functions**, which brings functional programming within C++."
   ]
  },
  {
   "cell_type": "markdown",
   "metadata": {
    "slideshow": {
     "slide_type": "slide"
    }
   },
   "source": [
    "## Questions ?"
   ]
  },
  {
   "cell_type": "markdown",
   "metadata": {
    "slideshow": {
     "slide_type": "skip"
    }
   },
   "source": [
    "© *CNRS 2020*  \n",
    "*This document was created by David Chamont and translated by Olga Abramkina. It is available under the [Licence Creative Commons - Attribution - No commercial use - Shared under the conditions 4.0 International](http://creativecommons.org/licenses/by-nc-sa/4.0/)*"
   ]
  }
 ],
 "metadata": {
  "celltoolbar": "Diaporama",
  "kernelspec": {
   "display_name": "C++17",
   "language": "C++17",
   "name": "xcpp17"
  },
  "language_info": {
   "codemirror_mode": "text/x-c++src",
   "file_extension": ".cpp",
   "mimetype": "text/x-c++src",
   "name": "c++",
   "version": "17"
  },
  "toc": {
   "base_numbering": 1,
   "nav_menu": {},
   "number_sections": true,
   "sideBar": true,
   "skip_h1_title": true,
   "title_cell": "Table of Contents",
   "title_sidebar": "Contents",
   "toc_cell": false,
   "toc_position": {},
   "toc_section_display": true,
   "toc_window_display": false
  },
  "varInspector": {
   "cols": {
    "lenName": 16,
    "lenType": 16,
    "lenVar": 40
   },
   "kernels_config": {
    "python": {
     "delete_cmd_postfix": "",
     "delete_cmd_prefix": "del ",
     "library": "var_list.py",
     "varRefreshCmd": "print(var_dic_list())"
    },
    "r": {
     "delete_cmd_postfix": ") ",
     "delete_cmd_prefix": "rm(",
     "library": "var_list.r",
     "varRefreshCmd": "cat(var_dic_list()) "
    }
   },
   "types_to_exclude": [
    "module",
    "function",
    "builtin_function_or_method",
    "instance",
    "_Feature"
   ],
   "window_display": false
  }
 },
 "nbformat": 4,
 "nbformat_minor": 4
}
