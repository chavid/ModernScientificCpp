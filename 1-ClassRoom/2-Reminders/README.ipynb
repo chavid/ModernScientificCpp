{
 "cells": [
  {
   "cell_type": "markdown",
   "metadata": {},
   "source": [
    "# Reminders\n",
    "\n",
    "We are going to start this review by discussing numerical aspects of C++, because this course is all about scientific computing. Next we'll go over some advanced and important points of object-oriented programming. Then we'll revise pointers, the major source of errors in C++, as well as C. We'll finish the review by discussing templates. This C++ feature can give one a headache but, at the same time, it's one of the language's strong points as evidenced by the standard library. Fasten the belt !\n",
    "\n",
    "* [Numbers](1-numbers.ipynb)\n",
    "* [Floating point numbers](2-floats.ipynb)\n",
    "* [Classes and objects](3-objects.ipynb)\n",
    "* [Pointers and dynamic memory management](4-pointers.ipynb)\n",
    "* [Templates](5-templates.ipynb)\n",
    "* [Templates specialisation](6-specialisation.ipynb)"
   ]
  },
  {
   "cell_type": "markdown",
   "metadata": {},
   "source": [
    "© *CNRS 2022*  \n",
    "*This document was created by David Chamont. It is available under the [Licence Creative Commons - Attribution - No commercial use - Shared under the conditions 4.0 International](http://creativecommons.org/licenses/by-nc-sa/4.0/)*"
   ]
  }
 ],
 "metadata": {
  "kernelspec": {
   "display_name": "C++17",
   "language": "C++17",
   "name": "xcpp17"
  },
  "language_info": {
   "codemirror_mode": "text/x-c++src",
   "file_extension": ".cpp",
   "mimetype": "text/x-c++src",
   "name": "c++",
   "version": "17"
  }
 },
 "nbformat": 4,
 "nbformat_minor": 4
}
