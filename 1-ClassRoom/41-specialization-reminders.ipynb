{
 "cells": [
  {
   "cell_type": "markdown",
   "metadata": {
    "slideshow": {
     "slide_type": "slide"
    }
   },
   "source": [
    "# Template specialization\n",
    "After defining a class or function template, we still can add **different implementations** for particular values of some or all of its parameters. This feature is called *template specialization*."
   ]
  },
  {
   "cell_type": "code",
   "execution_count": null,
   "metadata": {
    "slideshow": {
     "slide_type": "subslide"
    }
   },
   "outputs": [],
   "source": [
    "%%file tmp.specialisation.h\n",
    "\n",
    "#include <cmath>\n",
    "#include <limits>\n",
    "\n",
    "template<typename T>\n",
    "bool equal( T v1, T v2 )\n",
    " { return (v1==v2) ; }\n",
    "\n",
    "template<>\n",
    "bool equal( double v1, double v2 )\n",
    " { return (std::abs(v1-v2)<=std::numeric_limits<double>::epsilon()) ; }"
   ]
  },
  {
   "cell_type": "code",
   "execution_count": null,
   "metadata": {
    "slideshow": {
     "slide_type": "subslide"
    }
   },
   "outputs": [],
   "source": [
    "%%file tmp.specialisation.cpp\n",
    "\n",
    "#include <iostream>\n",
    "#include \"tmp.specialisation.h\"\n",
    "\n",
    "template<typename T>\n",
    "void compare( T v1, T v2 )\n",
    " {\n",
    "  if (equal(v1,v2)) { std::cout<<v1<<\" =~ \"<<v2<<std::endl ; }\n",
    "  else              { std::cout<<v1<<\" !~ \"<<v2<<std::endl ; }\n",
    " }\n",
    "\n",
    "int main()\n",
    " {\n",
    "  compare(1.,.1+.1+.1+.1+.1+.1+.1+.1+.1+.1) ;\n",
    "  compare(100,10*10) ;\n",
    " }"
   ]
  },
  {
   "cell_type": "code",
   "execution_count": null,
   "metadata": {
    "slideshow": {
     "slide_type": "subslide"
    }
   },
   "outputs": [],
   "source": [
    "!rm -f tmp.specialisation.exe && g++ -std=c++03 tmp.specialisation.cpp -o tmp.specialisation.exe"
   ]
  },
  {
   "cell_type": "code",
   "execution_count": null,
   "metadata": {
    "slideshow": {
     "slide_type": "-"
    }
   },
   "outputs": [],
   "source": [
    "!./tmp.specialisation.exe"
   ]
  },
  {
   "cell_type": "markdown",
   "metadata": {
    "slideshow": {
     "slide_type": "slide"
    }
   },
   "source": [
    "## Pandora's box\n",
    "\n",
    "When specializing a class template, one can completely change its interface. This may seems a bad idea, yet it is deeply used in TMP (Template Meta Programming)."
   ]
  },
  {
   "cell_type": "markdown",
   "metadata": {
    "slideshow": {
     "slide_type": "fragment"
    }
   },
   "source": [
    "Such specialisations may stay in different files, and come into play due to a simple `#include`."
   ]
  },
  {
   "cell_type": "markdown",
   "metadata": {
    "slideshow": {
     "slide_type": "fragment"
    }
   },
   "source": [
    "You are allowed to specialise standard library templates, such as `std::vector<MyClass>` !"
   ]
  },
  {
   "cell_type": "markdown",
   "metadata": {
    "slideshow": {
     "slide_type": "fragment"
    }
   },
   "source": [
    "Thus, in presence of templates, **the compiler becomes cautious** and will often ask the developer for additional guaranties."
   ]
  },
  {
   "cell_type": "markdown",
   "metadata": {
    "slideshow": {
     "slide_type": "slide"
    }
   },
   "source": [
    "## Hassle with nested types, again\n",
    "\n",
    "As we have already seen, adding the keyword `typename` is required in case of nested types to clarify that we are dealing with a type. In the below example one can suppose that it is not needed:"
   ]
  },
  {
   "cell_type": "code",
   "execution_count": null,
   "metadata": {
    "slideshow": {
     "slide_type": "-"
    }
   },
   "outputs": [],
   "source": [
    "%%file tmp.specialisation.cpp\n",
    "\n",
    "#include <iostream>\n",
    "#include <vector>\n",
    "    \n",
    "template<typename Val>\n",
    "void print( std::vector<Val> & col ) {\n",
    "  std::vector<Val>::iterator itr ;\n",
    "  for ( itr = col.begin() ; itr != col.end() ; ++itr ) \n",
    "    { std::cout<<(*itr)<<\" \" ; }\n",
    "  std::cout<<std::endl ;\n",
    "}\n",
    "\n",
    "int main() {\n",
    "  std::vector<int> data { 1, 2, 3, 4, 5 } ;\n",
    "  print(data) ;\n",
    "}"
   ]
  },
  {
   "cell_type": "code",
   "execution_count": null,
   "metadata": {},
   "outputs": [],
   "source": [
    "!rm -f tmp.specialisation.exe && g++ -std=c++11 tmp.specialisation.cpp -o tmp.specialisation.exe"
   ]
  },
  {
   "attachments": {},
   "cell_type": "markdown",
   "metadata": {
    "slideshow": {
     "slide_type": "skip"
    }
   },
   "source": [
    "Well, `std::vector` is known, but what if there exists a nasty specialisation for a certain value of `Val`\n",
    "which changes the meaning of `std::vector<Val>::iterator`? Something along these lines:\n",
    "```c++\n",
    "template<>\n",
    "class std::vector<int>\n",
    " {\n",
    "  public : \n",
    "    static int iterator ;\n",
    "    //...\n",
    " } ;\n",
    "```"
   ]
  },
  {
   "cell_type": "markdown",
   "metadata": {
    "slideshow": {
     "slide_type": "subslide"
    }
   },
   "source": [
    "Again, the compiler needs to be reassured with the keyword `typename`. It is required for all types which are both **nested and dependent** on a template parameter, directly or indirectly."
   ]
  },
  {
   "cell_type": "code",
   "execution_count": null,
   "metadata": {
    "slideshow": {
     "slide_type": "-"
    }
   },
   "outputs": [],
   "source": [
    "%%file tmp.specialisation.cpp\n",
    "\n",
    "#include <iostream>\n",
    "#include <vector>\n",
    "    \n",
    "template<typename Val>\n",
    "void print( std::vector<Val> & col ) {\n",
    "  typename std::vector<Val>::iterator itr ;\n",
    "  for ( itr = col.begin() ; itr != col.end() ; ++itr ) \n",
    "    { std::cout<<(*itr)<<\" \" ; }\n",
    "  std::cout<<std::endl ;\n",
    "}\n",
    "\n",
    "int main() {\n",
    "  std::vector<int> data { 1, 2, 3, 4, 5 } ;\n",
    "  print(data) ;\n",
    "}"
   ]
  },
  {
   "cell_type": "code",
   "execution_count": null,
   "metadata": {},
   "outputs": [],
   "source": [
    "!rm -f tmp.specialisation.exe && g++ -std=c++11 tmp.specialisation.cpp -o tmp.specialisation.exe"
   ]
  },
  {
   "cell_type": "code",
   "execution_count": null,
   "metadata": {},
   "outputs": [],
   "source": [
    "!./tmp.specialisation.exe"
   ]
  },
  {
   "cell_type": "markdown",
   "metadata": {
    "slideshow": {
     "slide_type": "skip"
    }
   },
   "source": [
    "On the contrary, in all other cases the keyword  `typename` is forbidden. Because of the absence of ambiguity, `typename` is also forbidden in a list of base classes, and in constructor initialization area. Generally, the compiler emits pretty clear warnings and error messages."
   ]
  },
  {
   "cell_type": "markdown",
   "metadata": {
    "slideshow": {
     "slide_type": "skip"
    }
   },
   "source": [
    "If a given nested and dependent type is used frequently, to avoid the drudgery of repeating `typename` everywhere, it is typical to define a `typedef` with the same name:"
   ]
  },
  {
   "cell_type": "code",
   "execution_count": null,
   "metadata": {
    "slideshow": {
     "slide_type": "skip"
    }
   },
   "outputs": [],
   "source": [
    "template<typename T>\n",
    "struct Base\n",
    " { struct Nested { Nested( int i = 0 ) {} } ; } ;\n",
    " \n",
    "template<typename T>\n",
    "struct Derived : public Base<T>::Nested\n",
    " {\n",
    "  typedef typename Base<T>::Nested Nested ;\n",
    "  Derived(int x) : Nested(x)\n",
    "   {                                \n",
    "    Nested temp ;\n",
    "    //.....\n",
    "   }\n",
    "  //.....\n",
    " } ;"
   ]
  },
  {
   "cell_type": "markdown",
   "metadata": {
    "slideshow": {
     "slide_type": "slide"
    }
   },
   "source": [
    "## Complication in case of inheritance\n",
    "\n",
    "When a class inherits from a class template, the compiler suspects some possible nasty specialisation, and **does not apply the inheritance as is** !"
   ]
  },
  {
   "cell_type": "code",
   "execution_count": null,
   "metadata": {
    "slideshow": {
     "slide_type": "-"
    }
   },
   "outputs": [],
   "source": [
    "%%file tmp.specialisation.cpp\n",
    "\n",
    "#include <iostream>\n",
    "    \n",
    "template<typename Val>\n",
    "struct MyContainer\n",
    " {\n",
    "  int size() { return 0 ; } ;\n",
    " } ;\n",
    "\n",
    "template<typename Val>\n",
    "struct MyExtendedContainer : public MyContainer<Val>\n",
    " {\n",
    "  int size_plus_one()\n",
    "   { return size() + 1 ; }\n",
    " } ;\n",
    "\n",
    "int main() { \n",
    "  MyExtendedContainer<int> col {} ;\n",
    "  std::cout<<col.size_plus_one()<<std::endl ;\n",
    "}"
   ]
  },
  {
   "cell_type": "code",
   "execution_count": null,
   "metadata": {},
   "outputs": [],
   "source": [
    "!rm -f tmp.specialisation.exe && g++ -std=c++11 tmp.specialisation.cpp -o tmp.specialisation.exe"
   ]
  },
  {
   "attachments": {},
   "cell_type": "markdown",
   "metadata": {
    "slideshow": {
     "slide_type": "subslide"
    }
   },
   "source": [
    "Three ways permit to \"appease\" the compiler:\n",
    "1.  Making the attribute visible with a help of instruction using: `... using MyContainer<Val>::size ; ...`.\n",
    "2.  **Calling the attribute through `this`: `...return this->size()...`.**\n",
    "3.  Prefixing the attribute by the class name: `...return MyContainer<Val>::size()...`.\n",
    "\n",
    "The last approach should be avoided, because it inhibits possibly virtual methods."
   ]
  },
  {
   "cell_type": "code",
   "execution_count": null,
   "metadata": {
    "slideshow": {
     "slide_type": "-"
    }
   },
   "outputs": [],
   "source": [
    "%%file tmp.specialisation.cpp\n",
    "\n",
    "#include <iostream>\n",
    "    \n",
    "template<typename Val>\n",
    "struct MyContainer\n",
    " {\n",
    "  int size() { return 0 ; } ;\n",
    " } ;\n",
    "\n",
    "template<typename Val>\n",
    "struct MyExtendedContainer : public MyContainer<Val>\n",
    " {\n",
    "  int size_plus_one()\n",
    "   { return this->size() + 1 ; }\n",
    " } ;\n",
    "\n",
    "int main() { \n",
    "  MyExtendedContainer<int> col {} ;\n",
    "  std::cout<<col.size_plus_one()<<std::endl ;\n",
    "}"
   ]
  },
  {
   "cell_type": "code",
   "execution_count": null,
   "metadata": {},
   "outputs": [],
   "source": [
    "!rm -f tmp.specialisation.exe && g++ -std=c++11 tmp.specialisation.cpp -o tmp.specialisation.exe"
   ]
  },
  {
   "cell_type": "code",
   "execution_count": null,
   "metadata": {},
   "outputs": [],
   "source": [
    "!./tmp.specialisation.exe"
   ]
  },
  {
   "cell_type": "markdown",
   "metadata": {
    "slideshow": {
     "slide_type": "slide"
    }
   },
   "source": [
    "## Partial specialisation\n",
    "\n",
    "For classed with multiple parameters, it is possible to implement a **partial specialisation** on a sub-set of its parameters."
   ]
  },
  {
   "cell_type": "code",
   "execution_count": null,
   "metadata": {
    "slideshow": {
     "slide_type": "subslide"
    }
   },
   "outputs": [],
   "source": [
    "%%file tmp.specialisation.h\n",
    "\n",
    "#include <iostream>\n",
    "\n",
    "template <typename Type, int N>\n",
    "struct Array {\n",
    "  Type table[N] ;\n",
    "  Array() { std::cout << \"General case\" << std::endl ; }\n",
    "} ;\n",
    "\n",
    "template <int N>\n",
    "struct Array<float, N> {\n",
    "  float table[N];\n",
    "  Array() { std::cout << \"Type = float\" << std::endl ; }\n",
    "} ;\n",
    "\n",
    "template <typename Type>\n",
    "struct Array<Type, 10> {\n",
    "  Type table[10] ;\n",
    "  Array() { std::cout << \"N = 10\" << std::endl ; }\n",
    "} ;\n",
    "\n",
    "template <>\n",
    "struct Array<long, 5> {\n",
    "  long table[5] ;\n",
    "  Array() { std::cout << \"Type = long, N = 5\" << std::endl ; }\n",
    "} ;"
   ]
  },
  {
   "cell_type": "code",
   "execution_count": null,
   "metadata": {
    "slideshow": {
     "slide_type": "subslide"
    }
   },
   "outputs": [],
   "source": [
    "%%file tmp.specialisation.cpp\n",
    "\n",
    "#include \"tmp.specialisation.h\"\n",
    "\n",
    "typedef Array<int, 5> Array_int_5 ;  // syntactic short-cut\n",
    "\n",
    "int main() {\n",
    "    Array<double, 15> a1 ;\n",
    "    Array<float, 20> a2 ;\n",
    "    Array<int, 10> a3 ;\n",
    "    Array<long, 5> a4 ;\n",
    "    Array_int_5 a5 ;\n",
    "}"
   ]
  },
  {
   "cell_type": "code",
   "execution_count": null,
   "metadata": {
    "slideshow": {
     "slide_type": "skip"
    }
   },
   "outputs": [],
   "source": [
    "!rm -f tmp.specialisation.exe && g++ -std=c++03 tmp.specialisation.cpp -o tmp.specialisation.exe"
   ]
  },
  {
   "cell_type": "code",
   "execution_count": null,
   "metadata": {
    "slideshow": {
     "slide_type": "subslide"
    }
   },
   "outputs": [],
   "source": [
    "!./tmp.specialisation.exe"
   ]
  },
  {
   "cell_type": "markdown",
   "metadata": {
    "slideshow": {
     "slide_type": "skip"
    }
   },
   "source": [
    "NOTE : partial specialisation of an integer parameter is only possible for class templates and not for function templates."
   ]
  },
  {
   "cell_type": "markdown",
   "metadata": {
    "slideshow": {
     "slide_type": "slide"
    }
   },
   "source": [
    "## Systematic specialisation : traits\n",
    "\n",
    "Similarly to abstract base class which only serves as a common interface (intended to be derived), one can define an empty (or almost empty) template, intended to be specialised, in order to **add some kind of properties to existing classes and/or predefined types**. We call this *traits*."
   ]
  },
  {
   "cell_type": "code",
   "execution_count": null,
   "metadata": {
    "slideshow": {
     "slide_type": "subslide"
    }
   },
   "outputs": [],
   "source": [
    "%%file tmp.traits.h\n",
    "\n",
    "template <typename T>\n",
    "struct Traits {\n",
    "  static const bool is_floating_point = false ;\n",
    "} ;\n",
    "\n",
    "template <>\n",
    "struct Traits<float> {\n",
    "  static const bool is_floating_point = true ;\n",
    "  static const float epsilon ;\n",
    " } ;\n",
    "const float Traits<float>::epsilon = 1e-3 ;\n",
    "\n",
    "template <>\n",
    "struct Traits<double> {\n",
    "  static const bool is_floating_point = true ;\n",
    "  static const double epsilon ;\n",
    " } ;\n",
    "const double Traits<double>::epsilon = 1e-6 ;"
   ]
  },
  {
   "cell_type": "code",
   "execution_count": null,
   "metadata": {
    "slideshow": {
     "slide_type": "subslide"
    }
   },
   "outputs": [],
   "source": [
    "%%file tmp.equal.h\n",
    "\n",
    "#include \"tmp.traits.h\"\n",
    "#include <cmath>\n",
    "\n",
    "template<typename T>\n",
    "bool equal( T e1, T e2 )\n",
    " { return (e1==e2) ; }\n",
    "\n",
    "template<typename T>\n",
    "bool equal( float e1, float e2 )\n",
    " { return std::abs(e1-e2)<Traits<float>::epsilon ; }\n",
    "\n",
    "template<>\n",
    "bool equal( double e1, double e2 )\n",
    " { return std::abs(e1-e2)<Traits<double>::epsilon ; }"
   ]
  },
  {
   "cell_type": "code",
   "execution_count": null,
   "metadata": {
    "slideshow": {
     "slide_type": "subslide"
    }
   },
   "outputs": [],
   "source": [
    "%%file tmp.specialisation.cpp\n",
    "\n",
    "#include \"tmp.equal.h\"\n",
    "#include <iostream>\n",
    "\n",
    "template<typename T>\n",
    "void compare( T e1, T e2 )\n",
    " {\n",
    "  if (equal(e1,e2)) { std::cout<<e1<<\" =~ \"<<e2<<std::endl ; }\n",
    "  else              { std::cout<<e1<<\" !~ \"<<e2<<std::endl ; }\n",
    " }\n",
    "\n",
    "int main()\n",
    " {\n",
    "  compare(1.,.1+.1+.1+.1+.1+.1+.1+.1+.1+.1) ;\n",
    "  compare(100,10*10) ;\n",
    " }"
   ]
  },
  {
   "cell_type": "code",
   "execution_count": null,
   "metadata": {
    "slideshow": {
     "slide_type": "skip"
    }
   },
   "outputs": [],
   "source": [
    "!rm -f tmp.specialisation.exe && g++ -std=c++03 tmp.specialisation.cpp -o tmp.specialisation.exe"
   ]
  },
  {
   "cell_type": "code",
   "execution_count": null,
   "metadata": {
    "slideshow": {
     "slide_type": "skip"
    }
   },
   "outputs": [],
   "source": [
    "!./tmp.specialisation.exe"
   ]
  },
  {
   "cell_type": "markdown",
   "metadata": {
    "slideshow": {
     "slide_type": "skip"
    }
   },
   "source": [
    "This idiom permits adding indirectly new members (`is_floating_point` and `epsilon`) to a class which we don't have the rights to modify, and especially predefined-type members (`float` and `double`)."
   ]
  },
  {
   "cell_type": "markdown",
   "metadata": {
    "slideshow": {
     "slide_type": "slide"
    }
   },
   "source": [
    "## Complication in case of overloading\n",
    "\n",
    "When templates and overloaded functions (having the same name) starts to compete, the templates patrons acts frequently in an invasive way giving bringing to quite surprising results.\n",
    "The following code does not compile:"
   ]
  },
  {
   "cell_type": "code",
   "execution_count": null,
   "metadata": {
    "slideshow": {
     "slide_type": "subslide"
    }
   },
   "outputs": [],
   "source": [
    "%%file tmp.equal.h\n",
    "\n",
    "#include \"tmp.traits.h\"\n",
    "#include <cmath>\n",
    "\n",
    "bool equal( unsigned e1, unsigned e2 )\n",
    " { return (e1==e2) ; }\n",
    " \n",
    "template< typename T >\n",
    "bool equal( T v1, T v2 )\n",
    " { return (std::abs(v1-v2)<Traits<T>::epsilon) ; }"
   ]
  },
  {
   "cell_type": "code",
   "execution_count": null,
   "metadata": {
    "slideshow": {
     "slide_type": "subslide"
    }
   },
   "outputs": [],
   "source": [
    "%%file tmp.specialisation.cpp\n",
    "\n",
    "#include \"tmp.equal.h\"\n",
    "#include <iostream>\n",
    "\n",
    "template<typename T>\n",
    "void compare( T e1, T e2 )\n",
    " {\n",
    "  if (equal(e1,e2)) { std::cout<<e1<<\" =~ \"<<e2<<std::endl ; }\n",
    "  else              { std::cout<<e1<<\" !~ \"<<e2<<std::endl ; }\n",
    " }\n",
    "\n",
    "int main()\n",
    " {\n",
    "  compare(1.,.1+.1+.1+.1+.1+.1+.1+.1+.1+.1) ;\n",
    "  compare(100,10*10) ;\n",
    " }"
   ]
  },
  {
   "cell_type": "code",
   "execution_count": null,
   "metadata": {
    "slideshow": {
     "slide_type": "subslide"
    }
   },
   "outputs": [],
   "source": [
    "!rm -f tmp.specialisation.exe && g++ -std=c++03 -Wall tmp.specialisation.cpp -o tmp.specialisation.exe"
   ]
  },
  {
   "cell_type": "code",
   "execution_count": null,
   "metadata": {
    "scrolled": true
   },
   "outputs": [],
   "source": [
    "!./tmp.specialisation.exe"
   ]
  },
  {
   "cell_type": "markdown",
   "metadata": {
    "slideshow": {
     "slide_type": "skip"
    }
   },
   "source": [
    "When compiling `compare(100,10*10)`, because those literals are `int`, the compiler chose the template flavor of `equal`, which can better match `int` than the `equal` function using `unsigned`. Then, during instanciation of the template flavor of `equal`, it fails to find `Traits<int>::epsilon`."
   ]
  },
  {
   "cell_type": "code",
   "execution_count": null,
   "metadata": {
    "slideshow": {
     "slide_type": "subslide"
    }
   },
   "outputs": [],
   "source": [
    "%%file tmp.specialisation.cpp\n",
    "\n",
    "#include \"tmp.equal.h\"\n",
    "#include <iostream>\n",
    "\n",
    "template<typename T>\n",
    "void compare( T e1, T e2 )\n",
    " {\n",
    "  if (equal(e1,e2)) { std::cout<<e1<<\" =~ \"<<e2<<std::endl ; }\n",
    "  else              { std::cout<<e1<<\" !~ \"<<e2<<std::endl ; }\n",
    " }\n",
    "\n",
    "int main()\n",
    " {\n",
    "  compare(1.,.1+.1+.1+.1+.1+.1+.1+.1+.1+.1) ;\n",
    "  compare(100u,10u*10u) ;\n",
    " }"
   ]
  },
  {
   "cell_type": "code",
   "execution_count": null,
   "metadata": {
    "slideshow": {
     "slide_type": "subslide"
    }
   },
   "outputs": [],
   "source": [
    "!rm -f tmp.specialisation.exe && g++ -std=c++03 -Wall tmp.specialisation.cpp -o tmp.specialisation.exe"
   ]
  },
  {
   "cell_type": "code",
   "execution_count": null,
   "metadata": {
    "scrolled": true
   },
   "outputs": [],
   "source": [
    "!./tmp.specialisation.exe"
   ]
  },
  {
   "cell_type": "markdown",
   "metadata": {
    "slideshow": {
     "slide_type": "slide"
    }
   },
   "source": [
    "## Take away\n",
    "\n",
    "It's one of the biggest historical limitations of templates: **we have no direct way to impose constraints on parameters**. We have complicated indirect ways, within the frame of Template Meta Programming : *SFINAE*, *`enable_if`*... Hopefully, C++20 brings a new feature, called **concepts**, which solve this issue."
   ]
  },
  {
   "cell_type": "markdown",
   "metadata": {
    "slideshow": {
     "slide_type": "slide"
    }
   },
   "source": [
    "## Questions ?"
   ]
  },
  {
   "cell_type": "markdown",
   "metadata": {
    "slideshow": {
     "slide_type": "skip"
    }
   },
   "source": [
    "© *CNRS 2024*  \n",
    "*This document was created by David Chamont and translated by Olga Abramkina. It is available under the [License Creative Commons - Attribution - No commercial use - Shared under the conditions 4.0 International](http://creativecommons.org/licenses/by-nc-sa/4.0/)*"
   ]
  }
 ],
 "metadata": {
  "celltoolbar": "Diaporama",
  "kernelspec": {
   "display_name": "C++17",
   "language": "C++17",
   "name": "xcpp17"
  },
  "language_info": {
   "codemirror_mode": "text/x-c++src",
   "file_extension": ".cpp",
   "mimetype": "text/x-c++src",
   "name": "c++",
   "version": "17"
  },
  "toc": {
   "base_numbering": 1,
   "nav_menu": {},
   "number_sections": true,
   "sideBar": true,
   "skip_h1_title": true,
   "title_cell": "Table of Contents",
   "title_sidebar": "Contents",
   "toc_cell": false,
   "toc_position": {},
   "toc_section_display": true,
   "toc_window_display": false
  },
  "varInspector": {
   "cols": {
    "lenName": 16,
    "lenType": 16,
    "lenVar": 40
   },
   "kernels_config": {
    "python": {
     "delete_cmd_postfix": "",
     "delete_cmd_prefix": "del ",
     "library": "var_list.py",
     "varRefreshCmd": "print(var_dic_list())"
    },
    "r": {
     "delete_cmd_postfix": ") ",
     "delete_cmd_prefix": "rm(",
     "library": "var_list.r",
     "varRefreshCmd": "cat(var_dic_list()) "
    }
   },
   "types_to_exclude": [
    "module",
    "function",
    "builtin_function_or_method",
    "instance",
    "_Feature"
   ],
   "window_display": false
  }
 },
 "nbformat": 4,
 "nbformat_minor": 4
}
