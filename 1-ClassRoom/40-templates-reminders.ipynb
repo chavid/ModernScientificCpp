{
 "cells": [
  {
   "cell_type": "markdown",
   "metadata": {
    "editable": true,
    "slideshow": {
     "slide_type": "slide"
    },
    "tags": []
   },
   "source": [
    "# Templates"
   ]
  },
  {
   "cell_type": "markdown",
   "metadata": {
    "slideshow": {
     "slide_type": "subslide"
    }
   },
   "source": [
    "## Principles\n",
    "* Automated copy-and-paste of functions or classes, with different types and integer constants.\n",
    "* Specialization: one can define a specific implementations of the function/class for specific types and/or constants."
   ]
  },
  {
   "cell_type": "markdown",
   "metadata": {
    "slideshow": {
     "slide_type": "subslide"
    }
   },
   "source": [
    "### Benefits\n",
    "* Make code generic, yet strongly typed.\n",
    "* Fully processed at compile time.\n",
    "* Zero cost at run time."
   ]
  },
  {
   "cell_type": "markdown",
   "metadata": {
    "slideshow": {
     "slide_type": "subslide"
    }
   },
   "source": [
    "### Drawbacks\n",
    "* Increased compile time.\n",
    "* Long unclear error messages.\n",
    "* Voluminous executables (\"code bloat\")."
   ]
  },
  {
   "cell_type": "markdown",
   "metadata": {
    "slideshow": {
     "slide_type": "slide"
    }
   },
   "source": [
    "## Good old-fashioned practice : factorize"
   ]
  },
  {
   "cell_type": "markdown",
   "metadata": {
    "slideshow": {
     "slide_type": "subslide"
    }
   },
   "source": [
    "Let's consider this example:"
   ]
  },
  {
   "cell_type": "code",
   "execution_count": null,
   "metadata": {
    "slideshow": {
     "slide_type": "skip"
    }
   },
   "outputs": [],
   "source": [
    "#include <iostream>"
   ]
  },
  {
   "cell_type": "code",
   "execution_count": null,
   "metadata": {
    "slideshow": {
     "slide_type": "fragment"
    }
   },
   "outputs": [],
   "source": [
    "template< typename T, int n >\n",
    "struct Array\n",
    " {\n",
    "  T data[n] ;\n",
    "  T sum()\n",
    "   {\n",
    "    T res = 0 ;\n",
    "    for ( int i = 0 ; i < n ; ++i )    \n",
    "     { res += data[i] ; }\n",
    "    return res ;  \n",
    "   }\n",
    " } ;"
   ]
  },
  {
   "cell_type": "markdown",
   "metadata": {
    "slideshow": {
     "slide_type": "subslide"
    }
   },
   "source": [
    "The whole code is duplicated for any set of values for the parameters `T` and `n`:"
   ]
  },
  {
   "cell_type": "code",
   "execution_count": null,
   "metadata": {
    "slideshow": {
     "slide_type": "fragment"
    }
   },
   "outputs": [],
   "source": [
    "Array<int,2> a1 = { 5, -5 } ;\n",
    "std::cout << a1.sum() << std::endl ;\n",
    "Array<double,4> a2 = { .1, .2, .3 } ;\n",
    "std::cout << a2.sum() << std::endl ;\n",
    "Array<int,4> a3  = { 1, 2, 3 } ;\n",
    "std::cout << a3.sum() << std::endl ;"
   ]
  },
  {
   "cell_type": "markdown",
   "metadata": {
    "slideshow": {
     "slide_type": "subslide"
    }
   },
   "source": [
    "One can factorize code excerpts which are independent of parameters, reducing the code bloat:"
   ]
  },
  {
   "cell_type": "code",
   "execution_count": null,
   "metadata": {
    "slideshow": {
     "slide_type": "fragment"
    }
   },
   "outputs": [],
   "source": [
    "template< typename T >\n",
    "T sum_impl( T * data, int n )\n",
    " {\n",
    "  T res = 0 ;\n",
    "  for ( int i = 0 ; i < n ; ++i )   \n",
    "   { res += data[i] ; }\n",
    "  return res ;  \n",
    " }\n",
    "\n",
    "template< typename T, int n > \n",
    "struct Array\n",
    " {\n",
    "  T data[n] ;\n",
    "  T sum() { return sum_impl<T>(data,n) ; }\n",
    " } ;"
   ]
  },
  {
   "cell_type": "code",
   "execution_count": null,
   "metadata": {
    "slideshow": {
     "slide_type": "skip"
    }
   },
   "outputs": [],
   "source": [
    "Array<int,2> a1 = { 5, -5 } ;\n",
    "std::cout << a1.sum() << std::endl ;\n",
    "Array<double,3> a2 = { .1, .2, .3 } ;\n",
    "std::cout << a2.sum() << std::endl ;\n",
    "Array<int,3> a3  = { 1, 2, 3 } ;\n",
    "std::cout << a3.sum() << std::endl ;"
   ]
  },
  {
   "cell_type": "markdown",
   "metadata": {
    "slideshow": {
     "slide_type": "subslide"
    }
   },
   "source": [
    "***BEWARE***: factorizing reduce the executable memory footprint, but this may obstruct some compiler optimizations. For a given application and a given platform, only experimentation can decide what should be factorized."
   ]
  },
  {
   "cell_type": "markdown",
   "metadata": {
    "slideshow": {
     "slide_type": "slide"
    }
   },
   "source": [
    "## Bonus for function: type deduction\n",
    "\n",
    "When one call a function template, she does not need to specify explicitly the type parameters. The compiler can deduce them from the type of the function call arguments."
   ]
  },
  {
   "cell_type": "code",
   "execution_count": null,
   "metadata": {
    "slideshow": {
     "slide_type": "skip"
    }
   },
   "outputs": [],
   "source": [
    "#include <iostream>\n",
    "#include <string>"
   ]
  },
  {
   "cell_type": "code",
   "execution_count": null,
   "metadata": {
    "slideshow": {
     "slide_type": "subslide"
    }
   },
   "outputs": [],
   "source": [
    "struct Electron\n",
    " {\n",
    "  std::string name() const { return std::string(\"Electron\") ; }\n",
    " } ;\n",
    "\n",
    "struct Proton\n",
    " {\n",
    "  std::string name() const { return std::string(\"Proton\") ; }\n",
    " } ;\n",
    "\n",
    "struct Neutron\n",
    " {\n",
    "  std::string name() const { return std::string(\"Neutron\") ; }\n",
    " } ;"
   ]
  },
  {
   "cell_type": "code",
   "execution_count": null,
   "metadata": {
    "slideshow": {
     "slide_type": "subslide"
    }
   },
   "outputs": [],
   "source": [
    "template < typename Particle >\n",
    "struct ParticleProxy\n",
    " {\n",
    "  public :\n",
    "    ParticleProxy( Particle * p ) : m_p(p) {}\n",
    "    std::string name() const { return m_p->name() ; }\n",
    "    ~ParticleProxy() { delete m_p ; }\n",
    "  private :\n",
    "    Particle * m_p ;\n",
    " } ;"
   ]
  },
  {
   "cell_type": "code",
   "execution_count": null,
   "metadata": {
    "slideshow": {
     "slide_type": "-"
    }
   },
   "outputs": [],
   "source": [
    "template < typename Particle >\n",
    "void process( const ParticleProxy<Particle> & pp )\n",
    " { std::cout << pp.name() << std::endl ; }"
   ]
  },
  {
   "cell_type": "code",
   "execution_count": null,
   "metadata": {
    "slideshow": {
     "slide_type": "subslide"
    }
   },
   "outputs": [],
   "source": [
    "ParticleProxy<Neutron> pp(new Neutron()) ; // template parameter required\n",
    "process<Neutron>(pp) ;                     // template parameter optional"
   ]
  },
  {
   "cell_type": "code",
   "execution_count": null,
   "metadata": {
    "slideshow": {
     "slide_type": "-"
    }
   },
   "outputs": [],
   "source": [
    "ParticleProxy<Neutron> pp(new Neutron()) ; // template parameter required\n",
    "process(pp) ;                              // template parameter deduced"
   ]
  },
  {
   "cell_type": "markdown",
   "metadata": {
    "slideshow": {
     "slide_type": "subslide"
    }
   },
   "source": [
    "In order to benefit indirectly from this deduction for classes, it is rather typical to provide some kind of *make* function, which is wrapping the call to the class constructor:"
   ]
  },
  {
   "cell_type": "code",
   "execution_count": null,
   "metadata": {
    "slideshow": {
     "slide_type": "fragment"
    }
   },
   "outputs": [],
   "source": [
    "template < typename Particle >\n",
    "ParticleProxy<Particle> make_particle_proxy( Particle * p )\n",
    " { return ParticleProxy<Particle>(p) ; }"
   ]
  },
  {
   "cell_type": "code",
   "execution_count": null,
   "metadata": {
    "slideshow": {
     "slide_type": "fragment"
    }
   },
   "outputs": [],
   "source": [
    "process(make_particle_proxy(new Neutron())) ;   "
   ]
  },
  {
   "cell_type": "markdown",
   "metadata": {
    "slideshow": {
     "slide_type": "slide"
    }
   },
   "source": [
    "\n",
    "## Hassle with implicit conversions\n",
    "\n",
    "Since we did not make the `ParticleProxy` constructor `explicit`, implicit conversion is allowed, and the implementation of `make_particle_proxy()` can be simplified:"
   ]
  },
  {
   "cell_type": "code",
   "execution_count": null,
   "metadata": {
    "slideshow": {
     "slide_type": "fragment"
    }
   },
   "outputs": [],
   "source": [
    "template < typename Particle >\n",
    "ParticleProxy<Particle> make_particle_proxy( Particle * p )\n",
    " { return ParticleProxy<Particle>(p) ; }"
   ]
  },
  {
   "cell_type": "code",
   "execution_count": null,
   "metadata": {
    "slideshow": {
     "slide_type": "-"
    }
   },
   "outputs": [],
   "source": [
    "template <typename Particle>\n",
    "ParticleProxy<Particle> make_particle_proxy( Particle * p )\n",
    " { return p ; }"
   ]
  },
  {
   "cell_type": "code",
   "execution_count": null,
   "metadata": {
    "slideshow": {
     "slide_type": "fragment"
    }
   },
   "outputs": [],
   "source": [
    "process(make_particle_proxy(new Neutron())) ; "
   ]
  },
  {
   "cell_type": "markdown",
   "metadata": {
    "slideshow": {
     "slide_type": "subslide"
    }
   },
   "source": [
    "We may even expect that `process` can directly transform some input parameter of type `Particle *` into the required `const ParticleProxy<Particle> &` (this is working when one provide a `char *` to a function expecting a `const std::string &`)."
   ]
  },
  {
   "cell_type": "code",
   "execution_count": null,
   "metadata": {
    "slideshow": {
     "slide_type": "fragment"
    }
   },
   "outputs": [],
   "source": [
    "process(new Neutron()) ; "
   ]
  },
  {
   "cell_type": "markdown",
   "metadata": {
    "slideshow": {
     "slide_type": "skip"
    }
   },
   "source": [
    "The compiler sometimes apply some irrelevant implicit conversions, and it refuses to apply this obvious one !"
   ]
  },
  {
   "cell_type": "markdown",
   "metadata": {
    "slideshow": {
     "slide_type": "subslide"
    }
   },
   "source": [
    "Actually, implicit conversions and type deductions are done at different stages of the overload resolution (search of the function that corresponds the best a given function call).  **The compiler cannot do both** for a given call, and `make_particle_proxy` stay rather useful in this case"
   ]
  },
  {
   "cell_type": "markdown",
   "metadata": {
    "slideshow": {
     "slide_type": "slide"
    }
   },
   "source": [
    "## Hassle with nested types"
   ]
  },
  {
   "cell_type": "markdown",
   "metadata": {
    "slideshow": {
     "slide_type": "subslide"
    }
   },
   "source": [
    "The compiler will refuse to compile the following code:"
   ]
  },
  {
   "cell_type": "code",
   "execution_count": null,
   "metadata": {
    "slideshow": {
     "slide_type": "-"
    }
   },
   "outputs": [],
   "source": [
    "template<typename Container>\n",
    "void inspect( Container & container )\n",
    " {\n",
    "  Container::iterator * x ; // DOES NOT COMPILE !\n",
    "  //...\n",
    " }"
   ]
  },
  {
   "cell_type": "markdown",
   "metadata": {
    "slideshow": {
     "slide_type": "skip"
    }
   },
   "source": [
    "Actually, the compiler does not know yet if `iterator` is some `Container` nested type, or some static member variable. By default, it is assuming the latter (strange choice !), and  `Container::iterator * x` is seen as the multiplication of `Container::iterator` and `x`, which does not exist..."
   ]
  },
  {
   "cell_type": "markdown",
   "metadata": {
    "slideshow": {
     "slide_type": "subslide"
    }
   },
   "source": [
    "The fact that `Container::iterator` is expected to be a type can be specified with the key word `typename`:"
   ]
  },
  {
   "cell_type": "code",
   "execution_count": null,
   "metadata": {
    "slideshow": {
     "slide_type": "fragment"
    }
   },
   "outputs": [],
   "source": [
    "template<typename Container>\n",
    "void inspect( Container & container )\n",
    " {\n",
    "  typename Container::iterator * x ;\n",
    "  //...\n",
    " }"
   ]
  },
  {
   "cell_type": "markdown",
   "metadata": {
    "slideshow": {
     "slide_type": "skip"
    }
   },
   "source": [
    "NOTE: surprisingly enough, we observe that the compiler try immediatly to parse and interpret the function template, without waiting it is used, and the parameters are fully known."
   ]
  },
  {
   "cell_type": "markdown",
   "metadata": {
    "slideshow": {
     "slide_type": "slide"
    }
   },
   "source": [
    "## Take away\n",
    "\n",
    "Despites their drawbacks, the templates bring both performance and high-level abstractions into C++. Logically, their use is still increasing in C++ 11/14/17, where the syntax is progressively improved and simplified. A really major step should be made in C++20, thanks to new features such as **modules**."
   ]
  },
  {
   "cell_type": "markdown",
   "metadata": {
    "slideshow": {
     "slide_type": "slide"
    }
   },
   "source": [
    "## Questions ?"
   ]
  },
  {
   "cell_type": "markdown",
   "metadata": {
    "slideshow": {
     "slide_type": "-"
    }
   },
   "source": [
    "© *CNRS 2024*  \n",
    "*This document was created by David Chamont and translated by Olga Abramkina. It is available under the [License Creative Commons - Attribution - No commercial use - Shared under the conditions 4.0 International](http://creativecommons.org/licenses/by-nc-sa/4.0/)*"
   ]
  }
 ],
 "metadata": {
  "celltoolbar": "Diaporama",
  "kernelspec": {
   "display_name": "C++17",
   "language": "C++17",
   "name": "xcpp17"
  },
  "language_info": {
   "codemirror_mode": "text/x-c++src",
   "file_extension": ".cpp",
   "mimetype": "text/x-c++src",
   "name": "c++",
   "version": "17"
  },
  "toc": {
   "base_numbering": 1,
   "nav_menu": {},
   "number_sections": true,
   "sideBar": true,
   "skip_h1_title": true,
   "title_cell": "Table of Contents",
   "title_sidebar": "Contents",
   "toc_cell": false,
   "toc_position": {
    "height": "calc(100% - 180px)",
    "left": "10px",
    "top": "150px",
    "width": "313.2px"
   },
   "toc_section_display": true,
   "toc_window_display": false
  },
  "varInspector": {
   "cols": {
    "lenName": 16,
    "lenType": 16,
    "lenVar": 40
   },
   "kernels_config": {
    "python": {
     "delete_cmd_postfix": "",
     "delete_cmd_prefix": "del ",
     "library": "var_list.py",
     "varRefreshCmd": "print(var_dic_list())"
    },
    "r": {
     "delete_cmd_postfix": ") ",
     "delete_cmd_prefix": "rm(",
     "library": "var_list.r",
     "varRefreshCmd": "cat(var_dic_list()) "
    }
   },
   "types_to_exclude": [
    "module",
    "function",
    "builtin_function_or_method",
    "instance",
    "_Feature"
   ],
   "window_display": false
  }
 },
 "nbformat": 4,
 "nbformat_minor": 4
}
