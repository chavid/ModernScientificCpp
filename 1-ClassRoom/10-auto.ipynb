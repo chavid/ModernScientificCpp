{
 "cells": [
  {
   "cell_type": "markdown",
   "metadata": {
    "nbgrader": {
     "grade": false,
     "grade_id": "cell-fa19ba3560e6cca6",
     "locked": true,
     "schema_version": 3,
     "solution": false
    },
    "slideshow": {
     "slide_type": "slide"
    }
   },
   "source": [
    "# Type inference\n",
    "\n",
    "Because anything is strictly typed in C++, you have to specify the type of any variable when you declare it. This can be a bit cumbersome, especially when the type is long or complex. Yet, compilers have long been able to perform *type deduction* for function templates.\n",
    "\n",
    "C++11 introduces a similar mechanism, called *type inference* based on keyword `auto`, which enables to infer the type of a variable from its initial value. The use of `auto` has progressively been enlarged to more and more situations."
   ]
  },
  {
   "cell_type": "markdown",
   "metadata": {
    "slideshow": {
     "slide_type": "slide"
    }
   },
   "source": [
    "## Keyword `auto` as a variable type"
   ]
  },
  {
   "cell_type": "markdown",
   "metadata": {
    "slideshow": {
     "slide_type": "subslide"
    }
   },
   "source": [
    "### Starting with C++11, the type of a variable can be deduced from its initial value"
   ]
  },
  {
   "cell_type": "code",
   "execution_count": null,
   "metadata": {
    "attributes": {
     "classes": [
      "cpp"
     ],
     "id": ""
    },
    "slideshow": {
     "slide_type": "-"
    }
   },
   "outputs": [],
   "source": [
    "std::map<std::vector<int>,std::list<float>> m ;\n",
    "auto itr = m.begin() ;"
   ]
  },
  {
   "cell_type": "markdown",
   "metadata": {
    "slideshow": {
     "slide_type": "subslide"
    }
   },
   "source": [
    "### Possible `const` and `&` are dropped"
   ]
  },
  {
   "cell_type": "code",
   "execution_count": null,
   "metadata": {
    "slideshow": {
     "slide_type": "-"
    }
   },
   "outputs": [],
   "source": [
    "int const i = 2 ; // int const\n",
    "auto j = i ;      // int\n",
    "int & k = j ;     // int &\n",
    "auto l = k ;      // int"
   ]
  },
  {
   "cell_type": "markdown",
   "metadata": {
    "slideshow": {
     "slide_type": "subslide"
    }
   },
   "source": [
    "### On the contrary, one can add `const`, `&` or `*`"
   ]
  },
  {
   "cell_type": "code",
   "execution_count": null,
   "metadata": {
    "slideshow": {
     "slide_type": "-"
    }
   },
   "outputs": [],
   "source": [
    "int i = 2 ;\n",
    "auto & j = i ;\n",
    "auto const & k = j ;\n",
    "auto const * l = &k ;\n",
    "auto const * const m = &l ;"
   ]
  },
  {
   "cell_type": "markdown",
   "metadata": {
    "attributes": {
     "classes": [
      "cpp"
     ],
     "id": ""
    },
    "slideshow": {
     "slide_type": "slide"
    }
   },
   "source": [
    "## Keyword `decltype`"
   ]
  },
  {
   "cell_type": "markdown",
   "metadata": {
    "slideshow": {
     "slide_type": "subslide"
    }
   },
   "source": [
    "### In order to reuse the type of an expression "
   ]
  },
  {
   "cell_type": "code",
   "execution_count": null,
   "metadata": {
    "slideshow": {
     "slide_type": "-"
    }
   },
   "outputs": [],
   "source": [
    "std::map<std::vector<int>,std::list<float>> collection1 ;\n",
    "decltype(collection1) collection2 ;"
   ]
  },
  {
   "cell_type": "markdown",
   "metadata": {
    "slideshow": {
     "slide_type": "subslide"
    }
   },
   "source": [
    "### So to help type inference, when there is no initial value"
   ]
  },
  {
   "cell_type": "code",
   "execution_count": null,
   "metadata": {
    "slideshow": {
     "slide_type": "-"
    }
   },
   "outputs": [],
   "source": [
    "std::map<std::vector<int>,std::list<float>> collection ;\n",
    "decltype(collection)::iterator itr ;"
   ]
  },
  {
   "cell_type": "markdown",
   "metadata": {
    "slideshow": {
     "slide_type": "subslide"
    }
   },
   "source": [
    "### So to avoid `const` and `&` dropping"
   ]
  },
  {
   "cell_type": "code",
   "execution_count": null,
   "metadata": {
    "slideshow": {
     "slide_type": "-"
    }
   },
   "outputs": [],
   "source": [
    "int i = 10 ;           // int\n",
    "int & j = i ;          // int &\n",
    "decltype(auto) k = i ; // int\n",
    "decltype(auto) l = j ; // int &"
   ]
  },
  {
   "cell_type": "markdown",
   "metadata": {
    "slideshow": {
     "slide_type": "slide"
    }
   },
   "source": [
    "## How to know which type has infered the compiler ?\n",
    "\n",
    "* Your editor, if smart enough, may help.\n",
    "* To be sure, you can also trigger an intentional compiler error, whose message contains the type name."
   ]
  },
  {
   "cell_type": "code",
   "execution_count": 1,
   "metadata": {
    "slideshow": {
     "slide_type": "subslide"
    }
   },
   "outputs": [
    {
     "name": "stdout",
     "output_type": "stream",
     "text": [
      "Writing tmp.inference.cpp\n"
     ]
    }
   ],
   "source": [
    "%%file tmp.inference.cpp\n",
    "\n",
    "template <typename T> struct TypeDisplayer ;\n",
    "\n",
    "int main()\n",
    " {\n",
    "  int const i = 2 ;\n",
    "  auto & j = i ;\n",
    "  TypeDisplayer<decltype(j)> td ;\n",
    "}"
   ]
  },
  {
   "cell_type": "code",
   "execution_count": 2,
   "metadata": {
    "scrolled": true,
    "slideshow": {
     "slide_type": "fragment"
    }
   },
   "outputs": [
    {
     "name": "stdout",
     "output_type": "stream",
     "text": [
      "tmp.inference.cpp: In function ‘int main()’:\n",
      "tmp.inference.cpp:8:30: error: aggregate ‘TypeDisplayer<const int&> td’ has incomplete type and cannot be defined\n",
      "    8 |   TypeDisplayer<decltype(j)> td ;\n",
      "      |                              ^~\n"
     ]
    }
   ],
   "source": [
    "!rm -f tmp.inference.exe && g++ -std=c++17 tmp.inference.cpp -o tmp.inference.exe"
   ]
  },
  {
   "cell_type": "markdown",
   "metadata": {
    "slideshow": {
     "slide_type": "slide"
    }
   },
   "source": [
    "## Keyword `auto` in a range-based for"
   ]
  },
  {
   "cell_type": "markdown",
   "metadata": {
    "slideshow": {
     "slide_type": "subslide"
    }
   },
   "source": [
    "### What is a range-based for ?\n",
    "\n",
    "For any collection which is supported by `std::begin()` and `std::end()`, one can now use the **ranged-based for** notation."
   ]
  },
  {
   "cell_type": "code",
   "execution_count": null,
   "metadata": {
    "attributes": {
     "classes": [
      "cpp"
     ],
     "id": ""
    },
    "slideshow": {
     "slide_type": "-"
    }
   },
   "outputs": [],
   "source": [
    "#include <iostream>\n",
    "\n",
    "int const MAX = 5 ;\n",
    "double values[MAX] = { 1.1, 2.2, 3.3, 4.4, 5.5 } ;\n",
    "\n",
    "for ( double value : values  )\n",
    " { std::cout << value << \" \" ; }"
   ]
  },
  {
   "cell_type": "markdown",
   "metadata": {
    "slideshow": {
     "slide_type": "subslide"
    }
   },
   "source": [
    "### Combined with `auto`"
   ]
  },
  {
   "cell_type": "code",
   "execution_count": null,
   "metadata": {
    "attributes": {
     "classes": [
      "cpp"
     ],
     "id": ""
    },
    "slideshow": {
     "slide_type": "-"
    }
   },
   "outputs": [],
   "source": [
    "#include <vector>\n",
    "#include <iostream>\n",
    "\n",
    "int i = 0 ;\n",
    "double values[MAX] = { 1.1, 2.2, 3.3, 4.4, 5.5 } ;\n",
    "\n",
    "for ( auto value : values  )\n",
    " { std::cout << value << \" \" ; }"
   ]
  },
  {
   "cell_type": "markdown",
   "metadata": {
    "slideshow": {
     "slide_type": "subslide"
    }
   },
   "source": [
    "### Modifications requires &"
   ]
  },
  {
   "cell_type": "code",
   "execution_count": null,
   "metadata": {
    "attributes": {
     "classes": [
      "cpp"
     ],
     "id": ""
    },
    "slideshow": {
     "slide_type": "-"
    }
   },
   "outputs": [],
   "source": [
    "#include <iostream>\n",
    "\n",
    "int i = 0 ;\n",
    "std::vector<int> values(5,0) ;\n",
    "\n",
    "for ( auto & value : values  )\n",
    " { value = ++i ; }\n",
    "\n",
    "for ( auto value : values  ) \n",
    " { std::cout << value << \" \" ; }"
   ]
  },
  {
   "cell_type": "markdown",
   "metadata": {
    "slideshow": {
     "slide_type": "slide"
    }
   },
   "source": [
    "## Keyword `auto` as function return type"
   ]
  },
  {
   "cell_type": "markdown",
   "metadata": {
    "slideshow": {
     "slide_type": "slide"
    }
   },
   "source": [
    "### When used alone (C++14)\n",
    "\n",
    "When `auto` is used instead of the usual return type, the compiler will infer this type from the return statements in the function body."
   ]
  },
  {
   "cell_type": "code",
   "execution_count": null,
   "metadata": {
    "slideshow": {
     "slide_type": "-"
    }
   },
   "outputs": [],
   "source": [
    "auto nb( int i )\n",
    " {\n",
    "  if (i<10) return 1 ;\n",
    "  if (i<100) return 2 ;\n",
    "  return 99 ;\n",
    " }"
   ]
  },
  {
   "cell_type": "code",
   "execution_count": null,
   "metadata": {
    "slideshow": {
     "slide_type": "-"
    }
   },
   "outputs": [],
   "source": [
    "nb(15)"
   ]
  },
  {
   "cell_type": "markdown",
   "metadata": {
    "slideshow": {
     "slide_type": "slide"
    }
   },
   "source": [
    "### When used with a trailing return type (C++11)\n",
    "\n",
    "The keyword `auto` can also be used in a *trailing return type* declaration, as shown below. There is no inference there. That is just a syntax to declare the type after the function parameters."
   ]
  },
  {
   "cell_type": "code",
   "execution_count": null,
   "metadata": {
    "slideshow": {
     "slide_type": "-"
    }
   },
   "outputs": [],
   "source": [
    "%%file tmp.trailing.cpp\n",
    "\n",
    "#include <iostream>\n",
    "\n",
    "auto add( int p1, int p2 ) -> int\n",
    " { return (p1+p2) ; }\n",
    " \n",
    "int main()\n",
    " {\n",
    "  std::cout << add(39,3.14) << std::endl ;\n",
    " }"
   ]
  },
  {
   "cell_type": "code",
   "execution_count": null,
   "metadata": {
    "slideshow": {
     "slide_type": "skip"
    }
   },
   "outputs": [],
   "source": [
    "!rm -f tmp.trailing.exe && g++ -std=c++11 tmp.trailing.cpp -o tmp.trailing.exe && ./tmp.trailing.exe"
   ]
  },
  {
   "cell_type": "markdown",
   "metadata": {},
   "source": [
    "This can help when the return type depends on the parameter types:"
   ]
  },
  {
   "cell_type": "code",
   "execution_count": 15,
   "metadata": {
    "slideshow": {
     "slide_type": "-"
    }
   },
   "outputs": [
    {
     "name": "stdout",
     "output_type": "stream",
     "text": [
      "Overwriting tmp.trailing.cpp\n"
     ]
    }
   ],
   "source": [
    "%%file tmp.trailing.cpp\n",
    "\n",
    "#include <iostream>\n",
    "\n",
    "template< typename T1, typename T2 >\n",
    "auto add( T1 value, T2 offset ) -> decltype(value+offset)\n",
    " { return (value+offset) ; }\n",
    " \n",
    "int main()\n",
    " {\n",
    "  std::cout << add(39,3.14) << std::endl ;\n",
    " }"
   ]
  },
  {
   "cell_type": "code",
   "execution_count": 16,
   "metadata": {
    "slideshow": {
     "slide_type": "skip"
    }
   },
   "outputs": [
    {
     "name": "stdout",
     "output_type": "stream",
     "text": [
      "42.14\n"
     ]
    }
   ],
   "source": [
    "!rm -f tmp.trailing.exe && g++ -std=c++11 tmp.trailing.cpp -o tmp.trailing.exe && ./tmp.trailing.exe"
   ]
  },
  {
   "cell_type": "markdown",
   "metadata": {
    "slideshow": {
     "slide_type": "slide"
    }
   },
   "source": [
    "## Structured Bindings (C++17)"
   ]
  },
  {
   "cell_type": "markdown",
   "metadata": {
    "slideshow": {
     "slide_type": "subslide"
    }
   },
   "source": [
    "The functional programming style should lead you to write \"pure\" functions, with constant input data, and all the ouput returned as a compound data. The new C++17 structured bindings enable you to dispatch such a compound return value into several variables, almost as simply as in Python..."
   ]
  },
  {
   "cell_type": "code",
   "execution_count": 7,
   "metadata": {
    "slideshow": {
     "slide_type": "fragment"
    }
   },
   "outputs": [
    {
     "name": "stdout",
     "output_type": "stream",
     "text": [
      "Writing tmp.bindings.cpp\n"
     ]
    }
   ],
   "source": [
    "%%file tmp.bindings.cpp\n",
    "\n",
    "#include <iostream>\n",
    "#include <utility>\n",
    "\n",
    "int main() {\n",
    "  auto [ first, second ] = std::make_pair(42, 3.14) ;\n",
    "  std::cout << \"first: \" << first << std::endl ;\n",
    "  std::cout << \"second: \" << second << std::endl ;\n",
    "}"
   ]
  },
  {
   "cell_type": "code",
   "execution_count": 8,
   "metadata": {
    "slideshow": {
     "slide_type": "skip"
    }
   },
   "outputs": [
    {
     "name": "stdout",
     "output_type": "stream",
     "text": [
      "first: 42\n",
      "second: 3.14\n"
     ]
    }
   ],
   "source": [
    "!rm -f tmp.bindings.exe && g++ -std=c++17 tmp.bindings.cpp -o tmp.bindings.exe && ./tmp.bindings.exe"
   ]
  },
  {
   "cell_type": "markdown",
   "metadata": {
    "slideshow": {
     "slide_type": "subslide"
    }
   },
   "source": [
    "Actually, on the right side of `=`, one can place many kinds of arrays, structs, tuples, and user-defined classes with tuple-like properties."
   ]
  },
  {
   "cell_type": "code",
   "execution_count": 9,
   "metadata": {
    "slideshow": {
     "slide_type": "fragment"
    }
   },
   "outputs": [
    {
     "name": "stdout",
     "output_type": "stream",
     "text": [
      "Overwriting tmp.bindings.cpp\n"
     ]
    }
   ],
   "source": [
    "%%file tmp.bindings.cpp\n",
    "\n",
    "#include <iostream>\n",
    "\n",
    "int main() {\n",
    "  int values[] = { 1, 2 } ;\n",
    "  auto [ v1, v2 ] = values ;\n",
    "  std::cout << v1 << \", \" << v2 << std::endl ;\n",
    "}"
   ]
  },
  {
   "cell_type": "code",
   "execution_count": 10,
   "metadata": {
    "slideshow": {
     "slide_type": "skip"
    }
   },
   "outputs": [
    {
     "name": "stdout",
     "output_type": "stream",
     "text": [
      "1, 2\n"
     ]
    }
   ],
   "source": [
    "!rm -f tmp.bindings.exe && g++ -std=c++17 tmp.bindings.cpp -o tmp.bindings.exe && ./tmp.bindings.exe"
   ]
  },
  {
   "cell_type": "code",
   "execution_count": 11,
   "metadata": {
    "slideshow": {
     "slide_type": "fragment"
    }
   },
   "outputs": [
    {
     "name": "stdout",
     "output_type": "stream",
     "text": [
      "Overwriting tmp.bindings.cpp\n"
     ]
    }
   ],
   "source": [
    "%%file tmp.bindings.cpp\n",
    "\n",
    "#include <iostream>\n",
    "\n",
    "struct Vector { double x, y, z ; } ;\n",
    "\n",
    "int main() {\n",
    "  Vector origin = { 0., 0., 0. } ;\n",
    "  auto [ ox, oy, oz ] = origin ;\n",
    "  std::cout << ox << \", \" << oy << \", \" << oz << std::endl ;\n",
    "}"
   ]
  },
  {
   "cell_type": "code",
   "execution_count": 12,
   "metadata": {
    "slideshow": {
     "slide_type": "skip"
    }
   },
   "outputs": [
    {
     "name": "stdout",
     "output_type": "stream",
     "text": [
      "0, 0, 0\n"
     ]
    }
   ],
   "source": [
    "!rm -f tmp.bindings.exe && g++ -std=c++17 tmp.bindings.cpp -o tmp.bindings.exe && ./tmp.bindings.exe"
   ]
  },
  {
   "cell_type": "code",
   "execution_count": 13,
   "metadata": {
    "slideshow": {
     "slide_type": "fragment"
    }
   },
   "outputs": [
    {
     "name": "stdout",
     "output_type": "stream",
     "text": [
      "Overwriting tmp.bindings.cpp\n"
     ]
    }
   ],
   "source": [
    "%%file tmp.bindings.cpp\n",
    "\n",
    "#include <iostream>\n",
    "#include <tuple>\n",
    "\n",
    "int main() {\n",
    "  std::tuple t(42, 3.14, \"hello\", \"world\") ;\n",
    "  auto [ t1, t2, t3, t4 ] = t ;\n",
    "  std::cout << t1 << \", \" << t2 << \", \" << t3 << \", \" << t4 << std::endl ;\n",
    "}"
   ]
  },
  {
   "cell_type": "code",
   "execution_count": 14,
   "metadata": {
    "slideshow": {
     "slide_type": "skip"
    }
   },
   "outputs": [
    {
     "name": "stdout",
     "output_type": "stream",
     "text": [
      "42, 3.14, hello, world\n"
     ]
    }
   ],
   "source": [
    "!rm -f tmp.bindings.exe && g++ -std=c++17 tmp.bindings.cpp -o tmp.bindings.exe && ./tmp.bindings.exe"
   ]
  },
  {
   "cell_type": "markdown",
   "metadata": {
    "slideshow": {
     "slide_type": "subslide"
    }
   },
   "source": [
    "Structured bindings also prove useful within `range-based for`:"
   ]
  },
  {
   "cell_type": "code",
   "execution_count": null,
   "metadata": {
    "slideshow": {
     "slide_type": "fragment"
    }
   },
   "outputs": [],
   "source": [
    "%%file tmp.bindings.cpp\n",
    "\n",
    "#include <iostream> \n",
    "#include <map> \n",
    "#include <string> \n",
    "\n",
    "int main() {\n",
    "\n",
    "  std::map<std::string, int> grades ;\n",
    "  \n",
    "  grades[\"Francoise\"] = 12 ;\n",
    "  grades[\"Antoine\"] = 18 ;\n",
    "  grades[\"David\"] = 3 ;\n",
    "      \n",
    "  for ( auto [ key, value ] : grades )\n",
    "   { std::cout << key << \" \" << value << std::endl ; } \n",
    "\n",
    "}"
   ]
  },
  {
   "cell_type": "code",
   "execution_count": null,
   "metadata": {
    "slideshow": {
     "slide_type": "skip"
    }
   },
   "outputs": [],
   "source": [
    "!rm -f tmp.bindings.exe && g++ -std=c++17 tmp.bindings.cpp -o tmp.bindings.exe"
   ]
  },
  {
   "cell_type": "code",
   "execution_count": null,
   "metadata": {
    "slideshow": {
     "slide_type": "skip"
    }
   },
   "outputs": [],
   "source": [
    "!./tmp.bindings.exe"
   ]
  },
  {
   "attachments": {},
   "cell_type": "markdown",
   "metadata": {},
   "source": [
    "## Keyword `auto` as function parameter type (C++20)\n",
    "\n",
    "When used as parameter type, `auto` is a shortcut for the template syntax. Yet, each parameter must be declared with `auto` individually, and those parameters are independants one from each other.\n",
    "\n",
    "```c++\n",
    "bool compare( auto param1, auto param2 )\n",
    " { return param1==param2 ; }\n",
    "```\n",
    "\n",
    "means:\n",
    "\n",
    "```c++\n",
    "template <typename T1, typename T2>\n",
    "bool compare( T1 param1, T2 param2 )\n",
    " { return param1==param2 ; }\n",
    "```\n",
    "\n",
    "not:\n",
    "\n",
    "\n",
    "```c++\n",
    "template <typename T>\n",
    "bool compare( T param1, T param2 )\n",
    " { return param1==param2 ; }\n",
    "```\n"
   ]
  },
  {
   "attachments": {},
   "cell_type": "markdown",
   "metadata": {
    "slideshow": {
     "slide_type": "slide"
    }
   },
   "source": [
    "# Quizz : what is the return type ? \n",
    "\n",
    "```c++\n",
    "auto join( std::vector<std::string> const & values, std::string separator )\n",
    " {\n",
    "  if (std::empty(values))\n",
    "   { return \"\" ; }\n",
    "  auto result = values[0] ;\n",
    "  for ( std::size_t i = 1 ; i < std::size(values) ; ++i )\n",
    "   { result += separator ; result += values[i] ; } \n",
    "  return result ;\n",
    " }\n",
    "```"
   ]
  },
  {
   "cell_type": "markdown",
   "metadata": {
    "slideshow": {
     "slide_type": "slide"
    }
   },
   "source": [
    "# Take away\n",
    "\n",
    "- The keyword `auto` basically avoid typing redundant types.\n",
    "- The keyword `decltype` helps to keep the exact original type.\n",
    "- Since C++20, `auto` is also a simplified syntax for simple templates.\n",
    "- Type inference and template instanciation \"mostly\" follow the same rules...\n",
    "- **Overuse of `auto` obfuscates the code!**"
   ]
  },
  {
   "cell_type": "markdown",
   "metadata": {
    "slideshow": {
     "slide_type": "slide"
    }
   },
   "source": [
    "# Questions ?\n",
    "\n",
    "Ask [Pythie++](https://app.corolair.com/student/tutor/a1076050-7a47-492f-b0af-bb09f551be73/chat) and|or try its quizz !"
   ]
  },
  {
   "cell_type": "markdown",
   "metadata": {
    "slideshow": {
     "slide_type": "skip"
    }
   },
   "source": [
    "# Exercise\n",
    "\n",
    "1. In the code below, simplify the friend operator `<<`.\n",
    "2. Provide the class with methods `begin()` and `end()`.\n",
    "3. Move the operator `<<` outside the class."
   ]
  },
  {
   "cell_type": "code",
   "execution_count": null,
   "metadata": {
    "slideshow": {
     "slide_type": "skip"
    }
   },
   "outputs": [],
   "source": [
    "%%file tmp.inference.cpp\n",
    "\n",
    "#include <iostream>\n",
    "#include <string>\n",
    "#include <vector>\n",
    "\n",
    "class Sentence\n",
    " {\n",
    "  public :\n",
    "    void add( char const * word )\n",
    "     { m_words.push_back(static_cast<std::string>(word)) ; }\n",
    "    friend std::ostream & operator<<( std::ostream & os, Sentence const & s )\n",
    "     {\n",
    "      typedef typename std::vector<std::string>::const_iterator Iterator ;\n",
    "      for ( Iterator word = s.m_words.begin() ; word != s.m_words.end() ; ++word )\n",
    "       { os<<(*word)<<\" \" ; }\n",
    "      return os ;\n",
    "     }\n",
    "  private :\n",
    "    std::vector<std::string> m_words ;\n",
    " } ;\n",
    "\n",
    "int main()\n",
    " {\n",
    "  Sentence s ;\n",
    "  s.add(\"Hello\") ;\n",
    "  s.add(\"world\") ;\n",
    "  s.add(\"!\") ;\n",
    "  std::cout<<s<<std::endl ;\n",
    " }"
   ]
  },
  {
   "cell_type": "code",
   "execution_count": null,
   "metadata": {
    "slideshow": {
     "slide_type": "skip"
    }
   },
   "outputs": [],
   "source": [
    "!rm -f tmp.inference.exe && g++ -std=c++17 tmp.inference.cpp -o tmp.inference.exe"
   ]
  },
  {
   "cell_type": "code",
   "execution_count": null,
   "metadata": {
    "slideshow": {
     "slide_type": "skip"
    }
   },
   "outputs": [],
   "source": [
    "!./tmp.inference.exe"
   ]
  },
  {
   "cell_type": "markdown",
   "metadata": {
    "slideshow": {
     "slide_type": "skip"
    }
   },
   "source": [
    "© *CNRS 2024*  \n",
    "*This document was created by David Chamont and translated by Olga Abramkina. It is available under the [License Creative Commons - Attribution - No commercial use - Shared under the conditions 4.0 International](http://creativecommons.org/licenses/by-nc-sa/4.0/)*"
   ]
  }
 ],
 "metadata": {
  "celltoolbar": "Diaporama",
  "kernelspec": {
   "display_name": "C++17",
   "language": "C++17",
   "name": "xcpp17"
  },
  "language_info": {
   "codemirror_mode": "text/x-c++src",
   "file_extension": ".cpp",
   "mimetype": "text/x-c++src",
   "name": "c++",
   "version": "17"
  },
  "toc": {
   "base_numbering": 1,
   "nav_menu": {},
   "number_sections": true,
   "sideBar": true,
   "skip_h1_title": true,
   "title_cell": "Table of Contents",
   "title_sidebar": "Contents",
   "toc_cell": false,
   "toc_position": {},
   "toc_section_display": true,
   "toc_window_display": false
  },
  "varInspector": {
   "cols": {
    "lenName": 16,
    "lenType": 16,
    "lenVar": 40
   },
   "kernels_config": {
    "python": {
     "delete_cmd_postfix": "",
     "delete_cmd_prefix": "del ",
     "library": "var_list.py",
     "varRefreshCmd": "print(var_dic_list())"
    },
    "r": {
     "delete_cmd_postfix": ") ",
     "delete_cmd_prefix": "rm(",
     "library": "var_list.r",
     "varRefreshCmd": "cat(var_dic_list()) "
    }
   },
   "types_to_exclude": [
    "module",
    "function",
    "builtin_function_or_method",
    "instance",
    "_Feature"
   ],
   "window_display": false
  }
 },
 "nbformat": 4,
 "nbformat_minor": 4
}
