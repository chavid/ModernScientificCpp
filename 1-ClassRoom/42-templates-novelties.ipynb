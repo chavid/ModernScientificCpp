{
 "cells": [
  {
   "cell_type": "markdown",
   "metadata": {
    "slideshow": {
     "slide_type": "slide"
    }
   },
   "source": [
    "# Improvement of templates"
   ]
  },
  {
   "cell_type": "markdown",
   "metadata": {
    "slideshow": {
     "slide_type": "slide"
    }
   },
   "source": [
    "## Static assertions (C++11)\n",
    "\n",
    "The new `static_assert` directive allows you to check a condition **during compilation** and to display the message of your choice in case of failure. It is typically used to test a type used in a template:"
   ]
  },
  {
   "cell_type": "code",
   "execution_count": null,
   "metadata": {
    "slideshow": {
     "slide_type": "subslide"
    }
   },
   "outputs": [],
   "source": [
    "template <typename Int>\n",
    "struct Rational {\n",
    "    static_assert(sizeof(Int)>=4,\"Underlying type size is not long enough\\n\") ;\n",
    "    Int numerator ;\n",
    "    Int denominator ;\n",
    "} ; "
   ]
  },
  {
   "cell_type": "code",
   "execution_count": null,
   "metadata": {
    "scrolled": true,
    "slideshow": {
     "slide_type": "fragment"
    }
   },
   "outputs": [],
   "source": [
    "Rational<int> r1 ;\n",
    "Rational<short> r2 ;"
   ]
  },
  {
   "cell_type": "code",
   "execution_count": null,
   "metadata": {
    "slideshow": {
     "slide_type": "subslide"
    }
   },
   "outputs": [],
   "source": [
    "template <typename T, int size>\n",
    "struct Array {\n",
    "    static_assert(size>0,\"Array size must be strictly positive\\n\") ;\n",
    "    T data[size] ;\n",
    "} ; "
   ]
  },
  {
   "cell_type": "code",
   "execution_count": null,
   "metadata": {
    "slideshow": {
     "slide_type": "subslide"
    }
   },
   "outputs": [],
   "source": [
    "int const n { 2 } ;\n",
    "// ...\n",
    "Array<int,n> a1 ;\n",
    "Array<int,n-1> a2 ;\n",
    "Array<int,n-2> a3 ;"
   ]
  },
  {
   "cell_type": "markdown",
   "metadata": {
    "slideshow": {
     "slide_type": "slide"
    }
   },
   "source": [
    "## Alias templates (C++11)\n",
    "\n",
    "It becomes possible to define some kinds of `typedef` with template parameters.\n",
    "\n",
    "The new keyword for this is `using`."
   ]
  },
  {
   "cell_type": "markdown",
   "metadata": {
    "slideshow": {
     "slide_type": "subslide"
    }
   },
   "source": [
    "For example, it allows to give a name to a partial specialization of a class template:"
   ]
  },
  {
   "cell_type": "code",
   "execution_count": null,
   "metadata": {
    "attributes": {
     "classes": [
      "cpp"
     ],
     "id": ""
    },
    "slideshow": {
     "slide_type": "fragment"
    }
   },
   "outputs": [],
   "source": [
    "template <typename T, typename U>\n",
    "class Pair { public : T x ; U y ; } ;\n",
    "\n",
    "template <typename U>\n",
    "using PairInt = Pair<int,U> ;\n",
    "\n",
    "PairInt<double> pid ; // equivalent to Pair<int,double>"
   ]
  },
  {
   "cell_type": "code",
   "execution_count": null,
   "metadata": {
    "slideshow": {
     "slide_type": "fragment"
    }
   },
   "outputs": [],
   "source": [
    "template <typename T>\n",
    "using MapInt = std::map<int,T> ;\n",
    "\n",
    "MapInt<double> md ; // equivalent to std::map<int,double>"
   ]
  },
  {
   "cell_type": "markdown",
   "metadata": {
    "slideshow": {
     "slide_type": "subslide"
    }
   },
   "source": [
    "The `using` statement should now replace `typedef` under all circumstances. It is considered more readable. Below are some examples of equivalent instructions."
   ]
  },
  {
   "cell_type": "code",
   "execution_count": null,
   "metadata": {
    "slideshow": {
     "slide_type": "skip"
    }
   },
   "outputs": [],
   "source": [
    "#include <list>\n",
    "#include <map>\n",
    "#include <iostream>"
   ]
  },
  {
   "cell_type": "code",
   "execution_count": null,
   "metadata": {
    "slideshow": {
     "slide_type": "-"
    }
   },
   "outputs": [],
   "source": [
    "using real = float ; // typedef float real ;\n",
    "    \n",
    "using my_map = std::map<std::vector<int>,std::list<float>> ;\n",
    "using my_citr = my_map::const_iterator ;\n",
    "    \n",
    "using fptr = void(*)(int) ;"
   ]
  },
  {
   "cell_type": "markdown",
   "metadata": {
    "slideshow": {
     "slide_type": "subslide"
    }
   },
   "source": [
    "Starting from C ++ 14, the standard library includes some **`_t`** shortcuts for the templates that are used to manipulate on types. For example:"
   ]
  },
  {
   "cell_type": "code",
   "execution_count": null,
   "metadata": {
    "slideshow": {
     "slide_type": "-"
    }
   },
   "outputs": [],
   "source": [
    "template<typename T>\n",
    "using remove_pointer_t = typename std::remove_pointer<T>::type ;"
   ]
  },
  {
   "cell_type": "markdown",
   "metadata": {
    "slideshow": {
     "slide_type": "skip"
    }
   },
   "source": [
    "Note however that with the appearance of `auto`, it is less and less necessary to use a type alias to lighten the writing of user code."
   ]
  },
  {
   "cell_type": "markdown",
   "metadata": {
    "slideshow": {
     "slide_type": "slide"
    }
   },
   "source": [
    "## Variadic templates (C++11)\n",
    "\n",
    "C ++ 11 introduces the possibility of defining templates with a variable number of parameters."
   ]
  },
  {
   "cell_type": "markdown",
   "metadata": {
    "slideshow": {
     "slide_type": "subslide"
    }
   },
   "source": [
    "#### Pass-through functions\n",
    "\n",
    "A simple use of `typename...` is useful to take a pack of arguments and transmit them to another function."
   ]
  },
  {
   "cell_type": "code",
   "execution_count": null,
   "metadata": {
    "slideshow": {
     "slide_type": "-"
    }
   },
   "outputs": [],
   "source": [
    "#include <iostream>\n",
    "#include <string>\n",
    "\n",
    "template < typename Function, typename... Args >\n",
    "void apply( std::string const & comment, Function f, Args... args )\n",
    " {\n",
    "  std::cout<<\"(\"<<comment<<\") \" ;\n",
    "  f(args...) ;\n",
    " }  "
   ]
  },
  {
   "cell_type": "code",
   "execution_count": null,
   "metadata": {
    "slideshow": {
     "slide_type": "-"
    }
   },
   "outputs": [],
   "source": [
    "void print( int i, double d )\n",
    " { std::cout<<i<<\" \"<<d<<std::endl ; }  "
   ]
  },
  {
   "cell_type": "code",
   "execution_count": null,
   "metadata": {
    "slideshow": {
     "slide_type": "-"
    }
   },
   "outputs": [],
   "source": [
    "apply(\"printing\",print,42,3.14) ;"
   ]
  },
  {
   "cell_type": "markdown",
   "metadata": {
    "slideshow": {
     "slide_type": "subslide"
    }
   },
   "source": [
    "#### Looping on template fonction parameters\n",
    "\n",
    "When one want to loop over all the parameters, each of them with a type potentially different. With functions, you can rely on template functions which call one another recursively, and let overload resolution process:"
   ]
  },
  {
   "cell_type": "code",
   "execution_count": null,
   "metadata": {},
   "outputs": [],
   "source": [
    "#include <iostream>\n",
    "\n",
    "template <typename T>\n",
    "void print( T last ) {\n",
    "  std::cout<<last<<std::endl  ;\n",
    "}\n",
    "\n",
    "template <typename T, typename... Types>\n",
    "void print( T first, Types... others ) {\n",
    "  std::cout<<first<<\" \"  ;\n",
    "  print(others...) ;\n",
    " }"
   ]
  },
  {
   "cell_type": "code",
   "execution_count": null,
   "metadata": {
    "slideshow": {
     "slide_type": "-"
    }
   },
   "outputs": [],
   "source": [
    "print(\"(printing)\",42,3.14) ;"
   ]
  },
  {
   "cell_type": "markdown",
   "metadata": {
    "slideshow": {
     "slide_type": "subslide"
    }
   },
   "source": [
    "#### Looping on template class parameters\n",
    "\n",
    "It gets more delicate when one want to loop the parameters of a template class. This requires a **recursive partial specialization**."
   ]
  },
  {
   "cell_type": "code",
   "execution_count": null,
   "metadata": {},
   "outputs": [],
   "source": [
    "%%file tmp.tuples.h\n",
    "\n",
    "template <typename... Types> struct Tuple ;\n",
    "\n",
    "template <typename T, typename... Types>\n",
    "struct Tuple<T, Types...>\n",
    " {\n",
    "  T data ;\n",
    "  Tuple<Types...> others ;\n",
    " } ;\n",
    "\n",
    "template <> struct Tuple<> {} ;"
   ]
  },
  {
   "cell_type": "code",
   "execution_count": null,
   "metadata": {},
   "outputs": [],
   "source": [
    "%%file tmp.templates.cpp\n",
    "\n",
    "#include <iostream>\n",
    "#include <string>\n",
    "#include \"tmp.tuples.h\"\n",
    "\n",
    "int main()\n",
    " {\n",
    "  Tuple<int,double,std::string> tuple { 42, 3.14, \"bonjour\" } ;\n",
    "  std::cout << tuple.data << std::endl ;\n",
    "  std::cout << tuple.others.data << std::endl ;\n",
    "  std::cout << tuple.others.others.data << std::endl ;\n",
    " }"
   ]
  },
  {
   "cell_type": "code",
   "execution_count": null,
   "metadata": {},
   "outputs": [],
   "source": [
    "!rm -f tmp.templates.exe && g++ -std=c++17 tmp.templates.cpp -o tmp.templates.exe"
   ]
  },
  {
   "cell_type": "code",
   "execution_count": null,
   "metadata": {
    "scrolled": true
   },
   "outputs": [],
   "source": [
    "!./tmp.templates.exe"
   ]
  },
  {
   "cell_type": "markdown",
   "metadata": {
    "slideshow": {
     "slide_type": "slide"
    }
   },
   "source": [
    "## Variable templates (C++14)\n",
    "\n",
    "C++14 introduces the possibility of making template of variables. The example usually given is a constant variable pi, that we could define with different precision for all the predefined types."
   ]
  },
  {
   "cell_type": "code",
   "execution_count": null,
   "metadata": {
    "slideshow": {
     "slide_type": "subslide"
    }
   },
   "outputs": [],
   "source": [
    "%%file tmp.templates.cpp\n",
    "\n",
    "#include <iostream>\n",
    "\n",
    "template<typename T>\n",
    "const T pi = T(3.1415926535897932385) ;\n",
    "\n",
    "template<typename T>\n",
    "T circular_area(T a_r)\n",
    " { return pi<T> * a_r * a_r ; }\n",
    "\n",
    "int main()\n",
    " {\n",
    "  std::cout.precision(18) ;\n",
    "  std::cout << \"double : \" << circular_area(1.) << std::endl ;\n",
    "  std::cout << \"float  : \" << circular_area(1.f) << std::endl ;\n",
    "  std::cout << \"int    : \" << circular_area(1) << std::endl ;\n",
    " }"
   ]
  },
  {
   "cell_type": "code",
   "execution_count": null,
   "metadata": {
    "slideshow": {
     "slide_type": "skip"
    }
   },
   "outputs": [],
   "source": [
    "!rm -f tmp.templates.exe && g++ -std=c++17 tmp.templates.cpp -o tmp.templates.exe"
   ]
  },
  {
   "cell_type": "code",
   "execution_count": null,
   "metadata": {
    "slideshow": {
     "slide_type": "-"
    }
   },
   "outputs": [],
   "source": [
    "!./tmp.templates.exe"
   ]
  },
  {
   "cell_type": "markdown",
   "metadata": {
    "slideshow": {
     "slide_type": "subslide"
    }
   },
   "source": [
    "Starting from C++17, the standard library includes some **`_v` shortcuts** for the templates that are testing type properties. For example:"
   ]
  },
  {
   "cell_type": "code",
   "execution_count": null,
   "metadata": {
    "slideshow": {
     "slide_type": "subslide"
    }
   },
   "outputs": [],
   "source": [
    "%%file tmp.templates.cpp\n",
    "\n",
    "#include <type_traits>\n",
    "\n",
    "template< class T >\n",
    "bool const is_integral_v = std::is_integral<T>::value ;\n",
    "\n",
    "template <typename IntegralT>\n",
    "struct Rational {\n",
    "    static_assert(is_integral_v<IntegralT>,\"Bad IntegralT\") ;\n",
    "    IntegralT numerator ;\n",
    "    IntegralT denominator ;\n",
    "} ;\n",
    "\n",
    "int main() {\n",
    "  Rational<int> r1 ;\n",
    "  Rational<double> r2 ;\n",
    "}"
   ]
  },
  {
   "cell_type": "code",
   "execution_count": null,
   "metadata": {
    "slideshow": {
     "slide_type": "fragment"
    }
   },
   "outputs": [],
   "source": [
    "!rm -f tmp.templates.exe && g++ -std=c++17 tmp.templates.cpp -o tmp.templates.exe"
   ]
  },
  {
   "cell_type": "markdown",
   "metadata": {},
   "source": [
    "## Class template argument deduction (C++17)\n",
    "\n",
    "For a template function, the compiler was already able to infer the template parameters from the type of runtime arguments. Starting with C++17, it is also okay to work with classes."
   ]
  },
  {
   "cell_type": "code",
   "execution_count": null,
   "metadata": {},
   "outputs": [],
   "source": [
    "template <typename Int>\n",
    "struct Rational {\n",
    "    Rational( Int n, Int d ) : numerator(n), denominator(d) {}\n",
    "    Int numerator ;\n",
    "    Int denominator ;\n",
    "} ; "
   ]
  },
  {
   "cell_type": "code",
   "execution_count": null,
   "metadata": {},
   "outputs": [],
   "source": [
    "Rational r { 1, 2 } ;"
   ]
  },
  {
   "cell_type": "markdown",
   "metadata": {},
   "source": [
    "The deduction rely on implicitly-generated deduction guides. They are sometimes insufficient:"
   ]
  },
  {
   "cell_type": "code",
   "execution_count": null,
   "metadata": {},
   "outputs": [],
   "source": [
    "%%file tmp.ctad.cpp\n",
    "\n",
    "template <typename Int>\n",
    "struct Rational {\n",
    "    Int numerator ;\n",
    "    Int denominator ;\n",
    "} ; \n",
    "\n",
    "int main() {\n",
    "  Rational<int> r1 { 1, 2 } ;\n",
    "  Rational r2 { 1, 2 } ;\n",
    "}"
   ]
  },
  {
   "cell_type": "code",
   "execution_count": null,
   "metadata": {},
   "outputs": [],
   "source": [
    "!rm -f tmp.ctad.exe && g++ -std=c++17 tmp.ctad.cpp -o tmp.ctad.exe"
   ]
  },
  {
   "cell_type": "markdown",
   "metadata": {},
   "source": [
    "In such a case, one can help the compiler by adding *user-defined deduction guides*:"
   ]
  },
  {
   "cell_type": "code",
   "execution_count": null,
   "metadata": {},
   "outputs": [],
   "source": [
    "%%file tmp.ctad.cpp\n",
    "\n",
    "template <typename Int>\n",
    "struct Rational {\n",
    "    Int numerator ;\n",
    "    Int denominator ;\n",
    "} ; \n",
    "\n",
    "// user-defined deduction guide\n",
    "template<class Int>\n",
    "Rational(Int n, Int m) -> Rational<Int> ;\n",
    "\n",
    "int main() {\n",
    "  Rational r2 { 1, 2 } ;\n",
    "}"
   ]
  },
  {
   "cell_type": "code",
   "execution_count": null,
   "metadata": {},
   "outputs": [],
   "source": [
    "!rm -f tmp.ctad.exe && g++ -std=c++17 tmp.ctad.cpp -o tmp.ctad.exe"
   ]
  },
  {
   "cell_type": "markdown",
   "metadata": {},
   "source": [
    "## Concepts (C++20)\n",
    "\n",
    "The long awaited way to declare constraints on template parameters."
   ]
  },
  {
   "cell_type": "code",
   "execution_count": null,
   "metadata": {},
   "outputs": [],
   "source": [
    "%%file tmp.concepts.cpp\n",
    "\n",
    "#include <type_traits>\n",
    "\n",
    "template< typename T >\n",
    "concept integral = std::is_integral_v<T>;\n",
    "\n",
    "template <typename Int>\n",
    "requires integral<Int>\n",
    "struct Rational {\n",
    "    Int numerator ;\n",
    "    Int denominator ;\n",
    "} ; \n",
    "\n",
    "int main() {\n",
    "  Rational<double> r2 { 1., 2. } ;\n",
    "}"
   ]
  },
  {
   "cell_type": "code",
   "execution_count": null,
   "metadata": {},
   "outputs": [],
   "source": [
    "!rm -f tmp.concepts.exe && g++ -std=c++20 tmp.concepts.cpp -o tmp.concepts.exe"
   ]
  },
  {
   "cell_type": "markdown",
   "metadata": {},
   "source": [
    "# Take away\n",
    "\n",
    "- Each new version of C++ introduces some new template syntax, which is generally applied to the standard  library in the next version:\n",
    "  - Before, there was `std::numeric_limits<T>::is_exact`,\n",
    "  - C++11 library introduced `std::is_floating_point<T>::value`,\n",
    "  - C++14 syntax introduced variable templates,\n",
    "  - C++17 library introduced `std::is_floating_point_v<T>`,\n",
    "  - C++20 introduced concepts and `std::floating_point<T>`.\n",
    "- The C++20 concepts is a real game changer, especially for the libraries authors. New libraries will now generally require C++20."
   ]
  },
  {
   "cell_type": "markdown",
   "metadata": {
    "slideshow": {
     "slide_type": "slide"
    }
   },
   "source": [
    "# Questions ?"
   ]
  },
  {
   "cell_type": "markdown",
   "metadata": {
    "slideshow": {
     "slide_type": "skip"
    }
   },
   "source": [
    "# Exercise\n",
    "\n",
    "Complete the `make_ptr` function, imitation of `std::make_shared`."
   ]
  },
  {
   "cell_type": "code",
   "execution_count": null,
   "metadata": {
    "slideshow": {
     "slide_type": "skip"
    }
   },
   "outputs": [],
   "source": [
    "%%file tmp.templates.cpp\n",
    "\n",
    "#include <memory>\n",
    "#include <iostream>\n",
    "\n",
    "class MyData\n",
    " {\n",
    "  public :\n",
    "    MyData( int i, double d ) : m_i(i), m_d(d)\n",
    "     { std::cout<<\"MyData::MyData()\"<<std::endl ; }\n",
    "    int i() { return m_i ; }\n",
    "    double d() { return m_d ; }\n",
    "    ~MyData() { std::cout<<\"MyData::~MyData()\"<<std::endl ; }\n",
    "  private :\n",
    "    int m_i ;\n",
    "    double m_d ;\n",
    " } ;\n",
    "\n",
    "void display( std::shared_ptr<MyData> data_ptr )\n",
    " { std::cout<<data_ptr->i()<<\" \"<<data_ptr->d()<<std::endl ; }  \n",
    "\n",
    "template <typename T, typename... Args>\n",
    "std::shared_ptr<T> make_ptr( Args... args )\n",
    " { return ??? ; }  \n",
    "\n",
    "int main()\n",
    " {\n",
    "  auto data_ptr {make_ptr<MyData>(42,3.14)} ;\n",
    "  display(data_ptr) ;\n",
    "  return 0 ;\n",
    " }\n"
   ]
  },
  {
   "cell_type": "code",
   "execution_count": null,
   "metadata": {
    "slideshow": {
     "slide_type": "skip"
    }
   },
   "outputs": [],
   "source": [
    "!rm -f tmp.templates.exe && g++ -std=c++17 tmp.templates.cpp -o tmp.templates.exe"
   ]
  },
  {
   "cell_type": "code",
   "execution_count": null,
   "metadata": {
    "slideshow": {
     "slide_type": "skip"
    }
   },
   "outputs": [],
   "source": [
    "!./tmp.templates.exe"
   ]
  },
  {
   "cell_type": "markdown",
   "metadata": {},
   "source": [
    "# Resources\n",
    "\n",
    "- [CTAD](https://en.cppreference.com/w/cpp/language/class_template_argument_deduction)\n"
   ]
  },
  {
   "cell_type": "markdown",
   "metadata": {
    "slideshow": {
     "slide_type": "skip"
    }
   },
   "source": [
    "© *CNRS 2024*  \n",
    "*This document was created by David Chamont and translated by Olga Abramkina. It is available under the [License Creative Commons - Attribution - No commercial use - Shared under the conditions 4.0 International](http://creativecommons.org/licenses/by-nc-sa/4.0/)*"
   ]
  }
 ],
 "metadata": {
  "celltoolbar": "Diaporama",
  "kernelspec": {
   "display_name": "C++17",
   "language": "C++17",
   "name": "xcpp17"
  },
  "language_info": {
   "codemirror_mode": "text/x-c++src",
   "file_extension": ".cpp",
   "mimetype": "text/x-c++src",
   "name": "c++",
   "version": "17"
  },
  "toc": {
   "base_numbering": 1,
   "nav_menu": {},
   "number_sections": true,
   "sideBar": true,
   "skip_h1_title": true,
   "title_cell": "Table of Contents",
   "title_sidebar": "Contents",
   "toc_cell": false,
   "toc_position": {},
   "toc_section_display": true,
   "toc_window_display": false
  },
  "varInspector": {
   "cols": {
    "lenName": 16,
    "lenType": 16,
    "lenVar": 40
   },
   "kernels_config": {
    "python": {
     "delete_cmd_postfix": "",
     "delete_cmd_prefix": "del ",
     "library": "var_list.py",
     "varRefreshCmd": "print(var_dic_list())"
    },
    "r": {
     "delete_cmd_postfix": ") ",
     "delete_cmd_prefix": "rm(",
     "library": "var_list.r",
     "varRefreshCmd": "cat(var_dic_list()) "
    }
   },
   "types_to_exclude": [
    "module",
    "function",
    "builtin_function_or_method",
    "instance",
    "_Feature"
   ],
   "window_display": false
  }
 },
 "nbformat": 4,
 "nbformat_minor": 4
}
