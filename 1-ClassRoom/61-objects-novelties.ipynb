{
 "cells": [
  {
   "cell_type": "markdown",
   "metadata": {
    "slideshow": {
     "slide_type": "slide"
    }
   },
   "source": [
    "# About objects and classes\n",
    "\n",
    "Modern C++ does not revolutionize the object-oriented features but rather brings many small improvements for most of the identified flaws."
   ]
  },
  {
   "cell_type": "markdown",
   "metadata": {
    "slideshow": {
     "slide_type": "slide"
    }
   },
   "source": [
    "## Improvement of object constructions"
   ]
  },
  {
   "cell_type": "markdown",
   "metadata": {
    "slideshow": {
     "slide_type": "subslide"
    }
   },
   "source": [
    "#### Delegating constructors"
   ]
  },
  {
   "cell_type": "code",
   "execution_count": 1,
   "metadata": {
    "attributes": {
     "classes": [
      "cpp"
     ],
     "id": ""
    },
    "slideshow": {
     "slide_type": "skip"
    }
   },
   "outputs": [],
   "source": [
    "#include <iostream>"
   ]
  },
  {
   "cell_type": "code",
   "execution_count": 3,
   "metadata": {
    "attributes": {
     "classes": [
      "cpp"
     ],
     "id": ""
    },
    "slideshow": {
     "slide_type": "fragment"
    }
   },
   "outputs": [],
   "source": [
    "struct ClassA {\n",
    "    ClassA() : ClassA(0) { m_default = true ; }\n",
    "    ClassA( int a_x ) : m_x {a_x} { m_default = false ; }\n",
    "    int m_x ;\n",
    "    bool m_default ;\n",
    "} ;"
   ]
  },
  {
   "cell_type": "code",
   "execution_count": 4,
   "metadata": {
    "attributes": {
     "classes": [
      "cpp"
     ],
     "id": ""
    },
    "slideshow": {
     "slide_type": "fragment"
    }
   },
   "outputs": [],
   "source": [
    "void display( ClassA const & a_obj )\n",
    "{\n",
    "  if (a_obj.m_default) { std::cout<<\"(default)\"<<a_obj.m_x<<std::endl ; }\n",
    "  else { std::cout<<\"(explicit)\"<<a_obj.m_x<<std::endl ; }\n",
    "}"
   ]
  },
  {
   "cell_type": "code",
   "execution_count": 5,
   "metadata": {
    "slideshow": {
     "slide_type": "fragment"
    }
   },
   "outputs": [
    {
     "name": "stdout",
     "output_type": "stream",
     "text": [
      "(default)0\n",
      "(explicit)0\n"
     ]
    }
   ],
   "source": [
    "ClassA a1 {}, a2 {0} ;\n",
    "display(a1) ;\n",
    "display(a2) ;"
   ]
  },
  {
   "cell_type": "markdown",
   "metadata": {
    "slideshow": {
     "slide_type": "subslide"
    }
   },
   "source": [
    "#### Initialization of data members"
   ]
  },
  {
   "cell_type": "code",
   "execution_count": 6,
   "metadata": {
    "slideshow": {
     "slide_type": "-"
    }
   },
   "outputs": [],
   "source": [
    "struct ClassB {\n",
    "  ClassB() {} ;\n",
    "  ClassB( int a_x ) : m_x {a_x} {}\n",
    "  int m_x = 0 ;\n",
    "} ;"
   ]
  },
  {
   "cell_type": "code",
   "execution_count": 7,
   "metadata": {
    "attributes": {
     "classes": [
      "cpp"
     ],
     "id": ""
    },
    "slideshow": {
     "slide_type": "-"
    }
   },
   "outputs": [
    {
     "name": "stdout",
     "output_type": "stream",
     "text": [
      "0\n",
      "1\n"
     ]
    }
   ],
   "source": [
    "ClassB b0 {} ;\n",
    "ClassB b1 {1} ;\n",
    "std::cout << b0.m_x << std::endl ;\n",
    "std::cout << b1.m_x << std::endl ;"
   ]
  },
  {
   "cell_type": "markdown",
   "metadata": {
    "slideshow": {
     "slide_type": "subslide"
    }
   },
   "source": [
    "#### Inheritance and constructors"
   ]
  },
  {
   "cell_type": "code",
   "execution_count": 9,
   "metadata": {
    "slideshow": {
     "slide_type": "skip"
    }
   },
   "outputs": [],
   "source": [
    "#include <iostream>"
   ]
  },
  {
   "cell_type": "code",
   "execution_count": 10,
   "metadata": {
    "slideshow": {
     "slide_type": "-"
    }
   },
   "outputs": [],
   "source": [
    "struct ClassA {\n",
    "    ClassA( int ) { std::cout << \"ClassA(int)\" << std::endl ; }\n",
    "    ClassA( int, int ) { std::cout << \"ClassA(int,int)\" << std::endl ; }\n",
    "} ;"
   ]
  },
  {
   "cell_type": "code",
   "execution_count": 11,
   "metadata": {
    "attributes": {
     "classes": [
      "cpp"
     ],
     "id": ""
    },
    "slideshow": {
     "slide_type": "-"
    }
   },
   "outputs": [],
   "source": [
    "struct ClassB : public ClassA {\n",
    "  using ClassA::ClassA ; // either A::A( int) or A::A( int, int ) can be used\n",
    "                         // as if they were declared as B::B( int) and B::B( int, int )\n",
    "} ;"
   ]
  },
  {
   "cell_type": "code",
   "execution_count": 12,
   "metadata": {
    "slideshow": {
     "slide_type": "-"
    }
   },
   "outputs": [
    {
     "name": "stdout",
     "output_type": "stream",
     "text": [
      "ClassA(int)\n",
      "ClassA(int,int)\n"
     ]
    }
   ],
   "source": [
    "ClassB b1 {1} ;\n",
    "ClassB b2 {1,2} ;"
   ]
  },
  {
   "cell_type": "markdown",
   "metadata": {
    "slideshow": {
     "slide_type": "slide"
    }
   },
   "source": [
    "## Improvement of declaration of member functions"
   ]
  },
  {
   "cell_type": "markdown",
   "metadata": {
    "slideshow": {
     "slide_type": "subslide"
    }
   },
   "source": [
    "#### Forbid a function"
   ]
  },
  {
   "cell_type": "code",
   "execution_count": 16,
   "metadata": {
    "slideshow": {
     "slide_type": "fragment"
    }
   },
   "outputs": [],
   "source": [
    "// class cannot be copied in C++03\n",
    "class no_copies {\n",
    "  public:\n",
    "    no_copies() {}\n",
    "  private:\n",
    "    no_copies( const no_copies & ) ;\n",
    "    no_copies & operator=( const no_copies & ) ;\n",
    "} ;"
   ]
  },
  {
   "cell_type": "code",
   "execution_count": 17,
   "metadata": {
    "attributes": {
     "classes": [
      "cpp"
     ],
     "id": ""
    },
    "slideshow": {
     "slide_type": "fragment"
    }
   },
   "outputs": [],
   "source": [
    "// class cannot be copied in C++11\n",
    "class no_copies_v2 {\n",
    "  public:\n",
    "    no_copies_v2() {}\n",
    "    no_copies_v2( no_copies_v2 const & ) = delete ;\n",
    "    no_copies_v2 & operator=( no_copies_v2 const & ) = delete ;\n",
    "} ;"
   ]
  },
  {
   "cell_type": "markdown",
   "metadata": {
    "slideshow": {
     "slide_type": "subslide"
    }
   },
   "source": [
    "#### We can now prevent certain implicit conversions"
   ]
  },
  {
   "cell_type": "code",
   "execution_count": 18,
   "metadata": {
    "slideshow": {
     "slide_type": "-"
    }
   },
   "outputs": [],
   "source": [
    "struct FooStruct {\n",
    "  void foo_method(short) {}\n",
    "  void foo_method(int) = delete ;\n",
    "} ;"
   ]
  },
  {
   "cell_type": "code",
   "execution_count": 19,
   "metadata": {
    "attributes": {
     "classes": [
      "cpp"
     ],
     "id": ""
    },
    "slideshow": {
     "slide_type": "-"
    }
   },
   "outputs": [
    {
     "name": "stderr",
     "output_type": "stream",
     "text": [
      "\u001b[1minput_line_26:3:3: \u001b[0m\u001b[0;1;31merror: \u001b[0m\u001b[1mcall to deleted member function 'foo_method'\u001b[0m\n",
      "s.foo_method(42) ; // Error, int overload declared deleted\n",
      "\u001b[0;1;32m~~^~~~~~~~~~\n",
      "\u001b[0m\u001b[1minput_line_25:3:8: \u001b[0m\u001b[0;1;30mnote: \u001b[0mcandidate function has been explicitly deleted\u001b[0m\n",
      "  void foo_method(int) = delete ;\n",
      "\u001b[0;1;32m       ^\n",
      "\u001b[0m\u001b[1minput_line_25:2:8: \u001b[0m\u001b[0;1;30mnote: \u001b[0mcandidate function\u001b[0m\n",
      "  void foo_method(short) {}\n",
      "\u001b[0;1;32m       ^\n",
      "\u001b[0m"
     ]
    },
    {
     "ename": "Interpreter Error",
     "evalue": "",
     "output_type": "error",
     "traceback": [
      "Interpreter Error: "
     ]
    }
   ],
   "source": [
    "FooStruct s ;\n",
    "s.foo_method(42) ; // Error, int overload declared deleted\n",
    "s.foo_method(static_cast<short>(42)) ; // OK"
   ]
  },
  {
   "cell_type": "markdown",
   "metadata": {
    "slideshow": {
     "slide_type": "subslide"
    }
   },
   "source": [
    "\n",
    "#### Modify the signature but keep the default implementation"
   ]
  },
  {
   "cell_type": "code",
   "execution_count": 1,
   "metadata": {
    "attributes": {
     "classes": [
      "cpp"
     ],
     "id": ""
    },
    "slideshow": {
     "slide_type": "-"
    }
   },
   "outputs": [],
   "source": [
    "class Y {\n",
    "  public:\n",
    "    Y & operator=( Y const & ) = default ; // Make it explicit\n",
    "    virtual ~Y() = default ; // Add virtual\n",
    "  protected:\n",
    "    Y() = default ; // Change access\n",
    "} ; "
   ]
  },
  {
   "cell_type": "markdown",
   "metadata": {
    "slideshow": {
     "slide_type": "subslide"
    }
   },
   "source": [
    "#### Control the redefinition of virtual methods"
   ]
  },
  {
   "cell_type": "code",
   "execution_count": 21,
   "metadata": {
    "slideshow": {
     "slide_type": "-"
    }
   },
   "outputs": [],
   "source": [
    "class ClassA\n",
    " {\n",
    "  public :\n",
    "    virtual void fct1() =0 ;\n",
    "    virtual void fct2( int ) =0 ;\n",
    "    virtual void fct3( bool ) =0 ;\n",
    " } ;"
   ]
  },
  {
   "cell_type": "code",
   "execution_count": 22,
   "metadata": {
    "slideshow": {
     "slide_type": "-"
    }
   },
   "outputs": [
    {
     "name": "stderr",
     "output_type": "stream",
     "text": [
      "\u001b[1minput_line_29:5:22: \u001b[0m\u001b[0;1;31merror: \u001b[0m\u001b[1monly virtual member functions can be marked 'override'\u001b[0m\n",
      "    void ft2 ( int ) override ;   // error: A::ft2 does not exist\n",
      "\u001b[0;1;32m                     ^~~~~~~~~\n",
      "\u001b[0m\u001b[1minput_line_29:6:24: \u001b[0m\u001b[0;1;31merror: \u001b[0m\u001b[1mnon-virtual member function marked 'override' hides virtual member function\u001b[0m\n",
      "    void fct2 ( bool ) override ; // error: not the good types\n",
      "\u001b[0;1;32m                       ^\n",
      "\u001b[0m\u001b[1minput_line_28:5:18: \u001b[0m\u001b[0;1;30mnote: \u001b[0mhidden overloaded virtual function '__cling_N520::A::fct2' declared here: type mismatch at 1st parameter ('int' vs 'bool')\u001b[0m\n",
      "    virtual void fct2( int ) =0 ;\n",
      "\u001b[0;1;32m                 ^\n",
      "\u001b[0m"
     ]
    },
    {
     "ename": "Interpreter Error",
     "evalue": "",
     "output_type": "error",
     "traceback": [
      "Interpreter Error: "
     ]
    }
   ],
   "source": [
    "class ClassB : public ClassA\n",
    " {\n",
    "  public :\n",
    "    void fct1() override ;       // OK\n",
    "    void ft2( int ) override ;   // error: A::ft2 does not exist\n",
    "    void fct2( bool ) override ; // error: not the good types\n",
    " } ;"
   ]
  },
  {
   "cell_type": "markdown",
   "metadata": {
    "slideshow": {
     "slide_type": "subslide"
    }
   },
   "source": [
    "#### Forbid redefining virtual methods and abstract classes"
   ]
  },
  {
   "cell_type": "code",
   "execution_count": null,
   "metadata": {
    "slideshow": {
     "slide_type": "-"
    }
   },
   "outputs": [],
   "source": [
    "struct ClassA {\n",
    "    virtual void fct1() =0 ;\n",
    "    virtual void fct2( int ) =0 ;\n",
    "} ;"
   ]
  },
  {
   "cell_type": "code",
   "execution_count": null,
   "metadata": {
    "slideshow": {
     "slide_type": "-"
    }
   },
   "outputs": [],
   "source": [
    "struct ClassB : public A {\n",
    "    virtual void fct3( bool ) final ;\n",
    "} ;"
   ]
  },
  {
   "cell_type": "code",
   "execution_count": null,
   "metadata": {
    "slideshow": {
     "slide_type": "-"
    }
   },
   "outputs": [],
   "source": [
    "struct ClassC final : public B {\n",
    "    void fct1() override ;       // OK\n",
    "    void fct3( bool ) override ; // error: B::fct3 is final\n",
    "} ;"
   ]
  },
  {
   "cell_type": "code",
   "execution_count": null,
   "metadata": {
    "attributes": {
     "classes": [
      "cpp"
     ],
     "id": ""
    },
    "slideshow": {
     "slide_type": "-"
    }
   },
   "outputs": [],
   "source": [
    "struct D : public C {} ;               // error: C is final         "
   ]
  },
  {
   "cell_type": "markdown",
   "metadata": {},
   "source": [
    "## Hiding is still an issue\n",
    "\n",
    "When one use both inheritance and overloading, i.e. multiple functions with the same name but different signatures (the number or type of arguments), how does it work?"
   ]
  },
  {
   "cell_type": "code",
   "execution_count": 5,
   "metadata": {
    "slideshow": {
     "slide_type": "subslide"
    }
   },
   "outputs": [],
   "source": [
    "struct Base\n",
    " {\n",
    "  void display( int ) { std::cout<<\"Base::display( int )\"<<std::endl ; }\n",
    "  void display( float ) { std::cout<<\"Base::display( float )\"<<std::endl ; }\n",
    " } ;"
   ]
  },
  {
   "cell_type": "code",
   "execution_count": 6,
   "metadata": {
    "slideshow": {
     "slide_type": "fragment"
    }
   },
   "outputs": [],
   "source": [
    "struct Derived : public Base\n",
    " {\n",
    "  void display( float ) { std::cout<<\"Derived::display( float )\"<<std::endl ; }\n",
    "  void display( double ) { std::cout<<\"Derived::display( double )\"<<std::endl ; }\n",
    " } ;"
   ]
  },
  {
   "cell_type": "code",
   "execution_count": 7,
   "metadata": {
    "slideshow": {
     "slide_type": "fragment"
    }
   },
   "outputs": [
    {
     "name": "stderr",
     "output_type": "stream",
     "text": [
      "\u001b[1minput_line_13:3:7: \u001b[0m\u001b[0;1;31merror: \u001b[0m\u001b[1mcall to member function 'display' is ambiguous\u001b[0m\n",
      "  obj.display(42) ;\n",
      "\u001b[0;1;32m  ~~~~^~~~~~~\n",
      "\u001b[0m\u001b[1minput_line_12:3:8: \u001b[0m\u001b[0;1;30mnote: \u001b[0mcandidate function\u001b[0m\n",
      "  void display( float ) { std::cout<<\"Derived::display( float \"<<std::endl ; }\n",
      "\u001b[0;1;32m       ^\n",
      "\u001b[0m\u001b[1minput_line_12:4:8: \u001b[0m\u001b[0;1;30mnote: \u001b[0mcandidate function\u001b[0m\n",
      "  void display( double ) { std::cout<<\"Derived::display( double )\"<<std::endl ; }\n",
      "\u001b[0;1;32m       ^\n",
      "\u001b[0m"
     ]
    },
    {
     "ename": "Interpreter Error",
     "evalue": "",
     "output_type": "error",
     "traceback": [
      "Interpreter Error: "
     ]
    }
   ],
   "source": [
    "void check( Derived obj )\n",
    " { \n",
    "  obj.display(42) ;\n",
    "  obj.display(3.14f) ;\n",
    "  obj.display(3.14) ;\n",
    " }"
   ]
  },
  {
   "cell_type": "markdown",
   "metadata": {
    "slideshow": {
     "slide_type": "subslide"
    }
   },
   "source": [
    "When compiling `obj.mf(...)`, the compiler follow those steps:\n",
    "1. search some member function named `mf` in the class of `obj`;\n",
    "2. while not found at least one `mf`, move to its base classes, one after the other;\n",
    "3. in the selected class, within all overloaded `mf` functions, select the one which fit better the call arguments `(...)`."
   ]
  },
  {
   "cell_type": "markdown",
   "metadata": {
    "slideshow": {
     "slide_type": "subslide"
    }
   },
   "source": [
    "### Good old-fashioned practice\n",
    "\n",
    "When you redefine an inherited member function, **redefine all the base class functions which share the same name**, or you will hide some of them."
   ]
  },
  {
   "cell_type": "markdown",
   "metadata": {
    "slideshow": {
     "slide_type": "slide"
    }
   },
   "source": [
    "## Reminders about virtual member functions\n",
    "\n",
    "Let's make all the member functions virtual, and modify `check()` so to take as input a reference to the base class, so that we can provide any derived class instance."
   ]
  },
  {
   "cell_type": "code",
   "execution_count": 8,
   "metadata": {
    "slideshow": {
     "slide_type": "skip"
    }
   },
   "outputs": [],
   "source": [
    "#include<iostream>"
   ]
  },
  {
   "cell_type": "code",
   "execution_count": 9,
   "metadata": {
    "slideshow": {
     "slide_type": "subslide"
    }
   },
   "outputs": [],
   "source": [
    "struct Base\n",
    " {\n",
    "  virtual void display( int ) { std::cout<<\"Base::display( int )\"<<std::endl ; }\n",
    "  virtual void display( float ) { std::cout<<\"Base::display( float )\"<<std::endl ; }\n",
    " } ;"
   ]
  },
  {
   "cell_type": "code",
   "execution_count": 10,
   "metadata": {
    "slideshow": {
     "slide_type": "fragment"
    }
   },
   "outputs": [],
   "source": [
    "struct Derived : public Base\n",
    " {\n",
    "  virtual void display( float ) { std::cout<<\"Derived::display( float \"<<std::endl ; }\n",
    "  virtual void display( double ) { std::cout<<\"Derived::display( double )\"<<std::endl ; }\n",
    " } ;"
   ]
  },
  {
   "cell_type": "code",
   "execution_count": 11,
   "metadata": {
    "slideshow": {
     "slide_type": "fragment"
    }
   },
   "outputs": [
    {
     "name": "stderr",
     "output_type": "stream",
     "text": [
      "\u001b[1minput_line_17:5:8: \u001b[0m\u001b[0;1;31merror: \u001b[0m\u001b[1mcall to member function 'display' is ambiguous\u001b[0m\n",
      "  obj->display(3.14) ;\n",
      "\u001b[0;1;32m  ~~~~~^~~~~~~\n",
      "\u001b[0m\u001b[1minput_line_15:3:16: \u001b[0m\u001b[0;1;30mnote: \u001b[0mcandidate function\u001b[0m\n",
      "  virtual void display( int ) { std::cout<<\"Base::display( int )\"<<std::endl ; }\n",
      "\u001b[0;1;32m               ^\n",
      "\u001b[0m\u001b[1minput_line_15:4:16: \u001b[0m\u001b[0;1;30mnote: \u001b[0mcandidate function\u001b[0m\n",
      "  virtual void display( float ) { std::cout<<\"Base::display( float )\"<<std::endl ; }\n",
      "\u001b[0;1;32m               ^\n",
      "\u001b[0m"
     ]
    },
    {
     "ename": "Interpreter Error",
     "evalue": "",
     "output_type": "error",
     "traceback": [
      "Interpreter Error: "
     ]
    }
   ],
   "source": [
    "void check( Base * obj )\n",
    " {\n",
    "  obj->display(42) ;\n",
    "  obj->display(3.14f) ;\n",
    "  obj->display(3.14) ;\n",
    " }"
   ]
  },
  {
   "cell_type": "markdown",
   "metadata": {
    "slideshow": {
     "slide_type": "subslide"
    }
   },
   "source": [
    "The ambiguous line is now `obj.display(3.14)`: the type of `*obj` is `Base`, and the compiler hesitate to convert its `double` argument into either an `int` or a `float`."
   ]
  },
  {
   "cell_type": "markdown",
   "metadata": {
    "slideshow": {
     "slide_type": "subslide"
    }
   },
   "source": [
    "### Good old-fashioned practice\n",
    "\n",
    "When you define a base class with virtual functions, overload those functions for all the expected type of arguments that you expect in the derived classes."
   ]
  },
  {
   "cell_type": "code",
   "execution_count": 12,
   "metadata": {
    "slideshow": {
     "slide_type": "-"
    }
   },
   "outputs": [],
   "source": [
    "struct Base\n",
    " {\n",
    "  virtual void display( int ) { std::cout<<\"Base::display( int )\"<<std::endl ; }\n",
    "  virtual void display( float ) { std::cout<<\"Base::display( float )\"<<std::endl ; }\n",
    "  virtual void display( double ) { std::cout<<\"Base::display( double )\"<<std::endl ; }\n",
    " } ;"
   ]
  },
  {
   "cell_type": "code",
   "execution_count": null,
   "metadata": {
    "slideshow": {
     "slide_type": "-"
    }
   },
   "outputs": [],
   "source": [
    "struct Base\n",
    " {\n",
    "  virtual void display( int ) { std::cout<<\"Base::display( int )\"<<std::endl ; }\n",
    "  virtual void display( float ) { std::cout<<\"Base::display( float )\"<<std::endl ; }\n",
    "  virtual void display( double ) { std::cout<<\"Base::display( double )\"<<std::endl ; }\n",
    "  virtual ~Base() {}\n",
    " } ;"
   ]
  },
  {
   "cell_type": "markdown",
   "metadata": {
    "slideshow": {
     "slide_type": "fragment"
    }
   },
   "source": [
    "1. **the size of all objects**, for this class and any derived class, **is increased by the size of a pointer** (pointing to the *virtual table* of the object real class)."
   ]
  },
  {
   "cell_type": "markdown",
   "metadata": {
    "slideshow": {
     "slide_type": "subslide"
    }
   },
   "source": [
    "### The recommended use of virtual functions\n",
    "\n",
    "Because of the cost, virtual functions are rather used for large and not numerous objects: the upper software layers of your application. For what concerns the numerous and small objects, it is preferable to use templates (which slow down the compilation but have no effect during execution)."
   ]
  },
  {
   "cell_type": "markdown",
   "metadata": {
    "slideshow": {
     "slide_type": "slide"
    }
   },
   "source": [
    "# Take away\n",
    "\n",
    "- The new `delete` keyword forbids more explicitly some functions.\n",
    "- The new `override` keyword helps to detect typos when redefining inherited member functions.\n",
    "- Still, be aware of the hiding pitfall if you overload with different signatures.\n",
    "- Avoid the costly virtual functions for low level objects."
   ]
  },
  {
   "cell_type": "markdown",
   "metadata": {
    "slideshow": {
     "slide_type": "slide"
    }
   },
   "source": [
    "# Questions ?"
   ]
  },
  {
   "cell_type": "markdown",
   "metadata": {
    "slideshow": {
     "slide_type": "skip"
    }
   },
   "source": [
    "# Exercise\n",
    "\n",
    "In the code below:\n",
    "- insert one `= delete`, one `= default` and one `override` ;\n",
    "- just in case, give default values to the members variables ;\n",
    "- prevent the compiler from implicitly transforming a double into a particle.\n",
    "- what is still lacking?"
   ]
  },
  {
   "cell_type": "code",
   "execution_count": 24,
   "metadata": {
    "slideshow": {
     "slide_type": "skip"
    }
   },
   "outputs": [
    {
     "name": "stdout",
     "output_type": "stream",
     "text": [
      "Overwriting tmp.objets.cpp\n"
     ]
    }
   ],
   "source": [
    "%%file tmp.objets.cpp\n",
    "\n",
    "#include <cstdlib> // pour std::rand()\n",
    "#include <iostream>\n",
    "#include <string>\n",
    "\n",
    "class Particle\n",
    " {\n",
    "  public  :\n",
    "    Particle( double a_mass ) : m_mass {a_mass} {}\n",
    "    double mass() { return m_mass ; }\n",
    "    virtual std::string name() { return \"Particle\" ; }\n",
    "    ~Particle() {}\n",
    "  private  :\n",
    "    Particle( Particle const & ) ; // non copiable\n",
    "    double m_mass ;\n",
    " } ;\n",
    "\n",
    "class ChargedParticle : public Particle\n",
    " {\n",
    "  public  :\n",
    "    ChargedParticle( double a_mass, double a_charge )\n",
    "     : Particle(a_mass), m_charge {a_charge} {}\n",
    "    double charge() { return m_charge ; }\n",
    "    virtual std::string name() { return \"ChargedParticle\" ; }\n",
    "  private  :\n",
    "    double m_charge ;\n",
    " } ;\n",
    "\n",
    "void print( Particle & a_p  )\n",
    " {\n",
    "  std::cout << a_p.name() << std::endl ;          \n",
    "  std::cout << \"  mass = \" << p.mass() << std::endl ;         \n",
    " }\n",
    "\n",
    "int main()\n",
    " {\n",
    "  for ( int i = 0 ; i < 5 ; ++i )\n",
    "   {\n",
    "    if ( std::rand() < (.5*RAND_MAX) )\n",
    "     {\n",
    "      Particle p {2} ;\n",
    "      print(p) ;\n",
    "     }\n",
    "    else\n",
    "     {\n",
    "      ChargedParticle p {1,1} ;\n",
    "      print(p) ;\n",
    "      std::cout << \"  charge = \" << p.charge() << std::endl ;         \n",
    "     }\n",
    "   }\n",
    " }"
   ]
  },
  {
   "cell_type": "code",
   "execution_count": 25,
   "metadata": {
    "slideshow": {
     "slide_type": "skip"
    }
   },
   "outputs": [],
   "source": [
    "!rm -f tmp.objets.exe && g++ -std=c++17 tmp.objets.cpp -o tmp.objets.exe"
   ]
  },
  {
   "cell_type": "code",
   "execution_count": 26,
   "metadata": {
    "slideshow": {
     "slide_type": "skip"
    }
   },
   "outputs": [
    {
     "name": "stdout",
     "output_type": "stream",
     "text": [
      "ChargedParticle\n",
      "  mass = 1\n",
      "  charge = 1\n",
      "Particle\n",
      "  mass = 2\n",
      "ChargedParticle\n",
      "  mass = 1\n",
      "  charge = 1\n",
      "ChargedParticle\n",
      "  mass = 1\n",
      "  charge = 1\n",
      "ChargedParticle\n",
      "  mass = 1\n",
      "  charge = 1\n"
     ]
    }
   ],
   "source": [
    "!./tmp.objets.exe"
   ]
  },
  {
   "cell_type": "markdown",
   "metadata": {
    "slideshow": {
     "slide_type": "skip"
    }
   },
   "source": [
    "© *CNRS 2024*  \n",
    "*This document was created by David Chamont and translated by Olga Abramkina. It is available under the [License Creative Commons - Attribution - No commercial use - Shared under the conditions 4.0 International](http://creativecommons.org/licenses/by-nc-sa/4.0/)*"
   ]
  }
 ],
 "metadata": {
  "celltoolbar": "Diaporama",
  "kernelspec": {
   "display_name": "C++17",
   "language": "C++17",
   "name": "xcpp17"
  },
  "language_info": {
   "codemirror_mode": "text/x-c++src",
   "file_extension": ".cpp",
   "mimetype": "text/x-c++src",
   "name": "c++",
   "version": "17"
  },
  "toc": {
   "base_numbering": 1,
   "nav_menu": {},
   "number_sections": true,
   "sideBar": true,
   "skip_h1_title": true,
   "title_cell": "Table of Contents",
   "title_sidebar": "Contents",
   "toc_cell": false,
   "toc_position": {},
   "toc_section_display": true,
   "toc_window_display": false
  },
  "varInspector": {
   "cols": {
    "lenName": 16,
    "lenType": 16,
    "lenVar": 40
   },
   "kernels_config": {
    "python": {
     "delete_cmd_postfix": "",
     "delete_cmd_prefix": "del ",
     "library": "var_list.py",
     "varRefreshCmd": "print(var_dic_list())"
    },
    "r": {
     "delete_cmd_postfix": ") ",
     "delete_cmd_prefix": "rm(",
     "library": "var_list.r",
     "varRefreshCmd": "cat(var_dic_list()) "
    }
   },
   "types_to_exclude": [
    "module",
    "function",
    "builtin_function_or_method",
    "instance",
    "_Feature"
   ],
   "window_display": false
  }
 },
 "nbformat": 4,
 "nbformat_minor": 4
}
