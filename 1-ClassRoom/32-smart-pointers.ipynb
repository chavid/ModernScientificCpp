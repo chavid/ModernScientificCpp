{
 "cells": [
  {
   "cell_type": "markdown",
   "metadata": {
    "slideshow": {
     "slide_type": "slide"
    }
   },
   "source": [
    "# Standard library: smart pointers"
   ]
  },
  {
   "cell_type": "markdown",
   "metadata": {
    "slideshow": {
     "slide_type": "slide"
    }
   },
   "source": [
    "## Pointers to nothing"
   ]
  },
  {
   "cell_type": "markdown",
   "metadata": {
    "slideshow": {
     "slide_type": "subslide"
    }
   },
   "source": [
    "#### Using `0` or `NULLPTR` does not differentiate a null integer from a null pointer"
   ]
  },
  {
   "cell_type": "code",
   "execution_count": null,
   "metadata": {
    "slideshow": {
     "slide_type": "skip"
    }
   },
   "outputs": [],
   "source": [
    "#include <iostream>"
   ]
  },
  {
   "cell_type": "code",
   "execution_count": null,
   "metadata": {
    "slideshow": {
     "slide_type": "skip"
    }
   },
   "outputs": [],
   "source": [
    "void process( char * a_value ) { std::cout<<\"process(char *): \"<<a_value<<std::endl ; }"
   ]
  },
  {
   "cell_type": "code",
   "execution_count": null,
   "metadata": {
    "slideshow": {
     "slide_type": "skip"
    }
   },
   "outputs": [],
   "source": [
    "void process( int a_value )    { std::cout<<\"process(int): \"<<a_value<<std::endl ; }"
   ]
  },
  {
   "cell_type": "code",
   "execution_count": null,
   "metadata": {
    "slideshow": {
     "slide_type": "skip"
    }
   },
   "outputs": [],
   "source": [
    "void process( long a_value ) { std::cout<<\"process(long): \"<<a_value<<std::endl ; }"
   ]
  },
  {
   "cell_type": "code",
   "execution_count": null,
   "metadata": {
    "slideshow": {
     "slide_type": "skip"
    }
   },
   "outputs": [],
   "source": [
    "const int NULLPTR = 0 ;"
   ]
  },
  {
   "cell_type": "code",
   "execution_count": null,
   "metadata": {
    "slideshow": {
     "slide_type": "skip"
    }
   },
   "outputs": [],
   "source": [
    "process(0) ;"
   ]
  },
  {
   "cell_type": "code",
   "execution_count": null,
   "metadata": {
    "slideshow": {
     "slide_type": "skip"
    }
   },
   "outputs": [],
   "source": [
    "process(NULLPTR) ;"
   ]
  },
  {
   "cell_type": "code",
   "execution_count": null,
   "metadata": {
    "slideshow": {
     "slide_type": "skip"
    }
   },
   "outputs": [],
   "source": [
    "process(NULL) ;    // implementation dependent"
   ]
  },
  {
   "cell_type": "markdown",
   "metadata": {
    "slideshow": {
     "slide_type": "-"
    }
   },
   "source": [
    "This can lead to unwanted behaviors in case of overloading. "
   ]
  },
  {
   "cell_type": "markdown",
   "metadata": {
    "slideshow": {
     "slide_type": "subslide"
    }
   },
   "source": [
    "#### C++ 11 introduces `nullptr`, convertible to any type of pointer"
   ]
  },
  {
   "cell_type": "code",
   "execution_count": null,
   "metadata": {
    "slideshow": {
     "slide_type": "skip"
    }
   },
   "outputs": [],
   "source": [
    "process(nullptr) ;"
   ]
  },
  {
   "cell_type": "markdown",
   "metadata": {
    "slideshow": {
     "slide_type": "-"
    }
   },
   "source": [
    "From now on, any pointer whose value is not yet known should be initiated with `nullptr`."
   ]
  },
  {
   "cell_type": "markdown",
   "metadata": {
    "slideshow": {
     "slide_type": "slide"
    }
   },
   "source": [
    "## `shared_ptr`\n",
    "\n",
    "* The easiest way to handle objects made with `new`... and the slowest.\n",
    "* A kind of **guard** which is **counting the references**.\n",
    "* Provides dereferencing operators **\\*** and **->**. "
   ]
  },
  {
   "cell_type": "markdown",
   "metadata": {
    "slideshow": {
     "slide_type": "subslide"
    }
   },
   "source": [
    "#### A copyable pointer"
   ]
  },
  {
   "cell_type": "code",
   "execution_count": null,
   "metadata": {
    "slideshow": {
     "slide_type": "skip"
    }
   },
   "outputs": [],
   "source": [
    "%%file tmp.smart.cpp\n",
    "\n",
    "#include <memory>\n",
    "#include <vector>\n",
    "#include <string>\n",
    "#include <iostream>\n",
    "\n",
    "void print( std::shared_ptr<std::string> a_text )\n",
    " { std::cout<<(*a_text)<<std::endl ; }  \n",
    "\n",
    "int main() {\n",
    "  std::shared_ptr<std::string> text {new std::string(\"hello\")} ;\n",
    "  print(text) ;\n",
    "}"
   ]
  },
  {
   "cell_type": "code",
   "execution_count": null,
   "metadata": {},
   "outputs": [],
   "source": [
    "!rm -f tmp.smart.exe && g++ -std=c++11 tmp.smart.cpp -o tmp.smart.exe"
   ]
  },
  {
   "cell_type": "code",
   "execution_count": null,
   "metadata": {},
   "outputs": [],
   "source": [
    "!./tmp.smart.exe"
   ]
  },
  {
   "cell_type": "markdown",
   "metadata": {
    "slideshow": {
     "slide_type": "subslide"
    }
   },
   "source": [
    "#### Shared pointers are practical, but expensive\n",
    "\n",
    "* They are doubled in size, compared to an ordinary pointer, because they also point to a *control block* which notably contains the current number of references to the pointed object.\n",
    "* The creation of the first pointer to a given object implies the dynamic creation of the *control block* associated with the pointed object.\n",
    "* **Increasing or decreasing the number of references should be done in a thread-safe manner**, so it is a bit slowed down."
   ]
  },
  {
   "cell_type": "markdown",
   "metadata": {
    "slideshow": {
     "slide_type": "slide"
    }
   },
   "source": [
    "## `std::unique_ptr`\n",
    "\n",
    "* The most efficient way to handle objects made with `new`.\n",
    "* A kind of guard which is **moving the ownership**.\n",
    "* Provides dereferencing operators **\\*** and **->**. "
   ]
  },
  {
   "cell_type": "markdown",
   "metadata": {
    "slideshow": {
     "slide_type": "subslide"
    }
   },
   "source": [
    "#### Difficulty: it is \"move-only\""
   ]
  },
  {
   "cell_type": "code",
   "execution_count": null,
   "metadata": {
    "attributes": {
     "classes": [
      "cpp"
     ],
     "id": ""
    },
    "slideshow": {
     "slide_type": "skip"
    }
   },
   "outputs": [],
   "source": [
    "%%file tmp.smart.cpp\n",
    "\n",
    "#include <memory>\n",
    "#include <vector>\n",
    "#include <string>\n",
    "#include <iostream>\n",
    "\n",
    "void print_val( std::unique_ptr<std::string> a_text )\n",
    " { std::cout<<(*a_text)<<std::endl ; }  \n",
    "\n",
    "int main() {\n",
    "  std::unique_ptr<std::string> text {new std::string(\"hello\")} ;\n",
    "  print_val(text) ;\n",
    "}"
   ]
  },
  {
   "cell_type": "code",
   "execution_count": null,
   "metadata": {},
   "outputs": [],
   "source": [
    "!rm -f tmp.smart.exe && g++ -std=c++11 tmp.smart.cpp -o tmp.smart.exe"
   ]
  },
  {
   "cell_type": "code",
   "execution_count": null,
   "metadata": {
    "attributes": {
     "classes": [
      "cpp"
     ],
     "id": ""
    },
    "slideshow": {
     "slide_type": "subslide"
    }
   },
   "outputs": [],
   "source": [
    "%%file tmp.smart.cpp\n",
    "\n",
    "#include <memory>\n",
    "#include <vector>\n",
    "#include <string>\n",
    "#include <iostream>\n",
    "\n",
    "void print_ref( std::unique_ptr<std::string> const & a_text )\n",
    " { std::cout<<(*a_text)<<std::endl ; }  \n",
    "\n",
    "int main() {\n",
    "  std::unique_ptr<std::string> text {new std::string(\"hello\")} ;\n",
    "  print_ref(text) ;\n",
    "}"
   ]
  },
  {
   "cell_type": "code",
   "execution_count": null,
   "metadata": {},
   "outputs": [],
   "source": [
    "!rm -f tmp.smart.exe && g++ -std=c++11 tmp.smart.cpp -o tmp.smart.exe"
   ]
  },
  {
   "cell_type": "code",
   "execution_count": null,
   "metadata": {},
   "outputs": [],
   "source": [
    "!./tmp.smart.exe"
   ]
  },
  {
   "cell_type": "markdown",
   "metadata": {
    "slideshow": {
     "slide_type": "subslide"
    }
   },
   "source": [
    "#### Yet, usable in a collection"
   ]
  },
  {
   "cell_type": "code",
   "execution_count": null,
   "metadata": {
    "attributes": {
     "classes": [
      "cpp"
     ],
     "id": ""
    },
    "slideshow": {
     "slide_type": "skip"
    }
   },
   "outputs": [],
   "source": [
    "%%file tmp.smart.cpp\n",
    "\n",
    "#include <memory>\n",
    "#include <vector>\n",
    "#include <string>\n",
    "#include <iostream>\n",
    "\n",
    "int main(){ \n",
    "    \n",
    "  std::vector<std::unique_ptr<std::string>> words ;\n",
    "\n",
    "  words.push_back(std::unique_ptr<std::string>(new std::string(\"hello\"))) ;\n",
    "  words.push_back(std::unique_ptr<std::string>(new std::string(\"world\"))) ;\n",
    "  words.push_back(std::unique_ptr<std::string>(new std::string(\"!\"))) ;\n",
    "\n",
    "  for ( auto const & word : words )\n",
    "   { std::cout<<(*word)<<\" \" ; }\n",
    "}"
   ]
  },
  {
   "cell_type": "code",
   "execution_count": null,
   "metadata": {},
   "outputs": [],
   "source": [
    "!rm -f tmp.smart.exe && g++ -std=c++11 tmp.smart.cpp -o tmp.smart.exe"
   ]
  },
  {
   "cell_type": "code",
   "execution_count": null,
   "metadata": {},
   "outputs": [],
   "source": [
    "!./tmp.smart.exe"
   ]
  },
  {
   "cell_type": "markdown",
   "metadata": {
    "slideshow": {
     "slide_type": "skip"
    }
   },
   "source": [
    "The uniques pointers above are made on the fly, i.e. temporary, i.e. right values. Therefore, they can be **moved** into the vector.\n",
    "\n",
    "In the range-based loop, do not forget the **&**, or the compiler will try to copy the unique pointers when reading them, and fail."
   ]
  },
  {
   "cell_type": "markdown",
   "metadata": {
    "slideshow": {
     "slide_type": "slide"
    }
   },
   "source": [
    "## `make_unique` and `make_shared`"
   ]
  },
  {
   "cell_type": "markdown",
   "metadata": {
    "slideshow": {
     "slide_type": "subslide"
    }
   },
   "source": [
    "#### Usual trap: giving a raw pointer to several smart pointers"
   ]
  },
  {
   "cell_type": "code",
   "execution_count": null,
   "metadata": {
    "attributes": {
     "classes": [
      "cpp"
     ],
     "id": ""
    },
    "slideshow": {
     "slide_type": "skip"
    }
   },
   "outputs": [],
   "source": [
    "%%file tmp.smart.cpp\n",
    "\n",
    "#include <iostream>\n",
    "#include <string>\n",
    "#include <memory>\n",
    "\n",
    "int main() {\n",
    "  //...\n",
    "  int * ip = new int {1} ;\n",
    "  //...\n",
    "  std::shared_ptr<int> sp1 {ip} ;\n",
    "  //...\n",
    "  std::shared_ptr<int> sp2 {ip} ;\n",
    "  //...\n",
    "}"
   ]
  },
  {
   "cell_type": "code",
   "execution_count": null,
   "metadata": {},
   "outputs": [],
   "source": [
    "!rm -f tmp.smart.exe && g++ -std=c++11 tmp.smart.cpp -o tmp.smart.exe"
   ]
  },
  {
   "cell_type": "code",
   "execution_count": null,
   "metadata": {},
   "outputs": [],
   "source": [
    "!./tmp.smart.exe"
   ]
  },
  {
   "cell_type": "markdown",
   "metadata": {
    "attributes": {
     "classes": [
      "cpp"
     ],
     "id": ""
    },
    "slideshow": {
     "slide_type": "skip"
    }
   },
   "source": [
    "#### Instead, give the result of `new` directly to the smart pointer"
   ]
  },
  {
   "cell_type": "code",
   "execution_count": null,
   "metadata": {
    "attributes": {
     "classes": [
      "cpp"
     ],
     "id": ""
    },
    "slideshow": {
     "slide_type": "skip"
    }
   },
   "outputs": [],
   "source": [
    "%%file tmp.smart.cpp\n",
    "\n",
    "#include <iostream>\n",
    "#include <string>\n",
    "#include <memory>\n",
    "\n",
    "int main() {\n",
    "  //...\n",
    "  std::shared_ptr<int> sp1 {new int {1}} ;\n",
    "  //...\n",
    "  std::shared_ptr<int> sp2 {sp1} ;\n",
    "  //...\n",
    "}"
   ]
  },
  {
   "cell_type": "code",
   "execution_count": null,
   "metadata": {},
   "outputs": [],
   "source": [
    "!rm -f tmp.smart.exe && g++ -std=c++11 tmp.smart.cpp -o tmp.smart.exe"
   ]
  },
  {
   "cell_type": "code",
   "execution_count": null,
   "metadata": {},
   "outputs": [],
   "source": [
    "!./tmp.smart.exe"
   ]
  },
  {
   "cell_type": "markdown",
   "metadata": {
    "slideshow": {
     "slide_type": "subslide"
    }
   },
   "source": [
    "#### Even better: use `make_shared` and `make_unique`"
   ]
  },
  {
   "cell_type": "code",
   "execution_count": null,
   "metadata": {
    "attributes": {
     "classes": [
      "cpp"
     ],
     "id": ""
    },
    "slideshow": {
     "slide_type": "skip"
    }
   },
   "outputs": [],
   "source": [
    "%%file tmp.smart.cpp\n",
    "\n",
    "#include <iostream>\n",
    "#include <string>\n",
    "#include <memory>\n",
    "\n",
    "int main() {\n",
    "  //...\n",
    "  auto up1 { std::make_unique<int>(1) } ;\n",
    "  //...\n",
    "  auto & up2 { up1 } ;\n",
    "  //...\n",
    "  auto sp1 { std::make_shared<int>(1) } ;\n",
    "  //...\n",
    "  auto sp2 { sp1 } ;\n",
    "  //...\n",
    "}"
   ]
  },
  {
   "cell_type": "code",
   "execution_count": null,
   "metadata": {},
   "outputs": [],
   "source": [
    "!rm -f tmp.smart.exe && g++ -std=c++14 tmp.smart.cpp -o tmp.smart.exe"
   ]
  },
  {
   "cell_type": "code",
   "execution_count": null,
   "metadata": {},
   "outputs": [],
   "source": [
    "!./tmp.smart.exe"
   ]
  },
  {
   "cell_type": "markdown",
   "metadata": {
    "slideshow": {
     "slide_type": "slide"
    }
   },
   "source": [
    "## Questions ?\n",
    "\n",
    "Ask [Pythie++](https://app.corolair.com/student/tutor/809b15bc-0bcf-4931-8b77-d37ef3720e19/chat) and|or try its quizz !"
   ]
  },
  {
   "cell_type": "markdown",
   "metadata": {
    "slideshow": {
     "slide_type": "skip"
    }
   },
   "source": [
    "# Exercise\n",
    "\n",
    "Eliminate the raw pointers from the example, and use smart pointers instead, so that the explicit call to `delete` in `main()` can be removed."
   ]
  },
  {
   "cell_type": "code",
   "execution_count": null,
   "metadata": {
    "slideshow": {
     "slide_type": "skip"
    }
   },
   "outputs": [],
   "source": [
    "%%file tmp.pointers.cpp\n",
    "\n",
    "#include <iostream>\n",
    "\n",
    "class MyData\n",
    " {\n",
    "  public :\n",
    "    MyData( int a_data ) : m_data(a_data)\n",
    "     { std::cout<<\"MyData::MyData(\"<<m_data<<\")\"<<std::endl ; }\n",
    "    int data() const { return m_data ; }\n",
    "    ~MyData() { std::cout<<\"MyData::~MyData(\"<<m_data<<\")\"<<std::endl ; }\n",
    "  private :\n",
    "    int m_data ;\n",
    " } ;\n",
    "\n",
    "void print( MyData const * a_data_ptr )\n",
    " { std::cout<<a_data_ptr->data()<<std::endl ; }  \n",
    "\n",
    "int main()\n",
    " {\n",
    "  MyData * data_ptr = new MyData(42) ;\n",
    "  print(data_ptr) ;\n",
    "  delete data_ptr ;\n",
    "  return 0 ;\n",
    " }"
   ]
  },
  {
   "cell_type": "code",
   "execution_count": null,
   "metadata": {
    "slideshow": {
     "slide_type": "skip"
    }
   },
   "outputs": [],
   "source": [
    "!rm -f tmp.pointers.exe && g++ -std=c++17 tmp.pointers.cpp -o tmp.pointers.exe"
   ]
  },
  {
   "cell_type": "code",
   "execution_count": null,
   "metadata": {
    "slideshow": {
     "slide_type": "skip"
    }
   },
   "outputs": [],
   "source": [
    "!./tmp.pointers.exe"
   ]
  },
  {
   "cell_type": "markdown",
   "metadata": {
    "slideshow": {
     "slide_type": "skip"
    }
   },
   "source": [
    "© *CNRS 2024*  \n",
    "*This document was created by David Chamont and translated by Olga Abramkina. It is available under the [License Creative Commons - Attribution - No commercial use - Shared under the conditions 4.0 International](http://creativecommons.org/licenses/by-nc-sa/4.0/)*"
   ]
  }
 ],
 "metadata": {
  "celltoolbar": "Diaporama",
  "kernelspec": {
   "display_name": "C++17",
   "language": "C++17",
   "name": "xcpp17"
  },
  "language_info": {
   "codemirror_mode": "text/x-c++src",
   "file_extension": ".cpp",
   "mimetype": "text/x-c++src",
   "name": "c++",
   "version": "17"
  },
  "toc": {
   "base_numbering": 1,
   "nav_menu": {},
   "number_sections": true,
   "sideBar": true,
   "skip_h1_title": true,
   "title_cell": "Table of Contents",
   "title_sidebar": "Contents",
   "toc_cell": false,
   "toc_position": {},
   "toc_section_display": true,
   "toc_window_display": false
  },
  "varInspector": {
   "cols": {
    "lenName": 16,
    "lenType": 16,
    "lenVar": 40
   },
   "kernels_config": {
    "python": {
     "delete_cmd_postfix": "",
     "delete_cmd_prefix": "del ",
     "library": "var_list.py",
     "varRefreshCmd": "print(var_dic_list())"
    },
    "r": {
     "delete_cmd_postfix": ") ",
     "delete_cmd_prefix": "rm(",
     "library": "var_list.r",
     "varRefreshCmd": "cat(var_dic_list()) "
    }
   },
   "types_to_exclude": [
    "module",
    "function",
    "builtin_function_or_method",
    "instance",
    "_Feature"
   ],
   "window_display": false
  }
 },
 "nbformat": 4,
 "nbformat_minor": 4
}
