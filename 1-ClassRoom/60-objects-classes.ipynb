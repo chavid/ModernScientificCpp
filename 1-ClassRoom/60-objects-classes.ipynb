{
 "cells": [
  {
   "cell_type": "markdown",
   "metadata": {
    "slideshow": {
     "slide_type": "slide"
    }
   },
   "source": [
    "# About objects and classes\n",
    "\n",
    "Modern C++ does not revolutionize the object-oriented features but rather brings many small improvements for most of the identified lacks."
   ]
  },
  {
   "cell_type": "markdown",
   "metadata": {
    "slideshow": {
     "slide_type": "slide"
    }
   },
   "source": [
    "## Improvement of object constructions"
   ]
  },
  {
   "cell_type": "markdown",
   "metadata": {
    "slideshow": {
     "slide_type": "subslide"
    }
   },
   "source": [
    "#### Delegating constructors"
   ]
  },
  {
   "cell_type": "code",
   "execution_count": null,
   "metadata": {
    "attributes": {
     "classes": [
      "cpp"
     ],
     "id": ""
    },
    "slideshow": {
     "slide_type": "skip"
    }
   },
   "outputs": [],
   "source": [
    "#include <iostream>"
   ]
  },
  {
   "cell_type": "code",
   "execution_count": null,
   "metadata": {
    "attributes": {
     "classes": [
      "cpp"
     ],
     "id": ""
    },
    "slideshow": {
     "slide_type": "fragment"
    }
   },
   "outputs": [],
   "source": [
    "struct ClassA {\n",
    "    ClassA() : ClassA(0) { m_default = true ; }\n",
    "    ClassA( int a_x ) : m_x {a_x} { m_default = false ; }\n",
    "    int m_x ;\n",
    "    bool m_default ;\n",
    "} ;"
   ]
  },
  {
   "cell_type": "code",
   "execution_count": null,
   "metadata": {
    "attributes": {
     "classes": [
      "cpp"
     ],
     "id": ""
    },
    "slideshow": {
     "slide_type": "fragment"
    }
   },
   "outputs": [],
   "source": [
    "void display( ClassA const & a_obj )\n",
    "{\n",
    "  if (a_obj.m_default) { std::cout<<\"(default)\"<<a_obj.m_x<<std::endl ; }\n",
    "  else { std::cout<<\"(explicit)\"<<a_obj.m_x<<std::endl ; }\n",
    "}"
   ]
  },
  {
   "cell_type": "code",
   "execution_count": null,
   "metadata": {
    "slideshow": {
     "slide_type": "fragment"
    }
   },
   "outputs": [],
   "source": [
    "ClassA a1 {}, a2 {0} ;\n",
    "display(a1) ;\n",
    "display(a2) ;"
   ]
  },
  {
   "cell_type": "markdown",
   "metadata": {
    "slideshow": {
     "slide_type": "subslide"
    }
   },
   "source": [
    "#### Initialization of data members"
   ]
  },
  {
   "cell_type": "code",
   "execution_count": null,
   "metadata": {
    "slideshow": {
     "slide_type": "-"
    }
   },
   "outputs": [],
   "source": [
    "struct ClassB {\n",
    "  ClassB() {} ;\n",
    "  ClassB( int a_x ) : m_x {a_x} {}\n",
    "  int m_x { 0 } ;\n",
    "} ;"
   ]
  },
  {
   "cell_type": "code",
   "execution_count": null,
   "metadata": {
    "attributes": {
     "classes": [
      "cpp"
     ],
     "id": ""
    },
    "slideshow": {
     "slide_type": "-"
    }
   },
   "outputs": [],
   "source": [
    "ClassB b0 {} ;\n",
    "ClassB b1 {1} ;\n",
    "std::cout << b0.m_x << std::endl ;\n",
    "std::cout << b1.m_x << std::endl ;"
   ]
  },
  {
   "cell_type": "markdown",
   "metadata": {
    "slideshow": {
     "slide_type": "subslide"
    }
   },
   "source": [
    "#### Inheritance and constructors"
   ]
  },
  {
   "cell_type": "code",
   "execution_count": null,
   "metadata": {
    "slideshow": {
     "slide_type": "skip"
    }
   },
   "outputs": [],
   "source": [
    "#include <iostream>"
   ]
  },
  {
   "cell_type": "code",
   "execution_count": null,
   "metadata": {
    "slideshow": {
     "slide_type": "-"
    }
   },
   "outputs": [],
   "source": [
    "struct ClassA {\n",
    "    ClassA( int ) { std::cout << \"ClassA(int)\" << std::endl ; }\n",
    "    ClassA( int, int ) { std::cout << \"ClassA(int,int)\" << std::endl ; }\n",
    "} ;"
   ]
  },
  {
   "cell_type": "code",
   "execution_count": null,
   "metadata": {
    "attributes": {
     "classes": [
      "cpp"
     ],
     "id": ""
    },
    "slideshow": {
     "slide_type": "-"
    }
   },
   "outputs": [],
   "source": [
    "struct ClassB : public ClassA {\n",
    "  using ClassA::ClassA ; // either A::A( int) or A::A( int, int ) can be used\n",
    "                         // as if they were declared as B::B( int) and B::B( int, int )\n",
    "} ;"
   ]
  },
  {
   "cell_type": "code",
   "execution_count": null,
   "metadata": {
    "slideshow": {
     "slide_type": "-"
    }
   },
   "outputs": [],
   "source": [
    "ClassB b1 {1} ;\n",
    "ClassB b2 {1,2} ;"
   ]
  },
  {
   "cell_type": "markdown",
   "metadata": {
    "slideshow": {
     "slide_type": "slide"
    }
   },
   "source": [
    "## Improvement of declaration of member functions"
   ]
  },
  {
   "cell_type": "markdown",
   "metadata": {
    "slideshow": {
     "slide_type": "subslide"
    }
   },
   "source": [
    "#### Forbid a function"
   ]
  },
  {
   "cell_type": "code",
   "execution_count": null,
   "metadata": {
    "slideshow": {
     "slide_type": "fragment"
    }
   },
   "outputs": [],
   "source": [
    "// class cannot be copied in C++03\n",
    "class no_copies {\n",
    "  public:\n",
    "    no_copies() {}\n",
    "  private:\n",
    "    no_copies( const no_copies & ) ;\n",
    "    no_copies & operator=( const no_copies & ) ;\n",
    "} ;"
   ]
  },
  {
   "cell_type": "code",
   "execution_count": null,
   "metadata": {
    "attributes": {
     "classes": [
      "cpp"
     ],
     "id": ""
    },
    "slideshow": {
     "slide_type": "fragment"
    }
   },
   "outputs": [],
   "source": [
    "// class cannot be copied in C++11\n",
    "class no_copies_v2 {\n",
    "  public:\n",
    "    no_copies_v2() {}\n",
    "    no_copies_v2( no_copies_v2 const & ) = delete ;\n",
    "    no_copies_v2 & operator=( no_copies_v2 const & ) = delete ;\n",
    "} ;"
   ]
  },
  {
   "cell_type": "markdown",
   "metadata": {
    "slideshow": {
     "slide_type": "subslide"
    }
   },
   "source": [
    "#### We can now prevent certain implicit conversions"
   ]
  },
  {
   "cell_type": "code",
   "execution_count": null,
   "metadata": {
    "slideshow": {
     "slide_type": "-"
    }
   },
   "outputs": [],
   "source": [
    "struct FooStruct {\n",
    "  void foo_method(short) {}\n",
    "  void foo_method(int) = delete ;\n",
    "} ;"
   ]
  },
  {
   "cell_type": "code",
   "execution_count": null,
   "metadata": {
    "attributes": {
     "classes": [
      "cpp"
     ],
     "id": ""
    },
    "slideshow": {
     "slide_type": "-"
    }
   },
   "outputs": [],
   "source": [
    "FooStruct s ;\n",
    "s.foo_method(42) ; // Error, int overload declared deleted\n",
    "s.foo_method(static_cast<short>(42)) ; // OK"
   ]
  },
  {
   "cell_type": "markdown",
   "metadata": {
    "slideshow": {
     "slide_type": "subslide"
    }
   },
   "source": [
    "\n",
    "#### Modify the signature but keep the default implementation"
   ]
  },
  {
   "cell_type": "code",
   "execution_count": null,
   "metadata": {
    "attributes": {
     "classes": [
      "cpp"
     ],
     "id": ""
    },
    "slideshow": {
     "slide_type": "-"
    }
   },
   "outputs": [],
   "source": [
    "class Y {\n",
    "  public:\n",
    "    Y & operator=( Y const & ) = default ; // Make it explicit\n",
    "    virtual ~Y() = default ; // Add virtual\n",
    "  protected:\n",
    "    Y() = default ; // Change access\n",
    "} ; "
   ]
  },
  {
   "cell_type": "markdown",
   "metadata": {
    "slideshow": {
     "slide_type": "slide"
    }
   },
   "source": [
    "## Hiding is still an issue\n",
    "\n",
    "When one use both inheritance and overloading, i.e. multiple functions with the same name but different signatures (the number or type of arguments), how does it work?"
   ]
  },
  {
   "cell_type": "code",
   "execution_count": null,
   "metadata": {
    "slideshow": {
     "slide_type": "subslide"
    }
   },
   "outputs": [],
   "source": [
    "struct Base\n",
    " {\n",
    "  void display( int ) { std::cout<<\"Base::display( int )\"<<std::endl ; }\n",
    "  void display( float ) { std::cout<<\"Base::display( float )\"<<std::endl ; }\n",
    " } ;"
   ]
  },
  {
   "cell_type": "code",
   "execution_count": null,
   "metadata": {
    "slideshow": {
     "slide_type": "fragment"
    }
   },
   "outputs": [],
   "source": [
    "struct Derived : public Base\n",
    " {\n",
    "  void display( float ) { std::cout<<\"Derived::display( float )\"<<std::endl ; }\n",
    "  void display( double ) { std::cout<<\"Derived::display( double )\"<<std::endl ; }\n",
    " } ;"
   ]
  },
  {
   "cell_type": "code",
   "execution_count": null,
   "metadata": {
    "slideshow": {
     "slide_type": "fragment"
    }
   },
   "outputs": [],
   "source": [
    "void check( Derived obj )\n",
    " { \n",
    "  obj.display(42) ;\n",
    "  obj.display(3.14f) ;\n",
    "  obj.display(3.14) ;\n",
    " }"
   ]
  },
  {
   "cell_type": "markdown",
   "metadata": {
    "slideshow": {
     "slide_type": "subslide"
    }
   },
   "source": [
    "When compiling `obj.mf(...)`, the compiler follow those steps:\n",
    "1. search some member function named `mf` in the class of `obj`;\n",
    "2. while not found at least one `mf`, move to its base classes, one after the other;\n",
    "3. in the selected class, within all overloaded `mf` functions, select the one which fit better the call arguments `(...)`."
   ]
  },
  {
   "cell_type": "markdown",
   "metadata": {
    "slideshow": {
     "slide_type": "subslide"
    }
   },
   "source": [
    "### Good old-fashioned practice\n",
    "\n",
    "When you redefine an inherited member function, **redefine all the base class functions which share the same name**, or you will hide some of them."
   ]
  },
  {
   "cell_type": "markdown",
   "metadata": {
    "slideshow": {
     "slide_type": "slide"
    }
   },
   "source": [
    "## Improvement of virtual member functions"
   ]
  },
  {
   "cell_type": "markdown",
   "metadata": {
    "slideshow": {
     "slide_type": "subslide"
    }
   },
   "source": [
    "#### Control the redefinition of virtual methods"
   ]
  },
  {
   "cell_type": "code",
   "execution_count": null,
   "metadata": {
    "slideshow": {
     "slide_type": "-"
    }
   },
   "outputs": [],
   "source": [
    "class ClassA\n",
    " {\n",
    "  public :\n",
    "    virtual void fct1() =0 ;\n",
    "    virtual void fct2( int ) =0 ;\n",
    "    virtual void fct3( bool ) =0 ;\n",
    " } ;"
   ]
  },
  {
   "cell_type": "code",
   "execution_count": null,
   "metadata": {
    "slideshow": {
     "slide_type": "-"
    }
   },
   "outputs": [],
   "source": [
    "class ClassB : public ClassA\n",
    " {\n",
    "  public :\n",
    "    void fct1() override ;       // OK\n",
    "    void ft2( int ) override ;   // error: A::ft2 does not exist\n",
    "    void fct2( bool ) override ; // error: not the good types\n",
    " } ;"
   ]
  },
  {
   "cell_type": "markdown",
   "metadata": {
    "slideshow": {
     "slide_type": "subslide"
    }
   },
   "source": [
    "#### Forbid redefining virtual methods and abstract classes"
   ]
  },
  {
   "cell_type": "code",
   "execution_count": null,
   "metadata": {
    "slideshow": {
     "slide_type": "-"
    }
   },
   "outputs": [],
   "source": [
    "struct ClassA {\n",
    "    virtual void fct1() =0 ;\n",
    "    virtual void fct2( int ) =0 ;\n",
    "} ;"
   ]
  },
  {
   "cell_type": "code",
   "execution_count": null,
   "metadata": {
    "slideshow": {
     "slide_type": "-"
    }
   },
   "outputs": [],
   "source": [
    "struct ClassB : public ClassA {\n",
    "    virtual void fct3( bool ) final ;\n",
    "} ;"
   ]
  },
  {
   "cell_type": "code",
   "execution_count": null,
   "metadata": {
    "slideshow": {
     "slide_type": "-"
    }
   },
   "outputs": [],
   "source": [
    "struct ClassC final : public ClassB {\n",
    "    void fct1() override ;       // OK\n",
    "    void fct3( bool ) override ; // error: B::fct3 is final\n",
    "} ;"
   ]
  },
  {
   "cell_type": "code",
   "execution_count": null,
   "metadata": {
    "attributes": {
     "classes": [
      "cpp"
     ],
     "id": ""
    },
    "jupyter": {
     "source_hidden": true
    },
    "slideshow": {
     "slide_type": "-"
    }
   },
   "outputs": [],
   "source": [
    "struct ClassD : public ClassC {} ;               // error: C is final         "
   ]
  },
  {
   "cell_type": "markdown",
   "metadata": {
    "slideshow": {
     "slide_type": "subslide"
    }
   },
   "source": [
    "#### Reminder: make the destructor virtual\n",
    "\n",
    "Indeed, you may create a derived object with `new` and store its address in a base class pointer. When calling `delete` on this pointer, one will bypass the derived destructor, unless it is virtual."
   ]
  },
  {
   "cell_type": "code",
   "execution_count": null,
   "metadata": {},
   "outputs": [],
   "source": [
    "class ClassA\n",
    " {\n",
    "  public :\n",
    "    virtual void fct1() =0 ;\n",
    "    virtual void fct2( int ) =0 ;\n",
    "    virtual void fct3( bool ) =0 ;\n",
    "    virtual ~ClassA() {}\n",
    " } ;"
   ]
  },
  {
   "cell_type": "markdown",
   "metadata": {
    "slideshow": {
     "slide_type": "subslide"
    }
   },
   "source": [
    "#### Reminder: avoid virtual functions at low level\n",
    "\n",
    "Because of the cost, virtual functions are rather used for large and not numerous objects: the upper software layers of your application. For what concerns the numerous and small objects, it is preferable to use templates (which slow down the compilation but have no effect during execution)."
   ]
  },
  {
   "cell_type": "markdown",
   "metadata": {
    "slideshow": {
     "slide_type": "slide"
    }
   },
   "source": [
    "## Reminder about function-objects\n",
    "\n",
    "If a class supply an `operator()`, its objects can behave similarly to a function. The member variables of the class can be seen as extraneous parameters for this function."
   ]
  },
  {
   "cell_type": "code",
   "execution_count": null,
   "metadata": {
    "slideshow": {
     "slide_type": "skip"
    }
   },
   "outputs": [],
   "source": [
    "#include <iostream>"
   ]
  },
  {
   "cell_type": "code",
   "execution_count": null,
   "metadata": {
    "slideshow": {
     "slide_type": "subslide"
    }
   },
   "outputs": [],
   "source": [
    "class LinearFunction\n",
    " {\n",
    "  public :\n",
    "    LinearFunction( double constant ) : m_constant(constant) {}\n",
    "    double operator()( double value ) { return m_constant*value ; }\n",
    "  private :\n",
    "    double m_constant ;    \n",
    " } ;"
   ]
  },
  {
   "cell_type": "code",
   "execution_count": null,
   "metadata": {
    "slideshow": {
     "slide_type": "-"
    }
   },
   "outputs": [],
   "source": [
    "LinearFunction times2(2) ;\n",
    "const int SIZE = 10 ;\n",
    "double values[SIZE] = { 0, 1, 2, 3, 4, 5, 6, 7, 8, 9 } ;\n",
    "for ( int i=0 ; i<SIZE ; ++i )\n",
    " { std::cout << times2(values[i]) << \" \" ; }"
   ]
  },
  {
   "cell_type": "markdown",
   "metadata": {
    "slideshow": {
     "slide_type": "subslide"
    }
   },
   "source": [
    "### The recommended use of function-objects\n",
    "\n",
    "This type of classes is especially used with algorithms of the standard library."
   ]
  },
  {
   "cell_type": "markdown",
   "metadata": {
    "slideshow": {
     "slide_type": "subslide"
    }
   },
   "source": [
    "Below, we review the previous function-object, in order to integrate the call to `std::cout`, and then we combine it with `std::foreach`."
   ]
  },
  {
   "cell_type": "code",
   "execution_count": null,
   "metadata": {
    "slideshow": {
     "slide_type": "skip"
    }
   },
   "outputs": [],
   "source": [
    "#include <iostream>"
   ]
  },
  {
   "cell_type": "code",
   "execution_count": null,
   "metadata": {
    "slideshow": {
     "slide_type": "-"
    }
   },
   "outputs": [],
   "source": [
    "class LinearFunctionPrint {\n",
    "  public :\n",
    "    LinearFunctionPrint( double constant ) : m_constant(constant) {}\n",
    "    void operator()( double value )\n",
    "     { std::cout << (m_constant*value) << \" \" ; }\n",
    "  private :\n",
    "    double m_constant ;    \n",
    " } ;"
   ]
  },
  {
   "cell_type": "code",
   "execution_count": null,
   "metadata": {
    "slideshow": {
     "slide_type": "-"
    }
   },
   "outputs": [],
   "source": [
    "const int SIZE = 10 ;\n",
    "double values[SIZE] = { 0, 1, 2, 3, 4, 5, 6, 7, 8, 9 } ;"
   ]
  },
  {
   "cell_type": "code",
   "execution_count": null,
   "metadata": {
    "slideshow": {
     "slide_type": "skip"
    }
   },
   "outputs": [],
   "source": [
    "#include <algorithm>"
   ]
  },
  {
   "cell_type": "code",
   "execution_count": null,
   "metadata": {
    "slideshow": {
     "slide_type": "-"
    }
   },
   "outputs": [],
   "source": [
    "LinearFunctionPrint times2cout(2) ;\n",
    "std::for_each(values,values+SIZE,times2cout) ;"
   ]
  },
  {
   "cell_type": "code",
   "execution_count": null,
   "metadata": {
    "slideshow": {
     "slide_type": "-"
    }
   },
   "outputs": [],
   "source": [
    "std::for_each(values,values+SIZE,LinearFunctionPrint(2)) ;"
   ]
  },
  {
   "cell_type": "markdown",
   "metadata": {
    "slideshow": {
     "slide_type": "subslide"
    }
   },
   "source": [
    "Objet-functions are classes. They can also use inheritance:"
   ]
  },
  {
   "cell_type": "code",
   "execution_count": null,
   "metadata": {
    "slideshow": {
     "slide_type": "-"
    }
   },
   "outputs": [],
   "source": [
    "class LinearFunctionPrint : public LinearFunction\n",
    " {\n",
    "  public :\n",
    "    LinearFunctionPrint( double constant ) : LinearFunction(constant) {}\n",
    "    void operator()( double value )\n",
    "     { std::cout << LinearFunction::operator()(value) << \" \" ; }\n",
    " } ;"
   ]
  },
  {
   "cell_type": "code",
   "execution_count": null,
   "metadata": {
    "slideshow": {
     "slide_type": "-"
    }
   },
   "outputs": [],
   "source": [
    "std::for_each(values,values+SIZE,LinearFunctionPrint(2)) ;"
   ]
  },
  {
   "cell_type": "markdown",
   "metadata": {
    "slideshow": {
     "slide_type": "slide"
    }
   },
   "source": [
    "# Take away\n",
    "\n",
    "- The new `delete` keyword forbids more explicitly some functions.\n",
    "- The new `override` keyword helps to detect typos when redefining inherited member functions.\n",
    "- Still, be aware of the **hiding pitfall** if you overload with different signatures.\n",
    "- Avoid the costly virtual functions for low level objects.\n",
    "- Function-objects can incorporate parameters and be passed on to algorithms.\n",
    "\n",
    "# Questions?"
   ]
  },
  {
   "cell_type": "markdown",
   "metadata": {
    "slideshow": {
     "slide_type": "skip"
    }
   },
   "source": [
    "# Exercise\n",
    "\n",
    "In the code below:\n",
    "- insert one `= delete`, one `= default` and one `override` ;\n",
    "- just in case, give default values to the members variables ;\n",
    "- prevent the compiler from implicitly transforming a double into a particle.\n",
    "- what is still lacking?"
   ]
  },
  {
   "cell_type": "code",
   "execution_count": null,
   "metadata": {
    "slideshow": {
     "slide_type": "skip"
    }
   },
   "outputs": [],
   "source": [
    "%%file tmp.objets.cpp\n",
    "\n",
    "#include <cstdlib> // pour std::rand()\n",
    "#include <iostream>\n",
    "#include <string>\n",
    "\n",
    "class Particle\n",
    " {\n",
    "  public  :\n",
    "    Particle( double a_mass ) : m_mass {a_mass} {}\n",
    "    double mass() { return m_mass ; }\n",
    "    virtual std::string name() { return \"Particle\" ; }\n",
    "    ~Particle() {}\n",
    "  private  :\n",
    "    Particle( Particle const & ) ; // non copiable\n",
    "    double m_mass ;\n",
    " } ;\n",
    "\n",
    "class ChargedParticle : public Particle\n",
    " {\n",
    "  public  :\n",
    "    ChargedParticle( double a_mass, double a_charge )\n",
    "     : Particle(a_mass), m_charge {a_charge} {}\n",
    "    double charge() { return m_charge ; }\n",
    "    virtual std::string name() { return \"ChargedParticle\" ; }\n",
    "  private  :\n",
    "    double m_charge ;\n",
    " } ;\n",
    "\n",
    "void print( Particle & a_p  )\n",
    " {\n",
    "  std::cout << a_p.name() << std::endl ;          \n",
    "  std::cout << \"  mass = \" << p.mass() << std::endl ;         \n",
    " }\n",
    "\n",
    "int main()\n",
    " {\n",
    "  for ( int i = 0 ; i < 5 ; ++i )\n",
    "   {\n",
    "    if ( std::rand() < (.5*RAND_MAX) )\n",
    "     {\n",
    "      Particle p {2} ;\n",
    "      print(p) ;\n",
    "     }\n",
    "    else\n",
    "     {\n",
    "      ChargedParticle p {1,1} ;\n",
    "      print(p) ;\n",
    "      std::cout << \"  charge = \" << p.charge() << std::endl ;         \n",
    "     }\n",
    "   }\n",
    " }"
   ]
  },
  {
   "cell_type": "code",
   "execution_count": null,
   "metadata": {
    "slideshow": {
     "slide_type": "skip"
    }
   },
   "outputs": [],
   "source": [
    "!rm -f tmp.objets.exe && g++ -std=c++17 tmp.objets.cpp -o tmp.objets.exe"
   ]
  },
  {
   "cell_type": "code",
   "execution_count": null,
   "metadata": {
    "slideshow": {
     "slide_type": "skip"
    }
   },
   "outputs": [],
   "source": [
    "!./tmp.objets.exe"
   ]
  },
  {
   "cell_type": "markdown",
   "metadata": {
    "slideshow": {
     "slide_type": "skip"
    }
   },
   "source": [
    "© *CNRS 2024*  \n",
    "*This document was created by David Chamont and translated by Olga Abramkina. It is available under the [License Creative Commons - Attribution - No commercial use - Shared under the conditions 4.0 International](http://creativecommons.org/licenses/by-nc-sa/4.0/)*"
   ]
  }
 ],
 "metadata": {
  "celltoolbar": "Slideshow",
  "kernelspec": {
   "display_name": "C++17",
   "language": "C++17",
   "name": "xcpp17"
  },
  "language_info": {
   "codemirror_mode": "text/x-c++src",
   "file_extension": ".cpp",
   "mimetype": "text/x-c++src",
   "name": "c++",
   "version": "17"
  },
  "toc": {
   "base_numbering": 1,
   "nav_menu": {},
   "number_sections": true,
   "sideBar": true,
   "skip_h1_title": true,
   "title_cell": "Table of Contents",
   "title_sidebar": "Contents",
   "toc_cell": false,
   "toc_position": {},
   "toc_section_display": true,
   "toc_window_display": false
  },
  "varInspector": {
   "cols": {
    "lenName": 16,
    "lenType": 16,
    "lenVar": 40
   },
   "kernels_config": {
    "python": {
     "delete_cmd_postfix": "",
     "delete_cmd_prefix": "del ",
     "library": "var_list.py",
     "varRefreshCmd": "print(var_dic_list())"
    },
    "r": {
     "delete_cmd_postfix": ") ",
     "delete_cmd_prefix": "rm(",
     "library": "var_list.r",
     "varRefreshCmd": "cat(var_dic_list()) "
    }
   },
   "types_to_exclude": [
    "module",
    "function",
    "builtin_function_or_method",
    "instance",
    "_Feature"
   ],
   "window_display": false
  }
 },
 "nbformat": 4,
 "nbformat_minor": 4
}
