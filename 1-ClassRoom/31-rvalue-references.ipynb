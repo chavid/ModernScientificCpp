{
 "cells": [
  {
   "cell_type": "markdown",
   "metadata": {
    "slideshow": {
     "slide_type": "slide"
    }
   },
   "source": [
    "# Modern C++: rvalue references and data moves"
   ]
  },
  {
   "cell_type": "markdown",
   "metadata": {
    "slideshow": {
     "slide_type": "slide"
    }
   },
   "source": [
    "## Reminders on references"
   ]
  },
  {
   "cell_type": "markdown",
   "metadata": {
    "slideshow": {
     "slide_type": "subslide"
    }
   },
   "source": [
    "#### A reference is an alias to another variable"
   ]
  },
  {
   "cell_type": "code",
   "execution_count": null,
   "metadata": {
    "attributes": {
     "classes": [
      "cpp"
     ],
     "id": ""
    },
    "slideshow": {
     "slide_type": "-"
    }
   },
   "outputs": [],
   "source": [
    "#include <iostream>\n",
    "\n",
    "int var {42} ;\n",
    "int & ref {var} ;\n",
    "ref = 99 ;\n",
    "\n",
    "std::cout << var << std::endl ;"
   ]
  },
  {
   "cell_type": "markdown",
   "metadata": {
    "slideshow": {
     "slide_type": "subslide"
    }
   },
   "source": [
    "#### A reference cannot bind to a temporary value"
   ]
  },
  {
   "cell_type": "code",
   "execution_count": null,
   "metadata": {
    "attributes": {
     "classes": [
      "cpp"
     ],
     "id": ""
    },
    "slideshow": {
     "slide_type": "-"
    }
   },
   "outputs": [],
   "source": [
    "int & i {42} ; // Won’t compile"
   ]
  },
  {
   "cell_type": "code",
   "execution_count": null,
   "metadata": {
    "slideshow": {
     "slide_type": "-"
    }
   },
   "outputs": [],
   "source": [
    "#include <iostream>\n",
    "#include <string>\n",
    "\n",
    "void print( std::string & s )\n",
    " { std::cout<<s<<std::endl ; }\n",
    "\n",
    "print(\"hello\") ; // Won't compile"
   ]
  },
  {
   "cell_type": "markdown",
   "metadata": {
    "slideshow": {
     "slide_type": "subslide"
    }
   },
   "source": [
    "#### Unless for references to constants"
   ]
  },
  {
   "cell_type": "markdown",
   "metadata": {},
   "source": [
    "***restart kernel***"
   ]
  },
  {
   "cell_type": "code",
   "execution_count": null,
   "metadata": {
    "attributes": {
     "classes": [
      "cpp"
     ],
     "id": ""
    },
    "slideshow": {
     "slide_type": "-"
    }
   },
   "outputs": [],
   "source": [
    "int const & i {42} ; // OK"
   ]
  },
  {
   "cell_type": "code",
   "execution_count": null,
   "metadata": {
    "slideshow": {
     "slide_type": "-"
    }
   },
   "outputs": [],
   "source": [
    "#include <iostream>\n",
    "#include <string>\n",
    "\n",
    "void print_const( std::string const & s )\n",
    " { std::cout<<s<<std::endl ; }\n",
    "\n",
    "print_const(\"hello world\") ; // OK"
   ]
  },
  {
   "cell_type": "markdown",
   "metadata": {
    "slideshow": {
     "slide_type": "slide"
    }
   },
   "source": [
    "## Modern C++: rvalue references"
   ]
  },
  {
   "cell_type": "markdown",
   "metadata": {
    "slideshow": {
     "slide_type": "subslide"
    }
   },
   "source": [
    "#### An rvalue reference can only bind to a temporary value"
   ]
  },
  {
   "cell_type": "code",
   "execution_count": null,
   "metadata": {
    "attributes": {
     "classes": [
      "cpp"
     ],
     "id": ""
    },
    "slideshow": {
     "slide_type": "-"
    }
   },
   "outputs": [],
   "source": [
    "int && i {42} ; // OK"
   ]
  },
  {
   "cell_type": "code",
   "execution_count": null,
   "metadata": {
    "attributes": {
     "classes": [
      "cpp"
     ],
     "id": ""
    },
    "slideshow": {
     "slide_type": "-"
    }
   },
   "outputs": [],
   "source": [
    "int j {42} ;\n",
    "int && k {j} ; // Won’t compile"
   ]
  },
  {
   "cell_type": "markdown",
   "metadata": {
    "slideshow": {
     "slide_type": "subslide"
    }
   },
   "source": [
    "#### In case of temporary value, a function with rvalue reference will be prefered"
   ]
  },
  {
   "cell_type": "code",
   "execution_count": 1,
   "metadata": {
    "slideshow": {
     "slide_type": "skip"
    }
   },
   "outputs": [],
   "source": [
    "#include <iostream>"
   ]
  },
  {
   "cell_type": "code",
   "execution_count": 2,
   "metadata": {
    "slideshow": {
     "slide_type": "-"
    }
   },
   "outputs": [],
   "source": [
    "void process( int & value )       { std::cout<<\"process(&): \"<<value<<std::endl ; }"
   ]
  },
  {
   "cell_type": "code",
   "execution_count": 3,
   "metadata": {
    "slideshow": {
     "slide_type": "-"
    }
   },
   "outputs": [],
   "source": [
    "void process( int const & value ) { std::cout<<\"process(const &): \"<<value<<std::endl ; }"
   ]
  },
  {
   "cell_type": "code",
   "execution_count": 4,
   "metadata": {
    "slideshow": {
     "slide_type": "-"
    }
   },
   "outputs": [],
   "source": [
    "void process( int && value )      { std::cout<<\"process(&&): \"<<value<<std::endl ; }"
   ]
  },
  {
   "cell_type": "code",
   "execution_count": 5,
   "metadata": {
    "attributes": {
     "classes": [
      "cpp"
     ],
     "id": ""
    },
    "slideshow": {
     "slide_type": "subslide"
    }
   },
   "outputs": [],
   "source": [
    "int i {42} ;\n",
    "int const & ic {i} ;"
   ]
  },
  {
   "cell_type": "code",
   "execution_count": 6,
   "metadata": {
    "attributes": {
     "classes": [
      "cpp"
     ],
     "id": ""
    },
    "slideshow": {
     "slide_type": "-"
    }
   },
   "outputs": [
    {
     "name": "stdout",
     "output_type": "stream",
     "text": [
      "process(&): 42\n"
     ]
    }
   ],
   "source": [
    "process(i) ;"
   ]
  },
  {
   "cell_type": "code",
   "execution_count": 7,
   "metadata": {
    "attributes": {
     "classes": [
      "cpp"
     ],
     "id": ""
    },
    "slideshow": {
     "slide_type": "-"
    }
   },
   "outputs": [
    {
     "name": "stdout",
     "output_type": "stream",
     "text": [
      "process(const &): 42\n"
     ]
    }
   ],
   "source": [
    "process(ic) ;"
   ]
  },
  {
   "cell_type": "code",
   "execution_count": 8,
   "metadata": {
    "attributes": {
     "classes": [
      "cpp"
     ],
     "id": ""
    },
    "slideshow": {
     "slide_type": "-"
    }
   },
   "outputs": [
    {
     "name": "stdout",
     "output_type": "stream",
     "text": [
      "process(&&): 42\n"
     ]
    }
   ],
   "source": [
    "process(42) ;"
   ]
  },
  {
   "cell_type": "markdown",
   "metadata": {
    "slideshow": {
     "slide_type": "slide"
    }
   },
   "source": [
    "## An opportunity of optimization"
   ]
  },
  {
   "cell_type": "markdown",
   "metadata": {
    "slideshow": {
     "slide_type": "subslide"
    }
   },
   "source": [
    "#### Utility function"
   ]
  },
  {
   "cell_type": "code",
   "execution_count": 9,
   "metadata": {
    "slideshow": {
     "slide_type": "skip"
    }
   },
   "outputs": [],
   "source": [
    "#include <iostream>\n",
    "#include <string>"
   ]
  },
  {
   "cell_type": "code",
   "execution_count": 10,
   "metadata": {
    "slideshow": {
     "slide_type": "-"
    }
   },
   "outputs": [],
   "source": [
    "template < typename Collection >\n",
    "void display( std::string const & title, Collection const & col )\n",
    " {\n",
    "  std::cout<<title<<\":\" ;\n",
    "  for ( auto elem : col )\n",
    "   { std::cout<<\" \"<<elem ; }\n",
    "  std::cout<<std::endl ;\n",
    " }"
   ]
  },
  {
   "cell_type": "markdown",
   "metadata": {
    "slideshow": {
     "slide_type": "subslide"
    }
   },
   "source": [
    "#### This function sorts and displays a collection of integers"
   ]
  },
  {
   "cell_type": "code",
   "execution_count": 11,
   "metadata": {
    "attributes": {
     "classes": [
      "cpp"
     ],
     "id": ""
    },
    "slideshow": {
     "slide_type": "skip"
    }
   },
   "outputs": [],
   "source": [
    "#include <vector>"
   ]
  },
  {
   "cell_type": "code",
   "execution_count": 12,
   "metadata": {
    "attributes": {
     "classes": [
      "cpp"
     ],
     "id": ""
    },
    "slideshow": {
     "slide_type": "-"
    }
   },
   "outputs": [],
   "source": [
    "void process( std::vector<int> const & col )\n",
    " {\n",
    "  std::vector<int> copy(col);\n",
    "  std::sort(copy.begin(),copy.end()) ;\n",
    "  display(\"process(const &)\",copy) ;  \n",
    " }"
   ]
  },
  {
   "cell_type": "code",
   "execution_count": 13,
   "metadata": {
    "slideshow": {
     "slide_type": "-"
    }
   },
   "outputs": [
    {
     "name": "stdout",
     "output_type": "stream",
     "text": [
      "process(const &): 1 2 3\n"
     ]
    }
   ],
   "source": [
    "std::vector<int> const vic {1,3,2} ;\n",
    "process(vic) ;"
   ]
  },
  {
   "cell_type": "code",
   "execution_count": 14,
   "metadata": {
    "slideshow": {
     "slide_type": "-"
    }
   },
   "outputs": [
    {
     "name": "stdout",
     "output_type": "stream",
     "text": [
      "process(const &): 4 5 6\n"
     ]
    }
   ],
   "source": [
    "std::vector<int> vi {6,4,5} ;\n",
    "process(vi) ;"
   ]
  },
  {
   "cell_type": "code",
   "execution_count": 15,
   "metadata": {
    "slideshow": {
     "slide_type": "-"
    }
   },
   "outputs": [
    {
     "name": "stdout",
     "output_type": "stream",
     "text": [
      "process(const &): 7 8 9\n"
     ]
    }
   ],
   "source": [
    "process({9,8,7}) ;"
   ]
  },
  {
   "cell_type": "markdown",
   "metadata": {
    "slideshow": {
     "slide_type": "subslide"
    }
   },
   "source": [
    "#### This new version avoids copying, but does not accept temporary collection"
   ]
  },
  {
   "cell_type": "code",
   "execution_count": 16,
   "metadata": {
    "slideshow": {
     "slide_type": "-"
    }
   },
   "outputs": [],
   "source": [
    "void process( std::vector<int> & col )\n",
    " {\n",
    "  std::sort(col.begin(),col.end()) ;\n",
    "  display(\"process(&)\",col) ;  \n",
    " }"
   ]
  },
  {
   "cell_type": "code",
   "execution_count": 17,
   "metadata": {
    "slideshow": {
     "slide_type": "-"
    }
   },
   "outputs": [
    {
     "name": "stdout",
     "output_type": "stream",
     "text": [
      "process(const &): 1 2 3\n"
     ]
    }
   ],
   "source": [
    "const std::vector<int> cvi {1,3,2} ;\n",
    "process(cvi) ;"
   ]
  },
  {
   "cell_type": "code",
   "execution_count": 18,
   "metadata": {
    "slideshow": {
     "slide_type": "-"
    }
   },
   "outputs": [
    {
     "name": "stdout",
     "output_type": "stream",
     "text": [
      "process(&): 4 5 6\n"
     ]
    }
   ],
   "source": [
    "std::vector<int> vi {6,4,5} ;\n",
    "process(vi) ;"
   ]
  },
  {
   "cell_type": "code",
   "execution_count": 19,
   "metadata": {
    "slideshow": {
     "slide_type": "-"
    }
   },
   "outputs": [
    {
     "name": "stdout",
     "output_type": "stream",
     "text": [
      "process(const &): 7 8 9\n"
     ]
    }
   ],
   "source": [
    "process({9,8,7}) ;"
   ]
  },
  {
   "cell_type": "markdown",
   "metadata": {
    "slideshow": {
     "slide_type": "subslide"
    }
   },
   "source": [
    "#### To avoid copying the temporary collection, rvalue references must be used"
   ]
  },
  {
   "cell_type": "code",
   "execution_count": 20,
   "metadata": {
    "attributes": {
     "classes": [
      "cpp"
     ],
     "id": ""
    },
    "slideshow": {
     "slide_type": "-"
    }
   },
   "outputs": [],
   "source": [
    "void process( std::vector<int> && col )\n",
    " {\n",
    "  std::sort(col.begin(),col.end()) ;\n",
    "  display(\"process(&&)\",col) ;  \n",
    " }"
   ]
  },
  {
   "cell_type": "code",
   "execution_count": 21,
   "metadata": {
    "slideshow": {
     "slide_type": "-"
    }
   },
   "outputs": [
    {
     "name": "stdout",
     "output_type": "stream",
     "text": [
      "process(const &): 1 2 3\n"
     ]
    }
   ],
   "source": [
    "std::vector<int> const cvi {1,3,2} ;\n",
    "process(cvi) ;"
   ]
  },
  {
   "cell_type": "code",
   "execution_count": 22,
   "metadata": {
    "slideshow": {
     "slide_type": "-"
    }
   },
   "outputs": [
    {
     "name": "stdout",
     "output_type": "stream",
     "text": [
      "process(&): 4 5 6\n"
     ]
    }
   ],
   "source": [
    "std::vector<int> vi {6,4,5} ;\n",
    "process(vi) ;"
   ]
  },
  {
   "cell_type": "code",
   "execution_count": 23,
   "metadata": {
    "slideshow": {
     "slide_type": "-"
    }
   },
   "outputs": [
    {
     "name": "stdout",
     "output_type": "stream",
     "text": [
      "process(&&): 7 8 9\n"
     ]
    }
   ],
   "source": [
    "process({9,8,7}) ;"
   ]
  },
  {
   "cell_type": "markdown",
   "metadata": {
    "slideshow": {
     "slide_type": "slide"
    }
   },
   "source": [
    "## When a function call another function"
   ]
  },
  {
   "cell_type": "markdown",
   "metadata": {
    "slideshow": {
     "slide_type": "subslide"
    }
   },
   "source": [
    "#### A rvalue reference is not an rvalue\n",
    "\n",
    "If a variable is an rvalue reference, beginners generally assume that it is itself some kind of rvalue, and will be considered as so when transmitted to another function. **IT IS NOT**."
   ]
  },
  {
   "cell_type": "markdown",
   "metadata": {
    "slideshow": {
     "slide_type": "subslide"
    }
   },
   "source": [
    "In the code below, `col` refers to a rvalue (`{9,8,7}`), but `col` itself is not a temporary value, as testified by the call to `process()`, which the compiler interpret as `process( std::vector<int> & )`."
   ]
  },
  {
   "cell_type": "code",
   "execution_count": null,
   "metadata": {
    "slideshow": {
     "slide_type": "fragment"
    }
   },
   "outputs": [],
   "source": [
    "void super_process( std::vector<int> && col )\n",
    " { process(col) ; }"
   ]
  },
  {
   "cell_type": "code",
   "execution_count": null,
   "metadata": {
    "slideshow": {
     "slide_type": "fragment"
    }
   },
   "outputs": [],
   "source": [
    "super_process({9,8,7}) ;"
   ]
  },
  {
   "cell_type": "markdown",
   "metadata": {
    "slideshow": {
     "slide_type": "subslide"
    }
   },
   "source": [
    "#### Transform any value into an rvalue with `std::move`\n",
    "\n",
    "When you want a value, any, to be considered as an rvalue, you can simply call `std::move` on it. This is a way to say that the value is somehow \"temporary\", \"movable\", soon destructed, and can be directly reused and modified as needed."
   ]
  },
  {
   "cell_type": "code",
   "execution_count": null,
   "metadata": {
    "slideshow": {
     "slide_type": "fragment"
    }
   },
   "outputs": [],
   "source": [
    "void super_process( std::vector<int> && col )\n",
    " { process(std::move(col)) ; }"
   ]
  },
  {
   "cell_type": "code",
   "execution_count": null,
   "metadata": {
    "slideshow": {
     "slide_type": "fragment"
    }
   },
   "outputs": [],
   "source": [
    "super_process({9,8,7}) ;"
   ]
  },
  {
   "cell_type": "markdown",
   "metadata": {
    "slideshow": {
     "slide_type": "slide"
    }
   },
   "source": [
    "## Classes and movable objects"
   ]
  },
  {
   "cell_type": "markdown",
   "metadata": {
    "slideshow": {
     "slide_type": "subslide"
    }
   },
   "source": [
    "#### When a class manage some dynamic resource, it is useful to add a *move constructor*\n",
    "```c++\n",
    "class A {\n",
    "  public :\n",
    "    A() : m_data {new int[1000000]} {}\n",
    "    A( A const & other ) : m_data {new int[1000000]}\n",
    "     { std::copy(other.m_data,other.m_data+1000000,m_data) ; }\n",
    "    A( A && other ) : m_data {other.m_data} { other.m_data = 0 ; }\n",
    "    ~A() { delete [] m_data; }\n",
    "  private :\n",
    "    int * m_data ;\n",
    "} ;\n",
    "```"
   ]
  },
  {
   "cell_type": "markdown",
   "metadata": {
    "slideshow": {
     "slide_type": "subslide"
    }
   },
   "source": [
    "#### In fact, in case of dynamic resources, there are eventually 5 methods to define (\"The Big Five\")\n",
    "\n",
    "```c++\n",
    "A( A const & )             ; // copy constructor\n",
    "A( A && )                  ; // move constructor\n",
    "A & operator=( A const & ) ; // copy assignment operator\n",
    "A & operator=( A && )      ; // move assignment operator\n",
    "~A()                       ; // destructor\n",
    "```"
   ]
  },
  {
   "cell_type": "markdown",
   "metadata": {
    "slideshow": {
     "slide_type": "subslide"
    }
   },
   "source": [
    "#### If you choose to prohibit the copy: the class is said *move-only*\n",
    "\n",
    "```c++\n",
    "public :\n",
    "  A( A && )                  ;\n",
    "  A & operator=( A && )      ;\n",
    "  ~A()                       ;\n",
    "private :\n",
    "  A( A const & )             ;\n",
    "  A & operator=( A const & ) ;\n",
    "```"
   ]
  },
  {
   "cell_type": "markdown",
   "metadata": {
    "attributes": {
     "classes": [
      "cpp"
     ],
     "id": ""
    },
    "slideshow": {
     "slide_type": "slide"
    }
   },
   "source": [
    "# Questions ?"
   ]
  },
  {
   "cell_type": "markdown",
   "metadata": {
    "attributes": {
     "classes": [
      "cpp"
     ],
     "id": ""
    },
    "slideshow": {
     "slide_type": "skip"
    }
   },
   "source": [
    "# Exercise\n",
    "\n",
    "The class below mimics a very simplified `std::string`. Add a move constructor, and ensure that it is used by `main()`."
   ]
  },
  {
   "cell_type": "code",
   "execution_count": 24,
   "metadata": {
    "slideshow": {
     "slide_type": "skip"
    }
   },
   "outputs": [
    {
     "name": "stdout",
     "output_type": "stream",
     "text": [
      "Writing tmp.references.cpp\n"
     ]
    }
   ],
   "source": [
    "%%file tmp.references.cpp\n",
    "\n",
    "#include <cstring>\n",
    "#include <iostream>\n",
    "\n",
    "class Text\n",
    " {\n",
    "  public :\n",
    "    \n",
    "    Text( char const * str )\n",
    "     : m_size {std::strlen(str)+1},\n",
    "       m_data {new char [m_size]}\n",
    "     { std::copy(str,str+m_size,m_data) ; }\n",
    "    \n",
    "    Text( Text const & t )\n",
    "     : m_size {t.m_size},\n",
    "       m_data {new char [m_size]}\n",
    "     {\n",
    "      std::cout<<\"copy constructor\"<<std::endl ;\n",
    "      std::copy(t.m_data,t.m_data+m_size,m_data) ;\n",
    "     }\n",
    "    \n",
    "    ~Text()\n",
    "     { delete [] m_data ; }\n",
    "    \n",
    "    unsigned int size()\n",
    "     { return m_size ; }\n",
    "    \n",
    "    char & operator[]( unsigned int i )\n",
    "     { return m_data[i] ; }\n",
    "    \n",
    "    friend std::ostream & operator<<( std::ostream & os, Text const & t )\n",
    "     { return os<<t.m_data ; }\n",
    "    \n",
    "  private :\n",
    "    \n",
    "    std::size_t m_size ;\n",
    "    char * m_data ;\n",
    " } ;\n",
    " \n",
    "Text hello()\n",
    " { return \"hello\" ; }\n",
    "\n",
    "Text uppercase( Text t )\n",
    " {\n",
    "  for ( unsigned int i=0 ; i<t.size() ; ++i )\n",
    "   { t[i] = std::toupper(t[i]) ; }\n",
    "  return t ;\n",
    " }\n",
    "\n",
    "int main()\n",
    " {\n",
    "  std::cout<<uppercase(hello())<<std::endl ;\n",
    "  return 0 ;\n",
    " }"
   ]
  },
  {
   "cell_type": "code",
   "execution_count": 25,
   "metadata": {
    "slideshow": {
     "slide_type": "skip"
    }
   },
   "outputs": [],
   "source": [
    "!rm -f tmp.references.exe && g++ -std=c++17 tmp.references.cpp -o tmp.references.exe"
   ]
  },
  {
   "cell_type": "code",
   "execution_count": 26,
   "metadata": {
    "slideshow": {
     "slide_type": "skip"
    }
   },
   "outputs": [
    {
     "name": "stdout",
     "output_type": "stream",
     "text": [
      "copy constructor\n",
      "HELLO\n"
     ]
    }
   ],
   "source": [
    "!./tmp.references.exe"
   ]
  },
  {
   "cell_type": "markdown",
   "metadata": {
    "slideshow": {
     "slide_type": "skip"
    }
   },
   "source": [
    "© *CNRS 2024*  \n",
    "*This document was created by David Chamont and translated by Olga Abramkina. It is available under the [License Creative Commons - Attribution - No commercial use - Shared under the conditions 4.0 International](http://creativecommons.org/licenses/by-nc-sa/4.0/)*"
   ]
  }
 ],
 "metadata": {
  "celltoolbar": "Diaporama",
  "kernelspec": {
   "display_name": "C++17",
   "language": "C++17",
   "name": "xcpp17"
  },
  "language_info": {
   "codemirror_mode": "text/x-c++src",
   "file_extension": ".cpp",
   "mimetype": "text/x-c++src",
   "name": "c++",
   "version": "17"
  },
  "toc": {
   "base_numbering": 1,
   "nav_menu": {},
   "number_sections": true,
   "sideBar": true,
   "skip_h1_title": true,
   "title_cell": "Table of Contents",
   "title_sidebar": "Contents",
   "toc_cell": false,
   "toc_position": {},
   "toc_section_display": true,
   "toc_window_display": false
  },
  "varInspector": {
   "cols": {
    "lenName": 16,
    "lenType": 16,
    "lenVar": 40
   },
   "kernels_config": {
    "python": {
     "delete_cmd_postfix": "",
     "delete_cmd_prefix": "del ",
     "library": "var_list.py",
     "varRefreshCmd": "print(var_dic_list())"
    },
    "r": {
     "delete_cmd_postfix": ") ",
     "delete_cmd_prefix": "rm(",
     "library": "var_list.r",
     "varRefreshCmd": "cat(var_dic_list()) "
    }
   },
   "types_to_exclude": [
    "module",
    "function",
    "builtin_function_or_method",
    "instance",
    "_Feature"
   ],
   "window_display": false
  }
 },
 "nbformat": 4,
 "nbformat_minor": 4
}
