{
 "cells": [
  {
   "cell_type": "markdown",
   "id": "d3c307ef-755b-419c-9eb6-9f9ab817dd9f",
   "metadata": {},
   "source": [
    "# Opening Quizz"
   ]
  },
  {
   "cell_type": "code",
   "execution_count": null,
   "id": "fa4e22c1-dcba-416d-9acd-6b71313974f1",
   "metadata": {
    "slideshow": {
     "slide_type": "slide"
    }
   },
   "outputs": [],
   "source": [
    "%run questions.py BasicChallenge"
   ]
  },
  {
   "cell_type": "code",
   "execution_count": null,
   "id": "09e62b59-416b-4e53-950b-ec8973364bb8",
   "metadata": {
    "slideshow": {
     "slide_type": "slide"
    }
   },
   "outputs": [],
   "source": [
    "%run questions.py DynamicMemory"
   ]
  },
  {
   "cell_type": "code",
   "execution_count": null,
   "id": "0c2f077b-4ad2-4422-9a34-95f0fc3eeafe",
   "metadata": {
    "slideshow": {
     "slide_type": "slide"
    }
   },
   "outputs": [],
   "source": [
    "%run questions.py Conversions"
   ]
  },
  {
   "cell_type": "code",
   "execution_count": null,
   "id": "9c912d64-50b4-4349-a12c-caba035ad107",
   "metadata": {
    "slideshow": {
     "slide_type": "slide"
    }
   },
   "outputs": [],
   "source": [
    "%run questions.py Inheritance"
   ]
  },
  {
   "cell_type": "code",
   "execution_count": null,
   "id": "9d23a089-b94a-4748-ac3c-a9c57fe66995",
   "metadata": {
    "slideshow": {
     "slide_type": "slide"
    }
   },
   "outputs": [],
   "source": [
    "%run questions.py FloatingPoint"
   ]
  },
  {
   "cell_type": "code",
   "execution_count": null,
   "id": "513ad29f-7fa2-4675-8d41-362be8e0b33c",
   "metadata": {
    "slideshow": {
     "slide_type": "slide"
    }
   },
   "outputs": [],
   "source": [
    "%run questions.py Polymorphism"
   ]
  },
  {
   "cell_type": "markdown",
   "id": "e778c4eb-580e-4f6f-9ba1-ebdfcbbff79f",
   "metadata": {},
   "source": [
    "© *CNRS 2024*  \n",
    "*This document was created by David Chamont. It is available under the [License Creative Commons - Attribution - No commercial use - Shared under the conditions 4.0 International](http://creativecommons.org/licenses/by-nc-sa/4.0/)*"
   ]
  }
 ],
 "metadata": {
  "celltoolbar": "Slideshow",
  "kernelspec": {
   "display_name": "Python 3 (ipykernel)",
   "language": "python",
   "name": "python3"
  },
  "language_info": {
   "codemirror_mode": {
    "name": "ipython",
    "version": 3
   },
   "file_extension": ".py",
   "mimetype": "text/x-python",
   "name": "python",
   "nbconvert_exporter": "python",
   "pygments_lexer": "ipython3",
   "version": "3.11.8"
  }
 },
 "nbformat": 4,
 "nbformat_minor": 5
}
