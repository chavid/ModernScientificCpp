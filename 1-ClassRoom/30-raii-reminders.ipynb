{
 "cells": [
  {
   "cell_type": "markdown",
   "metadata": {
    "slideshow": {
     "slide_type": "slide"
    }
   },
   "source": [
    "# Pointers & dynamic memory management"
   ]
  },
  {
   "cell_type": "markdown",
   "metadata": {
    "slideshow": {
     "slide_type": "skip"
    }
   },
   "source": [
    "Scott Meyers: *A resource is something that, once you’re done using it, you need to return to the system. If you don’t, bad things happen. In C++ programs, the most commonly used resource is dynamically allocated memory (if you allocate memory and never deallocate it, you’ve got a memory leak), but memory is only one of many resources you must manage. Other common resources include file descriptors, mutex locks, fonts and brushes in graphical user interfaces (GUIs), database connections, and network sockets. Regardless of the resource, it’s important that it be released when you’re finished with it. Trying to ensure this by hand is difficult under any conditions, but when you consider exceptions, functions with multiple return paths, and maintenance programmers modifying software without fully comprehending the impact of their changes, it becomes clear that ad hoc ways of dealing with resource management aren’t sufficient.*"
   ]
  },
  {
   "cell_type": "markdown",
   "metadata": {
    "slideshow": {
     "slide_type": "slide"
    }
   },
   "source": [
    "## Motivation"
   ]
  },
  {
   "cell_type": "markdown",
   "metadata": {
    "slideshow": {
     "slide_type": "skip"
    }
   },
   "source": [
    "Have a look at this toy library for particles."
   ]
  },
  {
   "cell_type": "code",
   "execution_count": null,
   "metadata": {
    "slideshow": {
     "slide_type": "subslide"
    }
   },
   "outputs": [],
   "source": [
    "%%file tmp.particles.h\n",
    "\n",
    "class Particle {\n",
    "  public :\n",
    "    virtual ~Particle() {}\n",
    "    virtual char const * name() const =0 ;\n",
    "} ;\n",
    "\n",
    "class Electron : public Particle {\n",
    "  public :\n",
    "    virtual char const * name() const\n",
    "     { return \"Electron\" ; }\n",
    "} ;\n",
    "\n",
    "class Proton : public Particle {\n",
    "  public :\n",
    "    virtual char const * name() const\n",
    "     { return \"Proton\" ; }\n",
    "} ;\n",
    " \n",
    "class Neutron : public Particle {\n",
    "  public :\n",
    "    virtual char const * name() const\n",
    "     { return \"Neutron\" ; }\n",
    "} ;\n",
    "\n",
    "Particle * new_particle() {\n",
    "  int const NB = 3 ;\n",
    "  int num = NB*(std::rand()/(double(RAND_MAX)+1)) ;\n",
    "  switch (num)\n",
    "   {\n",
    "    case 0: return new Electron() ;\n",
    "    case 1: return new Proton() ;\n",
    "    case 2: return new Neutron() ;\n",
    "   }\n",
    "  return 0 ;\n",
    "}"
   ]
  },
  {
   "cell_type": "code",
   "execution_count": null,
   "metadata": {
    "slideshow": {
     "slide_type": "subslide"
    }
   },
   "outputs": [],
   "source": [
    "%%file tmp.raii.cpp\n",
    "\n",
    "#include \"tmp.particles.h\"\n",
    "#include <iostream>\n",
    "#include <ctime>\n",
    "    \n",
    "void print( Particle const * p ) {\n",
    "  std::cout<<p->name()<<std::endl ;\n",
    "}\n",
    "\n",
    "int main() {\n",
    "  std::srand(std::time(0)) ;\n",
    "  for ( int i = 0 ; i < 5 ; ++i ) {\n",
    "    Particle * p = new_particle() ;\n",
    "    print(p) ;\n",
    "    delete p ;\n",
    "  }\n",
    "}"
   ]
  },
  {
   "cell_type": "code",
   "execution_count": null,
   "metadata": {
    "slideshow": {
     "slide_type": "skip"
    }
   },
   "outputs": [],
   "source": [
    "!rm -f tmp.raii.exe && g++ -std=c++17 tmp.raii.cpp -o tmp.raii.exe"
   ]
  },
  {
   "cell_type": "code",
   "execution_count": null,
   "metadata": {
    "slideshow": {
     "slide_type": "skip"
    }
   },
   "outputs": [],
   "source": [
    "!./tmp.raii.exe"
   ]
  },
  {
   "cell_type": "markdown",
   "metadata": {
    "slideshow": {
     "slide_type": "-"
    }
   },
   "source": [
    "In real-life long functions, the `delete` can be bypassed, due to:\n",
    "* a premature call to `return`, `break`, `continue`... ;\n",
    "* an exception is raised."
   ]
  },
  {
   "cell_type": "markdown",
   "metadata": {
    "slideshow": {
     "slide_type": "slide"
    }
   },
   "source": [
    "## Solution : RAII idiom\n",
    "\n",
    "In order to make sure that a *resource* is released at the end of its utilization, one can wrap this resource into a *guard* object, whose **destructor** will release the resource. There is no more possible bypass, because whenever one leave a function, all local objects are **always destructed**."
   ]
  },
  {
   "cell_type": "code",
   "execution_count": null,
   "metadata": {
    "slideshow": {
     "slide_type": "subslide"
    }
   },
   "outputs": [],
   "source": [
    "%%file tmp.guards.h\n",
    "\n",
    "class ParticleGuard {\n",
    "  public :\n",
    "    explicit ParticleGuard( Particle * p ) : m_p(p) {}\n",
    "    ~ParticleGuard() { delete m_p ; }\n",
    "  private :\n",
    "    Particle * m_p ;\n",
    "} ;"
   ]
  },
  {
   "cell_type": "code",
   "execution_count": null,
   "metadata": {
    "slideshow": {
     "slide_type": "fragment"
    }
   },
   "outputs": [],
   "source": [
    "%%file tmp.raii.cpp\n",
    "\n",
    "#include \"tmp.particles.h\"\n",
    "#include \"tmp.guards.h\"\n",
    "#include <iostream>\n",
    "#include <ctime>\n",
    "    \n",
    "void print( Particle const * p ) {\n",
    "  std::cout<<p->name()<<std::endl ;\n",
    "}\n",
    "\n",
    "int main() {\n",
    "  std::srand(std::time(0)) ;\n",
    "  for ( int i = 0 ; i < 5 ; ++i ) {\n",
    "    Particle * p = new_particle() ;\n",
    "    ParticleGuard pg(p) ;\n",
    "    print(p) ;\n",
    "  }\n",
    "}"
   ]
  },
  {
   "cell_type": "code",
   "execution_count": null,
   "metadata": {
    "slideshow": {
     "slide_type": "skip"
    }
   },
   "outputs": [],
   "source": [
    "!rm -f tmp.raii.exe && g++ -std=c++17 tmp.raii.cpp -o tmp.raii.exe"
   ]
  },
  {
   "cell_type": "code",
   "execution_count": null,
   "metadata": {
    "slideshow": {
     "slide_type": "skip"
    }
   },
   "outputs": [],
   "source": [
    "!./tmp.raii.exe"
   ]
  },
  {
   "cell_type": "markdown",
   "metadata": {
    "slideshow": {
     "slide_type": "subslide"
    }
   },
   "source": [
    "BEWARE: one should not create multiple guards for a single resource, or this resource will be released several times..."
   ]
  },
  {
   "cell_type": "code",
   "execution_count": null,
   "metadata": {
    "slideshow": {
     "slide_type": "fragment"
    }
   },
   "outputs": [],
   "source": [
    "%%file tmp.raii.cpp\n",
    "\n",
    "#include \"tmp.particles.h\"\n",
    "#include \"tmp.guards.h\"\n",
    "#include <iostream>\n",
    "#include <ctime>\n",
    "    \n",
    "void print( Particle const * p ) {\n",
    "  std::cout<<p->name()<<std::endl ;\n",
    "}\n",
    "\n",
    "int main() {\n",
    "  std::srand(std::time(0)) ;\n",
    "  for ( int i = 0 ; i < 5 ; ++i ) {\n",
    "    Particle * p = new_particle() ;\n",
    "    ParticleGuard pg1(p) ;\n",
    "    ParticleGuard pg2(p) ;\n",
    "    print(p) ;\n",
    "  }\n",
    "}"
   ]
  },
  {
   "cell_type": "code",
   "execution_count": null,
   "metadata": {
    "slideshow": {
     "slide_type": "skip"
    }
   },
   "outputs": [],
   "source": [
    "!rm -f tmp.raii.exe && g++ -std=c++17 tmp.raii.cpp -o tmp.raii.exe"
   ]
  },
  {
   "cell_type": "code",
   "execution_count": null,
   "metadata": {
    "slideshow": {
     "slide_type": "skip"
    }
   },
   "outputs": [],
   "source": [
    "!./tmp.raii.exe"
   ]
  },
  {
   "cell_type": "markdown",
   "metadata": {
    "slideshow": {
     "slide_type": "slide"
    }
   },
   "source": [
    "## Access to the resource\n",
    "\n",
    "To avoid this type of errors, the resource should be directly given to the guard... but we cannot access it any more ! Hence the need for some way to retreive the resource from the guard:"
   ]
  },
  {
   "cell_type": "code",
   "execution_count": null,
   "metadata": {
    "slideshow": {
     "slide_type": "fragment"
    }
   },
   "outputs": [],
   "source": [
    "%%file tmp.guards.h\n",
    "\n",
    "class ParticleGuard {\n",
    "  public :\n",
    "    explicit ParticleGuard( Particle * p ) : m_p(p) {}\n",
    "    ~ParticleGuard() { delete m_p ; }\n",
    "    Particle * get() { return m_p ; }\n",
    "  private :\n",
    "    Particle * m_p ;\n",
    "} ;"
   ]
  },
  {
   "cell_type": "code",
   "execution_count": null,
   "metadata": {
    "slideshow": {
     "slide_type": "fragment"
    }
   },
   "outputs": [],
   "source": [
    "%%file tmp.raii.cpp\n",
    "\n",
    "#include \"tmp.particles.h\"\n",
    "#include \"tmp.guards.h\"\n",
    "#include <iostream>\n",
    "#include <ctime>\n",
    "    \n",
    "void print( Particle const * p ) {\n",
    "  std::cout<<p->name()<<std::endl ;\n",
    "}\n",
    "\n",
    "int main() {\n",
    "  std::srand(std::time(0)) ;\n",
    "  for ( int i = 0 ; i < 5 ; ++i ) {\n",
    "    ParticleGuard pg(new_particle()) ;\n",
    "    print(pg.get()) ;\n",
    "  }\n",
    "}"
   ]
  },
  {
   "cell_type": "code",
   "execution_count": null,
   "metadata": {
    "slideshow": {
     "slide_type": "skip"
    }
   },
   "outputs": [],
   "source": [
    "!rm -f tmp.raii.exe && g++ -std=c++17 tmp.raii.cpp -o tmp.raii.exe"
   ]
  },
  {
   "cell_type": "code",
   "execution_count": null,
   "metadata": {
    "slideshow": {
     "slide_type": "skip"
    }
   },
   "outputs": [],
   "source": [
    "!./tmp.raii.exe"
   ]
  },
  {
   "cell_type": "markdown",
   "metadata": {
    "slideshow": {
     "slide_type": "subslide"
    }
   },
   "source": [
    "One may be tempted to improve the guard with some conversion operator."
   ]
  },
  {
   "cell_type": "code",
   "execution_count": null,
   "metadata": {
    "slideshow": {
     "slide_type": "subslide"
    }
   },
   "outputs": [],
   "source": [
    "%%file tmp.guards.h\n",
    "    \n",
    "class ParticleGuard {\n",
    "  public :\n",
    "    explicit ParticleGuard( Particle * p ) : m_p(p) {}\n",
    "    ~ParticleGuard() { delete m_p ; }\n",
    "    operator Particle *() { return m_p ; }\n",
    "  private :\n",
    "    Particle * m_p ;\n",
    "} ;"
   ]
  },
  {
   "cell_type": "code",
   "execution_count": null,
   "metadata": {
    "scrolled": true,
    "slideshow": {
     "slide_type": "fragment"
    }
   },
   "outputs": [],
   "source": [
    "%%file tmp.raii.cpp\n",
    "\n",
    "#include \"tmp.particles.h\"\n",
    "#include \"tmp.guards.h\"\n",
    "#include <iostream>\n",
    "#include <ctime>\n",
    "    \n",
    "void print( Particle const * p ) {\n",
    "  std::cout<<p->name()<<std::endl ;\n",
    "}\n",
    "\n",
    "int main() {\n",
    "  std::srand(std::time(0)) ;\n",
    "  for ( int i = 0 ; i < 5 ; ++i ) {\n",
    "    ParticleGuard p(new_particle()) ;\n",
    "    print(p) ;\n",
    "  }\n",
    "}"
   ]
  },
  {
   "cell_type": "code",
   "execution_count": null,
   "metadata": {
    "slideshow": {
     "slide_type": "skip"
    }
   },
   "outputs": [],
   "source": [
    "!rm -f tmp.raii.exe && g++ -std=c++17 tmp.raii.cpp -o tmp.raii.exe"
   ]
  },
  {
   "cell_type": "code",
   "execution_count": null,
   "metadata": {
    "slideshow": {
     "slide_type": "skip"
    }
   },
   "outputs": [],
   "source": [
    "!./tmp.raii.exe"
   ]
  },
  {
   "cell_type": "markdown",
   "metadata": {
    "slideshow": {
     "slide_type": "subslide"
    }
   },
   "source": [
    "**BEWARE**: in real-life long functions, this opens the door to tricky errors, when a guard is implicitly and invisibly transformed into its resource. That's why many library designers prefer some explicit `get()` function."
   ]
  },
  {
   "cell_type": "markdown",
   "metadata": {
    "slideshow": {
     "slide_type": "slide"
    }
   },
   "source": [
    "## How to safely copy the guards ?\n",
    " \n",
    "What happens if we copy a guard ? This code will crash:"
   ]
  },
  {
   "cell_type": "code",
   "execution_count": null,
   "metadata": {
    "slideshow": {
     "slide_type": "fragment"
    }
   },
   "outputs": [],
   "source": [
    "%%file tmp.guards.h\n",
    "    \n",
    "class ParticleGuard {\n",
    "  public :\n",
    "    explicit ParticleGuard( Particle * p ) : m_p(p) {}\n",
    "    ~ParticleGuard() { delete m_p ; }\n",
    "    Particle * get() { return m_p ; }\n",
    "  private :\n",
    "    Particle * m_p ;\n",
    "} ;"
   ]
  },
  {
   "cell_type": "code",
   "execution_count": null,
   "metadata": {
    "scrolled": true,
    "slideshow": {
     "slide_type": "fragment"
    }
   },
   "outputs": [],
   "source": [
    "%%file tmp.raii.cpp\n",
    "\n",
    "#include \"tmp.particles.h\"\n",
    "#include \"tmp.guards.h\"\n",
    "#include <iostream>\n",
    "#include <ctime>\n",
    "    \n",
    "void print( ParticleGuard pg ){\n",
    "  std::cout<<pg.get()->name()<<std::endl ;\n",
    "}\n",
    "\n",
    "int main() {\n",
    "  std::srand(std::time(0)) ;\n",
    "  for ( int i = 0 ; i < 5 ; ++i ) {\n",
    "    ParticleGuard pg(new_particle()) ;\n",
    "    print(pg) ;\n",
    "  }\n",
    "}"
   ]
  },
  {
   "cell_type": "code",
   "execution_count": null,
   "metadata": {
    "slideshow": {
     "slide_type": "skip"
    }
   },
   "outputs": [],
   "source": [
    "!rm -f tmp.raii.exe && g++ -std=c++17 tmp.raii.cpp -o tmp.raii.exe"
   ]
  },
  {
   "cell_type": "code",
   "execution_count": null,
   "metadata": {
    "slideshow": {
     "slide_type": "skip"
    }
   },
   "outputs": [],
   "source": [
    "!./tmp.raii.exe"
   ]
  },
  {
   "cell_type": "markdown",
   "metadata": {
    "slideshow": {
     "slide_type": "subslide"
    }
   },
   "source": [
    "## Minimal strategy: forbid the copy"
   ]
  },
  {
   "cell_type": "markdown",
   "metadata": {
    "slideshow": {
     "slide_type": "-"
    }
   },
   "source": [
    "<img src=\"img/guards-nocopy.png\">"
   ]
  },
  {
   "cell_type": "code",
   "execution_count": null,
   "metadata": {
    "slideshow": {
     "slide_type": "fragment"
    }
   },
   "outputs": [],
   "source": [
    "%%file tmp.guards.h\n",
    "    \n",
    "class ParticleGuard {\n",
    "  public :\n",
    "    explicit ParticleGuard( Particle * p ) : m_p(p) {}\n",
    "    ~ParticleGuard() { delete m_p ; }\n",
    "    Particle * get() { return m_p ; }\n",
    "  private :\n",
    "    ParticleGuard( const ParticleGuard & ) ;\n",
    "    ParticleGuard & operator=( const ParticleGuard & ) ;\n",
    "    Particle * m_p ;\n",
    "} ;"
   ]
  },
  {
   "cell_type": "markdown",
   "metadata": {
    "slideshow": {
     "slide_type": "subslide"
    }
   },
   "source": [
    "Our modified `print()` is not any more allowed:"
   ]
  },
  {
   "cell_type": "code",
   "execution_count": null,
   "metadata": {
    "slideshow": {
     "slide_type": "fragment"
    }
   },
   "outputs": [],
   "source": [
    "%%file tmp.raii.cpp\n",
    "\n",
    "#include \"tmp.particles.h\"\n",
    "#include \"tmp.guards.h\"\n",
    "#include <iostream>\n",
    "#include <ctime>\n",
    "    \n",
    "void print( ParticleGuard pg ){\n",
    "  std::cout<<pg.get()->name()<<std::endl ;\n",
    "}\n",
    "\n",
    "int main() {\n",
    "  std::srand(std::time(0)) ;\n",
    "  for ( int i = 0 ; i < 5 ; ++i ) {\n",
    "    ParticleGuard pg(new_particle()) ;\n",
    "    print(pg) ;\n",
    "  }\n",
    "}"
   ]
  },
  {
   "cell_type": "code",
   "execution_count": null,
   "metadata": {
    "slideshow": {
     "slide_type": "-"
    }
   },
   "outputs": [],
   "source": [
    "!rm -f tmp.raii.exe && g++ -std=c++17 tmp.raii.cpp -o tmp.raii.exe"
   ]
  },
  {
   "cell_type": "markdown",
   "metadata": {
    "slideshow": {
     "slide_type": "subslide"
    }
   },
   "source": [
    "In our example, we can easily get the expected result with some reference instead:"
   ]
  },
  {
   "cell_type": "code",
   "execution_count": null,
   "metadata": {
    "slideshow": {
     "slide_type": "fragment"
    }
   },
   "outputs": [],
   "source": [
    "%%file tmp.raii.cpp\n",
    "\n",
    "#include \"tmp.particles.h\"\n",
    "#include \"tmp.guards.h\"\n",
    "#include <iostream>\n",
    "#include <ctime>\n",
    "    \n",
    "void print( ParticleGuard & pg ){\n",
    "  std::cout<<pg.get()->name()<<std::endl ;\n",
    "}\n",
    "\n",
    "int main() {\n",
    "  std::srand(std::time(0)) ;\n",
    "  for ( int i = 0 ; i < 5 ; ++i ) {\n",
    "    ParticleGuard pg(new_particle()) ;\n",
    "    print(pg) ;\n",
    "  }\n",
    "}"
   ]
  },
  {
   "cell_type": "code",
   "execution_count": null,
   "metadata": {
    "slideshow": {
     "slide_type": "-"
    }
   },
   "outputs": [],
   "source": [
    "!rm -f tmp.raii.exe && g++ -std=c++17 tmp.raii.cpp -o tmp.raii.exe"
   ]
  },
  {
   "cell_type": "code",
   "execution_count": null,
   "metadata": {
    "slideshow": {
     "slide_type": "-"
    }
   },
   "outputs": [],
   "source": [
    "!./tmp.raii.exe"
   ]
  },
  {
   "cell_type": "markdown",
   "metadata": {
    "slideshow": {
     "slide_type": "subslide"
    }
   },
   "source": [
    "## Robust (but slow) strategy: internally count the guards"
   ]
  },
  {
   "cell_type": "markdown",
   "metadata": {
    "slideshow": {
     "slide_type": "-"
    }
   },
   "source": [
    "<img src=\"img/guards-sharedcopy.png\"/>"
   ]
  },
  {
   "cell_type": "markdown",
   "metadata": {
    "slideshow": {
     "slide_type": "skip"
    }
   },
   "source": [
    "All the guards must share a common control block."
   ]
  },
  {
   "cell_type": "code",
   "execution_count": null,
   "metadata": {
    "slideshow": {
     "slide_type": "fragment"
    }
   },
   "outputs": [],
   "source": [
    "%%file tmp.guards.h\n",
    "    \n",
    "class ParticleControlBlock {\n",
    "  public:\n",
    "    unsigned int m_nb_guards ;\n",
    "    explicit ParticleControlBlock( Particle * p )\n",
    "     : m_p(p), m_nb_guards(1) {}\n",
    "    ~ParticleControlBlock()\n",
    "     { delete m_p ; }\n",
    "    Particle * get() { return m_p ; }\n",
    "  private:\n",
    "    ParticleControlBlock( const ParticleControlBlock & ) ;\n",
    "    ParticleControlBlock & operator=( const ParticleControlBlock & ) ;\n",
    "    Particle * m_p ;\n",
    "} ;\n",
    "\n",
    "void increment_guards( ParticleControlBlock * block ) {\n",
    "  block->m_nb_guards++ ;\n",
    "}\n",
    "\n",
    "void decrement_guards( ParticleControlBlock * block ) {\n",
    "  block->m_nb_guards-- ;\n",
    "  if (block->m_nb_guards==0)\n",
    "   { delete block ; }\n",
    "}\n",
    "\n",
    "class ParticleGuard {\n",
    "  public:\n",
    "    explicit ParticleGuard( Particle * p )\n",
    "     { m_block = new ParticleControlBlock(p) ; }                         \n",
    "    ParticleGuard( const ParticleGuard & pg )\n",
    "     {\n",
    "      m_block = pg.m_block ;\n",
    "      increment_guards(m_block) ; \n",
    "     }                        \n",
    "    ParticleGuard & operator=( ParticleGuard const & pg )\n",
    "     {\n",
    "      if (this==&pg) return *this ;\n",
    "      decrement_guards(m_block) ;\n",
    "      m_block = pg.m_block ;\n",
    "      increment_guards(m_block) ; \n",
    "      return *this ;\n",
    "     }                         \n",
    "    ~ParticleGuard()\n",
    "     { decrement_guards(m_block) ; }\n",
    "    Particle * get()\n",
    "     { return m_block->get() ; }\n",
    "  private :\n",
    "    ParticleControlBlock * m_block ; \n",
    "} ;"
   ]
  },
  {
   "cell_type": "code",
   "execution_count": null,
   "metadata": {
    "slideshow": {
     "slide_type": "fragment"
    }
   },
   "outputs": [],
   "source": [
    "%%file tmp.raii.cpp\n",
    "\n",
    "#include \"tmp.particles.h\"\n",
    "#include \"tmp.guards.h\"\n",
    "#include <iostream>\n",
    "#include <ctime>\n",
    "    \n",
    "void print( ParticleGuard pg ){\n",
    "  std::cout<<pg.get()->name()<<std::endl ;\n",
    "}\n",
    "\n",
    "int main() {\n",
    "  std::srand(std::time(0)) ;\n",
    "  for ( int i = 0 ; i < 5 ; ++i ) {\n",
    "    ParticleGuard pg(new_particle()) ;\n",
    "    print(pg) ;\n",
    "  }\n",
    "}"
   ]
  },
  {
   "cell_type": "code",
   "execution_count": null,
   "metadata": {
    "slideshow": {
     "slide_type": "-"
    }
   },
   "outputs": [],
   "source": [
    "!rm -f tmp.raii.exe && g++ -std=c++17 tmp.raii.cpp -o tmp.raii.exe"
   ]
  },
  {
   "cell_type": "code",
   "execution_count": null,
   "metadata": {
    "slideshow": {
     "slide_type": "-"
    }
   },
   "outputs": [],
   "source": [
    "!./tmp.raii.exe"
   ]
  },
  {
   "cell_type": "markdown",
   "metadata": {
    "slideshow": {
     "slide_type": "subslide"
    }
   },
   "source": [
    "## Simple (but not universal) strategy : deep copy\n",
    "\n",
    "Sometimes it is preferable to duplicate the resource each time its guard is copied."
   ]
  },
  {
   "cell_type": "markdown",
   "metadata": {
    "slideshow": {
     "slide_type": "-"
    }
   },
   "source": [
    "<img src=\"img/guards-deepcopy.png\"/>"
   ]
  },
  {
   "cell_type": "markdown",
   "metadata": {
    "slideshow": {
     "slide_type": "subslide"
    }
   },
   "source": [
    "In our example, there is the additional difficulty that the real class of the pointed particle is not known, hence the need for some virtual `clone` function in the `Particle` inheritance tree."
   ]
  },
  {
   "cell_type": "code",
   "execution_count": null,
   "metadata": {
    "slideshow": {
     "slide_type": "subslide"
    }
   },
   "outputs": [],
   "source": [
    "%%file tmp.particles.h\n",
    "\n",
    "#include <cstdlib> // rand()\n",
    "\n",
    "class Particle {\n",
    "  public :\n",
    "    virtual ~Particle() {}\n",
    "    virtual const char * name() const =0 ;\n",
    "    virtual Particle * clone() const =0 ;\n",
    "} ;\n",
    "\n",
    "class Electron : public Particle {\n",
    "  public :\n",
    "    virtual const char * name() const { return \"Electron\" ; }\n",
    "    virtual Particle * clone() const { return new Electron(*this) ; }\n",
    "} ;\n",
    "\n",
    "class Proton : public Particle {\n",
    "  public :\n",
    "    virtual const char * name() const { return \"Proton\" ; }\n",
    "    virtual Particle * clone() const { return new Proton(*this) ; }\n",
    "} ;\n",
    " \n",
    "class Neutron : public Particle {\n",
    "  public :\n",
    "    virtual const char * name() const { return \"Neutron\" ; }\n",
    "    virtual Particle * clone() const { return new Neutron(*this) ; }\n",
    "} ;\n",
    "\n",
    "Particle * new_particle() {\n",
    "  const int NB = 3 ;\n",
    "  int num = NB*(std::rand()/(double(RAND_MAX)+1)) ;\n",
    "  switch (num)\n",
    "   {\n",
    "    case 0: return new Electron() ;\n",
    "    case 1: return new Proton() ;\n",
    "    case 2: return new Neutron() ;\n",
    "   }\n",
    "  return 0 ;\n",
    "}"
   ]
  },
  {
   "cell_type": "code",
   "execution_count": null,
   "metadata": {
    "slideshow": {
     "slide_type": "subslide"
    }
   },
   "outputs": [],
   "source": [
    "%%file tmp.guards.h\n",
    "    \n",
    "class ParticleGuard {\n",
    "  public:\n",
    "    explicit ParticleGuard( Particle * p ) : m_p(p) {}\n",
    "    ParticleGuard( const ParticleGuard & pg )\n",
    "     { m_p = pg.m_p->clone() ; }                       \n",
    "    ParticleGuard & operator=( const ParticleGuard & pg )\n",
    "     {\n",
    "      if (this==&pg) return (*this) ; \n",
    "      delete m_p ; m_p = pg.m_p->clone() ;\n",
    "      return (*this) ;\n",
    "     }\n",
    "    ~ParticleGuard() { delete m_p ; }\n",
    "    Particle * get() { return m_p ; }\n",
    "  private :\n",
    "    Particle * m_p ; \n",
    "} ;"
   ]
  },
  {
   "cell_type": "code",
   "execution_count": null,
   "metadata": {
    "slideshow": {
     "slide_type": "-"
    }
   },
   "outputs": [],
   "source": [
    "!rm -f tmp.raii.exe && g++ -std=c++17 tmp.raii.cpp -o tmp.raii.exe"
   ]
  },
  {
   "cell_type": "code",
   "execution_count": null,
   "metadata": {
    "slideshow": {
     "slide_type": "-"
    }
   },
   "outputs": [],
   "source": [
    "!./tmp.raii.exe"
   ]
  },
  {
   "cell_type": "markdown",
   "metadata": {},
   "source": [
    "**NOTE**: `std::string` is a kind of front-end for a dynamically allocated array of characters. That's why it has no maximum size. When a string is duplicated, there is a deep copy."
   ]
  },
  {
   "cell_type": "markdown",
   "metadata": {
    "slideshow": {
     "slide_type": "subslide"
    }
   },
   "source": [
    "## Subtle (but unnatural) strategy : transfer the resource\n",
    "\n",
    "In rare cases, we want to allow the copy of a guard, stealing the resource from the former guard, and letting it *empty*."
   ]
  },
  {
   "cell_type": "markdown",
   "metadata": {
    "slideshow": {
     "slide_type": "-"
    }
   },
   "source": [
    "<img src=\"img/guards-move.png\"/>"
   ]
  },
  {
   "cell_type": "code",
   "execution_count": null,
   "metadata": {
    "slideshow": {
     "slide_type": "fragment"
    }
   },
   "outputs": [],
   "source": [
    "%%file tmp.guards.h\n",
    "    \n",
    "class ParticleGuard {\n",
    "  public:\n",
    "    explicit ParticleGuard( Particle * p ) : m_p(p) {}\n",
    "    ParticleGuard( ParticleGuard & pg )\n",
    "     { m_p = pg.m_p ; pg.m_p = 0 ; }                       \n",
    "    ParticleGuard & operator=( ParticleGuard & pg )\n",
    "     {\n",
    "      if (this==&pg) return (*this) ; \n",
    "      delete m_p ; m_p = pg.m_p ; pg.m_p = 0 ;\n",
    "      return (*this) ;\n",
    "     }\n",
    "    ~ParticleGuard() { delete m_p ; }\n",
    "    Particle * get() { return m_p ; }\n",
    "  private :\n",
    "    Particle * m_p ; \n",
    "} ;"
   ]
  },
  {
   "cell_type": "code",
   "execution_count": null,
   "metadata": {
    "slideshow": {
     "slide_type": "-"
    }
   },
   "outputs": [],
   "source": [
    "!rm -f tmp.raii.exe && g++ -std=c++17 tmp.raii.cpp -o tmp.raii.exe"
   ]
  },
  {
   "cell_type": "code",
   "execution_count": null,
   "metadata": {
    "slideshow": {
     "slide_type": "-"
    }
   },
   "outputs": [],
   "source": [
    "!./tmp.raii.exe"
   ]
  },
  {
   "cell_type": "markdown",
   "metadata": {
    "slideshow": {
     "slide_type": "subslide"
    }
   },
   "source": [
    "**BEWARE**: this requires an unusual copy constructor, which modify the original guard. The infamous class `std::auto_ptr` was implemented this way, with the major limitation that one cannot store some `std::auto_ptr` in some `std::vector`. Solving this issue requires a new feature : the ***move semantic*** ."
   ]
  },
  {
   "cell_type": "markdown",
   "metadata": {
    "slideshow": {
     "slide_type": "slide"
    }
   },
   "source": [
    "# Take away\n",
    "\n",
    "- Pointers stay both the blessing and the malediction of the language.\n",
    "- Modern C++ will make them a lot less necessary or a lot more hidden in the standard library.\n",
    "- A key elegant feature is the new **rvalue reference** and the associated **move semantic**."
   ]
  },
  {
   "cell_type": "markdown",
   "metadata": {
    "slideshow": {
     "slide_type": "slide"
    }
   },
   "source": [
    "# Questions ?"
   ]
  },
  {
   "cell_type": "markdown",
   "metadata": {
    "slideshow": {
     "slide_type": "skip"
    }
   },
   "source": [
    "© *CNRS 2024*  \n",
    "*This document was created by David Chamont and translated by Olga Abramkina. It is available under the [License Creative Commons - Attribution - No commercial use - Shared under the conditions 4.0 International](http://creativecommons.org/licenses/by-nc-sa/4.0/)*"
   ]
  }
 ],
 "metadata": {
  "celltoolbar": "Slideshow",
  "kernelspec": {
   "display_name": "C++17",
   "language": "C++17",
   "name": "xcpp17"
  },
  "language_info": {
   "codemirror_mode": "text/x-c++src",
   "file_extension": ".cpp",
   "mimetype": "text/x-c++src",
   "name": "c++",
   "version": "17"
  },
  "toc": {
   "base_numbering": 1,
   "nav_menu": {},
   "number_sections": true,
   "sideBar": true,
   "skip_h1_title": true,
   "title_cell": "Table of Contents",
   "title_sidebar": "Contents",
   "toc_cell": false,
   "toc_position": {
    "height": "calc(100% - 180px)",
    "left": "10px",
    "top": "150px",
    "width": "313.2px"
   },
   "toc_section_display": true,
   "toc_window_display": false
  },
  "varInspector": {
   "cols": {
    "lenName": 16,
    "lenType": 16,
    "lenVar": 40
   },
   "kernels_config": {
    "python": {
     "delete_cmd_postfix": "",
     "delete_cmd_prefix": "del ",
     "library": "var_list.py",
     "varRefreshCmd": "print(var_dic_list())"
    },
    "r": {
     "delete_cmd_postfix": ") ",
     "delete_cmd_prefix": "rm(",
     "library": "var_list.r",
     "varRefreshCmd": "cat(var_dic_list()) "
    }
   },
   "types_to_exclude": [
    "module",
    "function",
    "builtin_function_or_method",
    "instance",
    "_Feature"
   ],
   "window_display": false
  }
 },
 "nbformat": 4,
 "nbformat_minor": 4
}
