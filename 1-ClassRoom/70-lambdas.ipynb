{
 "cells": [
  {
   "cell_type": "markdown",
   "metadata": {
    "slideshow": {
     "slide_type": "slide"
    }
   },
   "source": [
    "# Lambda functions\n",
    "\n",
    "Lambda (or anonymous) functions were introduced in C++11 and enhanced in C++14. They can be defined on-the-fly anywhere in the code where they are needed. This avoid a previous declaration of the function, useless when the function is to be used only once. Moreover, the capture of local variables avoids the tedious definition of an object-function (whose `operator()` is overloaded). In simple cases, the resulting code is more concise and clearer."
   ]
  },
  {
   "cell_type": "markdown",
   "metadata": {
    "slideshow": {
     "slide_type": "slide"
    }
   },
   "source": [
    "## One-time use, anonymous, functions"
   ]
  },
  {
   "cell_type": "markdown",
   "metadata": {
    "slideshow": {
     "slide_type": "subslide"
    }
   },
   "source": [
    "Some ordinary functions are meant to be used only once. Since nested functions are not allowed in C++, one must pollute the global namespace:"
   ]
  },
  {
   "cell_type": "code",
   "execution_count": null,
   "metadata": {
    "slideshow": {
     "slide_type": "skip"
    }
   },
   "outputs": [],
   "source": [
    "#include <vector>"
   ]
  },
  {
   "cell_type": "code",
   "execution_count": null,
   "metadata": {
    "slideshow": {
     "slide_type": "-"
    }
   },
   "outputs": [],
   "source": [
    "int reduce( std::vector<int> collection, int accumulator, int (*op)( int, int ) ) {\n",
    "  for ( int element : collection ) {\n",
    "    accumulator = op(accumulator,element) ;\n",
    "  }\n",
    "  return accumulator ;\n",
    "}"
   ]
  },
  {
   "cell_type": "code",
   "execution_count": null,
   "metadata": {
    "slideshow": {
     "slide_type": "fragment"
    }
   },
   "outputs": [],
   "source": [
    "int add( int val1, int val2 ) { return (val1+val2) ; }"
   ]
  },
  {
   "cell_type": "code",
   "execution_count": null,
   "metadata": {
    "slideshow": {
     "slide_type": "fragment"
    }
   },
   "outputs": [],
   "source": [
    "int multiply( int val1, int val2 ) { return (val1*val2) ; }"
   ]
  },
  {
   "cell_type": "code",
   "execution_count": null,
   "metadata": {
    "slideshow": {
     "slide_type": "skip"
    }
   },
   "outputs": [],
   "source": [
    "#include <iostream>"
   ]
  },
  {
   "cell_type": "code",
   "execution_count": null,
   "metadata": {
    "attributes": {
     "classes": [
      "cpp"
     ],
     "id": ""
    },
    "slideshow": {
     "slide_type": "-"
    }
   },
   "outputs": [],
   "source": [
    "std::vector<int> numbers = { 1, 2, 3, 4, 5 } ;\n",
    "std::cout<<reduce(numbers,0,add)<<std::endl ;\n",
    "std::cout<<reduce(numbers,1,multiply)<<std::endl ;"
   ]
  },
  {
   "cell_type": "markdown",
   "metadata": {
    "slideshow": {
     "slide_type": "subslide"
    }
   },
   "source": [
    "C++11 allows one-the-fly definition of an anonymous function, where it is to be used. **The function name is replaced with `[]`**. It is called a *lambda*:"
   ]
  },
  {
   "cell_type": "code",
   "execution_count": null,
   "metadata": {
    "attributes": {
     "classes": [
      "cpp"
     ],
     "id": ""
    },
    "slideshow": {
     "slide_type": "-"
    }
   },
   "outputs": [],
   "source": [
    "std::vector<int> numbers = { 1, 2, 3, 4, 5 } ;\n",
    "std::cout<<reduce(numbers,0,[](int i1, int i2){ return i1+i2 ; })<<std::endl ;\n",
    "std::cout<<reduce(numbers,1,[](int i1, int i2){ return i1*i2 ; })<<std::endl ;"
   ]
  },
  {
   "cell_type": "markdown",
   "metadata": {
    "slideshow": {
     "slide_type": "slide"
    }
   },
   "source": [
    "## Return type\n",
    "\n",
    "As above, the compiler can guess the return type of your lambda by inspecting the instructions `return`. To improve the readability of the code, or to help the compiler in certain ambiguous cases, we can explain the return type of a lambda. This is called **trailing return type declaration**."
   ]
  },
  {
   "cell_type": "code",
   "execution_count": null,
   "metadata": {
    "slideshow": {
     "slide_type": "subslide"
    }
   },
   "outputs": [],
   "source": [
    "int addition = reduce( numbers, 0, [](int i1, int i2) -> int { return i1+i2 ; } ) ;\n",
    "std::cout << addition << std::endl ;"
   ]
  },
  {
   "cell_type": "markdown",
   "metadata": {
    "slideshow": {
     "slide_type": "slide"
    }
   },
   "source": [
    "## To modify elements, pass the argument by reference\n",
    "\n",
    "If your lambda must modify the received element, you have to (naturally) declare this element as a reference:"
   ]
  },
  {
   "cell_type": "code",
   "execution_count": null,
   "metadata": {
    "slideshow": {
     "slide_type": "subslide"
    }
   },
   "outputs": [],
   "source": [
    "std::vector<int> v { 1, 2, 3, 4, 5 } ;\n",
    "\n",
    "std::for_each(v.begin(),v.end(),[]( int & i ){\n",
    "  i = 2*i ;\n",
    "}) ;\n",
    "\n",
    "std::for_each(v.begin(),v.end(),[]( int i ){\n",
    "  std::cout<<i<<' ' ;\n",
    "}) ;\n",
    "std::cout<<std::endl ;"
   ]
  },
  {
   "cell_type": "markdown",
   "metadata": {
    "slideshow": {
     "slide_type": "slide"
    }
   },
   "source": [
    "## Capturing local variables"
   ]
  },
  {
   "cell_type": "markdown",
   "metadata": {
    "slideshow": {
     "slide_type": "subslide"
    }
   },
   "source": [
    "Like any ordinary function, it only sees its arguments, local variables and global variables from the file. This does not compile:"
   ]
  },
  {
   "cell_type": "code",
   "execution_count": null,
   "metadata": {
    "attributes": {
     "classes": [
      "cpp"
     ],
     "id": ""
    },
    "slideshow": {
     "slide_type": "-"
    }
   },
   "outputs": [],
   "source": [
    "%%file tmp.capture.cpp\n",
    "\n",
    "#include <iostream>\n",
    "#include <vector>\n",
    "#include <algorithm>\n",
    "\n",
    "int main() {\n",
    "    \n",
    "  std::vector<int> numbers { 1, 2, 3, 4, 5 } ;\n",
    "  int coef { 3 } ;\n",
    "  std::for_each(\n",
    "    numbers.begin(),numbers.end(),\n",
    "    []( int a_n ){ std::cout << (coef*a_n) << \" \" ; }\n",
    "  ) ;\n",
    "  \n",
    "}"
   ]
  },
  {
   "cell_type": "code",
   "execution_count": null,
   "metadata": {
    "slideshow": {
     "slide_type": "skip"
    }
   },
   "outputs": [],
   "source": [
    "!rm -f tmp.capture.exe && g++  -std=c++17 tmp.capture.cpp -o tmp.capture.exe"
   ]
  },
  {
   "cell_type": "markdown",
   "metadata": {
    "slideshow": {
     "slide_type": "slide"
    }
   },
   "source": [
    "A lambda function can include between its initial brackets a list of variables to be \"captured\" from its context, by value or by reference:\n",
    "* `[]`: no variable;\n",
    "* `[x,y,&j]`: `x` and` y` by value and `j` by reference;\n",
    "* `[&]`: all variables by reference;\n",
    "* `[=]`: all variables by copy;\n",
    "* `[=,&j]`: all variables by copy except `j` by reference;\n",
    "* `[&,j]`: all variables by reference, except `j` by copy."
   ]
  },
  {
   "cell_type": "markdown",
   "metadata": {
    "slideshow": {
     "slide_type": "subslide"
    }
   },
   "source": [
    "Capturing `coef` allows to resolve the previous problem:"
   ]
  },
  {
   "cell_type": "code",
   "execution_count": null,
   "metadata": {
    "attributes": {
     "classes": [
      "cpp"
     ],
     "id": ""
    },
    "slideshow": {
     "slide_type": "-"
    }
   },
   "outputs": [],
   "source": [
    "std::vector<int> numbers { 1, 2, 3, 4, 5 } ;\n",
    "int coef = 3 ;\n",
    "std::for_each(\n",
    "  numbers.begin(),numbers.end(),\n",
    "  [coef]( int a_n ){ std::cout << (coef*a_n) << \" \" ; }\n",
    ") ;"
   ]
  },
  {
   "cell_type": "markdown",
   "metadata": {
    "slideshow": {
     "slide_type": "subslide"
    }
   },
   "source": [
    "A lambda is equivalent to some function-object, which capture the variables as members, and reuse them in the implementation of `operator()`:"
   ]
  },
  {
   "cell_type": "code",
   "execution_count": null,
   "metadata": {
    "slideshow": {
     "slide_type": "-"
    }
   },
   "outputs": [],
   "source": [
    "class Multiplier\n",
    " {\n",
    "  public :\n",
    "    Multiplier( int a_coef ) : m_coef(a_coef) {}\n",
    "    void operator() ( int a_n ) { std::cout << (m_coef*a_n) << \" \" ; }\n",
    "  private :\n",
    "    int const m_coef ;\n",
    " } ;"
   ]
  },
  {
   "cell_type": "code",
   "execution_count": null,
   "metadata": {
    "attributes": {
     "classes": [
      "cpp"
     ],
     "id": ""
    },
    "slideshow": {
     "slide_type": "-"
    }
   },
   "outputs": [],
   "source": [
    "std::vector<int> numbers { 1, 2, 3, 4, 5 } ;\n",
    "Multiplier m { 3 } ;\n",
    "std::for_each(numbers.begin(),numbers.end(),m) ;"
   ]
  },
  {
   "cell_type": "markdown",
   "metadata": {
    "slideshow": {
     "slide_type": "slide"
    }
   },
   "source": [
    "## Capturing by reference"
   ]
  },
  {
   "cell_type": "code",
   "execution_count": null,
   "metadata": {
    "slideshow": {
     "slide_type": "subslide"
    }
   },
   "outputs": [],
   "source": [
    "std::vector<int> v {1,2,3,4,5} ;\n",
    "    \n",
    "int accumulator = 0 ;\n",
    "std::for_each(v.begin(), v.end(), [&accumulator]( int i ){\n",
    "  accumulator += i ;\n",
    "}) ;\n",
    "    \n",
    "std::cout<<accumulator<<std::endl ;"
   ]
  },
  {
   "cell_type": "markdown",
   "metadata": {
    "slideshow": {
     "slide_type": "slide"
    }
   },
   "source": [
    "**BEWARE**: when capturing by reference, as with any reference, the behavior is undefined if the original variable disappears before the lambda function is used."
   ]
  },
  {
   "cell_type": "markdown",
   "metadata": {
    "slideshow": {
     "slide_type": "slide"
    }
   },
   "source": [
    "## Storing and reusing lambdas"
   ]
  },
  {
   "cell_type": "code",
   "execution_count": null,
   "metadata": {
    "slideshow": {
     "slide_type": "skip"
    }
   },
   "outputs": [],
   "source": [
    "#include <vector>\n",
    "#include <algorithm>\n",
    "#include <iostream>"
   ]
  },
  {
   "cell_type": "markdown",
   "metadata": {
    "slideshow": {
     "slide_type": "fragment"
    }
   },
   "source": [
    "A lambda function is a \"first class object\", and can be stored in a variable, to be reused later as any normal function. **The type of the lambda is implementation-dependent**. The usual practice is to declare above variable `auto`."
   ]
  },
  {
   "cell_type": "code",
   "execution_count": null,
   "metadata": {
    "slideshow": {
     "slide_type": "subslide"
    }
   },
   "outputs": [],
   "source": [
    "auto constexpr mult2 = []( int i ){ std::cout<<(2*i)<<\" \" ; } ;\n",
    "\n",
    "std::vector<int> v1 {1,2,3,4,5} ;\n",
    "std::for_each(v1.begin(), v1.end(), mult2) ;\n",
    "std::cout<<std::endl ;\n",
    "\n",
    "std::vector<int> v2 {6,7,8} ;\n",
    "std::for_each(v2.begin(), v2.end(), mult2) ;\n",
    "std::cout<<std::endl ;"
   ]
  },
  {
   "cell_type": "markdown",
   "metadata": {
    "slideshow": {
     "slide_type": "fragment"
    }
   },
   "source": [
    "A noteworthy difference with an ordinary function : you can **nest it** in any block."
   ]
  },
  {
   "cell_type": "code",
   "execution_count": null,
   "metadata": {
    "slideshow": {
     "slide_type": "subslide"
    }
   },
   "outputs": [],
   "source": [
    "void process( std::vector<int> const & v ) {\n",
    "  auto constexpr mult2 = []( int i ){ std::cout<<(2*i)<<\" \" ; } ;\n",
    "  std::for_each(v.begin(), v.end(), mult2) ;\n",
    "  std::cout<<std::endl ;\n",
    "}\n",
    "\n",
    "std::vector<int> v1 {1,2,3,4,5} ;\n",
    "process(v1) ;\n",
    "\n",
    "std::vector<int> v2 {6,7,8} ;\n",
    "process(v2) ;"
   ]
  },
  {
   "cell_type": "markdown",
   "metadata": {
    "slideshow": {
     "slide_type": "fragment"
    }
   },
   "source": [
    "Again, beware not to capture by reference something which may be destructed before the lambda is used."
   ]
  },
  {
   "cell_type": "code",
   "execution_count": null,
   "metadata": {
    "slideshow": {
     "slide_type": "skip"
    }
   },
   "outputs": [],
   "source": [
    "#include <vector>\n",
    "#include <algorithm>\n",
    "#include <iostream>"
   ]
  },
  {
   "cell_type": "code",
   "execution_count": null,
   "metadata": {
    "slideshow": {
     "slide_type": "subslide"
    }
   },
   "outputs": [],
   "source": [
    "int coef ;\n",
    "auto mult = [&coef]( int i ){ std::cout<<(coef*i)<<\" \" ; } ;\n",
    "std::vector<int> v {1,2,3,4,5} ;\n",
    "  \n",
    "coef = 2 ;  \n",
    "std::for_each(v.begin(), v.end(), mult) ;\n",
    "std::cout<<std::endl ;\n",
    "\n",
    "coef = 3 ;  \n",
    "std::for_each(v.begin(), v.end(), mult) ;\n",
    "std::cout<<std::endl ;"
   ]
  },
  {
   "cell_type": "markdown",
   "metadata": {
    "slideshow": {
     "slide_type": "slide"
    }
   },
   "source": [
    "## Generic lambdas\n",
    "\n",
    "If you want to reuse your lambda with different input types, you can also use `auto` in the functions parameters:"
   ]
  },
  {
   "cell_type": "code",
   "execution_count": null,
   "metadata": {
    "slideshow": {
     "slide_type": "subslide"
    }
   },
   "outputs": [],
   "source": [
    "auto print = []( auto val ){ std::cout<<val<<' ' ; } ;\n",
    "\n",
    "std::vector<int> vi{ 1, 2, 3, 4, 5 } ;\n",
    "std::for_each(vi.begin(),vi.end(),print) ;\n",
    "std::cout<<std::endl ;\n",
    "\n",
    "std::vector<double> vd{ 1.1, 2.2, 3.3, 4.4 } ;\n",
    "std::for_each(vd.begin(),vd.end(),print) ; \n",
    "std::cout<<std::endl ;"
   ]
  },
  {
   "cell_type": "markdown",
   "metadata": {
    "slideshow": {
     "slide_type": "subslide"
    }
   },
   "source": [
    "The first `auto` triggers type inference. The second is rather some simplified form of `template`. If we look for the equivalent function-object, it might look like this:"
   ]
  },
  {
   "cell_type": "code",
   "execution_count": null,
   "metadata": {
    "slideshow": {
     "slide_type": "subslide"
    }
   },
   "outputs": [],
   "source": [
    "class Print\n",
    " {\n",
    "  public :\n",
    "    template< typename Value >\n",
    "    void operator()( Value val )\n",
    "     { std::cout<<val<<' ' ; }\n",
    " } ;"
   ]
  },
  {
   "cell_type": "markdown",
   "metadata": {
    "slideshow": {
     "slide_type": "fragment"
    }
   },
   "source": [
    "Note that it is the execution operator (`operator()`) that is parameterized, and not the class itself."
   ]
  },
  {
   "cell_type": "markdown",
   "metadata": {},
   "source": [
    "# Take away\n",
    "\n",
    "- a lambda function is anonymous, and usually meant to be used once ;\n",
    "- yet one can store it in a variable, which makes it some kind of nested function ;\n",
    "- thanks to the capture, lambda functions are a concise version of object-functions ;\n",
    "- a generic lambda is equivalent to an object-function with a template operator()."
   ]
  },
  {
   "cell_type": "markdown",
   "metadata": {
    "slideshow": {
     "slide_type": "slide"
    }
   },
   "source": [
    "# Questions ?"
   ]
  },
  {
   "cell_type": "markdown",
   "metadata": {
    "slideshow": {
     "slide_type": "skip"
    }
   },
   "source": [
    "# Exercise\n",
    "\n",
    "Replace below `random_unit` and `Pow` with lambdas functions. Make sure that you always get the same end result throughout your trials."
   ]
  },
  {
   "cell_type": "code",
   "execution_count": null,
   "metadata": {
    "slideshow": {
     "slide_type": "skip"
    }
   },
   "outputs": [],
   "source": [
    "%%file tmp.lambdas.cpp\n",
    "\n",
    "#include <vector>\n",
    "#include <algorithm>\n",
    "#include <numeric>\n",
    "#include <iostream>\n",
    "#include <cmath>\n",
    "\n",
    "// random double value in [-1,1]\n",
    "void random_unit( double & a_value )\n",
    " { a_value = ((2.*std::rand())/RAND_MAX-1.) ; }\n",
    "\n",
    "// compute value^degree\n",
    "struct Pow\n",
    " {\n",
    "  int m_degree ;\n",
    "  Pow( int a_degree ) : m_degree {a_degree} {}\n",
    "  double operator()( double a_value ) const\n",
    "   { return std::pow(a_value,m_degree) ; }\n",
    " } ;\n",
    "\n",
    "// main program\n",
    "int main()\n",
    " {\n",
    "  int const DIM {10} ;\n",
    "  int const DEGREE {5} ;\n",
    "  \n",
    "  // generate random input\n",
    "  std::vector<double> input(DIM) ;\n",
    "  std::for_each(input.begin(),input.end(),random_unit) ;\n",
    "\n",
    "  // compute output\n",
    "  std::vector<double> output(DIM) ;\n",
    "  std::transform(input.begin(),input.end(),output.begin(),Pow(DEGREE)) ;\n",
    "  \n",
    "  // print sum\n",
    "  std::cout<<std::accumulate(output.begin(),output.end(),0.)<<std::endl ;\n",
    "}"
   ]
  },
  {
   "cell_type": "code",
   "execution_count": null,
   "metadata": {
    "slideshow": {
     "slide_type": "skip"
    }
   },
   "outputs": [],
   "source": [
    "!rm -f tmp.lambdas.exe && g++  -std=c++17 tmp.lambdas.cpp -o tmp.lambdas.exe"
   ]
  },
  {
   "cell_type": "code",
   "execution_count": null,
   "metadata": {
    "slideshow": {
     "slide_type": "skip"
    }
   },
   "outputs": [],
   "source": [
    "!./tmp.lambdas.exe"
   ]
  },
  {
   "cell_type": "markdown",
   "metadata": {
    "slideshow": {
     "slide_type": "skip"
    }
   },
   "source": [
    "© *CNRS 2024*  \n",
    "*This document was created by David Chamont and translated by Olga Abramkina. It is available under the [License Creative Commons - Attribution - No commercial use - Shared under the conditions 4.0 International](http://creativecommons.org/licenses/by-nc-sa/4.0/)*"
   ]
  }
 ],
 "metadata": {
  "celltoolbar": "Diaporama",
  "kernelspec": {
   "display_name": "C++17",
   "language": "C++17",
   "name": "xcpp17"
  },
  "language_info": {
   "codemirror_mode": "text/x-c++src",
   "file_extension": ".cpp",
   "mimetype": "text/x-c++src",
   "name": "c++",
   "version": "17"
  },
  "toc": {
   "base_numbering": 1,
   "nav_menu": {},
   "number_sections": true,
   "sideBar": true,
   "skip_h1_title": true,
   "title_cell": "Table of Contents",
   "title_sidebar": "Contents",
   "toc_cell": false,
   "toc_position": {},
   "toc_section_display": true,
   "toc_window_display": false
  },
  "varInspector": {
   "cols": {
    "lenName": 16,
    "lenType": 16,
    "lenVar": 40
   },
   "kernels_config": {
    "python": {
     "delete_cmd_postfix": "",
     "delete_cmd_prefix": "del ",
     "library": "var_list.py",
     "varRefreshCmd": "print(var_dic_list())"
    },
    "r": {
     "delete_cmd_postfix": ") ",
     "delete_cmd_prefix": "rm(",
     "library": "var_list.r",
     "varRefreshCmd": "cat(var_dic_list()) "
    }
   },
   "types_to_exclude": [
    "module",
    "function",
    "builtin_function_or_method",
    "instance",
    "_Feature"
   ],
   "window_display": false
  }
 },
 "nbformat": 4,
 "nbformat_minor": 4
}
