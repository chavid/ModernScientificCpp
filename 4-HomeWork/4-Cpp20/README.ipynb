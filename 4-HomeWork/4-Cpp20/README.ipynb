{
 "cells": [
  {
   "cell_type": "markdown",
   "metadata": {
    "slideshow": {
     "slide_type": "slide"
    }
   },
   "source": [
    "# A glimpse to C++20\n",
    "\n",
    "The new standard is full of multiple items, small or big. Let's focus on what Rainer Grimm calls \"The Big Four\", which will drive us to the \"post-modern\" C++.\n",
    "1. for what concerns compilation: [**modules**](en.1-modules.ipynb) ;\n",
    "2. for what concerns generic programming: [**concepts**](en.2-concepts.ipynb) ;\n",
    "3. for what concerns functional programming: [**ranges**](en.3-ranges.ipynb) ;\n",
    "4. for what concerns asynchronous programming: [**co-routines**](en.4-coroutines.ipynb)."
   ]
  },
  {
   "cell_type": "markdown",
   "metadata": {
    "slideshow": {
     "slide_type": "fragment"
    }
   },
   "source": [
    "DISCLAIMER: all those features are rather new, do not expect some very advanced explanations."
   ]
  },
  {
   "cell_type": "markdown",
   "metadata": {
    "slideshow": {
     "slide_type": "skip"
    }
   },
   "source": [
    "---\n",
    "## Sources\n",
    "\n",
    "* [Modernes Cpp](http://modernescpp.com/index.php/thebigfour)\n",
    "* [Cpp Reference](https://en.cppreference.com/w/cpp/compiler_support)\n",
    "* [Wikipedia](https://en.wikipedia.org/wiki/C%2B%2B20)"
   ]
  },
  {
   "cell_type": "markdown",
   "metadata": {
    "slideshow": {
     "slide_type": "skip"
    }
   },
   "source": [
    "© *CNRS 2020*  \n",
    "*Assembled and written by David Chamont, this work is made available according to the terms of the*  \n",
    "[*Creative Commons License - Attribution - NonCommercial - ShareAlike 4.0 International*](http://creativecommons.org/licenses/by-nc-sa/4.0/)"
   ]
  }
 ],
 "metadata": {
  "celltoolbar": "Diaporama",
  "kernelspec": {
   "display_name": "Python 3 (ipykernel)",
   "language": "python",
   "name": "python3"
  },
  "language_info": {
   "codemirror_mode": {
    "name": "ipython",
    "version": 3
   },
   "file_extension": ".py",
   "mimetype": "text/x-python",
   "name": "python",
   "nbconvert_exporter": "python",
   "pygments_lexer": "ipython3",
   "version": "3.9.5"
  }
 },
 "nbformat": 4,
 "nbformat_minor": 4
}
