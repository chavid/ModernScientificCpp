{
 "cells": [
  {
   "cell_type": "markdown",
   "id": "6ea77bff",
   "metadata": {
    "slideshow": {
     "slide_type": "slide"
    }
   },
   "source": [
    "# The spaceship operator"
   ]
  },
  {
   "cell_type": "markdown",
   "id": "713dfb5c",
   "metadata": {
    "slideshow": {
     "slide_type": "slide"
    }
   },
   "source": [
    "## Motivation\n",
    "\n",
    "\n",
    "There are frequent situations where one needs `<` operator for a home-made class. Typically, if you want to make a `std::vector` of such objects, and sort it. But also if you want to use it as a key for e.g. `std::set` or `std::map`.\n",
    "\n",
    "For completeness, one should also add `>`, `>=`, and `<=`, implemented reusing either `<` and `==`, or `<` and `>`.\n",
    "\n",
    "Those operators should be defined as free functions, optionally friends, so that left and right arguments will be similarly convertible.\n",
    "\n",
    "Much boilerplate code to write. Too much."
   ]
  },
  {
   "cell_type": "markdown",
   "id": "fcdbb031",
   "metadata": {
    "slideshow": {
     "slide_type": "slide"
    }
   },
   "source": [
    "## Idea\n",
    "\n",
    "C++20 introduces the *spaceship* operator : `<=>`. Well, the real official name is *three-way comparison operator*.\n",
    "\n",
    "It is provided by default for all predefined types, and returns *something* which can be compared to `0` (similar to `std::strcmp`), meaning *lower than* if this *something* is lower than `0`, *greater than* if it is greater than `0`, and *equivalent* if it is equal `0`:"
   ]
  },
  {
   "cell_type": "code",
   "execution_count": null,
   "id": "642b0cee",
   "metadata": {
    "slideshow": {
     "slide_type": "subslide"
    }
   },
   "outputs": [],
   "source": [
    "#include <iostream>\n",
    "\n",
    "template <typename T>\n",
    "void three_way_compare( T lhs, T rhs )\n",
    " {\n",
    "  auto result = (lhs<=>rhs) ;\n",
    "  std::cout\n",
    "    <<lhs<<\" <=> \"<<rhs<<\": \"<<'<'\n",
    "    <<(result<0)<<'|'<<(result==0)<<'|'<<(result>0)\n",
    "    <<'>'<<std::endl ;\n",
    " }\n",
    "\n",
    "int main()\n",
    " {\n",
    "  three_way_compare(1,2) ;\n",
    "  three_way_compare(2,2) ;\n",
    "  three_way_compare(2,1) ;\n",
    " }"
   ]
  },
  {
   "cell_type": "markdown",
   "id": "9f09579b",
   "metadata": {
    "slideshow": {
     "slide_type": "slide"
    }
   },
   "source": [
    "## Different kinds of ordering\n",
    "\n",
    "The real return type of `<=>` for integers is `std::strong_ordering`: whatever the values, you will always get `true` for exactly one test among `<0`, `==0`, and `>0`.\n",
    "\n",
    "On the contrary, the return type of `<=>` for floating point numbers is `std::partial_ordering`, because sometimes all tests may return `false`, typically if one number is `NaN`."
   ]
  },
  {
   "cell_type": "code",
   "execution_count": null,
   "id": "873f1393",
   "metadata": {
    "slideshow": {
     "slide_type": "subslide"
    }
   },
   "outputs": [],
   "source": [
    "#include <iostream>\n",
    "\n",
    "template <typename T>\n",
    "void three_way_compare( T lhs, T rhs )\n",
    " {\n",
    "  auto result = (lhs<=>rhs) ;\n",
    "  std::cout\n",
    "    <<lhs<<\" <=> \"<<rhs<<\": \"<<'<'\n",
    "    <<(result<0)<<'|'<<(result==0)<<'|'<<(result>0)\n",
    "    <<'>'<<std::endl ;\n",
    " }\n",
    "\n",
    "int main()\n",
    " {\n",
    "  three_way_compare(+0.,-0.) ;\n",
    "  three_way_compare(0./1.,1./0.) ;\n",
    "  three_way_compare(0.,0./0.) ;\n",
    " }"
   ]
  },
  {
   "cell_type": "markdown",
   "id": "8b75716f",
   "metadata": {
    "slideshow": {
     "slide_type": "subslide"
    }
   },
   "source": [
    "Between the two, we have a class `std::weak_ordering`, where `==0` mean that the two compared values are equivalent from a ranking point of view, but not necessarily *equal*: in a given expression, one cannot substitutes one value for the other and be sure to have the same result.\n",
    "\n",
    "I am not aware of some predefined type whose `<=>` would return an instance of `std::weak_ordering`, but it may make sense for some home-made class, such as the following."
   ]
  },
  {
   "cell_type": "markdown",
   "id": "2e12d712",
   "metadata": {
    "slideshow": {
     "slide_type": "slide"
    }
   },
   "source": [
    "## Home-made class\n",
    "\n",
    "In the example below, we define a very basic class for positive rational numbers, and provide an implementation of `<=>`:"
   ]
  },
  {
   "cell_type": "code",
   "execution_count": null,
   "id": "bafabbec",
   "metadata": {},
   "outputs": [],
   "source": [
    "#include <iostream>\n",
    "#include <compare>\n",
    "\n",
    "struct Rational\n",
    " {\n",
    "  unsigned n, d ;\n",
    "  \n",
    "  friend std::weak_ordering operator<=>( Rational const & lhs, Rational const & rhs )\n",
    "   { return (lhs.n*rhs.d)<=>(lhs.n*rhs.d) ; }\n",
    " } ;\n",
    " \n",
    "std::ostream & operator<<( std::ostream & os, std::weak_ordering cmp )\n",
    " { return (os<<'<'<<(cmp<0)<<'|'<<(cmp==0)<<'|'<<(cmp>0)<<'>') ; }\n",
    "\n",
    "std::ostream & operator<<( std::ostream & os, Rational const & r )\n",
    " { return (os<<r.n<<'/'<<r.d) ; }\n",
    "\n",
    "template <typename T>\n",
    "void compare( T lhs, T rhs )\n",
    " {\n",
    "  std::cout<<std::endl ;\n",
    "  //std::cout<<lhs<<\" ==  \"<<rhs<<\": \"<<(lhs==rhs)<<std::endl ;\n",
    "  //std::cout<<lhs<<\" !=  \"<<rhs<<\": \"<<(lhs!=rhs)<<std::endl ;\n",
    "  std::cout<<lhs<<\" <=> \"<<rhs<<\": \"<<(lhs<=>rhs)<<std::endl ;\n",
    "  std::cout<<lhs<<\" <   \"<<rhs<<\": \"<<(lhs<  rhs)<<std::endl ;\n",
    "  std::cout<<lhs<<\" <=  \"<<rhs<<\": \"<<(lhs<= rhs)<<std::endl ;\n",
    "  std::cout<<lhs<<\" >   \"<<rhs<<\": \"<<(lhs>  rhs)<<std::endl ;\n",
    "  std::cout<<lhs<<\" >=  \"<<rhs<<\": \"<<(lhs>= rhs)<<std::endl ;\n",
    " }\n",
    "\n",
    "int main()\n",
    " {  \n",
    "  compare<Rational>({ 3, 4 },{ 2, 3 }) ;\n",
    "  compare<Rational>({ 3, 6 },{ 2, 3 }) ;\n",
    "  compare<Rational>({ 1, 2 },{ 2, 4 }) ;\n",
    " }"
   ]
  },
  {
   "cell_type": "markdown",
   "id": "c46adfe8",
   "metadata": {
    "slideshow": {
     "slide_type": "subslide"
    }
   },
   "source": [
    "Despites `<=>` for `unsigned` returning a `std::strong_ordering`, we prefer here to convert it to `std::weak_ordering`. This way, we emphasize that if `a<=>b` is equal to `0`, it only means that `a` and `b` are logically equivalent, but may lead to different results in other expressions (e.g. printing them).\n",
    "\n",
    "As one can see from the code, we have defined only `<=>`, but `<`, `>`, `<=` and `=>` work as well. The compiler can rephrase any use of the latter operators in terms of {\\it <=>}. Of course, one can also provide own implementations.\n",
    "\n",
    "It is NOT able to rephrase `==` and `!=` in terms of `<=>`. Those operators are generally expected to mean *equal*, rather than *equivalent*. If `<=>` does not enable a strong order, it is generally advised not to define `==`."
   ]
  },
  {
   "cell_type": "markdown",
   "id": "b1512141",
   "metadata": {
    "slideshow": {
     "slide_type": "slide"
    }
   },
   "source": [
    "## Default `<=>` implementation\n",
    "\n",
    "One can ask the compiler to provide some default implementation for `<=>` and/or `==`. Logically enough, it will compare the first member variable of the two objects, and goes on to the next member variable as long as the current ones are equivalent.\n",
    "\n",
    "In the previous example, that would not be relevant, because it will compare the numerators first, and conclude that `3/6` is greater than `2/3`:"
   ]
  },
  {
   "cell_type": "code",
   "execution_count": 6,
   "id": "0478ed02",
   "metadata": {
    "slideshow": {
     "slide_type": "subslide"
    }
   },
   "outputs": [
    {
     "ename": "SyntaxError",
     "evalue": "invalid syntax (2540279673.py, line 3)",
     "output_type": "error",
     "traceback": [
      "\u001b[0;36m  Input \u001b[0;32mIn [6]\u001b[0;36m\u001b[0m\n\u001b[0;31m    struct Rational\u001b[0m\n\u001b[0m           ^\u001b[0m\n\u001b[0;31mSyntaxError\u001b[0m\u001b[0;31m:\u001b[0m invalid syntax\n"
     ]
    }
   ],
   "source": [
    "#include <iostream>\n",
    "#include <compare>\n",
    "\n",
    "struct Rational\n",
    " {\n",
    "  unsigned n, d ;\n",
    "  friend std::strong_ordering operator<=>( Rational const &, Rational const & ) = default ;\n",
    " } ;\n",
    " \n",
    "std::ostream & operator<<( std::ostream & os, std::weak_ordering cmp )\n",
    " { return (os<<'<'<<(cmp<0)<<'|'<<(cmp==0)<<'|'<<(cmp>0)<<'>') ; }\n",
    " \n",
    "std::ostream & operator<<( std::ostream & os, Rational const & r )\n",
    " { return (os<<r.n<<'/'<<r.d) ; }\n",
    "\n",
    "int main()\n",
    " {  \n",
    "  Rational r1 { 3, 6 }, r2 { 2, 3 } ;\n",
    "  std::cout<<r1<<\" <=> \"<<r2<<\": \"<<(r1<=>r2)<<std::endl ;\n",
    " }"
   ]
  },
  {
   "cell_type": "markdown",
   "id": "5227de21",
   "metadata": {
    "slideshow": {
     "slide_type": "subslide"
    }
   },
   "source": [
    "On the contrary, for some tuple-like class, it may make sense:"
   ]
  },
  {
   "cell_type": "code",
   "execution_count": null,
   "id": "4db9d052",
   "metadata": {
    "slideshow": {
     "slide_type": "subslide"
    }
   },
   "outputs": [],
   "source": [
    "#include <iostream>\n",
    "#include <string>\n",
    "#include <set>\n",
    "\n",
    "struct Grade\n",
    " {\n",
    "  double number ;\n",
    "  char letter ;\n",
    "  std::string name ;\n",
    "  \n",
    "  auto operator<=>( Grade const & other ) const = default ;\n",
    " } ;\n",
    " \n",
    "std::ostream & operator<<( std::ostream & os, Grade const & g )\n",
    " { return (os<<g.letter<<\", \"<<g.number<<\", \"<<g.name) ; }\n",
    "\n",
    "int main()\n",
    " {\n",
    "  std::set<Grade> grades\n",
    "   {\n",
    "     { 19, 'A', \"Djamila\" },\n",
    "     { 12, 'C', \"Charles\" },\n",
    "     { 16.5, 'A', \"Marc\" },\n",
    "   } ;\n",
    "  \n",
    "  for ( auto const & grade : grades )\n",
    "   { std::cout<<grade<<std::endl ; }\n",
    " }"
   ]
  },
  {
   "cell_type": "markdown",
   "id": "bc47ffce",
   "metadata": {
    "slideshow": {
     "slide_type": "subslide"
    }
   },
   "source": [
    "We see above that the definition of `<=>` has been provided, and the use of `<` by `std::set` to sorts its elements has been rewritten by the compiler in terms of {\\it <=>}.\n",
    "\n",
    "Worth to note : if {\\it <=>} is defaulted and no {\\it ==} is defined, then the compiler also provides a defaulted {\\it ==}. I guess that in most cases, the default implementation of `<=>` will return some instance of `std::strong_ordering`, and it makes sense to also get `==`."
   ]
  },
  {
   "cell_type": "markdown",
   "id": "94966317",
   "metadata": {
    "slideshow": {
     "slide_type": "slide"
    }
   },
   "source": [
    "## Summary\n",
    "\n",
    "- Defining `<=>` allows you to use `<`, `>`, `<=`, and `>=` as well.\n",
    "- The standard library defines a few different kinds of order (strong, weak and partial).\n",
    "- Do not confuse equivalence (`(a<=>b)==0`) with equality (`a==b`)."
   ]
  },
  {
   "cell_type": "markdown",
   "id": "da4d8217",
   "metadata": {
    "slideshow": {
     "slide_type": "slide"
    }
   },
   "source": [
    "# Questions ?"
   ]
  },
  {
   "cell_type": "markdown",
   "id": "189cda5e",
   "metadata": {
    "slideshow": {
     "slide_type": "skip"
    }
   },
   "source": [
    "# Exercise\n",
    "\n",
    "We are not fully happy with the default implementation of `<=>`for our `Complex` class below.\n",
    "1. Modify it so that the ordering is based on the norm of the complexes.\n",
    "2. Because you do not use any more the default implementation of `<=>`m you had to prived also an implementation for `==`. What happens if you deduce it from `<=>` (using `(((*this)<=>other)==0)`) ?\n",
    "3. Try to restore the default implementation for `==` only."
   ]
  },
  {
   "cell_type": "code",
   "execution_count": 2,
   "id": "72ef970d",
   "metadata": {
    "slideshow": {
     "slide_type": "skip"
    }
   },
   "outputs": [
    {
     "name": "stdout",
     "output_type": "stream",
     "text": [
      "Writing tmp.spaceship.cpp\n"
     ]
    }
   ],
   "source": [
    "%%file tmp.spaceship.cpp\n",
    "\n",
    "#include <iostream>\n",
    "#include <cmath>\n",
    "\n",
    "struct Complex\n",
    " {\n",
    "  double r, i ;\n",
    "  double norm() const { return std::sqrt(r*r+i*i) ; }\n",
    "  auto operator<=>( Complex const & other ) const = default ;\n",
    " } ;\n",
    " \n",
    "std::ostream & operator<<( std::ostream & os, std::partial_ordering cmp )\n",
    " { return (os<<'<'<<(cmp<0)<<'|'<<(cmp==0)<<'|'<<(cmp>0)<<'>') ; }\n",
    "\n",
    "std::ostream & operator<<( std::ostream & os, Complex const & c )\n",
    " { return (os<<c.r<<'+'<<c.i<<'i') ; }\n",
    "\n",
    "template <typename T>\n",
    "void compare( T lhs, T rhs )\n",
    " {\n",
    "  std::cout<<std::endl ;\n",
    "  std::cout<<lhs<<\" ==  \"<<rhs<<\" : \"<<(lhs==rhs)<<std::endl ;\n",
    "  std::cout<<lhs<<\" <=> \"<<rhs<<\" : \"<<(lhs<=>rhs)<<std::endl ;\n",
    " }\n",
    "\n",
    "int main()\n",
    " {  \n",
    "  compare<Complex>({ 1., 2. },{ 1.5, 1.5 }) ;\n",
    "  compare<Complex>({ 1., 0. },{ 0., 1. }) ;\n",
    " }"
   ]
  },
  {
   "cell_type": "code",
   "execution_count": 4,
   "id": "97b435ef",
   "metadata": {
    "slideshow": {
     "slide_type": "skip"
    }
   },
   "outputs": [],
   "source": [
    "!rm -f tmp.spaceship.exe && g++ -std=c++20 tmp.spaceship.cpp -o tmp.spaceship.exe"
   ]
  },
  {
   "cell_type": "code",
   "execution_count": 5,
   "id": "cccc0c91",
   "metadata": {
    "slideshow": {
     "slide_type": "skip"
    }
   },
   "outputs": [
    {
     "name": "stdout",
     "output_type": "stream",
     "text": [
      "\r\n",
      "1+2i ==  1.5+1.5i : 0\r\n",
      "1+2i <=> 1.5+1.5i : <1|0|0>\r\n",
      "\r\n",
      "1+0i ==  0+1i : 0\r\n",
      "1+0i <=> 0+1i : <0|0|1>\r\n"
     ]
    }
   ],
   "source": [
    "!./tmp.spaceship.exe"
   ]
  },
  {
   "cell_type": "markdown",
   "id": "66b01d11",
   "metadata": {
    "slideshow": {
     "slide_type": "skip"
    }
   },
   "source": [
    "# Sources\n",
    "\n",
    "- https://blog.tartanllama.xyz/spaceship-operator/\n",
    "- https://iq.opengenus.org/spaceship-operator-cpp/\n",
    "- https://www.jonathanmueller.dev/talk/meetingcpp2019/\n",
    "- https://quuxplusone.github.io/blog/2021/10/22/hidden-friend-outlives-spaceship/"
   ]
  },
  {
   "cell_type": "markdown",
   "id": "f7d2f62f",
   "metadata": {
    "slideshow": {
     "slide_type": "skip"
    }
   },
   "source": [
    "© *CNRS 2022*  \n",
    "*Assembled and written by David Chamont, with corrections from Bernhard Manfred Gruber, this work is made available according to the terms of the*  \n",
    "[*Creative Commons License - Attribution - NonCommercial - ShareAlike 4.0 International*](http://creativecommons.org/licenses/by-nc-sa/4.0/)"
   ]
  }
 ],
 "metadata": {
  "celltoolbar": "Diaporama",
  "kernelspec": {
   "display_name": "Python 3 (ipykernel)",
   "language": "python",
   "name": "python3"
  },
  "language_info": {
   "codemirror_mode": {
    "name": "ipython",
    "version": 3
   },
   "file_extension": ".py",
   "mimetype": "text/x-python",
   "name": "python",
   "nbconvert_exporter": "python",
   "pygments_lexer": "ipython3",
   "version": "3.9.5"
  }
 },
 "nbformat": 4,
 "nbformat_minor": 5
}
