{
 "cells": [
  {
   "cell_type": "markdown",
   "metadata": {
    "slideshow": {
     "slide_type": "slide"
    }
   },
   "source": [
    "# Expression Templates"
   ]
  },
  {
   "cell_type": "markdown",
   "metadata": {
    "slideshow": {
     "slide_type": "slide"
    }
   },
   "source": [
    "## Motivation"
   ]
  },
  {
   "cell_type": "markdown",
   "metadata": {
    "slideshow": {
     "slide_type": "skip"
    }
   },
   "source": [
    "To implement mathematical operators such as the addition (`+`), while respecting the notations and expectations of mathematicians, we recommended that these operators build and return a new value, without modifying the operands. If you add up huge matrices, the consequences on the calculation time can be dramatic, especially because of all the intermediary values which are produced before the final result is reached:"
   ]
  },
  {
   "cell_type": "code",
   "execution_count": null,
   "metadata": {
    "slideshow": {
     "slide_type": "subslide"
    }
   },
   "outputs": [],
   "source": [
    "using BigMatrix = SquareMatrix<double, 10000> ;\n",
    "BigMatrix m1, m2, m3, m4, m5 ;               // create matrices and\n",
    "// ...                                       // give them values\n",
    "BigMatrix result = m1 + m2 + m3 + m4 + m5 ;  // compute their addition"
   ]
  },
  {
   "cell_type": "markdown",
   "metadata": {
    "slideshow": {
     "slide_type": "skip"
    }
   },
   "source": [
    "Classical programming techniques will lead to the creation of four temporary matrices (one for each call for `+`), and the course of a sequence of four loops through all the elements of the matrix. With the idiom known as \"expression templates\", it is sometimes possible to eliminate temporary matrices and to merge the loops, without changing the syntax of the client code above. The resulting code uses less memory and runs\n",
    "incredibly faster."
   ]
  },
  {
   "cell_type": "markdown",
   "metadata": {
    "slideshow": {
     "slide_type": "slide"
    }
   },
   "source": [
    "## Example"
   ]
  },
  {
   "cell_type": "markdown",
   "metadata": {
    "slideshow": {
     "slide_type": "skip"
    }
   },
   "source": [
    "For the purposes of the demonstration, we will be using vectors of 3 values (but they could also contain 1000+ values), and we focus on a simple expression based on + and - :"
   ]
  },
  {
   "cell_type": "code",
   "execution_count": null,
   "metadata": {
    "attributes": {
     "classes": [
      "cpp"
     ],
     "id": ""
    },
    "slideshow": {
     "slide_type": "subslide"
    }
   },
   "outputs": [],
   "source": [
    "%%file tmp.vector.h\n",
    "\n",
    "#include <iostream>\n",
    "\n",
    "struct Vector\n",
    " { double data[3] ; } ;\n",
    "    \n",
    "Vector operator+( Vector const & v1, Vector const & v2 )\n",
    " { return Vector{v1.data[0]+v2.data[0],v1.data[1]+v2.data[1],v1.data[2]+v2.data[2]} ; }\n",
    "\n",
    "Vector operator-( Vector const & v1, Vector const & v2 )\n",
    " { return Vector{v1.data[0]-v2.data[0],v1.data[1]-v2.data[1],v1.data[2]-v2.data[2]} ; }\n",
    "    \n",
    "std::ostream & operator<<( std::ostream & os, Vector const & v )\n",
    " { return (os<<v.data[0]<<\"|\"<<v.data[1]<<\"|\"<<v.data[2]) ; }"
   ]
  },
  {
   "cell_type": "code",
   "execution_count": null,
   "metadata": {
    "attributes": {
     "classes": [
      "cpp"
     ],
     "id": ""
    },
    "slideshow": {
     "slide_type": "subslide"
    }
   },
   "outputs": [],
   "source": [
    "%%file tmp.expressions-templates.cpp\n",
    "\n",
    "#include \"tmp.vector.h\"\n",
    "\n",
    "int main()\n",
    "{\n",
    "  Vector v1{1,2,3}, v2{0.1,0.2,0.3}, v3{0.01,0.02,0.03}, v4{0,0,0} ;\n",
    "  v4 = v1+(v2-v3) ;\n",
    "  std::cout<<v4<<std::endl ;\n",
    "  return 0 ;\n",
    "} "
   ]
  },
  {
   "cell_type": "code",
   "execution_count": null,
   "metadata": {
    "attributes": {
     "classes": [
      "cpp"
     ],
     "id": ""
    },
    "slideshow": {
     "slide_type": "-"
    }
   },
   "outputs": [],
   "source": [
    "!rm -f tmp.expressions-templates.exe && g++ -std=c++17 tmp.expressions-templates.cpp -o tmp.expressions-templates.exe"
   ]
  },
  {
   "cell_type": "code",
   "execution_count": null,
   "metadata": {
    "slideshow": {
     "slide_type": "-"
    }
   },
   "outputs": [],
   "source": [
    "!./tmp.expressions-templates.exe"
   ]
  },
  {
   "cell_type": "markdown",
   "metadata": {
    "slideshow": {
     "slide_type": "skip"
    }
   },
   "source": [
    "The goal is to replace the naive implementation of the + and - operators, between instances of Vector, which leads to three loops through the list of values and the building of two temporary objects. Instead, we want the expression `v1+(v2-v3)` to return a structure that is as basic as possible, without any calculation or loops, the latter being realised in one go at the last moment, at the final assignment to `v4`. This can be described as *lazy evaluation*."
   ]
  },
  {
   "cell_type": "markdown",
   "metadata": {
    "slideshow": {
     "slide_type": "slide"
    }
   },
   "source": [
    "## Elements of the intermediate structure\n",
    "\n",
    "Our intermediate structure will be built like a tree of objects representing the operations, the operands constituting the expression. Each element of the structure must behave as an iterator: being able to return its current value and to increment itself."
   ]
  },
  {
   "cell_type": "code",
   "execution_count": null,
   "metadata": {
    "attributes": {
     "classes": [
      "cpp"
     ],
     "id": ""
    },
    "slideshow": {
     "slide_type": "slide"
    }
   },
   "outputs": [],
   "source": [
    "%%file tmp.nodes.h\n",
    "\n",
    "// Addition\n",
    "template <typename Itr1, typename Itr2>\n",
    "struct NodeAdd\n",
    " {\n",
    "  Itr1 itr1 ; Itr2 itr2 ;\n",
    "  void operator ++() { ++itr1 ; ++itr2 ; }\n",
    "  double operator *() const { return (*itr1)+(*itr2) ; }\n",
    " } ;\n",
    "\n",
    "// Soustraction \n",
    "template <typename Itr1, typename Itr2>\n",
    "struct NodeSub\n",
    " {\n",
    "  Itr1 itr1 ; Itr2 itr2 ;\n",
    "  void operator ++() { ++itr1 ; ++itr2 ; }\n",
    "  double operator *() const { return (*itr1)-(*itr2) ; }\n",
    " } ;"
   ]
  },
  {
   "cell_type": "markdown",
   "metadata": {
    "slideshow": {
     "slide_type": "skip"
    }
   },
   "source": [
    "Below, we build a very simple structure, which is the sum of the elements of two tables."
   ]
  },
  {
   "cell_type": "code",
   "execution_count": null,
   "metadata": {
    "slideshow": {
     "slide_type": "subslide"
    }
   },
   "outputs": [],
   "source": [
    "%%file tmp.expressions-templates.cpp\n",
    "\n",
    "#include <iostream>\n",
    "#include \"tmp.nodes.h\"\n",
    "\n",
    "int main()\n",
    " {\n",
    "  int array1[5] = { 1, 2, 3, 4, 5 } ;\n",
    "  double array2[5] = { .1, .2, .3, .4, .5 } ;\n",
    "\n",
    "  NodeAdd<int *,double *> add {array1,array2} ;\n",
    "  for ( int i = 0 ; i<5 ; ++i )\n",
    "   { std::cout<<(*add)<<\" \" ; ++add ; }\n",
    " }"
   ]
  },
  {
   "cell_type": "code",
   "execution_count": null,
   "metadata": {
    "slideshow": {
     "slide_type": "-"
    }
   },
   "outputs": [],
   "source": [
    "!rm -f tmp.expressions-templates.exe && g++ -std=c++17 tmp.expressions-templates.cpp -o tmp.expressions-templates.exe"
   ]
  },
  {
   "cell_type": "code",
   "execution_count": null,
   "metadata": {
    "slideshow": {
     "slide_type": "-"
    }
   },
   "outputs": [],
   "source": [
    "!./tmp.expressions-templates.exe"
   ]
  },
  {
   "cell_type": "markdown",
   "metadata": {
    "slideshow": {
     "slide_type": "subslide"
    }
   },
   "source": [
    "### Exercice\n",
    "\n",
    "Modify the code above, so to test different variations :\n",
    "* a substraction;\n",
    "* **the sum of three tables**; \n",
    "* replacing the addresses pointing to the beginning of the tables by a call to `std::begin`, which works with either the raw tables or the other collections of the standard library;\n",
    "* replacing the array with `std::vector`;\n",
    "* factoring the operator `++` and the `Node` variables into a `NodeBase` base class."
   ]
  },
  {
   "cell_type": "markdown",
   "metadata": {
    "slideshow": {
     "slide_type": "slide"
    }
   },
   "source": [
    "## Construction of the intermediate structure for Vector\n",
    "\n",
    "Let's take our 'Vector' class and provide the methods `begin` and `end` which allow to build structures, as we\n",
    "did previously. Below, this leads to this new variant of `Vector`, and an implementation of operators that builds a `Node` structure."
   ]
  },
  {
   "cell_type": "code",
   "execution_count": null,
   "metadata": {
    "attributes": {
     "classes": [
      "cpp"
     ],
     "id": ""
    },
    "slideshow": {
     "slide_type": "subslide"
    }
   },
   "outputs": [],
   "source": [
    "%%file tmp.vector.h\n",
    "\n",
    "#include <iostream>\n",
    "#include \"tmp.nodes.h\"\n",
    "\n",
    "struct Vector\n",
    " {\n",
    "  double data[3] ;\n",
    "  // assignment\n",
    "  //...   \n",
    " } ;\n",
    "\n",
    "std::ostream & operator<<( std::ostream & os, Vector const & v ) \n",
    " { return (os<<v.data[0]<<\"|\"<<v.data[1]<<\"|\"<<v.data[2]) ; }\n",
    "\n",
    "#include \"tmp.vector-add.h\"\n",
    "#include \"tmp.vector-sub.h\""
   ]
  },
  {
   "cell_type": "code",
   "execution_count": null,
   "metadata": {
    "slideshow": {
     "slide_type": "subslide"
    }
   },
   "outputs": [],
   "source": [
    "%%file tmp.vector-add.h\n",
    "\n",
    "template <class Node1, class Node2>\n",
    "auto operator +(const Node1 & n1, const Node2 & n2)\n",
    " { return NodeAdd<Node1,Node2>{n1,n2} ; }\n",
    "\n",
    "template <class Node>\n",
    "auto operator +(Vector const & v, Node const & n)\n",
    " { return NodeAdd<double const *,Node>{v.data,n} ; }\n",
    "\n",
    "template <class Node>\n",
    "auto operator +(Node const & n, Vector const & v)\n",
    " { return NodeAdd<Node,double const *>{n,v.data} ; } \n",
    "\n",
    "auto operator +(Vector const & v1, Vector const & v2)\n",
    " { return NodeAdd<double const *,double const *>{v1.data,v2.data} ; }"
   ]
  },
  {
   "cell_type": "code",
   "execution_count": null,
   "metadata": {
    "slideshow": {
     "slide_type": "subslide"
    }
   },
   "outputs": [],
   "source": [
    "%%file tmp.vector-sub.h\n",
    "\n",
    "template <class Node1, class Node2>\n",
    "auto operator -(const Node1 & n1, const Node2 & n2)\n",
    " { return NodeSub<Node1,Node2>{n1,n2} ; }\n",
    "\n",
    "template <class Node>\n",
    "auto operator -(Vector const & v, Node const & n)\n",
    " { return NodeSub<double const *,Node>{v.data,n} ; }\n",
    "\n",
    "template <class Node>\n",
    "auto operator -(Node const & n, Vector const & v)\n",
    " { return NodeSub<Node,double const *>{n,v.data} ; } \n",
    "\n",
    "auto operator -(Vector const & v1, Vector const & v2)\n",
    " { return NodeSub<double const *,double const *>{v1.data,v2.data} ; }"
   ]
  },
  {
   "cell_type": "markdown",
   "metadata": {
    "slideshow": {
     "slide_type": "subslide"
    }
   },
   "source": [
    "### Exercice\n",
    "\n",
    "Below, we use the initial code of this course, and we would like it to compile and display the right result. Will you be able to add the missing assignment operator to the `tmp.vector.h` file above ?"
   ]
  },
  {
   "cell_type": "code",
   "execution_count": null,
   "metadata": {
    "attributes": {
     "classes": [
      "cpp"
     ],
     "id": ""
    }
   },
   "outputs": [],
   "source": [
    "%%file tmp.expressions-templates.cpp\n",
    "\n",
    "#include \"tmp.vector.h\"\n",
    "\n",
    "int main()\n",
    " {\n",
    "  Vector v1{1,2,3}, v2{0.1,0.2,0.3}, v3{0.01,0.02,0.03}, v4{0,0,0} ;\n",
    "  v4 = v1+(v2-v3) ;\n",
    "  std::cout<<v4<<std::endl ;\n",
    "  return 0 ;\n",
    " }"
   ]
  },
  {
   "cell_type": "code",
   "execution_count": null,
   "metadata": {
    "attributes": {
     "classes": [
      "cpp"
     ],
     "id": ""
    }
   },
   "outputs": [],
   "source": [
    "!rm -f tmp.expressions-templates.exe && g++ -std=c++17 tmp.expressions-templates.cpp -o tmp.expressions-templates.exe"
   ]
  },
  {
   "cell_type": "code",
   "execution_count": null,
   "metadata": {},
   "outputs": [],
   "source": [
    "!./tmp.expressions-templates.exe"
   ]
  },
  {
   "cell_type": "markdown",
   "metadata": {},
   "source": [
    "© *CNRS 2021*  \n",
    "*This document was created by David Chamont and translated by Patricia Mary. It is available under the [License Creative Commons - Attribution - No commercial use - Shared under the conditions 4.0 International](http://creativecommons.org/licenses/by-nc-sa/4.0/)*"
   ]
  }
 ],
 "metadata": {
  "celltoolbar": "Diaporama",
  "kernelspec": {
   "display_name": "C++17",
   "language": "C++17",
   "name": "xcpp17"
  },
  "language_info": {
   "codemirror_mode": "text/x-c++src",
   "file_extension": ".cpp",
   "mimetype": "text/x-c++src",
   "name": "c++",
   "version": "17"
  }
 },
 "nbformat": 4,
 "nbformat_minor": 2
}
