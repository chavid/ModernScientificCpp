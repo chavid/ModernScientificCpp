{
 "cells": [
  {
   "cell_type": "markdown",
   "metadata": {},
   "source": [
    "# Categories and traits"
   ]
  },
  {
   "cell_type": "markdown",
   "metadata": {},
   "source": [
    "## Motivation\n",
    "\n",
    "One of the small utilities in the standard library is the `advance` function, which moves an iterator with a given number of steps :"
   ]
  },
  {
   "cell_type": "code",
   "execution_count": 1,
   "metadata": {},
   "outputs": [],
   "source": [
    "template<typename IterT, typename DistT>   // move iter d units forward\n",
    "void advance( IterT & iter, DistT d ) ;    // or backward (if d<0)"
   ]
  },
  {
   "cell_type": "markdown",
   "metadata": {},
   "source": [
    "Conceptually, it's just a matter of doing `iter+=d`, but the `+=` operator is only available for direct access iterators. For the others, `++` or `--` opeartos must be applied as many times as necessary.\n",
    "\n",
    "`advance()` can be written based on the smallest common iterator behavior, but it would be a shame to have linear time execution all the time, whereas for direct access iterators we could benefit from a constant time execution. A pseudo-code can be written like this :"
   ]
  },
  {
   "cell_type": "code",
   "execution_count": 2,
   "metadata": {},
   "outputs": [
    {
     "name": "stderr",
     "output_type": "stream",
     "text": [
      "\u001b[1minput_line_8:4:7: \u001b[0m\u001b[0;1;31merror: \u001b[0m\u001b[1munknown type name 'iter'\u001b[0m\n",
      "  if (iter is a random access iterator)\n",
      "\u001b[0;1;32m      ^\n",
      "\u001b[0m\u001b[1minput_line_8:4:12: \u001b[0m\u001b[0;1;31merror: \u001b[0m\u001b[1mvariable declaration in condition must have an initializer\u001b[0m\n",
      "  if (iter is a random access iterator)\n",
      "\u001b[0;1;32m           ^\n",
      "\u001b[0m"
     ]
    },
    {
     "ename": "Interpreter Error",
     "evalue": "",
     "output_type": "error",
     "traceback": [
      "Interpreter Error: "
     ]
    }
   ],
   "source": [
    "template<typename IterT, typename DistT>\n",
    "void advance(IterT& iter, DistT d)\n",
    " {\n",
    "  if (iter is a random access iterator)\n",
    "   {\n",
    "     iter += d ;                                      // use iterator arithmetic\n",
    "   }                                                  // for random access iters\n",
    "  else\n",
    "   {\n",
    "    if (d >= 0) { while (d--) ++iter ; }              // use iterative calls to\n",
    "    else { while (d++) --iter ; }                     // ++ or -- for other\n",
    "   }                                                  // iterator categories\n",
    " }"
   ]
  },
  {
   "cell_type": "markdown",
   "metadata": {},
   "source": [
    "How to write code that selects the best implementation at the compilation, depending on whether `+=` is available or not for `IterT`?"
   ]
  },
  {
   "cell_type": "markdown",
   "metadata": {},
   "source": [
    "## Iterators and categories for the Standard library\n",
    "\n",
    "There are five categories of iterators, offering increasing functionality :\n",
    "* **Input iterators** can only go forward, one step at a time, can only read what they point to,\n",
    " and can only read it once. They are designed like the play pointer of a file.\n",
    " `istream_iterator` is representative of this category.\n",
    "* **Output iterators** are analogous to the fact that they can only write what they point to.\n",
    " `ostream_iterator` is representative of this category.\n",
    " `istream_iterator` and `ostream_iterator` are very limited and are only suitable for single pass algorithms.\n",
    "* The **front iterators** combine the capacities of the two previous ones, and can read/write the data pointed several times.\n",
    "  Therefore, they are  suitable for multiple pass algorithms.\n",
    "  Simply linked list `forward_list` and hash-table containers such as `unordered_set` provide forward iterators.\n",
    "* **Bidirectional iterators** add the ability to reverse.\n",
    " Iterators of Standard containers can be find in this category\n",
    "  such as `list`, `set`, `multiset`, `map`, and `multimap`.\n",
    "* **Direct access iterators** add the ability to jump forward and backward,\n",
    "  in constant time, comparable to ordinary pointer arithmetic.\n",
    "  Leave the iterators of the `vector`, `deque`, and `string` classes to this category."
   ]
  },
  {
   "cell_type": "markdown",
   "metadata": {},
   "source": [
    "For each of these categories, the standard library defines an empty structure :\n",
    "\n",
    "```c++\n",
    "struct input_iterator_tag {} ;\n",
    "struct output_iterator_tag {} ;\n",
    "struct forward_iterator_tag: public input_iterator_tag {} ;\n",
    "struct bidirectional_iterator_tag: public forward_iterator_tag {} ;\n",
    "struct random_access_iterator_tag: public bidirectional_iterator_tag {} ;\n",
    "```\n",
    "\n",
    "The above inheritance expresses a \"is kind of\" relation, and it will be seen later how to use it.\n",
    "\n",
    "To mark their belonging in one of the above categories, most iterators in the standard library contain a nested type alias named `iterator_category`, which points to the corresponding above empty structure."
   ]
  },
  {
   "cell_type": "markdown",
   "metadata": {},
   "source": [
    "## Using these categories\n",
    "\n",
    "One can imagine to write `advance` like this :"
   ]
  },
  {
   "cell_type": "code",
   "execution_count": 3,
   "metadata": {},
   "outputs": [],
   "source": [
    "template<typename IterT, typename DistT>\n",
    "void advance( IterT & iter, DistT d )\n",
    " {\n",
    "  if (typeid(typename IterT::iterator_category) ==\n",
    "      typeid(std::random_access_iterator_tag))\n",
    "   { iter += d ; } \n",
    "  else\n",
    "   {\n",
    "    if (d >= 0) { while (d--) ++iter ; }\n",
    "    else { while (d++) --iter ; }\n",
    "   }\n",
    " }"
   ]
  },
  {
   "cell_type": "markdown",
   "metadata": {},
   "source": [
    "This looks promising, but it is not satisfactory to keep an `if`, which will consume time at execution and make the code heavier, while all the information is available at the compilation, and should make it possible to know which branch of the `if` will always be applied. In fact, this code does not even compile, because in the presence of a non-direct iterator, the compiler tries to compile the whole function, and fails on the `+=`."
   ]
  },
  {
   "cell_type": "markdown",
   "metadata": {},
   "source": [
    "**We look for a way to choose, at compile time, which piece of code should be used, depending on the involved types**. This mean has already existed in C++ : it is the *resolution of the overload*. Indeed, the overload makes it possible to have several functions with the same name, and when a call to this function name must be compiled, the compiler chooses, according to the arguments of the call, the real function to be executed. One just has to insert an instance of one of the above iterator categories, and it will trigger the selection of the most appropriate function."
   ]
  },
  {
   "cell_type": "markdown",
   "metadata": {},
   "source": [
    "To apply this principle to `advance()`, most of its content must be delegated to an external parameterized function, in which an additional category type argument must be included :"
   ]
  },
  {
   "cell_type": "code",
   "execution_count": 4,
   "metadata": {},
   "outputs": [],
   "source": [
    "#include <iostream>"
   ]
  },
  {
   "cell_type": "code",
   "execution_count": 5,
   "metadata": {
    "attributes": {
     "classes": [
      "cpp"
     ],
     "id": ""
    }
   },
   "outputs": [],
   "source": [
    "template< typename IterT, typename DistT >              // use this impl for\n",
    "void do_advance( IterT & iter, DistT d,                  // random access\n",
    "                std::random_access_iterator_tag )       // iterators\n",
    " {\n",
    "  iter += d ;\n",
    "  std::cout<<\"(random advance)\"<<std::endl ;\n",
    " }"
   ]
  },
  {
   "cell_type": "code",
   "execution_count": 6,
   "metadata": {
    "attributes": {
     "classes": [
      "cpp"
     ],
     "id": ""
    }
   },
   "outputs": [],
   "source": [
    "template< typename IterT, typename DistT >              // use this impl for\n",
    "void do_advance( IterT & iter, DistT d,                  // bidirectional\n",
    "                std::bidirectional_iterator_tag )        // iterators\n",
    " {\n",
    "  if (d >= 0) { while (d--) ++iter ; }\n",
    "  else { while (d++) --iter ; }\n",
    "  std::cout<<\"(bidirectional advance)\"<<std::endl ;\n",
    " }"
   ]
  },
  {
   "cell_type": "code",
   "execution_count": 7,
   "metadata": {
    "attributes": {
     "classes": [
      "cpp"
     ],
     "id": ""
    }
   },
   "outputs": [],
   "source": [
    "template< typename IterT, typename DistT >              // use this impl for\n",
    "void do_advance( IterT & iter, DistT d,                  // input iterators\n",
    "                std::input_iterator_tag )\n",
    " {\n",
    "  if (d < 0 )\n",
    "   { throw std::out_of_range(\"Negative distance\") ; } // see below\n",
    "  while (d--) ++iter ;\n",
    "  std::cout<<\"(forward advance)\"<<std::endl ;\n",
    " }"
   ]
  },
  {
   "cell_type": "markdown",
   "metadata": {},
   "source": [
    "Because the `forward_iterator_tag` category inherits from `input_iterator_tag`, the corresponding `doAdvance()` can handle both cases, and a specific implementation for each type of input iterator is now obtained. All that's left to do in `advance()` is to call `doAdvance()` dragging the appropriate temporary object :"
   ]
  },
  {
   "cell_type": "code",
   "execution_count": 8,
   "metadata": {
    "attributes": {
     "classes": [
      "cpp"
     ],
     "id": ""
    }
   },
   "outputs": [],
   "source": [
    "template<typename IterT, typename DistT>\n",
    "void my_advance( IterT & iter, DistT d )\n",
    " {\n",
    "  do_advance\n",
    "   (\n",
    "    iter, d,                            // call the version of doAdvance\n",
    "    typename IterT::iterator_category() // appropriate for iter's iterator category\n",
    "   ) ;                                  \n",
    " }                                  "
   ]
  },
  {
   "cell_type": "code",
   "execution_count": 18,
   "metadata": {
    "attributes": {
     "classes": [
      "cpp"
     ],
     "id": ""
    }
   },
   "outputs": [],
   "source": [
    "#include <forward_list>\n",
    "#include <list>\n",
    "#include <vector>"
   ]
  },
  {
   "cell_type": "code",
   "execution_count": 19,
   "metadata": {
    "attributes": {
     "classes": [
      "cpp"
     ],
     "id": ""
    }
   },
   "outputs": [
    {
     "name": "stdout",
     "output_type": "stream",
     "text": [
      "(forward advance)\n"
     ]
    }
   ],
   "source": [
    "std::forward_list<int> fl_data = { 1, 2, 3, 4, 5 } ;\n",
    "auto fl_itr = fl_data.begin() ;\n",
    "my_advance(fl_itr,2) ;"
   ]
  },
  {
   "cell_type": "code",
   "execution_count": 20,
   "metadata": {
    "attributes": {
     "classes": [
      "cpp"
     ],
     "id": ""
    }
   },
   "outputs": [
    {
     "name": "stdout",
     "output_type": "stream",
     "text": [
      "(bidirectional advance)\n"
     ]
    }
   ],
   "source": [
    "std::list<int> l_data = { 1, 2, 3, 4, 5 } ;\n",
    "auto l_itr = l_data.begin() ;\n",
    "my_advance(l_itr,2) ;"
   ]
  },
  {
   "cell_type": "code",
   "execution_count": 21,
   "metadata": {
    "attributes": {
     "classes": [
      "cpp"
     ],
     "id": ""
    }
   },
   "outputs": [
    {
     "name": "stdout",
     "output_type": "stream",
     "text": [
      "(random advance)\n"
     ]
    }
   ],
   "source": [
    " \n",
    "std::vector<int> v_data = { 1, 2, 3, 4, 5 } ;\n",
    "auto v_itr = v_data.begin() ;\n",
    "my_advance(v_itr,2) ;    "
   ]
  },
  {
   "cell_type": "markdown",
   "metadata": {},
   "source": [
    "Categories usage can be summarized as the following :\n",
    "* create a set of work functions (`do_advance` in the example), parameterized or not,\n",
    "  which differ by an argument of type category, and optimize each function according to this category.\n",
    "* create a main function (`my_advance` in the example), parameterized or not,\n",
    "  which calls the working function by adding the category information."
   ]
  },
  {
   "cell_type": "markdown",
   "metadata": {},
   "source": [
    "## Traits usage\n",
    "\n",
    "The previous approach still suffers from a flaw : because a nested type must be defined in the iterators, the raw C++ pointers cannot be processed in this way, although they are also iterators."
   ]
  },
  {
   "cell_type": "code",
   "execution_count": 10,
   "metadata": {
    "attributes": {
     "classes": [
      "cpp"
     ],
     "id": ""
    }
   },
   "outputs": [
    {
     "name": "stderr",
     "output_type": "stream",
     "text": [
      "\u001b[1minput_line_14:7:14: \u001b[0m\u001b[0;1;31merror: \u001b[0m\u001b[1mtype 'int *' cannot be used prior to '::' because it has no members\u001b[0m\n",
      "    typename IterT::iterator_category() // appropriate for iter's iterator category\n",
      "\u001b[0;1;32m             ^\n",
      "\u001b[0m\u001b[1minput_line_17:4:1: \u001b[0m\u001b[0;1;30mnote: \u001b[0min instantiation of function template specialization '__cling_N58::my_advance<int *, int>' requested here\u001b[0m\n",
      "my_advance(itr,2) ;\n",
      "\u001b[0;1;32m^\n",
      "\u001b[0m"
     ]
    },
    {
     "ename": "Interpreter Error",
     "evalue": "",
     "output_type": "error",
     "traceback": [
      "Interpreter Error: "
     ]
    }
   ],
   "source": [
    "int data[5] = { 1, 2, 3, 4, 5 } ;\n",
    "auto itr = &data[0] ;\n",
    "my_advance(itr,2) ;"
   ]
  },
  {
   "cell_type": "markdown",
   "metadata": {},
   "source": [
    "Whatever set of classes you want to \"tag\" with categories, you will get a similar problem if some of those classes are not under your control, and cannot be modified. They have to be extended **from outside**."
   ]
  },
  {
   "cell_type": "markdown",
   "metadata": {},
   "source": [
    "A solution is to create a template, parameterized by the type to extend, as well as a set of specializations. For the iterators of the standard library, this template exists and it is called `iterator_traits` :"
   ]
  },
  {
   "cell_type": "code",
   "execution_count": 11,
   "metadata": {},
   "outputs": [],
   "source": [
    "template<typename IterT>  // template for information about\n",
    "struct iterator_traits ;  // iterator types"
   ]
  },
  {
   "cell_type": "markdown",
   "metadata": {},
   "source": [
    "By convention, it is a `struct` (elements are public by default), whose name includes \"traits\", and which contains only elements accessible statically through the class operator, such as typedefs or static variables. In the case of `iterator_traits`, a `typedef` is here : it is named `iterator_category` and refers to one of the usual categories."
   ]
  },
  {
   "cell_type": "markdown",
   "metadata": {},
   "source": [
    "Writing `iterator_traits` relies on two cases. In one hand, the iterators of the containers in the standard library are already supposed to define internally their own alias `iterator_category`, which can be taken from the general default implementation :"
   ]
  },
  {
   "cell_type": "code",
   "execution_count": 12,
   "metadata": {},
   "outputs": [],
   "source": [
    "template<typename IterT>\n",
    "struct iterator_traits\n",
    " {\n",
    "  typedef typename IterT::iterator_category iterator_category ;\n",
    "  // ...\n",
    " } ;"
   ]
  },
  {
   "cell_type": "markdown",
   "metadata": {},
   "source": [
    "It is then sufficient to complete with a partial specialization to deal with the case of ordinary pointers, which can be considered as belonging to the category \"random access\" :"
   ]
  },
  {
   "cell_type": "code",
   "execution_count": 14,
   "metadata": {},
   "outputs": [],
   "source": [
    "template< typename IterT >               // partial template specialization\n",
    "struct iterator_traits< IterT * >      // for built-in pointer types\n",
    " {\n",
    "  typedef std::random_access_iterator_tag iterator_category ;\n",
    "  // ...\n",
    " } ;"
   ]
  },
  {
   "cell_type": "markdown",
   "metadata": {},
   "source": [
    "The implementation of `my_advance()` can be revised using traits, which make it usable with simple pointers as well :"
   ]
  },
  {
   "cell_type": "code",
   "execution_count": 15,
   "metadata": {
    "attributes": {
     "classes": [
      "cpp"
     ],
     "id": ""
    }
   },
   "outputs": [],
   "source": [
    "template<typename IterT, typename DistT>\n",
    "void my_advance_2( IterT & iter, DistT d )\n",
    " {\n",
    "  do_advance\n",
    "   (    \n",
    "    iter, d,                                                  // call the version of doAdvance\n",
    "    typename std::iterator_traits<IterT>::iterator_category() // appropriate for iter's iterator category\n",
    "   ) ;                                  \n",
    " }                                  "
   ]
  },
  {
   "cell_type": "code",
   "execution_count": 16,
   "metadata": {
    "attributes": {
     "classes": [
      "cpp"
     ],
     "id": ""
    }
   },
   "outputs": [
    {
     "name": "stdout",
     "output_type": "stream",
     "text": [
      "(random advance)\n"
     ]
    }
   ],
   "source": [
    "int data[5] = { 1, 2, 3, 4, 5 } ;\n",
    "auto itr = &data[0] ;\n",
    "my_advance_2(itr,2) ;"
   ]
  },
  {
   "cell_type": "markdown",
   "metadata": {},
   "source": [
    "## Traits in the standard library"
   ]
  },
  {
   "cell_type": "markdown",
   "metadata": {},
   "source": [
    "Traits are widely used in the standard library. There is `iterator_traits`, of course, which defines `iterator_category` together with adiitional information, including the very useful `value_type`, the type of the pointed data."
   ]
  },
  {
   "cell_type": "markdown",
   "metadata": {},
   "source": [
    "Traits can also define functions, as does `numeric_limits`, which provides information about numeric types, such as their minimum and maximum values."
   ]
  },
  {
   "cell_type": "code",
   "execution_count": 24,
   "metadata": {},
   "outputs": [],
   "source": [
    "#include<iostream>\n",
    "#include <iterator>\n",
    "#include <limits>"
   ]
  },
  {
   "cell_type": "code",
   "execution_count": 25,
   "metadata": {},
   "outputs": [],
   "source": [
    "template< typename Itr >\n",
    "typename std::iterator_traits<Itr>::value_type max ( Itr begin, Itr end )\n",
    " {\n",
    "  using value_type = typename std::iterator_traits<Itr>::value_type ;\n",
    "  value_type max_value = std::numeric_limits<value_type>::min() ;\n",
    "  while ( begin != end )\n",
    "   {\n",
    "    if (*begin>max_value) max_value = *begin ;\n",
    "    begin++ ;\n",
    "   }\n",
    "  return max_value ;\n",
    " }"
   ]
  },
  {
   "cell_type": "code",
   "execution_count": 26,
   "metadata": {},
   "outputs": [
    {
     "name": "stdout",
     "output_type": "stream",
     "text": [
      "5\n"
     ]
    }
   ],
   "source": [
    "int data[5] = { 1, 2, 3, 4, 5 } ;\n",
    "std::cout<<max(&data[0],&data[5])<<std::endl ;"
   ]
  },
  {
   "cell_type": "markdown",
   "metadata": {},
   "source": [
    "Traits can also define static variables. Within the `type_traits` header file, the library defines a very large number of traits that allow you to test the properties of the type `T`, passed as a parameter. Rather than defining a single large structure, which would contain a boolean variable for each property, the authors have preferred to make a distinct trait for each property, with a single boolean variable named `value`. This approach improves the \"composability\" of those traits."
   ]
  },
  {
   "cell_type": "markdown",
   "metadata": {},
   "source": [
    "Below, a parameterized function has been defined to ensure that it is fast, which requires the type `T` to be \"movable\". The use of a `static_assert`, and of the traits `is_move_constructible` and `is_move_assignable` allows to ensure it :"
   ]
  },
  {
   "cell_type": "code",
   "execution_count": 28,
   "metadata": {},
   "outputs": [],
   "source": [
    "#include <iostream>\n",
    "#include <string>\n",
    "#include <type_traits>"
   ]
  },
  {
   "cell_type": "code",
   "execution_count": 29,
   "metadata": {},
   "outputs": [],
   "source": [
    "template< typename T >\n",
    "void swap( T & v1, T & v2 )\n",
    " {\n",
    "  static_assert(std::is_move_constructible<T>::value,\"Swap requires moving\");\n",
    "  static_assert(std::is_move_assignable<T>::value,\"Swap requires moving\");\n",
    "  auto tmp = std::move(v1) ;\n",
    "  v1 = std::move(v2) ;\n",
    "  v2 = std::move(tmp) ;\n",
    " }"
   ]
  },
  {
   "cell_type": "code",
   "execution_count": 30,
   "metadata": {},
   "outputs": [
    {
     "name": "stdout",
     "output_type": "stream",
     "text": [
      "hello world\n"
     ]
    }
   ],
   "source": [
    "std::string mot1 = \"world\" ;\n",
    "std::string mot2 = \"hello\" ;\n",
    "swap(mot1,mot2) ;\n",
    "std::cout<<mot1<<\" \"<<mot2<<std::endl ;"
   ]
  },
  {
   "cell_type": "code",
   "execution_count": 31,
   "metadata": {},
   "outputs": [
    {
     "name": "stderr",
     "output_type": "stream",
     "text": [
      "\u001b[1minput_line_36:4:3: \u001b[0m\u001b[0;1;31merror: \u001b[0m\u001b[1mstatic_assert failed \"Swap requires moving\"\u001b[0m\n",
      "  static_assert(std::is_move_constructible<T>::value,\"Swap requires moving\");\n",
      "\u001b[0;1;32m  ^             ~~~~~~~~~~~~~~~~~~~~~~~~~~~~~~~~~~~~\n",
      "\u001b[0m\u001b[1minput_line_38:4:1: \u001b[0m\u001b[0;1;30mnote: \u001b[0min instantiation of function template specialization '__cling_N522::swap<char [5]>' requested here\u001b[0m\n",
      "swap(mot1,mot2) ;\n",
      "\u001b[0;1;32m^\n",
      "\u001b[0m\u001b[1minput_line_36:5:3: \u001b[0m\u001b[0;1;31merror: \u001b[0m\u001b[1mstatic_assert failed \"Swap requires moving\"\u001b[0m\n",
      "  static_assert(std::is_move_assignable<T>::value,\"Swap requires moving\");\n",
      "\u001b[0;1;32m  ^             ~~~~~~~~~~~~~~~~~~~~~~~~~~~~~~~~~\n",
      "\u001b[0m\u001b[1minput_line_36:7:6: \u001b[0m\u001b[0;1;31merror: \u001b[0m\u001b[1marray type 'char [5]' is not assignable\u001b[0m\n",
      "  v1 = std::move(v2) ;\n",
      "\u001b[0;1;32m  ~~ ^\n",
      "\u001b[0m\u001b[1minput_line_36:8:6: \u001b[0m\u001b[0;1;31merror: \u001b[0m\u001b[1marray type 'char [5]' is not assignable\u001b[0m\n",
      "  v2 = std::move(tmp) ;\n",
      "\u001b[0;1;32m  ~~ ^\n",
      "\u001b[0m"
     ]
    },
    {
     "ename": "Interpreter Error",
     "evalue": "",
     "output_type": "error",
     "traceback": [
      "Interpreter Error: "
     ]
    }
   ],
   "source": [
    "char mot1[5] = { 'w','o','r','l','d' } ;\n",
    "char mot2[5] = { 'h','e','l','l','o' } ;\n",
    "swap(mot1,mot2) ;\n",
    "for ( auto c : mot1 ) std::cout<<c ;\n",
    "std::cout<<\" \" ;\n",
    "for ( auto c : mot2 ) std::cout<<c ;\n",
    "std::cout<<std::endl ;"
   ]
  },
  {
   "cell_type": "markdown",
   "metadata": {},
   "source": [
    "## To remember"
   ]
  },
  {
   "cell_type": "markdown",
   "metadata": {},
   "source": [
    "- In order to organize a set of classes, some empty types can be defined, or \"categories\", possibly with inheritance links, and each original class can be equipped with a type alias refering to one of these categories."
   ]
  },
  {
   "cell_type": "markdown",
   "metadata": {},
   "source": [
    "- Combined with the overload, the categories allow to realize at compile time a kind of `if...else`."
   ]
  },
  {
   "cell_type": "markdown",
   "metadata": {},
   "source": [
    "- Traits allow to associate a category with classes (as well as other properties) from the outside, without having to modify the class. Therefore, they also allow to do it with the predefined types and the classes which are not under your control."
   ]
  },
  {
   "cell_type": "markdown",
   "metadata": {},
   "source": [
    "- Traits are written by using templates and specializations."
   ]
  },
  {
   "cell_type": "markdown",
   "metadata": {},
   "source": [
    "## Exercise\n",
    "\n",
    "In the code below, the timing of the testers make it possible to compare the copy and the move of a `std::string`, by comparing `StringCopy` and `StringMove`. For `Accumulate`, timing is not essential since we mainly care for the computation precision. We would like that the decision to time or not, rather than based on a run-time argument, relies on a test by test compile-time mechanism."
   ]
  },
  {
   "cell_type": "markdown",
   "metadata": {},
   "source": [
    "### 1. Categories\n",
    "\n",
    "1.  Create two empty classes `TestTag` and` TestChronoTag`, and define a nested type `category` in `StringCopy` and `StringMove`, which will be an alias of `TestChronoTag`, and a nested type `category` in `Accumulate`, which will be an alias of `TestTag`.\n",
    "2.  Modify the `execute_single_test()` code so that it does or not the timing, depending on whether the current `Test` is of an alias of `TestChronoTag` or `TestTag`."
   ]
  },
  {
   "cell_type": "markdown",
   "metadata": {},
   "source": [
    "### 2. Traits\n",
    "\n",
    "Imagine that the `Accumulate` class is not under your control, and that you cannot insert the `category` definition by yourself, as you did previously. Instead, create a trait class that has the default implementation of the nested tester category, which will work fine with `StringCopy` and `StringMove`, and specialize it for `Accumulate`."
   ]
  },
  {
   "cell_type": "code",
   "execution_count": 71,
   "metadata": {
    "jupyter": {
     "outputs_hidden": true
    }
   },
   "outputs": [
    {
     "name": "stdout",
     "output_type": "stream",
     "text": [
      "Overwriting tmp.categories-and-traits.cpp\n"
     ]
    }
   ],
   "source": [
    "%%file tmp.categories-and-traits.cpp\n",
    "\n",
    "#include <iostream>\n",
    "#include <chrono>\n",
    "#include <type_traits>\n",
    "#include <string>\n",
    "\n",
    "// tests\n",
    "\n",
    "struct StringCopy\n",
    " {\n",
    "  char const * const title\n",
    "   {\"Timing a std::string copy\"} ;\n",
    "  void operator()() const\n",
    "   {\n",
    "    std::string s1 {\"dummy\"}, s2 ;\n",
    "    for ( int i = 0 ; i<1000 ; ++i )\n",
    "    {\n",
    "     if (i%2) s2 = s1 ;\n",
    "     else s1 = s2 ;\n",
    "    }\n",
    "   }\n",
    " } ;\n",
    "\n",
    "struct StringMove\n",
    " {\n",
    "  char const * const title\n",
    "   {\"Timing a std::string move\"} ;\n",
    "  void operator()() const\n",
    "   {\n",
    "    std::string s1 {\"dummy\"}, s2 ;\n",
    "    for ( int i = 0 ; i<1000 ; ++i )\n",
    "     {\n",
    "     if (i%2) s2 = std::move(s1) ;\n",
    "     else s1 = std::move(s2) ;\n",
    "     }\n",
    "   }\n",
    " } ;\n",
    "    \n",
    "struct Accumulate\n",
    " {\n",
    "  char const * const title\n",
    "   {\"Test accumulating 0.1\"} ;\n",
    "  void operator()() const\n",
    "   {\n",
    "    std::cout.precision(18) ;\n",
    "    double acc {} ;\n",
    "    for ( int i = 0 ; i<10 ; ++i )\n",
    "     {\n",
    "      acc += 0.1 ;\n",
    "      std::cout<<acc<<std::endl ;\n",
    "    }\n",
    "   }\n",
    " } ;\n",
    " \n",
    "// execution generic framework\n",
    "\n",
    "template< typename TestT >\n",
    "void execute_single_test( bool chrono )\n",
    " {\n",
    "  TestT test ;\n",
    "\n",
    "  std::cout<<std::endl ;\n",
    "  std::cout<<\"== \" ;\n",
    "  std::cout<<(test.title)<<std::endl ;\n",
    "\n",
    "  if (chrono)\n",
    "   {\n",
    "    using namespace std::chrono ;\n",
    "    auto t1 = steady_clock::now() ;\n",
    "   \n",
    "    test() ;\n",
    "     \n",
    "    auto t2 = steady_clock::now() ;\n",
    "    std::cout<<\"Execution time: \"\n",
    "      <<duration_cast<microseconds>(t2-t1).count()\n",
    "      <<\" us.\"<<std::endl ;\n",
    "   }\n",
    "  else test() ;\n",
    " }\n",
    "\n",
    "template< typename... TestTs >\n",
    "void execute( bool chrono )\n",
    " { ( execute_single_test<TestTs>(chrono) , ... ) ; }\n",
    "\n",
    "// main program\n",
    "\n",
    "int main()\n",
    " {\n",
    "  execute<StringCopy,StringMove>(true) ;\n",
    "  execute<Accumulate>(false) ;\n",
    " }\n"
   ]
  },
  {
   "cell_type": "code",
   "execution_count": 72,
   "metadata": {
    "jupyter": {
     "outputs_hidden": true
    }
   },
   "outputs": [
    {
     "name": "stdout",
     "output_type": "stream",
     "text": [
      "\n",
      "== Timing a std::string copy\n",
      "Execution time: 18 us.\n",
      "\n",
      "== Timing a std::string move\n",
      "Execution time: 11 us.\n",
      "\n",
      "== Test accumulating 0.1\n",
      "0.100000000000000006\n",
      "0.200000000000000011\n",
      "0.300000000000000044\n",
      "0.400000000000000022\n",
      "0.5\n",
      "0.599999999999999978\n",
      "0.699999999999999956\n",
      "0.799999999999999933\n",
      "0.899999999999999911\n",
      "0.999999999999999889\n"
     ]
    }
   ],
   "source": [
    "! ( g++ -std=c++17 -Wall -pedantic-errors tmp.categories-and-traits.cpp && ./a.out )"
   ]
  },
  {
   "cell_type": "markdown",
   "metadata": {},
   "source": [
    "## References\n",
    "\n",
    "* [Effective Modern C++](http://www.amazon.fr/Effective-Modern-C-Scott-Meyers/dp/1491903996/ref=sr_1_2?ie=UTF8&qid=1410853138&sr=8-2&keywords=effective+C%2B%2B)"
   ]
  },
  {
   "cell_type": "markdown",
   "metadata": {},
   "source": [
    "© *CNRS 2021*  \n",
    "*Assembled and written in french by David Chamont, translated by Karim Hasnaoui, this work is made available according to the terms of the*  \n",
    "[*Creative Commons License - Attribution - NonCommercial - ShareAlike 4.0 International*](http://creativecommons.org/licenses/by-nc-sa/4.0/)"
   ]
  }
 ],
 "metadata": {
  "kernelspec": {
   "display_name": "C++17",
   "language": "C++17",
   "name": "xcpp17"
  },
  "language_info": {
   "codemirror_mode": "text/x-c++src",
   "file_extension": ".cpp",
   "mimetype": "text/x-c++src",
   "name": "c++",
   "version": "17"
  }
 },
 "nbformat": 4,
 "nbformat_minor": 4
}
