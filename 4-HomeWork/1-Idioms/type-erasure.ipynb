{
 "cells": [
  {
   "cell_type": "markdown",
   "metadata": {},
   "source": [
    "# Type Erasure\n",
    "\n",
    "The expression could refer to any technique aimed at hiding a type. In the context of modern C++, it refers to a specific technique to replace a type parameter by object polymorphism, without the end user needing to be aware of it. We describe it below."
   ]
  },
  {
   "cell_type": "markdown",
   "metadata": {},
   "source": [
    "## Motivation\n",
    "\n",
    "Let's imagine one wants to write some generic code, able to deal with any kind of particle, such as:\n",
    "```\n",
    "void print( Particle const & p )\n",
    " { std::cout<<p.name()<<std::endl ; }\n",
    "```\n",
    "\n",
    "The good old object-oriented solution would be to define some common abstract with virtual member functions:"
   ]
  },
  {
   "cell_type": "code",
   "execution_count": 16,
   "metadata": {},
   "outputs": [
    {
     "name": "stdout",
     "output_type": "stream",
     "text": [
      "Overwriting tmp.type-erasure.cpp\n"
     ]
    }
   ],
   "source": [
    "%%file tmp.type-erasure.cpp\n",
    "\n",
    "#include <iostream>\n",
    "#include <string_view>\n",
    "#include <vector>\n",
    "#include <ctime>\n",
    "\n",
    "struct Particle\n",
    "{\n",
    " virtual ~Particle() {}\n",
    " virtual std::string_view name() const = 0 ;\n",
    "} ;\n",
    "\n",
    "struct Electron : public Particle { std::string_view name() const { return \"Electron\" ; } } ;\n",
    "struct Proton : public Particle { std::string_view name() const { return \"Proton\" ; } } ;\n",
    "struct Neutron : public Particle{ std::string_view name() const { return \"Neutron\" ; } } ;\n",
    "\n",
    "void print( Particle const & p )\n",
    " { std::cout<<p.name()<<std::endl ; }\n",
    " \n",
    "Particle * new_particle()\n",
    " {\n",
    "  const int NB = 3 ;\n",
    "  int num = NB*(std::rand()/(double(RAND_MAX)+1)) ;\n",
    "  switch (num)\n",
    "   {\n",
    "    case 0: return new Electron() ;\n",
    "    case 1: return new Proton() ;\n",
    "    case 2: return new Neutron() ;\n",
    "   }\n",
    "  return 0 ;\n",
    " }\n",
    " \n",
    "int main()\n",
    "{\n",
    " std::srand(time(0)) ;\n",
    " std::vector<Particle *> particles ;\n",
    " particles.push_back(new_particle()) ;\n",
    " particles.push_back(new_particle()) ;\n",
    " particles.push_back(new_particle()) ;\n",
    "\n",
    " for ( auto * p : particles )\n",
    "  { print(*p) ; }\n",
    "}"
   ]
  },
  {
   "cell_type": "code",
   "execution_count": 17,
   "metadata": {},
   "outputs": [],
   "source": [
    "!rm -f tmp.type-erasure.exe && g++ -std=c++17 tmp.type-erasure.cpp -o tmp.type-erasure.exe"
   ]
  },
  {
   "cell_type": "code",
   "execution_count": 23,
   "metadata": {},
   "outputs": [
    {
     "name": "stdout",
     "output_type": "stream",
     "text": [
      "Electron\n",
      "Neutron\n",
      "Electron\n"
     ]
    }
   ],
   "source": [
    "!./tmp.type-erasure.exe"
   ]
  },
  {
   "cell_type": "markdown",
   "metadata": {},
   "source": [
    "Drawbacks of this approach:\n",
    "- sometimes you would like to include types which are not under your control, and which you cannot make inherit from your abstract class `Particle`.\n",
    "- the call to `name()` is slow, because it is indirectly solved at runtime."
   ]
  },
  {
   "cell_type": "markdown",
   "metadata": {},
   "source": [
    "Well, if all your classes comply to some implicit interface (the `name()` function), the template feature can do the job : "
   ]
  },
  {
   "cell_type": "code",
   "execution_count": 1,
   "metadata": {
    "attributes": {
     "classes": [
      "cpp"
     ],
     "id": ""
    }
   },
   "outputs": [],
   "source": [
    "%%file tmp.type-erasure.cpp\n",
    "\n",
    "#include <iostream>\n",
    "#include <string_view>\n",
    "\n",
    "struct Electron { std::string_view name() const { return \"Electron\" ; } } ;\n",
    "struct Proton { std::string_view name() const { return \"Proton\" ; } } ;\n",
    "struct Neutron { std::string_view name() const { return \"Neutron\" ; } } ;\n",
    "\n",
    "template< typename Particle >\n",
    "void print( Particle const & p )\n",
    " { std::cout<<p.name()<<std::endl ; }\n",
    " \n",
    "int main()\n",
    "{\n",
    " print(Electron{}) ;\n",
    " print(Proton{}) ;\n",
    " print(Neutron{}) ;\n",
    "}"
   ]
  },
  {
   "cell_type": "markdown",
   "metadata": {},
   "source": [
    "The function `print()` can now deal with any class which has a `name()` member function... but there are obvious drawbacks:\n",
    "- no simple way to put all particles in a `std::vector`\n",
    "- no way to choose the type of each particle at runtime\n",
    "\n",
    "And a less obvious drawback : once you start to add template parameters to a function or class, any client code will need to add this same parameters. The templates parameters naturally propagate to all the client code, hence leading to usual templates sores (code bloat, compilation time, error messages)."
   ]
  },
  {
   "cell_type": "markdown",
   "metadata": {},
   "source": [
    "None of the two approachs above are perfect. If you need the flexibility of object-oriented polymorphism, yet you want to be able to deal with any type which comply to a given implicit interface, the type erasure idiom is the solution. Furthermore, that's a way to write some code which is generic, but do not exhibit any type paramter. Hence the name: *type erasure*. "
   ]
  },
  {
   "cell_type": "markdown",
   "metadata": {},
   "source": [
    "## Wrap external classes into an object-oriented inheritance tree\n",
    "\n",
    "Let's say we start from the template code above, with all the particles classes as independant types. It is rather easy (and cumbersome) to create wrapper classes so that one can benefit from the object-oriented polymorphism."
   ]
  },
  {
   "cell_type": "code",
   "execution_count": 34,
   "metadata": {
    "attributes": {
     "classes": [
      "cpp"
     ],
     "id": ""
    }
   },
   "outputs": [
    {
     "name": "stdout",
     "output_type": "stream",
     "text": [
      "Overwriting tmp.type-erasure.cpp\n"
     ]
    }
   ],
   "source": [
    "%%file tmp.type-erasure.cpp\n",
    "\n",
    "#include <iostream>\n",
    "#include <string_view>\n",
    "#include <vector>\n",
    "#include <ctime>\n",
    "\n",
    "struct Electron { std::string_view name() const { return \"Electron\" ; } } ;\n",
    "struct Proton { std::string_view name() const { return \"Proton\" ; } } ;\n",
    "struct Neutron { std::string_view name() const { return \"Neutron\" ; } } ;\n",
    "\n",
    "struct Particle\n",
    "{\n",
    " virtual ~Particle() {}\n",
    " virtual std::string_view name() const = 0 ;\n",
    "} ;\n",
    "\n",
    "template< typename T >\n",
    "struct ParticleImpl : public Particle\n",
    "{\n",
    " T m_obj ;\n",
    " ParticleImpl( T const & a_obj ) : m_obj(a_obj) {}\n",
    " std::string_view name() const { return m_obj.name() ; }\n",
    "} ;\n",
    "\n",
    "void print( Particle const & p )\n",
    " { std::cout<<p.name()<<std::endl ; }\n",
    " \n",
    "Particle * new_particle()\n",
    " {\n",
    "  const int NB = 3 ;\n",
    "  int num = NB*(std::rand()/(double(RAND_MAX)+1)) ;\n",
    "  switch (num)\n",
    "   {\n",
    "    case 0: return new ParticleImpl<Electron>{Electron{}} ;\n",
    "    case 1: return new ParticleImpl<Proton>{Proton{}} ;\n",
    "    case 2: return new ParticleImpl<Neutron>{Neutron{}} ;\n",
    "   }\n",
    "  return 0 ;\n",
    " }\n",
    " \n",
    "int main()\n",
    "{\n",
    " std::srand(time(0)) ;\n",
    " std::vector<Particle *> particles ;\n",
    " particles.push_back(new_particle()) ;\n",
    " particles.push_back(new_particle()) ;\n",
    " particles.push_back(new_particle()) ;\n",
    "\n",
    " for ( auto * p : particles )\n",
    "  { print(*p) ; }\n",
    "}"
   ]
  },
  {
   "cell_type": "code",
   "execution_count": 35,
   "metadata": {
    "attributes": {
     "classes": [
      "cpp"
     ],
     "id": ""
    }
   },
   "outputs": [],
   "source": [
    "!rm -f tmp.type-erasure.exe && g++ -std=c++17 tmp.type-erasure.cpp -o tmp.type-erasure.exe"
   ]
  },
  {
   "cell_type": "code",
   "execution_count": 36,
   "metadata": {},
   "outputs": [
    {
     "name": "stdout",
     "output_type": "stream",
     "text": [
      "Neutron\n",
      "Electron\n",
      "Electron\n"
     ]
    }
   ],
   "source": [
    "!./tmp.type-erasure.exe"
   ]
  },
  {
   "cell_type": "markdown",
   "metadata": {},
   "source": [
    "## Hide everything\n",
    "\n",
    "The original multiples types (`Electron`, `Proton` and `Neutron`) can now be used by a client code which only depends on a single type (`Particle`). The original types are somehow \"erased\". Yet, the object-oriented polymorphism is still very visible : `print()` must take as argument a pointer or a reference, the `vector` is a vector of pointers, etc. A typical \"type erasure\" implementation usually hides everything within a class which appears to have a simple value semantic. "
   ]
  },
  {
   "cell_type": "code",
   "execution_count": null,
   "metadata": {},
   "outputs": [],
   "source": [
    "#include <iostream>\n",
    "#include <string_view>\n",
    "#include <vector>\n",
    "#include <ctime>\n",
    "\n",
    "struct Electron { std::string_view name() const { return \"Electron\" ; } } ;\n",
    "struct Proton { std::string_view name() const { return \"Proton\" ; } } ;\n",
    "struct Neutron { std::string_view name() const { return \"Neutron\" ; } } ;\n",
    "\n",
    "class Particle\n",
    "{\n",
    "  public :\n",
    "\n",
    "    template< typename T >\n",
    "    Particle( T const & a_obj ) : m_pc(new ParticleModel<T>(a_obj)) {}\n",
    "    Particle( Particle const & a_p ) : m_pc(a_p.m_pc->clone()) {}\n",
    "    void operator=( Particle const & a_p ) { delete m_pc ; m_pc = a_p.m_pc->clone() ; }\n",
    "    Particle( Particle && a_p ) : m_pc(a_p.m_pc) { a_p.m_pc = nullptr ; }\n",
    "    void operator=( Particle && a_p ) { delete m_pc ; m_pc = a_p.m_pc ; a_p.m_pc = nullptr ; }\n",
    "    ~Particle() { delete m_pc ; }\n",
    "    \n",
    "    std::string_view name() const { return m_pc->name() ; }\n",
    "  \n",
    "  private :\n",
    "  \n",
    "    struct ParticleConcept\n",
    "    {\n",
    "     virtual ~ParticleConcept() {}\n",
    "     virtual std::string_view name() const = 0 ;\n",
    "     virtual ParticleConcept * clone() const = 0 ;\n",
    "    } ;\n",
    "  \n",
    "    template< typename T >\n",
    "    struct ParticleModel : public ParticleConcept\n",
    "    {\n",
    "     T m_obj ;\n",
    "     ParticleModel( T const & a_obj ) : m_obj(a_obj) {}\n",
    "     std::string_view name() const { return m_obj.name() ; }\n",
    "     ParticleConcept * clone() const { return new ParticleModel<T>(m_obj) ; }\n",
    "    } ;\n",
    "    \n",
    "    ParticleConcept * m_pc = nullptr ;\n",
    "  \n",
    "} ;\n",
    "\n",
    "void print( Particle const & p )\n",
    " { std::cout<<p.name()<<std::endl ; }\n",
    " \n",
    "Particle random_particle()\n",
    " {\n",
    "  const int NB = 3 ;\n",
    "  int num = NB*(std::rand()/(double(RAND_MAX)+1)) ;\n",
    "  switch (num)\n",
    "   {\n",
    "    case 0: return Particle{Electron{}} ;\n",
    "    case 1: return Particle{Proton{}} ;\n",
    "    case 2: return Particle{Neutron{}} ;\n",
    "   }\n",
    "  throw \"unexpected\" ;\n",
    " }\n",
    " \n",
    "int main()\n",
    "{\n",
    " std::srand(time(0)) ;\n",
    " \n",
    " std::vector<Particle> particles ;\n",
    " particles.push_back(random_particle()) ;\n",
    " particles.push_back(random_particle()) ;\n",
    " particles.push_back(random_particle()) ;\n",
    "\n",
    " for ( auto const & p : particles )\n",
    "  { print(p) ; }\n",
    "}"
   ]
  },
  {
   "cell_type": "code",
   "execution_count": null,
   "metadata": {},
   "outputs": [],
   "source": [
    "!rm -f tmp.type-erasure.exe && g++ -std=c++17 tmp.type-erasure.cpp -o tmp.type-erasure.exe"
   ]
  },
  {
   "cell_type": "code",
   "execution_count": null,
   "metadata": {},
   "outputs": [],
   "source": [
    "!./tmp.type-erasure.exe"
   ]
  },
  {
   "cell_type": "markdown",
   "metadata": {},
   "source": [
    "## To remember"
   ]
  },
  {
   "cell_type": "markdown",
   "metadata": {},
   "source": [
    "## Exercise"
   ]
  },
  {
   "cell_type": "markdown",
   "metadata": {},
   "source": [
    "## References\n",
    "\n",
    "- [Dave Kilian](http://davekilian.com/cpp-type-erasure.html)\n",
    "- [Sean Parent](https://youtu.be/bIhUE5uUFOA)\n",
    "- [Andrzej Krzemieński](https://akrzemi1.wordpress.com/2013/11/18/type-erasure-part-i/)"
   ]
  },
  {
   "cell_type": "markdown",
   "metadata": {},
   "source": [
    "© *CNRS 2022*  \n",
    "*Assembled and written in french by David Chamont, this work is made available according to the terms of the*  \n",
    "[*Creative Commons License - Attribution - NonCommercial - ShareAlike 4.0 International*](http://creativecommons.org/licenses/by-nc-sa/4.0/)"
   ]
  }
 ],
 "metadata": {
  "celltoolbar": "Tags",
  "interpreter": {
   "hash": "767d51c1340bd893661ea55ea3124f6de3c7a262a8b4abca0554b478b1e2ff90"
  },
  "kernelspec": {
   "display_name": "Python 3.9.7 64-bit",
   "language": "python",
   "name": "python3"
  },
  "language_info": {
   "codemirror_mode": {
    "name": "ipython",
    "version": 3
   },
   "file_extension": ".py",
   "mimetype": "text/x-python",
   "name": "python",
   "nbconvert_exporter": "python",
   "pygments_lexer": "ipython3",
   "version": "3.9.7"
  }
 },
 "nbformat": 4,
 "nbformat_minor": 4
}
