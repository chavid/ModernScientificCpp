{
 "cells": [
  {
   "cell_type": "markdown",
   "metadata": {},
   "source": [
    "# Universal References\n",
    "\n",
    "Concerning the rvalue references (`&&`), there is one final specific behavior to know, and which occurs in the case of a function template having a `T` parameter, and an argument which is **very exactly** `T&&`. If the function is invoked with a temporary value, the inferred type for the argument is indeed `T&&`, but it is also legal to invoke the function with a stable value, and the inferred type for the argument is then `T&`.\n",
    "\n",
    "So, within the context of a function template, an argument of type `T&&` can accept both a stable or a temporary value. Therefore `T&&` can be qualified as **universal reference**. The idea is to be able to write function patterns that know how to manipulate both stable and temporary values, and take advantage of the displacement possibilities when it is possible. Let's take an example:"
   ]
  },
  {
   "cell_type": "code",
   "execution_count": 1,
   "metadata": {
    "attributes": {
     "classes": [
      "cpp"
     ],
     "id": ""
    }
   },
   "outputs": [],
   "source": [
    "#include<iostream>\n",
    "template<typename T>\n",
    "void foo(T&& t)\n",
    "{ std::cout<<t<<std::endl ; }"
   ]
  },
  {
   "cell_type": "markdown",
   "metadata": {},
   "source": [
    "If it is called with a temporary value, then `T` is deduced of the same type as the value :"
   ]
  },
  {
   "cell_type": "code",
   "execution_count": 2,
   "metadata": {
    "attributes": {
     "classes": [
      "cpp"
     ],
     "id": ""
    }
   },
   "outputs": [
    {
     "name": "stdout",
     "output_type": "stream",
     "text": [
      "42\n",
      "3.14159\n",
      "bonjour\n"
     ]
    }
   ],
   "source": [
    "{\n",
    "    foo(42);            // Calls foo<int>(int&&)\n",
    "    foo(3.14159);       // Calls foo<double>(double&&)\n",
    "    foo(std::string(\"bonjour\")); // Calls foo<std::string>(std::string&&)\n",
    "}"
   ]
  },
  {
   "cell_type": "markdown",
   "metadata": {},
   "source": [
    "On the other hand, if it is called with a non-temporary value, then `T` and the type of the argument are considered as classical references :"
   ]
  },
  {
   "cell_type": "code",
   "execution_count": 3,
   "metadata": {
    "attributes": {
     "classes": [
      "cpp"
     ],
     "id": ""
    }
   },
   "outputs": [
    {
     "name": "stdout",
     "output_type": "stream",
     "text": [
      "42\n"
     ]
    }
   ],
   "source": [
    "{\n",
    "    int i=42;\n",
    "    foo(i); // Calls foo<int&>(int&)\n",
    "}"
   ]
  },
  {
   "cell_type": "markdown",
   "metadata": {},
   "source": [
    "This makes it possible to have a single function template that accepts both temporary and non-temporary values, and able to perform a move rather than a copy when it is possible."
   ]
  },
  {
   "cell_type": "markdown",
   "metadata": {},
   "source": [
    "## std::forward\n",
    "\n",
    "In the case of a function calling another function, the problem of preserving the temporary character of a value arises again. For ordinary functions, `std::move` did the trick. But within the framework of a function template and a universal reference, one would like to be able to preserve the temporary property of the temporary variables, but not to add this property to the stable variables. This is precisely the role of the `std::forward` function."
   ]
  },
  {
   "cell_type": "code",
   "execution_count": 4,
   "metadata": {
    "attributes": {
     "classes": [
      "cpp"
     ],
     "id": ""
    }
   },
   "outputs": [],
   "source": [
    "#include<iostream>\n",
    "template<typename T>\n",
    "void do_stuff(T&& t)\n",
    "{\n",
    "  std::cout<<\"stuff for \" ;\n",
    "  foo(std::forward<T>(t));\n",
    "}"
   ]
  },
  {
   "cell_type": "code",
   "execution_count": 5,
   "metadata": {
    "attributes": {
     "classes": [
      "cpp"
     ],
     "id": ""
    }
   },
   "outputs": [
    {
     "name": "stdout",
     "output_type": "stream",
     "text": [
      "stuff for 42\n",
      "stuff for 3.14159\n",
      "stuff for hello\n",
      "stuff for 42\n"
     ]
    }
   ],
   "source": [
    "{\n",
    "    do_stuff(42);\n",
    "    do_stuff(3.14159);\n",
    "    do_stuff(std::string(\"hello\"));\n",
    "    \n",
    "    int i=42;\n",
    "    do_stuff(i);\n",
    "}"
   ]
  },
  {
   "cell_type": "markdown",
   "metadata": {},
   "source": [
    "It is called a **perfect forwarding**, because the `foo` function receives an argument which is exactly the same type as the value initially passed to` do_stuff`."
   ]
  },
  {
   "cell_type": "markdown",
   "metadata": {},
   "source": [
    "© *CNRS 2021*  \n",
    "*Assembled and written in french by David Chamont, translated by Karim Hasnaoui, this work is made available according to the terms of the*  \n",
    "[*Creative Commons License - Attribution - NonCommercial - ShareAlike 4.0 International*](http://creativecommons.org/licenses/by-nc-sa/4.0/)"
   ]
  }
 ],
 "metadata": {
  "celltoolbar": "Tags",
  "kernelspec": {
   "display_name": "C++17",
   "language": "C++17",
   "name": "xcpp17"
  },
  "language_info": {
   "codemirror_mode": "text/x-c++src",
   "file_extension": ".cpp",
   "mimetype": "text/x-c++src",
   "name": "c++",
   "version": "17"
  }
 },
 "nbformat": 4,
 "nbformat_minor": 4
}
