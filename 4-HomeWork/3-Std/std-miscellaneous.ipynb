{
 "cells": [
  {
   "cell_type": "markdown",
   "metadata": {},
   "source": [
    "# Miscellaneous new features of the standard library\n",
    "\n",
    "Many existing classes have been rewritten to take advantage of the new displacement semantics, new initialization possibilities, or new constant expressions. Below is a selection of new features that have not already been covered elsewhere."
   ]
  },
  {
   "cell_type": "markdown",
   "metadata": {
    "attributes": {
     "classes": [
      "cpp"
     ],
     "id": ""
    }
   },
   "source": [
    "## New simply linked list\n",
    "\n",
    "`std::forward_list` is a simply linked list with a unidirectional iterator.\n"
   ]
  },
  {
   "cell_type": "markdown",
   "metadata": {},
   "source": [
    "## New containers with hash tables\n",
    "\n",
    "C++03 associative containers (`map` and `set`) rely on a binary tree to order their elements, which leads to O(Log N) access efficiency. C++11 introduces new variants based on a \"hash\" technique, which offers O(1) access efficiency, at the expense of memory size and element ordering :\n",
    "\n",
    "  - `unordered_set` ;\n",
    "  - `unordered_multiset` ;\n",
    "  - `unordered_map` ;\n",
    "  - `unordered_multimap`.\n",
    "\n",
    "As always, there is no one universally better container : the best choice depends on each use case."
   ]
  },
  {
   "cell_type": "markdown",
   "metadata": {},
   "source": [
    "## File System Access\n",
    "\n",
    "The C++ 17 standard library provides a set of classes and functions to interact with your filesystem. They are declared into the `<filesystem>` header file and use the `std::filesystem` namespace. As example :"
   ]
  },
  {
   "cell_type": "code",
   "execution_count": 14,
   "metadata": {},
   "outputs": [
    {
     "name": "stdout",
     "output_type": "stream",
     "text": [
      "Overwriting tmp.std-miscellaneous.cpp\n"
     ]
    }
   ],
   "source": [
    "%%file tmp.std-miscellaneous.cpp\n",
    "\n",
    "#include <iostream>\n",
    "#include <filesystem>\n",
    "\n",
    "//namespace fs = std::filesystem ;\n",
    "\n",
    "int main( int argc, char ** args )\n",
    "{\n",
    "  std::filesystem::path pathToShow(args[1]) ;\n",
    "  std::cout\n",
    "    << \"exists() = \" << std::filesystem::exists(pathToShow) << \"\\n\"\n",
    "     << \"root_path() = \" << pathToShow.root_path() << \"\\n\"\n",
    "     << \"relative_path() = \" << pathToShow.relative_path() << \"\\n\"\n",
    "     << \"parent_path() = \" << pathToShow.parent_path() << \"\\n\"\n",
    "     << \"filename() = \" << pathToShow.filename() << \"\\n\"\n",
    "     << \"stem() = \" << pathToShow.stem() << \"\\n\"\n",
    "     << \"extension() = \" << pathToShow.extension() << \"\\n\"\n",
    "     <<std::flush ;\n",
    " }"
   ]
  },
  {
   "cell_type": "code",
   "execution_count": 15,
   "metadata": {},
   "outputs": [],
   "source": [
    "!rm -f tmp.std-miscellaneous.exe && g++ -std=c++17 tmp.std-miscellaneous.cpp -o tmp.std-miscellaneous.exe"
   ]
  },
  {
   "cell_type": "code",
   "execution_count": 16,
   "metadata": {},
   "outputs": [
    {
     "name": "stdout",
     "output_type": "stream",
     "text": [
      "exists() = 1\n",
      "root_path() = \"/\"\n",
      "relative_path() = \"work/4-HomeWork/3-Std/en.std-miscellaneous.ipynb\"\n",
      "parent_path() = \"/work/4-HomeWork/3-Std\"\n",
      "filename() = \"en.std-miscellaneous.ipynb\"\n",
      "stem() = \"en.std-miscellaneous\"\n",
      "extension() = \".ipynb\"\n"
     ]
    }
   ],
   "source": [
    "!./tmp.std-miscellaneous.exe /work/4-HomeWork/3-Std/en.std-miscellaneous.ipynb"
   ]
  },
  {
   "cell_type": "markdown",
   "metadata": {},
   "source": [
    "#### References\n",
    "* https://www.bfilipek.com/2017/08/cpp17-details-filesystem.html\n",
    "* https://www.codingame.com/playgrounds/5659/c17-filesystem"
   ]
  },
  {
   "cell_type": "markdown",
   "metadata": {
    "attributes": {
     "classes": [
      "cpp"
     ],
     "id": ""
    }
   },
   "source": [
    "## Regular expressions\n",
    "\n",
    "The standard C++11 library offers a class template for processing regular expressions, `basic_regex`, which comes in a `regex` version (alias `basic_regex<char>`), and in a `wregex` version (alias` basic_regex<wchar_t> `). Multiple grammars are supported: ECMAScript (default), basic, extended, awk, grep, egrep.\n",
    "\n",
    "WARNING : if you are already used to work with regular expressions, note that the character `\\`, if it is part of a regular expression, must be doubled in `\\\\` within the initial character string, otherwise it will be interpreted as a special character in the string, and will not be passed as such to the regular expression."
   ]
  },
  {
   "cell_type": "code",
   "execution_count": 17,
   "metadata": {},
   "outputs": [
    {
     "name": "stdout",
     "output_type": "stream",
     "text": [
      "Overwriting tmp.std-miscellaneous.cpp\n"
     ]
    }
   ],
   "source": [
    "%%file tmp.std-miscellaneous.cpp\n",
    "\n",
    "#include <iostream>\n",
    "#include <string>\n",
    "#include <regex>\n",
    "\n",
    "void match( std::string const & str, std::string const & re )\n",
    " {\n",
    "  std::smatch sm ;\n",
    "  if (std::regex_match(str,sm,std::regex(re)))\n",
    "   {\n",
    "    std::cout<<str<<\" =~ \"<<re<<\" : \" ;\n",
    "    for ( auto match : sm )\n",
    "     { std::cout << \" [\" << match << \"]\" ; }\n",
    "    std::cout<<std::endl ;\n",
    "   }\n",
    "  else\n",
    "   { std::cout<<str<<\" !~ \"<<re<<std::endl ; }\n",
    " }\n",
    "\n",
    "void search_first( std::string const & str, std::string const & re )\n",
    " {\n",
    "  std::smatch sm ;\n",
    "  std::regex_search(str,sm,std::regex(re)) ;\n",
    "  std::cout<<str<<\" ?~ \"<<re<<\" :\" ;\n",
    "  for ( auto match : sm )\n",
    "   { std::cout << \" [\" << match << \"]\" ; }\n",
    "  std::cout<<std::endl ;\n",
    " }\n",
    "\n",
    "void search_all( std::string const & str, std::string const & re )\n",
    " {\n",
    "  std::regex re2(re) ;\n",
    "  std::smatch sm ;\n",
    "  std::sregex_iterator itr(str.begin(),str.end(),re2) ;  \n",
    "  std::sregex_iterator end ;\n",
    "  std::cout<<str<<\" ?~ \"<<re<<\" :\" ;\n",
    "  while (itr!=end)\n",
    "   { std::cout << \" [\" << itr->str() << \"]\" ; ++itr ; }\n",
    "  std::cout<<std::endl ;\n",
    " }\n",
    "\n",
    "void replace( std::string const & str, std::string const & re, std::string const & subs )\n",
    " {\n",
    "  std::cout\n",
    "    <<str<<\" ~? \"<<re<<\" ~> \"<<subs<<\" : \"\n",
    "    <<std::regex_replace(str,std::regex(re),subs)\n",
    "    <<std::endl ;\n",
    " }\n",
    "\n",
    "int main ()\n",
    " {\n",
    "  match(\"Hello world\",\"\\\\w+\") ;\n",
    "  match(\"Hello world\",\".*?(\\\\w+).*\") ;\n",
    "  search_first(\"Hello world\",\"\\\\w+\") ;\n",
    "  search_all(\"Hello world\",\"\\\\w+\") ;\n",
    "  replace(\"Hello world\",\"\\\\w+\",\"bla\") ;\n",
    "  return 0;\n",
    " }"
   ]
  },
  {
   "cell_type": "code",
   "execution_count": 18,
   "metadata": {},
   "outputs": [],
   "source": [
    "!rm -f tmp.std-miscellaneous.exe && g++ -std=c++17 tmp.std-miscellaneous.cpp -o tmp.std-miscellaneous.exe"
   ]
  },
  {
   "cell_type": "code",
   "execution_count": 19,
   "metadata": {},
   "outputs": [
    {
     "name": "stdout",
     "output_type": "stream",
     "text": [
      "Hello world !~ \\w+\n",
      "Hello world =~ .*?(\\w+).* :  [Hello world] [Hello]\n",
      "Hello world ?~ \\w+ : [Hello]\n",
      "Hello world ?~ \\w+ : [Hello] [world]\n",
      "Hello world ~? \\w+ ~> bla : bla bla\n"
     ]
    }
   ],
   "source": [
    "!./tmp.std-miscellaneous.exe"
   ]
  },
  {
   "cell_type": "markdown",
   "metadata": {},
   "source": [
    "#### References\n",
    "* https://www.softwaretestinghelp.com/regex-in-cpp/\n",
    "* https://regex101.com/"
   ]
  },
  {
   "cell_type": "markdown",
   "metadata": {},
   "source": [
    "© *CNRS 2020*  \n",
    "*Assembled and written in french by David Chamont, translated by Karim Asnaoui, this work is made available according to the terms of the*  \n",
    "[*Creative Commons License - Attribution - NonCommercial - ShareAlike 4.0 International*](http://creativecommons.org/licenses/by-nc-sa/4.0/)"
   ]
  }
 ],
 "metadata": {
  "kernelspec": {
   "display_name": "C++17",
   "language": "C++17",
   "name": "xcpp17"
  },
  "language_info": {
   "codemirror_mode": "text/x-c++src",
   "file_extension": ".cpp",
   "mimetype": "text/x-c++src",
   "name": "c++",
   "version": "17"
  }
 },
 "nbformat": 4,
 "nbformat_minor": 4
}
