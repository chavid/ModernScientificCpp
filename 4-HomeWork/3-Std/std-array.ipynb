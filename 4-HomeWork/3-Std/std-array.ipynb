{
 "cells": [
  {
   "cell_type": "markdown",
   "metadata": {},
   "source": [
    "# `std::array`"
   ]
  },
  {
   "cell_type": "markdown",
   "metadata": {},
   "source": [
    "## Motivation: improve the management of fixed-size arrays\n",
    "\n",
    "Since it is complicated and dangerous to initialize fixed-size arrays with pointers, their use is not recommended. Since C++ 11, it is more advisable to use `std::array` which is easy to initialize, provided that you specify the size and type of the array :"
   ]
  },
  {
   "cell_type": "code",
   "execution_count": null,
   "metadata": {
    "attributes": {
     "classes": [
      "cpp"
     ],
     "id": ""
    }
   },
   "outputs": [],
   "source": [
    "#include <array>\n",
    "{\n",
    "  std::array<double, 5> fixed_array_double { 1.2, 3.4, 5.0, 6.7, 8.9 } ;  // Ok.\n",
    "  std::array<float, 5> fixed_array_float { 1.0, 2.0 } ; // Ok, uninitialized values will be replaced by the default value : 0.0\n",
    "  std::array<, 10> array_10 { 1.0, 2.0 } ; // Does not compile : size and type must be fixed.\n",
    "  std::array<int, > array_int { 1, 2, 3, 4, 5 } ; // Does not compile : size and type must be fixed.\n",
    "}"
   ]
  },
  {
   "cell_type": "markdown",
   "metadata": {},
   "source": [
    "The `std::array` are efficient fixed-size array that do not take up more memory space than a regular C fixed-size array."
   ]
  },
  {
   "cell_type": "markdown",
   "metadata": {},
   "source": [
    "## Possible checking of indices\n",
    "\n",
    "One can access to the elements of a `std::array` with the `at()` function which checks the validity of the index (with extra cost), or with the traditional operator `[]` which does not check anything :"
   ]
  },
  {
   "cell_type": "code",
   "execution_count": null,
   "metadata": {
    "attributes": {
     "classes": [
      "cpp"
     ],
     "id": ""
    }
   },
   "outputs": [],
   "source": [
    "#include <iostream>\n",
    "#include <array>\n",
    "{\n",
    "  std::array<double, 5> array_double { 1.2, 3.4, 5.6 };\n",
    "  \n",
    "  std::cout << \"4th value = \" << array_double[3] << std::endl;  // \"4th value = 0\"\n",
    "  array_double[4] = 9.9;\n",
    "  array_double[10] = 1.1;  // Undefined behavior - no exceptions\n",
    "\n",
    "  std::cout << \"5th value = \" << array_double.at(4) << std::endl;  // \"5th value = 9.9\"\n",
    "  array_double.at(10) = 1.1;  // Exception std::out_of_range\n",
    "}"
   ]
  },
  {
   "cell_type": "markdown",
   "metadata": {},
   "source": [
    "## Use of standard algorithms\n",
    "\n",
    "The usual algorithms of the standard library are of course usable, as with any standard collection."
   ]
  },
  {
   "cell_type": "code",
   "execution_count": null,
   "metadata": {},
   "outputs": [],
   "source": [
    "#include <iostream>\n",
    "#include <array>\n",
    "#include <algorithm>    // for std::sort"
   ]
  },
  {
   "cell_type": "code",
   "execution_count": null,
   "metadata": {},
   "outputs": [],
   "source": [
    "template <std::size_t N>\n",
    "std::array<double,N> array_addition( const std::array<double,N> & a, const std::array<double,N> & b )\n",
    "{\n",
    "  std::array<double,N> result;\n",
    "  for(std::size_t i = 0; i < a.size(); i++)\n",
    "    result[i] = a[i] + b[i];\n",
    "  return result;\n",
    "}"
   ]
  },
  {
   "cell_type": "code",
   "execution_count": null,
   "metadata": {
    "attributes": {
     "classes": [
      "cpp"
     ],
     "id": ""
    }
   },
   "outputs": [],
   "source": [
    "{\n",
    "  std::array<double, 5> array_1 { 1.2, 3.4, 5.6 };\n",
    "  std::cout << \"size 1 = \" << array_1.size() << std::endl;  // \"size 1 = 5\" and not 3 !!\n",
    "\n",
    "  std::array<double, 5> array_2 { 0.1, 0.2, 0.3, 1.4, 0.5 };\n",
    "  std::cout << \"size 2 = \" << array_2.size() << std::endl;  // \"size 2 = 5\"\n",
    "  \n",
    "  std::cout << \"tableau 3 = \";\n",
    "  std::array<double, 5> array_3 = array_addition(array_1, array_2);\n",
    "  for ( auto d : array_3 )\n",
    "    std::cout << d << \" \";\n",
    "  std::cout << std::endl;  // \"array 3 = 1.3 3.6 5.9 1.4 0.5\"\n",
    "\n",
    "  std::sort(array_3.begin(), array_3.end());\n",
    "  std::cout << \"tableau 3 trié = \";\n",
    "  for ( auto d : array_3 )\n",
    "    std::cout << d << \" \";\n",
    "  std::cout << std::endl;  // \"array 3 sorted = 0.5 1.3 1.4 3.6 5.9\"\n",
    "}"
   ]
  },
  {
   "cell_type": "markdown",
   "metadata": {},
   "source": [
    "© *INRIA 2018 & CNRS 2020*  \n",
    "*Assembled and written in french by Vincent Rouvreau, reviewed by David Chamont, translated by Karim Asnaoui, this work is made available according to the terms of the*  \n",
    "[*Creative Commons License - Attribution - NonCommercial - ShareAlike 4.0 International*](http://creativecommons.org/licenses/by-nc-sa/4.0/)"
   ]
  }
 ],
 "metadata": {
  "kernelspec": {
   "display_name": "C++17",
   "language": "C++17",
   "name": "xcpp17"
  },
  "language_info": {
   "codemirror_mode": "text/x-c++src",
   "file_extension": ".cpp",
   "mimetype": "text/x-c++src",
   "name": "c++",
   "version": "17"
  }
 },
 "nbformat": 4,
 "nbformat_minor": 4
}
