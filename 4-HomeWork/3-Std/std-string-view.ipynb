{
 "cells": [
  {
   "cell_type": "markdown",
   "metadata": {},
   "source": [
    "# `std::string_view`"
   ]
  },
  {
   "cell_type": "markdown",
   "metadata": {},
   "source": [
    "## Motivation\n",
    "\n",
    "The `std::string` class, which is very practical to use, is however not very efficient, in particular because it often requires manipulation of dynamic memory and deep copies. There are many situations where this additional cost is unnecessary.\n",
    "\n",
    "The old `char *` is not very efficient also, because each time one needs to know the size of the text, he must go through the whole text until he mets the final `0`."
   ]
  },
  {
   "cell_type": "markdown",
   "metadata": {},
   "source": [
    "## History\n",
    "\n",
    "On the model of `gsl::span`, a \"view\" has been addressed for character sequences. First called `gsl::string_span`, it became `std::string_view` when it was integrated into C++ 17. Composed of a pointer and a size, the `std::string_view` class allows to easily and quickly create a constant non-owner view to a sequence of contiguous characters in memory: not just a `std::string`, but also a simple literal string or a `Qstring`. Since `string_view` stores the size of the string, the underlying character sequence does not necessarily need to end with a `0` character."
   ]
  },
  {
   "cell_type": "markdown",
   "metadata": {},
   "source": [
    "## Benefits\n",
    "\n",
    "Writing a function based on `string_view` (instead of `std::string const &`) has several advantages :\n",
    "* able to receive all kinds of character sequences as input ;\n",
    "* much more efficient than `std::string` with a literal string ;\n",
    "* the creation of a substring is instantaneous (because the final `0` character is no longer necessary) ;"
   ]
  },
  {
   "cell_type": "markdown",
   "metadata": {},
   "source": [
    "## Cautions\n",
    "\n",
    "However, keep in mind that the `string_view` does not own or duplicate the underlying data, and be careful not to use a view when its underlying data has disappeared. Moreover, passing through a `string_view`, we lose the guarantee of having a `0` terminal. If the string then needs to be passed to many functions that expect this `0` terminal, it is better to use `string` directly."
   ]
  },
  {
   "cell_type": "markdown",
   "metadata": {},
   "source": [
    "## Exercice\n",
    "\n",
    "Replace the `std::string` with some `std::string_view`, and compare the execution time."
   ]
  },
  {
   "cell_type": "code",
   "execution_count": 14,
   "metadata": {},
   "outputs": [
    {
     "name": "stdout",
     "output_type": "stream",
     "text": [
      "Overwriting tmp.std-string-view.cpp\n"
     ]
    }
   ],
   "source": [
    "%%file tmp.std-string-view.cpp\n",
    "\n",
    "#include <iostream>\n",
    "#include <string>\n",
    "\n",
    "auto count_characters( std::string const & text )\n",
    " { return text.size() ; }\n",
    "\n",
    "int main( int argc, char * argv[] )\n",
    " {\n",
    "  unsigned long long nb { 0 } ;\n",
    "  for ( unsigned long long i = 0 ; i< 100000 ; ++i )\n",
    "   { nb += count_characters(\"Hello world !\") ; }\n",
    "  std::cout<<nb<<\" characters\"<<std::endl ;\n",
    "  return 0 ;\n",
    " }"
   ]
  },
  {
   "cell_type": "code",
   "execution_count": 15,
   "metadata": {},
   "outputs": [],
   "source": [
    "!rm -f tmp.std-string-view.exe && g++ -std=c++17 -I./ tmp.std-string-view.cpp -o tmp.std-string-view.exe"
   ]
  },
  {
   "cell_type": "code",
   "execution_count": 16,
   "metadata": {},
   "outputs": [
    {
     "name": "stdout",
     "output_type": "stream",
     "text": [
      "Overwriting tmp.std-string-view.sh\n"
     ]
    }
   ],
   "source": [
    "%%file tmp.std-string-view.sh\n",
    "time ./tmp.std-string-view.exe $*"
   ]
  },
  {
   "cell_type": "code",
   "execution_count": 21,
   "metadata": {},
   "outputs": [
    {
     "name": "stdout",
     "output_type": "stream",
     "text": [
      "1300000 characters\n",
      "\n",
      "real\t0m0.009s\n",
      "user\t0m0.007s\n",
      "sys\t0m0.002s\n"
     ]
    }
   ],
   "source": [
    "!bash -l ./tmp.std-string-view.sh"
   ]
  },
  {
   "cell_type": "markdown",
   "metadata": {},
   "source": [
    "## References\n",
    "\n",
    "- https://stackoverflow.com/questions/40127965/how-exactly-is-stdstring-view-faster-than-const-stdstring\n",
    "- https://devblogs.microsoft.com/cppblog/stdstring_view-the-duct-tape-of-string-types/\n"
   ]
  },
  {
   "cell_type": "markdown",
   "metadata": {},
   "source": [
    "© *CNRS 2020*  \n",
    "*Assembled and written in french by David Chamont, translated by Karim Asnaoui, this work is made available according to the terms of the*  \n",
    "[*Creative Commons License - Attribution - NonCommercial - ShareAlike 4.0 International*](http://creativecommons.org/licenses/by-nc-sa/4.0/)"
   ]
  }
 ],
 "metadata": {
  "kernelspec": {
   "display_name": "C++17",
   "language": "C++17",
   "name": "xcpp17"
  },
  "language_info": {
   "codemirror_mode": "text/x-c++src",
   "file_extension": ".cpp",
   "mimetype": "text/x-c++src",
   "name": "c++",
   "version": "17"
  }
 },
 "nbformat": 4,
 "nbformat_minor": 4
}
