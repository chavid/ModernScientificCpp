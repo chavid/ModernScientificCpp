{
 "cells": [
  {
   "cell_type": "markdown",
   "metadata": {},
   "source": [
    "# `std::tuple`\n",
    "\n",
    "This is a generalization of pairs to any number of elements."
   ]
  },
  {
   "cell_type": "code",
   "execution_count": 16,
   "metadata": {
    "attributes": {
     "classes": [
      "cpp"
     ],
     "id": ""
    }
   },
   "outputs": [],
   "source": [
    "#include <iostream>\n",
    "#include <string>\n",
    "#include <tuple>"
   ]
  },
  {
   "cell_type": "code",
   "execution_count": 17,
   "metadata": {
    "attributes": {
     "classes": [
      "cpp"
     ],
     "id": ""
    }
   },
   "outputs": [
    {
     "name": "stdout",
     "output_type": "stream",
     "text": [
      "5 2.3 chose\n"
     ]
    }
   ],
   "source": [
    "{\n",
    "    std::tuple<int,double,std::string> t1 { 5, 6.8, \"chose\" } ;\n",
    "    // .....\n",
    "    int i = std::get<0>(t1) ;  // i is equal to 5\n",
    "    std::get<1>(t1) = 2.3 ;    // remplaces the 2nd element 6.8 by 2.3\n",
    "    auto s = std::get<2>(t1) ; // s will be a string and will contain \"chose\"\n",
    "    std::cout<<i<<\" \"<<std::get<1>(t1)<<\" \"<<s<<std::endl ;\n",
    "}"
   ]
  },
  {
   "cell_type": "markdown",
   "metadata": {},
   "source": [
    "A tuple can obviously be assigned to another tuple of the same type, but also in case of different types, if there is a legal implicit conversion for each of the elements."
   ]
  },
  {
   "cell_type": "markdown",
   "metadata": {},
   "source": [
    "WARNING: the `tuple` is not a list, and there is no way to iterate over its values at runtime. Let's put it another way: since the type of the value can change from one iteration to another, it is impossible to compile once and for all the instructions that would be in such a loop. Of course, with template-based meta-programming, the developer can rely on the compiler to unroll the loop at the compilation, but that's not really in the spirit of `std::tuple`."
   ]
  },
  {
   "cell_type": "markdown",
   "metadata": {},
   "source": [
    "In fact, the `std::tuple` is now the ideal type to return a collection of results, and nothing more prevents the developper from doing it: the RVO (return value optimization) avoid any unnecessary copy of the returned data, and type inference makes it easier for the developer:"
   ]
  },
  {
   "cell_type": "code",
   "execution_count": 18,
   "metadata": {},
   "outputs": [],
   "source": [
    "#include <stdexcept> "
   ]
  },
  {
   "cell_type": "code",
   "execution_count": 19,
   "metadata": {},
   "outputs": [],
   "source": [
    "std::tuple<double, char, std::string> get_student( int id )\n",
    " {\n",
    "  if (id == 0) return { 3.8, 'A', \"Lisa Simpson\" };\n",
    "  if (id == 1) return { 2.9, 'C', \"Milhouse Van Houten\" };\n",
    "  if (id == 2) return { 1.7, 'D', \"Ralph Wiggum\" };\n",
    "  throw std::invalid_argument(\"unknown student id\");\n",
    " }"
   ]
  },
  {
   "cell_type": "code",
   "execution_count": 20,
   "metadata": {},
   "outputs": [],
   "source": [
    "void display_student( int id )\n",
    " {\n",
    "  auto student = get_student(id);\n",
    "  std::cout\n",
    "    << \"GPA: \" << std::get<0>(student) << \", \"\n",
    "    << \"grade: \" << std::get<1>(student) << \", \"\n",
    "    << \"name: \" << std::get<2>(student)\n",
    "    << std::endl;\n",
    " }"
   ]
  },
  {
   "cell_type": "code",
   "execution_count": 21,
   "metadata": {},
   "outputs": [
    {
     "name": "stdout",
     "output_type": "stream",
     "text": [
      "GPA: 3.8, grade: A, name: Lisa Simpson\n",
      "GPA: 2.9, grade: C, name: Milhouse Van Houten\n",
      "GPA: 1.7, grade: D, name: Ralph Wiggum\n"
     ]
    }
   ],
   "source": [
    "{\n",
    "  display_student(0) ;\n",
    "  display_student(1) ;\n",
    "  display_student(2) ;\n",
    "}"
   ]
  },
  {
   "cell_type": "markdown",
   "metadata": {},
   "source": [
    "## `std::tie`\n",
    "\n",
    "When the values are only read, the `std::tie` function allows to attach the member variables of a tuple to independent variables, which allows, in a way, to give names to the member variables and to have a slightly more readable code. But only for reading."
   ]
  },
  {
   "cell_type": "code",
   "execution_count": 22,
   "metadata": {},
   "outputs": [],
   "source": [
    "void display_student( int id )\n",
    " {\n",
    "  double gpa ;\n",
    "  char grade ;\n",
    "  std::string name ;\n",
    "  std::tie(gpa,grade,name) = get_student(id) ;\n",
    "\n",
    "  std::cout\n",
    "    << \"GPA: \" << gpa << \", \"\n",
    "    << \"grade: \" << grade << \", \"\n",
    "    << \"name: \" << name\n",
    "    << std::endl;\n",
    " }"
   ]
  },
  {
   "cell_type": "code",
   "execution_count": 23,
   "metadata": {},
   "outputs": [
    {
     "name": "stdout",
     "output_type": "stream",
     "text": [
      "GPA: 3.8, grade: A, name: Lisa Simpson\n",
      "GPA: 2.9, grade: C, name: Milhouse Van Houten\n",
      "GPA: 1.7, grade: D, name: Ralph Wiggum\n"
     ]
    }
   ],
   "source": [
    "{\n",
    "  display_student(0) ;\n",
    "  display_student(1) ;\n",
    "  display_student(2) ;\n",
    "}"
   ]
  },
  {
   "cell_type": "markdown",
   "metadata": {},
   "source": [
    "## C++17 structured binding\n",
    "\n",
    "Since C++17, std::tie can be put aside and one can take advantage of on-the-fly \"unpacking\" :"
   ]
  },
  {
   "cell_type": "code",
   "execution_count": 24,
   "metadata": {},
   "outputs": [],
   "source": [
    "void display_student( int id )\n",
    " {\n",
    "  auto [ gpa, grade, name ] = get_student(id) ;\n",
    "    \n",
    "  std::cout\n",
    "    << \"GPA: \" << gpa << \", \"\n",
    "    << \"grade: \" << grade << \", \"\n",
    "    << \"name: \" << name\n",
    "    << std::endl;\n",
    " }"
   ]
  },
  {
   "cell_type": "code",
   "execution_count": 25,
   "metadata": {},
   "outputs": [
    {
     "name": "stdout",
     "output_type": "stream",
     "text": [
      "GPA: 3.8, grade: A, name: Lisa Simpson\n",
      "GPA: 2.9, grade: C, name: Milhouse Van Houten\n",
      "GPA: 1.7, grade: D, name: Ralph Wiggum\n"
     ]
    }
   ],
   "source": [
    "{\n",
    "  display_student(0) ;\n",
    "  display_student(1) ;\n",
    "  display_student(2) ;\n",
    "}"
   ]
  },
  {
   "cell_type": "markdown",
   "metadata": {},
   "source": [
    "## Better than a good old-fashioned `struct` ?\n",
    "\n",
    "In most cases, would it be easier and more readable to create a simple `struct` ?"
   ]
  },
  {
   "cell_type": "code",
   "execution_count": 26,
   "metadata": {},
   "outputs": [],
   "source": [
    "struct Student\n",
    "{\n",
    "  double gpa ;\n",
    "  char grade ;\n",
    "  std::string name ;\n",
    "} ;"
   ]
  },
  {
   "cell_type": "code",
   "execution_count": 27,
   "metadata": {},
   "outputs": [],
   "source": [
    "Student get_student(int id)\n",
    "{\n",
    "  if (id == 0) return { 3.8, 'A', \"Lisa Simpson\" } ;\n",
    "  if (id == 1) return { 2.9, 'C', \"Milhouse Van Houten\" } ;\n",
    "  if (id == 2) return { 1.7, 'D', \"Ralph Wiggum\" } ;\n",
    "  throw std::invalid_argument(\"id\");\n",
    "}"
   ]
  },
  {
   "cell_type": "code",
   "execution_count": 28,
   "metadata": {},
   "outputs": [],
   "source": [
    "void display_student( int id )\n",
    " {\n",
    "  auto s = get_student(id) ;\n",
    "    \n",
    "  std::cout\n",
    "    << \"GPA: \" << s.gpa << \", \"\n",
    "    << \"grade: \" << s.grade << \", \"\n",
    "    << \"name: \" << s.name\n",
    "    << std::endl;\n",
    " }"
   ]
  },
  {
   "cell_type": "code",
   "execution_count": 29,
   "metadata": {},
   "outputs": [
    {
     "name": "stdout",
     "output_type": "stream",
     "text": [
      "GPA: 3.8, grade: A, name: Lisa Simpson\n",
      "GPA: 2.9, grade: C, name: Milhouse Van Houten\n",
      "GPA: 1.7, grade: D, name: Ralph Wiggum\n"
     ]
    }
   ],
   "source": [
    "{\n",
    "  display_student(0) ;\n",
    "  display_student(1) ;\n",
    "  display_student(2) ;\n",
    "}"
   ]
  },
  {
   "cell_type": "markdown",
   "metadata": {},
   "source": [
    "In reality, the `std::tuple` only avoid the definition of the structure. As a consequence, the developer must use \"structure bindgins \" to keep their code clear. The `std::tuple` only becomes really interesting if the developer needs to write a function which must iterate over all the elements of a tuple, without knowing in advance the number and type of each element, which can never be done on an ordinary structure."
   ]
  },
  {
   "cell_type": "markdown",
   "metadata": {},
   "source": [
    "However, since each element of the tuple is of potentially different type, it is impossible to write a simple `for` loop that would be unrolled at the runtime. It is necessary to unroll the loop at compilation, with template mechanisms. Below is an example that displays all the elements of a tuple. If ever a new element is added to the tuple, it is no longer necessary to modify the main program :"
   ]
  },
  {
   "cell_type": "code",
   "execution_count": 1,
   "metadata": {},
   "outputs": [],
   "source": [
    "#include <iostream>\n",
    "#include <tuple>"
   ]
  },
  {
   "cell_type": "code",
   "execution_count": 2,
   "metadata": {},
   "outputs": [],
   "source": [
    "std::tuple<double, char, std::string> get_student( int id )\n",
    " {\n",
    "  if (id == 0) return { 3.8, 'A', \"Lisa Simpson\" };\n",
    "  if (id == 1) return { 2.9, 'C', \"Milhouse Van Houten\" };\n",
    "  if (id == 2) return { 1.7, 'D', \"Ralph Wiggum\" };\n",
    "  throw std::invalid_argument(\"unknown student id\");\n",
    " }"
   ]
  },
  {
   "cell_type": "code",
   "execution_count": 3,
   "metadata": {},
   "outputs": [],
   "source": [
    "void display_student( int id )\n",
    " {\n",
    "  std::apply\n",
    "   (\n",
    "    []( auto const &... elem )\n",
    "    { ((std::cout<<elem<<\" \"), ...) ; },\n",
    "    get_student(id)\n",
    "   ) ;\n",
    "  std::cout<<std::endl ;\n",
    " }"
   ]
  },
  {
   "cell_type": "code",
   "execution_count": 4,
   "metadata": {},
   "outputs": [
    {
     "name": "stdout",
     "output_type": "stream",
     "text": [
      "3.8 A Lisa Simpson \n",
      "2.9 C Milhouse Van Houten \n",
      "1.7 D Ralph Wiggum \n"
     ]
    }
   ],
   "source": [
    "{\n",
    "  display_student(0) ;\n",
    "  display_student(1) ;\n",
    "  display_student(2) ;\n",
    "}"
   ]
  },
  {
   "cell_type": "markdown",
   "metadata": {},
   "source": [
    "© *CNRS 2020*  \n",
    "*Assembled and written in french by David Chamont, translated by Karim Asnaoui, this work is made available according to the terms of the*  \n",
    "[*Creative Commons License - Attribution - NonCommercial - ShareAlike 4.0 International*](http://creativecommons.org/licenses/by-nc-sa/4.0/)"
   ]
  }
 ],
 "metadata": {
  "kernelspec": {
   "display_name": "C++17",
   "language": "C++17",
   "name": "xcpp17"
  },
  "language_info": {
   "codemirror_mode": "text/x-c++src",
   "file_extension": ".cpp",
   "mimetype": "text/x-c++src",
   "name": "c++",
   "version": "17"
  }
 },
 "nbformat": 4,
 "nbformat_minor": 4
}
