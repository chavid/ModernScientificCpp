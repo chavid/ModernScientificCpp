{
 "cells": [
  {
   "cell_type": "markdown",
   "metadata": {},
   "source": [
    "# `std::variant`\n",
    "\n",
    "The parameterized class `std::variant<A,B,...>` is an evolution of C unions. In addition, it memorizes the type of the last stored value, and raises exceptions if the developer makes type errors. From a \"type algebra\" point of view, we can think of it as the addition of types."
   ]
  },
  {
   "cell_type": "markdown",
   "metadata": {},
   "source": [
    "## Access when the current type is known\n",
    "\n",
    "When the type of the variant's current value is known, there is no particular difficulty, `std::get` can be used :"
   ]
  },
  {
   "cell_type": "code",
   "execution_count": 1,
   "metadata": {},
   "outputs": [],
   "source": [
    "#include <iostream>\n",
    "#include <variant>"
   ]
  },
  {
   "cell_type": "code",
   "execution_count": 2,
   "metadata": {},
   "outputs": [
    {
     "name": "stdout",
     "output_type": "stream",
     "text": [
      "42 42 3.14 3.14 \n"
     ]
    }
   ],
   "source": [
    "{\n",
    "  std::variant<int, double> v, w ;\n",
    "  int i, j ;\n",
    "  double x, y ;\n",
    "  \n",
    "  v = 42 ;\n",
    "  w = v ;\n",
    "  i = std::get<int>(v) ;\n",
    "  j = std::get<0>(w) ;\n",
    "  \n",
    "  w = 3.14 ;\n",
    "  v = w ;\n",
    "  x = std::get<double>(v) ;\n",
    "  y = std::get<1>(w) ;\n",
    "  \n",
    "  // std::get<float>(v); // compilation error: no float in [int, double]\n",
    "  // std::get<3>(v);     // compilation error: valid index values are 0 and 1\n",
    "  // std::get<int>(v);   // runtime exception: v currently contains a double\n",
    "  \n",
    "  std::cout<<i<<\" \"<<j<<\" \"<<x<<\" \"<<y<<\" \"<<std::endl ;\n",
    "}"
   ]
  },
  {
   "cell_type": "markdown",
   "metadata": {},
   "source": [
    "The advantage of `std::variant` compared to an union, is that a type mismatch between a write and a read is detected at the runtime."
   ]
  },
  {
   "cell_type": "markdown",
   "metadata": {},
   "source": [
    "## Access when the current type is unknown\n",
    "\n",
    "If the type of the value currently stored in the variant is unknown, the `std::get_if` can be used instead :"
   ]
  },
  {
   "cell_type": "code",
   "execution_count": 3,
   "metadata": {},
   "outputs": [],
   "source": [
    "#include <vector>"
   ]
  },
  {
   "cell_type": "code",
   "execution_count": 4,
   "metadata": {},
   "outputs": [
    {
     "name": "stdout",
     "output_type": "stream",
     "text": [
      "int value: 42\n",
      "double value: 3.14\n"
     ]
    }
   ],
   "source": [
    "{\n",
    "  using var_t = std::variant<int, double> ;\n",
    "  std::vector<var_t> vals = { 42, 3.14 } ;\n",
    "  for ( auto & val : vals )\n",
    "   {\n",
    "    int * ipval = std::get_if<int>(&val) ;\n",
    "    double * dpval = std::get_if<double>(&val) ;\n",
    "  \n",
    "    if ( ipval ) std::cout << \"int value: \" << *ipval << std::endl ;     \n",
    "    else if ( dpval ) std::cout << \"double value: \" << *dpval << std::endl ;    \n",
    "    else throw \"unknown value !\" ;    \n",
    "   }\n",
    "}"
   ]
  },
  {
   "cell_type": "markdown",
   "metadata": {},
   "source": [
    "## Polymorphic access\n",
    "\n",
    "A `std::visit` can be combined with a polymorphic lambda function, which will infer the correct type and give direct access to the value:"
   ]
  },
  {
   "cell_type": "code",
   "execution_count": 5,
   "metadata": {},
   "outputs": [
    {
     "name": "stdout",
     "output_type": "stream",
     "text": [
      "value: 42\n",
      "value: 3.14\n"
     ]
    }
   ],
   "source": [
    "{\n",
    "  using var_t = std::variant<int, double> ;\n",
    "\n",
    "  std::vector<var_t> vals = { 42, 3.14 } ;\n",
    "\n",
    "  for ( auto val : vals )\n",
    "    std::visit( []( auto arg )\n",
    "     { std::cout<<\"value: \"<<arg<<std::endl ; } , val ) ; \n",
    "}"
   ]
  },
  {
   "cell_type": "markdown",
   "metadata": {},
   "source": [
    "## Static differential treatment\n",
    "\n",
    "If the treatment to be applied depends on the type of the current value, a \"type pattern matching\"  form can be set with a tad heavy syntax :"
   ]
  },
  {
   "cell_type": "code",
   "execution_count": 6,
   "metadata": {},
   "outputs": [],
   "source": [
    "#include <type_traits>"
   ]
  },
  {
   "cell_type": "code",
   "execution_count": 7,
   "metadata": {},
   "outputs": [
    {
     "name": "stdout",
     "output_type": "stream",
     "text": [
      "int value: 42\n",
      "double value: 3.14\n"
     ]
    }
   ],
   "source": [
    "{\n",
    "  using var_t = std::variant<int, double> ;\n",
    "\n",
    "  std::vector<var_t> vals = { 42, 3.14 } ;\n",
    "\n",
    "  for ( auto val : vals )\n",
    "    std::visit( []( auto arg )\n",
    "     { \n",
    "      using T = std::decay_t<decltype(arg)> ;\n",
    "\n",
    "      if constexpr (std::is_same_v<T, int>)\n",
    "        std::cout<<\"int value: \"<<arg<<std::endl ;\n",
    "      else if constexpr (std::is_same_v<T, double>)\n",
    "        std::cout<<\"double value: \"<<arg<<std::endl ;\n",
    "\n",
    "     },val) ;\n",
    "\n",
    "}"
   ]
  },
  {
   "cell_type": "markdown",
   "metadata": {},
   "source": [
    "## Exercise\n",
    "\n",
    "In this example, replace inheritance with the use of `variant` :"
   ]
  },
  {
   "cell_type": "code",
   "execution_count": 8,
   "metadata": {},
   "outputs": [
    {
     "name": "stdout",
     "output_type": "stream",
     "text": [
      "Writing tmp.std-variant.cpp\n"
     ]
    }
   ],
   "source": [
    "%%file tmp.std-variant.cpp\n",
    "\n",
    "#include <iostream>\n",
    "#include <vector>\n",
    "\n",
    "struct Particule\n",
    " {\n",
    "  virtual void affiche() = 0 ;\n",
    "  virtual ~Particule() = default ;\n",
    " } ;\n",
    "\n",
    "struct Electron : public Particule\n",
    " { virtual void affiche(){ std::cout<<\"E\"<<std::endl ; } } ;\n",
    "\n",
    "struct Proton : public Particule\n",
    " { virtual void affiche(){ std::cout<<\"P\"<<std::endl ; } } ;\n",
    "\n",
    "struct Neutron : public Particule\n",
    " { virtual void affiche(){ std::cout<<\"N\"<<std::endl ; } } ;\n",
    "\n",
    "int main()\n",
    " {\n",
    "  std::vector<Particule *> ps =\n",
    "   { new Electron, new Proton, new Neutron } ;\n",
    "\n",
    "  for ( auto p : ps )\n",
    "   { p->affiche() ; }\n",
    " }"
   ]
  },
  {
   "cell_type": "code",
   "execution_count": 9,
   "metadata": {},
   "outputs": [],
   "source": [
    "!rm -f tmp.std-variant.exe && g++ -std=c++17 tmp.std-variant.cpp -o tmp.std-variant.exe"
   ]
  },
  {
   "cell_type": "code",
   "execution_count": 10,
   "metadata": {},
   "outputs": [
    {
     "name": "stdout",
     "output_type": "stream",
     "text": [
      "E\n",
      "P\n",
      "N\n"
     ]
    }
   ],
   "source": [
    "!./tmp.std-variant.exe"
   ]
  },
  {
   "cell_type": "markdown",
   "metadata": {},
   "source": [
    "© *CNRS 2020*  \n",
    "*Assembled and written in french by David Chamont, translated by Karim Asnaoui, this work is made available according to the terms of the*  \n",
    "[*Creative Commons License - Attribution - NonCommercial - ShareAlike 4.0 International*](http://creativecommons.org/licenses/by-nc-sa/4.0/)"
   ]
  }
 ],
 "metadata": {
  "kernelspec": {
   "display_name": "C++17",
   "language": "C++17",
   "name": "xcpp17"
  },
  "language_info": {
   "codemirror_mode": "text/x-c++src",
   "file_extension": ".cpp",
   "mimetype": "text/x-c++src",
   "name": "c++",
   "version": "17"
  }
 },
 "nbformat": 4,
 "nbformat_minor": 4
}
