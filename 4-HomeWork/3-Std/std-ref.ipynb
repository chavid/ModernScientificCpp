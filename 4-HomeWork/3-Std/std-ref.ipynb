{
 "cells": [
  {
   "cell_type": "markdown",
   "metadata": {},
   "source": [
    "# Reference envelopes\n",
    "\n",
    "When using templates, the compiler is not always able to guess the developer's intent:"
   ]
  },
  {
   "cell_type": "code",
   "execution_count": null,
   "metadata": {},
   "outputs": [],
   "source": [
    "#include <iostream>"
   ]
  },
  {
   "cell_type": "code",
   "execution_count": null,
   "metadata": {},
   "outputs": [],
   "source": [
    "void f( int & n ) { n = 5 ; }"
   ]
  },
  {
   "cell_type": "code",
   "execution_count": null,
   "metadata": {},
   "outputs": [],
   "source": [
    "template < typename F, typename T >\n",
    "void apply1( F f, T t ) { f(t) ; }"
   ]
  },
  {
   "cell_type": "code",
   "execution_count": null,
   "metadata": {
    "attributes": {
     "classes": [
      "cpp"
     ],
     "id": ""
    }
   },
   "outputs": [],
   "source": [
    "{\n",
    "    int i = 3 ;\n",
    "    f(i) ;\n",
    "    std::cout<<i<<std::endl ;\n",
    "    int j = 3 ;\n",
    "    apply1(f,j) ; // p is always equal to 3 after the call !\n",
    "    std::cout<<j<<std::endl ;\n",
    "}"
   ]
  },
  {
   "cell_type": "markdown",
   "metadata": {},
   "source": [
    "As the `apply1` function is instantiated in the form `apply1<void (int &), int>`, its second argument is passed to it by value. The value of `j` therefore remains unchanged. With C++03, we could locally solve the problem by restricting the possibilities of `apply1` :"
   ]
  },
  {
   "cell_type": "code",
   "execution_count": null,
   "metadata": {
    "attributes": {
     "classes": [
      "cpp"
     ],
     "id": ""
    }
   },
   "outputs": [],
   "source": [
    "template < typename F, typename T >\n",
    "void apply2( F f, T & t ) { f(t) ; }"
   ]
  },
  {
   "cell_type": "code",
   "execution_count": null,
   "metadata": {
    "attributes": {
     "classes": [
      "cpp"
     ],
     "id": ""
    }
   },
   "outputs": [],
   "source": [
    "{\n",
    "    int j = 3 ;\n",
    "    apply2(f,j) ; // p vaut toujours 3 après l'appel !\n",
    "    std::cout<<j<<std::endl ;\n",
    "}"
   ]
  },
  {
   "cell_type": "markdown",
   "metadata": {},
   "source": [
    "In C++ 11, `apply1` can keep all of it generality, but one must enforce explicitly a transmission by reference on a case-by-case basis when calling the function :"
   ]
  },
  {
   "cell_type": "code",
   "execution_count": null,
   "metadata": {
    "attributes": {
     "classes": [
      "cpp"
     ],
     "id": ""
    }
   },
   "outputs": [],
   "source": [
    "#include <functional>\n",
    "{\n",
    "    int j = 3 ;\n",
    "    apply1(f,std::ref(j)) ;\n",
    "    std::cout<<j<<std::endl ;\n",
    "}"
   ]
  },
  {
   "cell_type": "markdown",
   "metadata": {},
   "source": [
    "© *CNRS 2020*  \n",
    "*Assembled and written in french by David Chamont, translated by Karim Asnaoui, this work is made available according to the terms of the*  \n",
    "[*Creative Commons License - Attribution - NonCommercial - ShareAlike 4.0 International*](http://creativecommons.org/licenses/by-nc-sa/4.0/)"
   ]
  }
 ],
 "metadata": {
  "kernelspec": {
   "display_name": "C++17",
   "language": "C++17",
   "name": "xcpp17"
  },
  "language_info": {
   "codemirror_mode": "text/x-c++src",
   "file_extension": ".cpp",
   "mimetype": "text/x-c++src",
   "name": "c++",
   "version": "17"
  }
 },
 "nbformat": 4,
 "nbformat_minor": 4
}
