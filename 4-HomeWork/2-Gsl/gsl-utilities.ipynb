{
 "cells": [
  {
   "cell_type": "markdown",
   "metadata": {
    "slideshow": {
     "slide_type": "slide"
    }
   },
   "source": [
    "# Miscellaneous GSL utilities\n",
    "\n",
    "Some isolated utilities, which sometimes prefigure features to come in the next versions of the C ++ standard and its library."
   ]
  },
  {
   "cell_type": "markdown",
   "metadata": {
    "slideshow": {
     "slide_type": "slide"
    }
   },
   "source": [
    "## Contracts\n",
    "\n",
    "GSL offers two dedicated assertions to validate *pre-conditions* and *post-conditions*.\n",
    "* `Expects(p)`: stop the application unless `p == true`.\n",
    "* `Ensures(p)`: stop the application unless `p == true`."
   ]
  },
  {
   "cell_type": "markdown",
   "metadata": {
    "slideshow": {
     "slide_type": "subslide"
    }
   },
   "source": [
    "These assertions are currently implemented via macros, and must be placed in the body of functions, while waiting for future decisions of the standardization committee that deals with contracts and syntax of assertions. In the [Contract Proposal](http://www.open-std.org/jtc1/sc22/wg21/docs/papers/2016/p0380r1.pdf), it is proposed to to move these declarations to the level of function declarations and use some specifiers such as `[[expects: p]]`. The latest news is that the contracts will not be in the C++20."
   ]
  },
  {
   "cell_type": "code",
   "execution_count": 1,
   "metadata": {
    "slideshow": {
     "slide_type": "subslide"
    }
   },
   "outputs": [
    {
     "name": "stdout",
     "output_type": "stream",
     "text": [
      "Writing tmp.gsl-utilities.cpp\n"
     ]
    }
   ],
   "source": [
    "%%file tmp.gsl-utilities.cpp\n",
    "\n",
    "#include <iostream>\n",
    "#include <gsl/gsl>\n",
    "\n",
    "void divide( double num, double den ) {\n",
    "    Expects(den!=0) ;\n",
    "    std::cout<<(num/den)<<std::endl ;\n",
    "}\n",
    "\n",
    "int main() {\n",
    "    divide(5,0) ;\n",
    "}"
   ]
  },
  {
   "cell_type": "code",
   "execution_count": 2,
   "metadata": {
    "slideshow": {
     "slide_type": "fragment"
    }
   },
   "outputs": [],
   "source": [
    "!rm -f tmp.gsl-utilities.exe && g++ -std=c++17 -I./ tmp.gsl-utilities.cpp -o tmp.gsl-utilities.exe"
   ]
  },
  {
   "cell_type": "code",
   "execution_count": 3,
   "metadata": {
    "slideshow": {
     "slide_type": "fragment"
    }
   },
   "outputs": [
    {
     "name": "stdout",
     "output_type": "stream",
     "text": [
      "terminate called without an active exception\n",
      "Aborted\n"
     ]
    }
   ],
   "source": [
    "!./tmp.gsl-utilities.exe"
   ]
  },
  {
   "cell_type": "markdown",
   "metadata": {
    "slideshow": {
     "slide_type": "slide"
    }
   },
   "source": [
    "## Final action: `finally()`\n",
    "\n",
    "As a last resort, when the resources management tools are not sufficient, we can define a function to be invoked at the end of a block."
   ]
  },
  {
   "cell_type": "code",
   "execution_count": 32,
   "metadata": {
    "slideshow": {
     "slide_type": "subslide"
    }
   },
   "outputs": [
    {
     "name": "stdout",
     "output_type": "stream",
     "text": [
      "Writing tmp.gsl-utilities.cpp\n"
     ]
    }
   ],
   "source": [
    "%%file tmp.gsl-utilities.cpp\n",
    "\n",
    "#include <iostream>\n",
    "#include <gsl/gsl>\n",
    "\n",
    "struct Demo {\n",
    "    Demo() { std::cout<<\"Constructor\"<<std::endl ; }\n",
    "    ~Demo() { std::cout<<\"Destructor\"<<std::endl ; }\n",
    "} ;\n",
    "\n",
    "int main() {\n",
    "    Demo * d = new Demo ;\n",
    "    auto _ = gsl::finally([d](){ delete d ; }) ;\n",
    "    // ...\n",
    "}"
   ]
  },
  {
   "cell_type": "code",
   "execution_count": 26,
   "metadata": {
    "slideshow": {
     "slide_type": "fragment"
    }
   },
   "outputs": [],
   "source": [
    "!rm -f tmp.gsl-utilities.exe && g++ -std=c++17 -I./ tmp.gsl-utilities.cpp -o tmp.gsl-utilities.exe"
   ]
  },
  {
   "cell_type": "code",
   "execution_count": 27,
   "metadata": {
    "slideshow": {
     "slide_type": "fragment"
    }
   },
   "outputs": [
    {
     "name": "stdout",
     "output_type": "stream",
     "text": [
      "Constructor\n",
      "Destructor\n"
     ]
    }
   ],
   "source": [
    "!./tmp.gsl-utilities.exe"
   ]
  },
  {
   "cell_type": "markdown",
   "metadata": {
    "slideshow": {
     "slide_type": "slide"
    }
   },
   "source": [
    "## \"C-style\" strings `gsl::zstring` and `gsl::czstring`\n",
    "\n",
    "The two aliases below simply allow to draw attention to strings that are supposed to end with a null character:\n",
    "* `zstring`: `char *`, being `nullptr` or pointing to a C-style string;\n",
    "* `czstring`: `char const *`, being `nullptr` or pointing to a C-style string."
   ]
  },
  {
   "cell_type": "markdown",
   "metadata": {
    "slideshow": {
     "slide_type": "subslide"
    }
   },
   "source": [
    "If your C-style string pointer should not be null, use `gsl::not_null<zstring>`."
   ]
  },
  {
   "cell_type": "markdown",
   "metadata": {
    "slideshow": {
     "slide_type": "subslide"
    }
   },
   "source": [
    "If your string is not supposed to end with a null character, use `string_view`."
   ]
  },
  {
   "cell_type": "markdown",
   "metadata": {
    "slideshow": {
     "slide_type": "slide"
    }
   },
   "source": [
    "## Numerical utilities: `narrow_cast<T>(x)` and `narrow<T>(x)`"
   ]
  },
  {
   "cell_type": "markdown",
   "metadata": {
    "slideshow": {
     "slide_type": "fragment"
    }
   },
   "source": [
    "The first one, `narrow_cast<T>(x)`, is just a statement for programmers or testing tools. It clarifies the fact that the developer wants **voluntarily** to force a value to a less precise type. "
   ]
  },
  {
   "cell_type": "markdown",
   "metadata": {
    "slideshow": {
     "slide_type": "fragment"
    }
   },
   "source": [
    "The second one, `narrow<T>(x)`, checks at runtime that the value `x` was not narrowed when transformed into a `T`, and throws an exception (or terminates the program) otherwise (if `static_cast<T>(x) != x`). Shouldn't it be called instead `no_narrow` ?!"
   ]
  },
  {
   "cell_type": "code",
   "execution_count": 1,
   "metadata": {
    "slideshow": {
     "slide_type": "subslide"
    }
   },
   "outputs": [
    {
     "name": "stdout",
     "output_type": "stream",
     "text": [
      "Writing tmp.gsl-utilities.cpp\n"
     ]
    }
   ],
   "source": [
    "%%file tmp.gsl-utilities.cpp\n",
    "\n",
    "#include <iostream>\n",
    "#include <gsl/gsl>\n",
    "\n",
    "int main() {\n",
    "    double d = 3.14 ;\n",
    "    int i = gsl::narrow<int>(d) ;\n",
    "    std::cout<<i<<std::endl ;\n",
    "}"
   ]
  },
  {
   "cell_type": "code",
   "execution_count": 2,
   "metadata": {
    "slideshow": {
     "slide_type": "fragment"
    }
   },
   "outputs": [],
   "source": [
    "!rm -f tmp.gsl-utilities.exe && g++ -std=c++17 -I./ tmp.gsl-utilities.cpp -o tmp.gsl-utilities.exe"
   ]
  },
  {
   "cell_type": "code",
   "execution_count": 3,
   "metadata": {
    "slideshow": {
     "slide_type": "fragment"
    }
   },
   "outputs": [
    {
     "name": "stdout",
     "output_type": "stream",
     "text": [
      "terminate called without an active exception\n",
      "Aborted (core dumped)\n"
     ]
    }
   ],
   "source": [
    "!./tmp.gsl-utilities.exe"
   ]
  },
  {
   "cell_type": "markdown",
   "metadata": {
    "slideshow": {
     "slide_type": "slide"
    }
   },
   "source": [
    "# Questions ?"
   ]
  },
  {
   "cell_type": "markdown",
   "metadata": {
    "slideshow": {
     "slide_type": "skip"
    }
   },
   "source": [
    "## Exercise 1\n",
    "\n",
    "Create your own `no_narrow`. Some hints:\n",
    "* in order to verify that there is no \"narrowing\", it is necessary to verify that `static_cast<T>(x) == x` ;\n",
    "* as you want to be able to build a `no_narrow` from a value of any other type, you have to template the constructor..."
   ]
  },
  {
   "cell_type": "code",
   "execution_count": 31,
   "metadata": {
    "slideshow": {
     "slide_type": "skip"
    }
   },
   "outputs": [
    {
     "name": "stdout",
     "output_type": "stream",
     "text": [
      "Overwriting tmp.gsl-utilities.cpp\n"
     ]
    }
   ],
   "source": [
    "%%file tmp.gsl-utilities.cpp\n",
    "\n",
    "#include <iostream>\n",
    "#include <cassert>\n",
    "\n",
    "// ... no_narrow ...\n",
    " \n",
    "int main()\n",
    " {     \n",
    "  double d1 = 42 ;\n",
    "  int i1 = no_narrow<int>(d1) ;\n",
    "  std::cout<<i1<<std::endl ;\n",
    "    \n",
    "  double d2 = 3.14 ;\n",
    "  int i2 = no_narrow<int>(d2) ;\n",
    "  std::cout<<i2<<std::endl ;\n",
    " }"
   ]
  },
  {
   "cell_type": "code",
   "execution_count": null,
   "metadata": {
    "slideshow": {
     "slide_type": "skip"
    }
   },
   "outputs": [],
   "source": [
    "!rm -f tmp.gsl-utilities.exe && g++ -std=c++17 -I./ tmp.gsl-utilities.cpp -o tmp.gsl-utilities.exe"
   ]
  },
  {
   "cell_type": "code",
   "execution_count": null,
   "metadata": {
    "slideshow": {
     "slide_type": "skip"
    }
   },
   "outputs": [],
   "source": [
    "!./tmp.gsl-utilities.exe"
   ]
  },
  {
   "cell_type": "markdown",
   "metadata": {
    "slideshow": {
     "slide_type": "skip"
    }
   },
   "source": [
    "## Exercise 2\n",
    "\n",
    "Create your own `my_finally`. We suggest to use two following elements:\n",
    "* On the one hand, a `FinalAction` structure is capable of storing a function and a callable which invokes this function when it is destroyed.\n",
    "* On the other hand, a utility function `my_finally` is used to create an object of this type.\n",
    "\n",
    "Why not to settle for only one structure?"
   ]
  },
  {
   "cell_type": "code",
   "execution_count": null,
   "metadata": {
    "slideshow": {
     "slide_type": "skip"
    }
   },
   "outputs": [],
   "source": [
    "%%file tmp.gsl-utilities.cpp\n",
    "\n",
    "#include <iostream>\n",
    " \n",
    "// ... struct ActionFinal ...\n",
    " \n",
    "// ... function my_finally ...\n",
    "\n",
    "int main()\n",
    " {     \n",
    "  std::cout<<\"Step 1\"<<std::endl ;\n",
    "  auto _ = my_finally([](){ std::cout<<\"Step 3\"<<std::endl ; }) ;\n",
    "  std::cout<<\"Step 2\"<<std::endl ;\n",
    " }"
   ]
  },
  {
   "cell_type": "code",
   "execution_count": null,
   "metadata": {
    "slideshow": {
     "slide_type": "skip"
    }
   },
   "outputs": [],
   "source": [
    "!rm -f tmp.gsl-utilities.exe && g++ -std=c++17 -I./ tmp.gsl-utilities.cpp -o tmp.gsl-utilities.exe"
   ]
  },
  {
   "cell_type": "code",
   "execution_count": null,
   "metadata": {
    "slideshow": {
     "slide_type": "skip"
    }
   },
   "outputs": [],
   "source": [
    "!./tmp.gsl-utilities.exe"
   ]
  },
  {
   "cell_type": "markdown",
   "metadata": {
    "slideshow": {
     "slide_type": "skip"
    }
   },
   "source": [
    "## Sources\n",
    "\n",
    "* https://stackoverflow.com/questions/40127965/how-exactly-is-stdstring-view-faster-than-const-stdstring\n",
    "* http://isocpp.github.io/CppCoreGuidelines/CppCoreGuidelines#gsl-guidelines-support-library\n",
    "* http://modernescpp.com/index.php/c-core-guideline-the-guidelines-support-library\n",
    "* http://nullptr.nl/2018/08/refurbish-legacy-code/"
   ]
  },
  {
   "cell_type": "markdown",
   "metadata": {
    "slideshow": {
     "slide_type": "skip"
    }
   },
   "source": [
    "© *CNRS 2021*  \n",
    "*This document was created by David Chamont and translated by Olga Abramkina. It is available under the [License Creative Commons - Attribution - No commercial use - Shared under the conditions 4.0 International](http://creativecommons.org/licenses/by-nc-sa/4.0/)*"
   ]
  }
 ],
 "metadata": {
  "celltoolbar": "Diaporama",
  "kernelspec": {
   "display_name": "C++17",
   "language": "C++17",
   "name": "xcpp17"
  },
  "language_info": {
   "codemirror_mode": "text/x-c++src",
   "file_extension": ".cpp",
   "mimetype": "text/x-c++src",
   "name": "c++",
   "version": "17"
  }
 },
 "nbformat": 4,
 "nbformat_minor": 4
}
