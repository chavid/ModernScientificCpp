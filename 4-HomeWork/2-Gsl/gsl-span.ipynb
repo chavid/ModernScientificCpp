{
 "cells": [
  {
   "cell_type": "markdown",
   "metadata": {},
   "source": [
    "# `gsl::span`\n",
    "\n",
    "An instance of `span<T>` (formerly `array_view<T>`) denotes a sequence of instances of `T`, modifiable (unless` T` is a `const` type). It is a **non-owner view** in the sense that the instance of `span <T>` is built on top of another collection, and only provides simplified and standardized access to its elements."
   ]
  },
  {
   "cell_type": "markdown",
   "metadata": {},
   "source": [
    "## Construction\n",
    "\n",
    "This type is the equivalent of a pointer and a size, and is based on the assumption that the elements of the sequence are in a contiguous memory area. Therefore, a  `gsl::span<T>` can only be built from collections that respect this memory contiguity, such as `std::vector<T>`, `std::array<T>`, `std::string` or an ordinary array `T[N]`."
   ]
  },
  {
   "cell_type": "code",
   "execution_count": 4,
   "metadata": {},
   "outputs": [
    {
     "name": "stdout",
     "output_type": "stream",
     "text": [
      "Overwriting tmp.gsl-span.cpp\n"
     ]
    }
   ],
   "source": [
    "%%file tmp.gsl-span.cpp\n",
    "\n",
    "#include <iostream>\n",
    "#include <vector>\n",
    "#include <gsl/gsl>\n",
    "\n",
    "template <typename T>\n",
    "void display( gsl::span<T> data )\n",
    " {\n",
    "   for( auto e : data) std::cout << e << ' ';\n",
    "   std::cout << std::endl;\n",
    " }\n",
    " \n",
    "int main()\n",
    " {\n",
    "  std::vector<int> v{ 1, 2, 3, 4, 5 };\n",
    "  gsl::span<int> s1{ v };\n",
    "  display(s1);\n",
    " \n",
    "  std::array<int, 5> a{ 10, 20, 30, 40, 50 };\n",
    "  gsl::span<int> s2{ a };\n",
    "  display(s2);\n",
    " \n",
    "  int arr[] = { 100, 200, 300, 400, 500 } ;\n",
    "  gsl::span<int> s3{ arr } ;\n",
    "  display(s3);\n",
    "    \n",
    "  return 0 ;\n",
    "}"
   ]
  },
  {
   "cell_type": "code",
   "execution_count": 5,
   "metadata": {},
   "outputs": [],
   "source": [
    "!rm -f tmp.gsl-span.exe && g++ -std=c++17 -I./ tmp.gsl-span.cpp -o tmp.gsl-span.exe"
   ]
  },
  {
   "cell_type": "code",
   "execution_count": 6,
   "metadata": {},
   "outputs": [
    {
     "name": "stdout",
     "output_type": "stream",
     "text": [
      "1 2 3 4 5 \n",
      "10 20 30 40 50 \n",
      "100 200 300 400 500 \n"
     ]
    }
   ],
   "source": [
    "!./tmp.gsl-span.exe"
   ]
  },
  {
   "cell_type": "markdown",
   "metadata": {},
   "source": [
    "## Static size\n",
    "\n",
    "In the examples above, the size of the view is determined at the runtime. When the size is known in advance, it is recommended to specify it explicitly :"
   ]
  },
  {
   "cell_type": "code",
   "execution_count": 7,
   "metadata": {},
   "outputs": [
    {
     "name": "stdout",
     "output_type": "stream",
     "text": [
      "Overwriting tmp.gsl-span.cpp\n"
     ]
    }
   ],
   "source": [
    "%%file tmp.gsl-span.cpp\n",
    "\n",
    "#include <iostream>\n",
    "#include <gsl/gsl>\n",
    "\n",
    "template <typename T, std::ptrdiff_t size>\n",
    "void display( gsl::span<T,size> data )\n",
    " {\n",
    "   for( auto e : data)\n",
    "     std::cout << e << ' ';\n",
    "   std::cout << std::endl;\n",
    " }\n",
    " \n",
    "int main()\n",
    " {\n",
    "  std::array<int,5> data { 1, 2, 3, 4, 5 } ;\n",
    "  gsl::span<int,5> s{ data };\n",
    "  display(s);\n",
    "    \n",
    "  return 0 ;\n",
    "}"
   ]
  },
  {
   "cell_type": "code",
   "execution_count": 8,
   "metadata": {},
   "outputs": [],
   "source": [
    "!rm -f tmp.gsl-span.exe && g++ -std=c++17 -I./ tmp.gsl-span.cpp -o tmp.gsl-span.exe"
   ]
  },
  {
   "cell_type": "code",
   "execution_count": 9,
   "metadata": {},
   "outputs": [
    {
     "name": "stdout",
     "output_type": "stream",
     "text": [
      "1 2 3 4 5 \n"
     ]
    }
   ],
   "source": [
    "!./tmp.gsl-span.exe"
   ]
  },
  {
   "cell_type": "markdown",
   "metadata": {},
   "source": [
    "In fact, when the second parameter is not specified, it receives the default value `-1`, which means `dynamic_extent`."
   ]
  },
  {
   "cell_type": "markdown",
   "metadata": {},
   "source": [
    "## Sub views\n",
    "\n",
    "A view portion can be extracted from the start, from the end, or between a start and end index (excluded). This is applied at runtime, or at compilation time if the indices are already known."
   ]
  },
  {
   "cell_type": "code",
   "execution_count": 10,
   "metadata": {},
   "outputs": [
    {
     "name": "stdout",
     "output_type": "stream",
     "text": [
      "Overwriting tmp.gsl-span.cpp\n"
     ]
    }
   ],
   "source": [
    "%%file tmp.gsl-span.cpp\n",
    "\n",
    "#include <iostream>\n",
    "#include <gsl/gsl>\n",
    "\n",
    "template <typename T, std::ptrdiff_t size>\n",
    "void display( gsl::span<T,size> data )\n",
    " {\n",
    "   for( auto e : data) std::cout << e << ' ';\n",
    "   std::cout << std::endl;\n",
    " }\n",
    " \n",
    "int main()\n",
    " {\n",
    "  std::array<int,5> data { 1, 2, 3, 4, 5 } ;\n",
    "  gsl::span<int,5> s{ data } ;\n",
    "\n",
    "  // run time\n",
    "  display(s.first(2)) ;\n",
    "  display(s.last(2)) ;\n",
    "  display(s.subspan(1,3)) ;\n",
    "    \n",
    "  // compile time\n",
    "  display(s.first<2>()) ;\n",
    "  display(s.last<2>()) ;\n",
    "  display(s.subspan<1,3>()) ;\n",
    "    \n",
    "  return 0 ;\n",
    "}"
   ]
  },
  {
   "cell_type": "code",
   "execution_count": 11,
   "metadata": {},
   "outputs": [],
   "source": [
    "!rm -f tmp.gsl-span.exe && g++ -std=c++17 -I./ tmp.gsl-span.cpp -o tmp.gsl-span.exe"
   ]
  },
  {
   "cell_type": "code",
   "execution_count": 12,
   "metadata": {},
   "outputs": [
    {
     "name": "stdout",
     "output_type": "stream",
     "text": [
      "1 2 \n",
      "4 5 \n",
      "2 3 4 \n",
      "1 2 \n",
      "4 5 \n",
      "2 3 4 \n"
     ]
    }
   ],
   "source": [
    "!./tmp.gsl-span.exe"
   ]
  },
  {
   "cell_type": "markdown",
   "metadata": {},
   "source": [
    "## To remember\n",
    "\n",
    "As Etienne Boespflug puts it very well :\n",
    "\n",
    "> Wherever you could use a pointer and a size, prefer `gsl::span`, which simplifies passing arguments (`(gsl::span<T> s)` rather than `(T t [], std::size_t size)`) and responds to the interface of a container, which avoids errors due to pointer arithmetic.\n",
    "\n",
    "> From a semantic point of view, it makes it clear that you are only working on a view rather than a pointer or container that owns the resource.\n",
    "\n",
    "> Being just a view, it avoids copying, so consider using `gsl::span<T>` instead of a `std::vector<T> const &`. This will produce more flexible code.\n",
    "\n",
    "> `gsl::span` does not perform bound checking, like the much contested `std::vector::at`, but allows the addition of debug information for out-of-bounds accesses from the part of the implementation.\n",
    "\n",
    "> Using `gsl::span` also allows you to write generic code, which will benefit from a simple interface and which will be usable with a simple pointer/size pair, std::vector, std::array, std::string, C style arrays or even boost::container::vector, QVector, etc… So don't hesitate to overuse them."
   ]
  },
  {
   "cell_type": "markdown",
   "metadata": {},
   "source": [
    "## Some details\n",
    "\n",
    "* A view will not be able to be constructed from an instance of `initializer_list`, since it is a collection of an ephemeral nature, whereas a view must rely on a durable underlying structure.\n",
    "* The C++20 standard should contain a `std::span` like the` gsl::span`.\n",
    "* There was some hunger for multi-dimensional views, which Microsoft referred to as `multi_span`, and which others call `mdspan`. The proposal [P0009](https://wg21.link/p0009) has been submitted, discussed [here](https://cppcast.com/bryce-lelbach-mdspan/). The [reference implementation](https://github.com/kokkos/mdspan) is provided within Kokkos, and discussed [here](https://ieeexplore.ieee.org/document/8945643). Another implementation within Magnum is discussed [here](https://blog.magnum.graphics/backstage/multidimensional-strided-array-views)."
   ]
  },
  {
   "cell_type": "markdown",
   "metadata": {},
   "source": [
    "## Exercise\n",
    "\n",
    "Write your own `my_span<T>` :\n",
    "1. Provide a constructor from a `std::array<T>`.\n",
    "2. Add `size()` and `operator[]` member functions, which should make the code compilable.\n",
    "3. Try turning the constructor into a pattern, assuming that the object passed to the constructor still has `size()` and `operator[]` member functions."
   ]
  },
  {
   "cell_type": "code",
   "execution_count": null,
   "metadata": {},
   "outputs": [],
   "source": [
    "%%file tmp.gsl-span.cpp\n",
    "\n",
    "#include <iostream>\n",
    "#include <array>\n",
    "#include <cassert>\n",
    "\n",
    "// ... my_span ..\n",
    "\n",
    "template <typename T>\n",
    "void display( my_span<T> data )\n",
    " {\n",
    "   for( std::size_t i = 0 ; i < data.size() ; ++i )\n",
    "     std::cout << data[i] << ' ' ;\n",
    "   std::cout << std::endl ;\n",
    " }\n",
    " \n",
    "int main()\n",
    " {\n",
    "  std::array<int,5> data { 1, 2, 3, 4, 5 } ;\n",
    "  my_span<int> s { data } ;\n",
    "  display(s) ;  \n",
    "  return 0 ;\n",
    "}"
   ]
  },
  {
   "cell_type": "code",
   "execution_count": null,
   "metadata": {},
   "outputs": [],
   "source": [
    "!rm -f tmp.gsl-span.exe && g++ -std=c++17 -I./ tmp.gsl-span.cpp -o tmp.gsl-span.exe"
   ]
  },
  {
   "cell_type": "code",
   "execution_count": null,
   "metadata": {},
   "outputs": [],
   "source": [
    "!./tmp.gsl-span.exe"
   ]
  },
  {
   "cell_type": "markdown",
   "metadata": {},
   "source": [
    "## References\n",
    "\n",
    "* https://etienne-boespflug.fr/cpp/257-c20-stdspan/\n",
    "* https://github.com/microsoft/GSL/blob/master/include/gsl/span\n",
    "* http://codexpert.ro/blog/2016/03/07/guidelines-support-library-review-spant/\n",
    "* http://www.open-std.org/jtc1/sc22/wg21/docs/papers/2019/p0009r9.html\n",
    "* https://github.com/kokkos/mdspan"
   ]
  },
  {
   "cell_type": "markdown",
   "metadata": {},
   "source": [
    "© *CNRS 2020*  \n",
    "*Assembled and written in french by David Chamont, translated by Karim Asnaoui, this work is made available according to the terms of the*  \n",
    "[*Creative Commons License - Attribution - NonCommercial - ShareAlike 4.0 International*](http://creativecommons.org/licenses/by-nc-sa/4.0/)"
   ]
  }
 ],
 "metadata": {
  "kernelspec": {
   "display_name": "Python 3",
   "language": "python",
   "name": "python3"
  },
  "language_info": {
   "codemirror_mode": {
    "name": "ipython",
    "version": 3
   },
   "file_extension": ".py",
   "mimetype": "text/x-python",
   "name": "python",
   "nbconvert_exporter": "python",
   "pygments_lexer": "ipython3",
   "version": "3.9.7"
  }
 },
 "nbformat": 4,
 "nbformat_minor": 4
}
