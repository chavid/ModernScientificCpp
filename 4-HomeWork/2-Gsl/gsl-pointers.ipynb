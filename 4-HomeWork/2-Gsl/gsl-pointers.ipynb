{
 "cells": [
  {
   "cell_type": "markdown",
   "metadata": {},
   "source": [
    "# GSL : on the pointers side"
   ]
  },
  {
   "cell_type": "markdown",
   "metadata": {},
   "source": [
    "Many problems related to pointers come from their multiple uses, in particular the fact that they can indifferently designate memory areas of the stack or the heap, single objects or arrays, dynamic memory areas (heap) managed elsewhere, or to release at the end of the instructions current block. The GSL provides small tools and recommendations to better differentiate all uses."
   ]
  },
  {
   "cell_type": "markdown",
   "metadata": {},
   "source": [
    "## Pointers and raw references : `T*` et `T&`\n",
    "\n",
    "A \"raw\", or \"nude\" pointer, (e.g. `T*`) is supposed to have its most ordinary meaning: it points to an object, but does not \"own\" it. Implied: the portion of code that uses this pointer is not supposed to do a `delete` at the end of use.\n",
    "\n",
    "If the pointer is not meant to change value, and is never meant to be null, a reference will be preferable whenever possible.\n",
    "\n",
    "In addition, it is forbidden to use a raw pointer to designate an array. Now, many other solutions exist."
   ]
  },
  {
   "cell_type": "markdown",
   "metadata": {},
   "source": [
    "## Non-null Pointers : `gsl::not_null<T>`"
   ]
  },
  {
   "cell_type": "markdown",
   "metadata": {},
   "source": [
    "When a pointer is going to be dereferenced (via `*` or `->`), a common practice is to first check that it is not null, as a precaution, which obscures and slows down the code. Whenever possible, replace this pointer with a reference."
   ]
  },
  {
   "cell_type": "markdown",
   "metadata": {},
   "source": [
    "Otherwise, use `gsl::not_null<T>`, which ensures that you never give the pointer a null value. `T` is usually a pointer type, but in fact` T` can be any type for which `== nullptr` makes sense."
   ]
  },
  {
   "cell_type": "markdown",
   "metadata": {},
   "source": [
    "If one tries to assign a null value, the kind of error may vary:\n",
    "* a compilation error: if `nullptr` is directly assigned to the instance of `gsl::not_null` (`d4` in the example below),\n",
    "* a runtime error: if `nullptr` goes through an intermediate value (`d3` in the example below)."
   ]
  },
  {
   "cell_type": "code",
   "execution_count": null,
   "metadata": {},
   "outputs": [],
   "source": [
    "%%file tmp.gsl-pointers.cpp\n",
    "\n",
    "#include <iostream>\n",
    "#include <gsl/gsl>\n",
    "\n",
    "class Demo {\n",
    "  public:\n",
    "    Demo() { std::cout<<\"Constructor\"<<std::endl ; }\n",
    "    ~Demo() { std::cout<<\"Destructor\"<<std::endl ; }\n",
    "} ;\n",
    "\n",
    "int main() {\n",
    "    gsl::not_null<Demo *> d1 { new Demo() } ;\n",
    "    delete d1 ;\n",
    "    // ...\n",
    "    Demo * d2 = nullptr ;\n",
    "    // ...\n",
    "    gsl::not_null<Demo*> d3 { d2 } ;\n",
    "    // ...\n",
    "    gsl::not_null<Demo*> d4 { nullptr } ;\n",
    "}"
   ]
  },
  {
   "cell_type": "code",
   "execution_count": null,
   "metadata": {},
   "outputs": [],
   "source": [
    "!g++ -std=c++17 -I./ tmp.gsl-pointers.cpp -o tmp.gsl-pointers.exe"
   ]
  },
  {
   "cell_type": "code",
   "execution_count": null,
   "metadata": {},
   "outputs": [],
   "source": [
    "!./tmp.gsl-pointers.exe"
   ]
  },
  {
   "cell_type": "markdown",
   "metadata": {},
   "source": [
    "## Owning pointers : `gsl::owner<T>`\n",
    "\n",
    "The `owner<T>` type is used to mark that a pointer owns the pointed object. `T` is assumed to be a pointer type, such as `int *`.\n",
    "\n",
    "The `owner<T>` type does nothing in itself: the call to `delete` must be always done, but this emphasizes the intention, and can allow static checking tools to detect a forgotten delete. Of course, unless a specific reason, it is better to use the standard library smart pointers (see below)."
   ]
  },
  {
   "cell_type": "code",
   "execution_count": null,
   "metadata": {},
   "outputs": [],
   "source": [
    "%%file tmp.gsl-pointers.cpp\n",
    "\n",
    "#include <iostream>\n",
    "#include <gsl/gsl>\n",
    "\n",
    "class Demo {\n",
    "  public:\n",
    "    Demo() { std::cout<<\"Constructor\"<<std::endl ; }\n",
    "    ~Demo() { std::cout<<\"Destructor\"<<std::endl ; }\n",
    "} ;\n",
    "\n",
    "int main() {\n",
    "    gsl::owner<Demo*> d = new Demo() ;\n",
    "    delete d ;\n",
    "}"
   ]
  },
  {
   "cell_type": "code",
   "execution_count": null,
   "metadata": {},
   "outputs": [],
   "source": [
    "!g++ -std=c++17 -I./ tmp.gsl-pointers.cpp -o tmp.gsl-pointers.exe"
   ]
  },
  {
   "cell_type": "code",
   "execution_count": null,
   "metadata": {},
   "outputs": [],
   "source": [
    "!./tmp.gsl-pointers.exe"
   ]
  },
  {
   "cell_type": "markdown",
   "metadata": {},
   "source": [
    "## Improved pointers : `std::unique_ptr<T>`, `std::shared_ptr<T>`\n",
    "\n",
    "In the case of owning pointers, the GSL encourages the use of pointers from the standard library : `std::unique_ptr<T>` et `std::shared_ptr<T>`.\n",
    "\n",
    "`std::unique_ptr<T>` is optimized and have no cost. It is based on the semantics of displacement and is not copiable. It is an improved version of the old `auto_ptr`.\n",
    "\n",
    "`std::shared_ptr<T>` is easier to use, because it can be copied at will. As a counterpart, its implementation is complex and its performance bad. Using it as the default pointer is almost like using a \"garbage collector\". Prefer `std::unique_ptr<T>` whenever possible.\n",
    "\n",
    "Also, when creating a raw pointerwith `new`, try to transfer it directly to one of these standard enhanced pointers. Only use `owner<T>` when `std::unique_ptr<T>` and `std::shared__ptr<T>` cannot be."
   ]
  },
  {
   "cell_type": "markdown",
   "metadata": {},
   "source": [
    "## To remember\n",
    "\n",
    "Non-proprietary pointers/references, in order of preference :\n",
    "* `T&` : non-owner, cannot be null (always attached to an element).\n",
    "* `gsl::not_null<T>`: non-owner, T is a pointer and can't be null.\n",
    "* `T*` : non-owner, can be null, supposed to point to a unique element.\n",
    "\n",
    "Proprietary pointers/references, in order of preference :\n",
    "* `std::unique_ptr<T>` : single owner, not copyable but movable, automates delete, efficient.\n",
    "* `std::shared_ptr<T>` : shareable owner, automates delete , simple but less efficient.\n",
    "* `gsl::owner<T>` : owner, T is a pointer, can be null, supposed to point to a dynamically allocated element (on the heap).`"
   ]
  },
  {
   "cell_type": "markdown",
   "metadata": {},
   "source": [
    "# Exercise\n",
    "\n",
    "In the code below, add the lacking classes :\n",
    "* `my_owner` must simply emulate `gsl::owner` (trivial) ;\n",
    "* `my_not_null` must simply emulate `gsl::not_null` (easy) ;\n",
    "* make your classes only accept pointers as parameters (complex).\n",
    "\n",
    "<!-- Solution\n",
    "\n",
    "#include <cassert>\n",
    "\n",
    "template <typename T, std::enable_if_t<std::is_pointer_v<T>, int> = 0>\n",
    "using my_owner = T ;\n",
    "\n",
    "template <typename T, std::enable_if_t<std::is_pointer_v<T>, int> = 0>\n",
    "class my_not_null\n",
    " {\n",
    "  public :\n",
    "    my_not_null( T p ) : m_p(p) { assert(p) ; } \n",
    "    my_not_null & operator=( T p ) { assert(p) ; p_ = p ; return *this ; } \n",
    "    T operator->() { return p_ ; } \n",
    "  private :\n",
    "    T m_p ;\n",
    " } ;\n",
    "\n",
    "-->"
   ]
  },
  {
   "cell_type": "code",
   "execution_count": null,
   "metadata": {},
   "outputs": [],
   "source": [
    "%%file tmp.gsl-pointers.cpp\n",
    "\n",
    "#include <iostream>\n",
    "#include <type_traits>\n",
    "\n",
    "class Demo\n",
    " {\n",
    "  public:\n",
    "    Demo() { std::cout<<\"Constructor\"<<std::endl ; }\n",
    "    void Display() { std::cout<<\"Display\"<<std::endl ; }\n",
    "    ~Demo() { std::cout<<\"Destructor\"<<std::endl ; }\n",
    " } ;\n",
    "\n",
    "\n",
    "//... my_owner ...\n",
    "\n",
    "//... my_not_null ...\n",
    "\n",
    "int main()\n",
    " {\n",
    "  //my_owner<Demo> d1 ;              // COMPILATION ERROR, because Demo is not a pointer\n",
    "  //my_not_null<Demo*> p1 ;          // COMPILATION ERROR, because p1 doesn't have an intial value\n",
    "  //my_not_null<Demo*> p2(nullptr) ; // COMPILATION ERROR, because p2 cant' be null\n",
    "  my_owner<Demo *> d2 = new Demo() ;\n",
    "  my_not_null<Demo *> p3 = d2 ; \n",
    "  //p3 = nullptr ;                   // EXECUTION ERROR, because p3 can't be null\n",
    "  p3->Display() ;\n",
    "  delete d2 ;\n",
    " }"
   ]
  },
  {
   "cell_type": "code",
   "execution_count": null,
   "metadata": {},
   "outputs": [],
   "source": [
    "!g++ -std=c++17 -I./ tmp.gsl-pointers.cpp -o tmp.gsl-pointers.exe"
   ]
  },
  {
   "cell_type": "code",
   "execution_count": null,
   "metadata": {},
   "outputs": [],
   "source": [
    "!./tmp.gsl-pointers.exe"
   ]
  },
  {
   "cell_type": "markdown",
   "metadata": {},
   "source": [
    "## References\n",
    "* http://isocpp.github.io/CppCoreGuidelines/CppCoreGuidelines#gsl-guidelines-support-library\n",
    "* http://modernescpp.com/index.php/c-core-guideline-the-guidelines-support-library\n",
    "* http://nullptr.nl/2018/08/refurbish-legacy-code/"
   ]
  },
  {
   "cell_type": "markdown",
   "metadata": {},
   "source": [
    "© *CNRS 2020*  \n",
    "*Assembled and written in french by David Chamont, translated by Karim Asnaoui, this work is made available according to the terms of the*  \n",
    "[*Creative Commons License - Attribution - NonCommercial - ShareAlike 4.0 International*](http://creativecommons.org/licenses/by-nc-sa/4.0/)"
   ]
  }
 ],
 "metadata": {
  "kernelspec": {
   "display_name": "C++17",
   "language": "C++17",
   "name": "xcpp17"
  },
  "language_info": {
   "codemirror_mode": "text/x-c++src",
   "file_extension": ".cpp",
   "mimetype": "text/x-c++src",
   "name": "c++",
   "version": "17"
  }
 },
 "nbformat": 4,
 "nbformat_minor": 4
}
