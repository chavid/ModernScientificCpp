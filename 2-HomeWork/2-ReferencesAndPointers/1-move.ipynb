{
 "cells": [
  {
   "cell_type": "markdown",
   "metadata": {
    "slideshow": {
     "slide_type": "slide"
    }
   },
   "source": [
    "# Rvalue references and movable objects"
   ]
  },
  {
   "cell_type": "markdown",
   "metadata": {
    "slideshow": {
     "slide_type": "slide"
    }
   },
   "source": [
    "## Reminders about classic references"
   ]
  },
  {
   "cell_type": "markdown",
   "metadata": {
    "slideshow": {
     "slide_type": "subslide"
    }
   },
   "source": [
    "#### A reference is an additional name for another pre-existing variable"
   ]
  },
  {
   "cell_type": "code",
   "execution_count": null,
   "metadata": {
    "attributes": {
     "classes": [
      "cpp"
     ],
     "id": ""
    },
    "slideshow": {
     "slide_type": "fragment"
    }
   },
   "outputs": [],
   "source": [
    "{\n",
    "  int var = 42 ;\n",
    "  int & ref = var ; // ref and var are the same\n",
    "  ref = 99 ;        // ref and var are assigned\n",
    "  assert(var==99) ; // \n",
    "}"
   ]
  },
  {
   "cell_type": "markdown",
   "metadata": {
    "slideshow": {
     "slide_type": "subslide"
    }
   },
   "source": [
    "Above, the variable `var` is said to be a **left value** (lvalue), because it can be placed on the left of `=` in an assignment instruction, because it has an associated slot in memory, where to store the result of the expression on the right of `=`."
   ]
  },
  {
   "cell_type": "markdown",
   "metadata": {
    "slideshow": {
     "slide_type": "subslide"
    }
   },
   "source": [
    "A value which is somehow temporary, and cannot be on the left of a `=`, is said to be a **right value** (rvalue)."
   ]
  },
  {
   "cell_type": "markdown",
   "metadata": {
    "slideshow": {
     "slide_type": "subslide"
    }
   },
   "source": [
    "####  A reference cannot refer to a rvalue..."
   ]
  },
  {
   "cell_type": "code",
   "execution_count": null,
   "metadata": {
    "attributes": {
     "classes": [
      "cpp"
     ],
     "id": ""
    },
    "slideshow": {
     "slide_type": "fragment"
    }
   },
   "outputs": [],
   "source": [
    "{\n",
    "  int & i = 42 ;   // Won’t compile\n",
    "}"
   ]
  },
  {
   "cell_type": "code",
   "execution_count": null,
   "metadata": {
    "slideshow": {
     "slide_type": "fragment"
    }
   },
   "outputs": [],
   "source": [
    "#include <iostream>\n",
    "#include <string>\n",
    "void print( std::string & s )\n",
    " { std::cout<<s<<std::endl ; }"
   ]
  },
  {
   "cell_type": "code",
   "execution_count": null,
   "metadata": {
    "attributes": {
     "classes": [
      "cpp"
     ],
     "id": ""
    },
    "slideshow": {
     "slide_type": "fragment"
    }
   },
   "outputs": [],
   "source": [
    "{\n",
    "  print(\"hello\") ; // Won't compile\n",
    "}"
   ]
  },
  {
   "cell_type": "markdown",
   "metadata": {
    "slideshow": {
     "slide_type": "subslide"
    }
   },
   "source": [
    "#### ... unless promising not to change it"
   ]
  },
  {
   "cell_type": "code",
   "execution_count": null,
   "metadata": {
    "attributes": {
     "classes": [
      "cpp"
     ],
     "id": ""
    },
    "slideshow": {
     "slide_type": "fragment"
    }
   },
   "outputs": [],
   "source": [
    "{\n",
    "    int const & i = 42 ; // OK\n",
    "}"
   ]
  },
  {
   "cell_type": "code",
   "execution_count": null,
   "metadata": {
    "slideshow": {
     "slide_type": "fragment"
    }
   },
   "outputs": [],
   "source": [
    "#include <iostream>\n",
    "#include <string>\n",
    "void print_const( std::string const & s )\n",
    " { std::cout<<s<<std::endl ; }"
   ]
  },
  {
   "cell_type": "code",
   "execution_count": null,
   "metadata": {
    "attributes": {
     "classes": [
      "cpp"
     ],
     "id": ""
    },
    "slideshow": {
     "slide_type": "fragment"
    }
   },
   "outputs": [],
   "source": [
    "{\n",
    "    print_const(\"hello world\") ; // OK\n",
    "}"
   ]
  },
  {
   "cell_type": "markdown",
   "metadata": {
    "slideshow": {
     "slide_type": "slide"
    }
   },
   "source": [
    "## Rvalue references (`&&`)"
   ]
  },
  {
   "cell_type": "markdown",
   "metadata": {
    "slideshow": {
     "slide_type": "subslide"
    }
   },
   "source": [
    "#### A \"rvalue reference\" can only refer to a rvalue"
   ]
  },
  {
   "cell_type": "code",
   "execution_count": null,
   "metadata": {
    "attributes": {
     "classes": [
      "cpp"
     ],
     "id": ""
    },
    "slideshow": {
     "slide_type": "fragment"
    }
   },
   "outputs": [],
   "source": [
    "{\n",
    "    int && i = 42 ;\n",
    "    int j = 42 ;\n",
    "    int && k = j ; // Won’t compile\n",
    "}"
   ]
  },
  {
   "cell_type": "markdown",
   "metadata": {
    "slideshow": {
     "slide_type": "subslide"
    }
   },
   "source": [
    "#### One can overload a function for rvalue references"
   ]
  },
  {
   "cell_type": "code",
   "execution_count": null,
   "metadata": {
    "slideshow": {
     "slide_type": "fragment"
    }
   },
   "outputs": [],
   "source": [
    "#include <iostream>\n",
    "void f( int & )       { std::cout<<\"(      &) \"<<std::endl ; }"
   ]
  },
  {
   "cell_type": "code",
   "execution_count": null,
   "metadata": {
    "slideshow": {
     "slide_type": "fragment"
    }
   },
   "outputs": [],
   "source": [
    "void f( int const & ) { std::cout<<\"(const &) \"<<std::endl ; }"
   ]
  },
  {
   "cell_type": "code",
   "execution_count": null,
   "metadata": {
    "slideshow": {
     "slide_type": "fragment"
    }
   },
   "outputs": [],
   "source": [
    "void f( int && )      { std::cout<<\"(     &&) \"<<std::endl ; }"
   ]
  },
  {
   "cell_type": "code",
   "execution_count": null,
   "metadata": {
    "attributes": {
     "classes": [
      "cpp"
     ],
     "id": ""
    },
    "slideshow": {
     "slide_type": "fragment"
    }
   },
   "outputs": [],
   "source": [
    "{\n",
    "    int i = 42 ;\n",
    "    int const & j = i ;\n",
    "    f(i) ;\n",
    "    f(j) ;\n",
    "    f(42) ;\n",
    "}"
   ]
  },
  {
   "cell_type": "markdown",
   "metadata": {
    "slideshow": {
     "slide_type": "slide"
    }
   },
   "source": [
    "## An opportunity for optimisation"
   ]
  },
  {
   "cell_type": "markdown",
   "metadata": {
    "slideshow": {
     "slide_type": "subslide"
    }
   },
   "source": [
    "#### The function below sort and display a collection of integers"
   ]
  },
  {
   "cell_type": "code",
   "execution_count": null,
   "metadata": {
    "attributes": {
     "classes": [
      "cpp"
     ],
     "id": ""
    },
    "slideshow": {
     "slide_type": "fragment"
    }
   },
   "outputs": [],
   "source": [
    "#include <iostream>\n",
    "#include <vector>\n",
    "void process( std::vector<int> const & col )\n",
    "{\n",
    "    std::vector<int> copy(col) ;\n",
    "    std::sort(copy.begin(),copy.end()) ;\n",
    "    std::cout<<\"(const &) \" ;\n",
    "    for ( int element : copy )\n",
    "     { std::cout<<element<<\" \" ; }\n",
    "    std::cout<<std::endl ;\n",
    "}"
   ]
  },
  {
   "cell_type": "code",
   "execution_count": null,
   "metadata": {
    "slideshow": {
     "slide_type": "fragment"
    }
   },
   "outputs": [],
   "source": [
    "#include <vector>\n",
    "{\n",
    "    const std::vector<int> v1 {1,3,2} ;\n",
    "    std::vector<int> v2 {6,4,5} ;\n",
    "    process(v1) ;\n",
    "    process(v2) ;\n",
    "    process({9,8,7}) ;\n",
    "}"
   ]
  },
  {
   "cell_type": "markdown",
   "metadata": {
    "slideshow": {
     "slide_type": "subslide"
    }
   },
   "source": [
    "#### The overload below avoid the copy, but do not accept the rvalue"
   ]
  },
  {
   "cell_type": "code",
   "execution_count": null,
   "metadata": {
    "slideshow": {
     "slide_type": "fragment"
    }
   },
   "outputs": [],
   "source": [
    "void process( std::vector<int> & col )\n",
    "{\n",
    "    std::sort(col.begin(),col.end()) ;\n",
    "    std::cout<<\"(      &) \" ;\n",
    "    for ( int element : col )\n",
    "     { std::cout<<element<<\" \" ; }\n",
    "    std::cout<<std::endl ;\n",
    "}"
   ]
  },
  {
   "cell_type": "code",
   "execution_count": null,
   "metadata": {
    "slideshow": {
     "slide_type": "fragment"
    }
   },
   "outputs": [],
   "source": [
    "{\n",
    "    const std::vector<int> v1 {1,3,2} ;\n",
    "    std::vector<int> v2 {6,4,5} ;\n",
    "    process(v1) ;\n",
    "    process(v2) ;\n",
    "    process({9,8,7}) ;\n",
    "}"
   ]
  },
  {
   "cell_type": "markdown",
   "metadata": {
    "slideshow": {
     "slide_type": "subslide"
    }
   },
   "source": [
    "#### The new overoad below avoid the copy for the rvalue"
   ]
  },
  {
   "cell_type": "code",
   "execution_count": null,
   "metadata": {
    "attributes": {
     "classes": [
      "cpp"
     ],
     "id": ""
    },
    "slideshow": {
     "slide_type": "fragment"
    }
   },
   "outputs": [],
   "source": [
    "void process( std::vector<int> && col )\n",
    "{\n",
    "    std::sort(col.begin(),col.end()) ;\n",
    "    std::cout<<\"(     &&) \" ;\n",
    "    for ( int element : col )\n",
    "     { std::cout<<element<<\" \" ; }\n",
    "    std::cout<<std::endl ;\n",
    "}"
   ]
  },
  {
   "cell_type": "code",
   "execution_count": null,
   "metadata": {
    "slideshow": {
     "slide_type": "fragment"
    }
   },
   "outputs": [],
   "source": [
    "{\n",
    "    std::vector<int> const v1 {1,3,2} ;\n",
    "    std::vector<int> v2 {6,4,5} ;\n",
    "    process(v1) ;\n",
    "    process(v2) ;\n",
    "    process({9,8,7}) ;\n",
    "}"
   ]
  },
  {
   "cell_type": "markdown",
   "metadata": {
    "slideshow": {
     "slide_type": "slide"
    }
   },
   "source": [
    "## When a function call another function"
   ]
  },
  {
   "cell_type": "markdown",
   "metadata": {
    "slideshow": {
     "slide_type": "subslide"
    }
   },
   "source": [
    "#### A rvalue reference is not an rvalue\n",
    "\n",
    "If a variable is an rvalue reference, beginners generally assume that it is itself some kind of rvalue, and will be considered as so when transmitted to another function. **IT IS NOT**."
   ]
  },
  {
   "cell_type": "markdown",
   "metadata": {
    "slideshow": {
     "slide_type": "subslide"
    }
   },
   "source": [
    "In the code below, `col` refers to a rvalue (`{9,8,7}`), but `col` itself is not a temporary value, as testified by the call to `process()`, which the compiler interpret as `process( std::vector<int> & )`."
   ]
  },
  {
   "cell_type": "code",
   "execution_count": null,
   "metadata": {
    "slideshow": {
     "slide_type": "fragment"
    }
   },
   "outputs": [],
   "source": [
    "void super_process( std::vector<int> && col )\n",
    " { process(col) ; }"
   ]
  },
  {
   "cell_type": "code",
   "execution_count": null,
   "metadata": {
    "slideshow": {
     "slide_type": "fragment"
    }
   },
   "outputs": [],
   "source": [
    "{\n",
    "  super_process({9,8,7}) ;\n",
    "}"
   ]
  },
  {
   "cell_type": "markdown",
   "metadata": {
    "slideshow": {
     "slide_type": "subslide"
    }
   },
   "source": [
    "#### Transform any value into an rvalue with `std::move`\n",
    "\n",
    "When you want a value, any, to be considered as an rvalue, you can simply call `std::move` on it. This is a way to say that the value is somehow \"temporary\", \"movable\", soon destructed, and can be directly reused and modified as needed."
   ]
  },
  {
   "cell_type": "code",
   "execution_count": null,
   "metadata": {
    "slideshow": {
     "slide_type": "fragment"
    }
   },
   "outputs": [],
   "source": [
    "void super_process_2( std::vector<int> && col )\n",
    " { process(std::move(col)) ; }"
   ]
  },
  {
   "cell_type": "code",
   "execution_count": null,
   "metadata": {
    "slideshow": {
     "slide_type": "fragment"
    }
   },
   "outputs": [],
   "source": [
    "{\n",
    "  super_process_2({9,8,7}) ;\n",
    "}"
   ]
  },
  {
   "cell_type": "markdown",
   "metadata": {
    "slideshow": {
     "slide_type": "slide"
    }
   },
   "source": [
    "## What about classes ?\n",
    "\n",
    "<!-- mes tentatives de faire des classes simples de démonstration ont échouées à cause des capacités du compilateur à optimiser le code inutile. C'est pourquoi je me rabat ci-dessous sur des exemples non compilés, juste pour exposer les principes -->"
   ]
  },
  {
   "cell_type": "markdown",
   "metadata": {
    "slideshow": {
     "slide_type": "subslide"
    }
   },
   "source": [
    "#### When a class manage dynamic resources\n",
    "\n",
    "If a class include a huge array of `int`, and if the input is a temporary object which will be thrown away afterwards, it makes no sense to \"deep copy\" all those values. To avoid such a useless deep copy, we can provide what is called a \"move constructor\" :\n",
    "\n",
    "```c++\n",
    "class A\n",
    " {\n",
    "  private :\n",
    "    int * m_data ;\n",
    "  public :\n",
    "    A() : m_data(new int[1000000]) {}\n",
    "    ~A() { delete [] m_data; }\n",
    "    A( A const & other )\n",
    "     : m_data(new int[1000000])\n",
    "     { std::copy(other.m_data,other.m_data+1000000,m_data) ; }\n",
    "    A( A && other )\n",
    "     : m_data(other.m_data)\n",
    "     { other.m_data = nullptr ; }\n",
    " } ;\n",
    "```"
   ]
  },
  {
   "cell_type": "markdown",
   "metadata": {
    "slideshow": {
     "slide_type": "subslide"
    }
   },
   "source": [
    "#### Actually, it is now recomanded to define \"The Big Five\"\n",
    "\n",
    "```c++\n",
    "A( A const & )             ; // copy constructor\n",
    "A( A && )                  ; // move constructor\n",
    "A & operator=( A const & ) ; // copy assignment\n",
    "A & operator=( A && )      ; // move assignment\n",
    "~A()                       ; // destructor\n",
    "```"
   ]
  },
  {
   "cell_type": "markdown",
   "metadata": {
    "slideshow": {
     "slide_type": "slide"
    }
   },
   "source": [
    "#### In the standard library\n",
    "\n",
    "There are standard classes which are not copyable (the copy constructor is `= delete`), generally because they handle a resource which must not be duplicated. Yet they are movable:\n",
    "* `std::unique_ptr`, which can be used within a `std::vector`, on the contrary of the obsolete `std::auto_ptr` ;\n",
    "* `std::thread` ;\n",
    "* etc."
   ]
  },
  {
   "cell_type": "markdown",
   "metadata": {
    "attributes": {
     "classes": [
      "cpp"
     ],
     "id": ""
    },
    "slideshow": {
     "slide_type": "slide"
    }
   },
   "source": [
    "## Exercise\n",
    "\n",
    "The class below is some kind of simplified `std::string`.\n",
    "* Add a move constructor and a move assignment operator. Check that `main()` use the move constructor.\n",
    "* Add some display here and there, or use debugger, so to check when the move constructor is called... what do you think ?"
   ]
  },
  {
   "cell_type": "code",
   "execution_count": 2,
   "metadata": {
    "slideshow": {
     "slide_type": "fragment"
    }
   },
   "outputs": [
    {
     "name": "stdout",
     "output_type": "stream",
     "text": [
      "Overwriting tmp.move.cpp\n"
     ]
    }
   ],
   "source": [
    "%%file tmp.move.cpp\n",
    "\n",
    "#include <cstring>\n",
    "#include <iostream>\n",
    "\n",
    "class Text\n",
    " {\n",
    "  public :\n",
    "    \n",
    "    Text()\n",
    "     : m_size(0),\n",
    "       m_data(0)\n",
    "     {}\n",
    "    \n",
    "    Text( char const * str )\n",
    "     : m_size(std::strlen(str)),\n",
    "       m_data(m_size?(new char [m_size+1]):0)\n",
    "     { if (m_size) std::copy(str,str+m_size+1,m_data) ; }\n",
    "    \n",
    "    Text( Text const & t )\n",
    "     : m_size(t.m_size),\n",
    "       m_data(m_size?(new char [m_size+1]):0)\n",
    "     {\n",
    "      std::cout<<\"copy constructor\"<<std::endl ;\n",
    "      if (m_size) std::copy(t.m_data,t.m_data+m_size+1,m_data) ;\n",
    "     }\n",
    "    \n",
    "    Text & operator=( Text const & t )\n",
    "     {\n",
    "      std::cout<<\"copy assignment\"<<std::endl ;\n",
    "      if (this == &t) return *this ;\n",
    "      delete [] m_data ;\n",
    "      m_size = t.m_size ;\n",
    "      m_data = m_size?(new char [m_size+1]):0 ;\n",
    "      if (m_size) std::copy(t.m_data,t.m_data+m_size+1,m_data) ;\n",
    "      return *this ;\n",
    "     }\n",
    "    \n",
    "    ~Text()\n",
    "     { delete [] m_data ; }\n",
    "    \n",
    "    unsigned int taille()\n",
    "     { return m_size ; }\n",
    "    \n",
    "    char & operator[]( unsigned int i )\n",
    "     { return m_data[i] ; }\n",
    "    \n",
    "    friend std::ostream & operator<<( std::ostream & os, Text const & t )\n",
    "     { if (t.m_size) return os<<t.m_data ; else return os ; }\n",
    "    \n",
    "  private :\n",
    "    \n",
    "    unsigned int m_size ;\n",
    "    char * m_data ;\n",
    " } ;\n",
    " \n",
    "Text hello()\n",
    " { return \"hello\" ; }\n",
    "\n",
    "Text uppercase( Text t )\n",
    " {\n",
    "  for ( unsigned int i=0 ; i<t.taille() ; ++i )\n",
    "   { t[i] = std::toupper(t[i]) ; }\n",
    "  return t ;\n",
    " }\n",
    "\n",
    "int main()\n",
    " {\n",
    "  std::cout<<uppercase(hello())<<std::endl ;\n",
    "  return 0 ;\n",
    " }"
   ]
  },
  {
   "cell_type": "code",
   "execution_count": 3,
   "metadata": {
    "slideshow": {
     "slide_type": "fragment"
    }
   },
   "outputs": [],
   "source": [
    "!rm -f tmp.move.exe && g++ -std=c++17 tmp.move.cpp -o tmp.move.exe"
   ]
  },
  {
   "cell_type": "code",
   "execution_count": 4,
   "metadata": {
    "slideshow": {
     "slide_type": "fragment"
    }
   },
   "outputs": [
    {
     "name": "stdout",
     "output_type": "stream",
     "text": [
      "copy constructor\n",
      "HELLO\n"
     ]
    }
   ],
   "source": [
    "!./tmp.move.exe"
   ]
  },
  {
   "cell_type": "markdown",
   "metadata": {
    "slideshow": {
     "slide_type": "skip"
    }
   },
   "source": [
    "© *CNRS 2020*  \n",
    "*Assembled and written by David Chamont, this work is made available according to the terms of the*  \n",
    "[*Creative Commons License - Attribution - NonCommercial - ShareAlike 4.0 International*](http://creativecommons.org/licenses/by-nc-sa/4.0/)"
   ]
  }
 ],
 "metadata": {
  "celltoolbar": "Diaporama",
  "kernelspec": {
   "display_name": "C++17",
   "language": "C++17",
   "name": "xcpp17"
  },
  "language_info": {
   "codemirror_mode": "text/x-c++src",
   "file_extension": ".cpp",
   "mimetype": "text/x-c++src",
   "name": "c++",
   "version": "17"
  }
 },
 "nbformat": 4,
 "nbformat_minor": 4
}
