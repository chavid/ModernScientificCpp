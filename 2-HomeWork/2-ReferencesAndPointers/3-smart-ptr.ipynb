{
 "cells": [
  {
   "cell_type": "markdown",
   "metadata": {},
   "source": [
    "# Modern C++ : Improved pointers of the standard library\n",
    "\n",
    "It can be be qualified as improved pointers (smart), objects which behave like pointers (support for the `*` and `->` operators) but which provide additional services, in particular the automatic destruction of the pointed objects.\n",
    "\n",
    "The problems by using ordinary pointers (raws) are known : :\n",
    "- the declaration of a pointer does not specify whether it points to a single object or an array,\n",
    "- it is not known if the pointer is \"owner\" of the pointed object, ie if it is in charge of its destruction,\n",
    "- if it is necessary to destroy the pointed object, it is not known whether a simple delete or a more complex procedure is required, and whether it is a single object or an array,\n",
    "- it is sometimes difficult to guarantee that the destruction is done only once, regardless of the path taken by the program at the runtime,\n",
    "- it is not possible to test whether the pointer references an existing or already destroyed object.\n",
    "\n",
    "The Standard Library strives to provide a collection of enhanced pointers that never allow ordinary pointers to be used."
   ]
  },
  {
   "cell_type": "markdown",
   "metadata": {},
   "source": [
    "## `std::auto_ptr`\n",
    "\n",
    "This is the first implementation, in C++03, of a pointer which \"owns\" the pointed object, ie when the pointer is destroyed, the pointed object is also destroyed."
   ]
  },
  {
   "cell_type": "code",
   "execution_count": null,
   "metadata": {
    "attributes": {
     "classes": [
      "cpp"
     ],
     "id": ""
    }
   },
   "outputs": [],
   "source": [
    "%%file tmp.smart-ptr.cpp\n",
    "\n",
    "#include <string>\n",
    "#include <iostream>\n",
    "#include <memory>\n",
    "\n",
    "void hello()\n",
    " {\n",
    "  std::string * str = new std::string(\"hello\") ;\n",
    "  std::auto_ptr<std::string> ptr(str) ;\n",
    "  std::cout << *ptr << std::endl ;\n",
    "  *ptr += \" world !\" ;\n",
    "  std::cout << *ptr << std::endl ;\n",
    " }\n",
    "\n",
    "int main()\n",
    " {\n",
    "  // ...\n",
    "  hello() ;\n",
    "  // ...\n",
    "  hello() ;\n",
    "  // ...\n",
    "  return 0 ;\n",
    " }"
   ]
  },
  {
   "cell_type": "code",
   "execution_count": null,
   "metadata": {},
   "outputs": [],
   "source": [
    "!rm -f tmp.smart-ptr.exe && g++ -std=c++03 tmp.smart-ptr.cpp -o tmp.smart-ptr.exe"
   ]
  },
  {
   "cell_type": "code",
   "execution_count": null,
   "metadata": {},
   "outputs": [],
   "source": [
    "!./tmp.smart-ptr.exe"
   ]
  },
  {
   "cell_type": "markdown",
   "metadata": {},
   "source": [
    "This pointer nevertheless suffers from a major flaw: to avoid double destruction, in the event of a copy, the original pointer is modified to be empty, which is not in accordance with the idea that can be made of a copy. One consequence is that you cannot store `auto_ptr` in standard library containers, as these require objects that have normal copy behavior."
   ]
  },
  {
   "cell_type": "code",
   "execution_count": null,
   "metadata": {
    "attributes": {
     "classes": [
      "cpp"
     ],
     "id": ""
    }
   },
   "outputs": [],
   "source": [
    "%%file tmp.smart-ptr.cpp\n",
    "\n",
    "#include <string>\n",
    "#include <iostream>\n",
    "#include <vector>\n",
    "#include <memory>\n",
    "#include <algorithm>\n",
    "\n",
    "int main()\n",
    " {\n",
    "  typedef std::auto_ptr<std::string> string_ptr ;\n",
    "  typedef std::vector<string_ptr> string_vec ;\n",
    "\n",
    "  string_vec words ;\n",
    "  words.push_back(string_ptr(new std::string(\"world\"))) ; // DOES NOT COMPILE !\n",
    "  words.push_back(string_ptr(new std::string(\"hello\"))) ; // DOES NOT COMPILE !\n",
    "  std::reverse(words.begin(),words.end()) ;\n",
    "\n",
    "  string_vec::const_iterator word ;\n",
    "  for ( word = words.begin() ; word != words.end() ; ++word )\n",
    "   { std::cout<<(**word)<<std::endl ; }\n",
    "   \n",
    "  return 0 ;\n",
    " }"
   ]
  },
  {
   "cell_type": "code",
   "execution_count": null,
   "metadata": {},
   "outputs": [],
   "source": [
    "!rm -f tmp.smart-ptr.exe && g++ -std=c++03 tmp.smart-ptr.cpp -o tmp.smart-ptr.exe"
   ]
  },
  {
   "cell_type": "markdown",
   "metadata": {},
   "source": [
    "In fact, it should now not be used anymore, but it is preferable to use `unique_ptr`, which does the same services, only better, taking advantage of the displacement semantics introduced in C++11."
   ]
  },
  {
   "cell_type": "markdown",
   "metadata": {},
   "source": [
    "## `std::unique_ptr`\n",
    "\n",
    "This type of pointers, which may be called \"proprietary pointers\", looks like the `auto_ptr` type in C++03, but without its flaws."
   ]
  },
  {
   "cell_type": "markdown",
   "metadata": {},
   "source": [
    "#### The \"move-only pointer\"\n",
    "\n",
    "The owner pointer is designed in such a way that, at any given time, a given object is referenced by only one such pointer. To do this, it uses the \"displacement semantics\" : it cannot be copied and it cannot be affected by the usual assignment. However, it can be submitted to the displacement constructor or to the assignment by displacement.\n",
    "\n",
    "Thanks to this property, it can be safely stored in C++11 containers which have been rewritten taking into account the semantics of movement. In the example below, note that if a pointer is created in a separate instruction (word1), it must be transformed into a temporary value before giving it to the vector : the owner pointers can be moved but not copied."
   ]
  },
  {
   "cell_type": "code",
   "execution_count": null,
   "metadata": {
    "attributes": {
     "classes": [
      "cpp"
     ],
     "id": ""
    }
   },
   "outputs": [],
   "source": [
    "#include <iostream>\n",
    "#include <string>\n",
    "#include <vector>\n",
    "#include <memory>\n",
    "{\n",
    "  using string_ptr = std::unique_ptr<std::string> ;\n",
    "  std::vector<string_ptr> words ;\n",
    "  \n",
    "  string_ptr word1(new std::string(\"world\")) ;\n",
    "\n",
    "  words.push_back(std::move(word1)) ;\n",
    "  words.push_back(string_ptr(new std::string(\"hello\"))) ;\n",
    "  \n",
    "  std::reverse(words.begin(),words.end()) ;\n",
    "  for ( auto const & word : words )\n",
    "   { std::cout<<(*word)<<std::endl ; }\n",
    "}"
   ]
  },
  {
   "cell_type": "markdown",
   "metadata": {},
   "source": [
    "In what follows, instances of `std::unique_ptr` will be called \"owner pointers\"."
   ]
  },
  {
   "cell_type": "markdown",
   "metadata": {},
   "source": [
    "#### Performance\n",
    "\n",
    "A proprietary pointer is no larger than a regular pointer, and for most operations it is just as fast. It is therefore an excellent choice by default."
   ]
  },
  {
   "cell_type": "markdown",
   "metadata": {},
   "source": [
    "#### Custom destruction\n",
    "\n",
    "Building a `unique_ptr` also allows to explicitly provide a custom destruction function."
   ]
  },
  {
   "cell_type": "code",
   "execution_count": null,
   "metadata": {
    "attributes": {
     "classes": [
      "cpp"
     ],
     "id": ""
    }
   },
   "outputs": [],
   "source": [
    "#include <string>\n",
    "#include <iostream>\n",
    "#include <vector>\n",
    "#include <memory>"
   ]
  },
  {
   "cell_type": "code",
   "execution_count": null,
   "metadata": {
    "attributes": {
     "classes": [
      "cpp"
     ],
     "id": ""
    }
   },
   "outputs": [],
   "source": [
    "void delete_string( std::string * chaine )\n",
    " { std::cout << \"Destruction of \" << *chaine << std::endl ; delete chaine ; }"
   ]
  },
  {
   "cell_type": "code",
   "execution_count": null,
   "metadata": {
    "attributes": {
     "classes": [
      "cpp"
     ],
     "id": ""
    }
   },
   "outputs": [],
   "source": [
    "{\n",
    "  using string_ptr = std::unique_ptr<std::string,decltype(&delete_string)> ;\n",
    "  std::vector<string_ptr> words ;\n",
    "  \n",
    "  words.push_back(string_ptr(new std::string(\"world\"),delete_string)) ;\n",
    "  words.push_back(string_ptr(new std::string(\"hello\"),delete_string)) ;\n",
    "  \n",
    "  std::reverse(words.begin(),words.end()) ;\n",
    "  for ( auto const & word : words )\n",
    "   { std::cout<<(*word)<<std::endl ; }\n",
    "}"
   ]
  },
  {
   "cell_type": "markdown",
   "metadata": {},
   "source": [
    "#### Performance\n",
    "\n",
    "In the case of a custom destruction function, the pointer size can increase significantly."
   ]
  },
  {
   "cell_type": "markdown",
   "metadata": {},
   "source": [
    "#### Arrays of objects\n",
    "\n",
    "Out of curiosity, note that there is a form of `unique_ptr` capable of handling an array of objects, instead of a single object, and therefore able to call the `delete []` form upon destruction. But with all the containers available in the standard library, using regular arrays is neither useful nor recommended."
   ]
  },
  {
   "cell_type": "markdown",
   "metadata": {},
   "source": [
    "## `shared_ptr`\n",
    "\n",
    "As its name suggests, unlike the `unique_ptr` type, this type allows the same object to be referenced by multiple pointers. None of them is then the full owner of the object. Its management is based on a reference counter and the pointed object is destroyed when the counter drops to zero.\n",
    "\n",
    "Subsequently, the instances of `shared_ptr` will be called \"co-owner pointers\"."
   ]
  },
  {
   "cell_type": "markdown",
   "metadata": {},
   "source": [
    "#### Garbage collector\n",
    "\n",
    "Co-owner pointers can be seen as a way to implement the notion of \"garbage collection\", present in higher level languages, which frees the programmer from the management of the life cycle of objects. If any object is dynamically allocated and then manipulated through co-owner pointers, it will be automatically destroyed when no one is using it, and there is a form of automatic cleaning."
   ]
  },
  {
   "cell_type": "code",
   "execution_count": null,
   "metadata": {
    "attributes": {
     "classes": [
      "cpp"
     ],
     "id": ""
    }
   },
   "outputs": [],
   "source": [
    "#include <iostream>\n",
    "#include <string>\n",
    "#include <memory>"
   ]
  },
  {
   "cell_type": "code",
   "execution_count": null,
   "metadata": {
    "attributes": {
     "classes": [
      "cpp"
     ],
     "id": ""
    }
   },
   "outputs": [],
   "source": [
    "struct C { int * data ; } ;"
   ]
  },
  {
   "cell_type": "code",
   "execution_count": null,
   "metadata": {
    "attributes": {
     "classes": [
      "cpp"
     ],
     "id": ""
    }
   },
   "outputs": [],
   "source": [
    "void delete_int( int * p )\n",
    " { std::cout<<\"Deleting an int\"<<std::endl ; delete p ; }"
   ]
  },
  {
   "cell_type": "code",
   "execution_count": null,
   "metadata": {
    "attributes": {
     "classes": [
      "cpp"
     ],
     "id": ""
    }
   },
   "outputs": [],
   "source": [
    "void count( std::string const & name, std::shared_ptr<int> const & ptr )\n",
    " { std::cout<<name<<\" count : \"<<ptr.use_count()<<std::endl ; }"
   ]
  },
  {
   "cell_type": "code",
   "execution_count": null,
   "metadata": {
    "attributes": {
     "classes": [
      "cpp"
     ],
     "id": ""
    }
   },
   "outputs": [],
   "source": [
    "{\n",
    "  std::cout<<\"\\n\";\n",
    "    \n",
    "  std::shared_ptr<int> p1;\n",
    "  std::shared_ptr<int> p2 (nullptr);\n",
    "  count(\"p1\",p1) ;\n",
    "  count(\"p2\",p2) ;\n",
    "\n",
    "  std::cout<<\"\\n\";\n",
    "\n",
    "  std::shared_ptr<int> p3 (new int);\n",
    "  std::shared_ptr<int> p4 (new int);\n",
    "  count(\"p3\",p3) ;\n",
    "  count(\"p4\",p4) ;\n",
    " \n",
    "  std::cout<<\"\\n\";\n",
    "\n",
    "  std::shared_ptr<int> p5 (new int, delete_int);\n",
    "  std::shared_ptr<int> p6 (p5);\n",
    "  std::shared_ptr<int> p7 (std::move(p6));\n",
    "  count(\"p5\",p5) ;\n",
    "  count(\"p6\",p6) ;\n",
    "  count(\"p7\",p7) ;\n",
    "  \n",
    "  std::cout<<\"\\n\";\n",
    "\n",
    "  std::shared_ptr<int> p8 (std::unique_ptr<int>(new int));\n",
    "  count(\"p8\",p8) ;\n",
    "  \n",
    "  std::cout<<\"\\n\";\n",
    "\n",
    "  std::shared_ptr<C> obj (new C);\n",
    "  std::shared_ptr<int> p9 (obj, obj->data);\n",
    "  count(\"p9\",p9) ;\n",
    "  \n",
    "  std::cout<<\"\\n\";\n",
    "}"
   ]
  },
  {
   "cell_type": "markdown",
   "metadata": {},
   "source": [
    "#### Performance\n",
    "\n",
    "If you are sensitive to the performance of your application, be careful not to overuse co-owner pointers. Indeed, they have a certain cost :\n",
    "- they are doubled in size, compared to an ordinary pointer, because they also point to a \"control block \" which notably contains the current number of references on the pointed object\n",
    "- the creation of the first co-owner pointer to a given object implies the dynamic creation of the \"control block\" associated with the pointed object.\n",
    "- increasing or decreasing the number of referrals should be done in a thread-safe way, so a little bite slower."
   ]
  },
  {
   "cell_type": "markdown",
   "metadata": {},
   "source": [
    "#### Custom destruction\n",
    "\n",
    "As with owner pointers, a custom destructor can be specified, which this time does not increase the size of co-owner pointers, because it is stored with the reference count."
   ]
  },
  {
   "cell_type": "markdown",
   "metadata": {},
   "source": [
    "#### Warning\n",
    "\n",
    "Care should be taken not to transform a given ordinary pointer (or a single pointer) into a co-owner pointer only once, then to make copies only from co-owner pointer to co-owner pointer. Indeed, if several co-owner pointers are initialized from the same ordinary pointer, several control blocks will be created, which will lead to a double destruction..."
   ]
  },
  {
   "cell_type": "code",
   "execution_count": null,
   "metadata": {
    "attributes": {
     "classes": [
      "cpp"
     ],
     "id": ""
    }
   },
   "outputs": [],
   "source": [
    "#include <iostream>\n",
    "#include <string>\n",
    "#include <memory>\n",
    "{\n",
    "  int * i1 = new int{1} ;\n",
    "  //...\n",
    "  std::shared_ptr<int> pa{i1} ;\n",
    "  //...\n",
    "  std::shared_ptr<int> pb{i1} ;\n",
    "  //...\n",
    "}"
   ]
  },
  {
   "cell_type": "markdown",
   "metadata": {},
   "source": [
    "To avoid being tempted to transform an ordinary pointer into a co-owner pointer several times in this way, put the result of a call to new directly in the co-owner pointer constructor :"
   ]
  },
  {
   "cell_type": "code",
   "execution_count": null,
   "metadata": {
    "attributes": {
     "classes": [
      "cpp"
     ],
     "id": ""
    }
   },
   "outputs": [],
   "source": [
    "#include <iostream>\n",
    "#include <string>\n",
    "#include <memory>\n",
    "{\n",
    "  //...\n",
    "  std::shared_ptr<int> pa{new int{1}} ;\n",
    "  //...\n",
    "  std::shared_ptr<int> pb{pa} ;\n",
    "  //...\n",
    "}"
   ]
  },
  {
   "cell_type": "markdown",
   "metadata": {},
   "source": [
    "Or even better, use the `make_shared` function described later."
   ]
  },
  {
   "cell_type": "markdown",
   "metadata": {},
   "source": [
    "## `weak_ptr`\n",
    "\n",
    "The `shared_ptr` and `unique_ptr` types are not suited to the case of a graph of objects that point to each other, potentially creating cycles. For this case (and for some others), it is necessary to have different pointers, which do not own the pointed objects. This is the goal of the `weak_ptr` class. It is called \"weak pointers\"."
   ]
  },
  {
   "cell_type": "markdown",
   "metadata": {},
   "source": [
    "#### Non-proprietary pointers\n",
    "\n",
    "Weak pointers look like co-owner pointers, but do not affect the reference count of the pointed object. One might be tempted to use ordinary pointers for this task, but the weak pointer has an additional advantage : it is able to tell if the pointed object still exists or if it has been destroyed, because it has access to its \"control block\". And to have access to this control block, a weak pointer is built from a co-owner pointer :"
   ]
  },
  {
   "cell_type": "code",
   "execution_count": null,
   "metadata": {
    "attributes": {
     "classes": [
      "cpp"
     ],
     "id": ""
    }
   },
   "outputs": [],
   "source": [
    "#include <iostream>\n",
    "#include <memory>"
   ]
  },
  {
   "cell_type": "code",
   "execution_count": null,
   "metadata": {
    "attributes": {
     "classes": [
      "cpp"
     ],
     "id": ""
    }
   },
   "outputs": [],
   "source": [
    "struct Neuron \n",
    " {\n",
    "  Neuron() { std::cout<<\"Construction\"<<std::endl ; }\n",
    "  ~Neuron() { std::cout<<\"Destruction\"<<std::endl ; }\n",
    " } ;"
   ]
  },
  {
   "cell_type": "code",
   "execution_count": null,
   "metadata": {
    "attributes": {
     "classes": [
      "cpp"
     ],
     "id": ""
    }
   },
   "outputs": [],
   "source": [
    "{\n",
    "  std::shared_ptr<Neuron> shptr(new Neuron) ;\n",
    "  std::weak_ptr<Neuron> wptr(shptr) ;\n",
    "  std::cout<<\"Count : \"<<shptr.use_count()<<std::endl ;\n",
    "  std::cout<<\"Expired ? \"<<wptr.expired()<<std::endl ;\n",
    "  shptr.reset() ;\n",
    "  std::cout<<\"Count : \"<<shptr.use_count()<<std::endl ;\n",
    "  std::cout<<\"Expired ? \"<<wptr.expired()<<std::endl ;\n",
    "}"
   ]
  },
  {
   "cell_type": "markdown",
   "metadata": {},
   "source": [
    "In addition, the designers of the standard library also wanted the enhanced pointers to be thread safe. As such, it is necessary to prevent that a pointed object disappears between the moment or one would test its existence, and the moment or one would use it. For this purpose, pointers are endowed with an \"atomic\" method which tests for existence and returns a co-owner pointer, which contains the pointed object if it existed, and nothing otherwise. In a way, the creation of the new co-owner pointer locks the existence of the pointed object :"
   ]
  },
  {
   "cell_type": "code",
   "execution_count": null,
   "metadata": {
    "attributes": {
     "classes": [
      "cpp"
     ],
     "id": ""
    }
   },
   "outputs": [],
   "source": [
    "#include <iostream>\n",
    "#include <string>\n",
    "#include <memory>\n",
    "#include <vector>"
   ]
  },
  {
   "cell_type": "code",
   "execution_count": null,
   "metadata": {
    "attributes": {
     "classes": [
      "cpp"
     ],
     "id": ""
    }
   },
   "outputs": [],
   "source": [
    "struct Neuron \n",
    " {\n",
    "  int m_id ;\n",
    "  std::vector<std::weak_ptr<Neuron>> m_connexions ;\n",
    "  \n",
    "  explicit Neuron( int id ) : m_id(id)\n",
    "   { std::cout<<\"Neuron's construction \"<<m_id<<std::endl ; }\n",
    "  ~Neuron()\n",
    "   { std::cout<<\"Neuron's destruction \"<<m_id<<std::endl ; }\n",
    "   friend std::ostream & operator<<( std::ostream & os, Neuron const & n )\n",
    "    {\n",
    "     os<<\"neuron \"<<n.m_id<<\", lié à\" ;\n",
    "     for ( auto c : n.m_connexions )\n",
    "      {\n",
    "       auto p = c.lock() ;\n",
    "       if (p) os<<\" \"<<p->m_id ;\n",
    "      }\n",
    "     return os ;\n",
    "    }\n",
    " } ;"
   ]
  },
  {
   "cell_type": "code",
   "execution_count": null,
   "metadata": {
    "attributes": {
     "classes": [
      "cpp"
     ],
     "id": ""
    }
   },
   "outputs": [],
   "source": [
    "{\n",
    "  // crée\n",
    "  std::vector<std::shared_ptr<Neuron>> v ;\n",
    "  v.push_back(std::shared_ptr<Neuron>(new Neuron(0)));\n",
    "  v.push_back(std::shared_ptr<Neuron>(new Neuron(1)));\n",
    "  v.push_back(std::shared_ptr<Neuron>(new Neuron(2)));\n",
    "  v.push_back(std::shared_ptr<Neuron>(new Neuron(3)));\n",
    "\n",
    "  // connecte\n",
    "  for ( auto n1 : v )\n",
    "    for ( auto const & n2 : v )\n",
    "      if ( n1->m_id != n2->m_id )\n",
    "       { n1->m_connexions.push_back(std::weak_ptr<Neuron>(n2)) ; }    \n",
    "\n",
    "  // inspecte\n",
    "  for ( auto neuron : v )\n",
    "   {\n",
    "    std::cout\n",
    "      <<neuron.use_count()\n",
    "      <<\" pointers to \"\n",
    "      <<*neuron\n",
    "      <<std::endl ;\n",
    "   }   \n",
    "  v.pop_back() ;\n",
    "  v.erase(++(v.begin())) ;\n",
    "  for ( auto neuron : v )\n",
    "   {\n",
    "    std::cout\n",
    "      <<neuron.use_count()\n",
    "      <<\" pointers to \"\n",
    "      <<*neuron\n",
    "      <<std::endl ;\n",
    "   }   \n",
    "}"
   ]
  },
  {
   "cell_type": "markdown",
   "metadata": {},
   "source": [
    "#### Performance\n",
    "\n",
    "The test for the existence of the pointed object is based on the control block associated with this object. This block contains not only the number of co-owner pointers that point to the object, but also the number of weak pointers. When the number of co-owners drops to 0, the object is destroyed, but not if the block, which remains as long as there is still at least one weak pointer, which allows them to detect that the object they point to no longer exists."
   ]
  },
  {
   "cell_type": "markdown",
   "metadata": {},
   "source": [
    "## `make_unique` et `make_shared`\n",
    "\n",
    "Whenever possible, it is recommended that you use this indirect way of creating pointers, rather than calling the `new` operator yourself. This avoids having to write the type of the pointed object twice, and it avoids a possible memory leak in the event of an exception.\n",
    "\n",
    "```c++\n",
    "std::unique_ptr<Widget> upw2(new Widget); // without make func\n",
    "auto upw1(std::make_unique<Widget>());    // with make func\n",
    "\n",
    "std::shared_ptr<Widget> spw2(new Widget); // without make func\n",
    "auto spw1(std::make_shared<Widget>());    // with make func\n",
    "\n",
    "processWidget(std::shared_ptr<Widget>(new Widget), priority()) ; // without make func\n",
    "processWidget(std::make_shared<Widget>(), priority()) ; // with make func\n",
    "```\n",
    "\n",
    "A noter : `make_unique` n'apparait qu'avec C++14."
   ]
  },
  {
   "cell_type": "markdown",
   "metadata": {},
   "source": [
    "#### Performance\n",
    "\n",
    "Moreover, the implementation of `make_shared` is optimized to make a single memory allocation both for the pointed object and for its control block. On the other hand, the memory containing the object and the block can only be returned when all the `shared_ptr` AND all the `weak_ptr` have been destroyed."
   ]
  },
  {
   "cell_type": "markdown",
   "metadata": {},
   "source": [
    "#### Limits\n",
    "\n",
    "The use of `make_unique` or `make_shared` is not appropriate if a custom destructor is declared, if the use of braces construction is required (because these functions use the parenthesis construction), or if  very large objects are present and weak_ptr which outlive for a long time to their objects."
   ]
  },
  {
   "cell_type": "markdown",
   "metadata": {},
   "source": [
    "© *CNRS 2021*  \n",
    "*This document was created by David Chamont and translated by Karim Hasnaoui. It is available under the [License Creative Commons - Attribution - No commercial use - Shared under the conditions 4.0 International](http://creativecommons.org/licenses/by-nc-sa/4.0/)*"
   ]
  }
 ],
 "metadata": {
  "kernelspec": {
   "display_name": "C++17",
   "language": "C++17",
   "name": "xcpp17"
  },
  "language_info": {
   "codemirror_mode": "text/x-c++src",
   "file_extension": ".cpp",
   "mimetype": "text/x-c++src",
   "name": "c++",
   "version": "17"
  }
 },
 "nbformat": 4,
 "nbformat_minor": 2
}
