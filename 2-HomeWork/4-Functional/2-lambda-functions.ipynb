{
 "cells": [
  {
   "cell_type": "markdown",
   "metadata": {
    "slideshow": {
     "slide_type": "slide"
    }
   },
   "source": [
    "# Lambdas functions\n",
    "\n",
    "Lambda (or anonymous) functions were introduced in C++11 and enhanced in C++14. They can be defined on-the-fly anywhere in the code where they are needed. This avoid a previous declaration of the function, useless when the function is to be used only once. Moreover, the capture of local variables avoids the tedious definition of an object-function (whose `operator()` is overloaded). In simple cases, the resulting code is more concise and clearer. If you write very complicated lambda functions, it is less obvious... it's up to you to judge."
   ]
  },
  {
   "cell_type": "markdown",
   "metadata": {
    "slideshow": {
     "slide_type": "slide"
    }
   },
   "source": [
    "## One-time use, anonymous, functions"
   ]
  },
  {
   "cell_type": "markdown",
   "metadata": {
    "slideshow": {
     "slide_type": "subslide"
    }
   },
   "source": [
    "Some ordinary functions are meant to be used only once. Since nested functions are not allowed in C++, one must pollute the global namespace:"
   ]
  },
  {
   "cell_type": "code",
   "execution_count": 1,
   "metadata": {
    "slideshow": {
     "slide_type": "skip"
    }
   },
   "outputs": [],
   "source": [
    "#include <vector>"
   ]
  },
  {
   "cell_type": "code",
   "execution_count": 2,
   "metadata": {
    "slideshow": {
     "slide_type": "fragment"
    }
   },
   "outputs": [],
   "source": [
    "int reduce( std::vector<int> collection, int accumulator, int (*op)( int, int ) )\n",
    " {\n",
    "  for ( int element : collection )\n",
    "   { accumulator = op(accumulator,element) ; }\n",
    "  return accumulator ;\n",
    " }"
   ]
  },
  {
   "cell_type": "code",
   "execution_count": 3,
   "metadata": {
    "slideshow": {
     "slide_type": "fragment"
    }
   },
   "outputs": [],
   "source": [
    "int add( int val1, int val2 ) { return (val1+val2) ; }"
   ]
  },
  {
   "cell_type": "code",
   "execution_count": 4,
   "metadata": {
    "slideshow": {
     "slide_type": "fragment"
    }
   },
   "outputs": [],
   "source": [
    "int multiply( int val1, int val2 ) { return (val1*val2) ; }"
   ]
  },
  {
   "cell_type": "code",
   "execution_count": 5,
   "metadata": {
    "slideshow": {
     "slide_type": "skip"
    }
   },
   "outputs": [],
   "source": [
    "#include <iostream>"
   ]
  },
  {
   "cell_type": "code",
   "execution_count": 6,
   "metadata": {
    "attributes": {
     "classes": [
      "cpp"
     ],
     "id": ""
    },
    "slideshow": {
     "slide_type": "fragment"
    }
   },
   "outputs": [
    {
     "name": "stdout",
     "output_type": "stream",
     "text": [
      "15\n",
      "120\n"
     ]
    }
   ],
   "source": [
    "std::vector<int> numbers = { 1, 2, 3, 4, 5 } ;\n",
    "std::cout<<reduce(numbers,0,add)<<std::endl ;\n",
    "std::cout<<reduce(numbers,1,multiply)<<std::endl ;"
   ]
  },
  {
   "cell_type": "markdown",
   "metadata": {
    "slideshow": {
     "slide_type": "subslide"
    }
   },
   "source": [
    "C++11 allows one-the-fly definition of an anonymous function, where it is to be used. **The function name is replaced with `[]`**. It is called a *lambda*:"
   ]
  },
  {
   "cell_type": "code",
   "execution_count": 7,
   "metadata": {
    "attributes": {
     "classes": [
      "cpp"
     ],
     "id": ""
    },
    "slideshow": {
     "slide_type": "fragment"
    }
   },
   "outputs": [
    {
     "name": "stdout",
     "output_type": "stream",
     "text": [
      "15\n",
      "120\n"
     ]
    }
   ],
   "source": [
    "std::vector<int> numbers = { 1, 2, 3, 4, 5 } ;\n",
    "std::cout<<reduce(numbers,0,[](int i1, int i2){ return i1+i2 ; })<<std::endl ;\n",
    "std::cout<<reduce(numbers,1,[](int i1, int i2){ return i1*i2 ; })<<std::endl ;"
   ]
  },
  {
   "cell_type": "markdown",
   "metadata": {
    "slideshow": {
     "slide_type": "subslide"
    }
   },
   "source": [
    "Like any ordinary function, it only access its own input arguments, local variables and file global variables. Below, we try to raise our elements to a given exponent, but this will not compile as is:"
   ]
  },
  {
   "cell_type": "code",
   "execution_count": 8,
   "metadata": {
    "attributes": {
     "classes": [
      "cpp"
     ],
     "id": ""
    },
    "slideshow": {
     "slide_type": "skip"
    }
   },
   "outputs": [],
   "source": [
    "#include <cmath>"
   ]
  },
  {
   "cell_type": "code",
   "execution_count": 9,
   "metadata": {
    "attributes": {
     "classes": [
      "cpp"
     ],
     "id": ""
    },
    "slideshow": {
     "slide_type": "fragment"
    }
   },
   "outputs": [
    {
     "name": "stderr",
     "output_type": "stream",
     "text": [
      "\u001b[1minput_line_15:5:26: \u001b[0m\u001b[0;1;31merror: \u001b[0m\u001b[1mvariable 'exponent' cannot be implicitly captured in a lambda with no capture-default specified\u001b[0m\n",
      " { return i1+std::pow(i2,exponent) ; }) ;\n",
      "\u001b[0;1;32m                         ^\n",
      "\u001b[0m\u001b[1minput_line_15:3:5: \u001b[0m\u001b[0;1;30mnote: \u001b[0m'exponent' declared here\u001b[0m\n",
      "int exponent = 2 ;\n",
      "\u001b[0;1;32m    ^\n",
      "\u001b[0m\u001b[1minput_line_15:4:28: \u001b[0m\u001b[0;1;30mnote: \u001b[0mlambda expression begins here\u001b[0m\n",
      "int res = reduce(numbers,0,[]( int i1, int i2 )\n",
      "\u001b[0;1;32m                           ^\n",
      "\u001b[0m\u001b[1minput_line_15:4:11: \u001b[0m\u001b[0;1;31merror: \u001b[0m\u001b[1mno matching function for call to 'reduce'\u001b[0m\n",
      "int res = reduce(numbers,0,[]( int i1, int i2 )\n",
      "\u001b[0;1;32m          ^~~~~~\n",
      "\u001b[0m\u001b[1minput_line_8:1:5: \u001b[0m\u001b[0;1;30mnote: \u001b[0mcandidate function not viable: no known conversion from '(lambda at input_line_15:4:28)' to 'int (*)(int, int)' for 3rd argument\u001b[0m\n",
      "int reduce( std::vector<int> collection, int accumulator, int (*op)( int, int ) )\n",
      "\u001b[0;1;32m    ^\n",
      "\u001b[0m\u001b[1m/opt/conda/bin/../lib/gcc/../../x86_64-conda-linux-gnu/include/c++/9.4.0/numeric:296:5: \u001b[0m\u001b[0;1;30mnote: \u001b[0mcandidate template ignored: deduced conflicting types for parameter '_InputIterator' ('std::vector<int, std::allocator<int> >' vs. 'int')\u001b[0m\n",
      "    reduce(_InputIterator __first, _InputIterator __last, _Tp __init)\n",
      "\u001b[0;1;32m    ^\n",
      "\u001b[0m\u001b[1m/opt/conda/bin/../lib/gcc/../../x86_64-conda-linux-gnu/include/c++/9.4.0/pstl/glue_numeric_defs.h:31:1: \u001b[0m\u001b[0;1;30mnote: \u001b[0mcandidate template ignored: deduced conflicting types for parameter '_ForwardIterator' ('int' vs. '(lambda at input_line_15:4:28)')\u001b[0m\n",
      "reduce(_ExecutionPolicy&& __exec, _ForwardIterator __first, _ForwardIterator __last);\n",
      "\u001b[0;1;32m^\n",
      "\u001b[0m\u001b[1m/opt/conda/bin/../lib/gcc/../../x86_64-conda-linux-gnu/include/c++/9.4.0/numeric:261:5: \u001b[0m\u001b[0;1;30mnote: \u001b[0mcandidate function template not viable: requires 4 arguments, but 3 were provided\u001b[0m\n",
      "    reduce(_InputIterator __first, _InputIterator __last, _Tp __init,\n",
      "\u001b[0;1;32m    ^\n",
      "\u001b[0m\u001b[1m/opt/conda/bin/../lib/gcc/../../x86_64-conda-linux-gnu/include/c++/9.4.0/numeric:312:5: \u001b[0m\u001b[0;1;30mnote: \u001b[0mcandidate function template not viable: requires 2 arguments, but 3 were provided\u001b[0m\n",
      "    reduce(_InputIterator __first, _InputIterator __last)\n",
      "\u001b[0;1;32m    ^\n",
      "\u001b[0m\u001b[1m/opt/conda/bin/../lib/gcc/../../x86_64-conda-linux-gnu/include/c++/9.4.0/pstl/glue_numeric_defs.h:21:1: \u001b[0m\u001b[0;1;30mnote: \u001b[0mcandidate function template not viable: requires 5 arguments, but 3 were provided\u001b[0m\n",
      "reduce(_ExecutionPolicy&& __exec, _ForwardIterator __first, _ForwardIterator __last, _Tp __init,\n",
      "\u001b[0;1;32m^\n",
      "\u001b[0m\u001b[1m/opt/conda/bin/../lib/gcc/../../x86_64-conda-linux-gnu/include/c++/9.4.0/pstl/glue_numeric_defs.h:26:1: \u001b[0m\u001b[0;1;30mnote: \u001b[0mcandidate function template not viable: requires 4 arguments, but 3 were provided\u001b[0m\n",
      "reduce(_ExecutionPolicy&& __exec, _ForwardIterator __first, _ForwardIterator __last, _Tp __init);\n",
      "\u001b[0;1;32m^\n",
      "\u001b[0m"
     ]
    },
    {
     "ename": "Interpreter Error",
     "evalue": "",
     "output_type": "error",
     "traceback": [
      "Interpreter Error: "
     ]
    }
   ],
   "source": [
    "std::vector<int> numbers = { 1, 2, 3, 4, 5 } ;\n",
    "int exponent = 2 ;\n",
    "int res = reduce(numbers,0,[]( int i1, int i2 )\n",
    " { return i1+std::pow(i2,exponent) ; }) ;"
   ]
  },
  {
   "cell_type": "markdown",
   "metadata": {
    "slideshow": {
     "slide_type": "subslide"
    }
   },
   "source": [
    "A classical way to solve the preceding issue would be to generalize the `reduce()` function so to be able to handle any kind of \"callable\" as operator, and write an object-function:"
   ]
  },
  {
   "cell_type": "code",
   "execution_count": 10,
   "metadata": {
    "slideshow": {
     "slide_type": "skip"
    }
   },
   "outputs": [],
   "source": [
    "#include <functional>"
   ]
  },
  {
   "cell_type": "code",
   "execution_count": 11,
   "metadata": {
    "slideshow": {
     "slide_type": "fragment"
    }
   },
   "outputs": [],
   "source": [
    "int reduce( std::vector<int> collection, int accumulator, std::function<int(int,int)> op )\n",
    " {\n",
    "  for ( int element : collection )\n",
    "   { accumulator = op(accumulator,element) ; }\n",
    "  return accumulator ;\n",
    " }"
   ]
  },
  {
   "cell_type": "code",
   "execution_count": 12,
   "metadata": {
    "attributes": {
     "classes": [
      "cpp"
     ],
     "id": ""
    },
    "slideshow": {
     "slide_type": "fragment"
    }
   },
   "outputs": [],
   "source": [
    "class AddPower\n",
    " {\n",
    "  public :\n",
    "    AddPower( int exponent ) : m_exponent{exponent} {}\n",
    "    int operator()( int i1, int i2 ) const\n",
    "     { return i1+std::pow(i2,m_exponent) ; }\n",
    "  private :\n",
    "    int m_exponent ;\n",
    " } ;"
   ]
  },
  {
   "cell_type": "code",
   "execution_count": 13,
   "metadata": {
    "attributes": {
     "classes": [
      "cpp"
     ],
     "id": ""
    },
    "slideshow": {
     "slide_type": "fragment"
    }
   },
   "outputs": [
    {
     "name": "stdout",
     "output_type": "stream",
     "text": [
      "55\n"
     ]
    }
   ],
   "source": [
    "std::vector<int> numbers = { 1, 2, 3, 4, 5 } ;\n",
    "AddPower add_power{2} ;\n",
    "std::cout<<reduce(numbers,0,add_power)<<std::endl ;"
   ]
  },
  {
   "cell_type": "markdown",
   "metadata": {
    "slideshow": {
     "slide_type": "slide"
    }
   },
   "source": [
    "## Local variables capture\n",
    "\n",
    "Instead, a lambda can include, between its square brackets (`[]`), a list of context variables to be captured, by value or by reference:\n",
    "* `[x,y,&j]` : `x` and `y` by value, `j` by reference ;\n",
    "* `[]` : nothing captured ;\n",
    "* `[&]` : all variables by reference ;\n",
    "* `[=]` : all variables by value ;\n",
    "* `[=,&j]` : all variables by value, except `j` by reference ;\n",
    "* `[&,j]` : all variables by reference, except `j` by value."
   ]
  },
  {
   "cell_type": "markdown",
   "metadata": {
    "slideshow": {
     "slide_type": "subslide"
    }
   },
   "source": [
    "That's where the lambdas become a killing feature. The previous example, which were requiring the object-function `AddPower`, can be greatly simplified with a lambda and a capture:"
   ]
  },
  {
   "cell_type": "code",
   "execution_count": 14,
   "metadata": {
    "attributes": {
     "classes": [
      "cpp"
     ],
     "id": ""
    },
    "slideshow": {
     "slide_type": "fragment"
    }
   },
   "outputs": [
    {
     "name": "stdout",
     "output_type": "stream",
     "text": [
      "55\n"
     ]
    }
   ],
   "source": [
    "std::vector<int> numbers = { 1, 2, 3, 4, 5 } ;\n",
    "int exponent = 2 ;\n",
    "\n",
    "int res = reduce(numbers,0,\n",
    " [exponent]( int i1, int i2 )\n",
    " { return i1+std::pow(i2,exponent) ; }) ;\n",
    "\n",
    "std::cout << res << std::endl ;"
   ]
  },
  {
   "cell_type": "markdown",
   "metadata": {
    "slideshow": {
     "slide_type": "subslide"
    }
   },
   "source": [
    "At last, take care that if you want to use a member of the current object, you must explicitly capture `this`: "
   ]
  },
  {
   "cell_type": "code",
   "execution_count": 15,
   "metadata": {
    "attributes": {
     "classes": [
      "cpp"
     ],
     "id": ""
    },
    "slideshow": {
     "slide_type": "fragment"
    }
   },
   "outputs": [],
   "source": [
    "class Process\n",
    " {\n",
    "  public :\n",
    "    Process( int exponent ) : m_exponent{exponent} {}\n",
    "    void run()\n",
    "     {\n",
    "      std::vector<int> numbers = { 1, 2, 3, 4, 5 } ;\n",
    "      int res = reduce(numbers,0,\n",
    "       [this]( int i1, int i2 )\n",
    "       { return i1+std::pow(i2,m_exponent) ; }) ;\n",
    "      std::cout<<res<<std::endl ;\n",
    "     }\n",
    "  private :\n",
    "    int m_exponent ;\n",
    " } ; "
   ]
  },
  {
   "cell_type": "code",
   "execution_count": 16,
   "metadata": {
    "attributes": {
     "classes": [
      "cpp"
     ],
     "id": ""
    },
    "slideshow": {
     "slide_type": "skip"
    }
   },
   "outputs": [
    {
     "name": "stdout",
     "output_type": "stream",
     "text": [
      "55\n"
     ]
    }
   ],
   "source": [
    "Process p{2} ;\n",
    "p.run() ;"
   ]
  },
  {
   "cell_type": "markdown",
   "metadata": {
    "slideshow": {
     "slide_type": "slide"
    }
   },
   "source": [
    "## Return type"
   ]
  },
  {
   "cell_type": "markdown",
   "metadata": {
    "slideshow": {
     "slide_type": "subslide"
    }
   },
   "source": [
    "The compiler can infer the return type of your lambdas, but sometimes you may want to declare it explicitly, especially when the compiler guess may be wrong. In the example below, we explicitly declare that the lambda return an `int`:"
   ]
  },
  {
   "cell_type": "code",
   "execution_count": 1,
   "metadata": {
    "slideshow": {
     "slide_type": "skip"
    }
   },
   "outputs": [],
   "source": [
    "// RESTART KERNEL\n",
    "\n",
    "#include <vector>\n",
    "#include <iostream>\n",
    "#include <functional>\n",
    "\n",
    "int reduce( std::vector<int> collection, int accumulator, std::function<int(int,int)> op )\n",
    " {\n",
    "  for ( int element : collection )\n",
    "   { accumulator = op(accumulator,element) ; }\n",
    "  return accumulator ;\n",
    " }"
   ]
  },
  {
   "cell_type": "code",
   "execution_count": 2,
   "metadata": {
    "attributes": {
     "classes": [
      "cpp"
     ],
     "id": ""
    },
    "slideshow": {
     "slide_type": "fragment"
    }
   },
   "outputs": [
    {
     "name": "stdout",
     "output_type": "stream",
     "text": [
      "15\n"
     ]
    }
   ],
   "source": [
    "std::vector<int> numbers = { 1, 2, 3, 4, 5 } ;\n",
    "int res = reduce(numbers,0,\n",
    " [] (int i1, int i2) -> int\n",
    " { return i1+i2 ; }) ;\n",
    "std::cout << res << std::endl ;"
   ]
  },
  {
   "cell_type": "markdown",
   "metadata": {
    "slideshow": {
     "slide_type": "slide"
    }
   },
   "source": [
    "## Storing and reusing a lambda"
   ]
  },
  {
   "cell_type": "markdown",
   "metadata": {
    "slideshow": {
     "slide_type": "subslide"
    }
   },
   "source": [
    "As you understood, a lambda is a kind of object-function. As such, it can be stored in a variable and reused. The type of such a lambda is somehow tricky, and the use of `auto` is the only way to declare a variable containing a lambda:"
   ]
  },
  {
   "cell_type": "markdown",
   "metadata": {
    "slideshow": {
     "slide_type": "skip"
    }
   },
   "source": [
    "***FEATURE BELOW NOT SUPPORTED BY THE C++17 KERNEL***"
   ]
  },
  {
   "cell_type": "code",
   "execution_count": 3,
   "metadata": {
    "attributes": {
     "classes": [
      "cpp"
     ],
     "id": ""
    },
    "slideshow": {
     "slide_type": "fragment"
    }
   },
   "outputs": [],
   "source": [
    "auto display = []( int i ) -> void\n",
    "{ std::cout << i << std::endl ; } ;"
   ]
  },
  {
   "cell_type": "code",
   "execution_count": null,
   "metadata": {
    "attributes": {
     "classes": [
      "cpp"
     ],
     "id": ""
    },
    "slideshow": {
     "slide_type": "fragment"
    }
   },
   "outputs": [],
   "source": [
    "for ( int i : { 1, 2, 3,4, 5 } )\n",
    " { display(i) ; }"
   ]
  },
  {
   "cell_type": "markdown",
   "metadata": {
    "slideshow": {
     "slide_type": "subslide"
    }
   },
   "source": [
    "In such trivial examples, a lambda has no visible benefit over an ordinary function. Yet, one can notice that **you can nest your `display` function definition** where you want, although an ordinary function cannot be nested in C++."
   ]
  },
  {
   "cell_type": "markdown",
   "metadata": {
    "slideshow": {
     "slide_type": "slide"
    }
   },
   "source": [
    "## Generic lambdas"
   ]
  },
  {
   "cell_type": "markdown",
   "metadata": {
    "slideshow": {
     "slide_type": "subslide"
    }
   },
   "source": [
    "Starting with C++14, one can replace the types of a lambda arguments with `auto`."
   ]
  },
  {
   "cell_type": "code",
   "execution_count": 3,
   "metadata": {
    "attributes": {
     "classes": [
      "cpp"
     ],
     "id": ""
    },
    "slideshow": {
     "slide_type": "skip"
    }
   },
   "outputs": [],
   "source": [
    "#include <algorithm>"
   ]
  },
  {
   "cell_type": "code",
   "execution_count": 5,
   "metadata": {
    "attributes": {
     "classes": [
      "cpp"
     ],
     "id": ""
    },
    "slideshow": {
     "slide_type": "subslide"
    }
   },
   "outputs": [
    {
     "name": "stdout",
     "output_type": "stream",
     "text": [
      "1 2 3 4.4 5.5 6.6 "
     ]
    }
   ],
   "source": [
    "auto display = []( auto v ) -> void\n",
    "{ std::cout << v << \" \" ; } ;\n",
    "     \n",
    "std::vector<int> numbers1 = { 1, 2, 3 } ;\n",
    "std::vector<double> numbers2 = { 4.4, 5.5, 6.6 } ;\n",
    "  \n",
    "std::for_each(numbers1.begin(),numbers1.end(),display) ;\n",
    "std::for_each(numbers2.begin(),numbers2.end(),display) ;"
   ]
  },
  {
   "cell_type": "markdown",
   "metadata": {
    "slideshow": {
     "slide_type": "subslide"
    }
   },
   "source": [
    "This `display` lambda **should not** be considered as templated function. It is rather equivalent to an object-function with a template `operator()` method. Something like this :"
   ]
  },
  {
   "cell_type": "code",
   "execution_count": null,
   "metadata": {
    "slideshow": {
     "slide_type": "fragment"
    }
   },
   "outputs": [],
   "source": [
    "class Display\n",
    " {\n",
    "  public :\n",
    "    template <typename Value>\n",
    "    void operator()( Value v )\n",
    "     { std::cout << v << \" \" ; }\n",
    " } ;"
   ]
  },
  {
   "cell_type": "markdown",
   "metadata": {
    "slideshow": {
     "slide_type": "skip"
    }
   },
   "source": [
    "Note : the use of `auto` in lambdas has probably inspired the \"abbreviated function template\" in C++20."
   ]
  },
  {
   "cell_type": "markdown",
   "metadata": {
    "slideshow": {
     "slide_type": "slide"
    }
   },
   "source": [
    "## Generating lambdas"
   ]
  },
  {
   "cell_type": "markdown",
   "metadata": {
    "slideshow": {
     "slide_type": "subslide"
    }
   },
   "source": [
    "Last but not least, note that you can now write functions which produce functions as a result:"
   ]
  },
  {
   "cell_type": "code",
   "execution_count": 1,
   "metadata": {
    "attributes": {
     "classes": [
      "cpp"
     ],
     "id": ""
    },
    "slideshow": {
     "slide_type": "skip"
    }
   },
   "outputs": [],
   "source": [
    "#include <iostream>"
   ]
  },
  {
   "cell_type": "code",
   "execution_count": 2,
   "metadata": {
    "attributes": {
     "classes": [
      "cpp"
     ],
     "id": ""
    },
    "slideshow": {
     "slide_type": "fragment"
    }
   },
   "outputs": [],
   "source": [
    "auto make_multiplier( int m )\n",
    " { return [m]( int n ) -> void { std::cout << (m*n) << \" \" ; } ; }"
   ]
  },
  {
   "cell_type": "code",
   "execution_count": 3,
   "metadata": {
    "attributes": {
     "classes": [
      "cpp"
     ],
     "id": ""
    },
    "slideshow": {
     "slide_type": "skip"
    }
   },
   "outputs": [],
   "source": [
    "#include <vector>\n",
    "#include <algorithm>"
   ]
  },
  {
   "cell_type": "code",
   "execution_count": 4,
   "metadata": {
    "attributes": {
     "classes": [
      "cpp"
     ],
     "id": ""
    },
    "slideshow": {
     "slide_type": "fragment"
    }
   },
   "outputs": [
    {
     "name": "stdout",
     "output_type": "stream",
     "text": [
      "3 6 9 12 15 "
     ]
    }
   ],
   "source": [
    "{\n",
    "  std::vector<int> numbers = { 1, 2, 3, 4, 5 } ;\n",
    "  auto mult = make_multiplier(3) ;\n",
    "  std::for_each(numbers.begin(),numbers.end(),mult) ;\n",
    "}"
   ]
  },
  {
   "cell_type": "markdown",
   "metadata": {
    "slideshow": {
     "slide_type": "subslide"
    }
   },
   "source": [
    "But in such a case, beware not to capture by reference some local variable:"
   ]
  },
  {
   "cell_type": "code",
   "execution_count": 9,
   "metadata": {
    "attributes": {
     "classes": [
      "cpp"
     ],
     "id": ""
    },
    "slideshow": {
     "slide_type": "fragment"
    }
   },
   "outputs": [],
   "source": [
    "auto make_multiplier_2( int m )\n",
    " { return [&]( int n ) -> void { std::cout << (m*n) << \" \" ; } ; }"
   ]
  },
  {
   "cell_type": "code",
   "execution_count": 10,
   "metadata": {
    "attributes": {
     "classes": [
      "cpp"
     ],
     "id": ""
    },
    "slideshow": {
     "slide_type": "fragment"
    }
   },
   "outputs": [
    {
     "name": "stdout",
     "output_type": "stream",
     "text": [
      "32764 65528 98292 131056 163820 "
     ]
    }
   ],
   "source": [
    "std::vector<int> numbers = { 1, 2, 3, 4, 5 } ;\n",
    "auto mult = make_multiplier_2(3) ;\n",
    "std::for_each(numbers.begin(),numbers.end(),mult) ;"
   ]
  },
  {
   "cell_type": "markdown",
   "metadata": {
    "slideshow": {
     "slide_type": "slide"
    }
   },
   "source": [
    "## Exercise\n",
    "\n",
    "Below, replace `random_complex` and `ComplexPow` with lambdas."
   ]
  },
  {
   "cell_type": "code",
   "execution_count": null,
   "metadata": {
    "slideshow": {
     "slide_type": "fragment"
    }
   },
   "outputs": [],
   "source": [
    "%%file tmp.lambda-functions.cpp\n",
    "\n",
    "#include <complex>\n",
    "#include <vector>\n",
    "#include <algorithm>\n",
    "#include <iostream>\n",
    "#include <cmath>\n",
    "\n",
    "using Real = double ;\n",
    "using Complex = std::complex<Real> ;\n",
    "using Complexes = std::vector<Complex> ;\n",
    "\n",
    "// random complex on the unit circle\n",
    "void random_complex( Complex & c )\n",
    " { \n",
    "  Real d = ((Real)rand())/RAND_MAX ;\n",
    "  Real e = 2*M_PI*d ;\n",
    "  c = Complex(cos(e),sin(e)) ;\n",
    " }\n",
    "\n",
    "// print the global product of n complex numbers \n",
    "void print_product( Complexes const & cs )\n",
    " {\n",
    "  Complex z(1.,0.) ;\n",
    "  for ( auto c : cs )\n",
    "   { z *= c ; }\n",
    "  std::cout<<z<<\"\\n\" ;\n",
    " }\n",
    "\n",
    "// compute x^d\n",
    "struct ComplexPow\n",
    " {\n",
    "  int m_degree ;\n",
    "  ComplexPow( int degree ) : m_degree(degree) {}\n",
    "  Complex operator()( Complex const & x ) const\n",
    "   {\n",
    "    int d ;\n",
    "    Complex y(1.,0.) ;\n",
    "    for ( d=0 ; d<m_degree ; ++d )\n",
    "     { y *= x ; }\n",
    "    return y ;\n",
    "   }\n",
    " } ;\n",
    "\n",
    "// programme principal\n",
    "int main ( int argc, char * argv[] )\n",
    " {\n",
    "  int dim = atoi(argv[1]) ;\n",
    "  int degree = atoi(argv[2]) ;\n",
    "  \n",
    "  // generate random input\n",
    "  Complexes input(dim) ;\n",
    "  srand(201911104) ;\n",
    "  std::for_each(input.begin(),input.end(),random_complex) ;\n",
    "\n",
    "  // compute output\n",
    "  Complexes output(dim) ;\n",
    "  std::transform(input.begin(),input.end(),output.begin(),ComplexPow(degree)) ;\n",
    "  \n",
    "  // check result\n",
    "  std::cout.precision(2) ;\n",
    "  print_product(output) ;\n",
    "\n",
    "  return 0 ;\n",
    " }"
   ]
  },
  {
   "cell_type": "code",
   "execution_count": null,
   "metadata": {
    "slideshow": {
     "slide_type": "fragment"
    }
   },
   "outputs": [],
   "source": [
    "!rm -f tmp.lambda-functions.exe && g++ -std=c++17 tmp.lambda-functions.cpp -o tmp.lambda-functions.exe"
   ]
  },
  {
   "cell_type": "code",
   "execution_count": null,
   "metadata": {
    "slideshow": {
     "slide_type": "fragment"
    }
   },
   "outputs": [],
   "source": [
    "!./tmp.lambda-functions.exe 5 10"
   ]
  },
  {
   "cell_type": "markdown",
   "metadata": {
    "slideshow": {
     "slide_type": "skip"
    }
   },
   "source": [
    "© *CNRS 2020*  \n",
    "*Assembled and written by David Chamont, this work is made available according to the terms of the*  \n",
    "[*Creative Commons License - Attribution - NonCommercial - ShareAlike 4.0 International*](http://creativecommons.org/licenses/by-nc-sa/4.0/)"
   ]
  }
 ],
 "metadata": {
  "celltoolbar": "Diaporama",
  "kernelspec": {
   "display_name": "C++17",
   "language": "C++17",
   "name": "xcpp17"
  },
  "language_info": {
   "codemirror_mode": "text/x-c++src",
   "file_extension": ".cpp",
   "mimetype": "text/x-c++src",
   "name": "c++",
   "version": "17"
  }
 },
 "nbformat": 4,
 "nbformat_minor": 4
}
