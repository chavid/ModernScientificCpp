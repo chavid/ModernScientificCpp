{
 "cells": [
  {
   "cell_type": "markdown",
   "metadata": {},
   "source": [
    "# Modern C++ Syntax - Functional Features\n",
    "\n",
    "<!-- 1. [Revisions](O-FunctionalSyntax-Revisions.ipynb) -->\n",
    "1. [Syntactic Sugar](en.1-functional-sugar.ipynb)\n",
    "1. [Lambda Functions](en.2-lambda-functions.ipynb)\n",
    "<!--1. [CoRoutines](en.3-coroutines.ipynb) -->\n",
    "<!-- 1. [Traps & Pitfalls](9-FunctionalTraps.ipynb) -->"
   ]
  }
 ],
 "metadata": {
  "kernelspec": {
   "display_name": "C++17",
   "language": "C++17",
   "name": "xcpp17"
  },
  "language_info": {
   "codemirror_mode": "text/x-c++src",
   "file_extension": ".cpp",
   "mimetype": "text/x-c++src",
   "name": "c++",
   "version": "17"
  }
 },
 "nbformat": 4,
 "nbformat_minor": 4
}
