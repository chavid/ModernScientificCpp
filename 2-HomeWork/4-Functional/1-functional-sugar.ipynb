{
 "cells": [
  {
   "cell_type": "markdown",
   "metadata": {
    "slideshow": {
     "slide_type": "slide"
    }
   },
   "source": [
    "# Functional & parallel syntactic sugar\n",
    "\n",
    "We group here some small modern features, which have a taste of functional and/or parallel programming."
   ]
  },
  {
   "cell_type": "markdown",
   "metadata": {
    "slideshow": {
     "slide_type": "slide"
    }
   },
   "source": [
    "## Range-based for (C++11)"
   ]
  },
  {
   "cell_type": "markdown",
   "metadata": {
    "slideshow": {
     "slide_type": "subslide"
    }
   },
   "source": [
    "The classical `for` is explicitly defined as a sequence of steps. Each step may depend on the results of the previous step, which limits the compiler optimizations. This is a pity, because most loops actually do not care about the ordering of iteration:"
   ]
  },
  {
   "cell_type": "code",
   "execution_count": 1,
   "metadata": {
    "slideshow": {
     "slide_type": "fragment"
    }
   },
   "outputs": [],
   "source": [
    "#include <iostream>"
   ]
  },
  {
   "cell_type": "code",
   "execution_count": 1,
   "metadata": {
    "slideshow": {
     "slide_type": "fragment"
    }
   },
   "outputs": [
    {
     "name": "stdout",
     "output_type": "stream",
     "text": [
      "16.5\n"
     ]
    }
   ],
   "source": [
    "const int MAX = 5 ;\n",
    "double values[MAX] { 1.1, 2.2, 3.3, 4.4, 5.5 } ;\n",
    "double accumulator {0.} ;\n",
    "for ( int indice {0} ; indice<MAX ; ++indice  )\n",
    " { accumulator += values[indice] ; }\n",
    "std::cout << accumulator << std::endl ;"
   ]
  },
  {
   "cell_type": "markdown",
   "metadata": {
    "slideshow": {
     "slide_type": "subslide"
    }
   },
   "source": [
    "The new \"range-based for\" is both simpler to write, and better express independance of iterations:"
   ]
  },
  {
   "cell_type": "code",
   "execution_count": 2,
   "metadata": {
    "slideshow": {
     "slide_type": "fragment"
    }
   },
   "outputs": [
    {
     "name": "stdout",
     "output_type": "stream",
     "text": [
      "16.5\n"
     ]
    }
   ],
   "source": [
    "double values[] { 1.1, 2.2, 3.3, 4.4, 5.5 } ;\n",
    "double accumulator {0.} ;\n",
    "for ( double value : values  )\n",
    " { accumulator += value ; }\n",
    "std::cout << accumulator << std::endl ;"
   ]
  },
  {
   "cell_type": "markdown",
   "metadata": {
    "slideshow": {
     "slide_type": "subslide"
    }
   },
   "source": [
    "Yet, under the hood, this still requires that the object after the colon (`:`) has methods `begin()` et `end()`, which must return kind of iterators. Any object satisfying those requirements can be used, including instances of your own classes."
   ]
  },
  {
   "cell_type": "markdown",
   "metadata": {
    "slideshow": {
     "slide_type": "subslide"
    }
   },
   "source": [
    "Beware: if you want to change the values within the collection, do not forget the `&` in the element definition:"
   ]
  },
  {
   "cell_type": "code",
   "execution_count": 3,
   "metadata": {
    "slideshow": {
     "slide_type": "fragment"
    }
   },
   "outputs": [
    {
     "name": "stdout",
     "output_type": "stream",
     "text": [
      "33\n"
     ]
    }
   ],
   "source": [
    "double values[] { 1.1, 2.2, 3.3, 4.4, 5.5 } ;\n",
    "for ( double & value : values  )\n",
    " { value *= 2 ; }\n",
    "double accumulator {0.} ;\n",
    "for ( double value : values  )\n",
    " { accumulator += value ; }\n",
    "std::cout << accumulator << std::endl ;"
   ]
  },
  {
   "cell_type": "markdown",
   "metadata": {
    "slideshow": {
     "slide_type": "subslide"
    }
   },
   "source": [
    "The iterating element can be declared of type `auto`:"
   ]
  },
  {
   "cell_type": "code",
   "execution_count": 4,
   "metadata": {
    "slideshow": {
     "slide_type": "fragment"
    }
   },
   "outputs": [
    {
     "name": "stdout",
     "output_type": "stream",
     "text": [
      "33\n"
     ]
    }
   ],
   "source": [
    "double values[] { 1.1, 2.2, 3.3, 4.4, 5.5 } ;\n",
    "for ( auto & value : values  )\n",
    " { value *= 2 ; }\n",
    "double accumulator {0.} ;\n",
    "for ( auto value : values  )\n",
    " { accumulator += value ; }\n",
    "std::cout << accumulator << std::endl ;"
   ]
  },
  {
   "cell_type": "markdown",
   "metadata": {
    "slideshow": {
     "slide_type": "slide"
    }
   },
   "source": [
    "## Structured Bindings (C++17)"
   ]
  },
  {
   "cell_type": "markdown",
   "metadata": {
    "slideshow": {
     "slide_type": "subslide"
    }
   },
   "source": [
    "The functional programming style should lead you to write \"pure\" functions, with constant input data, and all the ouput returned as a compound data. The new C++17 structured bindings enable you to dispatch such a compound return value into several variables, almost as simply as in Python..."
   ]
  },
  {
   "cell_type": "code",
   "execution_count": 1,
   "metadata": {
    "slideshow": {
     "slide_type": "fragment"
    }
   },
   "outputs": [],
   "source": [
    "#include <iostream>\n",
    "#include <utility>"
   ]
  },
  {
   "cell_type": "code",
   "execution_count": null,
   "metadata": {
    "slideshow": {
     "slide_type": "fragment"
    }
   },
   "outputs": [],
   "source": [
    "auto [ first, second ] = std::make_pair(42, 3.14) ;\n",
    "std::cout << \"first: \" << first << std::endl ;\n",
    "std::cout << \"second: \" << second << std::endl ;"
   ]
  },
  {
   "cell_type": "markdown",
   "metadata": {
    "slideshow": {
     "slide_type": "subslide"
    }
   },
   "source": [
    "Actually, on the right side of `=`, one can place many kinds of arrays, structs, tuples, and user-defined classes with tuple-like properties."
   ]
  },
  {
   "cell_type": "code",
   "execution_count": 2,
   "metadata": {
    "slideshow": {
     "slide_type": "fragment"
    }
   },
   "outputs": [],
   "source": [
    "struct Vector { double x, y, z ; } ;"
   ]
  },
  {
   "cell_type": "code",
   "execution_count": 3,
   "metadata": {
    "slideshow": {
     "slide_type": "fragment"
    }
   },
   "outputs": [],
   "source": [
    "#include <tuple>"
   ]
  },
  {
   "cell_type": "code",
   "execution_count": 4,
   "metadata": {
    "slideshow": {
     "slide_type": "fragment"
    }
   },
   "outputs": [],
   "source": [
    "int values[] { 1, 2 } ;\n",
    "Vector origin {0, 0, 0} ;\n",
    "std::tuple t(42, 3.14, \"hello\", \"world\") ;"
   ]
  },
  {
   "cell_type": "code",
   "execution_count": 5,
   "metadata": {
    "slideshow": {
     "slide_type": "fragment"
    }
   },
   "outputs": [],
   "source": [
    "auto [ v1, v2 ] = values ;\n",
    "auto [ ox, oy, oz ] = origin ;\n",
    "auto [ t1, t2, t3, t4 ] = t ;"
   ]
  },
  {
   "cell_type": "markdown",
   "metadata": {
    "slideshow": {
     "slide_type": "subslide"
    }
   },
   "source": [
    "Structured bindings also prove useful within `range-based for`:"
   ]
  },
  {
   "cell_type": "code",
   "execution_count": 1,
   "metadata": {
    "slideshow": {
     "slide_type": "fragment"
    }
   },
   "outputs": [],
   "source": [
    "#include <iostream> \n",
    "#include <map> \n",
    "#include <string> "
   ]
  },
  {
   "cell_type": "code",
   "execution_count": 2,
   "metadata": {
    "slideshow": {
     "slide_type": "fragment"
    }
   },
   "outputs": [
    {
     "name": "stdout",
     "output_type": "stream",
     "text": [
      "Antoine 18\n",
      "David 3\n",
      "Francoise 12\n"
     ]
    }
   ],
   "source": [
    "std::map<std::string, int> grades ;\n",
    "  \n",
    "grades[\"Francoise\"] = 12 ;\n",
    "grades[\"Antoine\"] = 18 ;\n",
    "grades[\"David\"] = 3 ;\n",
    "      \n",
    "for ( auto [ key, value ] : grades )\n",
    " { std::cout << key << \" \" << value << std::endl ; } "
   ]
  },
  {
   "cell_type": "markdown",
   "metadata": {
    "slideshow": {
     "slide_type": "slide"
    }
   },
   "source": [
    "## Exercise\n",
    "\n",
    "In the code below, you are asked to complete the class `IndexedVector`, so that the program output is:\n",
    "```\n",
    "0 1.1\n",
    "1 2.2\n",
    "2 3.3\n",
    "3 4.4\n",
    "4 5.5\n",
    "```"
   ]
  },
  {
   "cell_type": "code",
   "execution_count": 9,
   "metadata": {
    "slideshow": {
     "slide_type": "fragment"
    }
   },
   "outputs": [
    {
     "name": "stdout",
     "output_type": "stream",
     "text": [
      "Overwriting 1-Sugar.cpp\n"
     ]
    }
   ],
   "source": [
    "%%file tmp.functional-sugar.cpp\n",
    "\n",
    "#include <iostream>\n",
    "#include <vector>\n",
    "#include <tuple>\n",
    "\n",
    "struct IndexedVector : public std::vector<double>\n",
    " {\n",
    "  struct Iterator\n",
    "   {\n",
    "    /*****/\n",
    "    void operator++()\n",
    "     { /*****/ }\n",
    "    bool operator!=( Iterator const & itr )\n",
    "     { /*****/ }\n",
    "    /*****/ operator*()\n",
    "     { /*****/ }\n",
    "   } ;\n",
    "  /*****/\n",
    "  Iterator begin() { /*****/ }\n",
    "  Iterator end() { /*****/ }\n",
    " } ;\n",
    "\n",
    "int main()\n",
    " {\n",
    "  IndexedVector values { 1.1, 2.2, 3.3, 4.4, 5.5 } ;\n",
    "  for ( auto [ index, value ] : values  )\n",
    "   { std::cout<<index<<\" \"<<value<<std::endl ; }\n",
    "  return 0 ;\n",
    " }"
   ]
  },
  {
   "cell_type": "code",
   "execution_count": 6,
   "metadata": {},
   "outputs": [],
   "source": [
    "!rm -f tmp.functional-sugar.exe && g++ -std=c++17 tmp.functional-sugar.cpp -o tmp.functional-sugar.exe"
   ]
  },
  {
   "cell_type": "code",
   "execution_count": 8,
   "metadata": {},
   "outputs": [
    {
     "name": "stdout",
     "output_type": "stream",
     "text": [
      "0 1.1\n",
      "1 2.2\n",
      "2 3.3\n",
      "3 4.4\n",
      "4 5.5\n"
     ]
    }
   ],
   "source": [
    "!./tmp.functional-sugar.exe"
   ]
  },
  {
   "cell_type": "markdown",
   "metadata": {
    "slideshow": {
     "slide_type": "skip"
    }
   },
   "source": [
    "#### Sources\n",
    "\n",
    "* [Cpp Reference, range-based for](https://en.cppreference.com/w/cpp/language/range-for)\n",
    "* [Cpp Reference, structured binding](https://en.cppreference.com/w/cpp/language/structured_binding)\n",
    "* [Geeks for Geeks, structured binding](https://www.geeksforgeeks.org/structured-binding-c/)"
   ]
  },
  {
   "cell_type": "markdown",
   "metadata": {
    "slideshow": {
     "slide_type": "skip"
    }
   },
   "source": [
    "© *CNRS 2020*  \n",
    "*Assembled and written by David Chamont, this work is made available according to the terms of the*  \n",
    "[*Creative Commons License - Attribution - NonCommercial - ShareAlike 4.0 International*](http://creativecommons.org/licenses/by-nc-sa/4.0/)"
   ]
  }
 ],
 "metadata": {
  "celltoolbar": "Diaporama",
  "kernelspec": {
   "display_name": "C++17",
   "language": "C++17",
   "name": "xcpp17"
  },
  "language_info": {
   "codemirror_mode": "text/x-c++src",
   "file_extension": ".cpp",
   "mimetype": "text/x-c++src",
   "name": "c++",
   "version": "17"
  }
 },
 "nbformat": 4,
 "nbformat_minor": 4
}
