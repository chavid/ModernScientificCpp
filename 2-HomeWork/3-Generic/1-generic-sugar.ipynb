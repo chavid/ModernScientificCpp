{
 "cells": [
  {
   "cell_type": "markdown",
   "metadata": {
    "slideshow": {
     "slide_type": "slide"
    }
   },
   "source": [
    "# Generic syntactic sugar\n",
    "\n",
    "Some small modern features, which have a taste of generic programming."
   ]
  },
  {
   "cell_type": "markdown",
   "metadata": {
    "slideshow": {
     "slide_type": "slide"
    }
   },
   "source": [
    "## At last !!\n",
    "\n",
    "When nesting template arguments, no more need to insert a space between subsequent \"<\" or \">\"."
   ]
  },
  {
   "cell_type": "markdown",
   "metadata": {
    "slideshow": {
     "slide_type": "slide"
    }
   },
   "source": [
    "## Static assertions"
   ]
  },
  {
   "cell_type": "markdown",
   "metadata": {
    "slideshow": {
     "slide_type": "subslide"
    }
   },
   "source": [
    "The new declaration `static_assert` is executed during compilation, on the contrary of `assert()` which is runtime. You can customize the error message. It is typically used to check some template argument :"
   ]
  },
  {
   "cell_type": "code",
   "execution_count": 1,
   "metadata": {
    "slideshow": {
     "slide_type": "fragment"
    }
   },
   "outputs": [],
   "source": [
    "#include <type_traits>\n",
    "template <typename MyInt>\n",
    "struct Rational\n",
    " {\n",
    "  static_assert(std::is_integral<MyInt>::value, \"Integral required.\") ;\n",
    "  static_assert(sizeof(MyInt)>=4, \"Underlying type is too small.\") ;\n",
    "  MyInt numerator ;\n",
    "  MyInt denominator ;\n",
    " } ;"
   ]
  },
  {
   "cell_type": "code",
   "execution_count": 2,
   "metadata": {
    "slideshow": {
     "slide_type": "fragment"
    }
   },
   "outputs": [
    {
     "name": "stderr",
     "output_type": "stream",
     "text": [
      "\u001b[1minput_line_8:5:3: \u001b[0m\u001b[0;1;31merror: \u001b[0m\u001b[1mstatic_assert failed \"Underlying type is too small.\"\u001b[0m\n",
      "  static_assert(sizeof(MyInt)>=4, \"Underlying type is too small.\") ;\n",
      "\u001b[0;1;32m  ^             ~~~~~~~~~~~~~~~~\n",
      "\u001b[0m\u001b[1minput_line_9:3:17: \u001b[0m\u001b[0;1;30mnote: \u001b[0min instantiation of template class '__cling_N52::Rational<short>' requested here\u001b[0m\n",
      "Rational<short> r2 ;\n",
      "\u001b[0;1;32m                ^\n",
      "\u001b[0m\u001b[1minput_line_8:4:3: \u001b[0m\u001b[0;1;31merror: \u001b[0m\u001b[1mstatic_assert failed \"Integral required.\"\u001b[0m\n",
      "  static_assert(std::is_integral<MyInt>::value, \"Integral required.\") ;\n",
      "\u001b[0;1;32m  ^             ~~~~~~~~~~~~~~~~~~~~~~~~~~~~~~\n",
      "\u001b[0m\u001b[1minput_line_9:4:18: \u001b[0m\u001b[0;1;30mnote: \u001b[0min instantiation of template class '__cling_N52::Rational<double>' requested here\u001b[0m\n",
      "Rational<double> r3 ;\n",
      "\u001b[0;1;32m                 ^\n",
      "\u001b[0m"
     ]
    },
    {
     "ename": "Interpreter Error",
     "evalue": "",
     "output_type": "error",
     "traceback": [
      "Interpreter Error: "
     ]
    }
   ],
   "source": [
    "Rational<int> r1 ;\n",
    "Rational<short> r2 ;\n",
    "Rational<double> r3 ;"
   ]
  },
  {
   "cell_type": "markdown",
   "metadata": {
    "slideshow": {
     "slide_type": "subslide"
    }
   },
   "source": [
    "In this other example, we want to check the size of an array is not zero:"
   ]
  },
  {
   "cell_type": "code",
   "execution_count": 3,
   "metadata": {
    "slideshow": {
     "slide_type": "fragment"
    }
   },
   "outputs": [],
   "source": [
    "#include <iostream>"
   ]
  },
  {
   "cell_type": "code",
   "execution_count": 5,
   "metadata": {
    "slideshow": {
     "slide_type": "fragment"
    }
   },
   "outputs": [
    {
     "name": "stderr",
     "output_type": "stream",
     "text": [
      "\u001b[1minput_line_12:4:1: \u001b[0m\u001b[0;1;31merror: \u001b[0m\u001b[1mstatic_assert failed \"Wrong size for the array.\"\u001b[0m\n",
      "static_assert(n>0,\"Wrong size for the array.\") ;\n",
      "\u001b[0;1;32m^             ~~~\n",
      "\u001b[0m"
     ]
    },
    {
     "ename": "Interpreter Error",
     "evalue": "",
     "output_type": "error",
     "traceback": [
      "Interpreter Error: "
     ]
    }
   ],
   "source": [
    "const int n = 0 ;\n",
    "// ...\n",
    "static_assert(n>0,\"Wrong size for the array.\") ;\n",
    "double values[n] ;"
   ]
  },
  {
   "cell_type": "markdown",
   "metadata": {
    "slideshow": {
     "slide_type": "slide"
    }
   },
   "source": [
    "## Explicit instanciation\n",
    "\n",
    "The intensive use of template items produces \"code bloat\" : an explosion of the number of types and functions, which the developer is not fully aware of, and the duplication of all this stuff in any object file compiled separately, leading to huge final executables. Since compilers have mostly failed to solve this issue (hopefully the C++20 modules will help), C++11 enable the developer to help by explicitly forbid or trigger a template instanciation."
   ]
  },
  {
   "cell_type": "markdown",
   "metadata": {
    "slideshow": {
     "slide_type": "fragment"
    }
   },
   "source": [
    "#### Forbid a template instanciation in the current file\n",
    "\n",
    "``` cpp\n",
    "extern template class Point<int> ;\n",
    "```"
   ]
  },
  {
   "cell_type": "markdown",
   "metadata": {
    "slideshow": {
     "slide_type": "fragment"
    }
   },
   "source": [
    "#### Trigger  a template instanciation in the current file\n",
    "\n",
    "``` cpp\n",
    "template class Point<int> ;\n",
    "```"
   ]
  },
  {
   "cell_type": "markdown",
   "metadata": {
    "slideshow": {
     "slide_type": "slide"
    }
   },
   "source": [
    "## Class template argument deduction (C++17)"
   ]
  },
  {
   "cell_type": "markdown",
   "metadata": {
    "slideshow": {
     "slide_type": "subslide"
    }
   },
   "source": [
    "Before C++17, when asking for the instanciation of a templated class, the developer had to provide explicitly the template parameters, although they were often quite obvious (see example below). This often leaded to the definition of `m_make*` utility functions, whose only purpose was to allow the parameter deduction by the compiler.  "
   ]
  },
  {
   "cell_type": "code",
   "execution_count": null,
   "metadata": {
    "slideshow": {
     "slide_type": "fragment"
    }
   },
   "outputs": [],
   "source": [
    "#include <utility>"
   ]
  },
  {
   "cell_type": "code",
   "execution_count": null,
   "metadata": {
    "slideshow": {
     "slide_type": "fragment"
    }
   },
   "outputs": [],
   "source": [
    "std::pair<int,double> p1(42, 3.14) ;\n",
    "auto p2 = std::make_pair(42, 3.14) ;"
   ]
  },
  {
   "cell_type": "markdown",
   "metadata": {
    "slideshow": {
     "slide_type": "subslide"
    }
   },
   "source": [
    "The parameter deduction is now allowed for contructors, so one can simply write:"
   ]
  },
  {
   "cell_type": "code",
   "execution_count": 3,
   "metadata": {
    "slideshow": {
     "slide_type": "fragment"
    }
   },
   "outputs": [],
   "source": [
    "std::pair p1(42, 3.14) ;"
   ]
  },
  {
   "cell_type": "markdown",
   "metadata": {
    "slideshow": {
     "slide_type": "skip"
    }
   },
   "source": [
    "#### Sources\n",
    "* [Cpp Reference](https://en.cppreference.com/w/cpp/language/class_template_argument_deduction)"
   ]
  },
  {
   "cell_type": "markdown",
   "metadata": {
    "slideshow": {
     "slide_type": "slide"
    }
   },
   "source": [
    "## Variable templates (C++14)\n",
    "\n",
    "C++14 introduces the possibility to write variable templates. A common example is the PI constant, which can be expressed with different precisions, depending on the underlying floating point type."
   ]
  },
  {
   "cell_type": "code",
   "execution_count": null,
   "metadata": {
    "slideshow": {
     "slide_type": "subslide"
    }
   },
   "outputs": [],
   "source": [
    "template <typename T>\n",
    "const T pi = T(3.1415926535897932385) ;"
   ]
  },
  {
   "cell_type": "code",
   "execution_count": null,
   "metadata": {
    "slideshow": {
     "slide_type": "subslide"
    }
   },
   "outputs": [],
   "source": [
    "template <typename T>\n",
    "T circular_area(T r)\n",
    " { return pi<T> * r * r ; }"
   ]
  },
  {
   "cell_type": "code",
   "execution_count": null,
   "metadata": {
    "slideshow": {
     "slide_type": "fragment"
    }
   },
   "outputs": [],
   "source": [
    "#include <iostream>"
   ]
  },
  {
   "cell_type": "code",
   "execution_count": null,
   "metadata": {
    "slideshow": {
     "slide_type": "fragment"
    }
   },
   "outputs": [],
   "source": [
    "std::cout.precision(15) ;\n",
    "std::cout << \"double : \" << circular_area<double>(1) << std::endl ;\n",
    "std::cout << \"float  : \" << circular_area<float>(1) << std::endl ;\n",
    "std::cout << \"int    : \" << circular_area<int>(1) << std::endl ;"
   ]
  },
  {
   "cell_type": "markdown",
   "metadata": {
    "slideshow": {
     "slide_type": "subslide"
    }
   },
   "source": [
    "Since C++17, in the standard library, variable templates are used to implement some `_v` shortcuts for the boolean type traits. For example :"
   ]
  },
  {
   "cell_type": "code",
   "execution_count": null,
   "metadata": {
    "slideshow": {
     "slide_type": "fragment"
    }
   },
   "outputs": [],
   "source": [
    "template <typename T>\n",
    "bool is_integral_v = std::is_integral<T>::value ;"
   ]
  },
  {
   "cell_type": "markdown",
   "metadata": {
    "slideshow": {
     "slide_type": "slide"
    }
   },
   "source": [
    "## Alias templates\n",
    "\n",
    "It is now possible, thanks to the keyword `using`, to define an alias for some partial specialization of a class template."
   ]
  },
  {
   "cell_type": "code",
   "execution_count": 1,
   "metadata": {
    "attributes": {
     "classes": [
      "cpp"
     ],
     "id": ""
    },
    "slideshow": {
     "slide_type": "fragment"
    }
   },
   "outputs": [],
   "source": [
    "template <typename T, typename U>\n",
    "class Couple { public : T x ; U y ; } ;"
   ]
  },
  {
   "cell_type": "code",
   "execution_count": 2,
   "metadata": {
    "attributes": {
     "classes": [
      "cpp"
     ],
     "id": ""
    },
    "slideshow": {
     "slide_type": "fragment"
    }
   },
   "outputs": [],
   "source": [
    "template <typename U>\n",
    "using IntCouple = Couple<int,U> ;"
   ]
  },
  {
   "cell_type": "code",
   "execution_count": 3,
   "metadata": {
    "attributes": {
     "classes": [
      "cpp"
     ],
     "id": ""
    },
    "slideshow": {
     "slide_type": "fragment"
    }
   },
   "outputs": [],
   "source": [
    "IntCouple<double> pid ; // same as Couple<int,double>"
   ]
  },
  {
   "cell_type": "code",
   "execution_count": 5,
   "metadata": {
    "slideshow": {
     "slide_type": "fragment"
    }
   },
   "outputs": [],
   "source": [
    "template <typename T>\n",
    "using MapInt = std::map<int,T> ;"
   ]
  },
  {
   "cell_type": "code",
   "execution_count": 6,
   "metadata": {
    "slideshow": {
     "slide_type": "fragment"
    }
   },
   "outputs": [],
   "source": [
    "MapInt<double> md ; // same asstd::map<int,double>"
   ]
  },
  {
   "cell_type": "markdown",
   "metadata": {
    "slideshow": {
     "slide_type": "subslide"
    }
   },
   "source": [
    "The keyword `using` can and should now be used instead of `typedef`. It is considered more readable. Some examples below:"
   ]
  },
  {
   "cell_type": "code",
   "execution_count": 4,
   "metadata": {
    "slideshow": {
     "slide_type": "fragment"
    }
   },
   "outputs": [],
   "source": [
    "#include <list>\n",
    "#include <map>\n",
    "#include <iostream>"
   ]
  },
  {
   "cell_type": "code",
   "execution_count": 7,
   "metadata": {
    "slideshow": {
     "slide_type": "fragment"
    }
   },
   "outputs": [],
   "source": [
    "using real = float ; // typedef float real ;\n",
    "    \n",
    "using mymap = std::map<std::vector<int>,std::list<float>> ;\n",
    "using myitr = mymap::const_iterator ;\n",
    "    \n",
    "using fptr = void(*)(int) ;"
   ]
  },
  {
   "cell_type": "markdown",
   "metadata": {
    "slideshow": {
     "slide_type": "notes"
    }
   },
   "source": [
    "Note: with the development of `auto` and type infering, it becames less and less necessary to use type aliases so to lighten the code."
   ]
  },
  {
   "cell_type": "markdown",
   "metadata": {
    "slideshow": {
     "slide_type": "slide"
    }
   },
   "source": [
    "## Exercise\n",
    "\n",
    "In the example below, we want to declare the variable `value2` with the same type as `value1`, but `const` removed. We use the type modifier `remove_const` from the standard library.\n",
    "\n",
    "1. Why do we need `typename` just before `std::remove_const<T>::type` ?\n",
    "2. May you write an alias template `my_remove_const_t`, which would be equivalent to `std::remove_const<T>::type`, and simplify the first line of `increment_and_display()` ?"
   ]
  },
  {
   "cell_type": "code",
   "execution_count": 8,
   "metadata": {
    "slideshow": {
     "slide_type": "fragment"
    }
   },
   "outputs": [
    {
     "name": "stdout",
     "output_type": "stream",
     "text": [
      "Writing tmp.generic-sugar.cpp\n"
     ]
    }
   ],
   "source": [
    "%%file tmp.generic-sugar.cpp\n",
    "\n",
    "#include <iostream>\n",
    "\n",
    "template< typename T >\n",
    "void increment_and_display( T & value1 )\n",
    " {\n",
    "  typename std::remove_const<T>::type value2 { value1 } ;\n",
    "  ++value2 ;\n",
    "  std::cout<<value2<<std::endl ;\n",
    " }\n",
    "\n",
    "int main()\n",
    " {\n",
    "  const int size = 10 ;\n",
    "  increment_and_display(size) ;\n",
    " }"
   ]
  },
  {
   "cell_type": "code",
   "execution_count": 9,
   "metadata": {
    "slideshow": {
     "slide_type": "fragment"
    }
   },
   "outputs": [],
   "source": [
    "!rm -f tmp.generic-sugar.exe && g++ -std=c++17 tmp.generic-sugar.cpp -o tmp.generic-sugar.exe"
   ]
  },
  {
   "cell_type": "code",
   "execution_count": 10,
   "metadata": {
    "slideshow": {
     "slide_type": "fragment"
    }
   },
   "outputs": [
    {
     "name": "stdout",
     "output_type": "stream",
     "text": [
      "11\n"
     ]
    }
   ],
   "source": [
    "!./tmp.generic-sugar.exe"
   ]
  },
  {
   "cell_type": "markdown",
   "metadata": {
    "slideshow": {
     "slide_type": "skip"
    }
   },
   "source": [
    "© *CNRS 2020*  \n",
    "*Assembled and written by David Chamont, this work is made available according to the terms of the*  \n",
    "[*Creative Commons License - Attribution - NonCommercial - ShareAlike 4.0 International*](http://creativecommons.org/licenses/by-nc-sa/4.0/)"
   ]
  }
 ],
 "metadata": {
  "celltoolbar": "Diaporama",
  "kernelspec": {
   "display_name": "C++17",
   "language": "C++17",
   "name": "xcpp17"
  },
  "language_info": {
   "codemirror_mode": "text/x-c++src",
   "file_extension": ".cpp",
   "mimetype": "text/x-c++src",
   "name": "c++",
   "version": "17"
  }
 },
 "nbformat": 4,
 "nbformat_minor": 4
}
