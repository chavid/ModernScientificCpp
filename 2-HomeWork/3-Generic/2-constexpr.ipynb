{
 "cells": [
  {
   "cell_type": "markdown",
   "metadata": {
    "slideshow": {
     "slide_type": "slide"
    }
   },
   "source": [
    "# Constant Expressions"
   ]
  },
  {
   "cell_type": "markdown",
   "metadata": {
    "slideshow": {
     "slide_type": "subslide"
    }
   },
   "source": [
    "A **constant expression** is an expression that can be evaluated at compile time.\n",
    "* Within C++03, such an expression can only involve litteral integral values and variables which are themselves initialized with constant expressions.\n",
    "* C++11 allows floating point numbers, simplistic functions and all \"litteral\" types, including your own classes.\n",
    "* C++14 open widely what is allowed in a `constexpr` function.\n",
    "* C++17 adds `if constexpr`, also evaluated at compile time, making obsolete some old meta-programming tips."
   ]
  },
  {
   "cell_type": "markdown",
   "metadata": {
    "slideshow": {
     "slide_type": "subslide"
    }
   },
   "source": [
    "**Moving some evaluations at the compile-time obsviously accelerates runtime execution**, but it also avoid some usual pitfalls:\n",
    "* uncertain order of global variable initialization when launching an executable,\n",
    "* uncertain order of execution of multiple threads.\n",
    "This proves especially important for class such as `std::mutex` or `std::atomic`."
   ]
  },
  {
   "cell_type": "markdown",
   "metadata": {
    "slideshow": {
     "slide_type": "slide"
    }
   },
   "source": [
    "## `constexpr` variables\n",
    "\n",
    "A `constexpr` variable is implicitly `const`, and **must** be evaluated at compile time. Unlike `const`, it will not fill some memory slot, and its value will be directly substituted wherever it is used in the code. Unlike `#define`, it is evaluated only once, and will not suffer the usual preprocessor pitfalls."
   ]
  },
  {
   "cell_type": "markdown",
   "metadata": {
    "slideshow": {
     "slide_type": "subslide"
    }
   },
   "source": [
    "Also, floating numbers are allowed, and one can initialised within a class definition any member variable which is both `static` et `constexpr`. For example, this would not compile in ancient C++:"
   ]
  },
  {
   "cell_type": "code",
   "execution_count": null,
   "metadata": {
    "slideshow": {
     "slide_type": "fragment"
    }
   },
   "outputs": [],
   "source": [
    "struct X\n",
    " {\n",
    "  static constexpr float val = 3.14 ;\n",
    " } ;"
   ]
  },
  {
   "cell_type": "markdown",
   "metadata": {
    "slideshow": {
     "slide_type": "slide"
    }
   },
   "source": [
    "##  `constexpr` functions\n",
    "\n",
    "A call to a `constexpr` function **may possibly** be evaluated at compile time, if the arguments to the call are themselves `constant expressions`. For example, one can use `constexpr` functions when computing the size of some fixed array."
   ]
  },
  {
   "cell_type": "markdown",
   "metadata": {
    "slideshow": {
     "slide_type": "subslide"
    }
   },
   "source": [
    "In this example, would you find out which calls to `square()` are evaluated at compile time, and which ones are evaluated at run time ?\n",
    "<!--\n",
    "* t1 : compile time, constexpr.\n",
    "* t2 : compile time, constant expression.\n",
    "* t3 : run time, the constance is lst once stored in a non-const varibale ?\n",
    "-->"
   ]
  },
  {
   "cell_type": "code",
   "execution_count": null,
   "metadata": {
    "slideshow": {
     "slide_type": "fragment"
    }
   },
   "outputs": [],
   "source": [
    "constexpr int square( int n )\n",
    " { return n*n ; }"
   ]
  },
  {
   "cell_type": "code",
   "execution_count": null,
   "metadata": {
    "attributes": {
     "classes": [
      "cpp"
     ],
     "id": ""
    },
    "slideshow": {
     "slide_type": "fragment"
    }
   },
   "outputs": [],
   "source": [
    "#include <iostream>\n",
    "{\n",
    "  constexpr int t1 = 2 ;\n",
    "  const int t2 = 3 ;\n",
    "  int t3 = 4 ;\n",
    "    \n",
    "  std::cout << square(t1) << std::endl ;\n",
    "  std::cout << square(t2) << std::endl ;\n",
    "  std::cout << square(t3) << std::endl ;\n",
    "}"
   ]
  },
  {
   "cell_type": "markdown",
   "metadata": {
    "slideshow": {
     "slide_type": "slide"
    }
   },
   "source": [
    "## `if constexpr` (C++17)\n",
    "\n",
    "This kind of `if` is evaluated at compile time. Of course, the condition must be a constant expression. This new feature is largely better than the preprocessor `#if`, because its condition can be evaluated by the compiler."
   ]
  },
  {
   "cell_type": "markdown",
   "metadata": {
    "slideshow": {
     "slide_type": "subslide"
    }
   },
   "source": [
    "In this first example, we compare two numbers, with a margin for floating point numbers."
   ]
  },
  {
   "cell_type": "code",
   "execution_count": null,
   "metadata": {
    "slideshow": {
     "slide_type": "fragment"
    }
   },
   "outputs": [],
   "source": [
    "#include <cmath>\n",
    "\n",
    "template <class T>\n",
    "constexpr auto precision_threshold = T(0.001) ;\n",
    "\n",
    "template <class T>\n",
    "constexpr bool close_enough(T a, T b)\n",
    " {\n",
    "  if constexpr (std::is_floating_point_v<T>)\n",
    "    return std::abs(a-b) < precision_threshold<T> ;\n",
    "  else\n",
    "    return a == b ;\n",
    " } "
   ]
  },
  {
   "cell_type": "code",
   "execution_count": null,
   "metadata": {
    "slideshow": {
     "slide_type": "fragment"
    }
   },
   "outputs": [],
   "source": [
    "#include <iostream>\n",
    "{\n",
    "  std::cout<<close_enough(11,12)<<std::endl ;\n",
    "  std::cout<<close_enough(12,12)<<std::endl ;\n",
    "  std::cout<<close_enough(3.14,3.15)<<std::endl ;\n",
    "  std::cout<<close_enough(3.1416,3.1417)<<std::endl ;\n",
    "}"
   ]
  },
  {
   "cell_type": "markdown",
   "metadata": {
    "slideshow": {
     "slide_type": "subslide"
    }
   },
   "source": [
    "Below, the implementation of `my_advance()` is optimized for random-access iterators. Why would the compilation fail without `constexpr`, if I use `advance()` with a `std::list`iterator ?"
   ]
  },
  {
   "cell_type": "code",
   "execution_count": null,
   "metadata": {
    "slideshow": {
     "slide_type": "fragment"
    }
   },
   "outputs": [],
   "source": [
    "#include <iterator>\n",
    "\n",
    "template <typename Iterator, typename Dist>\n",
    "void my_advance( Iterator & i, Dist n )\n",
    " {\n",
    "  using cat = typename std::iterator_traits<Iterator>::iterator_category ;\n",
    "  if constexpr (std::is_same_v<cat,std::random_access_iterator_tag>)\n",
    "   { i += n ; }\n",
    "  else\n",
    "   {\n",
    "    if (n >= 0) while (n--) ++i ;\n",
    "    else while (n++) --i ;\n",
    "   }\n",
    " }"
   ]
  },
  {
   "cell_type": "markdown",
   "metadata": {
    "slideshow": {
     "slide_type": "slide"
    }
   },
   "source": [
    "## `constexpr` classes & objects"
   ]
  },
  {
   "cell_type": "markdown",
   "metadata": {
    "slideshow": {
     "slide_type": "subslide"
    }
   },
   "source": [
    "Succintly speaking, a class is allowed in constant expressions, provided its member variables are also allowed, and there is a `constexpr` constructor which explicitly initialize each of them:"
   ]
  },
  {
   "cell_type": "code",
   "execution_count": null,
   "metadata": {
    "slideshow": {
     "slide_type": "fragment"
    }
   },
   "outputs": [],
   "source": [
    "class Point2d\n",
    " {\n",
    "  public :\n",
    "    constexpr Point2d( float x, float y ) : m_x(x), m_y(y) {}\n",
    "  private :\n",
    "    float m_x, m_y ;\n",
    " } ;"
   ]
  },
  {
   "cell_type": "code",
   "execution_count": null,
   "metadata": {
    "attributes": {
     "classes": [
      "cpp"
     ],
     "id": ""
    },
    "slideshow": {
     "slide_type": "fragment"
    }
   },
   "outputs": [],
   "source": [
    "constexpr Point2d origine(0.0,0.0) ;"
   ]
  },
  {
   "cell_type": "markdown",
   "metadata": {
    "slideshow": {
     "slide_type": "subslide"
    }
   },
   "source": [
    "Actually, the class must comply with all the requirements of the \"Literal Type\" category, which we will not detail here. Predefined numeric types are compliants. `std::string` is not."
   ]
  },
  {
   "cell_type": "markdown",
   "metadata": {
    "slideshow": {
     "slide_type": "slide"
    }
   },
   "source": [
    "## `constexpr` template functions\n",
    "\n",
    "For what concerns a template function, the `constexpr` keyword is taken into account if and only if the type parameters are compatible with a compile-time evaluation. If not, it is simply ignored. This flexibility avoid painful multiple definitions of a given function."
   ]
  },
  {
   "cell_type": "code",
   "execution_count": null,
   "metadata": {
    "slideshow": {
     "slide_type": "fragment"
    }
   },
   "outputs": [],
   "source": [
    "template<typename T>\n",
    "constexpr T sum(T a,T b)\n",
    "{ return a+b ; }"
   ]
  },
  {
   "cell_type": "code",
   "execution_count": null,
   "metadata": {
    "slideshow": {
     "slide_type": "fragment"
    }
   },
   "outputs": [],
   "source": [
    "#include <string>\n",
    "{\n",
    "    constexpr int i = sum(3,42) ; // OK, sum<int> is constexpr\n",
    "    std::string s = sum(std::string(\"hello\"),std::string(\" world\")); // OK, but sum<std::string> isn’t constexpr\n",
    "}"
   ]
  },
  {
   "cell_type": "markdown",
   "metadata": {
    "slideshow": {
     "slide_type": "slide"
    }
   },
   "source": [
    "## Exercise\n",
    "\n",
    "Correct the code below, so that the compiler accepts that the instance of `FromTo`, at the beginning of `count`, is evaluable at compile time, as requested by `constexpr`."
   ]
  },
  {
   "cell_type": "code",
   "execution_count": null,
   "metadata": {
    "slideshow": {
     "slide_type": "fragment"
    }
   },
   "outputs": [],
   "source": [
    "%%file tmp.constexpr.cpp\n",
    "\n",
    "#include <iostream>\n",
    "#include <string>\n",
    "\n",
    "class FromTo\n",
    " {\n",
    "  public :\n",
    "    struct Itr\n",
    "     {\n",
    "      int val ;\n",
    "      bool operator!=( Itr const & itr ) const { return (val!=itr.val) ;  }\n",
    "      int operator*() const { return val ; }\n",
    "      Itr & operator++() { ++val ; return *this ; }\n",
    "     } ;\n",
    "    FromTo( int from, int to ) : m_from{from}, m_to{to} {}\n",
    "    Itr begin() const { return Itr{m_from} ; }\n",
    "    Itr end() const { return Itr{m_to} ; }\n",
    "  private :\n",
    "    int const m_from, m_to ;\n",
    " } ;\n",
    "\n",
    "void count( std::string const & name, int from, int to )\n",
    " {\n",
    "  constexpr FromTo range(from,to) ;\n",
    "  std::cout<<name ;\n",
    "  for ( auto rank : range )\n",
    "   { std::cout<<\", \"<<rank ; }\n",
    "  std::cout<<std::endl ;\n",
    " }\n",
    "\n",
    "int main()\n",
    " {\n",
    "  count(\"First\",0,3) ;\n",
    "  count(\"Second\",0,7) ;\n",
    "  return 0 ;\n",
    " }"
   ]
  },
  {
   "cell_type": "code",
   "execution_count": null,
   "metadata": {
    "slideshow": {
     "slide_type": "fragment"
    }
   },
   "outputs": [],
   "source": [
    "!rm -f tmp.constexpr.exe && g++ -std=c++17 tmp.constexpr.cpp -o tmp.constexpr.exe"
   ]
  },
  {
   "cell_type": "code",
   "execution_count": null,
   "metadata": {
    "slideshow": {
     "slide_type": "fragment"
    }
   },
   "outputs": [],
   "source": [
    "!./tmp.constexpr.exe"
   ]
  },
  {
   "cell_type": "markdown",
   "metadata": {
    "slideshow": {
     "slide_type": "skip"
    }
   },
   "source": [
    "## Ressources\n",
    "* <http://en.cppreference.com/w/cpp/language/constant_expression>\n",
    "* <http://en.cppreference.com/w/cpp/concept/LiteralType>\n",
    "* <http://www.cprogramming.com/c++11/c++11-compile-time-processing-with-constexpr.html> * http://meetingcpp.com/blog/items/How-if-constexpr-simplifies-your-code-in-Cpp17.html\n",
    "* https://www.codingame.com/playgrounds/2205/7-features-of-c17-that-will-simplify-your-code/constexpr-if\n",
    "* https://linuxfr.org/news/cpp17-branche-a-la-compilation-if-constexpr\n",
    "* https://solarianprogrammer.com/2017/12/27/cpp-17-constexpr-everything-as-much-as-the-compiler-can/\n"
   ]
  },
  {
   "cell_type": "markdown",
   "metadata": {
    "slideshow": {
     "slide_type": "skip"
    }
   },
   "source": [
    "© *CNRS 2020*  \n",
    "*Assembled and written by David Chamont, this work is made available according to the terms of the*  \n",
    "[*Creative Commons License - Attribution - NonCommercial - ShareAlike 4.0 International*](http://creativecommons.org/licenses/by-nc-sa/4.0/)"
   ]
  }
 ],
 "metadata": {
  "celltoolbar": "Diaporama",
  "kernelspec": {
   "display_name": "C++17",
   "language": "C++17",
   "name": "xcpp17"
  },
  "language_info": {
   "codemirror_mode": "text/x-c++src",
   "file_extension": ".cpp",
   "mimetype": "text/x-c++src",
   "name": "c++",
   "version": "17"
  }
 },
 "nbformat": 4,
 "nbformat_minor": 4
}
