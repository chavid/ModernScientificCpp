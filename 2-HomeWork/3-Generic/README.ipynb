{
 "cells": [
  {
   "cell_type": "markdown",
   "metadata": {},
   "source": [
    "# Modern C++ Syntax - Generic Features\n",
    "\n",
    "<!-- 1. [Revisions](O-GenericSyntax-Revisions.ipynb) -->\n",
    "1. [Syntactic Sugar](en.1-generic-sugar.ipynb)\n",
    "1. [Constant Expressions](en.2-constexpr.ipynb)\n",
    "1. [Perfect Forwarding](en.3-perfect-forwarding.ipynb)\n",
    "<!-- 1. [Variadic Templates](4-VariadicTemplates.ipynb) -->\n",
    "<!-- 1. [Traps & Pitfalls](9-GenericTraps.ipynb) -->"
   ]
  }
 ],
 "metadata": {
  "kernelspec": {
   "display_name": "C++17",
   "language": "C++17",
   "name": "xcpp17"
  },
  "language_info": {
   "codemirror_mode": "text/x-c++src",
   "file_extension": ".cpp",
   "mimetype": "text/x-c++src",
   "name": "c++",
   "version": "17"
  }
 },
 "nbformat": 4,
 "nbformat_minor": 4
}
