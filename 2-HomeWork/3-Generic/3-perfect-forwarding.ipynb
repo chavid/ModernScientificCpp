{
 "cells": [
  {
   "cell_type": "markdown",
   "metadata": {
    "slideshow": {
     "slide_type": "slide"
    }
   },
   "source": [
    "# Towards variadic perfect forwarding"
   ]
  },
  {
   "cell_type": "markdown",
   "metadata": {
    "slideshow": {
     "slide_type": "slide"
    }
   },
   "source": [
    "## Universal references"
   ]
  },
  {
   "cell_type": "markdown",
   "metadata": {
    "slideshow": {
     "slide_type": "subslide"
    }
   },
   "source": [
    "When a function template has a type parameter `T`, and an argument whose type is exactly `T &&`, the later is called a **universal reference**, because it is allowed to link either with a temporary value (right value), or with a non-temporary value (left value)."
   ]
  },
  {
   "cell_type": "markdown",
   "metadata": {
    "slideshow": {
     "slide_type": "subslide"
    }
   },
   "source": [
    "What for ?? This enables to write functions which can handle any mix of temporary values and/or non-temporary values (one might object that the same could be obtained with arguments by value, but this would imply an expensive systematic copy of all values). Let's see a fake simple function with only one argument:"
   ]
  },
  {
   "cell_type": "code",
   "execution_count": 2,
   "metadata": {
    "attributes": {
     "classes": [
      "cpp"
     ],
     "id": ""
    },
    "slideshow": {
     "slide_type": "fragment"
    }
   },
   "outputs": [],
   "source": [
    "#include<iostream>\n",
    "template<typename T>\n",
    "void foo( T && val )\n",
    " {\n",
    "  if constexpr (std::is_rvalue_reference_v<decltype(val)>)\n",
    "   { std::cout<<\"&& \"<<val<<std::endl ; }\n",
    "  else\n",
    "   { std::cout<<\" & \"<<val<<std::endl ; }\n",
    " }"
   ]
  },
  {
   "cell_type": "markdown",
   "metadata": {
    "slideshow": {
     "slide_type": "subslide"
    }
   },
   "source": [
    "If called with a temporary value (right value), then `T` is deduced of the same type as the value. On the contrary, if called with a non-temporary value, then `T` and the argument are considered as classic references:"
   ]
  },
  {
   "cell_type": "code",
   "execution_count": 3,
   "metadata": {
    "attributes": {
     "classes": [
      "cpp"
     ],
     "id": ""
    },
    "slideshow": {
     "slide_type": "fragment"
    }
   },
   "outputs": [
    {
     "name": "stdout",
     "output_type": "stream",
     "text": [
      "&& 42\n",
      " & 3.14159\n"
     ]
    }
   ],
   "source": [
    "float pi = 3.14159 ;\n",
    "foo(42) ;\n",
    "foo(pi) ;"
   ]
  },
  {
   "cell_type": "markdown",
   "metadata": {
    "slideshow": {
     "slide_type": "slide"
    }
   },
   "source": [
    "## std::forward"
   ]
  },
  {
   "cell_type": "markdown",
   "metadata": {
    "slideshow": {
     "slide_type": "subslide"
    }
   },
   "source": [
    "When a function receive a rvalue reference, and must transfer it to another function, we need to wrap it with `std::move` if we want to preserve it as a rvalue reference. In the case of a universal reference, this must be done only if the type is actually interpreted as a rvalue reference, and not if it is interpreted as a lvalue reference. That's the job of `std::forward`."
   ]
  },
  {
   "cell_type": "code",
   "execution_count": 5,
   "metadata": {
    "attributes": {
     "classes": [
      "cpp"
     ],
     "id": ""
    },
    "slideshow": {
     "slide_type": "fragment"
    }
   },
   "outputs": [],
   "source": [
    "#include <iostream>\n",
    "#include <utility>\n",
    "template<typename T>\n",
    "void do_stuff( T && t )\n",
    "{\n",
    "  std::cout<<\"Preparing... \" ;\n",
    "  foo(std::forward<T>(t)) ;\n",
    "}"
   ]
  },
  {
   "cell_type": "code",
   "execution_count": 6,
   "metadata": {
    "attributes": {
     "classes": [
      "cpp"
     ],
     "id": ""
    },
    "slideshow": {
     "slide_type": "fragment"
    }
   },
   "outputs": [
    {
     "name": "stdout",
     "output_type": "stream",
     "text": [
      "Preparing... && 42\n",
      "Preparing...  & 3.14159\n"
     ]
    }
   ],
   "source": [
    "float pi = 3.14159 ;\n",
    "do_stuff(42) ;\n",
    "do_stuff(pi) ;"
   ]
  },
  {
   "cell_type": "markdown",
   "metadata": {
    "slideshow": {
     "slide_type": "subslide"
    }
   },
   "source": [
    "We can qualify this as **perfect forwarding**, because the function `foo` receive an argument whose type is very exactly the same as the initial value given to `do_stuff`."
   ]
  },
  {
   "cell_type": "markdown",
   "metadata": {
    "slideshow": {
     "slide_type": "subslide"
    }
   },
   "source": [
    "BUT, what if we want some kind of `do_stuff` which can receive any number of arguments, and perfectly forwards them some other function ?"
   ]
  },
  {
   "cell_type": "markdown",
   "metadata": {
    "slideshow": {
     "slide_type": "slide"
    }
   },
   "source": [
    "## A taste of variadic templates"
   ]
  },
  {
   "cell_type": "markdown",
   "metadata": {
    "slideshow": {
     "slide_type": "subslide"
    }
   },
   "source": [
    "A **template parameter pack** is a template parameter that accepts zero or more template arguments. This can be a non-type pack, such as `int ... params`, or a type pack, such as `typename ... Types`. It can be preceded by ordinary non-pack parameters. Some examples:"
   ]
  },
  {
   "cell_type": "code",
   "execution_count": 7,
   "metadata": {
    "slideshow": {
     "slide_type": "fragment"
    }
   },
   "outputs": [],
   "source": [
    "template <typename ... Types>\n",
    "struct Tuple {} ;"
   ]
  },
  {
   "cell_type": "code",
   "execution_count": 8,
   "metadata": {
    "slideshow": {
     "slide_type": "fragment"
    }
   },
   "outputs": [],
   "source": [
    "Tuple<> t0;           // Types contains no arguments\n",
    "Tuple<int> t1;        // Types contains: int\n",
    "Tuple<int, float> t2; // Types contains: int and float\n",
    "//Tuple<0> error;     // error: 0 is not a type"
   ]
  },
  {
   "cell_type": "code",
   "execution_count": 9,
   "metadata": {
    "slideshow": {
     "slide_type": "fragment"
    }
   },
   "outputs": [],
   "source": [
    "template <typename Type, int ... params>\n",
    "struct Matrix {} ;"
   ]
  },
  {
   "cell_type": "code",
   "execution_count": 10,
   "metadata": {
    "slideshow": {
     "slide_type": "fragment"
    }
   },
   "outputs": [],
   "source": [
    "Matrix<double,3,4> m ; // Params contains: 3 and 4."
   ]
  },
  {
   "cell_type": "markdown",
   "metadata": {
    "slideshow": {
     "slide_type": "subslide"
    }
   },
   "source": [
    "For a variadic function template, on top of a type pack, there is also a **function parameter pack** within the function parameter list, such as `Types ... args`. It can be preceded by ordinary non-pack parameters. For example :"
   ]
  },
  {
   "cell_type": "code",
   "execution_count": 11,
   "metadata": {
    "slideshow": {
     "slide_type": "fragment"
    }
   },
   "outputs": [],
   "source": [
    "template <typename ... Types>           // Types is the template parameter pack \n",
    "void print(char sep, Types ... args) {} // args is the function parameter pack"
   ]
  },
  {
   "cell_type": "code",
   "execution_count": 12,
   "metadata": {
    "slideshow": {
     "slide_type": "fragment"
    }
   },
   "outputs": [],
   "source": [
    "print(' ');         // args contains no arguments\n",
    "print(' ', 2, 1.0); // args contains: 2 and 1.0"
   ]
  },
  {
   "cell_type": "markdown",
   "metadata": {
    "slideshow": {
     "slide_type": "subslide"
    }
   },
   "source": [
    "**Pack expansion** takes place in the body of variadic templates, wherever one use the syntax `<pattern> ...`, where `<pattern>` can be almost any expression which includes one or more parameter packs. For the time being, we will consider only the most simple patterns:\n",
    "* `Types ...` will expand to a comma-separated list of types.\n",
    "* `params ...` will expand to a comma-separated list of values.\n",
    "* `args ...` will expand to a comma-separated list of arguments."
   ]
  },
  {
   "cell_type": "markdown",
   "metadata": {
    "slideshow": {
     "slide_type": "subslide"
    }
   },
   "source": [
    "An example below, using a non-type pack:"
   ]
  },
  {
   "cell_type": "code",
   "execution_count": 13,
   "metadata": {
    "slideshow": {
     "slide_type": "fragment"
    }
   },
   "outputs": [],
   "source": [
    "#include <iostream>\n",
    "template <int ... params>\n",
    "void print_ints()\n",
    " {\n",
    "  for ( int i : { params ... } )\n",
    "    std::cout << i << ' ';\n",
    "  std::cout << std::endl;\n",
    " }"
   ]
  },
  {
   "cell_type": "code",
   "execution_count": 14,
   "metadata": {
    "slideshow": {
     "slide_type": "fragment"
    }
   },
   "outputs": [
    {
     "name": "stdout",
     "output_type": "stream",
     "text": [
      "1 2 3 4 5 \n"
     ]
    }
   ],
   "source": [
    "print_ints<1,2,3,4,5>();"
   ]
  },
  {
   "cell_type": "markdown",
   "metadata": {
    "slideshow": {
     "slide_type": "subslide"
    }
   },
   "source": [
    "The previous implementation takes profit that all values of the `Params` pack have the same type. Thus, they can be expanded inside an `std::initializer_list<int>`, which is then used in a range-based for."
   ]
  },
  {
   "cell_type": "markdown",
   "metadata": {
    "slideshow": {
     "slide_type": "slide"
    }
   },
   "source": [
    "## Advanced pack expansion"
   ]
  },
  {
   "cell_type": "markdown",
   "metadata": {
    "slideshow": {
     "slide_type": "subslide"
    }
   },
   "source": [
    "Instead of simply using a pack name followed by `...`, one can use a **pattern containing a pack name** (or several packs), and the whole pattern will be duplicated into a comma-separated list. The pattern can contain almost anything, including function calls."
   ]
  },
  {
   "cell_type": "code",
   "execution_count": 15,
   "metadata": {
    "slideshow": {
     "slide_type": "fragment"
    }
   },
   "outputs": [],
   "source": [
    "int square( int i )\n",
    " { return (i*i) ; }"
   ]
  },
  {
   "cell_type": "code",
   "execution_count": 16,
   "metadata": {
    "slideshow": {
     "slide_type": "fragment"
    }
   },
   "outputs": [],
   "source": [
    "#include <iostream>\n",
    "template <int ... params>\n",
    "void print_square_ints()\n",
    " {\n",
    "  for ( int i : { square(params) ... } )\n",
    "    std::cout << i << ' ';\n",
    "  std::cout << std::endl;\n",
    " }"
   ]
  },
  {
   "cell_type": "code",
   "execution_count": 17,
   "metadata": {
    "slideshow": {
     "slide_type": "fragment"
    }
   },
   "outputs": [
    {
     "name": "stdout",
     "output_type": "stream",
     "text": [
      "1 4 9 16 25 \n"
     ]
    }
   ],
   "source": [
    "print_square_ints<1,2,3,4,5>();"
   ]
  },
  {
   "cell_type": "markdown",
   "metadata": {
    "slideshow": {
     "slide_type": "slide"
    }
   },
   "source": [
    "## Exercise\n",
    "\n",
    "Try to complete the implementation below of `my_make_tuple`, which is expected to construct an instance of `std::tuple` from any collection of values (replace occurences of /\\*\\*\\*\\*\\*/):"
   ]
  },
  {
   "cell_type": "code",
   "execution_count": 20,
   "metadata": {
    "slideshow": {
     "slide_type": "fragment"
    }
   },
   "outputs": [
    {
     "name": "stdout",
     "output_type": "stream",
     "text": [
      "Overwriting tmp.perfect-forwarding.cpp\n"
     ]
    }
   ],
   "source": [
    "%%file tmp.perfect-forwarding.cpp\n",
    "\n",
    "#include <iostream>\n",
    "#include <tuple>\n",
    "\n",
    "template< typename ... Types >\n",
    "auto my_make_tuple( Types ... args )\n",
    " { return std::tuple /*****/ ( /*****/ ) ; }\n",
    "\n",
    "int main()\n",
    " {\n",
    "  auto data = my_make_tuple(3.1416,42) ;\n",
    "  std::cout << std::get<0>(data) << \" \" << std::get<1>(data) << std::endl ;\n",
    " }"
   ]
  },
  {
   "cell_type": "code",
   "execution_count": 21,
   "metadata": {
    "slideshow": {
     "slide_type": "fragment"
    }
   },
   "outputs": [
    {
     "name": "stdout",
     "output_type": "stream",
     "text": [
      "In file included from tmp.perfect-forwarding.cpp:3:\n",
      "/usr/local/include/c++/10.2.0/tuple: In instantiation of ‘struct std::tuple_element<0, std::tuple<> >’:\n",
      "/usr/local/include/c++/10.2.0/utility:118:11:   required by substitution of ‘template<long unsigned int __i, class _Tp> using __tuple_element_t = typename std::tuple_element::type [with long unsigned int __i = 0; _Tp = std::tuple<>]’\n",
      "/usr/local/include/c++/10.2.0/tuple:1315:5:   required by substitution of ‘template<long unsigned int __i, class ... _Elements> constexpr std::__tuple_element_t<__i, std::tuple<_UTypes ...> >&& std::get(const std::tuple<_UTypes ...>&&) [with long unsigned int __i = 0; _Elements = {}]’\n",
      "tmp.perfect-forwarding.cpp:12:32:   required from here\n",
      "/usr/local/include/c++/10.2.0/tuple:1277:25: error: static assertion failed: tuple index is in range\n",
      " 1277 |       static_assert(__i < tuple_size<tuple<>>::value,\n",
      "      |                     ~~~~^~~~~~~~~~~~~~~~~~~~~~~~~~~~\n",
      "tmp.perfect-forwarding.cpp: In function ‘int main()’:\n",
      "tmp.perfect-forwarding.cpp:12:32: error: no matching function for call to ‘get<0>(std::tuple<>&)’\n",
      "   12 |   std::cout << std::get<0>(data) << \" \" << std::get<1>(data) << std::endl ;\n",
      "      |                                ^\n",
      "In file included from /usr/local/include/c++/10.2.0/tuple:38,\n",
      "                 from tmp.perfect-forwarding.cpp:3:\n",
      "/usr/local/include/c++/10.2.0/utility:223:5: note: candidate: ‘template<long unsigned int _Int, class _Tp1, class _Tp2> constexpr typename std::tuple_element<_Int, std::pair<_Tp1, _Tp2> >::type& std::get(std::pair<_Tp1, _Tp2>&)’\n",
      "  223 |     get(std::pair<_Tp1, _Tp2>& __in) noexcept\n",
      "      |     ^~~\n",
      "/usr/local/include/c++/10.2.0/utility:223:5: note:   template argument deduction/substitution failed:\n",
      "tmp.perfect-forwarding.cpp:12:32: note:   ‘std::tuple<>’ is not derived from ‘std::pair<_Tp1, _Tp2>’\n",
      "   12 |   std::cout << std::get<0>(data) << \" \" << std::get<1>(data) << std::endl ;\n",
      "      |                                ^\n",
      "In file included from /usr/local/include/c++/10.2.0/tuple:38,\n",
      "                 from tmp.perfect-forwarding.cpp:3:\n",
      "/usr/local/include/c++/10.2.0/utility:228:5: note: candidate: ‘template<long unsigned int _Int, class _Tp1, class _Tp2> constexpr typename std::tuple_element<_Int, std::pair<_Tp1, _Tp2> >::type&& std::get(std::pair<_Tp1, _Tp2>&&)’\n",
      "  228 |     get(std::pair<_Tp1, _Tp2>&& __in) noexcept\n",
      "      |     ^~~\n",
      "/usr/local/include/c++/10.2.0/utility:228:5: note:   template argument deduction/substitution failed:\n",
      "tmp.perfect-forwarding.cpp:12:32: note:   ‘std::tuple<>’ is not derived from ‘std::pair<_Tp1, _Tp2>’\n",
      "   12 |   std::cout << std::get<0>(data) << \" \" << std::get<1>(data) << std::endl ;\n",
      "      |                                ^\n",
      "In file included from /usr/local/include/c++/10.2.0/tuple:38,\n",
      "                 from tmp.perfect-forwarding.cpp:3:\n",
      "/usr/local/include/c++/10.2.0/utility:233:5: note: candidate: ‘template<long unsigned int _Int, class _Tp1, class _Tp2> constexpr const typename std::tuple_element<_Int, std::pair<_Tp1, _Tp2> >::type& std::get(const std::pair<_Tp1, _Tp2>&)’\n",
      "  233 |     get(const std::pair<_Tp1, _Tp2>& __in) noexcept\n",
      "      |     ^~~\n",
      "/usr/local/include/c++/10.2.0/utility:233:5: note:   template argument deduction/substitution failed:\n",
      "tmp.perfect-forwarding.cpp:12:32: note:   ‘std::tuple<>’ is not derived from ‘const std::pair<_Tp1, _Tp2>’\n",
      "   12 |   std::cout << std::get<0>(data) << \" \" << std::get<1>(data) << std::endl ;\n",
      "      |                                ^\n",
      "In file included from /usr/local/include/c++/10.2.0/tuple:38,\n",
      "                 from tmp.perfect-forwarding.cpp:3:\n",
      "/usr/local/include/c++/10.2.0/utility:238:5: note: candidate: ‘template<long unsigned int _Int, class _Tp1, class _Tp2> constexpr const typename std::tuple_element<_Int, std::pair<_Tp1, _Tp2> >::type&& std::get(const std::pair<_Tp1, _Tp2>&&)’\n",
      "  238 |     get(const std::pair<_Tp1, _Tp2>&& __in) noexcept\n",
      "      |     ^~~\n",
      "/usr/local/include/c++/10.2.0/utility:238:5: note:   template argument deduction/substitution failed:\n",
      "tmp.perfect-forwarding.cpp:12:32: note:   ‘std::tuple<>’ is not derived from ‘const std::pair<_Tp1, _Tp2>’\n",
      "   12 |   std::cout << std::get<0>(data) << \" \" << std::get<1>(data) << std::endl ;\n",
      "      |                                ^\n",
      "In file included from /usr/local/include/c++/10.2.0/tuple:38,\n",
      "                 from tmp.perfect-forwarding.cpp:3:\n",
      "/usr/local/include/c++/10.2.0/utility:247:5: note: candidate: ‘template<class _Tp, class _Up> constexpr _Tp& std::get(std::pair<_T1, _T2>&)’\n",
      "  247 |     get(pair<_Tp, _Up>& __p) noexcept\n",
      "      |     ^~~\n",
      "/usr/local/include/c++/10.2.0/utility:247:5: note:   template argument deduction/substitution failed:\n",
      "/usr/local/include/c++/10.2.0/utility:252:5: note: candidate: ‘template<class _Tp, class _Up> constexpr const _Tp& std::get(const std::pair<_T1, _T2>&)’\n",
      "  252 |     get(const pair<_Tp, _Up>& __p) noexcept\n",
      "      |     ^~~\n",
      "/usr/local/include/c++/10.2.0/utility:252:5: note:   template argument deduction/substitution failed:\n",
      "/usr/local/include/c++/10.2.0/utility:257:5: note: candidate: ‘template<class _Tp, class _Up> constexpr _Tp&& std::get(std::pair<_T1, _T2>&&)’\n",
      "  257 |     get(pair<_Tp, _Up>&& __p) noexcept\n",
      "      |     ^~~\n",
      "/usr/local/include/c++/10.2.0/utility:257:5: note:   template argument deduction/substitution failed:\n",
      "/usr/local/include/c++/10.2.0/utility:262:5: note: candidate: ‘template<class _Tp, class _Up> constexpr const _Tp&& std::get(const std::pair<_T1, _T2>&&)’\n",
      "  262 |     get(const pair<_Tp, _Up>&& __p) noexcept\n",
      "      |     ^~~\n",
      "/usr/local/include/c++/10.2.0/utility:262:5: note:   template argument deduction/substitution failed:\n",
      "/usr/local/include/c++/10.2.0/utility:267:5: note: candidate: ‘template<class _Tp, class _Up> constexpr _Tp& std::get(std::pair<_Up, _Tp>&)’\n",
      "  267 |     get(pair<_Up, _Tp>& __p) noexcept\n",
      "      |     ^~~\n",
      "/usr/local/include/c++/10.2.0/utility:267:5: note:   template argument deduction/substitution failed:\n",
      "/usr/local/include/c++/10.2.0/utility:272:5: note: candidate: ‘template<class _Tp, class _Up> constexpr const _Tp& std::get(const std::pair<_Up, _Tp>&)’\n",
      "  272 |     get(const pair<_Up, _Tp>& __p) noexcept\n",
      "      |     ^~~\n",
      "/usr/local/include/c++/10.2.0/utility:272:5: note:   template argument deduction/substitution failed:\n",
      "/usr/local/include/c++/10.2.0/utility:277:5: note: candidate: ‘template<class _Tp, class _Up> constexpr _Tp&& std::get(std::pair<_Up, _Tp>&&)’\n",
      "  277 |     get(pair<_Up, _Tp>&& __p) noexcept\n",
      "      |     ^~~\n",
      "/usr/local/include/c++/10.2.0/utility:277:5: note:   template argument deduction/substitution failed:\n",
      "/usr/local/include/c++/10.2.0/utility:282:5: note: candidate: ‘template<class _Tp, class _Up> constexpr const _Tp&& std::get(const std::pair<_Up, _Tp>&&)’\n",
      "  282 |     get(const pair<_Up, _Tp>&& __p) noexcept\n",
      "      |     ^~~\n",
      "/usr/local/include/c++/10.2.0/utility:282:5: note:   template argument deduction/substitution failed:\n",
      "In file included from /usr/local/include/c++/10.2.0/tuple:39,\n",
      "                 from tmp.perfect-forwarding.cpp:3:\n",
      "/usr/local/include/c++/10.2.0/array:334:5: note: candidate: ‘template<long unsigned int _Int, class _Tp, long unsigned int _Nm> constexpr _Tp& std::get(std::array<_Tp, _Nm>&)’\n",
      "  334 |     get(array<_Tp, _Nm>& __arr) noexcept\n",
      "      |     ^~~\n",
      "/usr/local/include/c++/10.2.0/array:334:5: note:   template argument deduction/substitution failed:\n",
      "tmp.perfect-forwarding.cpp:12:32: note:   ‘std::tuple<>’ is not derived from ‘std::array<_Tp, _Nm>’\n",
      "   12 |   std::cout << std::get<0>(data) << \" \" << std::get<1>(data) << std::endl ;\n",
      "      |                                ^\n",
      "In file included from /usr/local/include/c++/10.2.0/tuple:39,\n",
      "                 from tmp.perfect-forwarding.cpp:3:\n",
      "/usr/local/include/c++/10.2.0/array:343:5: note: candidate: ‘template<long unsigned int _Int, class _Tp, long unsigned int _Nm> constexpr _Tp&& std::get(std::array<_Tp, _Nm>&&)’\n",
      "  343 |     get(array<_Tp, _Nm>&& __arr) noexcept\n",
      "      |     ^~~\n",
      "/usr/local/include/c++/10.2.0/array:343:5: note:   template argument deduction/substitution failed:\n",
      "tmp.perfect-forwarding.cpp:12:32: note:   ‘std::tuple<>’ is not derived from ‘std::array<_Tp, _Nm>’\n",
      "   12 |   std::cout << std::get<0>(data) << \" \" << std::get<1>(data) << std::endl ;\n",
      "      |                                ^\n",
      "In file included from /usr/local/include/c++/10.2.0/tuple:39,\n",
      "                 from tmp.perfect-forwarding.cpp:3:\n",
      "/usr/local/include/c++/10.2.0/array:351:5: note: candidate: ‘template<long unsigned int _Int, class _Tp, long unsigned int _Nm> constexpr const _Tp& std::get(const std::array<_Tp, _Nm>&)’\n",
      "  351 |     get(const array<_Tp, _Nm>& __arr) noexcept\n",
      "      |     ^~~\n",
      "/usr/local/include/c++/10.2.0/array:351:5: note:   template argument deduction/substitution failed:\n",
      "tmp.perfect-forwarding.cpp:12:32: note:   ‘std::tuple<>’ is not derived from ‘const std::array<_Tp, _Nm>’\n",
      "   12 |   std::cout << std::get<0>(data) << \" \" << std::get<1>(data) << std::endl ;\n",
      "      |                                ^\n",
      "In file included from /usr/local/include/c++/10.2.0/tuple:39,\n",
      "                 from tmp.perfect-forwarding.cpp:3:\n",
      "/usr/local/include/c++/10.2.0/array:360:5: note: candidate: ‘template<long unsigned int _Int, class _Tp, long unsigned int _Nm> constexpr const _Tp&& std::get(const std::array<_Tp, _Nm>&&)’\n",
      "  360 |     get(const array<_Tp, _Nm>&& __arr) noexcept\n",
      "      |     ^~~\n",
      "/usr/local/include/c++/10.2.0/array:360:5: note:   template argument deduction/substitution failed:\n",
      "tmp.perfect-forwarding.cpp:12:32: note:   ‘std::tuple<>’ is not derived from ‘const std::array<_Tp, _Nm>’\n",
      "   12 |   std::cout << std::get<0>(data) << \" \" << std::get<1>(data) << std::endl ;\n",
      "      |                                ^\n",
      "In file included from tmp.perfect-forwarding.cpp:3:\n",
      "/usr/local/include/c++/10.2.0/tuple:1294:5: note: candidate: ‘template<long unsigned int __i, class ... _Elements> constexpr std::__tuple_element_t<__i, std::tuple<_UTypes ...> >& std::get(std::tuple<_UTypes ...>&)’\n",
      " 1294 |     get(tuple<_Elements...>& __t) noexcept\n",
      "      |     ^~~\n",
      "/usr/local/include/c++/10.2.0/tuple:1294:5: note:   template argument deduction/substitution failed:\n",
      "In file included from /usr/local/include/c++/10.2.0/tuple:38,\n",
      "                 from tmp.perfect-forwarding.cpp:3:\n",
      "/usr/local/include/c++/10.2.0/utility: In substitution of ‘template<long unsigned int __i, class _Tp> using __tuple_element_t = typename std::tuple_element::type [with long unsigned int __i = 0; _Tp = std::tuple<>]’:\n",
      "/usr/local/include/c++/10.2.0/tuple:1294:5:   required by substitution of ‘template<long unsigned int __i, class ... _Elements> constexpr std::__tuple_element_t<__i, std::tuple<_UTypes ...> >& std::get(std::tuple<_UTypes ...>&) [with long unsigned int __i = 0; _Elements = {}]’\n",
      "tmp.perfect-forwarding.cpp:12:32:   required from here\n",
      "/usr/local/include/c++/10.2.0/utility:118:11: error: no type named ‘type’ in ‘struct std::tuple_element<0, std::tuple<> >’\n",
      "  118 |     using __tuple_element_t = typename tuple_element<__i, _Tp>::type;\n",
      "      |           ^~~~~~~~~~~~~~~~~\n",
      "In file included from tmp.perfect-forwarding.cpp:3:\n",
      "/usr/local/include/c++/10.2.0/tuple:1300:5: note: candidate: ‘template<long unsigned int __i, class ... _Elements> constexpr std::__tuple_element_t<__i, std::tuple<_UTypes ...> >& std::get(const std::tuple<_UTypes ...>&)’\n",
      " 1300 |     get(const tuple<_Elements...>& __t) noexcept\n",
      "      |     ^~~\n",
      "/usr/local/include/c++/10.2.0/tuple:1300:5: note:   template argument deduction/substitution failed:\n",
      "/usr/local/include/c++/10.2.0/tuple:1306:5: note: candidate: ‘template<long unsigned int __i, class ... _Elements> constexpr std::__tuple_element_t<__i, std::tuple<_UTypes ...> >&& std::get(std::tuple<_UTypes ...>&&)’\n",
      " 1306 |     get(tuple<_Elements...>&& __t) noexcept\n",
      "      |     ^~~\n",
      "/usr/local/include/c++/10.2.0/tuple:1306:5: note:   template argument deduction/substitution failed:\n",
      "/usr/local/include/c++/10.2.0/tuple:1315:5: note: candidate: ‘template<long unsigned int __i, class ... _Elements> constexpr std::__tuple_element_t<__i, std::tuple<_UTypes ...> >&& std::get(const std::tuple<_UTypes ...>&&)’\n",
      " 1315 |     get(const tuple<_Elements...>&& __t) noexcept\n",
      "      |     ^~~\n",
      "/usr/local/include/c++/10.2.0/tuple:1315:5: note:   substitution of deduced template arguments resulted in errors seen above\n",
      "/usr/local/include/c++/10.2.0/tuple:1338:5: note: candidate: ‘template<class _Tp, class ... _Types> constexpr _Tp& std::get(std::tuple<_UTypes ...>&)’\n",
      " 1338 |     get(tuple<_Types...>& __t) noexcept\n",
      "      |     ^~~\n",
      "/usr/local/include/c++/10.2.0/tuple:1338:5: note:   template argument deduction/substitution failed:\n",
      "/usr/local/include/c++/10.2.0/tuple:1344:5: note: candidate: ‘template<class _Tp, class ... _Types> constexpr _Tp&& std::get(std::tuple<_UTypes ...>&&)’\n",
      " 1344 |     get(tuple<_Types...>&& __t) noexcept\n",
      "      |     ^~~\n",
      "/usr/local/include/c++/10.2.0/tuple:1344:5: note:   template argument deduction/substitution failed:\n",
      "/usr/local/include/c++/10.2.0/tuple:1350:5: note: candidate: ‘template<class _Tp, class ... _Types> constexpr const _Tp& std::get(const std::tuple<_UTypes ...>&)’\n",
      " 1350 |     get(const tuple<_Types...>& __t) noexcept\n",
      "      |     ^~~\n",
      "/usr/local/include/c++/10.2.0/tuple:1350:5: note:   template argument deduction/substitution failed:\n",
      "/usr/local/include/c++/10.2.0/tuple:1357:5: note: candidate: ‘template<class _Tp, class ... _Types> constexpr const _Tp&& std::get(const std::tuple<_UTypes ...>&&)’\n",
      " 1357 |     get(const tuple<_Types...>&& __t) noexcept\n",
      "      |     ^~~\n",
      "/usr/local/include/c++/10.2.0/tuple:1357:5: note:   template argument deduction/substitution failed:\n",
      "/usr/local/include/c++/10.2.0/tuple: In instantiation of ‘struct std::tuple_element<1, std::tuple<> >’:\n",
      "/usr/local/include/c++/10.2.0/utility:118:11:   required by substitution of ‘template<long unsigned int __i, class _Tp> using __tuple_element_t = typename std::tuple_element::type [with long unsigned int __i = 1; _Tp = std::tuple<>]’\n",
      "/usr/local/include/c++/10.2.0/tuple:1315:5:   required by substitution of ‘template<long unsigned int __i, class ... _Elements> constexpr std::__tuple_element_t<__i, std::tuple<_UTypes ...> >&& std::get(const std::tuple<_UTypes ...>&&) [with long unsigned int __i = 1; _Elements = {}]’\n",
      "tmp.perfect-forwarding.cpp:12:60:   required from here\n",
      "/usr/local/include/c++/10.2.0/tuple:1277:25: error: static assertion failed: tuple index is in range\n",
      " 1277 |       static_assert(__i < tuple_size<tuple<>>::value,\n",
      "      |                     ~~~~^~~~~~~~~~~~~~~~~~~~~~~~~~~~\n",
      "tmp.perfect-forwarding.cpp:12:60: error: no matching function for call to ‘get<1>(std::tuple<>&)’\n",
      "   12 |   std::cout << std::get<0>(data) << \" \" << std::get<1>(data) << std::endl ;\n",
      "      |                                                            ^\n",
      "In file included from /usr/local/include/c++/10.2.0/tuple:38,\n",
      "                 from tmp.perfect-forwarding.cpp:3:\n",
      "/usr/local/include/c++/10.2.0/utility:223:5: note: candidate: ‘template<long unsigned int _Int, class _Tp1, class _Tp2> constexpr typename std::tuple_element<_Int, std::pair<_Tp1, _Tp2> >::type& std::get(std::pair<_Tp1, _Tp2>&)’\n",
      "  223 |     get(std::pair<_Tp1, _Tp2>& __in) noexcept\n",
      "      |     ^~~\n",
      "/usr/local/include/c++/10.2.0/utility:223:5: note:   template argument deduction/substitution failed:\n",
      "tmp.perfect-forwarding.cpp:12:60: note:   ‘std::tuple<>’ is not derived from ‘std::pair<_Tp1, _Tp2>’\n",
      "   12 |   std::cout << std::get<0>(data) << \" \" << std::get<1>(data) << std::endl ;\n",
      "      |                                                            ^\n",
      "In file included from /usr/local/include/c++/10.2.0/tuple:38,\n",
      "                 from tmp.perfect-forwarding.cpp:3:\n",
      "/usr/local/include/c++/10.2.0/utility:228:5: note: candidate: ‘template<long unsigned int _Int, class _Tp1, class _Tp2> constexpr typename std::tuple_element<_Int, std::pair<_Tp1, _Tp2> >::type&& std::get(std::pair<_Tp1, _Tp2>&&)’\n",
      "  228 |     get(std::pair<_Tp1, _Tp2>&& __in) noexcept\n",
      "      |     ^~~\n",
      "/usr/local/include/c++/10.2.0/utility:228:5: note:   template argument deduction/substitution failed:\n",
      "tmp.perfect-forwarding.cpp:12:60: note:   ‘std::tuple<>’ is not derived from ‘std::pair<_Tp1, _Tp2>’\n",
      "   12 |   std::cout << std::get<0>(data) << \" \" << std::get<1>(data) << std::endl ;\n",
      "      |                                                            ^\n",
      "In file included from /usr/local/include/c++/10.2.0/tuple:38,\n",
      "                 from tmp.perfect-forwarding.cpp:3:\n",
      "/usr/local/include/c++/10.2.0/utility:233:5: note: candidate: ‘template<long unsigned int _Int, class _Tp1, class _Tp2> constexpr const typename std::tuple_element<_Int, std::pair<_Tp1, _Tp2> >::type& std::get(const std::pair<_Tp1, _Tp2>&)’\n",
      "  233 |     get(const std::pair<_Tp1, _Tp2>& __in) noexcept\n",
      "      |     ^~~\n",
      "/usr/local/include/c++/10.2.0/utility:233:5: note:   template argument deduction/substitution failed:\n",
      "tmp.perfect-forwarding.cpp:12:60: note:   ‘std::tuple<>’ is not derived from ‘const std::pair<_Tp1, _Tp2>’\n",
      "   12 |   std::cout << std::get<0>(data) << \" \" << std::get<1>(data) << std::endl ;\n",
      "      |                                                            ^\n",
      "In file included from /usr/local/include/c++/10.2.0/tuple:38,\n",
      "                 from tmp.perfect-forwarding.cpp:3:\n",
      "/usr/local/include/c++/10.2.0/utility:238:5: note: candidate: ‘template<long unsigned int _Int, class _Tp1, class _Tp2> constexpr const typename std::tuple_element<_Int, std::pair<_Tp1, _Tp2> >::type&& std::get(const std::pair<_Tp1, _Tp2>&&)’\n",
      "  238 |     get(const std::pair<_Tp1, _Tp2>&& __in) noexcept\n",
      "      |     ^~~\n",
      "/usr/local/include/c++/10.2.0/utility:238:5: note:   template argument deduction/substitution failed:\n",
      "tmp.perfect-forwarding.cpp:12:60: note:   ‘std::tuple<>’ is not derived from ‘const std::pair<_Tp1, _Tp2>’\n",
      "   12 |   std::cout << std::get<0>(data) << \" \" << std::get<1>(data) << std::endl ;\n",
      "      |                                                            ^\n",
      "In file included from /usr/local/include/c++/10.2.0/tuple:38,\n",
      "                 from tmp.perfect-forwarding.cpp:3:\n",
      "/usr/local/include/c++/10.2.0/utility:247:5: note: candidate: ‘template<class _Tp, class _Up> constexpr _Tp& std::get(std::pair<_T1, _T2>&)’\n",
      "  247 |     get(pair<_Tp, _Up>& __p) noexcept\n",
      "      |     ^~~\n",
      "/usr/local/include/c++/10.2.0/utility:247:5: note:   template argument deduction/substitution failed:\n",
      "/usr/local/include/c++/10.2.0/utility:252:5: note: candidate: ‘template<class _Tp, class _Up> constexpr const _Tp& std::get(const std::pair<_T1, _T2>&)’\n",
      "  252 |     get(const pair<_Tp, _Up>& __p) noexcept\n",
      "      |     ^~~\n",
      "/usr/local/include/c++/10.2.0/utility:252:5: note:   template argument deduction/substitution failed:\n",
      "/usr/local/include/c++/10.2.0/utility:257:5: note: candidate: ‘template<class _Tp, class _Up> constexpr _Tp&& std::get(std::pair<_T1, _T2>&&)’\n",
      "  257 |     get(pair<_Tp, _Up>&& __p) noexcept\n",
      "      |     ^~~\n",
      "/usr/local/include/c++/10.2.0/utility:257:5: note:   template argument deduction/substitution failed:\n",
      "/usr/local/include/c++/10.2.0/utility:262:5: note: candidate: ‘template<class _Tp, class _Up> constexpr const _Tp&& std::get(const std::pair<_T1, _T2>&&)’\n",
      "  262 |     get(const pair<_Tp, _Up>&& __p) noexcept\n",
      "      |     ^~~\n",
      "/usr/local/include/c++/10.2.0/utility:262:5: note:   template argument deduction/substitution failed:\n",
      "/usr/local/include/c++/10.2.0/utility:267:5: note: candidate: ‘template<class _Tp, class _Up> constexpr _Tp& std::get(std::pair<_Up, _Tp>&)’\n",
      "  267 |     get(pair<_Up, _Tp>& __p) noexcept\n",
      "      |     ^~~\n",
      "/usr/local/include/c++/10.2.0/utility:267:5: note:   template argument deduction/substitution failed:\n",
      "/usr/local/include/c++/10.2.0/utility:272:5: note: candidate: ‘template<class _Tp, class _Up> constexpr const _Tp& std::get(const std::pair<_Up, _Tp>&)’\n",
      "  272 |     get(const pair<_Up, _Tp>& __p) noexcept\n",
      "      |     ^~~\n",
      "/usr/local/include/c++/10.2.0/utility:272:5: note:   template argument deduction/substitution failed:\n",
      "/usr/local/include/c++/10.2.0/utility:277:5: note: candidate: ‘template<class _Tp, class _Up> constexpr _Tp&& std::get(std::pair<_Up, _Tp>&&)’\n",
      "  277 |     get(pair<_Up, _Tp>&& __p) noexcept\n",
      "      |     ^~~\n",
      "/usr/local/include/c++/10.2.0/utility:277:5: note:   template argument deduction/substitution failed:\n",
      "/usr/local/include/c++/10.2.0/utility:282:5: note: candidate: ‘template<class _Tp, class _Up> constexpr const _Tp&& std::get(const std::pair<_Up, _Tp>&&)’\n",
      "  282 |     get(const pair<_Up, _Tp>&& __p) noexcept\n",
      "      |     ^~~\n",
      "/usr/local/include/c++/10.2.0/utility:282:5: note:   template argument deduction/substitution failed:\n",
      "In file included from /usr/local/include/c++/10.2.0/tuple:39,\n",
      "                 from tmp.perfect-forwarding.cpp:3:\n",
      "/usr/local/include/c++/10.2.0/array:334:5: note: candidate: ‘template<long unsigned int _Int, class _Tp, long unsigned int _Nm> constexpr _Tp& std::get(std::array<_Tp, _Nm>&)’\n",
      "  334 |     get(array<_Tp, _Nm>& __arr) noexcept\n",
      "      |     ^~~\n",
      "/usr/local/include/c++/10.2.0/array:334:5: note:   template argument deduction/substitution failed:\n",
      "tmp.perfect-forwarding.cpp:12:60: note:   ‘std::tuple<>’ is not derived from ‘std::array<_Tp, _Nm>’\n",
      "   12 |   std::cout << std::get<0>(data) << \" \" << std::get<1>(data) << std::endl ;\n",
      "      |                                                            ^\n",
      "In file included from /usr/local/include/c++/10.2.0/tuple:39,\n",
      "                 from tmp.perfect-forwarding.cpp:3:\n",
      "/usr/local/include/c++/10.2.0/array:343:5: note: candidate: ‘template<long unsigned int _Int, class _Tp, long unsigned int _Nm> constexpr _Tp&& std::get(std::array<_Tp, _Nm>&&)’\n",
      "  343 |     get(array<_Tp, _Nm>&& __arr) noexcept\n",
      "      |     ^~~\n",
      "/usr/local/include/c++/10.2.0/array:343:5: note:   template argument deduction/substitution failed:\n",
      "tmp.perfect-forwarding.cpp:12:60: note:   ‘std::tuple<>’ is not derived from ‘std::array<_Tp, _Nm>’\n",
      "   12 |   std::cout << std::get<0>(data) << \" \" << std::get<1>(data) << std::endl ;\n",
      "      |                                                            ^\n",
      "In file included from /usr/local/include/c++/10.2.0/tuple:39,\n",
      "                 from tmp.perfect-forwarding.cpp:3:\n",
      "/usr/local/include/c++/10.2.0/array:351:5: note: candidate: ‘template<long unsigned int _Int, class _Tp, long unsigned int _Nm> constexpr const _Tp& std::get(const std::array<_Tp, _Nm>&)’\n",
      "  351 |     get(const array<_Tp, _Nm>& __arr) noexcept\n",
      "      |     ^~~\n",
      "/usr/local/include/c++/10.2.0/array:351:5: note:   template argument deduction/substitution failed:\n",
      "tmp.perfect-forwarding.cpp:12:60: note:   ‘std::tuple<>’ is not derived from ‘const std::array<_Tp, _Nm>’\n",
      "   12 |   std::cout << std::get<0>(data) << \" \" << std::get<1>(data) << std::endl ;\n",
      "      |                                                            ^\n",
      "In file included from /usr/local/include/c++/10.2.0/tuple:39,\n",
      "                 from tmp.perfect-forwarding.cpp:3:\n",
      "/usr/local/include/c++/10.2.0/array:360:5: note: candidate: ‘template<long unsigned int _Int, class _Tp, long unsigned int _Nm> constexpr const _Tp&& std::get(const std::array<_Tp, _Nm>&&)’\n",
      "  360 |     get(const array<_Tp, _Nm>&& __arr) noexcept\n",
      "      |     ^~~\n",
      "/usr/local/include/c++/10.2.0/array:360:5: note:   template argument deduction/substitution failed:\n",
      "tmp.perfect-forwarding.cpp:12:60: note:   ‘std::tuple<>’ is not derived from ‘const std::array<_Tp, _Nm>’\n",
      "   12 |   std::cout << std::get<0>(data) << \" \" << std::get<1>(data) << std::endl ;\n",
      "      |                                                            ^\n",
      "In file included from tmp.perfect-forwarding.cpp:3:\n",
      "/usr/local/include/c++/10.2.0/tuple:1294:5: note: candidate: ‘template<long unsigned int __i, class ... _Elements> constexpr std::__tuple_element_t<__i, std::tuple<_UTypes ...> >& std::get(std::tuple<_UTypes ...>&)’\n",
      " 1294 |     get(tuple<_Elements...>& __t) noexcept\n",
      "      |     ^~~\n",
      "/usr/local/include/c++/10.2.0/tuple:1294:5: note:   template argument deduction/substitution failed:\n",
      "In file included from /usr/local/include/c++/10.2.0/tuple:38,\n",
      "                 from tmp.perfect-forwarding.cpp:3:\n",
      "/usr/local/include/c++/10.2.0/utility: In substitution of ‘template<long unsigned int __i, class _Tp> using __tuple_element_t = typename std::tuple_element::type [with long unsigned int __i = 1; _Tp = std::tuple<>]’:\n",
      "/usr/local/include/c++/10.2.0/tuple:1294:5:   required by substitution of ‘template<long unsigned int __i, class ... _Elements> constexpr std::__tuple_element_t<__i, std::tuple<_UTypes ...> >& std::get(std::tuple<_UTypes ...>&) [with long unsigned int __i = 1; _Elements = {}]’\n",
      "tmp.perfect-forwarding.cpp:12:60:   required from here\n",
      "/usr/local/include/c++/10.2.0/utility:118:11: error: no type named ‘type’ in ‘struct std::tuple_element<1, std::tuple<> >’\n",
      "  118 |     using __tuple_element_t = typename tuple_element<__i, _Tp>::type;\n",
      "      |           ^~~~~~~~~~~~~~~~~\n",
      "In file included from tmp.perfect-forwarding.cpp:3:\n",
      "/usr/local/include/c++/10.2.0/tuple:1300:5: note: candidate: ‘template<long unsigned int __i, class ... _Elements> constexpr std::__tuple_element_t<__i, std::tuple<_UTypes ...> >& std::get(const std::tuple<_UTypes ...>&)’\n",
      " 1300 |     get(const tuple<_Elements...>& __t) noexcept\n",
      "      |     ^~~\n",
      "/usr/local/include/c++/10.2.0/tuple:1300:5: note:   template argument deduction/substitution failed:\n",
      "/usr/local/include/c++/10.2.0/tuple:1306:5: note: candidate: ‘template<long unsigned int __i, class ... _Elements> constexpr std::__tuple_element_t<__i, std::tuple<_UTypes ...> >&& std::get(std::tuple<_UTypes ...>&&)’\n",
      " 1306 |     get(tuple<_Elements...>&& __t) noexcept\n",
      "      |     ^~~\n",
      "/usr/local/include/c++/10.2.0/tuple:1306:5: note:   template argument deduction/substitution failed:\n",
      "/usr/local/include/c++/10.2.0/tuple:1315:5: note: candidate: ‘template<long unsigned int __i, class ... _Elements> constexpr std::__tuple_element_t<__i, std::tuple<_UTypes ...> >&& std::get(const std::tuple<_UTypes ...>&&)’\n",
      " 1315 |     get(const tuple<_Elements...>&& __t) noexcept\n",
      "      |     ^~~\n",
      "/usr/local/include/c++/10.2.0/tuple:1315:5: note:   substitution of deduced template arguments resulted in errors seen above\n",
      "/usr/local/include/c++/10.2.0/tuple:1338:5: note: candidate: ‘template<class _Tp, class ... _Types> constexpr _Tp& std::get(std::tuple<_UTypes ...>&)’\n",
      " 1338 |     get(tuple<_Types...>& __t) noexcept\n",
      "      |     ^~~\n",
      "/usr/local/include/c++/10.2.0/tuple:1338:5: note:   template argument deduction/substitution failed:\n",
      "/usr/local/include/c++/10.2.0/tuple:1344:5: note: candidate: ‘template<class _Tp, class ... _Types> constexpr _Tp&& std::get(std::tuple<_UTypes ...>&&)’\n",
      " 1344 |     get(tuple<_Types...>&& __t) noexcept\n",
      "      |     ^~~\n",
      "/usr/local/include/c++/10.2.0/tuple:1344:5: note:   template argument deduction/substitution failed:\n",
      "/usr/local/include/c++/10.2.0/tuple:1350:5: note: candidate: ‘template<class _Tp, class ... _Types> constexpr const _Tp& std::get(const std::tuple<_UTypes ...>&)’\n",
      " 1350 |     get(const tuple<_Types...>& __t) noexcept\n",
      "      |     ^~~\n",
      "/usr/local/include/c++/10.2.0/tuple:1350:5: note:   template argument deduction/substitution failed:\n",
      "/usr/local/include/c++/10.2.0/tuple:1357:5: note: candidate: ‘template<class _Tp, class ... _Types> constexpr const _Tp&& std::get(const std::tuple<_UTypes ...>&&)’\n",
      " 1357 |     get(const tuple<_Types...>&& __t) noexcept\n",
      "      |     ^~~\n",
      "/usr/local/include/c++/10.2.0/tuple:1357:5: note:   template argument deduction/substitution failed:\n"
     ]
    }
   ],
   "source": [
    "!rm -f tmp.perfect-forwarding.exe && g++ -std=c++17 tmp.perfect-forwarding.cpp -o tmp.perfect-forwarding.exe"
   ]
  },
  {
   "cell_type": "code",
   "execution_count": null,
   "metadata": {
    "slideshow": {
     "slide_type": "fragment"
    }
   },
   "outputs": [],
   "source": [
    "!./tmp.perfect-forwarding.exe"
   ]
  },
  {
   "cell_type": "markdown",
   "metadata": {
    "slideshow": {
     "slide_type": "skip"
    }
   },
   "source": [
    "© *CNRS 2020*  \n",
    "*Assembled and written by David Chamont, this work is made available according to the terms of the*  \n",
    "[*Creative Commons License - Attribution - NonCommercial - ShareAlike 4.0 International*](http://creativecommons.org/licenses/by-nc-sa/4.0/)"
   ]
  }
 ],
 "metadata": {
  "celltoolbar": "Diaporama",
  "kernelspec": {
   "display_name": "C++17",
   "language": "C++17",
   "name": "xcpp17"
  },
  "language_info": {
   "codemirror_mode": "text/x-c++src",
   "file_extension": ".cpp",
   "mimetype": "text/x-c++src",
   "name": "c++",
   "version": "17"
  }
 },
 "nbformat": 4,
 "nbformat_minor": 4
}
