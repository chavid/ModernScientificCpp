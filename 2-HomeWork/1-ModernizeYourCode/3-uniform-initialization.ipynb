{
 "cells": [
  {
   "cell_type": "markdown",
   "metadata": {
    "slideshow": {
     "slide_type": "slide"
    }
   },
   "source": [
    "# A final \"uniform\" initialisation syntax ?"
   ]
  },
  {
   "cell_type": "markdown",
   "metadata": {
    "slideshow": {
     "slide_type": "slide"
    }
   },
   "source": [
    "## Prehistory"
   ]
  },
  {
   "cell_type": "markdown",
   "metadata": {
    "slideshow": {
     "slide_type": "subslide"
    }
   },
   "source": [
    "A long long time ago, built-in types were initialized with an equal sign (\"copy initilization\"), objects with parenthesis (\"direct initialization\")."
   ]
  },
  {
   "cell_type": "code",
   "execution_count": null,
   "metadata": {
    "attributes": {
     "classes": [
      "cpp"
     ],
     "id": ""
    },
    "slideshow": {
     "slide_type": "fragment"
    }
   },
   "outputs": [],
   "source": [
    "class MyInt\n",
    " {\n",
    "  public : \n",
    "    MyInt( int i = 0 ) { m_value = i ; }\n",
    "  private :\n",
    "    int m_value ;\n",
    " } ;"
   ]
  },
  {
   "cell_type": "code",
   "execution_count": null,
   "metadata": {
    "attributes": {
     "classes": [
      "cpp"
     ],
     "id": ""
    },
    "slideshow": {
     "slide_type": "fragment"
    }
   },
   "outputs": [],
   "source": [
    "int i1 = 42   ; // copy initialization\n",
    "MyInt i3(42)  ; // direct initialization"
   ]
  },
  {
   "cell_type": "markdown",
   "metadata": {
    "slideshow": {
     "slide_type": "slide"
    }
   },
   "source": [
    "## C++98 generalize the use of parenthesis"
   ]
  },
  {
   "cell_type": "markdown",
   "metadata": {
    "slideshow": {
     "slide_type": "subslide"
    }
   },
   "source": [
    "Initialisation with parenthesis comes from classes. C++98 made it usable for builtin types."
   ]
  },
  {
   "cell_type": "code",
   "execution_count": null,
   "metadata": {
    "attributes": {
     "classes": [
      "cpp"
     ],
     "id": ""
    },
    "slideshow": {
     "slide_type": "fragment"
    }
   },
   "outputs": [],
   "source": [
    "int i1(42)    ; // direct initialization\n",
    "MyInt i2(42)  ; // direct initialization"
   ]
  },
  {
   "cell_type": "markdown",
   "metadata": {
    "slideshow": {
     "slide_type": "subslide"
    }
   },
   "source": [
    "**BUT** this was not solving some syntax analysis problems, such as the \"most vexing parse\"."
   ]
  },
  {
   "cell_type": "code",
   "execution_count": null,
   "metadata": {
    "attributes": {
     "classes": [
      "cpp"
     ],
     "id": ""
    },
    "slideshow": {
     "slide_type": "fragment"
    }
   },
   "outputs": [],
   "source": [
    "MyInt mi()  ;"
   ]
  },
  {
   "cell_type": "markdown",
   "metadata": {
    "slideshow": {
     "slide_type": "slide"
    }
   },
   "source": [
    "## C++11 generalize the use of curly braces"
   ]
  },
  {
   "cell_type": "markdown",
   "metadata": {
    "slideshow": {
     "slide_type": "subslide"
    }
   },
   "source": [
    "#### It was already possible for aggregates and arrays"
   ]
  },
  {
   "cell_type": "code",
   "execution_count": null,
   "metadata": {
    "attributes": {
     "classes": [
      "cpp"
     ],
     "id": ""
    },
    "slideshow": {
     "slide_type": "fragment"
    }
   },
   "outputs": [],
   "source": [
    "struct MyPoint\n",
    " { double x, y ; } ;"
   ]
  },
  {
   "cell_type": "code",
   "execution_count": null,
   "metadata": {
    "attributes": {
     "classes": [
      "cpp"
     ],
     "id": ""
    },
    "slideshow": {
     "slide_type": "fragment"
    }
   },
   "outputs": [],
   "source": [
    "MyPoint p = { 4.1, 5.3 } ;\n",
    "int t[] = { 3, 5, 9 } ;"
   ]
  },
  {
   "cell_type": "markdown",
   "metadata": {
    "slideshow": {
     "slide_type": "subslide"
    }
   },
   "source": [
    "#### C++11 allows it for any type, with or without `=`"
   ]
  },
  {
   "cell_type": "code",
   "execution_count": null,
   "metadata": {
    "slideshow": {
     "slide_type": "fragment"
    }
   },
   "outputs": [],
   "source": [
    "int i1 = { 42 }   ; // copy brace initialisation\n",
    "int i2 { 42 }     ; // direct brace initialisation\n",
    "MyInt i3 = { 42 } ; // copy brace initialisation\n",
    "MyInt i4 { 42 }   ; // direct brace initialisation"
   ]
  },
  {
   "cell_type": "markdown",
   "metadata": {
    "slideshow": {
     "slide_type": "subslide"
    }
   },
   "source": [
    "#### Benefit: the use of empty braces initialize to 0"
   ]
  },
  {
   "cell_type": "code",
   "execution_count": null,
   "metadata": {
    "attributes": {
     "classes": [
      "cpp"
     ],
     "id": ""
    },
    "slideshow": {
     "slide_type": "fragment"
    }
   },
   "outputs": [],
   "source": [
    "int n {} ; // same as: int n(0) ;"
   ]
  },
  {
   "cell_type": "markdown",
   "metadata": {
    "slideshow": {
     "slide_type": "subslide"
    }
   },
   "source": [
    "#### Benefit: the use of braces forbid type narrowing"
   ]
  },
  {
   "cell_type": "code",
   "execution_count": null,
   "metadata": {
    "attributes": {
     "classes": [
      "cpp"
     ],
     "id": ""
    },
    "slideshow": {
     "slide_type": "fragment"
    }
   },
   "outputs": [],
   "source": [
    "int i1 = 3.14   ; // Tolerated\n",
    "int i2 { 3.14 } ; // Forbidden\n",
    "short s1 = 100000   ; // Tolerated\n",
    "short s2 { 100000 } ; // Forbidden"
   ]
  },
  {
   "cell_type": "markdown",
   "metadata": {
    "slideshow": {
     "slide_type": "slide"
    }
   },
   "source": [
    "## The new collection `std::initializer_list<T>` "
   ]
  },
  {
   "cell_type": "markdown",
   "metadata": {
    "slideshow": {
     "slide_type": "subslide"
    }
   },
   "source": [
    "#### The deduced type when combining `auto` and copy brace initialization"
   ]
  },
  {
   "cell_type": "code",
   "execution_count": null,
   "metadata": {
    "slideshow": {
     "slide_type": "fragment"
    }
   },
   "outputs": [],
   "source": [
    "#include <iostream>"
   ]
  },
  {
   "cell_type": "code",
   "execution_count": null,
   "metadata": {
    "slideshow": {
     "slide_type": "fragment"
    }
   },
   "outputs": [],
   "source": [
    "auto params = { 1, 2, 3, 4, 5 } ;\n",
    "for ( int param : params )\n",
    " { std::cout << param << \" \" ; }\n",
    "std::cout << std::endl ;"
   ]
  },
  {
   "cell_type": "markdown",
   "metadata": {
    "slideshow": {
     "slide_type": "notes"
    }
   },
   "source": [
    "For the unambiguous deduction of `T`, all the elements between the braces must be of the same type."
   ]
  },
  {
   "cell_type": "markdown",
   "metadata": {
    "slideshow": {
     "slide_type": "subslide"
    }
   },
   "source": [
    "#### A class can have a constructor from a `std::initializer_list<T>`"
   ]
  },
  {
   "cell_type": "code",
   "execution_count": null,
   "metadata": {
    "attributes": {
     "classes": [
      "cpp"
     ],
     "id": ""
    },
    "slideshow": {
     "slide_type": "fragment"
    }
   },
   "outputs": [],
   "source": [
    "#include <iostream>\n",
    "#include <vector>"
   ]
  },
  {
   "cell_type": "code",
   "execution_count": null,
   "metadata": {
    "attributes": {
     "classes": [
      "cpp"
     ],
     "id": ""
    },
    "slideshow": {
     "slide_type": "fragment"
    }
   },
   "outputs": [],
   "source": [
    "template <typename T>\n",
    "class MyCollection\n",
    " {\n",
    "  public:\n",
    "    MyCollection( std::initializer_list<T> const & elements )\n",
    "     {\n",
    "      for ( auto element : elements )\n",
    "       {  m_elements.push_back(element) ; }\n",
    "     }\n",
    "    void display()\n",
    "     {\n",
    "      for ( auto element : m_elements )\n",
    "       { std::cout<<element<<\" \" ; }\n",
    "      std::cout<<std::endl ;\n",
    "     }\n",
    "  private :\n",
    "    std::vector<T> m_elements ;\n",
    " } ;"
   ]
  },
  {
   "cell_type": "code",
   "execution_count": null,
   "metadata": {
    "attributes": {
     "classes": [
      "cpp"
     ],
     "id": ""
    },
    "slideshow": {
     "slide_type": "fragment"
    }
   },
   "outputs": [],
   "source": [
    "MyCollection col { 1, 2, 3, 4, 5 } ;\n",
    "col.display() ;"
   ]
  },
  {
   "cell_type": "markdown",
   "metadata": {
    "slideshow": {
     "slide_type": "notes"
    }
   },
   "source": [
    "In case of brace initialization, this constructor has priority over any other."
   ]
  },
  {
   "cell_type": "markdown",
   "metadata": {
    "slideshow": {
     "slide_type": "subslide"
    }
   },
   "source": [
    "#### All standard collections now have a constructor from a `std::initializer_list<T>`"
   ]
  },
  {
   "cell_type": "code",
   "execution_count": null,
   "metadata": {
    "attributes": {
     "classes": [
      "cpp"
     ],
     "id": ""
    },
    "slideshow": {
     "slide_type": "fragment"
    }
   },
   "outputs": [],
   "source": [
    "#include <iostream>\n",
    "#include <vector>"
   ]
  },
  {
   "cell_type": "code",
   "execution_count": null,
   "metadata": {
    "attributes": {
     "classes": [
      "cpp"
     ],
     "id": ""
    },
    "slideshow": {
     "slide_type": "fragment"
    }
   },
   "outputs": [],
   "source": [
    "std::vector<int> col { 1, 2, 3, 4, 5 } ;\n",
    "for ( auto element : col )\n",
    " { std::cout << element << \" \" ; }\n",
    "std::cout << std::endl ;"
   ]
  },
  {
   "cell_type": "markdown",
   "metadata": {
    "slideshow": {
     "slide_type": "subslide"
    }
   },
   "source": [
    "#### Yet the others constructors are sometimes still useful"
   ]
  },
  {
   "cell_type": "code",
   "execution_count": null,
   "metadata": {
    "attributes": {
     "classes": [
      "cpp"
     ],
     "id": ""
    },
    "slideshow": {
     "slide_type": "fragment"
    }
   },
   "outputs": [],
   "source": [
    "#include <iostream>\n",
    "#include <vector>"
   ]
  },
  {
   "cell_type": "code",
   "execution_count": null,
   "metadata": {
    "attributes": {
     "classes": [
      "cpp"
     ],
     "id": ""
    },
    "slideshow": {
     "slide_type": "fragment"
    }
   },
   "outputs": [],
   "source": [
    "std::vector<int> col1 { 2, 10 } ; // list of elements\n",
    "for ( auto element : col1 )\n",
    " { std::cout << element << \" \" ; }\n",
    "std::cout << std::endl ;"
   ]
  },
  {
   "cell_type": "code",
   "execution_count": null,
   "metadata": {
    "attributes": {
     "classes": [
      "cpp"
     ],
     "id": ""
    },
    "slideshow": {
     "slide_type": "fragment"
    }
   },
   "outputs": [],
   "source": [
    "std::vector<int> col2 ( 3, 5 ) ;  // size then default value\n",
    "for ( auto element : col2 )\n",
    " { std::cout << element << \" \" ; }\n",
    "std::cout << std::endl ;"
   ]
  },
  {
   "cell_type": "markdown",
   "metadata": {
    "slideshow": {
     "slide_type": "slide"
    }
   },
   "source": [
    "## Best practice\n",
    "\n",
    "The current recommended syntax is the **direct brace initialization**... but there are still few usages for all the other kind of initializations. \"uniformity\" is not really achieved."
   ]
  },
  {
   "cell_type": "markdown",
   "metadata": {
    "slideshow": {
     "slide_type": "slide"
    }
   },
   "source": [
    "## Exercise\n",
    "\n",
    "In the class `BrokenLine` below, replace the `add()` and `close()` methods by a single constructor taking an `std::list_initializer<Point<Real>>` as first argument, and a boolean as second argument, the later saying if the line is closed or not. Simplify the main accordingly."
   ]
  },
  {
   "cell_type": "code",
   "execution_count": null,
   "metadata": {
    "slideshow": {
     "slide_type": "-"
    }
   },
   "outputs": [],
   "source": [
    "%%file tmp.initialisation.cpp\n",
    "\n",
    "#include <cassert>\n",
    "#include <iostream>\n",
    "#include <list>\n",
    "\n",
    "template< typename Real >\n",
    "class Point\n",
    " {\n",
    "  public :\n",
    "    Point( Real x, Real y )\n",
    "     : m_x{x}, m_y{y} {}\n",
    "    friend std::ostream & operator<<( std::ostream & os, Point const & p )\n",
    "     { return (os<<\"{\"<<p.m_x<<\",\"<<p.m_y<<\"}\") ; }\n",
    "  private :\n",
    "    Real m_x, m_y ;\n",
    " } ;\n",
    "\n",
    "enum class BrokenLineKind { Empty, Opened, Closed } ;\n",
    "\n",
    "template< typename Real >\n",
    "class BrokenLine\n",
    " {\n",
    "  public :\n",
    "    void add( Point<Real> p )\n",
    "     { m_points.push_back(p) ; m_kind = BrokenLineKind::Opened ; }\n",
    "    void close()\n",
    "     { assert(m_points.size()>0) ; m_kind = BrokenLineKind::Closed ; }\n",
    "    friend std::ostream & operator<<( std::ostream & os, BrokenLine const & bl )\n",
    "     {\n",
    "      char sep { '{' } ;\n",
    "      for ( auto p : bl.m_points )\n",
    "       {  os<<sep<<p ; sep = ',' ; }\n",
    "      if (bl.m_kind==BrokenLineKind::Closed)\n",
    "       { os<<sep<<bl.m_points.front() ; }\n",
    "      return (os<<'}') ;\n",
    "     }\n",
    "  private :\n",
    "    std::list<Point<Real>> m_points ;\n",
    "    BrokenLineKind m_kind = BrokenLineKind::Empty ;\n",
    " } ;\n",
    " \n",
    "int main()\n",
    " {\n",
    "  BrokenLine<double> bl ;\n",
    "  bl.add(Point<double>{1,1}) ;\n",
    "  bl.add(Point<double>{2,3}) ;\n",
    "  bl.add(Point<double>{4,2}) ;\n",
    "  bl.close() ;\n",
    "  std::cout<<bl<<std::endl ;\n",
    " }"
   ]
  },
  {
   "cell_type": "code",
   "execution_count": null,
   "metadata": {
    "slideshow": {
     "slide_type": "fragment"
    }
   },
   "outputs": [],
   "source": [
    "!rm -f tmp.initialisation.exe && g++ -std=c++17 tmp.initialisation.cpp -o tmp.initialisation.exe"
   ]
  },
  {
   "cell_type": "code",
   "execution_count": null,
   "metadata": {
    "slideshow": {
     "slide_type": "fragment"
    }
   },
   "outputs": [],
   "source": [
    "!./tmp.initialisation.exe"
   ]
  },
  {
   "cell_type": "markdown",
   "metadata": {
    "slideshow": {
     "slide_type": "notes"
    }
   },
   "source": [
    "© *CNRS 2020*  \n",
    "*Assembled and written by David Chamont, this work is made available according to the terms of the*  \n",
    "[*Creative Commons License - Attribution - NonCommercial - ShareAlike 4.0 International*](http://creativecommons.org/licenses/by-nc-sa/4.0/)"
   ]
  }
 ],
 "metadata": {
  "celltoolbar": "Diaporama",
  "kernelspec": {
   "display_name": "C++17",
   "language": "C++17",
   "name": "xcpp17"
  },
  "language_info": {
   "codemirror_mode": "text/x-c++src",
   "file_extension": ".cpp",
   "mimetype": "text/x-c++src",
   "name": "c++",
   "version": "17"
  }
 },
 "nbformat": 4,
 "nbformat_minor": 4
}
