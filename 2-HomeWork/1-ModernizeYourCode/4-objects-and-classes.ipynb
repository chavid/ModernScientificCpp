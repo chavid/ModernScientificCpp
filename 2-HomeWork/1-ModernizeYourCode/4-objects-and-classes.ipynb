{
 "cells": [
  {
   "cell_type": "markdown",
   "metadata": {
    "slideshow": {
     "slide_type": "slide"
    }
   },
   "source": [
    "# Object Syntactic Sugar\n",
    "\n",
    "Some small modern features, which ease the implementation of your classes and objects."
   ]
  },
  {
   "cell_type": "markdown",
   "metadata": {
    "slideshow": {
     "slide_type": "slide"
    }
   },
   "source": [
    "## Construction improvement"
   ]
  },
  {
   "cell_type": "markdown",
   "metadata": {
    "slideshow": {
     "slide_type": "subslide"
    }
   },
   "source": [
    "#### Construction delegation\n",
    "\n",
    "At last, one can now call a constructor from another constructor (for the same class)."
   ]
  },
  {
   "cell_type": "code",
   "execution_count": null,
   "metadata": {
    "attributes": {
     "classes": [
      "cpp"
     ],
     "id": ""
    },
    "slideshow": {
     "slide_type": "fragment"
    }
   },
   "outputs": [],
   "source": [
    "#include <iostream>"
   ]
  },
  {
   "cell_type": "code",
   "execution_count": null,
   "metadata": {
    "attributes": {
     "classes": [
      "cpp"
     ],
     "id": ""
    },
    "slideshow": {
     "slide_type": "fragment"
    }
   },
   "outputs": [],
   "source": [
    "class Int1\n",
    " {\n",
    "  public :\n",
    "    Int1() : Int1(0) { m_default = true ; }\n",
    "    Int1( int i ) : m_val(i) { m_default = false ; }\n",
    "    friend std::ostream & operator<<( std::ostream & os, const Int1 & i )\n",
    "     { return (i.m_default?(os<<\"(default)\"<<i.m_val):(os<<\"(explicit)\"<<i.m_val)) ; }\n",
    "  private :\n",
    "    int m_val ;\n",
    "    bool m_default ;\n",
    " } ;"
   ]
  },
  {
   "cell_type": "code",
   "execution_count": null,
   "metadata": {
    "slideshow": {
     "slide_type": "fragment"
    }
   },
   "outputs": [],
   "source": [
    "Int1 i1{}, i2{0} ;\n",
    "std::cout << i1 << std::endl ;\n",
    "std::cout << i2 << std::endl ;"
   ]
  },
  {
   "cell_type": "markdown",
   "metadata": {
    "slideshow": {
     "slide_type": "subslide"
    }
   },
   "source": [
    "#### Member variables initialisation\n",
    "\n",
    "At last, one can give a default value to any member variable."
   ]
  },
  {
   "cell_type": "code",
   "execution_count": null,
   "metadata": {
    "slideshow": {
     "slide_type": "fragment"
    }
   },
   "outputs": [],
   "source": [
    "struct Int2 {\n",
    "    Int2() {}\n",
    "    Int2( int x ) : m_x(x) {}\n",
    "    int m_x = 0 ;\n",
    "} ;"
   ]
  },
  {
   "cell_type": "code",
   "execution_count": null,
   "metadata": {
    "attributes": {
     "classes": [
      "cpp"
     ],
     "id": ""
    },
    "slideshow": {
     "slide_type": "fragment"
    }
   },
   "outputs": [],
   "source": [
    "Int2 i0 ;\n",
    "Int2 i1 {1} ;\n",
    "std::cout << i0.m_x << std::endl ;\n",
    "std::cout << i1.m_x << std::endl ;"
   ]
  },
  {
   "cell_type": "markdown",
   "metadata": {
    "slideshow": {
     "slide_type": "notes"
    }
   },
   "source": [
    "* This default initialisation can be modified within a constructor.\n",
    "* Only the new initialization with curly braces is allowed here, not parenthesis.\n",
    "* There is still no way to initialize a static non-constant member variable."
   ]
  },
  {
   "cell_type": "markdown",
   "metadata": {
    "slideshow": {
     "slide_type": "subslide"
    }
   },
   "source": [
    "#### Constructors inheritance\n",
    "\n",
    "At last, one can inherit the constructors from a base class, and do not need to manually replicate every and each base constructor."
   ]
  },
  {
   "cell_type": "code",
   "execution_count": null,
   "metadata": {
    "slideshow": {
     "slide_type": "fragment"
    }
   },
   "outputs": [],
   "source": [
    "#include <iostream>"
   ]
  },
  {
   "cell_type": "code",
   "execution_count": null,
   "metadata": {
    "slideshow": {
     "slide_type": "fragment"
    }
   },
   "outputs": [],
   "source": [
    "struct A {\n",
    "    A( int ) { std::cout << \"A(int)\" << std::endl ; }\n",
    "    A( int, int ) { std::cout << \"A(int,int)\" << std::endl ; }\n",
    "} ;"
   ]
  },
  {
   "cell_type": "code",
   "execution_count": null,
   "metadata": {
    "attributes": {
     "classes": [
      "cpp"
     ],
     "id": ""
    },
    "slideshow": {
     "slide_type": "fragment"
    }
   },
   "outputs": [],
   "source": [
    "struct B : public A\n",
    " {\n",
    "  using A::A ; // on peut utiliser A::A( int) et A::A( int, int )\n",
    "               // comme si ils étaient déclarés B::B( int) et B::B( int, int )\n",
    " } ;"
   ]
  },
  {
   "cell_type": "code",
   "execution_count": null,
   "metadata": {
    "slideshow": {
     "slide_type": "subslide"
    }
   },
   "outputs": [],
   "source": [
    "B b1{1} ;\n",
    "B b2{1,2} ;"
   ]
  },
  {
   "cell_type": "markdown",
   "metadata": {
    "slideshow": {
     "slide_type": "slide"
    }
   },
   "source": [
    "## Member functions improvement"
   ]
  },
  {
   "cell_type": "markdown",
   "metadata": {
    "slideshow": {
     "slide_type": "subslide"
    }
   },
   "source": [
    "#### Explicit conversion operators\n",
    "\n",
    "At last, the keyword `explicit` is not any more only for constructors, but can also be used for conversion operators."
   ]
  },
  {
   "cell_type": "markdown",
   "metadata": {
    "slideshow": {
     "slide_type": "subslide"
    }
   },
   "source": [
    "#### Forbid a function\n",
    "\n",
    "By default, any class is given a copy member function, which sometimes does not make sense. In such a case, the ancient rule of thumb was to declare it private. The new syntax `= delete` better express the intention."
   ]
  },
  {
   "cell_type": "code",
   "execution_count": null,
   "metadata": {
    "slideshow": {
     "slide_type": "fragment"
    }
   },
   "outputs": [],
   "source": [
    "// non-copyable class, C++03\n",
    "class no_copies {\n",
    "public:\n",
    "    no_copies() {}\n",
    "private:\n",
    "    no_copies( no_copies const & ) ;\n",
    "    no_copies & operator=( no_copies const & ) ;\n",
    "} ;"
   ]
  },
  {
   "cell_type": "code",
   "execution_count": null,
   "metadata": {
    "attributes": {
     "classes": [
      "cpp"
     ],
     "id": ""
    },
    "slideshow": {
     "slide_type": "fragment"
    }
   },
   "outputs": [],
   "source": [
    "// non-copyable class, C++11\n",
    "class no_copies_v2 {\n",
    "public:\n",
    "  no_copies_v2() {}\n",
    "  no_copies_v2( const no_copies_v2 & ) = delete ;\n",
    "  no_copies_v2 & operator=( const no_copies_v2 & ) = delete ;\n",
    "} ;"
   ]
  },
  {
   "cell_type": "markdown",
   "metadata": {
    "slideshow": {
     "slide_type": "subslide"
    }
   },
   "source": [
    "Also, this can help prevent some unwanted implicit conversions."
   ]
  },
  {
   "cell_type": "code",
   "execution_count": null,
   "metadata": {
    "slideshow": {
     "slide_type": "fragment"
    }
   },
   "outputs": [],
   "source": [
    "struct FooStruct {\n",
    "    void foo_method(short) {}\n",
    "    void foo_method(int) = delete ;\n",
    "} ;"
   ]
  },
  {
   "cell_type": "code",
   "execution_count": null,
   "metadata": {
    "attributes": {
     "classes": [
      "cpp"
     ],
     "id": ""
    },
    "slideshow": {
     "slide_type": "fragment"
    }
   },
   "outputs": [],
   "source": [
    "FooStruct s ;\n",
    "s.foo_method(42) ;        // Error, int overload declared deleted\n",
    "s.foo_method((short)42) ; // OK"
   ]
  },
  {
   "cell_type": "markdown",
   "metadata": {
    "slideshow": {
     "slide_type": "subslide"
    }
   },
   "source": [
    "#### Enforce a function\n",
    "\n",
    "On the contrary, for the methods which the compiler knows how to generate, one can enforce explicitly the code to be added, thanks to `= default`."
   ]
  },
  {
   "cell_type": "markdown",
   "metadata": {
    "slideshow": {
     "slide_type": "subslide"
    }
   },
   "source": [
    "What for ?\n",
    "* to make more visible a method which is implictly added.\n",
    "* to make such a method protected or private, instead of public, yet keeping the usual implementation.\n",
    "* to make a copy constructor handle a non-const input object.\n",
    "* to make a virtual destructor, yet keeping the usual default implementation.\n",
    "* to enforce the generation of the default constructor, while providing an additional user-made constructor."
   ]
  },
  {
   "cell_type": "code",
   "execution_count": null,
   "metadata": {
    "attributes": {
     "classes": [
      "cpp"
     ],
     "id": ""
    },
    "slideshow": {
     "slide_type": "fragment"
    }
   },
   "outputs": [],
   "source": [
    "class Y {\n",
    "  public:\n",
    "    Y( Y & ) = default ; // Take a non-const reference\n",
    "    Y & operator=( Y const & ) = default ; // Make it explicit\n",
    "    virtual ~Y() = default ; // Add virtual\n",
    "  private:\n",
    "    Y() = default ; // Change access\n",
    "} ;"
   ]
  },
  {
   "cell_type": "markdown",
   "metadata": {
    "slideshow": {
     "slide_type": "subslide"
    }
   },
   "source": [
    "Why is it better to use `= default`, rather than the simple equivalent implementation ? A user-made implementation may switch off some compiler optimizations and languages features :\n",
    "* object copy with `memcpy` or `memmove`,\n",
    "* object construction at compile time,\n",
    "* use of the class in a customized union,\n",
    "* use of the class with `std::atomic`."
   ]
  },
  {
   "cell_type": "markdown",
   "metadata": {
    "slideshow": {
     "slide_type": "subslide"
    }
   },
   "source": [
    "#### Check virtual member functions overload\n",
    "\n",
    "At last, when one intend to overload an inherited virtual function, one can add the keyword `override`, so that the compiler will check there is such a virtual function in a base class, with the exact same interface."
   ]
  },
  {
   "cell_type": "code",
   "execution_count": null,
   "metadata": {
    "slideshow": {
     "slide_type": "fragment"
    }
   },
   "outputs": [],
   "source": [
    "class A\n",
    " {\n",
    "  public :\n",
    "    virtual void fct1() =0 ;\n",
    "    virtual void fct2( int ) =0 ;\n",
    "    virtual void fct3( bool ) =0 ;\n",
    " } ;"
   ]
  },
  {
   "cell_type": "code",
   "execution_count": null,
   "metadata": {
    "slideshow": {
     "slide_type": "fragment"
    }
   },
   "outputs": [],
   "source": [
    "class B : public A\n",
    " {\n",
    "  public :\n",
    "    void fct1 () override ;       // OK\n",
    "    void ft2 ( int ) override ;   // erreur : A::ft2 n'existe pas\n",
    "    void fct2 ( bool ) override ; // erreur : pas les bons types\n",
    " } ;"
   ]
  },
  {
   "cell_type": "markdown",
   "metadata": {
    "slideshow": {
     "slide_type": "subslide"
    }
   },
   "source": [
    "#### Forbid virtual member functions overload\n",
    "\n",
    "Also, one can forbid any overload in further derived class, with the keyword `final`. With this same keyword, one can forbid a whole class to be derived."
   ]
  },
  {
   "cell_type": "code",
   "execution_count": null,
   "metadata": {
    "slideshow": {
     "slide_type": "fragment"
    }
   },
   "outputs": [],
   "source": [
    "struct A {\n",
    "    virtual void fct1() =0 ;\n",
    "    virtual void fct2( int ) =0 ;\n",
    "} ;"
   ]
  },
  {
   "cell_type": "code",
   "execution_count": null,
   "metadata": {
    "slideshow": {
     "slide_type": "fragment"
    }
   },
   "outputs": [],
   "source": [
    "struct B : public A {\n",
    "    void fct3( int ) final ;\n",
    "} ;"
   ]
  },
  {
   "cell_type": "code",
   "execution_count": null,
   "metadata": {
    "slideshow": {
     "slide_type": "fragment"
    }
   },
   "outputs": [],
   "source": [
    "struct C final : public B {\n",
    "    void fct1 () override ;       // OK\n",
    "    void fct3 ( bool ) override ; // erreur : B::fct3 est finale\n",
    "} ;"
   ]
  },
  {
   "cell_type": "code",
   "execution_count": null,
   "metadata": {
    "attributes": {
     "classes": [
      "cpp"
     ],
     "id": ""
    },
    "slideshow": {
     "slide_type": "fragment"
    }
   },
   "outputs": [],
   "source": [
    "struct D : public C {} ;               // erreur : C est final         "
   ]
  },
  {
   "cell_type": "markdown",
   "metadata": {
    "slideshow": {
     "slide_type": "slide"
    }
   },
   "source": [
    "## Exercise\n",
    "\n",
    "In the code below, insert one `= delete`, one `= default` and one `override`."
   ]
  },
  {
   "cell_type": "code",
   "execution_count": null,
   "metadata": {
    "slideshow": {
     "slide_type": "fragment"
    }
   },
   "outputs": [],
   "source": [
    "%%file tmp.objects-and-classes.cpp\n",
    "\n",
    "#include <cstdlib> // pour std::rand()\n",
    "#include <iostream>\n",
    "#include <string>\n",
    "\n",
    "class Particle\n",
    " {\n",
    "  public  :\n",
    "    Particle( double mass ) : m_mass(mass) {}\n",
    "    double mass() { return m_mass ; }\n",
    "    virtual std::string name() { return \"Particle\" ; }\n",
    "    virtual ~Particle() {}\n",
    "  private  :\n",
    "    Particle( Particle const & ) ; // non copyable\n",
    "    double m_mass ;\n",
    " } ;\n",
    "\n",
    "class ChargedParticle : public Particle\n",
    " {\n",
    "  public  :\n",
    "    ChargedParticle( double mass, double charge )\n",
    "     : Particle(mass), m_charge(charge) {}\n",
    "    double charge() { return m_charge ; }\n",
    "    virtual std::string name() { return \"ChargedParticle\" ; }\n",
    "  private  :\n",
    "    double m_charge ;\n",
    " } ;\n",
    "\n",
    "void display( Particle & p  )\n",
    " {\n",
    "  std::cout << p.name() << std::endl ;          \n",
    "  std::cout << \"  mass   = \" << p.mass() << std::endl ;         \n",
    " }\n",
    "\n",
    "int main()\n",
    " {\n",
    "  for ( int i = 0 ; i < 5 ; ++i )\n",
    "   {\n",
    "    if ( std::rand() < (0.5 *  double(RAND_MAX)) )\n",
    "     {\n",
    "      Particle p(2) ;\n",
    "      display(p) ;\n",
    "     }\n",
    "    else\n",
    "     {\n",
    "      ChargedParticle p(1,1) ;\n",
    "      display(p) ;\n",
    "      std::cout << \"  charge = \" << p.charge() << std::endl ;         \n",
    "     }\n",
    "   }\n",
    " }"
   ]
  },
  {
   "cell_type": "code",
   "execution_count": null,
   "metadata": {
    "slideshow": {
     "slide_type": "fragment"
    }
   },
   "outputs": [],
   "source": [
    "!rm -f tmp.objects-and-classes.exe && g++ -std=c++17 tmp.objects-and-classes.cpp -o tmp.objects-and-classes.exe"
   ]
  },
  {
   "cell_type": "code",
   "execution_count": null,
   "metadata": {
    "slideshow": {
     "slide_type": "fragment"
    }
   },
   "outputs": [],
   "source": [
    "!./tmp.objects-and-classes.exe"
   ]
  },
  {
   "cell_type": "markdown",
   "metadata": {
    "slideshow": {
     "slide_type": "skip"
    }
   },
   "source": [
    "© *CNRS 2020*  \n",
    "*Assembled and written by David Chamont, this work is made available according to the terms of the*  \n",
    "[*Creative Commons License - Attribution - NonCommercial - ShareAlike 4.0 International*](http://creativecommons.org/licenses/by-nc-sa/4.0/)"
   ]
  }
 ],
 "metadata": {
  "celltoolbar": "Diaporama",
  "kernelspec": {
   "display_name": "C++17",
   "language": "C++17",
   "name": "xcpp17"
  },
  "language_info": {
   "codemirror_mode": "text/x-c++src",
   "file_extension": ".cpp",
   "mimetype": "text/x-c++src",
   "name": "c++",
   "version": "17"
  }
 },
 "nbformat": 4,
 "nbformat_minor": 4
}
