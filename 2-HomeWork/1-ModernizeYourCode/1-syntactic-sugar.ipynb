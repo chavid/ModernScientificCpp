{
 "cells": [
  {
   "cell_type": "markdown",
   "metadata": {
    "slideshow": {
     "slide_type": "slide"
    }
   },
   "source": [
    "# Basic syntactic sugar\n",
    "\n",
    "We group here some small modern features, added to ease your developer life."
   ]
  },
  {
   "cell_type": "markdown",
   "metadata": {
    "slideshow": {
     "slide_type": "slide"
    }
   },
   "source": [
    "## At last, `>>` allowed for templates  of templates\n",
    "\n",
    "When nesting template arguments, no more need to insert a space between subsequent \"<\" or \">\"."
   ]
  },
  {
   "cell_type": "markdown",
   "metadata": {
    "slideshow": {
     "slide_type": "slide"
    }
   },
   "source": [
    "## At last, default member variable initialization\n",
    "\n",
    "In a class or struct definition, one can now give a default value to any member variable."
   ]
  },
  {
   "cell_type": "code",
   "execution_count": 2,
   "metadata": {
    "slideshow": {
     "slide_type": "fragment"
    }
   },
   "outputs": [],
   "source": [
    "#include <iostream>"
   ]
  },
  {
   "cell_type": "code",
   "execution_count": 3,
   "metadata": {
    "slideshow": {
     "slide_type": "fragment"
    }
   },
   "outputs": [],
   "source": [
    "struct MyInt {\n",
    "    MyInt() {}\n",
    "    MyInt( int x ) : m_x(x) {}\n",
    "    int m_x = 42 ; // default value\n",
    "} ;"
   ]
  },
  {
   "cell_type": "code",
   "execution_count": 5,
   "metadata": {
    "slideshow": {
     "slide_type": "fragment"
    }
   },
   "outputs": [
    {
     "name": "stdout",
     "output_type": "stream",
     "text": [
      "42\n",
      "1\n"
     ]
    }
   ],
   "source": [
    "MyInt i ;\n",
    "MyInt j(1) ;\n",
    "std::cout << i.m_x << std::endl ;\n",
    "std::cout << j.m_x << std::endl ;"
   ]
  },
  {
   "cell_type": "markdown",
   "metadata": {
    "slideshow": {
     "slide_type": "slide"
    }
   },
   "source": [
    "## Preview of the keyword `auto`\n",
    "\n",
    "Tired of typing those painful iterator types, although what you want is so obvious ? When defining a variable with an initial value, you can now let the C++11 compiler deduce the type : just say `auto` instead of the type name. Would you guess how to do it below ?"
   ]
  },
  {
   "cell_type": "code",
   "execution_count": 6,
   "metadata": {
    "slideshow": {
     "slide_type": "fragment"
    }
   },
   "outputs": [],
   "source": [
    "#include <list>\n",
    "#include <map>"
   ]
  },
  {
   "cell_type": "code",
   "execution_count": 7,
   "metadata": {
    "slideshow": {
     "slide_type": "fragment"
    }
   },
   "outputs": [],
   "source": [
    "std::map<std::vector<int>,std::list<float>> m ;\n",
    "std::map<std::vector<int>,std::list<float>>::iterator itr = m.begin() ;"
   ]
  },
  {
   "cell_type": "markdown",
   "metadata": {
    "slideshow": {
     "slide_type": "slide"
    }
   },
   "source": [
    "## Preview of the \"range-based for\""
   ]
  },
  {
   "cell_type": "markdown",
   "metadata": {
    "slideshow": {
     "slide_type": "subslide"
    }
   },
   "source": [
    "A new flavor of `for` enables to process simply all the elements of a collection, provided this collection has methods `begin()` and `end()`. Instead of:"
   ]
  },
  {
   "cell_type": "code",
   "execution_count": 8,
   "metadata": {
    "slideshow": {
     "slide_type": "fragment"
    }
   },
   "outputs": [
    {
     "name": "stdout",
     "output_type": "stream",
     "text": [
      "1.1 2.2 3.3 4.4 5.5 \n"
     ]
    }
   ],
   "source": [
    "const int MAX = 5 ;\n",
    "double values[MAX] = { 1.1, 2.2, 3.3, 4.4, 5.5 } ;\n",
    "for ( int indice = 0 ; indice <MAX ; ++indice  )\n",
    " { std::cout << values[indice] << \" \" ; }\n",
    "std::cout << std::endl ;"
   ]
  },
  {
   "cell_type": "markdown",
   "metadata": {
    "slideshow": {
     "slide_type": "subslide"
    }
   },
   "source": [
    "One can now write:"
   ]
  },
  {
   "cell_type": "code",
   "execution_count": 9,
   "metadata": {
    "slideshow": {
     "slide_type": "fragment"
    }
   },
   "outputs": [
    {
     "name": "stdout",
     "output_type": "stream",
     "text": [
      "1.1 2.2 3.3 4.4 5.5 \n"
     ]
    }
   ],
   "source": [
    "const int MAX = 5 ;\n",
    "double values[MAX] = { 1.1, 2.2, 3.3, 4.4, 5.5 } ;\n",
    "for ( double value : values  )\n",
    "  { std::cout << value << \" \" ; }\n",
    "std::cout << std::endl ;"
   ]
  },
  {
   "cell_type": "markdown",
   "metadata": {
    "slideshow": {
     "slide_type": "subslide"
    }
   },
   "source": [
    "If you combine with `auto`, instead of:"
   ]
  },
  {
   "cell_type": "code",
   "execution_count": 10,
   "metadata": {
    "slideshow": {
     "slide_type": "fragment"
    }
   },
   "outputs": [
    {
     "name": "stdout",
     "output_type": "stream",
     "text": [
      "0 0 0 0 0 \n"
     ]
    }
   ],
   "source": [
    "std::vector<int> values(5,0) ;\n",
    "std::vector<int>::iterator itr ;\n",
    "for ( itr = values.begin() ; itr != values.end() ; ++itr )\n",
    " { std::cout << *itr << \" \" ; }\n",
    "std::cout << std::endl ;"
   ]
  },
  {
   "cell_type": "markdown",
   "metadata": {
    "slideshow": {
     "slide_type": "subslide"
    }
   },
   "source": [
    "One can now write:"
   ]
  },
  {
   "cell_type": "code",
   "execution_count": 11,
   "metadata": {
    "slideshow": {
     "slide_type": "fragment"
    }
   },
   "outputs": [
    {
     "name": "stdout",
     "output_type": "stream",
     "text": [
      "0 0 0 0 0 \n"
     ]
    }
   ],
   "source": [
    "std::vector<int> values(5,0) ;\n",
    "for ( auto value : values )\n",
    " { std::cout << value << \" \" ; }\n",
    "std::cout << std::endl ;"
   ]
  },
  {
   "cell_type": "markdown",
   "metadata": {
    "slideshow": {
     "slide_type": "slide"
    }
   },
   "source": [
    "## Scoped enumerations"
   ]
  },
  {
   "cell_type": "markdown",
   "metadata": {
    "slideshow": {
     "slide_type": "subslide"
    }
   },
   "source": [
    "In ancient C++, the enumerations let you define constants which are **considered as integers**. This is both handy and sometimes tricky. Try the code below."
   ]
  },
  {
   "cell_type": "code",
   "execution_count": 12,
   "metadata": {
    "slideshow": {
     "slide_type": "fragment"
    }
   },
   "outputs": [],
   "source": [
    "enum color { red, green, blue } ;\n",
    "enum shape { circle, square, triangle } ;"
   ]
  },
  {
   "cell_type": "code",
   "execution_count": 13,
   "metadata": {
    "slideshow": {
     "slide_type": "fragment"
    }
   },
   "outputs": [],
   "source": [
    "bool is_red_triangle( int color, int shape ) {\n",
    "    return ((color==red)&&(shape==triangle)) ;\n",
    "}"
   ]
  },
  {
   "cell_type": "code",
   "execution_count": 14,
   "metadata": {
    "slideshow": {
     "slide_type": "fragment"
    }
   },
   "outputs": [],
   "source": [
    "#include <iostream>"
   ]
  },
  {
   "cell_type": "code",
   "execution_count": 15,
   "metadata": {
    "slideshow": {
     "slide_type": "fragment"
    }
   },
   "outputs": [
    {
     "name": "stdout",
     "output_type": "stream",
     "text": [
      "This is NOT a red triangle !\n"
     ]
    }
   ],
   "source": [
    "shape s = triangle ;\n",
    "color c = red ;\n",
    "if (is_red_triangle(s,c))\n",
    "  std::cout << \"This is a red triangle !\" << std::endl ;\n",
    "else\n",
    "  std::cout << \"This is NOT a red triangle !\" << std::endl ;"
   ]
  },
  {
   "cell_type": "markdown",
   "metadata": {
    "slideshow": {
     "slide_type": "subslide"
    }
   },
   "source": [
    "C++11 let you define \"scoped enumerations\", with the keywords `enum class`, which are not any more equated to integers, but **independant types**. Their use is a bit more verbose, but a lot less error-prone."
   ]
  },
  {
   "cell_type": "code",
   "execution_count": null,
   "metadata": {
    "slideshow": {
     "slide_type": "fragment"
    }
   },
   "outputs": [],
   "source": [
    "enum class Color { yellow=5, red, blue, green } ;\n",
    "Color c1, c2 ;\n",
    "//.....\n",
    "c1 = Color::red ;                        // OK\n",
    "c2 = Color::yellow+3 ;                   // Forbidden\n",
    "if (c1==Color::red) std::cout<<\"red\" ;   // OK\n",
    "if (c1==6) std::cout<<\"red\" ;            // Forbidden\n",
    "if (c2>Color::blue) std::cout<<\"green\" ; // Forbidden"
   ]
  },
  {
   "cell_type": "markdown",
   "metadata": {
    "slideshow": {
     "slide_type": "slide"
    }
   },
   "source": [
    "## User-defined literals"
   ]
  },
  {
   "cell_type": "markdown",
   "metadata": {
    "slideshow": {
     "slide_type": "subslide"
    }
   },
   "source": [
    "C++ uses suffixes for its literals for a long time. For example, the ending `L` in `42L` means that the type is `long int`. C++11 introduces the ability to define new suffixes of format `_something` (*user-defined litterals*). In simple terms, when dealing with numbers, one has to overload `operator\"\"_something` for the most detailed type, i.e `long double` and/or `unsigned long long`."
   ]
  },
  {
   "cell_type": "markdown",
   "metadata": {
    "slideshow": {
     "slide_type": "subslide"
    }
   },
   "source": [
    "For example, this is the way to define a suffix `_K` able to multiply by 1000 the integer and floating numbers (not supported by the notebook kernel):"
   ]
  },
  {
   "cell_type": "code",
   "execution_count": 16,
   "metadata": {
    "slideshow": {
     "slide_type": "fragment"
    }
   },
   "outputs": [
    {
     "name": "stdout",
     "output_type": "stream",
     "text": [
      "Writing tmp.syntactic-sugar.cpp\n"
     ]
    }
   ],
   "source": [
    "%%file tmp.syntactic-sugar.cpp\n",
    "\n",
    "#include <iostream>\n",
    "\n",
    "long double operator \"\"_K ( long double value )\n",
    " { return 1000.*value ; }\n",
    "\n",
    "unsigned long long operator \"\"_K ( unsigned long long value )\n",
    " { return 1000*value ; }\n",
    "\n",
    "int main()\n",
    " {\n",
    "  int var = -42_K ;\n",
    "  std::cout<<var<<std::endl ;\n",
    "  std::cout<<3.14_K<<std::endl ;\n",
    " }"
   ]
  },
  {
   "cell_type": "code",
   "execution_count": 22,
   "metadata": {
    "slideshow": {
     "slide_type": "fragment"
    }
   },
   "outputs": [],
   "source": [
    "!rm -f tmp.syntactic-sugar.exe && g++ -std=c++17 tmp.syntactic-sugar.cpp -o tmp.syntactic-sugar.exe"
   ]
  },
  {
   "cell_type": "code",
   "execution_count": 23,
   "metadata": {
    "slideshow": {
     "slide_type": "fragment"
    }
   },
   "outputs": [
    {
     "name": "stdout",
     "output_type": "stream",
     "text": [
      "-42000\n",
      "3140\n"
     ]
    }
   ],
   "source": [
    "!./tmp.syntactic-sugar.exe"
   ]
  },
  {
   "cell_type": "markdown",
   "metadata": {
    "slideshow": {
     "slide_type": "subslide"
    }
   },
   "source": [
    "In the function above, we use the same types for input and output, but we could use any type for the output, and we usually use \"stronger\" types."
   ]
  },
  {
   "cell_type": "markdown",
   "metadata": {
    "slideshow": {
     "slide_type": "slide"
    }
   },
   "source": [
    "## Pointer to nothing"
   ]
  },
  {
   "cell_type": "markdown",
   "metadata": {
    "slideshow": {
     "slide_type": "subslide"
    }
   },
   "source": [
    "C++03 offers no satisfying way to express \"nothing\" for a pointer. One may use the macro NULL coming from C, or define  a constant integer `NULLPTR` equal to 0, or directly use 0... but the compiler will always consider it as an integer, and badly choose among overloaded functions."
   ]
  },
  {
   "cell_type": "markdown",
   "metadata": {
    "slideshow": {
     "slide_type": "subslide"
    }
   },
   "source": [
    "Below, we would prefer the compiler to select `fnul( char * )`, but the compiler will not."
   ]
  },
  {
   "cell_type": "code",
   "execution_count": 1,
   "metadata": {
    "slideshow": {
     "slide_type": "fragment"
    }
   },
   "outputs": [],
   "source": [
    "#include <iostream>"
   ]
  },
  {
   "cell_type": "code",
   "execution_count": 2,
   "metadata": {
    "slideshow": {
     "slide_type": "fragment"
    }
   },
   "outputs": [],
   "source": [
    "void fnul(char *) { std::cout<<\"char *\"<<std::endl ; }"
   ]
  },
  {
   "cell_type": "code",
   "execution_count": 3,
   "metadata": {
    "slideshow": {
     "slide_type": "fragment"
    }
   },
   "outputs": [],
   "source": [
    "void fnul(int) { std::cout<<\"int\"<<std::endl ; }"
   ]
  },
  {
   "cell_type": "code",
   "execution_count": 4,
   "metadata": {
    "slideshow": {
     "slide_type": "fragment"
    }
   },
   "outputs": [],
   "source": [
    "void fnul(long) { std::cout<<\"long\"<<std::endl ; }"
   ]
  },
  {
   "cell_type": "code",
   "execution_count": 5,
   "metadata": {
    "slideshow": {
     "slide_type": "fragment"
    }
   },
   "outputs": [
    {
     "name": "stdout",
     "output_type": "stream",
     "text": [
      "int\n",
      "int\n",
      "long\n"
     ]
    }
   ],
   "source": [
    "const int NULLPTR = 0 ;\n",
    "fnul(0) ;\n",
    "fnul(NULLPTR) ;\n",
    "fnul(NULL) ; // implementation dependant"
   ]
  },
  {
   "cell_type": "markdown",
   "metadata": {
    "slideshow": {
     "slide_type": "subslide"
    }
   },
   "source": [
    "You may declare `NULLPTR` of type `void *`, but the conversion from `void *` into `char *` is not implicit, and an explicit cast will be needed each time `NULLPTR` is used :"
   ]
  },
  {
   "cell_type": "code",
   "execution_count": 6,
   "metadata": {
    "slideshow": {
     "slide_type": "fragment"
    }
   },
   "outputs": [
    {
     "name": "stdout",
     "output_type": "stream",
     "text": [
      "char *\n"
     ]
    }
   ],
   "source": [
    "void * const NULLPTR = (void *)0 ;\n",
    "fnul((char *)NULLPTR) ; // appel de f(char *)"
   ]
  },
  {
   "cell_type": "markdown",
   "metadata": {
    "slideshow": {
     "slide_type": "subslide"
    }
   },
   "source": [
    "At last, C++11 introduce the keyword `nullptr`, which play the role of a pointer literal. As awaited, it cannot be implicitly converted into an integer, and it can be implictly converted into any kind of pointer, so the following code will select the right function:"
   ]
  },
  {
   "cell_type": "code",
   "execution_count": 7,
   "metadata": {
    "slideshow": {
     "slide_type": "fragment"
    }
   },
   "outputs": [
    {
     "name": "stdout",
     "output_type": "stream",
     "text": [
      "char *\n"
     ]
    }
   ],
   "source": [
    "fnul(nullptr) ;"
   ]
  },
  {
   "cell_type": "markdown",
   "metadata": {
    "slideshow": {
     "slide_type": "notes"
    }
   },
   "source": [
    "`nullptr` cannot be implicitly converted into an integer, but it can be into a boolean."
   ]
  },
  {
   "cell_type": "markdown",
   "metadata": {
    "slideshow": {
     "slide_type": "slide"
    }
   },
   "source": [
    "## Exercise\n",
    "\n",
    "Simplify or improve the code below, thanks to new features shown above."
   ]
  },
  {
   "cell_type": "code",
   "execution_count": null,
   "metadata": {
    "slideshow": {
     "slide_type": "fragment"
    }
   },
   "outputs": [],
   "source": [
    "%%file tmp.syntactic-sugar.cpp\n",
    "\n",
    "#include <cassert>\n",
    "#include <iostream>\n",
    "#include <list>\n",
    "\n",
    "template< typename Real >\n",
    "class Point\n",
    " {\n",
    "  public :\n",
    "    Point( Real x, Real y )\n",
    "     : m_x(x), m_y(y) {}\n",
    "    friend std::ostream & operator<<( std::ostream & os, Point const & p )\n",
    "     { return (os<<\"(\"<<p.m_x<<\",\"<<p.m_y<<\")\") ; }\n",
    "  private :\n",
    "    Real m_x, m_y ;\n",
    " } ;\n",
    "\n",
    "enum BrokenLineKind { Empty, Opened, Closed } ;\n",
    "\n",
    "template< typename Real >\n",
    "class BrokenLine\n",
    " {\n",
    "  public :\n",
    "    BrokenLine()\n",
    "     : m_kind(Empty) {}\n",
    "    void add( Point<Real> p )\n",
    "     { m_points.push_back(p) ; m_kind = Opened ; }\n",
    "    void close()\n",
    "     { assert(m_points.size()>0) ; m_kind = Closed ; }\n",
    "    friend std::ostream & operator<<( std::ostream & os, BrokenLine const & bl )\n",
    "     {\n",
    "      char sep = '(' ;\n",
    "      typename std::list< Point<Real> >::const_iterator pitr ;\n",
    "      for ( pitr = bl.m_points.begin() ; pitr != bl.m_points.end() ; ++pitr )\n",
    "       {  os<<sep<<(*pitr) ; sep = ',' ; }\n",
    "      if (bl.m_kind==Closed)\n",
    "       { os<<sep<<bl.m_points.front() ; }\n",
    "      return (os<<')') ;\n",
    "     }\n",
    "  private :\n",
    "    std::list< Point<Real> > m_points ;\n",
    "    int m_kind ;\n",
    " } ;\n",
    " \n",
    "const double KM = 1000.0 ;\n",
    "const double M = 1.0 ;\n",
    "const double MM = 0.001 ;\n",
    "\n",
    "int main()\n",
    " {\n",
    "  BrokenLine<double> bl ;\n",
    "  bl.add(Point<double>(1000.0*MM,1.0*M)) ;\n",
    "  bl.add(Point<double>(0.002*KM,3000.0*MM)) ;\n",
    "  bl.add(Point<double>(4.0*M,0.002*KM)) ;\n",
    "  bl.close() ;\n",
    "  std::cout<<bl<<std::endl ;\n",
    " }"
   ]
  },
  {
   "cell_type": "code",
   "execution_count": null,
   "metadata": {
    "slideshow": {
     "slide_type": "fragment"
    }
   },
   "outputs": [],
   "source": [
    "!rm -f tmp.syntactic-sugar.exe && g++ -std=c++17 tmp.syntactic-sugar.cpp -o tmp.syntactic-sugar.exe"
   ]
  },
  {
   "cell_type": "code",
   "execution_count": null,
   "metadata": {
    "slideshow": {
     "slide_type": "fragment"
    }
   },
   "outputs": [],
   "source": [
    "!./tmp.syntactic-sugar.exe"
   ]
  },
  {
   "cell_type": "markdown",
   "metadata": {
    "slideshow": {
     "slide_type": "notes"
    }
   },
   "source": [
    "---\n",
    "© *CNRS 2020*  \n",
    "*Assembled and written by David Chamont, this work is made available according to the terms of the*  \n",
    "[*Creative Commons License - Attribution - NonCommercial - ShareAlike 4.0 International*](http://creativecommons.org/licenses/by-nc-sa/4.0/)"
   ]
  },
  {
   "cell_type": "markdown",
   "metadata": {
    "slideshow": {
     "slide_type": "skip"
    }
   },
   "source": [
    "---\n",
    "## Annexes"
   ]
  },
  {
   "cell_type": "markdown",
   "metadata": {
    "slideshow": {
     "slide_type": "skip"
    }
   },
   "source": [
    "#### New type `long long int`\n",
    "\n",
    "In a way compatible with C99, the new integer type `long long int` has a size of at least 64 bits."
   ]
  },
  {
   "cell_type": "markdown",
   "metadata": {
    "slideshow": {
     "slide_type": "skip"
    }
   },
   "source": [
    "#### C++17: Selection Initialization\n",
    "\n",
    "The `if` and `switch` statements can now receive an optional initialization part, similar to the one used within `for` statements:\n",
    "\n",
    "```c++\n",
    "if ( int res = compute() ; res != 0 ) {\n",
    "    // use res\n",
    "}\n",
    "```"
   ]
  }
 ],
 "metadata": {
  "celltoolbar": "Diaporama",
  "kernelspec": {
   "display_name": "C++17",
   "language": "C++17",
   "name": "xcpp17"
  },
  "language_info": {
   "codemirror_mode": "text/x-c++src",
   "file_extension": ".cpp",
   "mimetype": "text/x-c++src",
   "name": "c++",
   "version": "17"
  }
 },
 "nbformat": 4,
 "nbformat_minor": 4
}
