{
 "cells": [
  {
   "cell_type": "markdown",
   "metadata": {
    "tags": []
   },
   "source": [
    "# Modern C++ Syntax - Basic Features\n",
    "\n",
    "1. [Syntactic Sugar](en.1-syntactic-sugar.ipynb)\n",
    "1. [Type Inference](en.2-type-inference.ipynb)\n",
    "1. [Uniform Initialization](en.3-uniform-initialization.ipynb)\n",
    "1. [Objects and Classes](en.4-objects-and-classes.ipynb)"
   ]
  }
 ],
 "metadata": {
  "kernelspec": {
   "display_name": "C++17",
   "language": "C++17",
   "name": "xcpp17"
  },
  "language_info": {
   "codemirror_mode": "text/x-c++src",
   "file_extension": ".cpp",
   "mimetype": "text/x-c++src",
   "name": "c++",
   "version": "17"
  }
 },
 "nbformat": 4,
 "nbformat_minor": 4
}
