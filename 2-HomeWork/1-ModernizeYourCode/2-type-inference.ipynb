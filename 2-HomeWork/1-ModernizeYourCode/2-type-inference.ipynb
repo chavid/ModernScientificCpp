{
 "cells": [
  {
   "cell_type": "markdown",
   "metadata": {
    "nbgrader": {
     "grade": false,
     "grade_id": "cell-fa19ba3560e6cca6",
     "locked": true,
     "schema_version": 3,
     "solution": false
    },
    "slideshow": {
     "slide_type": "slide"
    }
   },
   "source": [
    "# Type inference"
   ]
  },
  {
   "cell_type": "markdown",
   "metadata": {
    "slideshow": {
     "slide_type": "slide"
    }
   },
   "source": [
    "## Keyword `auto`"
   ]
  },
  {
   "cell_type": "markdown",
   "metadata": {
    "slideshow": {
     "slide_type": "subslide"
    }
   },
   "source": [
    "#### Starting with C++11, the type of a variable can be deduced from its initial value"
   ]
  },
  {
   "cell_type": "code",
   "execution_count": null,
   "metadata": {
    "slideshow": {
     "slide_type": "subslide"
    }
   },
   "outputs": [],
   "source": [
    "std::map<std::vector<int>,std::list<float>> m ;\n",
    "auto itr = m.begin() ;"
   ]
  },
  {
   "cell_type": "markdown",
   "metadata": {
    "slideshow": {
     "slide_type": "subslide"
    }
   },
   "source": [
    "#### Possible `const` and `&` are dropped"
   ]
  },
  {
   "cell_type": "code",
   "execution_count": null,
   "metadata": {
    "slideshow": {
     "slide_type": "subslide"
    }
   },
   "outputs": [],
   "source": [
    "const int i = 2 ; // const int\n",
    "auto j = i ;      // int\n",
    "int & k = j ;     // int &\n",
    "auto l = k ;      // int"
   ]
  },
  {
   "cell_type": "markdown",
   "metadata": {
    "slideshow": {
     "slide_type": "subslide"
    }
   },
   "source": [
    "#### On the contrary, one can add `const`, `&` or `*`"
   ]
  },
  {
   "cell_type": "code",
   "execution_count": null,
   "metadata": {
    "slideshow": {
     "slide_type": "subslide"
    }
   },
   "outputs": [],
   "source": [
    "int i = 2 ;           // int\n",
    "auto & j = i ;        // int &\n",
    "auto const & k = j ;  // int const &\n",
    "auto const * l = &k ; // int const *"
   ]
  },
  {
   "cell_type": "markdown",
   "metadata": {
    "attributes": {
     "classes": [
      "cpp"
     ],
     "id": ""
    },
    "slideshow": {
     "slide_type": "slide"
    }
   },
   "source": [
    "## Keyword `decltype`"
   ]
  },
  {
   "cell_type": "markdown",
   "metadata": {
    "slideshow": {
     "slide_type": "subslide"
    }
   },
   "source": [
    "#### In order to reuse the type of an expression "
   ]
  },
  {
   "cell_type": "code",
   "execution_count": null,
   "metadata": {
    "slideshow": {
     "slide_type": "subslide"
    }
   },
   "outputs": [],
   "source": [
    "std::map<std::vector<int>,std::list<float>> collection1 ;\n",
    "decltype(collection1) collection2 ;"
   ]
  },
  {
   "cell_type": "markdown",
   "metadata": {
    "slideshow": {
     "slide_type": "subslide"
    }
   },
   "source": [
    "#### So to help type inference, when there is no initial value"
   ]
  },
  {
   "cell_type": "code",
   "execution_count": null,
   "metadata": {
    "slideshow": {
     "slide_type": "subslide"
    }
   },
   "outputs": [],
   "source": [
    "std::map<std::vector<int>,std::list<float>> collection ;\n",
    "decltype(collection)::iterator n ;"
   ]
  },
  {
   "cell_type": "markdown",
   "metadata": {
    "slideshow": {
     "slide_type": "subslide"
    }
   },
   "source": [
    "#### So to avoid `const` and `&` dropping"
   ]
  },
  {
   "cell_type": "code",
   "execution_count": null,
   "metadata": {
    "slideshow": {
     "slide_type": "subslide"
    }
   },
   "outputs": [],
   "source": [
    "int i = 10 ;           // int\n",
    "int & j = i ;          // int &\n",
    "decltype(auto) k = i ; // int\n",
    "decltype(auto) l = j ; // int &"
   ]
  },
  {
   "cell_type": "markdown",
   "metadata": {
    "slideshow": {
     "slide_type": "slide"
    }
   },
   "source": [
    "## Within a range-based for"
   ]
  },
  {
   "cell_type": "markdown",
   "metadata": {
    "slideshow": {
     "slide_type": "subslide"
    }
   },
   "source": [
    "#### Remember this new way to parse a collection (which has a `begin()` and `end()`):"
   ]
  },
  {
   "cell_type": "code",
   "execution_count": null,
   "metadata": {
    "attributes": {
     "classes": [
      "cpp"
     ],
     "id": ""
    },
    "slideshow": {
     "slide_type": "fragment"
    }
   },
   "outputs": [],
   "source": [
    "#include <iostream>"
   ]
  },
  {
   "cell_type": "code",
   "execution_count": null,
   "metadata": {
    "attributes": {
     "classes": [
      "cpp"
     ],
     "id": ""
    },
    "slideshow": {
     "slide_type": "fragment"
    }
   },
   "outputs": [],
   "source": [
    "const int MAX = 5 ;\n",
    "double values[MAX] = { 1.1, 2.2, 3.3, 4.4, 5.5 } ;\n",
    "for ( double value : values  )\n",
    " { std::cout << value << \" \" ; }\n",
    "std::cout << std::endl ;"
   ]
  },
  {
   "cell_type": "markdown",
   "metadata": {
    "slideshow": {
     "slide_type": "subslide"
    }
   },
   "source": [
    "#### Do not forget the `&` when you want to modify any element"
   ]
  },
  {
   "cell_type": "code",
   "execution_count": null,
   "metadata": {
    "attributes": {
     "classes": [
      "cpp"
     ],
     "id": ""
    },
    "slideshow": {
     "slide_type": "fragment"
    }
   },
   "outputs": [],
   "source": [
    "const int MAX = 5 ;\n",
    "double values[MAX] = { 1.1, 2.2, 3.3, 4.4, 5.5 } ;\n",
    "for ( double & value : values  )\n",
    " { value *= 2 ; }\n",
    "for ( double value : values  )\n",
    " { std::cout << value << \" \" ; }\n",
    "std::cout << std::endl ;"
   ]
  },
  {
   "cell_type": "markdown",
   "metadata": {
    "slideshow": {
     "slide_type": "subslide"
    }
   },
   "source": [
    "#### The same with `auto`"
   ]
  },
  {
   "cell_type": "code",
   "execution_count": null,
   "metadata": {
    "attributes": {
     "classes": [
      "cpp"
     ],
     "id": ""
    },
    "slideshow": {
     "slide_type": "fragment"
    }
   },
   "outputs": [],
   "source": [
    "const int MAX = 5 ;\n",
    "double values[MAX] = { 1.1, 2.2, 3.3, 4.4, 5.5 } ;\n",
    "for ( auto & value : values  )\n",
    " { value *= 2 ; }\n",
    "for ( auto value : values  )\n",
    " { std::cout << value << \" \" ; }\n",
    "std::cout << std::endl ;"
   ]
  },
  {
   "cell_type": "markdown",
   "metadata": {
    "slideshow": {
     "slide_type": "slide"
    }
   },
   "source": [
    "## Function return type"
   ]
  },
  {
   "cell_type": "markdown",
   "metadata": {
    "slideshow": {
     "slide_type": "subslide"
    }
   },
   "source": [
    "#### Trailing return type:  explicit it after the function arguments"
   ]
  },
  {
   "cell_type": "code",
   "execution_count": null,
   "metadata": {
    "slideshow": {
     "slide_type": "fragment"
    }
   },
   "outputs": [],
   "source": [
    "%%file tmp.type-inference.cpp\n",
    "\n",
    "#include <iostream>\n",
    "\n",
    "auto add( double a, double b ) -> double\n",
    " { return a+b ; }\n",
    " \n",
    "int main()\n",
    " {\n",
    "  std::cout<<add(10,32)<<std::endl ;\n",
    " }"
   ]
  },
  {
   "cell_type": "code",
   "execution_count": null,
   "metadata": {
    "slideshow": {
     "slide_type": "fragment"
    }
   },
   "outputs": [],
   "source": [
    "!rm -f tmp.type-inference.exe && g++ -std=c++17 tmp.type-inference.cpp -o tmp.type-inference.exe"
   ]
  },
  {
   "cell_type": "code",
   "execution_count": null,
   "metadata": {
    "slideshow": {
     "slide_type": "fragment"
    }
   },
   "outputs": [],
   "source": [
    "!./tmp.type-inference.exe"
   ]
  },
  {
   "cell_type": "markdown",
   "metadata": {
    "slideshow": {
     "slide_type": "subslide"
    }
   },
   "source": [
    "#### Sometimes, trailing return type is the only option"
   ]
  },
  {
   "cell_type": "code",
   "execution_count": null,
   "metadata": {
    "slideshow": {
     "slide_type": "fragment"
    }
   },
   "outputs": [],
   "source": [
    "%%file tmp.type-inference.cpp\n",
    "\n",
    "#include <iostream>\n",
    "\n",
    "template <typename A, typename B>\n",
    "auto add( A a, B b ) -> decltype(a+b)\n",
    " { return a+b ; }\n",
    " \n",
    "int main()\n",
    " {\n",
    "  std::cout<<add(10,32)<<std::endl ;\n",
    " }\n"
   ]
  },
  {
   "cell_type": "code",
   "execution_count": null,
   "metadata": {
    "slideshow": {
     "slide_type": "fragment"
    }
   },
   "outputs": [],
   "source": [
    "!rm -f tmp.type-inference.exe && g++ -std=c++17 tmp.type-inference.cpp -o tmp.type-inference.exe"
   ]
  },
  {
   "cell_type": "code",
   "execution_count": null,
   "metadata": {
    "slideshow": {
     "slide_type": "fragment"
    }
   },
   "outputs": [],
   "source": [
    "!./tmp.type-inference.exe"
   ]
  },
  {
   "cell_type": "markdown",
   "metadata": {
    "slideshow": {
     "slide_type": "subslide"
    }
   },
   "source": [
    "#### The return type can now be deduced from the `return` instructions"
   ]
  },
  {
   "cell_type": "code",
   "execution_count": null,
   "metadata": {
    "slideshow": {
     "slide_type": "fragment"
    }
   },
   "outputs": [],
   "source": [
    "auto nb( unsigned i )\n",
    " {\n",
    "  if (i<10) return 1 ;\n",
    "  if (i<100) return 2 ;\n",
    "  return 99 ;\n",
    " }"
   ]
  },
  {
   "cell_type": "code",
   "execution_count": null,
   "metadata": {
    "slideshow": {
     "slide_type": "fragment"
    }
   },
   "outputs": [],
   "source": [
    "std::cout << nb(5) << std::endl ;\n",
    "std::cout << nb(50) << std::endl ;\n",
    "std::cout << nb(500) << std::endl ;"
   ]
  },
  {
   "cell_type": "markdown",
   "metadata": {
    "slideshow": {
     "slide_type": "subslide"
    }
   },
   "source": [
    "**BUT**, any client code of such a function need to know the return type, thus need to know the implementation of the function. Unless for trivial school cases, this is not relevant for normal functions, where the function declaration and the function definition do not stay in the same file. It is more suitable for function templates (and lambdas)."
   ]
  },
  {
   "cell_type": "markdown",
   "metadata": {
    "slideshow": {
     "slide_type": "slide"
    }
   },
   "source": [
    "## Function arguments types"
   ]
  },
  {
   "cell_type": "markdown",
   "metadata": {
    "slideshow": {
     "slide_type": "subslide"
    }
   },
   "source": [
    "Starting with C++20, or with a very recent version of `gcc` and the option `-fconcepts`, one can ever omit the type of some function arguments. It is interpreted as a function template, and called **abbreviated function template**."
   ]
  },
  {
   "cell_type": "code",
   "execution_count": null,
   "metadata": {
    "slideshow": {
     "slide_type": "fragment"
    }
   },
   "outputs": [],
   "source": [
    "%%file tmp.type-inference.cpp\n",
    "\n",
    "#include <iostream>\n",
    "\n",
    "void ajoute( auto a, auto b )\n",
    " { std::cout<<(a+b)<<std::endl ; }\n",
    "\n",
    "int main()\n",
    " {\n",
    "  ajoute(10,32) ; \n",
    "  ajoute(1.0,2.14) ; \n",
    " }"
   ]
  },
  {
   "cell_type": "code",
   "execution_count": null,
   "metadata": {
    "slideshow": {
     "slide_type": "fragment"
    }
   },
   "outputs": [],
   "source": [
    "!rm -f tmp.type-inference.exe && g++ -std=c++17 -fconcepts tmp.type-inference.cpp -o tmp.type-inference.exe"
   ]
  },
  {
   "cell_type": "code",
   "execution_count": null,
   "metadata": {
    "slideshow": {
     "slide_type": "fragment"
    }
   },
   "outputs": [],
   "source": [
    "!./tmp.type-inference.exe"
   ]
  },
  {
   "cell_type": "markdown",
   "metadata": {
    "slideshow": {
     "slide_type": "subslide"
    }
   },
   "source": [
    "**Beware** : it is not yet allowed to insert `auto` within a type more complex, such as `std::vector<auto>`. If you need such things, come back to the usual template notation."
   ]
  },
  {
   "cell_type": "markdown",
   "metadata": {
    "slideshow": {
     "slide_type": "slide"
    }
   },
   "source": [
    "## Exercise\n",
    "\n",
    "Simplify the code below as much as you can."
   ]
  },
  {
   "cell_type": "code",
   "execution_count": 1,
   "metadata": {
    "slideshow": {
     "slide_type": "fragment"
    }
   },
   "outputs": [
    {
     "name": "stdout",
     "output_type": "stream",
     "text": [
      "Writing tmp.type-inference.cpp\n"
     ]
    }
   ],
   "source": [
    "%%file tmp.type-inference.cpp\n",
    "\n",
    "#include <iostream>\n",
    "\n",
    "template< typename T1, typename T2, typename T3 >\n",
    "T3 add( T1 a, T2 b )\n",
    " { return (a+b) ; }\n",
    " \n",
    "int main()\n",
    " {\n",
    "  std::cout<<add<int,int,int>(10,32)<<std::endl ; \n",
    "  std::cout<<add<int,double,double>(1,2.14)<<std::endl ; \n",
    "  std::cout<<add<double,double,double>(1.0,2.14)<<std::endl ; \n",
    " }"
   ]
  },
  {
   "cell_type": "code",
   "execution_count": 2,
   "metadata": {
    "slideshow": {
     "slide_type": "fragment"
    }
   },
   "outputs": [],
   "source": [
    "!rm -f tmp.type-inference.exe && g++ -std=c++17 -fconcepts tmp.type-inference.cpp -o tmp.type-inference.exe"
   ]
  },
  {
   "cell_type": "code",
   "execution_count": 3,
   "metadata": {
    "slideshow": {
     "slide_type": "fragment"
    }
   },
   "outputs": [
    {
     "name": "stdout",
     "output_type": "stream",
     "text": [
      "42\n",
      "3.14\n",
      "3.14\n"
     ]
    }
   ],
   "source": [
    "!./tmp.type-inference.exe"
   ]
  },
  {
   "cell_type": "markdown",
   "metadata": {
    "slideshow": {
     "slide_type": "notes"
    }
   },
   "source": [
    "© *CNRS 2020*  \n",
    "*Assembled and written by David Chamont, this work is made available according to the terms of the*  \n",
    "[*Creative Commons License - Attribution - NonCommercial - ShareAlike 4.0 International*](http://creativecommons.org/licenses/by-nc-sa/4.0/)"
   ]
  }
 ],
 "metadata": {
  "celltoolbar": "Diaporama",
  "kernelspec": {
   "display_name": "C++17",
   "language": "C++17",
   "name": "xcpp17"
  },
  "language_info": {
   "codemirror_mode": "text/x-c++src",
   "file_extension": ".cpp",
   "mimetype": "text/x-c++src",
   "name": "c++",
   "version": "17"
  }
 },
 "nbformat": 4,
 "nbformat_minor": 4
}
