{
 "cells": [
  {
   "cell_type": "markdown",
   "metadata": {
    "slideshow": {
     "slide_type": "slide"
    }
   },
   "source": [
    "# Concurrent programming in C ++\n",
    "\n",
    "C ++ 11 standardized the management of threads. Previously,\n",
    "developers had to use different libraries in Windows or Unix environments.\n",
    "\n",
    "Note: although writing of multi-threaded code is standardized, its execution\n",
    "requires a back-end implementation. Under Unix, it is necessary\n",
    "compile with the `-pthread` option.\n",
    "\n",
    "* [Creating threads](1-thread.ipynb).\n",
    "* [Locking of shared data](2-mutex.ipynb).\n",
    "* [Asynchronous execution](3-async.ipynb).\n",
    "\n",
    "In addition, C ++ 17 takes a first step in the direction of parallelization\n",
    "automatic code, by adding a new argument, the \"execution policy\" to many algorithms of the standard library.\n",
    "\n",
    "* [New execution strategies](4-execution.ipynb)."
   ]
  },
  {
   "cell_type": "markdown",
   "metadata": {
    "slideshow": {
     "slide_type": "skip"
    }
   },
   "source": [
    "© *CNRS 2019*\n",
    "*This document was created by David Chamont and translated by Olga Abramkina. It is available under the [License Creative Commons - Attribution - No commercial use - Shared under the conditions 4.0 International](http://creativecommons.org/licenses/by-nc-sa/4.0/)*"
   ]
  }
 ],
 "metadata": {
  "celltoolbar": "Diaporama",
  "kernelspec": {
   "display_name": "Python 3 (ipykernel)",
   "language": "python",
   "name": "python3"
  },
  "language_info": {
   "codemirror_mode": {
    "name": "ipython",
    "version": 3
   },
   "file_extension": ".py",
   "mimetype": "text/x-python",
   "name": "python",
   "nbconvert_exporter": "python",
   "pygments_lexer": "ipython3",
   "version": "3.9.12"
  }
 },
 "nbformat": 4,
 "nbformat_minor": 4
}
