{
 "cells": [
  {
   "cell_type": "markdown",
   "metadata": {
    "slideshow": {
     "slide_type": "slide"
    }
   },
   "source": [
    "# Threads\n",
    "\n",
    "The C ++ language itself offers no support for parallelism, but since C ++ 11, the standard library offers support for multi-threaded programming. It is essentially a common interface to long-available implementations on Linux (pthread) and Windows."
   ]
  },
  {
   "cell_type": "markdown",
   "metadata": {
    "slideshow": {
     "slide_type": "fragment"
    }
   },
   "source": [
    "**BEWARE**: under Linux, despite the common interface offered by C ++ 11, it is still essential to put the specific option `-lpthread` on the link command, because the binary will need the **pthread backend** at runtime."
   ]
  },
  {
   "cell_type": "markdown",
   "metadata": {
    "slideshow": {
     "slide_type": "slide"
    }
   },
   "source": [
    "## Launching and waiting for a thread"
   ]
  },
  {
   "cell_type": "markdown",
   "metadata": {
    "slideshow": {
     "slide_type": "fragment"
    }
   },
   "source": [
    "We can outsource the execution of a function to another thread simply by creating an instance of **`std::thread`**, to which we give as argument the name of the function to execute. The creation of this instance is **non-blocking**: while the thread takes over the execution of the outsourced function, the main program continues its execution without waiting."
   ]
  },
  {
   "cell_type": "markdown",
   "metadata": {
    "slideshow": {
     "slide_type": "fragment"
    }
   },
   "source": [
    "When we need to make sure that a thread has finished its execution, we use the **`join()`** member function, which will be **blocking** as long as the process is not finished."
   ]
  },
  {
   "cell_type": "markdown",
   "metadata": {
    "slideshow": {
     "slide_type": "subslide"
    }
   },
   "source": [
    "**BEWARE**: for each thread launched, you will need at least one `join()` call in your main program. Without this, if your main program terminates while there are still running threads, the operating system will consider your program to be globally terminated and it will kill any running threads."
   ]
  },
  {
   "cell_type": "code",
   "execution_count": 1,
   "metadata": {
    "slideshow": {
     "slide_type": "skip"
    }
   },
   "outputs": [
    {
     "name": "stdout",
     "output_type": "stream",
     "text": [
      "Writing tmp.thread.h\n"
     ]
    }
   ],
   "source": [
    "%%file tmp.thread.h\n",
    "\n",
    "#include <cstdio>\n",
    "#include <chrono>\n",
    "#include <thread>\n",
    "\n",
    "using namespace std::chrono_literals ;"
   ]
  },
  {
   "cell_type": "code",
   "execution_count": 2,
   "metadata": {
    "slideshow": {
     "slide_type": "subslide"
    }
   },
   "outputs": [
    {
     "name": "stdout",
     "output_type": "stream",
     "text": [
      "Writing tmp.thread-add.h\n"
     ]
    }
   ],
   "source": [
    "%%file tmp.thread-add.h\n",
    "\n",
    "void addition()\n",
    " {\n",
    "  int res = 0 ;\n",
    "  for ( int i=1 ; i<=5 ; ++i )\n",
    "   {\n",
    "    res += i ;\n",
    "    std::this_thread::sleep_for(10us) ;\n",
    "    printf(\"...addition : %d => %d\\n\",i,res) ;\n",
    "   }\n",
    "  printf(\"=> final addition: %d\\n\",res) ;\n",
    " }"
   ]
  },
  {
   "cell_type": "code",
   "execution_count": 3,
   "metadata": {
    "slideshow": {
     "slide_type": "subslide"
    }
   },
   "outputs": [
    {
     "name": "stdout",
     "output_type": "stream",
     "text": [
      "Writing tmp.thread-mul.h\n"
     ]
    }
   ],
   "source": [
    "%%file tmp.thread-mul.h\n",
    "\n",
    "void multiplication()\n",
    " {\n",
    "  int res = 1 ;\n",
    "  for ( int i=1 ; i<=5 ; ++i )\n",
    "   {\n",
    "    res *= i ;\n",
    "    std::this_thread::sleep_for(50us) ;\n",
    "    printf(\"...multiplication : %d => %d\\n\",i,res) ;\n",
    "   }\n",
    "  printf(\"=> final multiplication: %d\\n\",res) ;\n",
    " }"
   ]
  },
  {
   "cell_type": "code",
   "execution_count": 4,
   "metadata": {
    "slideshow": {
     "slide_type": "subslide"
    }
   },
   "outputs": [
    {
     "name": "stdout",
     "output_type": "stream",
     "text": [
      "Writing tmp.thread.cpp\n"
     ]
    }
   ],
   "source": [
    "%%file tmp.thread.cpp\n",
    "\n",
    "#include \"tmp.thread.h\"\n",
    "#include \"tmp.thread-add.h\"\n",
    "#include \"tmp.thread-mul.h\"\n",
    "\n",
    "int main()\n",
    " {\n",
    "  std::thread t1(addition) ;\n",
    "  std::thread t2(multiplication) ;\n",
    "  //... \n",
    "  t1.join() ;\n",
    "  t2.join() ;\n",
    "  return 0 ;\n",
    " }"
   ]
  },
  {
   "cell_type": "code",
   "execution_count": 5,
   "metadata": {
    "slideshow": {
     "slide_type": "skip"
    }
   },
   "outputs": [],
   "source": [
    "!rm -f tmp.thread.exe && g++ -std=c++17 -lpthread tmp.thread.cpp -o tmp.thread.exe"
   ]
  },
  {
   "cell_type": "code",
   "execution_count": 6,
   "metadata": {
    "slideshow": {
     "slide_type": "subslide"
    }
   },
   "outputs": [
    {
     "name": "stdout",
     "output_type": "stream",
     "text": [
      "...addition : 1 => 1\r\n",
      "...multiplication : 1 => 1\r\n",
      "...addition : 2 => 3\r\n",
      "...multiplication : 2 => 2\r\n",
      "...addition : 3 => 6\r\n",
      "...addition : 4 => 10\r\n",
      "...multiplication : 3 => 6\r\n",
      "...addition : 5 => 15\r\n",
      "=> final addition: 15\r\n",
      "...multiplication : 4 => 24\r\n",
      "...multiplication : 5 => 120\r\n",
      "=> final multiplication: 120\r\n"
     ]
    }
   ],
   "source": [
    "!./tmp.thread.exe"
   ]
  },
  {
   "cell_type": "markdown",
   "metadata": {
    "slideshow": {
     "slide_type": "slide"
    }
   },
   "source": [
    "## Passing arguments\n",
    "\n",
    "When building the `std::thread` instance, we can add additional arguments that will be passed to the called function:"
   ]
  },
  {
   "cell_type": "code",
   "execution_count": 7,
   "metadata": {
    "slideshow": {
     "slide_type": "skip"
    }
   },
   "outputs": [
    {
     "name": "stdout",
     "output_type": "stream",
     "text": [
      "Overwriting tmp.thread.h\n"
     ]
    }
   ],
   "source": [
    "%%file tmp.thread.h\n",
    "\n",
    "#include <cstdio>\n",
    "#include <chrono>\n",
    "#include <thread>\n",
    "#include <cassert>\n",
    "#include <cstdlib>\n",
    "\n",
    "using namespace std::chrono_literals ;"
   ]
  },
  {
   "cell_type": "code",
   "execution_count": 8,
   "metadata": {
    "slideshow": {
     "slide_type": "subslide"
    }
   },
   "outputs": [
    {
     "name": "stdout",
     "output_type": "stream",
     "text": [
      "Overwriting tmp.thread-add.h\n"
     ]
    }
   ],
   "source": [
    "%%file tmp.thread-add.h\n",
    "\n",
    "void addition( int nb )\n",
    " {\n",
    "  int res = 0 ;\n",
    "  for ( int i=1 ; i<=nb ; ++i )\n",
    "   {\n",
    "    res += i ;\n",
    "    std::this_thread::sleep_for(10us) ;\n",
    "    printf(\"...addition : %d => %d\\n\",i,res) ;\n",
    "   }\n",
    "  printf(\"=> final addition: %d\\n\",res) ;\n",
    " }"
   ]
  },
  {
   "cell_type": "code",
   "execution_count": 9,
   "metadata": {
    "slideshow": {
     "slide_type": "subslide"
    }
   },
   "outputs": [
    {
     "name": "stdout",
     "output_type": "stream",
     "text": [
      "Overwriting tmp.thread-mul.h\n"
     ]
    }
   ],
   "source": [
    "%%file tmp.thread-mul.h\n",
    "\n",
    "void multiplication( int nb )\n",
    " {\n",
    "  int res = 1 ;\n",
    "  for ( int i=1 ; i<=nb ; ++i )\n",
    "   {\n",
    "    res *= i ;\n",
    "    std::this_thread::sleep_for(50us) ;\n",
    "    printf(\"...multiplication : %d => %d\\n\",i,res) ;\n",
    "   }\n",
    "  printf(\"=> final multiplication: %d\\n\",res) ;\n",
    " }"
   ]
  },
  {
   "cell_type": "code",
   "execution_count": 10,
   "metadata": {
    "slideshow": {
     "slide_type": "subslide"
    }
   },
   "outputs": [
    {
     "name": "stdout",
     "output_type": "stream",
     "text": [
      "Overwriting tmp.thread.cpp\n"
     ]
    }
   ],
   "source": [
    "%%file tmp.thread.cpp\n",
    "\n",
    "#include \"tmp.thread.h\"\n",
    "#include \"tmp.thread-add.h\"\n",
    "#include \"tmp.thread-mul.h\"\n",
    "\n",
    "int main( int argc, char * * argv )\n",
    " {\n",
    "  assert(argc==2) ;\n",
    "  int nb = atoi(argv[1]) ;\n",
    "  std::thread t1(addition,nb) ;\n",
    "  std::thread t2(multiplication,nb) ;\n",
    "  //...\n",
    "  t1.join() ;\n",
    "  t2.join() ;\n",
    " }"
   ]
  },
  {
   "cell_type": "code",
   "execution_count": 11,
   "metadata": {
    "slideshow": {
     "slide_type": "skip"
    }
   },
   "outputs": [],
   "source": [
    "!rm -f tmp.thread.exe && g++ -std=c++17 -lpthread tmp.thread.cpp -o tmp.thread.exe"
   ]
  },
  {
   "cell_type": "code",
   "execution_count": 12,
   "metadata": {
    "slideshow": {
     "slide_type": "subslide"
    }
   },
   "outputs": [
    {
     "name": "stdout",
     "output_type": "stream",
     "text": [
      "...addition : 1 => 1\r\n",
      "...multiplication : 1 => 1\r\n",
      "...addition : 2 => 3\r\n",
      "...multiplication : 2 => 2\r\n",
      "...addition : 3 => 6\r\n",
      "...addition : 4 => 10\r\n",
      "...multiplication : 3 => 6\r\n",
      "...addition : 5 => 15\r\n",
      "=> final addition: 15\r\n",
      "...multiplication : 4 => 24\r\n",
      "...multiplication : 5 => 120\r\n",
      "=> final multiplication: 120\r\n"
     ]
    }
   ],
   "source": [
    "!./tmp.thread.exe 5"
   ]
  },
  {
   "cell_type": "markdown",
   "metadata": {
    "slideshow": {
     "slide_type": "subslide"
    }
   },
   "source": [
    "As you may notice, all the functions proposed above do not return anything. Since their execution is delegated to another thread, there is **no immediately available result that can be stored in a variable**.\n",
    "\n",
    "An alternative is to pass the function argument **by reference**, in which the function can store its result, but...\n",
    "\n",
    "**BEWARE**: when creating an instance of `std::thread`, because of the time it takes to prepare the process, the function arguments are **duplicated by value**, before being subsequently passed to the function. If you want to pass arguments by reference to the function in order to preserve their reference qualification, you must wrap the value within **`std::ref()`**. In addition, you cannot be sure the variable has been filled, until you make a call to `join()`."
   ]
  },
  {
   "cell_type": "code",
   "execution_count": 15,
   "metadata": {
    "slideshow": {
     "slide_type": "subslide"
    }
   },
   "outputs": [
    {
     "name": "stdout",
     "output_type": "stream",
     "text": [
      "Overwriting tmp.thread-add.h\n"
     ]
    }
   ],
   "source": [
    "%%file tmp.thread-add.h\n",
    "\n",
    "void addition( int nb, int & res )\n",
    " {\n",
    "  res = 0 ;\n",
    "  for ( int i=1 ; i<=nb ; ++i )\n",
    "   {\n",
    "    res += i ;\n",
    "    std::this_thread::sleep_for(10us) ;\n",
    "    printf(\"...addition : %d => %d\\n\",i,res) ;\n",
    "   }\n",
    " }"
   ]
  },
  {
   "cell_type": "code",
   "execution_count": 16,
   "metadata": {
    "slideshow": {
     "slide_type": "subslide"
    }
   },
   "outputs": [
    {
     "name": "stdout",
     "output_type": "stream",
     "text": [
      "Overwriting tmp.thread-mul.h\n"
     ]
    }
   ],
   "source": [
    "%%file tmp.thread-mul.h\n",
    "\n",
    "void multiplication( int nb, int & res )\n",
    " {\n",
    "  res = 1 ;\n",
    "  for ( int i=1 ; i<=nb ; ++i )\n",
    "   {\n",
    "    res *= i ;\n",
    "    std::this_thread::sleep_for(50us) ;\n",
    "    printf(\"...multiplication : %d => %d\\n\",i,res) ;\n",
    "   }\n",
    " }"
   ]
  },
  {
   "cell_type": "code",
   "execution_count": 17,
   "metadata": {
    "slideshow": {
     "slide_type": "subslide"
    }
   },
   "outputs": [
    {
     "name": "stdout",
     "output_type": "stream",
     "text": [
      "Overwriting tmp.thread.cpp\n"
     ]
    }
   ],
   "source": [
    "%%file tmp.thread.cpp\n",
    "\n",
    "#include \"tmp.thread.h\"\n",
    "#include \"tmp.thread-add.h\"\n",
    "#include \"tmp.thread-mul.h\"\n",
    "\n",
    "int main( int argc, char * argv[] )\n",
    " {\n",
    "  assert(argc==2) ;\n",
    "  int nb = atoi(argv[1]) ;\n",
    "  int res1, res2 ;\n",
    "  std::thread t1(addition,nb,std::ref(res1)) ;\n",
    "  std::thread t2(multiplication,nb,std::ref(res2)) ;\n",
    "  //...\n",
    "  t1.join() ;\n",
    "  t2.join() ;\n",
    "  printf(\"=> final addition: %d\\n\",res1) ;\n",
    "  printf(\"=> final multiplication: %d\\n\",res2) ;\n",
    " }"
   ]
  },
  {
   "cell_type": "code",
   "execution_count": 18,
   "metadata": {
    "slideshow": {
     "slide_type": "skip"
    }
   },
   "outputs": [],
   "source": [
    "!rm -f tmp.thread.exe && g++ -std=c++17 -lpthread tmp.thread.cpp -o tmp.thread.exe"
   ]
  },
  {
   "cell_type": "code",
   "execution_count": 19,
   "metadata": {
    "slideshow": {
     "slide_type": "subslide"
    }
   },
   "outputs": [
    {
     "name": "stdout",
     "output_type": "stream",
     "text": [
      "...addition : 1 => 1\r\n",
      "...multiplication : 1 => 1\r\n",
      "...addition : 2 => 3\r\n",
      "...multiplication : 2 => 2\r\n",
      "...addition : 3 => 6\r\n",
      "...addition : 4 => 10\r\n",
      "...multiplication : 3 => 6\r\n",
      "...addition : 5 => 15\r\n",
      "...multiplication : 4 => 24\r\n",
      "...multiplication : 5 => 120\r\n",
      "=> final addition: 15\r\n",
      "=> final multiplication: 120\r\n"
     ]
    }
   ],
   "source": [
    "!./tmp.thread.exe 5"
   ]
  },
  {
   "cell_type": "markdown",
   "metadata": {
    "slideshow": {
     "slide_type": "slide"
    }
   },
   "source": [
    "## Use of other \"callable\" entities\n",
    "\n",
    "An instance of `std::thread` can handle not only functions, but any kind of callable object, such as function objects:"
   ]
  },
  {
   "cell_type": "code",
   "execution_count": 18,
   "metadata": {
    "slideshow": {
     "slide_type": "subslide"
    }
   },
   "outputs": [
    {
     "name": "stdout",
     "output_type": "stream",
     "text": [
      "Overwriting tmp.thread-add.h\n"
     ]
    }
   ],
   "source": [
    "%%file tmp.thread-add.h\n",
    "\n",
    "class Addition\n",
    " {\n",
    "  public :\n",
    "    void operator()( int nb, int & res )\n",
    "     {\n",
    "      res = 0 ;\n",
    "      for ( int i=1 ; i<=nb ; ++i )\n",
    "       {\n",
    "        res += i ;\n",
    "        std::this_thread::sleep_for(10us) ;\n",
    "        printf(\"...addition : %d => %d\\n\",i,res) ;\n",
    "       }\n",
    "     }\n",
    " } ;"
   ]
  },
  {
   "cell_type": "code",
   "execution_count": 19,
   "metadata": {
    "slideshow": {
     "slide_type": "subslide"
    }
   },
   "outputs": [
    {
     "name": "stdout",
     "output_type": "stream",
     "text": [
      "Overwriting tmp.thread-mul.h\n"
     ]
    }
   ],
   "source": [
    "%%file tmp.thread-mul.h\n",
    "\n",
    "class Multiplication\n",
    " {\n",
    "  public :\n",
    "    Multiplication( int nb ) : m_nb(nb) {}\n",
    "    void operator()( int & res)\n",
    "     {\n",
    "      res = 1 ;\n",
    "      for ( int i=1 ; i<m_nb ; ++i )\n",
    "       {\n",
    "        res *= i ;\n",
    "        std::this_thread::sleep_for(50us) ;\n",
    "        printf(\"...multiplication : %d => %d\\n\",i,res) ;\n",
    "       }\n",
    "     }\n",
    "  private :\n",
    "    int const m_nb ;\n",
    " } ;"
   ]
  },
  {
   "cell_type": "code",
   "execution_count": 20,
   "metadata": {
    "slideshow": {
     "slide_type": "subslide"
    }
   },
   "outputs": [
    {
     "name": "stdout",
     "output_type": "stream",
     "text": [
      "Overwriting tmp.thread.cpp\n"
     ]
    }
   ],
   "source": [
    "%%file tmp.thread.cpp\n",
    "\n",
    "#include \"tmp.thread.h\"\n",
    "#include \"tmp.thread-add.h\"\n",
    "#include \"tmp.thread-mul.h\"\n",
    "\n",
    "int main( int argc, char * argv[] )\n",
    " {\n",
    "  assert(argc==2) ;\n",
    "  int nb = atoi(argv[1]) ;\n",
    "  int res1, res2 ;\n",
    "  std::thread t1(Addition(),nb,std::ref(res1)) ;\n",
    "  std::thread t2(Multiplication(nb),std::ref(res2)) ;\n",
    "  //...\n",
    "  t1.join() ;\n",
    "  t2.join() ;\n",
    "  printf(\"=> final addition: %d\\n\",res1) ;\n",
    "  printf(\"=> final multiplication: %d\\n\",res2) ;\n",
    "  return 0 ;\n",
    " }"
   ]
  },
  {
   "cell_type": "code",
   "execution_count": 21,
   "metadata": {
    "slideshow": {
     "slide_type": "skip"
    }
   },
   "outputs": [],
   "source": [
    "!rm -f tmp.thread.exe && g++ -std=c++17 -lpthread tmp.thread.cpp -o tmp.thread.exe"
   ]
  },
  {
   "cell_type": "code",
   "execution_count": 22,
   "metadata": {
    "slideshow": {
     "slide_type": "subslide"
    }
   },
   "outputs": [
    {
     "name": "stdout",
     "output_type": "stream",
     "text": [
      "...addition : 1 => 1\r\n",
      "...multiplication : 1 => 1\r\n",
      "...addition : 2 => 3\r\n",
      "...multiplication : 2 => 2\r\n",
      "...addition : 3 => 6\r\n",
      "...addition : 4 => 10\r\n",
      "...multiplication : 3 => 6\r\n",
      "...addition : 5 => 15\r\n",
      "...multiplication : 4 => 24\r\n",
      "...multiplication : 5 => 120\r\n",
      "=> final addition: 15\r\n",
      "=> final multiplication: 120\r\n"
     ]
    }
   ],
   "source": [
    "!./tmp.thread.exe 5"
   ]
  },
  {
   "cell_type": "markdown",
   "metadata": {
    "slideshow": {
     "slide_type": "subslide"
    }
   },
   "source": [
    "Or even lambdas:"
   ]
  },
  {
   "cell_type": "code",
   "execution_count": 23,
   "metadata": {
    "slideshow": {
     "slide_type": "subslide"
    }
   },
   "outputs": [
    {
     "name": "stdout",
     "output_type": "stream",
     "text": [
      "Overwriting tmp.thread-add.h\n"
     ]
    }
   ],
   "source": [
    "%%file tmp.thread-add.h\n",
    "\n",
    "auto make_add( int nb )\n",
    " {\n",
    "  return [nb]( int & res )\n",
    "   {\n",
    "    res = 0 ;\n",
    "    for ( int i=1 ; i<=nb ; ++i )\n",
    "     {\n",
    "      res += i ;\n",
    "      std::this_thread::sleep_for(10us) ;\n",
    "      printf(\"...addition : %d => %d\\n\",i,res) ;\n",
    "     }\n",
    "   } ;\n",
    " }\n",
    "    "
   ]
  },
  {
   "cell_type": "code",
   "execution_count": 24,
   "metadata": {
    "slideshow": {
     "slide_type": "subslide"
    }
   },
   "outputs": [
    {
     "name": "stdout",
     "output_type": "stream",
     "text": [
      "Overwriting tmp.thread-mul.h\n"
     ]
    }
   ],
   "source": [
    "%%file tmp.thread-mul.h\n",
    "\n",
    "auto make_mul( int nb )\n",
    " {\n",
    "  return [nb]( int & res )\n",
    "   {\n",
    "    res = 1 ;\n",
    "    for ( int i=1 ; i<=nb ; ++i )\n",
    "     {\n",
    "      res *= i ;\n",
    "      std::this_thread::sleep_for(50us) ;\n",
    "      printf(\"...multiplication : %d => %d\\n\",i,res) ;\n",
    "     }\n",
    "   } ;\n",
    " }"
   ]
  },
  {
   "cell_type": "code",
   "execution_count": 25,
   "metadata": {
    "slideshow": {
     "slide_type": "subslide"
    }
   },
   "outputs": [
    {
     "name": "stdout",
     "output_type": "stream",
     "text": [
      "Overwriting tmp.thread.cpp\n"
     ]
    }
   ],
   "source": [
    "%%file tmp.thread.cpp\n",
    "\n",
    "#include \"tmp.thread.h\"\n",
    "#include \"tmp.thread-add.h\"\n",
    "#include \"tmp.thread-mul.h\"\n",
    "\n",
    "int main( int argc, char * argv[] )\n",
    " {\n",
    "  assert(argc==2) ;\n",
    "  int nb = atoi(argv[1]) ;\n",
    "  int res1, res2 ;\n",
    "  std::thread t1(make_add(nb),std::ref(res1)) ;\n",
    "  std::thread t2(make_mul(nb),std::ref(res2)) ;\n",
    "  //...\n",
    "  t1.join() ;\n",
    "  t2.join() ;\n",
    "  printf(\"=> final addition: %d\\n\",res1) ;\n",
    "  printf(\"=> final multiplication: %d\\n\",res2) ;\n",
    "  return 0 ;\n",
    " }"
   ]
  },
  {
   "cell_type": "code",
   "execution_count": 26,
   "metadata": {
    "slideshow": {
     "slide_type": "skip"
    }
   },
   "outputs": [],
   "source": [
    "!rm -f tmp.thread.exe && g++ -std=c++17 -lpthread tmp.thread.cpp -o tmp.thread.exe"
   ]
  },
  {
   "cell_type": "code",
   "execution_count": 27,
   "metadata": {
    "scrolled": true,
    "slideshow": {
     "slide_type": "subslide"
    }
   },
   "outputs": [
    {
     "name": "stdout",
     "output_type": "stream",
     "text": [
      "...addition : 1 => 1\r\n",
      "...multiplication : 1 => 1\r\n",
      "...addition : 2 => 3\r\n",
      "...multiplication : 2 => 2\r\n",
      "...addition : 3 => 6\r\n",
      "...multiplication : 3 => 6\r\n",
      "...addition : 4 => 10\r\n",
      "...addition : 5 => 15\r\n",
      "...multiplication : 4 => 24\r\n",
      "...multiplication : 5 => 120\r\n",
      "=> final addition: 15\r\n",
      "=> final multiplication: 120\r\n"
     ]
    }
   ],
   "source": [
    "!./tmp.thread.exe 5"
   ]
  },
  {
   "cell_type": "markdown",
   "metadata": {
    "slideshow": {
     "slide_type": "slide"
    }
   },
   "source": [
    "# Questions ?"
   ]
  },
  {
   "cell_type": "markdown",
   "metadata": {
    "slideshow": {
     "slide_type": "skip"
    }
   },
   "source": [
    "# Exercise\n",
    "\n",
    "The program below takes as first argument the number of tasks to run in parallel. The function `complexes_pow` is designed to work on a single slice within a global array, but for now the main program executes these slices sequentially. After testing the execution of the cells below, modify the program using instances of `std::thread`, to result in a faster parallel execution (this happens mostly on the side of the ` // compute` section of the `main ()` function).\n",
    "\n",
    "The first execution of the script `tmp.thread.sh 2 2 3` manipulates arrays of 2 complexes and raises them to the power of 3. It mainly allows you to check that your calculations are correct and always return the same final result. The second execution `tmp.thread.sh 4 1024 100000` manipulates arrays of 1024 complex numbers and raises them to the power of 100000. It is on this heavier calculation that you should observe an acceleration if your parallelization is successful. \n",
    "\n",
    "<!-- Solution\n",
    "Don't forget -pthread on the compilation line\n",
    "-->"
   ]
  },
  {
   "cell_type": "code",
   "execution_count": 28,
   "metadata": {
    "slideshow": {
     "slide_type": "skip"
    }
   },
   "outputs": [
    {
     "name": "stdout",
     "output_type": "stream",
     "text": [
      "Overwriting tmp.thread.cpp\n"
     ]
    }
   ],
   "source": [
    "%%file tmp.thread.cpp\n",
    "\n",
    "#include <complex>\n",
    "#include <vector>\n",
    "#include <iostream>\n",
    "#include <cassert>\n",
    "#include <cmath>\n",
    "\n",
    "using Real = double ;\n",
    "using Complex = std::complex<Real> ;\n",
    "using Complexes = std::vector<Complex> ;\n",
    "\n",
    "// random unitary complexes\n",
    "void generate( Complexes & cs )\n",
    " {\n",
    "  srand(1) ;\n",
    "  for ( auto & c : cs )\n",
    "   { \n",
    "    Real angle {rand()/(Real(RAND_MAX)+1)*2.0*M_PI} ;\n",
    "    c = Complex{std::cos(angle),std::sin(angle)} ;\n",
    "   }\n",
    " }\n",
    "\n",
    "// compute a slice of xs^degree and store it into ys\n",
    "// xs.size() must be a multiple of nb_slices\n",
    "void complexes_pow\n",
    " ( std::size_t num_slice, std::size_t nb_slices,\n",
    "   Complexes const & xs, int degree, Complexes & ys )\n",
    " {\n",
    "  assert((xs.size()%nb_slices)==0) ;  \n",
    "  auto slice_size {xs.size()/nb_slices} ;\n",
    "  auto min {num_slice*slice_size} ;\n",
    "  auto max {(num_slice+1)*slice_size} ;\n",
    "     \n",
    "  for ( auto i {min} ; i<max ; ++i )\n",
    "   {\n",
    "    ys[i] = Complex{1.,0.} ;\n",
    "    for ( int d=0 ; d<degree ; ++d )\n",
    "     { ys[i] *= xs[i] ; }\n",
    "   }\n",
    " }\n",
    "\n",
    "// display the angle of the global product\n",
    "void postprocess( Complexes const & cs )\n",
    " {\n",
    "  Complex prod {1.,0.} ;\n",
    "  for( auto c : cs ) { prod *= c ; }\n",
    "  double angle {atan2(prod.imag(),prod.real())} ;\n",
    "  std::cout<<\"result = \"<<static_cast<int>(angle/2./M_PI*360.)<<\"\\n\" ;\n",
    " }\n",
    "\n",
    "// programme principal\n",
    "int main( int argc, char * argv[] )\n",
    " {\n",
    "  assert(argc==4) ;\n",
    "  std::size_t nbtasks {std::stoul(argv[1])} ;\n",
    "  std::size_t dim {std::stoul(argv[2])} ;\n",
    "  int degree {std::stoi(argv[3])} ;\n",
    "\n",
    "  // prepare input\n",
    "  Complexes input(dim) ;\n",
    "  generate(input) ;\n",
    "   \n",
    "  // compute ouput\n",
    "  Complexes output(dim) ;\n",
    "  for ( std::size_t numtask {0} ; numtask<nbtasks ; ++numtask )\n",
    "   { complexes_pow(numtask,nbtasks,input,degree,output) ; }\n",
    "  \n",
    "  // post-process\n",
    "  postprocess(output) ;\n",
    " }"
   ]
  },
  {
   "cell_type": "code",
   "execution_count": 29,
   "metadata": {
    "slideshow": {
     "slide_type": "skip"
    }
   },
   "outputs": [
    {
     "name": "stdout",
     "output_type": "stream",
     "text": [
      "Writing tmp.thread.sh\n"
     ]
    }
   ],
   "source": [
    "%%file tmp.thread.sh\n",
    "echo\n",
    "\n",
    "rm -f tmp.thread.exe \\\n",
    "&& g++ -std=c++17 -lpthread tmp.thread.cpp -o tmp.thread.exe\\\n",
    "&& time ./tmp.thread.exe $*\n",
    "\n",
    "echo"
   ]
  },
  {
   "cell_type": "code",
   "execution_count": 30,
   "metadata": {
    "slideshow": {
     "slide_type": "skip"
    }
   },
   "outputs": [
    {
     "name": "stdout",
     "output_type": "stream",
     "text": [
      "\n",
      "result = 101\n",
      "\n",
      "real\t0m0.006s\n",
      "user\t0m0.003s\n",
      "sys\t0m0.000s\n",
      "\n"
     ]
    }
   ],
   "source": [
    "! bash -l tmp.thread.sh 2 2 3"
   ]
  },
  {
   "cell_type": "code",
   "execution_count": 31,
   "metadata": {
    "slideshow": {
     "slide_type": "skip"
    }
   },
   "outputs": [
    {
     "name": "stdout",
     "output_type": "stream",
     "text": [
      "\n",
      "result = -15\n",
      "\n",
      "real\t0m1.548s\n",
      "user\t0m1.548s\n",
      "sys\t0m0.000s\n",
      "\n"
     ]
    }
   ],
   "source": [
    "! bash -l tmp.thread.sh 4 1024 100000"
   ]
  },
  {
   "cell_type": "markdown",
   "metadata": {
    "slideshow": {
     "slide_type": "skip"
    }
   },
   "source": [
    "© *CNRS 2021*  \n",
    "*This document was created by David Chamont and translated by Olga Abramkina. It is available under the [License Creative Commons - Attribution - No commercial use - Shared under the conditions 4.0 International](http://creativecommons.org/licenses/by-nc-sa/4.0/)*"
   ]
  }
 ],
 "metadata": {
  "celltoolbar": "Diaporama",
  "kernelspec": {
   "display_name": "Python 3 (ipykernel)",
   "language": "python",
   "name": "python3"
  },
  "language_info": {
   "codemirror_mode": {
    "name": "ipython",
    "version": 3
   },
   "file_extension": ".py",
   "mimetype": "text/x-python",
   "name": "python",
   "nbconvert_exporter": "python",
   "pygments_lexer": "ipython3",
   "version": "3.9.12"
  },
  "livereveal": {
   "scroll": true
  }
 },
 "nbformat": 4,
 "nbformat_minor": 4
}
