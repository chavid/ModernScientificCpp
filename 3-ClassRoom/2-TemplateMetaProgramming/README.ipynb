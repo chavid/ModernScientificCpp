{
 "cells": [
  {
   "cell_type": "markdown",
   "metadata": {
    "slideshow": {
     "slide_type": "slide"
    }
   },
   "source": [
    "# Template Meta Programming\n",
    "\n",
    "Template Meta Programming (TMP) produces code able to take types as input, apply operations on them, and/or return some types as a result. It enables to put contraints on the parameters of templates. It also calculates by anticipation, at compile time, any function whose input is known in advance. Such code, such as the [eigen](http://eigen.tuxfamily.org) library, is both high-level and efficient. Drawbacks are long compilation time, often unreadable error messages and inflated binaries.\n",
    "* [Legacy TMP](1-legacy-tmp.ipynb)\n",
    "* [Types Handling](2-types-handling.ipynb)\n",
    "* [Substitution Failure Is Not An Error](3-sfinae.ipynb)\n",
    "* [Concepts](4-concepts.ipynb)"
   ]
  },
  {
   "cell_type": "markdown",
   "metadata": {
    "slideshow": {
     "slide_type": "skip"
    }
   },
   "source": [
    "## Sources\n",
    "\n",
    "* [Effective Modern C++](http://www.amazon.fr/Effective-Modern-C-Scott-Meyers/dp/1491903996/ref=sr_1_2?ie=UTF8&qid=1410853138&sr=8-2&keywords=effective+C%2B%2B)"
   ]
  },
  {
   "cell_type": "markdown",
   "metadata": {
    "slideshow": {
     "slide_type": "skip"
    }
   },
   "source": [
    "© *CNRS 2021*  \n",
    "*This document was created by David Chamont. It is available under the [License Creative Commons - Attribution - No commercial use - Shared under the conditions 4.0 International](http://creativecommons.org/licenses/by-nc-sa/4.0/)*"
   ]
  }
 ],
 "metadata": {
  "celltoolbar": "Diaporama",
  "kernelspec": {
   "display_name": "C++17",
   "language": "C++17",
   "name": "xcpp17"
  },
  "language_info": {
   "codemirror_mode": "text/x-c++src",
   "file_extension": ".cpp",
   "mimetype": "text/x-c++src",
   "name": "c++",
   "version": "17"
  }
 },
 "nbformat": 4,
 "nbformat_minor": 4
}
