{
 "cells": [
  {
   "cell_type": "markdown",
   "metadata": {
    "slideshow": {
     "slide_type": "slide"
    }
   },
   "source": [
    "# About arrays\n",
    "\n",
    "Just as raw pointers are ambivalent, ordinary C arrays pose a number of problems in C ++, including uncontrolled implicit conversions to raw pointers."
   ]
  },
  {
   "cell_type": "markdown",
   "metadata": {
    "slideshow": {
     "slide_type": "fragment"
    }
   },
   "source": [
    "The GSL introduced a new type of array, better controlled, at no extra cost, which is now known as `std::array`."
   ]
  },
  {
   "cell_type": "markdown",
   "metadata": {
    "slideshow": {
     "slide_type": "fragment"
    }
   },
   "source": [
    "It also introduces a first kind of \"view\", `gsl::span`, a concept more and more popular in many languages."
   ]
  },
  {
   "cell_type": "markdown",
   "metadata": {
    "slideshow": {
     "slide_type": "slide"
    }
   },
   "source": [
    "## New fixed-size `std::array`\n",
    "\n",
    "The GSL discussed two new types of arrays:\n",
    "* `stack_array<T>`: an array allocated on the stack, with a fixed size, evaluable at compile time.\n",
    "* `dyn_array<T>`  : an array allocated on the heap, because its size is only known at runtime.\n",
    "\n",
    "Their elements are modifiable, unless the programmer instantiates the templates with a `const` type."
   ]
  },
  {
   "cell_type": "markdown",
   "metadata": {
    "slideshow": {
     "slide_type": "subslide"
    }
   },
   "source": [
    "The class `gsl::stack_array<T>` has been integrated into the standard C++11 library, as `std::array<T>`"
   ]
  },
  {
   "cell_type": "markdown",
   "metadata": {
    "slideshow": {
     "slide_type": "fragment"
    }
   },
   "source": [
    "Regarding `gsl::dyn_array<T>`, it has not been implemented as such, but we can use `std::valarray` for a similar purpose (as long as we do not use the mathematical functions together with a non-numeric parameter type). "
   ]
  },
  {
   "cell_type": "markdown",
   "metadata": {
    "slideshow": {
     "slide_type": "subslide"
    }
   },
   "source": [
    "### Improving management of fixed-size arrays\n",
    "\n",
    "The `std::array` has **no extra cost** as compared to ordinary arrays. They respond to the **same interface**, except that it is necessary **to specify the type of the elements and the size of the array**. As a bonus, each element receives the default value of its type when this value is not supplied at construction."
   ]
  },
  {
   "cell_type": "code",
   "execution_count": 1,
   "metadata": {
    "slideshow": {
     "slide_type": "subslide"
    }
   },
   "outputs": [
    {
     "name": "stdout",
     "output_type": "stream",
     "text": [
      "Writing tmp.gsl-arrays.cpp\n"
     ]
    }
   ],
   "source": [
    "%%file tmp.gsl-arrays.cpp\n",
    "\n",
    "#include <iostream>\n",
    "#include <array>\n",
    "\n",
    "int main() {\n",
    "    std::array<int,5> arr { 1, 2, 3, 4 } ;\n",
    "    for ( auto elem : arr )\n",
    "      std::cout<<elem<<\" \" ; \n",
    "    std::cout<<std::endl ;\n",
    "}"
   ]
  },
  {
   "cell_type": "code",
   "execution_count": 2,
   "metadata": {
    "slideshow": {
     "slide_type": "skip"
    }
   },
   "outputs": [],
   "source": [
    "!rm -f tmp.gsl-arrays.exe && g++ -std=c++17 -I./ tmp.gsl-arrays.cpp -o tmp.gsl-arrays.exe"
   ]
  },
  {
   "cell_type": "code",
   "execution_count": 3,
   "metadata": {
    "slideshow": {
     "slide_type": "fragment"
    }
   },
   "outputs": [
    {
     "name": "stdout",
     "output_type": "stream",
     "text": [
      "1 2 3 4 0 \r\n"
     ]
    }
   ],
   "source": [
    "!./tmp.gsl-arrays.exe"
   ]
  },
  {
   "cell_type": "markdown",
   "metadata": {
    "slideshow": {
     "slide_type": "subslide"
    }
   },
   "source": [
    "### Possible check of indices\n",
    "\n",
    "One can access the elements of a `std::array` via the function `at()`, which checks the validity of the index (with extra cost), or via the traditional operator `[]`, which does not perform the check."
   ]
  },
  {
   "cell_type": "code",
   "execution_count": 4,
   "metadata": {
    "slideshow": {
     "slide_type": "subslide"
    }
   },
   "outputs": [
    {
     "name": "stdout",
     "output_type": "stream",
     "text": [
      "Overwriting tmp.gsl-arrays.cpp\n"
     ]
    }
   ],
   "source": [
    "%%file tmp.gsl-arrays.cpp\n",
    "\n",
    "#include <iostream>\n",
    "#include <array>\n",
    "\n",
    "int main()\n",
    " {\n",
    "  std::array<double, 5> array_double { 1.2, 3.4, 5.6 } ;\n",
    "  \n",
    "  std::cout << \"4th value = \" << array_double[3] << std::endl ;\n",
    "  array_double[4] = 9.9 ;\n",
    "  array_double[10] = 1.1 ; // Undefined behavior - no exception\n",
    "\n",
    "  std::cout << \"5th value = \" << array_double.at(4) << std::endl ;\n",
    "  array_double.at(10) = 1.1 ; // Exception std::out_of_range\n",
    " } "
   ]
  },
  {
   "cell_type": "code",
   "execution_count": 5,
   "metadata": {
    "slideshow": {
     "slide_type": "skip"
    }
   },
   "outputs": [],
   "source": [
    "!rm -f tmp.gsl-arrays.exe && g++ -std=c++17 -I./ tmp.gsl-arrays.cpp -o tmp.gsl-arrays.exe"
   ]
  },
  {
   "cell_type": "code",
   "execution_count": 6,
   "metadata": {
    "slideshow": {
     "slide_type": "fragment"
    }
   },
   "outputs": [
    {
     "name": "stdout",
     "output_type": "stream",
     "text": [
      "4th value = 0\r\n",
      "5th value = 9.9\r\n",
      "terminate called after throwing an instance of 'std::out_of_range'\r\n",
      "  what():  array::at: __n (which is 10) >= _Nm (which is 5)\r\n"
     ]
    }
   ],
   "source": [
    "!./tmp.gsl-arrays.exe"
   ]
  },
  {
   "cell_type": "markdown",
   "metadata": {
    "slideshow": {
     "slide_type": "subslide"
    }
   },
   "source": [
    "### Use of standard algorithms\n",
    "\n",
    "The usual algorithms of the standard library can be used, as with any other standard container."
   ]
  },
  {
   "cell_type": "code",
   "execution_count": 7,
   "metadata": {
    "slideshow": {
     "slide_type": "subslide"
    }
   },
   "outputs": [
    {
     "name": "stdout",
     "output_type": "stream",
     "text": [
      "Writing tmp.gsl-arrays.h\n"
     ]
    }
   ],
   "source": [
    "%%file tmp.gsl-arrays.h\n",
    "\n",
    "#include <array>\n",
    "#include <iostream>\n",
    "\n",
    "template <std::size_t N>\n",
    "using DoubleArray = std::array<double,N> ;\n",
    "\n",
    "template <std::size_t N>\n",
    "void print( DoubleArray<N> const & values )\n",
    " {\n",
    "  for ( double value : values )\n",
    "   { std::cout << value << \" \" ; }\n",
    "  std::cout << std::endl ;\n",
    " }"
   ]
  },
  {
   "cell_type": "code",
   "execution_count": 8,
   "metadata": {
    "slideshow": {
     "slide_type": "subslide"
    }
   },
   "outputs": [
    {
     "name": "stdout",
     "output_type": "stream",
     "text": [
      "Overwriting tmp.gsl-arrays.cpp\n"
     ]
    }
   ],
   "source": [
    "%%file tmp.gsl-arrays.cpp\n",
    "\n",
    "#include \"tmp.gsl-arrays.h\"\n",
    "#include <algorithm>\n",
    "\n",
    "int main()\n",
    " {\n",
    "  DoubleArray<5> a1 { 1.2, 3.4, 5.6 } ;\n",
    "  DoubleArray<5> a2 { 0.1, 0.2, 0.3, 1.4, 0.5 } ;\n",
    "  DoubleArray<5> a3 ;\n",
    "     \n",
    "  std::transform(a1.begin(),a1.end(),a2.begin(),a3.begin(),\n",
    "    []( double v1, double v2 ){ return v1+v2 ; } ) ;\n",
    "  print(a3) ;\n",
    "     \n",
    "  std::sort(a3.begin(),a3.end()) ;\n",
    "  print(a3) ;\n",
    " }"
   ]
  },
  {
   "cell_type": "code",
   "execution_count": 9,
   "metadata": {
    "slideshow": {
     "slide_type": "skip"
    }
   },
   "outputs": [],
   "source": [
    "!rm -f tmp.gsl-arrays.exe && g++ -std=c++17 -I./ tmp.gsl-arrays.cpp -o tmp.gsl-arrays.exe"
   ]
  },
  {
   "cell_type": "code",
   "execution_count": 10,
   "metadata": {
    "slideshow": {
     "slide_type": "fragment"
    }
   },
   "outputs": [
    {
     "name": "stdout",
     "output_type": "stream",
     "text": [
      "1.3 3.6 5.9 1.4 0.5 \r\n",
      "0.5 1.3 1.4 3.6 5.9 \r\n"
     ]
    }
   ],
   "source": [
    "!./tmp.gsl-arrays.exe"
   ]
  },
  {
   "cell_type": "markdown",
   "metadata": {
    "slideshow": {
     "slide_type": "slide"
    }
   },
   "source": [
    "## To reference a sequence of values: `gsl::span<T>`\n",
    "\n",
    "An instance of `span<T>` (previously called `array_view<T>`) denotes a sequence of modifiable instances of `T` (unless `T` is a `const` type). We are talking about a **non-owner view** in the sense that the instance of `span<T>` is built on top of another array, and only provides a simplified and standardized access to its elements."
   ]
  },
  {
   "cell_type": "markdown",
   "metadata": {
    "slideshow": {
     "slide_type": "subslide"
    }
   },
   "source": [
    "### Construction\n",
    "\n",
    "This type is the equivalent of a pointer and a size, and is based on the assumption that the **elements of the sequence are stored contiguously**. We can therefore only build a `gsl::span<T>` on top of arrays which comply with this memory contiguity, such as `std::vector<T>`, `std::array<T>`, `std::string` or a raw array `T[N]`."
   ]
  },
  {
   "cell_type": "code",
   "execution_count": 4,
   "metadata": {
    "slideshow": {
     "slide_type": "subslide"
    }
   },
   "outputs": [
    {
     "name": "stdout",
     "output_type": "stream",
     "text": [
      "Writing tmp.gsl-arrays.h\n"
     ]
    }
   ],
   "source": [
    "%%file tmp.gsl-arrays.h\n",
    "\n",
    "#include <iostream>\n",
    "#include <gsl/gsl>\n",
    "\n",
    "void display( gsl::span<const int> data )\n",
    " {\n",
    "  for ( auto e : data ) std::cout << e << ' ';\n",
    "  std::cout << std::endl;\n",
    " }"
   ]
  },
  {
   "cell_type": "code",
   "execution_count": 8,
   "metadata": {
    "slideshow": {
     "slide_type": "subslide"
    }
   },
   "outputs": [
    {
     "name": "stdout",
     "output_type": "stream",
     "text": [
      "Overwriting tmp.gsl-arrays.cpp\n"
     ]
    }
   ],
   "source": [
    "%%file tmp.gsl-arrays.cpp\n",
    "\n",
    "#include \"tmp.gsl-arrays.h\"\n",
    "#include <vector>\n",
    "#include <array>\n",
    "\n",
    "int main()\n",
    " {\n",
    "  std::vector<int> v { 1, 2, 3, 4, 5 };\n",
    "  display(v) ;\n",
    " \n",
    "  std::array<int, 5> a {1, 2, 3, 4, 5};\n",
    "  display(a) ;\n",
    " \n",
    "  int arr[] { 1, 2, 3, 4, 5 } ;\n",
    "  display(arr) ;\n",
    "}"
   ]
  },
  {
   "cell_type": "code",
   "execution_count": 9,
   "metadata": {
    "slideshow": {
     "slide_type": "skip"
    }
   },
   "outputs": [],
   "source": [
    "!rm -f tmp.gsl-arrays.exe && g++ -std=c++17 -I./ tmp.gsl-arrays.cpp -o tmp.gsl-arrays.exe"
   ]
  },
  {
   "cell_type": "code",
   "execution_count": 10,
   "metadata": {
    "slideshow": {
     "slide_type": "fragment"
    }
   },
   "outputs": [
    {
     "name": "stdout",
     "output_type": "stream",
     "text": [
      "1 2 3 4 5 \r\n",
      "1 2 3 4 5 \r\n",
      "1 2 3 4 5 \r\n"
     ]
    }
   ],
   "source": [
    "!./tmp.gsl-arrays.exe"
   ]
  },
  {
   "cell_type": "markdown",
   "metadata": {
    "slideshow": {
     "slide_type": "subslide"
    }
   },
   "source": [
    "### Static size\n",
    "\n",
    "In the previous examples, the view size was determined at runtime. When this size is known in advance, it can be specified explicitly and benefit from an optimized implementation."
   ]
  },
  {
   "cell_type": "code",
   "execution_count": 10,
   "metadata": {
    "slideshow": {
     "slide_type": "subslide"
    }
   },
   "outputs": [
    {
     "name": "stdout",
     "output_type": "stream",
     "text": [
      "Writing tmp.gsl-arrays.h\n"
     ]
    }
   ],
   "source": [
    "%%file tmp.gsl-arrays.h\n",
    "\n",
    "#include <iostream>\n",
    "#include <gsl/gsl>\n",
    "\n",
    "template <typename T, std::ptrdiff_t size = -1>\n",
    "void display( gsl::span<T,size> data )\n",
    " {\n",
    "   for( auto e : data)\n",
    "    { std::cout << e << ' ' ; }\n",
    "   std::cout << std::endl ;\n",
    " }"
   ]
  },
  {
   "cell_type": "code",
   "execution_count": 34,
   "metadata": {
    "slideshow": {
     "slide_type": "subslide"
    }
   },
   "outputs": [
    {
     "name": "stdout",
     "output_type": "stream",
     "text": [
      "Overwriting tmp.gsl-arrays.cpp\n"
     ]
    }
   ],
   "source": [
    "%%file tmp.gsl-arrays.cpp\n",
    "\n",
    "#include \"tmp.gsl-arrays.h\"\n",
    "#include <vector>\n",
    "#include <array>\n",
    "\n",
    "int main()\n",
    " {\n",
    "  std::vector<int> v { 1, 2, 3, 4, 5 };\n",
    "  display(gsl::span<int>{v}) ;\n",
    " \n",
    "  std::array<int, 5> a {1, 2, 3, 4, 5};\n",
    "  display(gsl::span<int,5>{a}) ;\n",
    " \n",
    "  int arr[] { 1, 2, 3, 4, 5 } ;\n",
    "  display(gsl::span<int,5>{arr}) ;\n",
    "}"
   ]
  },
  {
   "cell_type": "code",
   "execution_count": 35,
   "metadata": {
    "slideshow": {
     "slide_type": "skip"
    }
   },
   "outputs": [],
   "source": [
    "!rm -f tmp.gsl-arrays.exe && g++ -std=c++17 -I./ tmp.gsl-arrays.cpp -o tmp.gsl-arrays.exe"
   ]
  },
  {
   "cell_type": "code",
   "execution_count": 36,
   "metadata": {
    "slideshow": {
     "slide_type": "fragment"
    }
   },
   "outputs": [
    {
     "name": "stdout",
     "output_type": "stream",
     "text": [
      "1 2 3 4 5 \r\n",
      "1 2 3 4 5 \r\n",
      "1 2 3 4 5 \r\n"
     ]
    }
   ],
   "source": [
    "!./tmp.gsl-arrays.exe"
   ]
  },
  {
   "cell_type": "markdown",
   "metadata": {
    "slideshow": {
     "slide_type": "skip"
    }
   },
   "source": [
    "In `main`, we help with explicit calls to `gsl::span` constructors, because the compiler cannot both deduce the type of `T` (int) and insert the  implicit conversion into `gsl::span`."
   ]
  },
  {
   "cell_type": "markdown",
   "metadata": {
    "slideshow": {
     "slide_type": "skip"
    }
   },
   "source": [
    "Actually, when the size parameter of some `std::span` is not specified, it receives the default value `-1`, which means `dynamic_extent`."
   ]
  },
  {
   "cell_type": "markdown",
   "metadata": {
    "slideshow": {
     "slide_type": "subslide"
    }
   },
   "source": [
    "### Subviews\n",
    "\n",
    "A part of a view can be extracted from the start, from the end, or between the start and end the index (excluded) **at runtime, or at compile time** if the indices are already known."
   ]
  },
  {
   "cell_type": "code",
   "execution_count": 17,
   "metadata": {
    "slideshow": {
     "slide_type": "subslide"
    }
   },
   "outputs": [
    {
     "name": "stdout",
     "output_type": "stream",
     "text": [
      "Overwriting tmp.gsl-arrays.cpp\n"
     ]
    }
   ],
   "source": [
    "%%file tmp.gsl-arrays.cpp\n",
    "\n",
    "#include \"tmp.gsl-arrays.h\"\n",
    "#include <vector>\n",
    "\n",
    "int main()\n",
    " {\n",
    "  std::vector<double> data { 1.1, 2.2, 3.3, 4.4, 5.5 } ;\n",
    "  gsl::span<double> s{ data } ;\n",
    "\n",
    "  // run time\n",
    "  display(s.first(2)) ;\n",
    "  display(s.last(2)) ;\n",
    "  display(s.subspan(2,3)) ;\n",
    "}"
   ]
  },
  {
   "cell_type": "code",
   "execution_count": 18,
   "metadata": {
    "slideshow": {
     "slide_type": "skip"
    }
   },
   "outputs": [],
   "source": [
    "!rm -f tmp.gsl-arrays.exe && g++ -std=c++17 -I./ tmp.gsl-arrays.cpp -o tmp.gsl-arrays.exe"
   ]
  },
  {
   "cell_type": "code",
   "execution_count": 19,
   "metadata": {
    "slideshow": {
     "slide_type": "fragment"
    }
   },
   "outputs": [
    {
     "name": "stdout",
     "output_type": "stream",
     "text": [
      "1.1 2.2 \r\n",
      "4.4 5.5 \r\n",
      "3.3 4.4 5.5 \r\n"
     ]
    }
   ],
   "source": [
    "!./tmp.gsl-arrays.exe"
   ]
  },
  {
   "cell_type": "code",
   "execution_count": 21,
   "metadata": {
    "slideshow": {
     "slide_type": "subslide"
    }
   },
   "outputs": [
    {
     "name": "stdout",
     "output_type": "stream",
     "text": [
      "Overwriting tmp.gsl-arrays.cpp\n"
     ]
    }
   ],
   "source": [
    "%%file tmp.gsl-arrays.cpp\n",
    "\n",
    "#include \"tmp.gsl-arrays.h\"\n",
    " \n",
    "int main()\n",
    " {\n",
    "  std::array<int,5> data { 1, 2, 3, 4, 5 } ;\n",
    "  gsl::span<int,5> s{ data } ;\n",
    "\n",
    "  // compile time\n",
    "  display(s.first<2>()) ;\n",
    "  display(s.last<2>()) ;\n",
    "  display(s.subspan<2,3>()) ;\n",
    "}"
   ]
  },
  {
   "cell_type": "code",
   "execution_count": 22,
   "metadata": {
    "slideshow": {
     "slide_type": "skip"
    }
   },
   "outputs": [],
   "source": [
    "!rm -f tmp.gsl-arrays.exe && g++ -std=c++17 -I./ tmp.gsl-arrays.cpp -o tmp.gsl-arrays.exe"
   ]
  },
  {
   "cell_type": "code",
   "execution_count": 23,
   "metadata": {
    "slideshow": {
     "slide_type": "fragment"
    }
   },
   "outputs": [
    {
     "name": "stdout",
     "output_type": "stream",
     "text": [
      "1 2 \r\n",
      "4 5 \r\n",
      "2 3 4 5 \r\n"
     ]
    }
   ],
   "source": [
    "!./tmp.gsl-arrays.exe"
   ]
  },
  {
   "cell_type": "markdown",
   "metadata": {
    "slideshow": {
     "slide_type": "subslide"
    }
   },
   "source": [
    "### To remember (paraphrasing Etienne Boespflug)"
   ]
  },
  {
   "cell_type": "markdown",
   "metadata": {
    "slideshow": {
     "slide_type": "fragment"
    }
   },
   "source": [
    "* Better than a pointer/size pair, `gsl::span` is easy to pass as an argument and it responds to a container interface, sparing us the arithmetic of pointers."
   ]
  },
  {
   "cell_type": "markdown",
   "metadata": {
    "slideshow": {
     "slide_type": "fragment"
    }
   },
   "source": [
    "* It explicitly shows that we are working with an intermediate view, rather than on the container itself."
   ]
  },
  {
   "cell_type": "markdown",
   "metadata": {
    "slideshow": {
     "slide_type": "fragment"
    }
   },
   "source": [
    "* Better than a `const std::vector<T>&`, a `gsl::span<T>` argument can be copied at no extra cost, and can stay on top of any \"continuous memory\" container. "
   ]
  },
  {
   "cell_type": "markdown",
   "metadata": {
    "slideshow": {
     "slide_type": "subslide"
    }
   },
   "source": [
    "### Some details"
   ]
  },
  {
   "cell_type": "markdown",
   "metadata": {
    "slideshow": {
     "slide_type": "fragment"
    }
   },
   "source": [
    "* `gsl::span` does not check its indices, like `std::vector::at`, but can help debugging."
   ]
  },
  {
   "cell_type": "markdown",
   "metadata": {
    "slideshow": {
     "slide_type": "fragment"
    }
   },
   "source": [
    "* You will not be able to construct a view from an instance of `initializer_list`, since it is an array of an ephemeral nature, whereas a view must rely on a durable underlying structure."
   ]
  },
  {
   "cell_type": "markdown",
   "metadata": {
    "slideshow": {
     "slide_type": "fragment"
    }
   },
   "source": [
    "* The C ++ 20 standard contains a `std::span` similar to the `gsl::span`."
   ]
  },
  {
   "cell_type": "markdown",
   "metadata": {
    "slideshow": {
     "slide_type": "fragment"
    }
   },
   "source": [
    "* There is a high demand for multi-dimensional views, which Microsoft referred to as `multi_span` and others call `mdspan`. This does not appear yet in C++20."
   ]
  },
  {
   "cell_type": "markdown",
   "metadata": {
    "slideshow": {
     "slide_type": "slide"
    }
   },
   "source": [
    "# Questions ?"
   ]
  },
  {
   "cell_type": "markdown",
   "metadata": {
    "slideshow": {
     "slide_type": "skip"
    }
   },
   "source": [
    "## Exercise\n",
    "\n",
    "How about writing your own `my_span<T>` ?\n",
    "1. Provide a `my_span<T>` constructor taking a `std::vector<T>` as input, add function `size()` and `operator[]`, which should make the code compilable.\n",
    "2. Try to turn the constructor into a template, assuming that the object passed to the constructor has member functions `size()` and `operator[]`, check that the code also works if you substitute the `std::vector` with a `std::array`."
   ]
  },
  {
   "cell_type": "code",
   "execution_count": 38,
   "metadata": {
    "slideshow": {
     "slide_type": "skip"
    }
   },
   "outputs": [
    {
     "name": "stdout",
     "output_type": "stream",
     "text": [
      "Overwriting tmp.gsl-collections.cpp\n"
     ]
    }
   ],
   "source": [
    "%%file tmp.gsl-collections.cpp\n",
    "\n",
    "#include <iostream>\n",
    "#include <vector>\n",
    "\n",
    "// ... PUT HERE YOUR my_span<T> IMPLEMENTATION ...\n",
    "\n",
    "void print( my_span<int> data )\n",
    " {\n",
    "   for( std::size_t i = 0 ; i < data.size() ; ++i )\n",
    "     std::cout << data[i] << ' ' ;\n",
    "   std::cout << std::endl ;\n",
    " }\n",
    " \n",
    "int main()\n",
    " {\n",
    "  std::vector<int> arr { 1, 2, 3, 4, 5 } ;\n",
    "  print(arr) ;  \n",
    "  return 0 ;\n",
    "}"
   ]
  },
  {
   "cell_type": "code",
   "execution_count": null,
   "metadata": {
    "slideshow": {
     "slide_type": "skip"
    }
   },
   "outputs": [],
   "source": [
    "!rm -f tmp.gsl-collections.exe && g++ -std=c++17 -I./ tmp.gsl-collections.cpp -o tmp.gsl-collections.exe"
   ]
  },
  {
   "cell_type": "code",
   "execution_count": null,
   "metadata": {
    "slideshow": {
     "slide_type": "skip"
    }
   },
   "outputs": [],
   "source": [
    "!./tmp.gsl-collections.exe"
   ]
  },
  {
   "cell_type": "markdown",
   "metadata": {
    "slideshow": {
     "slide_type": "skip"
    }
   },
   "source": [
    "## Sources\n",
    "\n",
    "* http://isocpp.github.io/CppCoreGuidelines/CppCoreGuidelines#gsl-guidelines-support-library\n",
    "* http://modernescpp.com/index.php/c-core-guideline-the-guidelines-support-library\n",
    "* http://nullptr.nl/2018/08/refurbish-legacy-code/\n",
    "\n",
    "* https://etienne-boespflug.fr/cpp/257-c20-stdspan/\n",
    "* https://github.com/microsoft/GSL/blob/master/include/gsl/span\n",
    "* http://codexpert.ro/blog/2016/03/07/guidelines-support-library-review-spant/\n",
    "* http://www.open-std.org/jtc1/sc22/wg21/docs/papers/2019/p0009r9.html\n",
    "* https://github.com/kokkos/mdspan"
   ]
  },
  {
   "cell_type": "markdown",
   "metadata": {
    "slideshow": {
     "slide_type": "skip"
    }
   },
   "source": [
    "© *CNRS 2019*  \n",
    "*This document was created by David Chamont and translated by Olga Abramkina. It is available under the [License Creative Commons - Attribution - No commercial use - Shared under the conditions 4.0 International](http://creativecommons.org/licenses/by-nc-sa/4.0/)*"
   ]
  }
 ],
 "metadata": {
  "celltoolbar": "Diaporama",
  "kernelspec": {
   "display_name": "Python 3 (ipykernel)",
   "language": "python",
   "name": "python3"
  },
  "language_info": {
   "codemirror_mode": {
    "name": "ipython",
    "version": 3
   },
   "file_extension": ".py",
   "mimetype": "text/x-python",
   "name": "python",
   "nbconvert_exporter": "python",
   "pygments_lexer": "ipython3",
   "version": "3.9.5"
  }
 },
 "nbformat": 4,
 "nbformat_minor": 4
}
