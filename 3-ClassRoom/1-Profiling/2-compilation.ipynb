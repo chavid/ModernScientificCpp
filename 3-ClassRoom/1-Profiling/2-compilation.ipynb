{
 "cells": [
  {
   "cell_type": "markdown",
   "metadata": {
    "slideshow": {
     "slide_type": "slide"
    }
   },
   "source": [
    "# Profiling compilation\n",
    "\n",
    "Because the C++ compiler wants to do more at compile time, and less at run time, the compilation can be long and requires much memory. It makes sense to profile it."
   ]
  },
  {
   "cell_type": "markdown",
   "metadata": {
    "slideshow": {
     "slide_type": "slide"
    }
   },
   "source": [
    "## Globally, for a single-file code\n",
    "\n",
    "If you want to measure the compilation time/memory of a given code, and this code fits in a single file, you may get it with GNU time or hyperfine, as described in the previous notebook."
   ]
  },
  {
   "cell_type": "markdown",
   "metadata": {
    "slideshow": {
     "slide_type": "slide"
    }
   },
   "source": [
    "### Exercice\n",
    "\n",
    "With GNU time or hyperfine, compare the compilation time of those three implementations of fibonacci:"
   ]
  },
  {
   "cell_type": "code",
   "execution_count": 1,
   "metadata": {
    "jp-MarkdownHeadingCollapsed": true,
    "slideshow": {
     "slide_type": "slide"
    }
   },
   "outputs": [
    {
     "name": "stdout",
     "output_type": "stream",
     "text": [
      "Writing tmp.fibo1.cpp\n"
     ]
    }
   ],
   "source": [
    "%%file tmp.fibo1.cpp\n",
    "\n",
    "#include <iostream>\n",
    "\n",
    "template<int N>\n",
    "struct fibonacci {\n",
    "  enum { value = fibonacci<N-1>::value + fibonacci<N-2>::value } ;\n",
    "} ;\n",
    "\n",
    "template<>\n",
    "struct fibonacci<1> {\n",
    "  enum { value = 1 } ;\n",
    "} ;\n",
    "\n",
    "template<>\n",
    "struct fibonacci<0> {\n",
    "  enum { value = 0 } ;\n",
    "} ;\n",
    "\n",
    "int main() {\n",
    "  constexpr int res { fibonacci<36>::value } ;\n",
    "  std::cout<<res<<std::endl ;\n",
    "  return 0 ;\n",
    "}"
   ]
  },
  {
   "cell_type": "code",
   "execution_count": 10,
   "metadata": {},
   "outputs": [],
   "source": [
    "!rm -f tmp.fibo1.exe"
   ]
  },
  {
   "cell_type": "code",
   "execution_count": 11,
   "metadata": {},
   "outputs": [],
   "source": [
    "!g++ -O2 -std=c++17 tmp.fibo1.cpp -o tmp.fibo1.exe"
   ]
  },
  {
   "cell_type": "code",
   "execution_count": 12,
   "metadata": {},
   "outputs": [
    {
     "name": "stdout",
     "output_type": "stream",
     "text": [
      "14930352\n"
     ]
    }
   ],
   "source": [
    "!./tmp.fibo1.exe"
   ]
  },
  {
   "cell_type": "code",
   "execution_count": 4,
   "metadata": {
    "jp-MarkdownHeadingCollapsed": true,
    "slideshow": {
     "slide_type": "slide"
    }
   },
   "outputs": [
    {
     "name": "stdout",
     "output_type": "stream",
     "text": [
      "Writing tmp.fibo2.cpp\n"
     ]
    }
   ],
   "source": [
    "%%file tmp.fibo2.cpp\n",
    "\n",
    "#include <iostream>\n",
    "\n",
    "constexpr int fibonacci( int n ) {\n",
    "  if (n>1) return fibonacci(n-1) + fibonacci(n-2) ;\n",
    "  else return n ;\n",
    "}\n",
    "\n",
    "int main() {\n",
    "  constexpr int res { fibonacci(36) } ;\n",
    "  std::cout<<res<<std::endl ;\n",
    "  return 0 ;\n",
    "}"
   ]
  },
  {
   "cell_type": "code",
   "execution_count": 5,
   "metadata": {},
   "outputs": [],
   "source": [
    "!rm -f tmp.fibo2.exe"
   ]
  },
  {
   "cell_type": "code",
   "execution_count": 5,
   "metadata": {},
   "outputs": [],
   "source": [
    "!g++ -O2 -std=c++17 tmp.fibo2.cpp -o tmp.fibo2.exe"
   ]
  },
  {
   "cell_type": "code",
   "execution_count": 6,
   "metadata": {},
   "outputs": [
    {
     "name": "stdout",
     "output_type": "stream",
     "text": [
      "14930352\n"
     ]
    }
   ],
   "source": [
    "!./tmp.fibo2.exe"
   ]
  },
  {
   "cell_type": "code",
   "execution_count": 7,
   "metadata": {
    "jp-MarkdownHeadingCollapsed": true,
    "slideshow": {
     "slide_type": "slide"
    }
   },
   "outputs": [
    {
     "name": "stdout",
     "output_type": "stream",
     "text": [
      "Writing tmp.fibo3.cpp\n"
     ]
    }
   ],
   "source": [
    "%%file tmp.fibo3.cpp\n",
    "\n",
    "#include <iostream>\n",
    "\n",
    "int fibonacci( int n ) {\n",
    "  if (n>1) return fibonacci(n-1) + fibonacci(n-2) ;\n",
    "  else return n ;\n",
    "}\n",
    "\n",
    "int main() {\n",
    "  int res { fibonacci(36) } ;\n",
    "  std::cout<<res<<std::endl ;\n",
    "  return 0 ;\n",
    "}"
   ]
  },
  {
   "cell_type": "code",
   "execution_count": 8,
   "metadata": {},
   "outputs": [],
   "source": [
    "!rm -f tmp.fibo3.exe && g++ -O2 -std=c++17 tmp.fibo3.cpp -o tmp.fibo3.exe"
   ]
  },
  {
   "cell_type": "code",
   "execution_count": 9,
   "metadata": {},
   "outputs": [
    {
     "name": "stdout",
     "output_type": "stream",
     "text": [
      "14930352\n"
     ]
    }
   ],
   "source": [
    "!./tmp.fibo3.exe"
   ]
  },
  {
   "cell_type": "markdown",
   "metadata": {},
   "source": [
    "**Warning** : the use of memory reported bu GNU time may be not so relevant for the compilation, because the g++ frontend process may spawn subprocesses which are not taken into account."
   ]
  },
  {
   "cell_type": "markdown",
   "metadata": {},
   "source": [
    "## Comparing alternative implementations\n",
    "\n",
    "If you do not care about the absolute compilation time, but want to compare two (or more) alternative small implementations, you can try [BuildBench](https://build-bench.com/)."
   ]
  },
  {
   "cell_type": "markdown",
   "metadata": {
    "slideshow": {
     "slide_type": "slide"
    }
   },
   "source": [
    "### Exercice\n",
    "\n",
    "With [BuildBench](https://build-bench.com/), compare those implementations, for compilation time and compilation memory. Are the results consistent when you play with different options ? (compiler, C++ version, optimization level, libc++).\n",
    "\n",
    "**Beware**: depending on the load of this web service when you use it, when requiring high values such as 36 for the program, the compilation of the `constexpr` implementation may be too long and trigger a time out.\n",
    "\n",
    "---\n",
    "\n",
    "```cpp\n",
    "#include <iostream>\n",
    "\n",
    "constexpr int fibonacci( int n ) {\n",
    "  if (n>1) return fibonacci(n-1) + fibonacci(n-2) ;\n",
    "  else return n ;\n",
    "}\n",
    "\n",
    "int main() {\n",
    "  constexpr int res { fibonacci(36) } ;\n",
    "  std::cout<<res<<std::endl ;\n",
    "  return 0 ;\n",
    "}\n",
    "```\n",
    "\n",
    "---\n",
    "\n",
    "```cpp\n",
    "#include <iostream>\n",
    "\n",
    "int fibonacci( int n ) {\n",
    "  if (n>1) return fibonacci(n-1) + fibonacci(n-2) ;\n",
    "  else return n ;\n",
    "}\n",
    "\n",
    "int main() {\n",
    "  int res { fibonacci(36) } ;\n",
    "  std::cout<<res<<std::endl ;\n",
    "  return 0 ;\n",
    "}\n",
    "```\n",
    "\n",
    "---"
   ]
  },
  {
   "cell_type": "markdown",
   "metadata": {
    "slideshow": {
     "slide_type": "slide"
    }
   },
   "source": [
    "## Within a file\n",
    "\n",
    "The compilers have dedicated options, which helps you to know what goes inside:\n",
    "- `g++ -ftime-report` let you known the time spent in different phases like preprocessing, compilation, assembly, and linking,\n",
    "- `clang++ -ftime-trace` goes further and produces a json flamegraph."
   ]
  },
  {
   "cell_type": "code",
   "execution_count": 32,
   "metadata": {},
   "outputs": [],
   "source": [
    "!rm -f tmp.fibo2.exe"
   ]
  },
  {
   "cell_type": "code",
   "execution_count": 33,
   "metadata": {},
   "outputs": [
    {
     "name": "stdout",
     "output_type": "stream",
     "text": [
      "\n",
      "Time variable                                   usr           sys          wall           GGC\n",
      " phase setup                        :   0.00 (  0%)   0.00 (  0%)   0.01 (  3%)  1752k (  4%)\n",
      " phase parsing                      :   0.23 ( 88%)   0.10 ( 91%)   0.34 ( 89%)    37M ( 88%)\n",
      " phase lang. deferred               :   0.03 ( 12%)   0.01 (  9%)   0.03 (  8%)  3283k (  7%)\n",
      " |name lookup                       :   0.03 ( 12%)   0.01 (  9%)   0.09 ( 24%)  1707k (  4%)\n",
      " |overload resolution               :   0.03 ( 12%)   0.00 (  0%)   0.02 (  5%)  2048k (  5%)\n",
      " preprocessing                      :   0.04 ( 15%)   0.01 (  9%)   0.06 ( 16%)  1670k (  4%)\n",
      " parser (global)                    :   0.02 (  8%)   0.05 ( 45%)   0.10 ( 26%)    13M ( 31%)\n",
      " parser struct body                 :   0.05 ( 19%)   0.02 ( 18%)   0.06 ( 16%)  8780k ( 20%)\n",
      " parser enumerator list             :   0.01 (  4%)   0.00 (  0%)   0.00 (  0%)   108k (  0%)\n",
      " parser function body               :   0.01 (  4%)   0.00 (  0%)   0.02 (  5%)  2296k (  5%)\n",
      " parser inl. func. body             :   0.03 ( 12%)   0.00 (  0%)   0.02 (  5%)  1512k (  3%)\n",
      " parser inl. meth. body             :   0.01 (  4%)   0.00 (  0%)   0.02 (  5%)  3270k (  7%)\n",
      " template instantiation             :   0.08 ( 31%)   0.03 ( 27%)   0.07 ( 18%)    10M ( 24%)\n",
      " constant expression evaluation     :   0.01 (  4%)   0.00 (  0%)   0.02 (  5%)    62k (  0%)\n",
      " TOTAL                              :   0.26          0.11          0.38           42M\n"
     ]
    }
   ],
   "source": [
    "!g++ -ftime-report -std=c++17 tmp.fibo2.cpp -o tmp.fibo2.exe"
   ]
  },
  {
   "cell_type": "code",
   "execution_count": 34,
   "metadata": {},
   "outputs": [
    {
     "name": "stdout",
     "output_type": "stream",
     "text": [
      "Time trace json-file dumped to /tmp/tmp-3f185d.json\n",
      "Use chrome://tracing or Speedscope App (https://www.speedscope.app) for flamegraph visualization\n"
     ]
    }
   ],
   "source": [
    "!clang++ -ftime-trace -std=c++17 tmp.fibo2.cpp -o tmp.fibo2.exe"
   ]
  },
  {
   "cell_type": "markdown",
   "metadata": {},
   "source": [
    "If this seems a little obscure, [Crofiler](https://github.com/HadrienG2/crofiler/) may help."
   ]
  },
  {
   "cell_type": "markdown",
   "metadata": {
    "slideshow": {
     "slide_type": "slide"
    }
   },
   "source": [
    "## When there are many files\n",
    "\n",
    "As soon as the program is splitted in several modules, if you do not want to handle yourself many numbers, you will need the help of your build system."
   ]
  },
  {
   "cell_type": "markdown",
   "metadata": {
    "slideshow": {
     "slide_type": "slide"
    }
   },
   "source": [
    "# Questions ?"
   ]
  },
  {
   "cell_type": "markdown",
   "metadata": {
    "slideshow": {
     "slide_type": "slide"
    }
   },
   "source": [
    "# Resources\n",
    "\n",
    "- [BuildBench](https://build-bench.com/).\n",
    "- [Crofiler](https://github.com/HadrienG2/crofiler/)"
   ]
  },
  {
   "cell_type": "markdown",
   "metadata": {
    "slideshow": {
     "slide_type": "skip"
    }
   },
   "source": [
    "© *CNRS 2024*\n",
    "*Assembled and written in french by David Chamont, this work is made available according to the terms of the [Creative Commons License - Attribution - NonCommercial - ShareAlike 4.0 International](http://creativecommons.org/licenses/by-nc-sa/4.0/)*"
   ]
  }
 ],
 "metadata": {
  "celltoolbar": "Diaporama",
  "kernelspec": {
   "display_name": "Python 3 (ipykernel)",
   "language": "python",
   "name": "python3"
  },
  "language_info": {
   "codemirror_mode": {
    "name": "ipython",
    "version": 3
   },
   "file_extension": ".py",
   "mimetype": "text/x-python",
   "name": "python",
   "nbconvert_exporter": "python",
   "pygments_lexer": "ipython3",
   "version": "3.11.8"
  }
 },
 "nbformat": 4,
 "nbformat_minor": 4
}
