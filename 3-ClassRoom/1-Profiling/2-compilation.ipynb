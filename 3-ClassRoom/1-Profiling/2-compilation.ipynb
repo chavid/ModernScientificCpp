{
 "cells": [
  {
   "cell_type": "markdown",
   "metadata": {
    "slideshow": {
     "slide_type": "slide"
    }
   },
   "source": [
    "# Profiling compilation\n",
    "\n",
    "Because the C++ compiler wants to do more at compile time, and less at run time, the compilation can be long and requires much memory. It makes sense to profile it."
   ]
  },
  {
   "cell_type": "markdown",
   "metadata": {
    "slideshow": {
     "slide_type": "slide"
    }
   },
   "source": [
    "## Globally, for a single-file program\n",
    "\n",
    "If you want to measure the compilation time of a given code, and this code fits in a single file, you may get it with BASH `time`, GNU `time` or `hyperfine`, as described in the previous notebook.\n",
    "\n",
    "If you do not care about the absolute compilation time, but rather want to compare two (or more) alternative implementations, you can try [BuildBench](https://build-bench.com/), which lets you easily invesgate different compilers and options.\n",
    "\n",
    "UNDER WORK : for what concerns the memory used during compilation, we suspect the result of GNU time, as would be for any such basic tool, is wrong because `g++` is actually a frontend and fork children processes for the different compilation steps, and those subprcesses are not taken into account by the timing tool."
   ]
  },
  {
   "cell_type": "code",
   "execution_count": null,
   "metadata": {
    "jp-MarkdownHeadingCollapsed": true,
    "slideshow": {
     "slide_type": "slide"
    }
   },
   "outputs": [],
   "source": [
    "%%file tmp.fibo.cpp\n",
    "\n",
    "#include <iostream>\n",
    "\n",
    "constexpr int fibonacci( int n ) {\n",
    "  if (n>1) return fibonacci(n-1) + fibonacci(n-2) ;\n",
    "  else return n ;\n",
    "}\n",
    "\n",
    "int main() {\n",
    "  constexpr int val = fibonacci(35) ;\n",
    "  std::cout << fibonacci(35) << std::endl ;\n",
    "  return 0 ;\n",
    "}"
   ]
  },
  {
   "cell_type": "code",
   "execution_count": null,
   "metadata": {},
   "outputs": [],
   "source": [
    "!time -f \"%U s\" g++ -O2 -std=c++17 tmp.fibo.cpp -o tmp.fibo.exe"
   ]
  },
  {
   "cell_type": "code",
   "execution_count": null,
   "metadata": {},
   "outputs": [],
   "source": [
    "!./tmp.fibo.exe"
   ]
  },
  {
   "cell_type": "markdown",
   "metadata": {
    "slideshow": {
     "slide_type": "slide"
    }
   },
   "source": [
    "## Within a file\n",
    "\n",
    "The compilers have dedicated options, which helps you to know what goes inside:\n",
    "- `g++ -ftime-report` let you known the time spent in different phases like preprocessing, compilation, assembly, and linking,\n",
    "- `clang++ -ftime-trace` goes further and produces a json flamegraph."
   ]
  },
  {
   "cell_type": "code",
   "execution_count": null,
   "metadata": {},
   "outputs": [],
   "source": [
    "!g++ -ftime-report -std=c++17 tmp.fibo.cpp -o tmp.fibo.exe"
   ]
  },
  {
   "cell_type": "code",
   "execution_count": null,
   "metadata": {},
   "outputs": [],
   "source": [
    "!clang++ -ftime-trace -std=c++17 -fconstexpr-steps=100000000 tmp.fibo.cpp -o tmp.fibo2.exe"
   ]
  },
  {
   "cell_type": "markdown",
   "metadata": {
    "slideshow": {
     "slide_type": "slide"
    }
   },
   "source": [
    "## When there are many files\n",
    "\n",
    "As soon as the program is splitted in several modules, if you do not want to handle yourself many numbers, you will need the help of your build system, and a tool such as [Crofiler](https://github.com/HadrienG2/crofiler/) may help."
   ]
  },
  {
   "cell_type": "markdown",
   "metadata": {
    "slideshow": {
     "slide_type": "slide"
    }
   },
   "source": [
    "# Questions ?"
   ]
  },
  {
   "cell_type": "markdown",
   "metadata": {
    "slideshow": {
     "slide_type": "slide"
    }
   },
   "source": [
    "# Exercice\n",
    "\n",
    "Compare the compilation time of the three implementations of fibonacci below, with BASH time, GNU time, hyperfine and/or BuildBench. What do you think ?"
   ]
  },
  {
   "cell_type": "code",
   "execution_count": null,
   "metadata": {
    "jp-MarkdownHeadingCollapsed": true,
    "slideshow": {
     "slide_type": "slide"
    }
   },
   "outputs": [],
   "source": [
    "%%file tmp.fibo1.cpp\n",
    "\n",
    "#include <iostream>\n",
    "\n",
    "template<int N>\n",
    "struct fibonacci {\n",
    "  static int const value = fibonacci<N-1>::value + fibonacci<N-2>::value ;\n",
    "} ;\n",
    "\n",
    "template<>\n",
    "struct fibonacci<1> {\n",
    "  static int const value = 1 ;\n",
    "} ;\n",
    "\n",
    "template<>\n",
    "struct fibonacci<0> {\n",
    "  static int const value = 0 ;\n",
    "} ;\n",
    "\n",
    "int main() {\n",
    "  std::cout << fibonacci<35>::value << std::endl ;\n",
    "  return 0 ;\n",
    "}"
   ]
  },
  {
   "cell_type": "code",
   "execution_count": null,
   "metadata": {},
   "outputs": [],
   "source": [
    "!g++ -O2 -std=c++20 tmp.fibo1.cpp -o tmp.fibo1.exe"
   ]
  },
  {
   "cell_type": "code",
   "execution_count": null,
   "metadata": {},
   "outputs": [],
   "source": [
    "!./tmp.fibo1.exe"
   ]
  },
  {
   "cell_type": "code",
   "execution_count": null,
   "metadata": {
    "jp-MarkdownHeadingCollapsed": true,
    "slideshow": {
     "slide_type": "slide"
    }
   },
   "outputs": [],
   "source": [
    "%%file tmp.fibo2.cpp\n",
    "\n",
    "#include <iostream>\n",
    "\n",
    "consteval int fibonacci( int n ) {\n",
    "  if (n>1) return fibonacci(n-1) + fibonacci(n-2) ;\n",
    "  else return n ;\n",
    "}\n",
    "\n",
    "int main() {\n",
    "  std::cout << fibonacci(35) << std::endl ;\n",
    "  return 0 ;\n",
    "}"
   ]
  },
  {
   "cell_type": "code",
   "execution_count": null,
   "metadata": {},
   "outputs": [],
   "source": [
    "!g++ -O2 -std=c++20 -fconstexpr-ops-limit=333333333 tmp.fibo2.cpp -o tmp.fibo2.exe"
   ]
  },
  {
   "cell_type": "code",
   "execution_count": null,
   "metadata": {
    "jupyter": {
     "source_hidden": true
    }
   },
   "outputs": [],
   "source": [
    "!./tmp.fibo2.exe"
   ]
  },
  {
   "cell_type": "code",
   "execution_count": null,
   "metadata": {
    "jp-MarkdownHeadingCollapsed": true,
    "slideshow": {
     "slide_type": "slide"
    }
   },
   "outputs": [],
   "source": [
    "%%file tmp.fibo3.cpp\n",
    "\n",
    "#include <iostream>\n",
    "#include <vector>\n",
    "\n",
    "consteval int fibonacci( int n ) {\n",
    "  std::vector<int> values(n+1) ;\n",
    "  values[0] = 0 ;\n",
    "  values[1] = 1 ;\n",
    "  for ( int i = 2 ; i <= n ; ++i ) {\n",
    "    values[i] = values[i-1] + values[i-2] ;\n",
    "  }\n",
    "  return values[n] ;\n",
    "}\n",
    "\n",
    "int main() {\n",
    "  std::cout << fibonacci(35) << std::endl ;\n",
    "  return 0 ;\n",
    "}"
   ]
  },
  {
   "cell_type": "code",
   "execution_count": null,
   "metadata": {},
   "outputs": [],
   "source": [
    "!g++ -O2 -std=c++20 tmp.fibo3.cpp -o tmp.fibo3.exe"
   ]
  },
  {
   "cell_type": "code",
   "execution_count": null,
   "metadata": {},
   "outputs": [],
   "source": [
    "!./tmp.fibo3.exe"
   ]
  },
  {
   "cell_type": "markdown",
   "metadata": {
    "slideshow": {
     "slide_type": "slide"
    }
   },
   "source": [
    "# Resources\n",
    "\n",
    "- [BuildBench](https://build-bench.com/).\n",
    "- [Crofiler](https://github.com/HadrienG2/crofiler/)"
   ]
  },
  {
   "cell_type": "markdown",
   "metadata": {
    "slideshow": {
     "slide_type": "skip"
    }
   },
   "source": [
    "© *CNRS 2024*\n",
    "*Assembled and written in french by David Chamont, this work is made available according to the terms of the [Creative Commons License - Attribution - NonCommercial - ShareAlike 4.0 International](http://creativecommons.org/licenses/by-nc-sa/4.0/)*"
   ]
  }
 ],
 "metadata": {
  "celltoolbar": "Diaporama",
  "kernelspec": {
   "display_name": "Python 3 (ipykernel)",
   "language": "python",
   "name": "python3"
  },
  "language_info": {
   "codemirror_mode": {
    "name": "ipython",
    "version": 3
   },
   "file_extension": ".py",
   "mimetype": "text/x-python",
   "name": "python",
   "nbconvert_exporter": "python",
   "pygments_lexer": "ipython3",
   "version": "3.11.8"
  }
 },
 "nbformat": 4,
 "nbformat_minor": 4
}
