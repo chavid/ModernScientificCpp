{
 "cells": [
  {
   "cell_type": "markdown",
   "metadata": {
    "slideshow": {
     "slide_type": "slide"
    }
   },
   "source": [
    "# Profiling compilation\n",
    "\n",
    "Because the C++ compiler wants to do more at compile time, and less at run time, the compilation can be long and requires much memory. It makes sense to profile it."
   ]
  },
  {
   "cell_type": "markdown",
   "metadata": {
    "slideshow": {
     "slide_type": "slide"
    }
   },
   "source": [
    "## Globally, for a single-file code\n",
    "\n",
    "If you want to measure the compilation time/memory of a given code, and this code fits in a single file, you may get it with GNU time or hyperfine, as described in the previous notebook."
   ]
  },
  {
   "cell_type": "markdown",
   "metadata": {
    "slideshow": {
     "slide_type": "slide"
    }
   },
   "source": [
    "### Exercice\n",
    "\n",
    "With GNU time or hyperfine, compare the compilation time of those three implementations of fibonacci:"
   ]
  },
  {
   "cell_type": "code",
   "execution_count": null,
   "metadata": {
    "jp-MarkdownHeadingCollapsed": true,
    "slideshow": {
     "slide_type": "slide"
    }
   },
   "outputs": [],
   "source": [
    "%%file tmp.fibo1.cpp\n",
    "\n",
    "#include <iostream>\n",
    "\n",
    "template<int N>\n",
    "struct fibonacci {\n",
    "  enum { value = fibonacci<N-1>::value + fibonacci<N-2>::value } ;\n",
    "} ;\n",
    "\n",
    "template<>\n",
    "struct fibonacci<1> {\n",
    "  enum { value = 1 } ;\n",
    "} ;\n",
    "\n",
    "template<>\n",
    "struct fibonacci<0> {\n",
    "  enum { value = 0 } ;\n",
    "} ;\n",
    "\n",
    "int main() {\n",
    "  constexpr int res { fibonacci<36>::value } ;\n",
    "  std::cout<<res<<std::endl ;\n",
    "  return 0 ;\n",
    "}"
   ]
  },
  {
   "cell_type": "code",
   "execution_count": null,
   "metadata": {},
   "outputs": [],
   "source": [
    "!rm -f tmp.fibo1.exe"
   ]
  },
  {
   "cell_type": "code",
   "execution_count": null,
   "metadata": {},
   "outputs": [],
   "source": [
    "!g++ -O2 -std=c++17 tmp.fibo1.cpp -o tmp.fibo1.exe"
   ]
  },
  {
   "cell_type": "code",
   "execution_count": null,
   "metadata": {},
   "outputs": [],
   "source": [
    "!./tmp.fibo1.exe"
   ]
  },
  {
   "cell_type": "code",
   "execution_count": null,
   "metadata": {
    "jp-MarkdownHeadingCollapsed": true,
    "slideshow": {
     "slide_type": "slide"
    }
   },
   "outputs": [],
   "source": [
    "%%file tmp.fibo2.cpp\n",
    "\n",
    "#include <iostream>\n",
    "\n",
    "constexpr int fibonacci( int n ) {\n",
    "  if (n>1) return fibonacci(n-1) + fibonacci(n-2) ;\n",
    "  else return n ;\n",
    "}\n",
    "\n",
    "int main() {\n",
    "  constexpr int res { fibonacci(36) } ;\n",
    "  std::cout<<res<<std::endl ;\n",
    "  return 0 ;\n",
    "}"
   ]
  },
  {
   "cell_type": "code",
   "execution_count": null,
   "metadata": {},
   "outputs": [],
   "source": [
    "!rm -f tmp.fibo2.exe"
   ]
  },
  {
   "cell_type": "code",
   "execution_count": null,
   "metadata": {},
   "outputs": [],
   "source": [
    "!g++ -O2 -std=c++17 tmp.fibo2.cpp -o tmp.fibo2.exe"
   ]
  },
  {
   "cell_type": "code",
   "execution_count": null,
   "metadata": {},
   "outputs": [],
   "source": [
    "!./tmp.fibo2.exe"
   ]
  },
  {
   "cell_type": "code",
   "execution_count": null,
   "metadata": {
    "jp-MarkdownHeadingCollapsed": true,
    "slideshow": {
     "slide_type": "slide"
    }
   },
   "outputs": [],
   "source": [
    "%%file tmp.fibo3.cpp\n",
    "\n",
    "#include <iostream>\n",
    "\n",
    "int fibonacci( int n ) {\n",
    "  if (n>1) return fibonacci(n-1) + fibonacci(n-2) ;\n",
    "  else return n ;\n",
    "}\n",
    "\n",
    "int main() {\n",
    "  int res { fibonacci(36) } ;\n",
    "  std::cout<<res<<std::endl ;\n",
    "  return 0 ;\n",
    "}"
   ]
  },
  {
   "cell_type": "code",
   "execution_count": null,
   "metadata": {},
   "outputs": [],
   "source": [
    "!rm -f tmp.fibo3.exe && g++ -O2 -std=c++17 tmp.fibo3.cpp -o tmp.fibo3.exe"
   ]
  },
  {
   "cell_type": "code",
   "execution_count": null,
   "metadata": {},
   "outputs": [],
   "source": [
    "!./tmp.fibo3.exe"
   ]
  },
  {
   "cell_type": "markdown",
   "metadata": {},
   "source": [
    "**Warning** : the use of memory reported bu GNU time may be not so relevant for the compilation, because the g++ frontend process may spawn subprocesses which are not taken into account."
   ]
  },
  {
   "cell_type": "markdown",
   "metadata": {},
   "source": [
    "## Comparing alternative implementations\n",
    "\n",
    "If you do not care about the absolute compilation time, but want to compare two (or more) alternative small implementations, you can try [BuildBench](https://build-bench.com/)."
   ]
  },
  {
   "cell_type": "markdown",
   "metadata": {
    "slideshow": {
     "slide_type": "slide"
    }
   },
   "source": [
    "### Exercice\n",
    "\n",
    "With [BuildBench](https://build-bench.com/), compare those implementations, for compilation time and compilation memory. Are the results consistent when you play with different options ? (compiler, C++ version, optimization level, libc++).\n",
    "\n",
    "**Beware**: depending on the load of this web service when you use it, when requiring high values such as 36 for the program, the compilation of the `constexpr` implementation may be too long and trigger a time out.\n",
    "\n",
    "---\n",
    "\n",
    "```cpp\n",
    "#include <iostream>\n",
    "\n",
    "constexpr int fibonacci( int n ) {\n",
    "  if (n>1) return fibonacci(n-1) + fibonacci(n-2) ;\n",
    "  else return n ;\n",
    "}\n",
    "\n",
    "int main() {\n",
    "  constexpr int res { fibonacci(36) } ;\n",
    "  std::cout<<res<<std::endl ;\n",
    "  return 0 ;\n",
    "}\n",
    "```\n",
    "\n",
    "---\n",
    "\n",
    "```cpp\n",
    "#include <iostream>\n",
    "\n",
    "int fibonacci( int n ) {\n",
    "  if (n>1) return fibonacci(n-1) + fibonacci(n-2) ;\n",
    "  else return n ;\n",
    "}\n",
    "\n",
    "int main() {\n",
    "  int res { fibonacci(36) } ;\n",
    "  std::cout<<res<<std::endl ;\n",
    "  return 0 ;\n",
    "}\n",
    "```\n",
    "\n",
    "---"
   ]
  },
  {
   "cell_type": "markdown",
   "metadata": {
    "slideshow": {
     "slide_type": "slide"
    }
   },
   "source": [
    "## Within a file\n",
    "\n",
    "The compilers have dedicated options, which helps you to know what goes inside:\n",
    "- `g++ -ftime-report` let you known the time spent in different phases like preprocessing, compilation, assembly, and linking,\n",
    "- `clang++ -ftime-trace` goes further and produces a json flamegraph."
   ]
  },
  {
   "cell_type": "code",
   "execution_count": null,
   "metadata": {},
   "outputs": [],
   "source": [
    "!rm -f tmp.fibo2.exe"
   ]
  },
  {
   "cell_type": "code",
   "execution_count": null,
   "metadata": {},
   "outputs": [],
   "source": [
    "!g++ -ftime-report -std=c++17 tmp.fibo2.cpp -o tmp.fibo2.exe"
   ]
  },
  {
   "cell_type": "code",
   "execution_count": null,
   "metadata": {},
   "outputs": [],
   "source": [
    "!clang++ -ftime-trace -std=c++17 tmp.fibo2.cpp -o tmp.fibo2.exe"
   ]
  },
  {
   "cell_type": "markdown",
   "metadata": {
    "slideshow": {
     "slide_type": "slide"
    }
   },
   "source": [
    "## When there are many files\n",
    "\n",
    "As soon as the program is splitted in several modules, if you do not want to handle yourself many numbers, you will need the help of your build system, and a tool such as [Crofiler](https://github.com/HadrienG2/crofiler/) may help."
   ]
  },
  {
   "cell_type": "markdown",
   "metadata": {
    "slideshow": {
     "slide_type": "slide"
    }
   },
   "source": [
    "# Questions ?"
   ]
  },
  {
   "cell_type": "markdown",
   "metadata": {
    "slideshow": {
     "slide_type": "slide"
    }
   },
   "source": [
    "# Resources\n",
    "\n",
    "- [BuildBench](https://build-bench.com/).\n",
    "- [Crofiler](https://github.com/HadrienG2/crofiler/)"
   ]
  },
  {
   "cell_type": "markdown",
   "metadata": {
    "slideshow": {
     "slide_type": "skip"
    }
   },
   "source": [
    "© *CNRS 2024*\n",
    "*Assembled and written in french by David Chamont, this work is made available according to the terms of the [Creative Commons License - Attribution - NonCommercial - ShareAlike 4.0 International](http://creativecommons.org/licenses/by-nc-sa/4.0/)*"
   ]
  }
 ],
 "metadata": {
  "celltoolbar": "Diaporama",
  "kernelspec": {
   "display_name": "Python 3 (ipykernel)",
   "language": "python",
   "name": "python3"
  },
  "language_info": {
   "codemirror_mode": {
    "name": "ipython",
    "version": 3
   },
   "file_extension": ".py",
   "mimetype": "text/x-python",
   "name": "python",
   "nbconvert_exporter": "python",
   "pygments_lexer": "ipython3",
   "version": "3.11.8"
  }
 },
 "nbformat": 4,
 "nbformat_minor": 4
}
