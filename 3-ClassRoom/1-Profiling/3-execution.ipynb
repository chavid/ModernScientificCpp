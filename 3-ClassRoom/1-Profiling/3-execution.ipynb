{
 "cells": [
  {
   "cell_type": "markdown",
   "metadata": {
    "slideshow": {
     "slide_type": "slide"
    }
   },
   "source": [
    "# Profiling execution"
   ]
  },
  {
   "cell_type": "markdown",
   "metadata": {
    "slideshow": {
     "slide_type": "slide"
    }
   },
   "source": [
    "## Globally, with GNU `time` command\n",
    "\n",
    "- As seen previously, it is easy to get a global execution analysis with GNU time.\n",
    "- If you want to focus on a given subset of a bigger code, you can try to setup a small demonstration program."
   ]
  },
  {
   "cell_type": "markdown",
   "metadata": {
    "slideshow": {
     "slide_type": "slide"
    }
   },
   "source": [
    "### Exercice\n",
    "\n",
    "With GNU time or hyperfine, compare the execution time of those implementations:"
   ]
  },
  {
   "cell_type": "code",
   "execution_count": null,
   "metadata": {
    "jp-MarkdownHeadingCollapsed": true,
    "slideshow": {
     "slide_type": "slide"
    }
   },
   "outputs": [],
   "source": [
    "%%file tmp.fibo1.cpp\n",
    "\n",
    "#include <iostream>\n",
    "\n",
    "constexpr int fibonacci( int n ) {\n",
    "  if (n>1) return fibonacci(n-1) + fibonacci(n-2) ;\n",
    "  else return n ;\n",
    "}\n",
    "\n",
    "int main() {\n",
    "  constexpr int res { fibonacci(36) } ;\n",
    "  std::cout<<res<<std::endl ;\n",
    "  return 0 ;\n",
    "}"
   ]
  },
  {
   "cell_type": "code",
   "execution_count": null,
   "metadata": {},
   "outputs": [],
   "source": [
    "!rm -f tmp.fibo1.exe"
   ]
  },
  {
   "cell_type": "code",
   "execution_count": null,
   "metadata": {},
   "outputs": [],
   "source": [
    "!g++ -O2 -std=c++17 tmp.fibo1.cpp -o tmp.fibo1.exe"
   ]
  },
  {
   "cell_type": "code",
   "execution_count": null,
   "metadata": {},
   "outputs": [],
   "source": [
    "!./tmp.fibo1.exe"
   ]
  },
  {
   "cell_type": "code",
   "execution_count": null,
   "metadata": {
    "jp-MarkdownHeadingCollapsed": true,
    "slideshow": {
     "slide_type": "slide"
    }
   },
   "outputs": [],
   "source": [
    "%%file tmp.fibo2.cpp\n",
    "\n",
    "#include <iostream>\n",
    "\n",
    "int fibonacci( int n ) {\n",
    "  if (n>1) return fibonacci(n-1) + fibonacci(n-2) ;\n",
    "  else return n ;\n",
    "}\n",
    "\n",
    "int main() {\n",
    "  int res { fibonacci(36) } ;\n",
    "  std::cout<<res<<std::endl ;\n",
    "  return 0 ;\n",
    "}"
   ]
  },
  {
   "cell_type": "code",
   "execution_count": null,
   "metadata": {},
   "outputs": [],
   "source": [
    "!rm -f tmp.fibo2.exe"
   ]
  },
  {
   "cell_type": "code",
   "execution_count": null,
   "metadata": {},
   "outputs": [],
   "source": [
    "!g++ -O2 -std=c++17 tmp.fibo2.cpp -o tmp.fibo2.exe"
   ]
  },
  {
   "cell_type": "code",
   "execution_count": null,
   "metadata": {},
   "outputs": [],
   "source": [
    "!./tmp.fibo2.exe"
   ]
  },
  {
   "cell_type": "markdown",
   "metadata": {},
   "source": [
    "## Comparing alternative implementations\n",
    "\n",
    "If you do not care about the absolute compilation time, but want to compare two (or more) alternative small implementations, you can try [QuickBench](https://www.quick-bench.com/)."
   ]
  },
  {
   "cell_type": "markdown",
   "metadata": {
    "slideshow": {
     "slide_type": "slide"
    }
   },
   "source": [
    "Basically, in the QuickBench main window, for each code to be compared, add a section like this..."
   ]
  },
  {
   "cell_type": "code",
   "execution_count": null,
   "metadata": {
    "slideshow": {
     "slide_type": "-"
    }
   },
   "outputs": [],
   "source": [
    "static void CodeVersion1(benchmark::State& state) {\n",
    "\n",
    "  // code to be executed once\n",
    "  // ...\n",
    "    \n",
    "  for (auto _ : state) {\n",
    "\n",
    "    // code to be measured repeatedly\n",
    "    // ...\n",
    "    \n",
    "    // output variable should be protected so that\n",
    "    //  the compiler does not optimize them out\n",
    "    benchmark::DoNotOptimize(res) ;\n",
    "\n",
    "  }\n",
    "\n",
    "}\n",
    "BENCHMARK(CodeVersion1);"
   ]
  },
  {
   "cell_type": "markdown",
   "metadata": {},
   "source": [
    "### Exercice\n",
    "\n",
    "Compare with [QuickBench](https://www.quick-bench.com/) the two previous implementations of fibonacci, from exercice 1."
   ]
  },
  {
   "cell_type": "markdown",
   "metadata": {
    "slideshow": {
     "slide_type": "slide"
    }
   },
   "source": [
    "## Internally, with `std::chrono`\n",
    "\n",
    "When trying to speed-up a big real world application, one needs to known the execution time of the subparts of the application, so to focus his efforts where it is worth. **It is highly advised to learn how to use a profiling tool such as [`perf`](https://perf.wiki.kernel.org/index.php/Main_Page)**."
   ]
  },
  {
   "cell_type": "markdown",
   "metadata": {
    "slideshow": {
     "slide_type": "subslide"
    }
   },
   "source": [
    "Meanwhile, some internal information can be collected thanks to `std::chrono`. One of the interesting aspects of `std::chrono` is the work done on time units. Below, we measure the execution time of `generate` and displays it in milliseconds."
   ]
  },
  {
   "cell_type": "code",
   "execution_count": null,
   "metadata": {
    "slideshow": {
     "slide_type": "subslide"
    }
   },
   "outputs": [],
   "source": [
    "%%file tmp.chrono.cpp\n",
    "\n",
    "#include <iostream>\n",
    "#include <cstdlib>\n",
    "#include <cassert>\n",
    "#include <valarray>\n",
    "#include <chrono>\n",
    "        \n",
    "std::valarray<double> generate( int size )\n",
    " {\n",
    "  using namespace std::chrono ;\n",
    "  auto t1 { steady_clock::now() } ;   \n",
    "\n",
    "  std::valarray<double> data(size) ;     \n",
    "  for ( double & value : data ) {\n",
    "    value = std::rand()/(RAND_MAX+1.) ;\n",
    "  }\n",
    "\n",
    "  auto t2 { steady_clock::now() } ;\n",
    "  auto dt { duration_cast<microseconds>(t2-t1).count() } ;\n",
    "  std::cout<<\"(generate: \"<<dt<<\" us)\"<<std::endl ;\n",
    "     \n",
    "  return data ;\n",
    " }\n",
    "\n",
    "double analyse( std::valarray<double> const & data, int power )\n",
    " {\n",
    "  double res = 0 ;\n",
    "  for ( double value : data ) {\n",
    "    double prod = 1 ; \n",
    "    for ( int j=0 ; j<power ; ++j ) {\n",
    "      prod *= value ;\n",
    "    }\n",
    "    res += prod ;\n",
    "   }\n",
    "  return res ;\n",
    " }\n",
    "\n",
    "int main( int argc, char * argv[] ) {\n",
    "  assert(argc==3) ;\n",
    "  int size {atoi(argv[1])} ;\n",
    "  int power {atoi(argv[2])} ;\n",
    "\n",
    "  auto data = generate(size) ;\n",
    "  std::cout << analyse(data,power) << std::endl ;\n",
    "}"
   ]
  },
  {
   "cell_type": "code",
   "execution_count": null,
   "metadata": {
    "slideshow": {
     "slide_type": "skip"
    }
   },
   "outputs": [],
   "source": [
    "!rm -f tmp.chrono.exe && g++ -std=c++17 -I./ tmp.chrono.cpp -o tmp.chrono.exe"
   ]
  },
  {
   "cell_type": "code",
   "execution_count": null,
   "metadata": {
    "slideshow": {
     "slide_type": "subslide"
    }
   },
   "outputs": [],
   "source": [
    "!./tmp.chrono.exe 1024 100000"
   ]
  },
  {
   "cell_type": "markdown",
   "metadata": {
    "slideshow": {
     "slide_type": "slide"
    }
   },
   "source": [
    "# Questions ?"
   ]
  },
  {
   "cell_type": "markdown",
   "metadata": {
    "slideshow": {
     "slide_type": "skip"
    }
   },
   "source": [
    "# Exercise\n",
    "\n",
    "The code below defines some kind of \"high-order function\" `time()`, which takes as input another function `f`, and a set of arguments to be used for a call to `f`.\n",
    "1. You are asked to complete the definition of `time`, with `chrono` features, so to compute, display and compare the execution time of `analyse1` and `analyse2`.\n",
    "2. Try to write a Python script which will run the program 10 times, and compare the mean execution time of `generate`, `analyse1` and `analyse2`...\n",
    "3. ...And/or try with [QuickBench](https://www.quick-bench.com/)."
   ]
  },
  {
   "cell_type": "code",
   "execution_count": null,
   "metadata": {
    "slideshow": {
     "slide_type": "skip"
    }
   },
   "outputs": [],
   "source": [
    "%%file tmp.chrono.cpp\n",
    "\n",
    "#include <valarray>\n",
    "#include <cstdlib>\n",
    "#include <cassert>\n",
    "#include <iostream>\n",
    "#include <string_view>\n",
    "#include <chrono>\n",
    "\n",
    "template< typename Fonction, typename... ArgTypes >\n",
    "auto time( std::string_view title, Fonction f, ArgTypes... args )\n",
    " {\n",
    "  // COMPLETE HERE\n",
    "  auto res {f(args...)} ;\n",
    "  // COMPLETE HERE\n",
    "  std::cout<<\"(\"<<title<<\" time: ?? us)\"<<std::endl ;\n",
    "  return res ;\n",
    " }\n",
    "\n",
    "std::valarray<double> generate( int size )\n",
    " {\n",
    "  std::valarray<double> data(size) ;\n",
    "  for ( double & value : data ) {\n",
    "    value = std::rand()/(RAND_MAX+1.) ;\n",
    "  }\n",
    "  return data ;\n",
    " }\n",
    "\n",
    "double analyse1( std::valarray<double> const & data, int power )\n",
    " {\n",
    "  double res = 0 ;\n",
    "  for ( double value : data ) {\n",
    "    double prod = 1 ; \n",
    "    for ( int j=0 ; j<power ; ++j ) {\n",
    "      prod *= value ;\n",
    "    }\n",
    "    res += prod ;\n",
    "   }\n",
    "  return res ;\n",
    " }\n",
    "\n",
    "double analyse2( std::valarray<double> const & data, int power )\n",
    " {\n",
    "  std::valarray<double> values(1.,data.size()) ;\n",
    "  for ( int j=0 ; j<power ; ++j ) {\n",
    "    values *= data ;\n",
    "  }\n",
    "  double res = 0 ;\n",
    "  for ( double value : values ) {\n",
    "    res += value ;\n",
    "  }\n",
    "  return res ;\n",
    " }\n",
    "\n",
    "int main( int argc, char * argv[] ) {\n",
    "  assert(argc==3) ;\n",
    "  int size {atoi(argv[1])} ;\n",
    "  int power {atoi(argv[2])} ;\n",
    "\n",
    "  auto datas = time(\"gen\",generate,size) ;\n",
    "  auto res1 = time(\"ana1\",analyse1,datas,power) ;\n",
    "  auto res2 = time(\"ana2\",analyse2,datas,power) ;\n",
    "  std::cout << res1 << \" \" << res2 << std::endl ;\n",
    " }"
   ]
  },
  {
   "cell_type": "code",
   "execution_count": null,
   "metadata": {
    "slideshow": {
     "slide_type": "skip"
    }
   },
   "outputs": [],
   "source": [
    "!rm -f tmp.chrono.exe && g++ -O3 -std=c++17 -I./ tmp.chrono.cpp -o tmp.chrono.exe"
   ]
  },
  {
   "cell_type": "code",
   "execution_count": null,
   "metadata": {
    "slideshow": {
     "slide_type": "skip"
    }
   },
   "outputs": [],
   "source": [
    "!./tmp.chrono.exe 1024 100000"
   ]
  },
  {
   "cell_type": "markdown",
   "metadata": {
    "slideshow": {
     "slide_type": "slide"
    }
   },
   "source": [
    "# Resources\n",
    "\n",
    "- [Chrono](https://en.cppreference.com/w/cpp/chrono)\n",
    "- [QuickBench](https://www.quick-bench.com/)\n",
    "- [Google Benchmark](https://github.com/google/benchmark)\n",
    "- [Perf](https://perf.wiki.kernel.org/).\n",
    "- [TP Perf](https://grasland.pages.in2p3.fr/tp-perf/introduction/index.html)"
   ]
  },
  {
   "cell_type": "markdown",
   "metadata": {
    "slideshow": {
     "slide_type": "skip"
    }
   },
   "source": [
    "© *CNRS 2024*\n",
    "*Assembled and written in french by David Chamont, translated by Karim Hasnaoui in 2021, this work is made available according to the terms of the [Creative Commons License - Attribution - NonCommercial - ShareAlike 4.0 International](http://creativecommons.org/licenses/by-nc-sa/4.0/)*"
   ]
  }
 ],
 "metadata": {
  "celltoolbar": "Diaporama",
  "kernelspec": {
   "display_name": "Python 3 (ipykernel)",
   "language": "python",
   "name": "python3"
  },
  "language_info": {
   "codemirror_mode": {
    "name": "ipython",
    "version": 3
   },
   "file_extension": ".py",
   "mimetype": "text/x-python",
   "name": "python",
   "nbconvert_exporter": "python",
   "pygments_lexer": "ipython3",
   "version": "3.11.8"
  }
 },
 "nbformat": 4,
 "nbformat_minor": 4
}
