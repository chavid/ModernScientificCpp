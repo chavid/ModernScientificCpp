{
 "cells": [
  {
   "cell_type": "markdown",
   "metadata": {
    "slideshow": {
     "slide_type": "slide"
    }
   },
   "source": [
    "# Profiling compilation"
   ]
  },
  {
   "cell_type": "markdown",
   "metadata": {},
   "source": [
    "## Modified compilation commands"
   ]
  },
  {
   "cell_type": "code",
   "execution_count": null,
   "metadata": {
    "jp-MarkdownHeadingCollapsed": true,
    "slideshow": {
     "slide_type": "slide"
    }
   },
   "outputs": [],
   "source": [
    "%%file tmp.fibo1.cpp\n",
    "\n",
    "#include <iostream>\n",
    "\n",
    "template<int N>\n",
    "struct fibonacci {\n",
    "  static int const value = fibonacci<N-1>::value + fibonacci<N-2>::value ;\n",
    "} ;\n",
    "\n",
    "template<>\n",
    "struct fibonacci<1> {\n",
    "  static int const value = 1 ;\n",
    "} ;\n",
    "\n",
    "template<>\n",
    "struct fibonacci<0> {\n",
    "  static int const value = 0 ;\n",
    "} ;\n",
    "\n",
    "int main() {\n",
    "  std::cout << fibonacci<35>::value << std::endl ;\n",
    "  return 0 ;\n",
    "}"
   ]
  },
  {
   "cell_type": "code",
   "execution_count": null,
   "metadata": {},
   "outputs": [],
   "source": [
    "!\\time -f \"%U s\" g++ -O2 -std=c++20 tmp.fibo1.cpp -o tmp.fibo1.exe"
   ]
  },
  {
   "cell_type": "code",
   "execution_count": null,
   "metadata": {
    "jp-MarkdownHeadingCollapsed": true,
    "slideshow": {
     "slide_type": "slide"
    }
   },
   "outputs": [],
   "source": [
    "%%file tmp.fibo2.cpp\n",
    "\n",
    "#include <iostream>\n",
    "\n",
    "consteval int fibonacci( int n ) {\n",
    "  if (n>1) return fibonacci(n-1) + fibonacci(n-2) ;\n",
    "  else return n ;\n",
    "}\n",
    "\n",
    "int main() {\n",
    "  std::cout << fibonacci(35) << std::endl ;\n",
    "  return 0 ;\n",
    "}"
   ]
  },
  {
   "cell_type": "code",
   "execution_count": null,
   "metadata": {},
   "outputs": [],
   "source": [
    "!\\time -f \"%U s\" g++ -O2 -std=c++20 -fconstexpr-ops-limit=333333333 tmp.fibo2.cpp -o tmp.fibo2.exe"
   ]
  },
  {
   "cell_type": "code",
   "execution_count": null,
   "metadata": {
    "jp-MarkdownHeadingCollapsed": true,
    "slideshow": {
     "slide_type": "slide"
    }
   },
   "outputs": [],
   "source": [
    "%%file tmp.fibo3.cpp\n",
    "\n",
    "#include <iostream>\n",
    "#include <vector>\n",
    "\n",
    "consteval int fibonacci( int n ) {\n",
    "  std::vector<int> values(n+1) ;\n",
    "  values[0] = 0 ;\n",
    "  values[1] = 1 ;\n",
    "  for ( int i = 2 ; i <= n ; ++i ) {\n",
    "    values[i] = values[i-1] + values[i-2] ;\n",
    "  }\n",
    "  return values[n] ;\n",
    "}\n",
    "\n",
    "int main() {\n",
    "  std::cout << fibonacci(35) << std::endl ;\n",
    "  return 0 ;\n",
    "}"
   ]
  },
  {
   "cell_type": "code",
   "execution_count": null,
   "metadata": {},
   "outputs": [],
   "source": [
    "!\\time -f \"%U s\" g++ -O0 -std=c++20 tmp.fibo3.cpp -o tmp.fibo3.exe"
   ]
  },
  {
   "cell_type": "markdown",
   "metadata": {},
   "source": [
    "## Measurements\n",
    "\n",
    "Here are the results for `g++ 13.2 -std=c++20 -O2`, measured with GNU time on a processor i7-10875H, and with BuildBench.\n",
    "\n",
    "|                     | Compilation time | BuildBench |\n",
    "| :------------------ | -----: | --: |\n",
    "| struct template     | 0.34 s | 0.6 |\n",
    "| recursive function  | 1.86 s | 3.0 |\n",
    "| bottom-up function  | 0.35 s | 0.7 |"
   ]
  },
  {
   "cell_type": "markdown",
   "metadata": {
    "slideshow": {
     "slide_type": "skip"
    }
   },
   "source": [
    "© *CNRS 2024*\n",
    "*Assembled and written in french by David Chamont, this work is made available according to the terms of the [Creative Commons License - Attribution - NonCommercial - ShareAlike 4.0 International](http://creativecommons.org/licenses/by-nc-sa/4.0/)*"
   ]
  }
 ],
 "metadata": {
  "celltoolbar": "Diaporama",
  "kernelspec": {
   "display_name": "Python 3 (ipykernel)",
   "language": "python",
   "name": "python3"
  },
  "language_info": {
   "codemirror_mode": {
    "name": "ipython",
    "version": 3
   },
   "file_extension": ".py",
   "mimetype": "text/x-python",
   "name": "python",
   "nbconvert_exporter": "python",
   "pygments_lexer": "ipython3",
   "version": "3.11.8"
  }
 },
 "nbformat": 4,
 "nbformat_minor": 4
}
