{
 "cells": [
  {
   "cell_type": "markdown",
   "metadata": {
    "slideshow": {
     "slide_type": "slide"
    }
   },
   "source": [
    "# Measuring global time and memory, with the operating system commands\n",
    "\n",
    "Whatever we want to monitor, we can start with the tools provided by the operating system, and get a global view."
   ]
  },
  {
   "cell_type": "markdown",
   "metadata": {
    "slideshow": {
     "slide_type": "slide"
    }
   },
   "source": [
    "## Bash `time` command\n",
    "\n",
    "- In the Linux world, information about the overall execution time of an application can be obtained by simply preceding the application name with the `time` command.\n",
    "- Some shells such as `bash` have some built-in `time` command."
   ]
  },
  {
   "cell_type": "code",
   "execution_count": null,
   "metadata": {
    "slideshow": {
     "slide_type": "subslide"
    }
   },
   "outputs": [],
   "source": [
    "%%file tmp.fibo.cpp\n",
    "\n",
    "#include <iostream>\n",
    "\n",
    "constexpr int fibonacci( int n ) {\n",
    "  if (n>1) return fibonacci(n-1) + fibonacci(n-2) ;\n",
    "  else return n ;\n",
    "}\n",
    "\n",
    "int main() {\n",
    "  constexpr int res { fibonacci(36) } ;\n",
    "  std::cout<<res<<std::endl ;\n",
    "  return 0 ;\n",
    "}"
   ]
  },
  {
   "cell_type": "code",
   "execution_count": null,
   "metadata": {
    "slideshow": {
     "slide_type": "subslide"
    }
   },
   "outputs": [],
   "source": [
    "!rm -f tmp.fibo.exe"
   ]
  },
  {
   "cell_type": "markdown",
   "metadata": {},
   "source": [
    "For a demonstration in thsi notebook, I prepare below a script, which I will run later with `bash -l`. This is a way to ensure we use the bash built-in time."
   ]
  },
  {
   "cell_type": "code",
   "execution_count": null,
   "metadata": {
    "slideshow": {
     "slide_type": "subslide"
    }
   },
   "outputs": [],
   "source": [
    "%%file tmp.time.bash\n",
    "\n",
    "echo $*\n",
    "time $*"
   ]
  },
  {
   "cell_type": "code",
   "execution_count": null,
   "metadata": {
    "slideshow": {
     "slide_type": "subslide"
    }
   },
   "outputs": [],
   "source": [
    "!bash -l ./tmp.time.bash g++ -std=c++17 tmp.fibo.cpp -o tmp.fibo.exe"
   ]
  },
  {
   "cell_type": "markdown",
   "metadata": {
    "slideshow": {
     "slide_type": "skip"
    }
   },
   "source": [
    "Details of the `time` display:\n",
    "- `real` : the elapsed time seen in real life.\n",
    "- `user` : the cpu time spent in the user code.\n",
    "- `sys`  : the cpu time spent in system calls."
   ]
  },
  {
   "cell_type": "code",
   "execution_count": null,
   "metadata": {
    "slideshow": {
     "slide_type": "subslide"
    }
   },
   "outputs": [],
   "source": [
    "!bash -l ./tmp.time.bash ./tmp.fibo.exe"
   ]
  },
  {
   "cell_type": "markdown",
   "metadata": {
    "slideshow": {
     "slide_type": "slide"
    }
   },
   "source": [
    "## GNU `time` command\n",
    "\n",
    "- One can also use GNU time, if installed, which has useful options for formatting.\n",
    "- If you want to use the GNU flavor in a `bash`, you should backslash your call so to avoid the built-in command.\n",
    "- GNU time can also monitor the memory you use."
   ]
  },
  {
   "cell_type": "code",
   "execution_count": null,
   "metadata": {
    "slideshow": {
     "slide_type": "subslide"
    }
   },
   "outputs": [],
   "source": [
    "%%file tmp.time.bash\n",
    "\n",
    "echo $*\n",
    "\\time -f \"%U s, %M kBytes.\" $*"
   ]
  },
  {
   "cell_type": "code",
   "execution_count": null,
   "metadata": {
    "slideshow": {
     "slide_type": "subslide"
    }
   },
   "outputs": [],
   "source": [
    "!bash -l ./tmp.time.bash g++ -std=c++17 tmp.fibo.cpp -o tmp.fibo.exe"
   ]
  },
  {
   "cell_type": "code",
   "execution_count": null,
   "metadata": {
    "slideshow": {
     "slide_type": "subslide"
    }
   },
   "outputs": [],
   "source": [
    "!bash -l ./tmp.time.bash ./tmp.fibo.exe"
   ]
  },
  {
   "cell_type": "code",
   "execution_count": null,
   "metadata": {
    "slideshow": {
     "slide_type": "subslide"
    }
   },
   "outputs": [],
   "source": [
    "%%file tmp.fibo.cpp\n",
    "\n",
    "#include <iostream>\n",
    "\n",
    "int fibonacci( int n ) {\n",
    "  if (n>1) return fibonacci(n-1) + fibonacci(n-2) ;\n",
    "  else return n ;\n",
    "}\n",
    "\n",
    "int main() {\n",
    "  int res { fibonacci(36) } ;\n",
    "  std::cout<<res<<std::endl ;\n",
    "  return 0 ;\n",
    "}"
   ]
  },
  {
   "cell_type": "code",
   "execution_count": null,
   "metadata": {
    "slideshow": {
     "slide_type": "subslide"
    }
   },
   "outputs": [],
   "source": [
    "!bash -l ./tmp.time.bash g++ -std=c++17 tmp.fibo.cpp -o tmp.fibo.exe"
   ]
  },
  {
   "cell_type": "code",
   "execution_count": null,
   "metadata": {
    "slideshow": {
     "slide_type": "subslide"
    }
   },
   "outputs": [],
   "source": [
    "!bash -l ./tmp.time.bash ./tmp.fibo.exe"
   ]
  },
  {
   "cell_type": "markdown",
   "metadata": {
    "slideshow": {
     "slide_type": "slide"
    }
   },
   "source": [
    "## Repeat\n",
    "\n",
    "When monitoring a command execution, especially a fast one, and especially when running on a non-reserved dedicated machine :\n",
    "- **run your program several times** and compute the mean,\n",
    "- **ensure each single run is long enough** so that the processor pipelines get filled and you go well beyond the initial computing latency."
   ]
  },
  {
   "cell_type": "markdown",
   "metadata": {
    "slideshow": {
     "slide_type": "subslide"
    }
   },
   "source": [
    "With the script below, we run the command once, so to check the result. Then we run it 10 times, measuring the time and memory with GNU time, and redirect the results into a python script, which will finally compute the means."
   ]
  },
  {
   "cell_type": "code",
   "execution_count": null,
   "metadata": {
    "slideshow": {
     "slide_type": "subslide"
    }
   },
   "outputs": [],
   "source": [
    "%%file tmp.repeat.bash\n",
    "\n",
    "echo $*\n",
    "$*\n",
    "\n",
    "rm -f tmp.repeat.py\n",
    "echo \"t = 0 ; m = 0\" >> tmp.repeat.py\n",
    "for i in 0 1 2 3 4 5 6 7 8 9\n",
    "do \\time -f \"t += %U ; m += %M\" -a -o ./tmp.repeat.py $* >> /dev/null\n",
    "done\n",
    "echo \"print('(~ {:.3f} s)'.format(t/10.))\" >> tmp.repeat.py\n",
    "echo \"print('(~ {:.0f} kBytes)'.format(m/10.))\" >> tmp.repeat.py\n",
    "python3 tmp.repeat.py"
   ]
  },
  {
   "cell_type": "code",
   "execution_count": null,
   "metadata": {
    "slideshow": {
     "slide_type": "subslide"
    }
   },
   "outputs": [],
   "source": [
    "!bash -l tmp.repeat.bash g++ -std=c++17 tmp.fibo.cpp -o tmp.fibo.exe"
   ]
  },
  {
   "cell_type": "code",
   "execution_count": null,
   "metadata": {
    "slideshow": {
     "slide_type": "subslide"
    }
   },
   "outputs": [],
   "source": [
    "!bash -l tmp.repeat.bash ./tmp.fibo.exe"
   ]
  },
  {
   "cell_type": "markdown",
   "metadata": {},
   "source": [
    "If installed, you can also try [hyperfine](https://github.com/sharkdp/hyperfine):"
   ]
  },
  {
   "cell_type": "code",
   "execution_count": null,
   "metadata": {},
   "outputs": [],
   "source": [
    "!hyperfine --warmup 3 \"./tmp.fibo.exe\""
   ]
  },
  {
   "cell_type": "markdown",
   "metadata": {
    "slideshow": {
     "slide_type": "slide"
    }
   },
   "source": [
    "# Questions ?"
   ]
  },
  {
   "cell_type": "markdown",
   "metadata": {
    "slideshow": {
     "slide_type": "slide"
    }
   },
   "source": [
    "# Resources\n",
    "\n",
    "- [hyperfine](https://github.com/sharkdp/hyperfine)."
   ]
  },
  {
   "cell_type": "markdown",
   "metadata": {
    "slideshow": {
     "slide_type": "skip"
    }
   },
   "source": [
    "© *CNRS 2024*\n",
    "*Assembled and written in french by David Chamont, this work is made available according to the terms of the [Creative Commons License - Attribution - NonCommercial - ShareAlike 4.0 International](http://creativecommons.org/licenses/by-nc-sa/4.0/)*"
   ]
  }
 ],
 "metadata": {
  "celltoolbar": "Diaporama",
  "kernelspec": {
   "display_name": "Python 3 (ipykernel)",
   "language": "python",
   "name": "python3"
  },
  "language_info": {
   "codemirror_mode": {
    "name": "ipython",
    "version": 3
   },
   "file_extension": ".py",
   "mimetype": "text/x-python",
   "name": "python",
   "nbconvert_exporter": "python",
   "pygments_lexer": "ipython3",
   "version": "3.11.8"
  }
 },
 "nbformat": 4,
 "nbformat_minor": 4
}
