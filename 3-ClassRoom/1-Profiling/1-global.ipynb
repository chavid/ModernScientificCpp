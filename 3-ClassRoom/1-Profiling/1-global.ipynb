{
 "cells": [
  {
   "cell_type": "markdown",
   "metadata": {
    "slideshow": {
     "slide_type": "slide"
    }
   },
   "source": [
    "# Measuring global time and memory, with the operating system commands\n",
    "\n",
    "Whatever we want to monitor, we can start with the tools provided by the operating system, and get a global view."
   ]
  },
  {
   "cell_type": "markdown",
   "metadata": {
    "slideshow": {
     "slide_type": "slide"
    }
   },
   "source": [
    "## Bash `time` command\n",
    "\n",
    "- In the Linux world, information about the overall execution time of an application can be obtained by simply preceding the application name with the `time` command.\n",
    "- Some shells such as `bash` have some built-in `time` command."
   ]
  },
  {
   "cell_type": "code",
   "execution_count": 1,
   "metadata": {
    "slideshow": {
     "slide_type": "subslide"
    }
   },
   "outputs": [
    {
     "name": "stdout",
     "output_type": "stream",
     "text": [
      "Writing tmp.fibo.cpp\n"
     ]
    }
   ],
   "source": [
    "%%file tmp.fibo.cpp\n",
    "\n",
    "#include <iostream>\n",
    "\n",
    "constexpr int fibonacci( int n ) {\n",
    "  if (n>1) return fibonacci(n-1) + fibonacci(n-2) ;\n",
    "  else return n ;\n",
    "}\n",
    "\n",
    "int main() {\n",
    "  constexpr int res { fibonacci(36) } ;\n",
    "  std::cout<<res<<std::endl ;\n",
    "  return 0 ;\n",
    "}"
   ]
  },
  {
   "cell_type": "code",
   "execution_count": 2,
   "metadata": {
    "slideshow": {
     "slide_type": "subslide"
    }
   },
   "outputs": [],
   "source": [
    "!rm -f tmp.fibo.exe"
   ]
  },
  {
   "cell_type": "markdown",
   "metadata": {},
   "source": [
    "For a demonstration in thsi notebook, I prepare below a script, which I will run later with `bash -l`. This is a way to ensure we use the bash built-in time."
   ]
  },
  {
   "cell_type": "code",
   "execution_count": 3,
   "metadata": {
    "slideshow": {
     "slide_type": "subslide"
    }
   },
   "outputs": [
    {
     "name": "stdout",
     "output_type": "stream",
     "text": [
      "Writing tmp.time.bash\n"
     ]
    }
   ],
   "source": [
    "%%file tmp.time.bash\n",
    "\n",
    "echo $*\n",
    "time $*"
   ]
  },
  {
   "cell_type": "code",
   "execution_count": 4,
   "metadata": {
    "slideshow": {
     "slide_type": "subslide"
    }
   },
   "outputs": [
    {
     "name": "stdout",
     "output_type": "stream",
     "text": [
      "g++ -std=c++17 tmp.fibo.cpp -o tmp.fibo.exe\n",
      "\n",
      "real\t0m3.039s\n",
      "user\t0m3.015s\n",
      "sys\t0m0.022s\n"
     ]
    }
   ],
   "source": [
    "!bash -l ./tmp.time.bash g++ -std=c++17 tmp.fibo.cpp -o tmp.fibo.exe"
   ]
  },
  {
   "cell_type": "markdown",
   "metadata": {
    "slideshow": {
     "slide_type": "skip"
    }
   },
   "source": [
    "Details of the `time` display:\n",
    "- `real` : the elapsed time seen in real life.\n",
    "- `user` : the cpu time spent in the user code.\n",
    "- `sys`  : the cpu time spent in system calls."
   ]
  },
  {
   "cell_type": "code",
   "execution_count": 5,
   "metadata": {
    "slideshow": {
     "slide_type": "subslide"
    }
   },
   "outputs": [
    {
     "name": "stdout",
     "output_type": "stream",
     "text": [
      "./tmp.fibo.exe\n",
      "14930352\n",
      "\n",
      "real\t0m0.001s\n",
      "user\t0m0.001s\n",
      "sys\t0m0.000s\n"
     ]
    }
   ],
   "source": [
    "!bash -l ./tmp.time.bash ./tmp.fibo.exe"
   ]
  },
  {
   "cell_type": "markdown",
   "metadata": {
    "slideshow": {
     "slide_type": "slide"
    }
   },
   "source": [
    "## GNU `time` command\n",
    "\n",
    "- One can also use GNU time, if installed, which has useful options for formatting.\n",
    "- If you want to use the GNU flavor in a `bash`, you should backslash your call so to avoid the built-in command.\n",
    "- GNU time can also monitor the memory you use."
   ]
  },
  {
   "cell_type": "code",
   "execution_count": 6,
   "metadata": {
    "slideshow": {
     "slide_type": "subslide"
    }
   },
   "outputs": [
    {
     "name": "stdout",
     "output_type": "stream",
     "text": [
      "Overwriting tmp.time.bash\n"
     ]
    }
   ],
   "source": [
    "%%file tmp.time.bash\n",
    "\n",
    "echo $*\n",
    "\\time -f \"%U s, %M kBytes.\" $*"
   ]
  },
  {
   "cell_type": "code",
   "execution_count": 7,
   "metadata": {
    "slideshow": {
     "slide_type": "subslide"
    }
   },
   "outputs": [
    {
     "name": "stdout",
     "output_type": "stream",
     "text": [
      "g++ -std=c++17 tmp.fibo.cpp -o tmp.fibo.exe\n",
      "3.01 s, 64084 kBytes.\n"
     ]
    }
   ],
   "source": [
    "!bash -l ./tmp.time.bash g++ -std=c++17 tmp.fibo.cpp -o tmp.fibo.exe"
   ]
  },
  {
   "cell_type": "code",
   "execution_count": 8,
   "metadata": {
    "slideshow": {
     "slide_type": "subslide"
    }
   },
   "outputs": [
    {
     "name": "stdout",
     "output_type": "stream",
     "text": [
      "./tmp.fibo.exe\n",
      "14930352\n",
      "0.00 s, 3504 kBytes.\n"
     ]
    }
   ],
   "source": [
    "!bash -l ./tmp.time.bash ./tmp.fibo.exe"
   ]
  },
  {
   "cell_type": "code",
   "execution_count": 9,
   "metadata": {
    "slideshow": {
     "slide_type": "subslide"
    }
   },
   "outputs": [
    {
     "name": "stdout",
     "output_type": "stream",
     "text": [
      "Overwriting tmp.fibo.cpp\n"
     ]
    }
   ],
   "source": [
    "%%file tmp.fibo.cpp\n",
    "\n",
    "#include <iostream>\n",
    "\n",
    "int fibonacci( int n ) {\n",
    "  if (n>1) return fibonacci(n-1) + fibonacci(n-2) ;\n",
    "  else return n ;\n",
    "}\n",
    "\n",
    "int main() {\n",
    "  int res { fibonacci(36) } ;\n",
    "  std::cout<<res<<std::endl ;\n",
    "  return 0 ;\n",
    "}"
   ]
  },
  {
   "cell_type": "code",
   "execution_count": 10,
   "metadata": {
    "slideshow": {
     "slide_type": "subslide"
    }
   },
   "outputs": [
    {
     "name": "stdout",
     "output_type": "stream",
     "text": [
      "g++ -std=c++17 tmp.fibo.cpp -o tmp.fibo.exe\n",
      "0.26 s, 64820 kBytes.\n"
     ]
    }
   ],
   "source": [
    "!bash -l ./tmp.time.bash g++ -std=c++17 tmp.fibo.cpp -o tmp.fibo.exe"
   ]
  },
  {
   "cell_type": "code",
   "execution_count": 11,
   "metadata": {
    "slideshow": {
     "slide_type": "subslide"
    }
   },
   "outputs": [
    {
     "name": "stdout",
     "output_type": "stream",
     "text": [
      "./tmp.fibo.exe\n",
      "14930352\n",
      "0.09 s, 3472 kBytes.\n"
     ]
    }
   ],
   "source": [
    "!bash -l ./tmp.time.bash ./tmp.fibo.exe"
   ]
  },
  {
   "cell_type": "markdown",
   "metadata": {
    "slideshow": {
     "slide_type": "slide"
    }
   },
   "source": [
    "## Repeat\n",
    "\n",
    "When monitoring a command execution, especially a fast one, and especially when running on a non-reserved dedicated machine :\n",
    "- **run your program several times** and compute the mean,\n",
    "- **ensure each single run is long enough** so that the processor pipelines get filled and you go well beyond the initial computing latency."
   ]
  },
  {
   "cell_type": "markdown",
   "metadata": {
    "slideshow": {
     "slide_type": "subslide"
    }
   },
   "source": [
    "With the script below, we run the command once, so to check the result. Then we run it 10 times, measuring the time and memory with GNU time, and redirect the results into a python script, which will finally compute the means."
   ]
  },
  {
   "cell_type": "code",
   "execution_count": 12,
   "metadata": {
    "slideshow": {
     "slide_type": "subslide"
    }
   },
   "outputs": [
    {
     "name": "stdout",
     "output_type": "stream",
     "text": [
      "Writing tmp.repeat.bash\n"
     ]
    }
   ],
   "source": [
    "%%file tmp.repeat.bash\n",
    "\n",
    "echo $*\n",
    "$*\n",
    "\n",
    "rm -f tmp.repeat.py\n",
    "echo \"t = 0 ; m = 0\" >> tmp.repeat.py\n",
    "for i in 0 1 2 3 4 5 6 7 8 9\n",
    "do \\time -f \"t += %U ; m += %M\" -a -o ./tmp.repeat.py $* >> /dev/null\n",
    "done\n",
    "echo \"print('(~ {:.3f} s)'.format(t/10.))\" >> tmp.repeat.py\n",
    "echo \"print('(~ {:.0f} kBytes)'.format(m/10.))\" >> tmp.repeat.py\n",
    "python3 tmp.repeat.py"
   ]
  },
  {
   "cell_type": "code",
   "execution_count": 13,
   "metadata": {
    "slideshow": {
     "slide_type": "subslide"
    }
   },
   "outputs": [
    {
     "name": "stdout",
     "output_type": "stream",
     "text": [
      "g++ -std=c++17 tmp.fibo.cpp -o tmp.fibo.exe\n",
      "(~ 0.246 s)\n",
      "(~ 64882 kBytes)\n"
     ]
    }
   ],
   "source": [
    "!bash -l tmp.repeat.bash g++ -std=c++17 tmp.fibo.cpp -o tmp.fibo.exe"
   ]
  },
  {
   "cell_type": "code",
   "execution_count": 14,
   "metadata": {
    "slideshow": {
     "slide_type": "subslide"
    }
   },
   "outputs": [
    {
     "name": "stdout",
     "output_type": "stream",
     "text": [
      "./tmp.fibo.exe\n",
      "14930352\n",
      "(~ 0.099 s)\n",
      "(~ 3490 kBytes)\n"
     ]
    }
   ],
   "source": [
    "!bash -l tmp.repeat.bash ./tmp.fibo.exe"
   ]
  },
  {
   "cell_type": "markdown",
   "metadata": {},
   "source": [
    "If installed, you can also try [hyperfine](https://github.com/sharkdp/hyperfine):"
   ]
  },
  {
   "cell_type": "code",
   "execution_count": 15,
   "metadata": {},
   "outputs": [
    {
     "name": "stdout",
     "output_type": "stream",
     "text": [
      "\u001b[2K\u001b[1mBenchmark \u001b[0m\u001b[1m1\u001b[0m: ./tmp.fibo.exe░░░░░░░░░░░░░░░░░░░░░░░░ ETA 00:00:00\n",
      "\u001b[2K  Time (\u001b[1;32mmean\u001b[0m ± \u001b[32mσ\u001b[0m):     \u001b[1;32m 99.6 ms\u001b[0m ± \u001b[32m  4.0 ms\u001b[0m    [User: \u001b[34m99.2 ms\u001b[0m, System: \u001b[34m0.4 ms\u001b[0m]\n",
      "  Range (\u001b[36mmin\u001b[0m … \u001b[35mmax\u001b[0m):   \u001b[36m 96.6 ms\u001b[0m … \u001b[35m113.8 ms\u001b[0m    \u001b[2m30 runs\u001b[0m\n",
      " \n"
     ]
    }
   ],
   "source": [
    "!hyperfine --warmup 3 \"./tmp.fibo.exe\""
   ]
  },
  {
   "cell_type": "markdown",
   "metadata": {
    "slideshow": {
     "slide_type": "slide"
    }
   },
   "source": [
    "# Questions ?"
   ]
  },
  {
   "cell_type": "markdown",
   "metadata": {
    "slideshow": {
     "slide_type": "slide"
    }
   },
   "source": [
    "# Resources\n",
    "\n",
    "- [hyperfine](https://github.com/sharkdp/hyperfine)."
   ]
  },
  {
   "cell_type": "markdown",
   "metadata": {
    "slideshow": {
     "slide_type": "skip"
    }
   },
   "source": [
    "© *CNRS 2024*\n",
    "*Assembled and written in french by David Chamont, this work is made available according to the terms of the [Creative Commons License - Attribution - NonCommercial - ShareAlike 4.0 International](http://creativecommons.org/licenses/by-nc-sa/4.0/)*"
   ]
  }
 ],
 "metadata": {
  "celltoolbar": "Diaporama",
  "kernelspec": {
   "display_name": "Python 3 (ipykernel)",
   "language": "python",
   "name": "python3"
  },
  "language_info": {
   "codemirror_mode": {
    "name": "ipython",
    "version": 3
   },
   "file_extension": ".py",
   "mimetype": "text/x-python",
   "name": "python",
   "nbconvert_exporter": "python",
   "pygments_lexer": "ipython3",
   "version": "3.11.8"
  }
 },
 "nbformat": 4,
 "nbformat_minor": 4
}
