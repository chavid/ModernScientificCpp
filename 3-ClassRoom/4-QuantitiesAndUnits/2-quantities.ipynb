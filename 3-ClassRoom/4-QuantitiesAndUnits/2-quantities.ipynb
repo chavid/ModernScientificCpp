{
 "cells": [
  {
   "cell_type": "markdown",
   "metadata": {
    "slideshow": {
     "slide_type": "slide"
    }
   },
   "source": [
    "# Multiple of units and user-defined litterals"
   ]
  },
  {
   "cell_type": "markdown",
   "metadata": {
    "slideshow": {
     "slide_type": "slide"
    }
   },
   "source": [
    "## Motivation\n",
    "\n",
    "Strong typing enables to differantiate quantities, and give units to our variables, rather than using simples builtin types such as `int` or `double`.\n",
    "\n",
    "However, when we consider the many units which are multiples one of another, such as meters and kilometers, we feel they are mostly **interoperable**. Rather than coding a different type for each multiple, let's introduce some kind of multipliers."
   ]
  },
  {
   "cell_type": "markdown",
   "metadata": {
    "slideshow": {
     "slide_type": "slide"
    }
   },
   "source": [
    "## Old fashion constants\n",
    "\n",
    "The simple legacy solution consist to define constants which are multiplied by the original literal values."
   ]
  },
  {
   "cell_type": "code",
   "execution_count": 1,
   "metadata": {
    "slideshow": {
     "slide_type": "subslide"
    }
   },
   "outputs": [],
   "source": [
    "template< typename UnderlyingType, typename TagType >\n",
    "class StrongTypedef\n",
    " {\n",
    "  public :\n",
    "    explicit StrongTypedef( UnderlyingType value ) : my_value{value} {}\n",
    "    explicit operator UnderlyingType() const { return my_value ; }\n",
    "    UnderlyingType operator*( UnderlyingType value ) const { return my_value*value ; }\n",
    "    UnderlyingType operator/( UnderlyingType value ) const { return my_value/value ; }\n",
    "  private :\n",
    "    UnderlyingType my_value ;\n",
    " } ;"
   ]
  },
  {
   "cell_type": "code",
   "execution_count": 2,
   "metadata": {
    "slideshow": {
     "slide_type": "subslide"
    }
   },
   "outputs": [],
   "source": [
    "using Meter = StrongTypedef<double,struct MeterTag> ;\n",
    "const double M = 1.0 ;\n",
    "const double KM = 1000.0 ;\n",
    "const double MM = 0.001 ;"
   ]
  },
  {
   "cell_type": "code",
   "execution_count": 3,
   "metadata": {
    "slideshow": {
     "slide_type": "fragment"
    }
   },
   "outputs": [],
   "source": [
    "using Liter = StrongTypedef<double,struct LiterTag> ;\n",
    "const double L = 1.0 ;\n",
    "const double HL = 100.0 ;\n",
    "const double CL = 0.01 ;"
   ]
  },
  {
   "cell_type": "code",
   "execution_count": 4,
   "metadata": {
    "slideshow": {
     "slide_type": "skip"
    }
   },
   "outputs": [],
   "source": [
    "#include <iostream>"
   ]
  },
  {
   "cell_type": "code",
   "execution_count": 5,
   "metadata": {
    "slideshow": {
     "slide_type": "fragment"
    }
   },
   "outputs": [
    {
     "name": "stdout",
     "output_type": "stream",
     "text": [
      "8.40989 l/100km\n"
     ]
    }
   ],
   "source": [
    "Liter fuel { 2.38*L } ;\n",
    "Meter distance { 28.3*KM } ;\n",
    "std::cout << (fuel/(distance/(100.*KM))) << \" l/100km\" << std::endl ;"
   ]
  },
  {
   "cell_type": "markdown",
   "metadata": {
    "slideshow": {
     "slide_type": "skip"
    }
   },
   "source": [
    "Unhappily, consistency between units and multiples is not checked by the compiler : one can use a constant `L` in a `Meter` construction. Try to swap `L` and `KM` in the previous example : it does compile without any complain."
   ]
  },
  {
   "cell_type": "markdown",
   "metadata": {
    "slideshow": {
     "slide_type": "skip"
    }
   },
   "source": [
    "Note : in the above example, we can notice that every quantity can be divided by a quantity of a different flavor, but we do not know what should be the type of the result. As a temporary fallback, we return a value of the underlying type."
   ]
  },
  {
   "cell_type": "markdown",
   "metadata": {
    "slideshow": {
     "slide_type": "skip"
    }
   },
   "source": [
    "Note : in the above example, we chose arbitrarily to store the value in meters and liters. If you uses quantities which are mainly kind of liter per 100km, it is wiser to store the distances in \"hundreds of kilometers\". **the closer the stored values to 1, the better the precision of floating point computation**. This does not make a difference here, but may prove crucial if you handle very small or very large quantities."
   ]
  },
  {
   "cell_type": "markdown",
   "metadata": {
    "slideshow": {
     "slide_type": "slide"
    }
   },
   "source": [
    "## Modern constants\n",
    "\n",
    "Nowadays, we can use strong types for constant, and preprocess more stuff at compile time."
   ]
  },
  {
   "cell_type": "code",
   "execution_count": 6,
   "metadata": {
    "slideshow": {
     "slide_type": "subslide"
    }
   },
   "outputs": [],
   "source": [
    "template< typename UnderlyingType, typename TagType >\n",
    "class StrongTypedef\n",
    " {\n",
    "  public :\n",
    "    constexpr explicit StrongTypedef( UnderlyingType value ) : my_value{value} {}\n",
    "    constexpr explicit operator UnderlyingType() const { return my_value ; }\n",
    "    constexpr UnderlyingType operator*( UnderlyingType value ) const { return my_value*value ; }\n",
    "    constexpr UnderlyingType operator/( UnderlyingType value ) const { return my_value/value ; }\n",
    "  private :\n",
    "    UnderlyingType my_value ;\n",
    " } ;"
   ]
  },
  {
   "cell_type": "code",
   "execution_count": 7,
   "metadata": {
    "slideshow": {
     "slide_type": "subslide"
    }
   },
   "outputs": [],
   "source": [
    "template< typename UT, typename TT >\n",
    "constexpr auto operator*( UT lhs, StrongTypedef<UT,TT> rhs )\n",
    " { return StrongTypedef<UT,TT>(lhs*static_cast<UT>(rhs)) ; }"
   ]
  },
  {
   "cell_type": "code",
   "execution_count": 8,
   "metadata": {
    "slideshow": {
     "slide_type": "fragment"
    }
   },
   "outputs": [],
   "source": [
    "template< typename UT, typename TT1, typename TT2 >\n",
    "constexpr auto operator/( const StrongTypedef<UT,TT1> & lhs, const StrongTypedef<UT,TT2> & rhs )\n",
    " { return (static_cast<UT>(lhs)/static_cast<UT>(rhs)) ; }"
   ]
  },
  {
   "cell_type": "code",
   "execution_count": 9,
   "metadata": {
    "slideshow": {
     "slide_type": "subslide"
    }
   },
   "outputs": [],
   "source": [
    "using Meter = StrongTypedef<double,struct MeterTag> ;\n",
    "constexpr Meter M { 1.0 } ;\n",
    "constexpr Meter KM { 1000.0 } ;\n",
    "constexpr Meter MM { 0.001 } ;"
   ]
  },
  {
   "cell_type": "code",
   "execution_count": 10,
   "metadata": {
    "slideshow": {
     "slide_type": "fragment"
    }
   },
   "outputs": [],
   "source": [
    "using Liter = StrongTypedef<double,struct LiterTag> ;\n",
    "constexpr Liter L { 1.0 } ;\n",
    "constexpr Liter HL { 100.0 } ;\n",
    "constexpr Liter CL { 0.01 } ;"
   ]
  },
  {
   "cell_type": "code",
   "execution_count": 11,
   "metadata": {
    "slideshow": {
     "slide_type": "skip"
    }
   },
   "outputs": [],
   "source": [
    "#include <iostream>"
   ]
  },
  {
   "cell_type": "code",
   "execution_count": 12,
   "metadata": {
    "slideshow": {
     "slide_type": "subslide"
    }
   },
   "outputs": [
    {
     "name": "stdout",
     "output_type": "stream",
     "text": [
      "8.40989 l/100km\n"
     ]
    }
   ],
   "source": [
    "constexpr Liter fuel { 2.38*L } ;\n",
    "constexpr Meter distance { 28.3*KM } ;\n",
    "constexpr double consumption = fuel/(distance/(100.*KM)) ;\n",
    "std::cout<<consumption<<\" l/100km\"<<std::endl;"
   ]
  },
  {
   "cell_type": "markdown",
   "metadata": {
    "slideshow": {
     "slide_type": "subslide"
    }
   },
   "source": [
    "This approach still suffers from some limitations. In particular, if you forget the parentheses around `100.*KM`, you end up multiplying by `KM` instead of dividing."
   ]
  },
  {
   "cell_type": "markdown",
   "metadata": {
    "slideshow": {
     "slide_type": "slide"
    }
   },
   "source": [
    "## User-defined litterals\n",
    "\n",
    "Since a long time, C++ uses suffixes to modify the type of some literals. For example, `42ll` is a `long long` type, and `3.14f` is a `float`.\n",
    "\n",
    "C++11 introduce the possibility for developpers to define customized suffixes in the form of `_something`."
   ]
  },
  {
   "cell_type": "markdown",
   "metadata": {
    "slideshow": {
     "slide_type": "subslide"
    }
   },
   "source": [
    "Details of this mechanism are bloody complicated (IMHO). Yet, basically, for numbers, one has to overload two flavors of the operator `operator\"\"_something` :\n",
    "* one with a `long double` argument, so to deal with any kind of floating point number,\n",
    "* one with an `unsigned long long` argument, so to deal with any kind of integer."
   ]
  },
  {
   "cell_type": "markdown",
   "metadata": {
    "slideshow": {
     "slide_type": "subslide"
    }
   },
   "source": [
    "For examples, we define below a `_K` suffix, which is able to multiply by 1000 any integers or floating point number :"
   ]
  },
  {
   "cell_type": "code",
   "execution_count": 13,
   "metadata": {
    "slideshow": {
     "slide_type": "fragment"
    }
   },
   "outputs": [
    {
     "name": "stdout",
     "output_type": "stream",
     "text": [
      "Writing tmp.quantities.cpp\n"
     ]
    }
   ],
   "source": [
    "%%file tmp.quantities.cpp\n",
    "\n",
    "#include <iostream>\n",
    "\n",
    "long double operator \"\"_K ( long double value )\n",
    " { return 1000.l*value ; }\n",
    "\n",
    "unsigned long long operator \"\"_K ( unsigned long long value )\n",
    " { return 1000ll*value ; }\n",
    "\n",
    "int main()\n",
    " {\n",
    "  std::cout<<5_K<<\" euros\"<<std::endl ;\n",
    "  std::cout<<28.3_K<<\" meters\"<<std::endl ;\n",
    " }"
   ]
  },
  {
   "cell_type": "code",
   "execution_count": 14,
   "metadata": {
    "slideshow": {
     "slide_type": "fragment"
    }
   },
   "outputs": [],
   "source": [
    "!rm -f tmp.quantities.exe && g++ -std=c++17 tmp.quantities.cpp -o tmp.quantities.exe"
   ]
  },
  {
   "cell_type": "code",
   "execution_count": 15,
   "metadata": {
    "slideshow": {
     "slide_type": "fragment"
    }
   },
   "outputs": [
    {
     "name": "stdout",
     "output_type": "stream",
     "text": [
      "5000 euros\n",
      "28300 meters\n"
     ]
    }
   ],
   "source": [
    "!./tmp.quantities.exe"
   ]
  },
  {
   "cell_type": "markdown",
   "metadata": {
    "slideshow": {
     "slide_type": "subslide"
    }
   },
   "source": [
    "In the above functions, we use the same type as input and output, but actually **the returned type is at your convenience**. Usually, we will return strong types. In particular, in our first example, it is easy to replace constants by user-defined litterals which return `Meter` and `Liter` values."
   ]
  },
  {
   "cell_type": "markdown",
   "metadata": {
    "slideshow": {
     "slide_type": "subslide"
    }
   },
   "source": [
    "BEWARE: the xeus-cling notebook kernel is not able to parse the user-defined litterals. This is why all the related examples are done with `%%file`."
   ]
  },
  {
   "cell_type": "markdown",
   "metadata": {
    "slideshow": {
     "slide_type": "slide"
    }
   },
   "source": [
    "##  In the standard library\n",
    "\n",
    "The `_` is required only for suffixes defined by developers, in order to differentiate them from the suffixes defined by the standard library.\n",
    "\n",
    "Let's list existing suffixes below. They are always defined in a specific namespace, and **their usage requires a previous a call to `using`**."
   ]
  },
  {
   "cell_type": "markdown",
   "metadata": {
    "slideshow": {
     "slide_type": "subslide"
    }
   },
   "source": [
    "For complex numbers, since C++14 :\n",
    "* require `using namespace std::literals::complex_literals` ;\n",
    "* `\"\"if` : pur imaginary based on `float` ;\n",
    "* `\"\"i`  : pur imaginary based on `double` ;\n",
    "* `\"\"il` : pur imaginary based on `long double`."
   ]
  },
  {
   "cell_type": "markdown",
   "metadata": {
    "slideshow": {
     "slide_type": "subslide"
    }
   },
   "source": [
    "For durations :\n",
    "* require `using namespace std::literals::chrono_literals` ;\n",
    "* since C++14 : `\"\"h`, `\"\"min`, `\"\"s`, `\"\"ms`, `\"\"us` et `\"\"ns` ;\n",
    "* since C++20 : `\"\"y` et `\"\"d`."
   ]
  },
  {
   "cell_type": "markdown",
   "metadata": {
    "slideshow": {
     "slide_type": "subslide"
    }
   },
   "source": [
    "For strings of characters :\n",
    "* require `using namespace std::literals::string_literals` ;\n",
    "* since C++14 : `\"\"s` (`basic_string`) ;\n",
    "* since C++17 : `\"\"sv` (`string_view`)."
   ]
  },
  {
   "cell_type": "markdown",
   "metadata": {
    "slideshow": {
     "slide_type": "slide"
    }
   },
   "source": [
    "# Questions ?"
   ]
  },
  {
   "cell_type": "markdown",
   "metadata": {
    "slideshow": {
     "slide_type": "skip"
    }
   },
   "source": [
    "# Exercise\n",
    "\n",
    "Below is a copy of the example given at the beginning of this notebook.\n",
    "1. Replace the constants with user-defined litterals.\n",
    "2. Try to use 100km as a reference internal unit."
   ]
  },
  {
   "cell_type": "code",
   "execution_count": 13,
   "metadata": {
    "slideshow": {
     "slide_type": "skip"
    }
   },
   "outputs": [
    {
     "name": "stdout",
     "output_type": "stream",
     "text": [
      "Overwriting tmp.quantities.cpp\n"
     ]
    }
   ],
   "source": [
    "%%file tmp.quantities.cpp\n",
    "\n",
    "#include <iostream>\n",
    "\n",
    "template< typename UnderlyingType, typename TagType >\n",
    "class StrongTypedef\n",
    " {\n",
    "  public  :\n",
    "    constexpr explicit StrongTypedef( UnderlyingType value ) : my_value{value} {}\n",
    "    constexpr explicit operator UnderlyingType() const { return my_value ; }\n",
    "    constexpr UnderlyingType operator*( UnderlyingType value ) const { return my_value*value ; }\n",
    "    constexpr UnderlyingType operator/( UnderlyingType value ) const { return my_value/value ; }\n",
    "  private : \n",
    "    UnderlyingType my_value ;\n",
    " } ;\n",
    " \n",
    "template< typename UT, typename TT >\n",
    "constexpr auto operator*( UT lhs, StrongTypedef<UT,TT> rhs )\n",
    " { return StrongTypedef<UT,TT>{lhs*static_cast<UT>(rhs)} ; }\n",
    " \n",
    "template< typename UT, typename TT1, typename TT2 >\n",
    "constexpr auto operator/( const StrongTypedef<UT,TT1> & lhs, const StrongTypedef<UT,TT2> & rhs )\n",
    " { return (static_cast<UT>(lhs)/static_cast<UT>(rhs)) ; }\n",
    "\n",
    "template< typename UT, typename TT >\n",
    "auto & operator<<( std::ostream & os, StrongTypedef<UT,TT> data )\n",
    " { return (os<<static_cast<UT>(data)) ; }\n",
    "\n",
    "using Liter = StrongTypedef<double,struct LiterTag> ;\n",
    "\n",
    "// TO BE COMPLETED\n",
    "\n",
    "using Meter = StrongTypedef<double,struct MeterTag> ;\n",
    "\n",
    "// TO BE COMPLETED\n",
    "\n",
    "int main()\n",
    " {\n",
    "  constexpr auto fuel { 2.38_L } ;\n",
    "  constexpr auto distance { 28.3_KM } ;\n",
    "  constexpr auto consumption = fuel/(distance/100._KM) ;\n",
    "  std::cout<<consumption<<\" l/100km\"<<std::endl;\n",
    " }"
   ]
  },
  {
   "cell_type": "code",
   "execution_count": 14,
   "metadata": {
    "slideshow": {
     "slide_type": "skip"
    }
   },
   "outputs": [
    {
     "name": "stdout",
     "output_type": "stream",
     "text": [
      "tmp.quantities.cpp: In function 'int main()':\n",
      "tmp.quantities.cpp:36:25: error: unable to find numeric literal operator 'operator\"\"_L'\n",
      "   36 |   constexpr auto fuel { 2.38_L } ;\n",
      "      |                         ^~~~~~\n",
      "tmp.quantities.cpp:36:25: note: use '-fext-numeric-literals' to enable more built-in suffixes\n",
      "tmp.quantities.cpp:37:29: error: unable to find numeric literal operator 'operator\"\"_KM'\n",
      "   37 |   constexpr auto distance { 28.3_KM } ;\n",
      "      |                             ^~~~~~~\n",
      "tmp.quantities.cpp:37:29: note: use '-fext-numeric-literals' to enable more built-in suffixes\n",
      "tmp.quantities.cpp:38:47: error: unable to find numeric literal operator 'operator\"\"_KM'\n",
      "   38 |   constexpr auto consumption = fuel/(distance/100._KM) ;\n",
      "      |                                               ^~~~~~~\n",
      "tmp.quantities.cpp:38:47: note: use '-fext-numeric-literals' to enable more built-in suffixes\n"
     ]
    }
   ],
   "source": [
    "!rm -f tmp.quantities.exe && g++ -std=c++17 tmp.quantities.cpp -o tmp.quantities.exe"
   ]
  },
  {
   "cell_type": "code",
   "execution_count": 15,
   "metadata": {
    "slideshow": {
     "slide_type": "skip"
    }
   },
   "outputs": [
    {
     "name": "stdout",
     "output_type": "stream",
     "text": [
      "sh: 1: ./tmp.quantities.exe: not found\n"
     ]
    }
   ],
   "source": [
    "!./tmp.quantities.exe"
   ]
  },
  {
   "cell_type": "markdown",
   "metadata": {
    "slideshow": {
     "slide_type": "skip"
    }
   },
   "source": [
    "## Resources & inspirations\n",
    "\n",
    "* https://akrzemi1.wordpress.com/2012/08/12/user-defined-literals-part-i/\n",
    "* https://en.cppreference.com/w/cpp/language/user_literal"
   ]
  },
  {
   "cell_type": "markdown",
   "metadata": {
    "slideshow": {
     "slide_type": "skip"
    }
   },
   "source": [
    "© *CNRS 2020*  \n",
    "*Assembled and written by David Chamont, translated by Pierre Aubert, this work is made available according to the terms of the*  \n",
    "[*Creative Commons License - Attribution - NonCommercial - ShareAlike 4.0 International*](http://creativecommons.org/licenses/by-nc-sa/4.0/)"
   ]
  }
 ],
 "metadata": {
  "celltoolbar": "Diaporama",
  "kernelspec": {
   "display_name": "C++17",
   "language": "C++17",
   "name": "xcpp17"
  },
  "language_info": {
   "codemirror_mode": "text/x-c++src",
   "file_extension": ".cpp",
   "mimetype": "text/x-c++src",
   "name": "c++",
   "version": "17"
  }
 },
 "nbformat": 4,
 "nbformat_minor": 4
}
