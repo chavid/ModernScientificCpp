{
 "cells": [
  {
   "cell_type": "markdown",
   "metadata": {
    "slideshow": {
     "slide_type": "slide"
    }
   },
   "source": [
    "# Strong typing and International System of Units\n",
    "\n",
    "<img src=\"img/si-c-logo.png\" width=100px align=\"right\"/>\n",
    "\n",
    "We generally pretend that we pratice object-oriented programming. However, when we have to choose the type of a new object, we still focus on its content rather than its behaviour, **especially when we deal with scalar numbers**. We choose `float` or `double`, and that's it. For an integer content, we choose `int`, rarely `short`, sometimes `long` if we suspect very big numbers, and that's it. Since **we ignore the meaning** of what we describe, we can **add meters with seconds**, or **confuse a table index with an object identifier**, without any complain from the compiler..."
   ]
  },
  {
   "cell_type": "markdown",
   "metadata": {
    "slideshow": {
     "slide_type": "subslide"
    }
   },
   "source": [
    "C++, especially nowadays, contains helpful functionnalities for the construction of **meaningful types**, for instance for the physical quantities :\n",
    "1. [Give units to scalar values](1-units.ipynb)\n",
    "2. [Handle multiples with user-defined literals](2-quantities.ipynb)\n",
    "3. [Combine them all](3-dimensions.ipynb)\n",
    "3. [Centralize constants](4-constants.ipynb)\n",
    "4. [BUT there are unsolved issues...](5-remaining-issues.ipynb)"
   ]
  },
  {
   "cell_type": "markdown",
   "metadata": {
    "slideshow": {
     "slide_type": "skip"
    }
   },
   "source": [
    "## Main ressources and inspirations\n",
    "\n",
    "Blogs\n",
    "* [Strong typedefs, par Jonathan Muller](https://foonathan.net/2016/10/strong-typedefs/)\n",
    "* [Strong types, par Jonathan Boccara](https://www.fluentcpp.com/2016/12/08/strong-types-for-strong-interfaces/)\n",
    "* [Opaque typedef, par Kyle Markley, 2016](https://sourceforge.net/p/opaque-typedef/wiki/Home/)\n",
    "\n",
    "Wikipedia\n",
    "* [International System of Units](https://en.wikipedia.org/wiki/International_System_of_Units)\n",
    "\n",
    "Propositions to standardization committee\n",
    "* [Opaque Typedefs, P0109](https://wg21.link/p0109)\n",
    "* [A C++ Approach to Physical Units, P1935](https://wg21.link/p1935)"
   ]
  },
  {
   "cell_type": "markdown",
   "metadata": {
    "slideshow": {
     "slide_type": "skip"
    }
   },
   "source": [
    "© *CNRS 2024*  \n",
    "*Assembled and written by David Chamont, translated by Pierre Aubert, this work is made available according to the terms of the*  \n",
    "[*Creative Commons License - Attribution - NonCommercial - ShareAlike 4.0 International*](http://creativecommons.org/licenses/by-nc-sa/4.0/)"
   ]
  }
 ],
 "metadata": {
  "celltoolbar": "Diaporama",
  "kernelspec": {
   "display_name": "Python 3 (ipykernel)",
   "language": "python",
   "name": "python3"
  },
  "language_info": {
   "codemirror_mode": {
    "name": "ipython",
    "version": 3
   },
   "file_extension": ".py",
   "mimetype": "text/x-python",
   "name": "python",
   "nbconvert_exporter": "python",
   "pygments_lexer": "ipython3",
   "version": "3.11.8"
  }
 },
 "nbformat": 4,
 "nbformat_minor": 4
}
