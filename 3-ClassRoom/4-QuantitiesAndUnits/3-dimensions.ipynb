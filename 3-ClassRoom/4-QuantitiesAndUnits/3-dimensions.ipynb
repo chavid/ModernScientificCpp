{
 "cells": [
  {
   "cell_type": "markdown",
   "metadata": {
    "slideshow": {
     "slide_type": "slide"
    }
   },
   "source": [
    "# Dimensional Analysis\n",
    "\n",
    "**Strong typedef** and **customized suffix** enables to define specific types for different basic physics quantities, and for their multiples, but we quickly noticed derived units are missing, formed by powers, products or fractions of basic units. There is an illimited number of possible combinations."
   ]
  },
  {
   "cell_type": "markdown",
   "metadata": {
    "slideshow": {
     "slide_type": "subslide"
    }
   },
   "source": [
    "## A single class for all units\n",
    "\n",
    "Rather than writing an infinite number of classes, we will use a single template class, which will include integer parameters to describe the dimension of each base units :\n",
    "1. Mass, in kilograms,\n",
    "2. Time, in seconds,\n",
    "3. Length, in meters,\n",
    "4. Thermodynamic temperature, in kelvins,\n",
    "5. Electric current, in amperes,\n",
    "6. Amount of substance, in moles,\n",
    "7. Luminous Intensity, in candelas."
   ]
  },
  {
   "cell_type": "markdown",
   "metadata": {
    "slideshow": {
     "slide_type": "slide"
    }
   },
   "source": [
    "## A simplified example\n",
    "\n",
    "To introduce the idea with a simplified case, let's create a class template with 2 integers parameters, which correspond to the powers of both the `time` and `lenght` dimensions, and a generic operator `/` allowing us to compute a velocity or an acceleration :"
   ]
  },
  {
   "cell_type": "code",
   "execution_count": 1,
   "metadata": {
    "slideshow": {
     "slide_type": "subslide"
    }
   },
   "outputs": [
    {
     "name": "stdout",
     "output_type": "stream",
     "text": [
      "Overwriting tmp.dimensions.siunit-1.h\n"
     ]
    }
   ],
   "source": [
    "%%file tmp.dimensions.siunit-1.h\n",
    "\n",
    "template< typename UnderlyingType, int s, int m >\n",
    "class SiUnit\n",
    " {\n",
    "  public :\n",
    "    explicit constexpr SiUnit( UnderlyingType value ) : my_value{value} {}\n",
    "    explicit constexpr operator UnderlyingType() const { return my_value ; }\n",
    "    friend bool operator<=( SiUnit lhs, SiUnit rhs ) { return (lhs.my_value<=rhs.my_value) ; }\n",
    "  private :\n",
    "    UnderlyingType my_value ;\n",
    " } ;"
   ]
  },
  {
   "cell_type": "code",
   "execution_count": 2,
   "metadata": {
    "slideshow": {
     "slide_type": "subslide"
    }
   },
   "outputs": [
    {
     "name": "stdout",
     "output_type": "stream",
     "text": [
      "Overwriting tmp.dimensions.siunit-2.h\n"
     ]
    }
   ],
   "source": [
    "%%file tmp.dimensions.siunit-2.h\n",
    "\n",
    "template< typename UT, int s, int m >\n",
    "std::ostream & operator<<( std::ostream & os, const SiUnit<UT,s,m> & obj )\n",
    " { return (os<<static_cast<UT>(obj)) ; }\n",
    "\n",
    "template< typename UT, int s1, int m1, int s2, int m2 >\n",
    "constexpr auto operator*( SiUnit<UT,s1,m1> lhs, SiUnit<UT,s2,m2> rhs )\n",
    " { return SiUnit<UT,s1+s2,m1+m2>(static_cast<UT>(lhs)*static_cast<UT>(rhs)) ; }\n",
    "\n",
    "template< typename UT, int s1, int m1, int s2, int m2 >\n",
    "constexpr auto operator/( SiUnit<UT,s1,m1> lhs, SiUnit<UT,s2,m2> rhs )\n",
    " { return SiUnit<UT,s1-s2,m1-m2>(static_cast<UT>(lhs)/static_cast<UT>(rhs)) ; }"
   ]
  },
  {
   "cell_type": "code",
   "execution_count": 3,
   "metadata": {
    "slideshow": {
     "slide_type": "subslide"
    }
   },
   "outputs": [
    {
     "name": "stdout",
     "output_type": "stream",
     "text": [
      "Overwriting tmp.dimensions.siunit-3.h\n"
     ]
    }
   ],
   "source": [
    "%%file tmp.dimensions.siunit-3.h\n",
    "\n",
    "using Time = SiUnit<double,1,0> ;\n",
    "constexpr Time operator \"\"_Se ( long double value )\n",
    " { return Time{static_cast<double>(value)} ; }\n",
    "constexpr Time operator \"\"_Mi ( long double value )\n",
    " { return Time{static_cast<double>(value)*60} ; }\n",
    "constexpr Time operator \"\"_H ( long double value )\n",
    " { return Time{static_cast<double>(value)*60*60} ; }\n",
    "\n",
    "using Length = SiUnit<double,0,1> ;\n",
    "constexpr Length operator \"\"_M ( long double value )\n",
    " { return Length{static_cast<double>(value)} ; }\n",
    "constexpr Length operator \"\"_KM ( long double value )\n",
    " { return Length{static_cast<double>(value)*1000} ; }\n",
    "\n",
    "using Speed = SiUnit<double,-1,1> ;"
   ]
  },
  {
   "cell_type": "code",
   "execution_count": 4,
   "metadata": {
    "slideshow": {
     "slide_type": "subslide"
    }
   },
   "outputs": [
    {
     "name": "stdout",
     "output_type": "stream",
     "text": [
      "Overwriting tmp.dimensions.cpp\n"
     ]
    }
   ],
   "source": [
    "%%file tmp.dimensions.cpp\n",
    "\n",
    "#include <iostream>\n",
    "#include \"tmp.dimensions.siunit-1.h\"\n",
    "#include \"tmp.dimensions.siunit-2.h\"\n",
    "#include \"tmp.dimensions.siunit-3.h\"\n",
    "\n",
    "int main()\n",
    " {\n",
    "  constexpr auto l { 28._KM } ;\n",
    "  constexpr auto d { 39._Mi } ;\n",
    "  constexpr Speed vmax = 50._KM/1._H ;\n",
    "  constexpr Speed v = l/d ;\n",
    "  std::cout<<\"Max  speed : \"<<vmax<<\" m/s\"<<std::endl ;\n",
    "  std::cout<<\"Mean speed : \"<<v<<\" m/s\"<<std::endl ;\n",
    "  if (v<=vmax) { std::cout<<\"You drive safely :)\"<<std::endl ; } \n",
    "  else { std::cout<<\"You drive too fast :(\"<<std::endl ; } \n",
    " }"
   ]
  },
  {
   "cell_type": "code",
   "execution_count": 5,
   "metadata": {
    "slideshow": {
     "slide_type": "skip"
    }
   },
   "outputs": [],
   "source": [
    "!rm -f tmp.dimensions.exe && g++ -std=c++17 tmp.dimensions.cpp -o tmp.dimensions.exe"
   ]
  },
  {
   "cell_type": "code",
   "execution_count": 6,
   "metadata": {
    "slideshow": {
     "slide_type": "subslide"
    }
   },
   "outputs": [
    {
     "name": "stdout",
     "output_type": "stream",
     "text": [
      "Max  speed : 13.8889 m/s\n",
      "Mean speed : 11.9658 m/s\n",
      "You drive safely :)\n"
     ]
    }
   ],
   "source": [
    "!./tmp.dimensions.exe"
   ]
  },
  {
   "cell_type": "markdown",
   "metadata": {
    "slideshow": {
     "slide_type": "skip"
    }
   },
   "source": [
    "Note with our new \"dimensionned\" units, if we write `l*d` instead of `l/d` by mistake, we will produce a quantity with different type as velocity, and the compiler will detect the issue !"
   ]
  },
  {
   "cell_type": "markdown",
   "metadata": {
    "slideshow": {
     "slide_type": "slide"
    }
   },
   "source": [
    "##  Last refinements\n",
    "\n",
    "In our previous example, we can regret the heaviness of the expression `50._KM/1._H`, where we would simply like to say `50_KM/H`. As the use of `/` is not allowed in the suffix, we cannot create\n",
    "suffix `_KM/H`, but we still can go back to the creation of constants to make this writing valid. Furthermore, we can get rid of the `.` by overloading also the variant `unsigned long long` of suffix."
   ]
  },
  {
   "cell_type": "code",
   "execution_count": 7,
   "metadata": {
    "slideshow": {
     "slide_type": "subslide"
    }
   },
   "outputs": [
    {
     "name": "stdout",
     "output_type": "stream",
     "text": [
      "Overwriting tmp.dimensions.siunit-3.h\n"
     ]
    }
   ],
   "source": [
    "%%file tmp.dimensions.siunit-3.h\n",
    "\n",
    "using Time = SiUnit<double,1,0> ;\n",
    "\n",
    "constexpr Time operator \"\"_Se ( long double value )\n",
    " { return Time{static_cast<double>(value)} ; }\n",
    "constexpr Time operator \"\"_Mi ( long double value )\n",
    " { return Time{static_cast<double>(value)*60} ; }\n",
    "constexpr Time operator \"\"_H ( long double value )\n",
    " { return Time{static_cast<double>(value)*60*60} ; }\n",
    "\n",
    "constexpr Time operator \"\"_Se ( unsigned long long value )\n",
    " { return Time{static_cast<double>(value)} ; }\n",
    "constexpr Time operator \"\"_Mi ( unsigned long long value )\n",
    " { return Time{static_cast<double>(value)*60} ; }\n",
    "constexpr Time operator \"\"_H ( unsigned long long value )\n",
    " { return Time{static_cast<double>(value)*60*60} ; }\n",
    "\n",
    "constexpr Time Se { 1._Se } ;\n",
    "constexpr Time Mi { 1._Mi } ;\n",
    "constexpr Time H { 1._H } ;"
   ]
  },
  {
   "cell_type": "code",
   "execution_count": 8,
   "metadata": {
    "slideshow": {
     "slide_type": "subslide"
    }
   },
   "outputs": [
    {
     "name": "stdout",
     "output_type": "stream",
     "text": [
      "Overwriting tmp.dimensions.siunit-4.h\n"
     ]
    }
   ],
   "source": [
    "%%file tmp.dimensions.siunit-4.h\n",
    "\n",
    "using Length = SiUnit<double,0,1> ;\n",
    "\n",
    "constexpr Length operator \"\"_M ( long double value )\n",
    " { return Length{static_cast<double>(value)} ; }\n",
    "constexpr Length operator \"\"_KM ( long double value )\n",
    " { return Length{static_cast<double>(value)*1000} ; }\n",
    "\n",
    "constexpr Length operator \"\"_M ( unsigned long long value )\n",
    " { return Length{static_cast<double>(value)} ; }\n",
    "constexpr Length operator \"\"_KM ( unsigned long long value )\n",
    " { return Length{static_cast<double>(value)*1000} ; }\n",
    "\n",
    "constexpr Length M { 1._M } ;\n",
    "constexpr Length KM { 1._KM } ;"
   ]
  },
  {
   "cell_type": "code",
   "execution_count": 9,
   "metadata": {
    "slideshow": {
     "slide_type": "subslide"
    }
   },
   "outputs": [
    {
     "name": "stdout",
     "output_type": "stream",
     "text": [
      "Overwriting tmp.dimensions.siunit-5.h\n"
     ]
    }
   ],
   "source": [
    "%%file tmp.dimensions.siunit-5.h\n",
    "\n",
    "using Speed = SiUnit<double,-1,1> ;"
   ]
  },
  {
   "cell_type": "code",
   "execution_count": 10,
   "metadata": {
    "slideshow": {
     "slide_type": "subslide"
    }
   },
   "outputs": [
    {
     "name": "stdout",
     "output_type": "stream",
     "text": [
      "Overwriting tmp.dimensions.cpp\n"
     ]
    }
   ],
   "source": [
    "%%file tmp.dimensions.cpp\n",
    "\n",
    "#include <iostream>\n",
    "#include \"tmp.dimensions.siunit-1.h\"\n",
    "#include \"tmp.dimensions.siunit-2.h\"\n",
    "#include \"tmp.dimensions.siunit-3.h\"\n",
    "#include \"tmp.dimensions.siunit-4.h\"\n",
    "#include \"tmp.dimensions.siunit-5.h\"\n",
    "\n",
    "int main()\n",
    " {\n",
    "  constexpr auto l { 28_KM } ;\n",
    "  constexpr auto d { 39_Mi } ;\n",
    "  constexpr Speed vmax = 50_KM/H ;\n",
    "  constexpr Speed v = l/d ;\n",
    "  std::cout<<\"Max  speed : \"<<vmax<<\" m/s\"<<std::endl ;\n",
    "  std::cout<<\"Mean speed : \"<<v<<\" m/s\"<<std::endl ;\n",
    "  if (v<=vmax) { std::cout<<\"You drive safely :)\"<<std::endl ; } \n",
    "  else { std::cout<<\"You drive too fast :(\"<<std::endl ; } \n",
    " }"
   ]
  },
  {
   "cell_type": "code",
   "execution_count": 11,
   "metadata": {
    "slideshow": {
     "slide_type": "skip"
    }
   },
   "outputs": [],
   "source": [
    "!rm -f tmp.dimensions.exe && g++ -std=c++17 tmp.dimensions.cpp -o tmp.dimensions.exe"
   ]
  },
  {
   "cell_type": "code",
   "execution_count": 12,
   "metadata": {
    "slideshow": {
     "slide_type": "subslide"
    }
   },
   "outputs": [
    {
     "name": "stdout",
     "output_type": "stream",
     "text": [
      "Max  speed : 13.8889 m/s\n",
      "Mean speed : 11.9658 m/s\n",
      "You drive safely :)\n"
     ]
    }
   ],
   "source": [
    "!./tmp.dimensions.exe"
   ]
  },
  {
   "cell_type": "markdown",
   "metadata": {
    "slideshow": {
     "slide_type": "slide"
    }
   },
   "source": [
    "## Libraries to the rescue\n",
    "\n",
    "It is quite complex to write classes which describe the complete international system of units. Rather try one of the available libraries :\n",
    "* [Boost Units](https://github.com/boostorg/units) : the ancient one, robust, documented, but depend of other Boost libraries...\n",
    "* [PhysUnits from Martin Moene](https://github.com/martinmoene/PhysUnits-CT-Cpp11) : upgraded for C++11, popular,  yet poorly documented.\n",
    "* [units from Tony Pilz](https://github.com/tonypilz/units) : newer, ligther.\n",
    "* [units from Nick Holthaus](https://github.com/nholthaus/units): based on C++14, documented, active.\n",
    "* [mp-units from Mateusz Pusz](https://mpusz.github.io/units/) : leading edge, requires C++20, implements a [proposal to the standardization committee](https://wg21.link/p1935), with a very detailed analysis of what exists."
   ]
  },
  {
   "cell_type": "markdown",
   "metadata": {
    "slideshow": {
     "slide_type": "skip"
    }
   },
   "source": [
    "The code below demostrates the use of PhysUnits from Martin Moene."
   ]
  },
  {
   "cell_type": "code",
   "execution_count": 13,
   "metadata": {
    "slideshow": {
     "slide_type": "subslide"
    }
   },
   "outputs": [
    {
     "name": "stdout",
     "output_type": "stream",
     "text": [
      "Overwriting tmp.dimensions.cpp\n"
     ]
    }
   ],
   "source": [
    "%%file tmp.dimensions.cpp\n",
    "\n",
    "#include <iostream>\n",
    "\n",
    "#include \"phys/units/io.hpp\"\n",
    "#include \"phys/units/quantity.hpp\"\n",
    "\n",
    "using namespace phys::units ;\n",
    "using namespace phys::units::io;\n",
    "using namespace phys::units::literals ;\n",
    " \n",
    "int main()\n",
    " {\n",
    "  constexpr auto l { 28_km } ;\n",
    "  constexpr auto d { 39_min } ;\n",
    "  constexpr quantity<speed_d> vmax = 50_km/hour ;\n",
    "  constexpr quantity<speed_d> v = l/d ;\n",
    "  std::cout<<\"Max  speed : \"<<vmax<<std::endl ;\n",
    "  std::cout<<\"Mean speed : \"<<v<<std::endl ;\n",
    "  if (v<=vmax) { std::cout<<\"You drive safely :)\"<<std::endl ; } \n",
    "  else { std::cout<<\"You drive too fast :(\"<<std::endl ; } \n",
    " }"
   ]
  },
  {
   "cell_type": "code",
   "execution_count": 14,
   "metadata": {
    "slideshow": {
     "slide_type": "fragment"
    }
   },
   "outputs": [],
   "source": [
    "!rm -f tmp.dimensions.exe && g++ -I. -std=c++17 tmp.dimensions.cpp -o tmp.dimensions.exe"
   ]
  },
  {
   "cell_type": "code",
   "execution_count": 15,
   "metadata": {
    "slideshow": {
     "slide_type": "fragment"
    }
   },
   "outputs": [
    {
     "name": "stdout",
     "output_type": "stream",
     "text": [
      "Max  speed : 13.8889 m/s\n",
      "Mean speed : 11.9658 m/s\n",
      "You drive safely :)\n"
     ]
    }
   ],
   "source": [
    "!./tmp.dimensions.exe"
   ]
  },
  {
   "cell_type": "markdown",
   "metadata": {
    "slideshow": {
     "slide_type": "slide"
    }
   },
   "source": [
    "# Questions ?"
   ]
  },
  {
   "cell_type": "markdown",
   "metadata": {
    "slideshow": {
     "slide_type": "skip"
    }
   },
   "source": [
    "# Exercise\n",
    "\n",
    "Below, try to write one overload of the `<<` operateur for `Velocity`, so to print the value in km/h."
   ]
  },
  {
   "cell_type": "code",
   "execution_count": 16,
   "metadata": {
    "slideshow": {
     "slide_type": "skip"
    }
   },
   "outputs": [
    {
     "name": "stdout",
     "output_type": "stream",
     "text": [
      "Overwriting tmp.dimensions.siunit-5.h\n"
     ]
    }
   ],
   "source": [
    "%%file tmp.dimensions.siunit-5.h\n",
    "\n",
    "using Speed = SiUnit<double,-1,1> ;\n",
    "\n",
    "// TO BE MODIFIED\n",
    "std::ostream & operator<<( std::ostream & os, Speed v )\n",
    " {\n",
    "  return (os<<static_cast<double>(v)<<\" m/s\") ;\n",
    " }"
   ]
  },
  {
   "cell_type": "code",
   "execution_count": 17,
   "metadata": {
    "slideshow": {
     "slide_type": "skip"
    }
   },
   "outputs": [
    {
     "name": "stdout",
     "output_type": "stream",
     "text": [
      "Overwriting tmp.dimensions.cpp\n"
     ]
    }
   ],
   "source": [
    "%%file tmp.dimensions.cpp\n",
    "\n",
    "#include <iostream>\n",
    "#include \"tmp.dimensions.siunit-1.h\"\n",
    "#include \"tmp.dimensions.siunit-2.h\"\n",
    "#include \"tmp.dimensions.siunit-3.h\"\n",
    "#include \"tmp.dimensions.siunit-4.h\"\n",
    "#include \"tmp.dimensions.siunit-5.h\"\n",
    "\n",
    "int main()\n",
    " {\n",
    "  constexpr auto l { 28_KM } ;\n",
    "  constexpr auto d { 39_Mi } ;\n",
    "  constexpr Speed vmax = 50_KM/H ;\n",
    "  constexpr Speed v = l/d ;\n",
    "  std::cout<<\"Max  speed : \"<<vmax<<std::endl ;\n",
    "  std::cout<<\"Mean speed : \"<<v<<std::endl ;\n",
    "  if (v<=vmax) { std::cout<<\"You drive safely :)\"<<std::endl ; } \n",
    "  else { std::cout<<\"You drive too fast :(\"<<std::endl ; } \n",
    " }"
   ]
  },
  {
   "cell_type": "code",
   "execution_count": 18,
   "metadata": {
    "slideshow": {
     "slide_type": "skip"
    }
   },
   "outputs": [],
   "source": [
    "!rm -f tmp.dimensions.exe && g++ -std=c++17 tmp.dimensions.cpp -o tmp.dimensions.exe"
   ]
  },
  {
   "cell_type": "code",
   "execution_count": 19,
   "metadata": {
    "slideshow": {
     "slide_type": "skip"
    }
   },
   "outputs": [
    {
     "name": "stdout",
     "output_type": "stream",
     "text": [
      "Max  speed : 13.8889 m/s\n",
      "Mean speed : 11.9658 m/s\n",
      "You drive safely :)\n"
     ]
    }
   ],
   "source": [
    "!./tmp.dimensions.exe"
   ]
  },
  {
   "cell_type": "markdown",
   "metadata": {
    "slideshow": {
     "slide_type": "skip"
    }
   },
   "source": [
    "# Ressources & inspirations\n",
    "\n",
    "SI\n",
    "* [Wikipedia](https://fr.wikipedia.org/wiki/Syst%C3%A8me_international_d%27unit%C3%A9s)\n",
    "\n",
    "Blogs\n",
    "* https://kaushikghose.wordpress.com/2018/05/06/c-dimensional-analysis/\n",
    "* https://gmpreussner.com/research/dimensional-analysis-in-programming-languages"
   ]
  },
  {
   "cell_type": "markdown",
   "metadata": {
    "slideshow": {
     "slide_type": "skip"
    }
   },
   "source": [
    "© *CNRS 2020*  \n",
    "*This document was created by David Chamont and translated by Pierre Aubert. It is available under the [Licence Creative Commons - Attribution - No commercial use - Shared under the conditions 4.0 International](http://creativecommons.org/licenses/by-nc-sa/4.0/)*"
   ]
  }
 ],
 "metadata": {
  "celltoolbar": "Diaporama",
  "kernelspec": {
   "display_name": "C++17",
   "language": "C++17",
   "name": "xcpp17"
  },
  "language_info": {
   "codemirror_mode": "text/x-c++src",
   "file_extension": ".cpp",
   "mimetype": "text/x-c++src",
   "name": "c++",
   "version": "17"
  }
 },
 "nbformat": 4,
 "nbformat_minor": 4
}
