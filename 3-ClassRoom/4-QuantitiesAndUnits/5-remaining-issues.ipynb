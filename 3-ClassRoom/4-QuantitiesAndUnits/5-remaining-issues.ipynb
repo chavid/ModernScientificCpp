{
 "cells": [
  {
   "cell_type": "markdown",
   "metadata": {
    "slideshow": {
     "slide_type": "slide"
    }
   },
   "source": [
    "# Remaining issues"
   ]
  },
  {
   "cell_type": "markdown",
   "metadata": {
    "slideshow": {
     "slide_type": "slide"
    }
   },
   "source": [
    "## Only a subset of mathematic functions\n",
    "\n",
    "Let's take this example : we want to compute the total energy `e` of an electron whose linear momentum `p` is known. We can deduce it from the equality `e^2 = m^2*c^4 + p^2*c^2`, with `c` the speed of light and `m` the mass of the electron."
   ]
  },
  {
   "cell_type": "code",
   "execution_count": 1,
   "metadata": {
    "slideshow": {
     "slide_type": "subslide"
    }
   },
   "outputs": [
    {
     "name": "stdout",
     "output_type": "stream",
     "text": [
      "Writing tmp.remaining-issues.cpp\n"
     ]
    }
   ],
   "source": [
    "%%file tmp.remaining-issues.cpp\n",
    "\n",
    "#include <iostream>\n",
    "#include \"phys/units/io.hpp\"\n",
    "#include \"phys/units/quantity.hpp\"\n",
    "\n",
    "using namespace phys::units ;\n",
    "using namespace phys::units::io ;\n",
    "using namespace phys::units::literals ;\n",
    "\n",
    "int main()\n",
    " {\n",
    "  constexpr auto m = 9.109e-31_kg ;\n",
    "  constexpr auto c = 299792458_m/second ; \n",
    "  constexpr auto p = m*(0.75*c) ;\n",
    "\n",
    "  auto e = sqrt(square(m)*nth_power<4>(c)+square(p)*square(c)) ;  \n",
    "       \n",
    "  std::cout << e << std::endl ;\n",
    " }"
   ]
  },
  {
   "cell_type": "code",
   "execution_count": 2,
   "metadata": {
    "slideshow": {
     "slide_type": "skip"
    }
   },
   "outputs": [],
   "source": [
    "!rm -f tmp.remaining-issues.exe && g++ -I. -std=c++17 tmp.remaining-issues.cpp -o tmp.remaining-issues.exe"
   ]
  },
  {
   "cell_type": "code",
   "execution_count": 3,
   "metadata": {
    "slideshow": {
     "slide_type": "subslide"
    }
   },
   "outputs": [
    {
     "name": "stdout",
     "output_type": "stream",
     "text": [
      "1.02335e-13 J\n"
     ]
    }
   ],
   "source": [
    "!./tmp.remaining-issues.exe"
   ]
  },
  {
   "cell_type": "markdown",
   "metadata": {
    "slideshow": {
     "slide_type": "subslide"
    }
   },
   "source": [
    "We were not able to use `std::pow`, which would have not correctly handle the unit of `c`."
   ]
  },
  {
   "cell_type": "markdown",
   "metadata": {
    "slideshow": {
     "slide_type": "fragment"
    }
   },
   "source": [
    "We were not able to benefit from the `constexpr` of `e`,  because the `sqrt` function used is not provided by the standard library, but is an alternative implementation from PhysUnits, which can handle units, but is not a `constexpr`."
   ]
  },
  {
   "cell_type": "markdown",
   "metadata": {
    "slideshow": {
     "slide_type": "fragment"
    }
   },
   "source": [
    "The use of a library of units tends to **limit us to the numerical functions provided by this library**, with their limitations."
   ]
  },
  {
   "cell_type": "markdown",
   "metadata": {
    "slideshow": {
     "slide_type": "slide"
    }
   },
   "source": [
    "## Irrelevant internal reference unit \n",
    "\n",
    "Let's try our example with `float`."
   ]
  },
  {
   "cell_type": "code",
   "execution_count": 4,
   "metadata": {
    "slideshow": {
     "slide_type": "subslide"
    }
   },
   "outputs": [
    {
     "name": "stdout",
     "output_type": "stream",
     "text": [
      "Overwriting tmp.remaining-issues.cpp\n"
     ]
    }
   ],
   "source": [
    "%%file tmp.remaining-issues.cpp\n",
    "\n",
    "#include <iostream>\n",
    "\n",
    "#include \"phys/units/io.hpp\"\n",
    "#include \"phys/units/quantity.hpp\"\n",
    "\n",
    "using namespace phys::units ;\n",
    "using namespace phys::units::io;\n",
    "using namespace phys::units::literals ;\n",
    "using momentum_d = dimensions< 1, 1, -1 > ;\n",
    "\n",
    "int main()\n",
    " {\n",
    "  constexpr quantity<mass_d,float> m = 9.109e-31_kg ;\n",
    "  constexpr quantity<speed_d,float> c = 299792458_m/second ; \n",
    "  constexpr quantity<momentum_d,float> p = m*(0.75*c) ;\n",
    "\n",
    "  auto e = sqrt(square(m)*nth_power<4>(c)+square(p)*square(c)) ;  \n",
    "       \n",
    "  std::cout << e << std::endl ;\n",
    " }"
   ]
  },
  {
   "cell_type": "code",
   "execution_count": 5,
   "metadata": {
    "slideshow": {
     "slide_type": "skip"
    }
   },
   "outputs": [],
   "source": [
    "!rm -f tmp.remaining-issues.exe && g++ -I. -std=c++17 tmp.remaining-issues.cpp -o tmp.remaining-issues.exe"
   ]
  },
  {
   "cell_type": "code",
   "execution_count": 6,
   "metadata": {
    "slideshow": {
     "slide_type": "subslide"
    }
   },
   "outputs": [
    {
     "name": "stdout",
     "output_type": "stream",
     "text": [
      "6.14677e-14 J\n"
     ]
    }
   ],
   "source": [
    "!./tmp.remaining-issues.exe"
   ]
  },
  {
   "cell_type": "markdown",
   "metadata": {
    "slideshow": {
     "slide_type": "subslide"
    }
   },
   "source": [
    "**The result if very wrong**. However, we can prove that this computation can be done with simple precision, provided we express our variables in a unit which is close to the scale of the problem, which is not the case of `kg` above, used internally by PhysUnits."
   ]
  },
  {
   "cell_type": "markdown",
   "metadata": {
    "slideshow": {
     "slide_type": "subslide"
    }
   },
   "source": [
    "Below, the mass and linear momentum have been shift by `1e27`, computation is enforced in `float`, and the result is ok."
   ]
  },
  {
   "cell_type": "code",
   "execution_count": 75,
   "metadata": {
    "slideshow": {
     "slide_type": "subslide"
    }
   },
   "outputs": [
    {
     "name": "stdout",
     "output_type": "stream",
     "text": [
      "Overwriting tmp.remaining-issues.cpp\n"
     ]
    }
   ],
   "source": [
    "%%file tmp.remaining-issues.cpp\n",
    "\n",
    "#include <iostream>\n",
    "#include <cmath>\n",
    "\n",
    "int main()\n",
    " {\n",
    "  constexpr float m = 0.0009109 ;\n",
    "  constexpr float c = 299792458 ;\n",
    "  constexpr float p = m*(0.75f*c) ;\n",
    "\n",
    "  constexpr float m2 = m*m ; \n",
    "  constexpr float c2 = c*c ; \n",
    "  constexpr float c4 = c2*c2 ; \n",
    "  constexpr float p2 = p*p ; \n",
    "  constexpr float e = sqrt(m2*c4+p2*c2) ; \n",
    "    \n",
    "  std::cout << e*1e-27 << std::endl ;\n",
    " }"
   ]
  },
  {
   "cell_type": "code",
   "execution_count": 76,
   "metadata": {
    "slideshow": {
     "slide_type": "fragment"
    }
   },
   "outputs": [],
   "source": [
    "!rm -f tmp.remaining-issues.exe && g++ -I. -std=c++17 tmp.remaining-issues.cpp -o tmp.remaining-issues.exe"
   ]
  },
  {
   "cell_type": "code",
   "execution_count": 77,
   "metadata": {
    "slideshow": {
     "slide_type": "-"
    }
   },
   "outputs": [
    {
     "name": "stdout",
     "output_type": "stream",
     "text": [
      "1.02335e-13\n"
     ]
    }
   ],
   "source": [
    "!./tmp.remaining-issues.exe"
   ]
  },
  {
   "cell_type": "markdown",
   "metadata": {
    "slideshow": {
     "slide_type": "subslide"
    }
   },
   "source": [
    "In the domain of infinitely small and infinitely large, it is aberrant to store values in seconds, meters, kilograms, etc. **The units library must let you control the unit used for internal storage**, or you may suffer a huge loss of precision. About this topic, Martin Moene (the author of PhysUnits) indicates the work of Tony Pilz (which I did not explore yet) :\n",
    "* ScaledValue : https://github.com/tonypilz/ScaledValue\n",
    "* Units : https://github.com/tonypilz/units"
   ]
  },
  {
   "cell_type": "markdown",
   "metadata": {
    "slideshow": {
     "slide_type": "slide"
    }
   },
   "source": [
    "## Libraries of linear algebra\n",
    "\n",
    "In scientific computing, we often use a lot of matrice computation, and deeply rely on libraries like Eigen... Can we make Eigen uses units provided by PhysUnits ? Let's try to compute the linear momentum of our electron, but in 3D space, with x/y/z coordinates."
   ]
  },
  {
   "cell_type": "code",
   "execution_count": 23,
   "metadata": {
    "slideshow": {
     "slide_type": "subslide"
    }
   },
   "outputs": [
    {
     "name": "stdout",
     "output_type": "stream",
     "text": [
      "Overwriting tmp.remaining-issues.h\n"
     ]
    }
   ],
   "source": [
    "%%file tmp.remaining-issues.h\n",
    "\n",
    "#include <iostream>\n",
    "\n",
    "#include \"phys/units/io.hpp\"\n",
    "#include \"phys/units/quantity.hpp\"\n",
    "#include \"Eigen/Dense\"\n",
    "\n",
    "using namespace phys::units ;\n",
    "using namespace phys::units::io;\n",
    "using namespace phys::units::literals ;\n",
    "\n",
    "using momentum_d = dimensions< 1, 1, -1 > ;\n",
    " \n",
    "using Speed = quantity<speed_d> ;\n",
    "using Momentum = quantity<momentum_d> ;\n",
    "\n",
    "using Speed3d = Eigen::Matrix<Speed,3,1> ;\n",
    "using Momentum3d = Eigen::Matrix<Momentum,3,1> ;"
   ]
  },
  {
   "cell_type": "code",
   "execution_count": 132,
   "metadata": {
    "slideshow": {
     "slide_type": "subslide"
    }
   },
   "outputs": [
    {
     "name": "stdout",
     "output_type": "stream",
     "text": [
      "Overwriting tmp.remaining-issues.cpp\n"
     ]
    }
   ],
   "source": [
    "%%file tmp.remaining-issues.cpp\n",
    "\n",
    "#include \"tmp.remaining-issues.h\"\n",
    "\n",
    "int main() {\n",
    "\n",
    "  constexpr quantity<mass_d> m = 0.0009109_yg ;\n",
    "  constexpr quantity<speed_d> c = 299792458_m/second ;\n",
    "    \n",
    "  Speed3d speed3d(0.75*c,0.*c,0.*c) ;\n",
    "\n",
    "  Momentum3d momentum = m*speed3d ;\n",
    "  Momentum p = momentum.norm()*kilogram*meter/second ;\n",
    "  auto e = sqrt(square(m)*nth_power<4>(c)+square(p)*square(c)) ;  \n",
    "  std::cout << speed << std::endl ;\n",
    "\n",
    "}"
   ]
  },
  {
   "cell_type": "code",
   "execution_count": 27,
   "metadata": {
    "slideshow": {
     "slide_type": "fragment"
    }
   },
   "outputs": [],
   "source": [
    "!rm -f tmp.remaining-issues.exe && g++ -I/usr/local/include/eigen3/ -I. -std=c++17 tmp.remaining-issues.cpp -o tmp.remaining-issues.exe > compiler_log.txt 2>&1"
   ]
  },
  {
   "cell_type": "markdown",
   "metadata": {
    "slideshow": {
     "slide_type": "subslide"
    }
   },
   "source": [
    "Actually, Eigen does not accept to multiply a scalar with a vector if all the numbers are not expressed in the same types. Actually, we should work the other way round : wrap the eigen objects within our strong types:"
   ]
  },
  {
   "cell_type": "code",
   "execution_count": 88,
   "metadata": {
    "slideshow": {
     "slide_type": "subslide"
    }
   },
   "outputs": [
    {
     "name": "stdout",
     "output_type": "stream",
     "text": [
      "Overwriting tmp.remaining-issues.h\n"
     ]
    }
   ],
   "source": [
    "%%file tmp.remaining-issues.h\n",
    "\n",
    "#include <iostream>\n",
    "\n",
    "#include \"phys/units/io.hpp\"\n",
    "#include \"phys/units/quantity.hpp\"\n",
    "#include \"Eigen/Dense\"\n",
    "\n",
    "using namespace phys::units ;\n",
    "using namespace phys::units::io;\n",
    "using namespace phys::units::literals ;\n",
    "\n",
    "using momentum_d = dimensions< 1, 1, -1 > ;\n",
    "\n",
    "using Eigen31 = Eigen::Matrix<double,3,1> ;\n",
    "\n",
    "using Speed3d = quantity<speed_d,Eigen31> ;\n",
    "using Momentum3d = quantity<momentum_d,Eigen31> ;"
   ]
  },
  {
   "cell_type": "code",
   "execution_count": 133,
   "metadata": {
    "slideshow": {
     "slide_type": "subslide"
    }
   },
   "outputs": [
    {
     "name": "stdout",
     "output_type": "stream",
     "text": [
      "Overwriting tmp.remaining-issues.cpp\n"
     ]
    }
   ],
   "source": [
    "%%file tmp.remaining-issues.cpp\n",
    "\n",
    "#include \"tmp.remaining-issues.h\"\n",
    "\n",
    "int main() {\n",
    "    \n",
    "  constexpr quantity<mass_d> m = 0.0009109_yg ;\n",
    "  constexpr quantity<speed_d> c = 299792458_m/second ;\n",
    "    \n",
    "  Speed3d speed(detail::magnitude_tag,Eigen31{0.75*c.magnitude(),0.,0.}) ;\n",
    "  Momentum3d momentum = m*speed ;\n",
    "\n",
    "  quantity<momentum_d> p = momentum.magnitude().norm()*kilogram*meter/second ;\n",
    "  auto e = sqrt(square(m)*nth_power<4>(c)+square(p)*square(c)) ;  \n",
    "  std::cout << e << std::endl ;\n",
    "\n",
    "}"
   ]
  },
  {
   "cell_type": "code",
   "execution_count": 90,
   "metadata": {
    "slideshow": {
     "slide_type": "fragment"
    }
   },
   "outputs": [],
   "source": [
    "!rm -f tmp.remaining-issues.exe && g++ -I/usr/local/include/eigen3/ -I. -std=c++17 tmp.remaining-issues.cpp -o tmp.remaining-issues.exe"
   ]
  },
  {
   "cell_type": "code",
   "execution_count": 91,
   "metadata": {},
   "outputs": [
    {
     "name": "stdout",
     "output_type": "stream",
     "text": [
      "1.02335e-13 J\n"
     ]
    }
   ],
   "source": [
    "!./tmp.remaining-issues.exe"
   ]
  },
  {
   "cell_type": "markdown",
   "metadata": {
    "slideshow": {
     "slide_type": "fragment"
    }
   },
   "source": [
    "The author of phys/units has not anticipated such a use of non-scalar value type:\n",
    "- we must use a special constructor with `detail::magnitude_tag`,\n",
    "- all eigen methods such as `norm()` are hidden wothin the wrapper object."
   ]
  },
  {
   "cell_type": "markdown",
   "metadata": {
    "slideshow": {
     "slide_type": "slide"
    }
   },
   "source": [
    "## Also..."
   ]
  },
  {
   "cell_type": "markdown",
   "metadata": {
    "slideshow": {
     "slide_type": "fragment"
    }
   },
   "source": [
    "**I/O** : When handling very large data sets, how to add the lacking units afterwards ? How to store the data with their units efficiently ?"
   ]
  },
  {
   "cell_type": "markdown",
   "metadata": {
    "slideshow": {
     "slide_type": "fragment"
    }
   },
   "source": [
    "**Compilation time**: provided there exists a units-friendly linear algebra library, what will be the compilation time, if  every `Vector/Matrix` must be instanciated with all the possible physical units used in the program... And let's speak about the compilation error messages..."
   ]
  },
  {
   "cell_type": "markdown",
   "metadata": {
    "slideshow": {
     "slide_type": "slide"
    }
   },
   "source": [
    "# Take away\n",
    "\n",
    "Until there exists some linear algebra library which is compatible with strong types, do not throw the baby out with the bathwater:\n",
    "* use strong types for integers: index, sizes, identifiers, ... ;\n",
    "* rely on user-defined literals for the handling of physical units multipliers ;\n",
    "* use physical units in code areas which do not require some incompatible external library ;\n",
    "* select reference storage units at the right scale for your problem."
   ]
  },
  {
   "cell_type": "markdown",
   "metadata": {
    "slideshow": {
     "slide_type": "slide"
    }
   },
   "source": [
    "# Questions ?"
   ]
  },
  {
   "cell_type": "markdown",
   "metadata": {
    "slideshow": {
     "slide_type": "slide"
    }
   },
   "source": [
    "\n",
    "# Exercice\n",
    "\n",
    "We reuse below our home made `SiUnit`, which has been reviewed so to support our energy computation, in the scalar flavor. Because C++ do not accept \"user-defined literals\" for something else than scalar numbers, and we want to later handle vectors and matrices, we drop such literal sand fall back on the good old constants approach. Compile and run.\n",
    "\n",
    "Then, try to make our speed vectorial by using `Eigen::Matrix<double,3,1>` as internal type. What should be changed?  Suggestions:\n",
    "1. Make types Speed3d and Momentum3d which are wrapping `Eigen::Matrix<double,3,1>` instead of `double`.\n",
    "2. Make `speed` and `p` instances of `Speed3d` and `Momentum3d`.\n",
    "3. Initialize `speed` with `Eigen::Matrix<double,3,1> { 0.75*static_cast<double>(c), 0., 0. }`.\n",
    "4. Overload `operator*( UT lhs, SiUnit<<Eigen::Matrix<UT,3,1>,...> )`\n",
    "5. Overload `operator*( SiUnit<UT,...>, SiUnit<<Eigen::Matrix<UT,3,1>,...> )`\n",
    "6. Overload `norm( SiUnit<Eigen::Matrix<UT,3,1>,s,m,kg> )`.\n",
    "7. In the computation of the final energy, take the norm of `p`.\n"
   ]
  },
  {
   "cell_type": "code",
   "execution_count": 22,
   "metadata": {},
   "outputs": [
    {
     "name": "stdout",
     "output_type": "stream",
     "text": [
      "Overwriting tmp.emc2.cpp\n"
     ]
    }
   ],
   "source": [
    "%%file tmp.emc2.cpp\n",
    "\n",
    "#include <iostream>\n",
    "#include <cmath>\n",
    "\n",
    "// main class, which supports any mix of duration,\n",
    "// length and mass.\n",
    "\n",
    "template< typename UnderlyingType, int s, int m, int kg >\n",
    "class SiUnit {\n",
    "  public :\n",
    "    explicit SiUnit( UnderlyingType value ) : my_value{value} {}\n",
    "    explicit operator UnderlyingType() { return my_value ; }\n",
    "  private :\n",
    "    UnderlyingType my_value ;\n",
    "} ;\n",
    "\n",
    "// operators\n",
    "\n",
    "template< typename UT, int s, int m, int kg >\n",
    "std::ostream & operator<<( std::ostream & os, SiUnit<UT,s,m,kg> obj )\n",
    " { return (os<<static_cast<UT>(obj)) ; }\n",
    "\n",
    "template< typename UT, int s, int m, int kg >\n",
    "auto operator+( SiUnit<UT,s,m,kg> lhs, SiUnit<UT,s,m,kg> rhs )\n",
    " { return SiUnit<UT,s,m,kg>(static_cast<UT>(lhs)+static_cast<UT>(rhs)) ; }\n",
    "\n",
    "template< typename UT, int s1, int m1, int kg1, int s2, int m2, int kg2 >\n",
    "auto operator*( SiUnit<UT,s1,m1,kg1> lhs, SiUnit<UT,s2,m2,kg2> rhs )\n",
    " { return SiUnit<UT,s1+s2,m1+m2,kg1+kg2>(static_cast<UT>(lhs)*static_cast<UT>(rhs)) ; }\n",
    "\n",
    "template< typename UT, int s, int m, int kg >\n",
    "auto operator*( UT lhs, SiUnit<UT,s,m,kg> rhs )\n",
    " { return SiUnit<UT,s,m,kg>(lhs*static_cast<UT>(rhs)) ; }\n",
    "\n",
    "template< typename UT, int s1, int m1, int kg1, int s2, int m2, int kg2 >\n",
    "auto operator/( SiUnit<UT,s1,m1,kg1> lhs, SiUnit<UT,s2,m2,kg2> rhs )\n",
    " { return SiUnit<UT,s1-s2,m1-m2,kg1-kg2>(static_cast<UT>(lhs)/static_cast<UT>(rhs)) ; }\n",
    "\n",
    "// base units and constants\n",
    "\n",
    "using Time = SiUnit<double,1,0,0> ;\n",
    "Time S { 1. } ;\n",
    "\n",
    "using Length = SiUnit<double,0,1,0> ;\n",
    "Length M { 1. } ;\n",
    "\n",
    "using Mass = SiUnit<double,0,0,1> ;\n",
    "Mass KG { 1. } ;\n",
    "\n",
    "// combined units\n",
    "\n",
    "using Speed = SiUnit<double,-1,1,0> ;\n",
    "using Momentum = SiUnit<double,-1,1,1> ;\n",
    "using Energy = SiUnit<double,-2,2,1> ;\n",
    "\n",
    "// math functions\n",
    "\n",
    "template< int pn, int pd, typename UT, int s, int m, int kg >\n",
    "auto power( SiUnit<UT,s,m,kg> value )\n",
    " { return SiUnit<UT,s*pn/pd,m*pn/pd,kg*pn/pd>(pow(static_cast<UT>(value),static_cast<UT>(pn)/pd)) ; }\n",
    " \n",
    "template< typename UT, int s, int m, int kg >\n",
    "auto square( SiUnit<UT,s,m,kg> value )\n",
    " { return power<2,1>(value) ; }\n",
    " \n",
    "template< typename UT, int s, int m, int kg >\n",
    "auto sqrt( SiUnit<UT,s,m,kg> value )\n",
    " { return power<1,2>(value) ; }\n",
    " \n",
    "// main\n",
    "\n",
    "int main() {\n",
    "    \n",
    "  Mass m { 9.109e-31*KG } ;\n",
    "  Speed c { 299792458.*M/S } ;\n",
    "  Speed s { 0.75*c } ;\n",
    "  Momentum p { m*s } ;\n",
    "\n",
    "  Energy e { sqrt(square(m)*power<4,1>(c)+square(p)*square(c)) } ;  \n",
    "  std::cout << e << std::endl ;\n",
    "  \n",
    " }"
   ]
  },
  {
   "cell_type": "code",
   "execution_count": 26,
   "metadata": {},
   "outputs": [],
   "source": [
    "!rm -f tmp.emc2.exe && g++ -I/usr/local/include/eigen3/ -std=c++17 tmp.emc2.cpp -o tmp.emc2.exe"
   ]
  },
  {
   "cell_type": "code",
   "execution_count": 27,
   "metadata": {},
   "outputs": [
    {
     "name": "stdout",
     "output_type": "stream",
     "text": [
      "1.02335e-13\n"
     ]
    }
   ],
   "source": [
    "!./tmp.emc2.exe"
   ]
  },
  {
   "cell_type": "markdown",
   "metadata": {
    "slideshow": {
     "slide_type": "skip"
    }
   },
   "source": [
    "© *CNRS 2024*  \n",
    "*Assemblée et rédigée par David Chamont, cette œuvre est mise à disposition selon les termes de la [Licence Creative Commons - Attribution - Pas d’Utilisation Commerciale - Partage dans les Mêmes Conditions 4.0 International](http://creativecommons.org/licenses/by-nc-sa/4.0/)*"
   ]
  }
 ],
 "metadata": {
  "celltoolbar": "Diaporama",
  "kernelspec": {
   "display_name": "Python 3 (ipykernel)",
   "language": "python",
   "name": "python3"
  },
  "language_info": {
   "codemirror_mode": {
    "name": "ipython",
    "version": 3
   },
   "file_extension": ".py",
   "mimetype": "text/x-python",
   "name": "python",
   "nbconvert_exporter": "python",
   "pygments_lexer": "ipython3",
   "version": "3.11.8"
  }
 },
 "nbformat": 4,
 "nbformat_minor": 4
}
