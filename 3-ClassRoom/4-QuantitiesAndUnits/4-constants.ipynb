{
 "cells": [
  {
   "cell_type": "markdown",
   "metadata": {
    "slideshow": {
     "slide_type": "slide"
    }
   },
   "source": [
    "# Physical and mathematical constants"
   ]
  },
  {
   "cell_type": "markdown",
   "metadata": {
    "slideshow": {
     "slide_type": "slide"
    }
   },
   "source": [
    "## Physical constants\n",
    "\n",
    "7 constants were fixed in 2019. Each of them is used to define one of the 7 units of the SI :\n",
    "* Frequency of the hyperthin Cesium transition, 9192631770 Hz, defines second,\n",
    "* The speed of light in space, 299792458 m/s, defines meter,\n",
    "* Planck constant, 6.62607015×10−34 J⋅s, defines kilogram,\n",
    "* Elementary charge, 1.602176634×10−19 C, defines ampere,\n",
    "* Boltzmann constant, 1.380649×10−23 J/K, defines kelvin,\n",
    "* Avogadro constant, 6.02214076×1023 mol−1, defines mole,\n",
    "* Energetic intensity of 540 THz radiation, 683 lm/W, defines candela."
   ]
  },
  {
   "cell_type": "code",
   "execution_count": 1,
   "metadata": {
    "slideshow": {
     "slide_type": "subslide"
    }
   },
   "outputs": [
    {
     "name": "stdout",
     "output_type": "stream",
     "text": [
      "Writing tmp.constants.cpp\n"
     ]
    }
   ],
   "source": [
    "%%file tmp.constants.cpp\n",
    "\n",
    "#include <iostream>\n",
    "#include \"phys/units/io.hpp\"\n",
    "#include \"phys/units/physical_constants.hpp\"\n",
    "\n",
    "namespace pu = phys::units;\n",
    "using namespace phys::units::io;\n",
    "\n",
    "int main()\n",
    " {\n",
    "  std::cout << std::endl ;\n",
    "  std::cout.precision(16) ;\n",
    "  std::cout << \"speed of light in a vacuum: \" << pu::c << std::endl ;\n",
    "  std::cout << \"Planck constant: \" << pu::h << std::endl ;\n",
    "  std::cout << \"elementary charge: \" << pu::e << std::endl ;\n",
    "  std::cout << \"Avogadro constant: \" << pu::N_sub_A << std::endl ;\n",
    "  std::cout << std::endl ;\n",
    "  std::cout << \"acceleration of free-fall: \" << pu::g_sub_n << std::endl ;\n",
    "  std::cout << \"electronvolt: \" << pu::eV << std::endl ;\n",
    "  std::cout << \"unified atomic mass unit: \" << pu::u << std::endl ;\n",
    "  std::cout << std::endl ;\n",
    " }"
   ]
  },
  {
   "cell_type": "code",
   "execution_count": 2,
   "metadata": {
    "slideshow": {
     "slide_type": "skip"
    }
   },
   "outputs": [],
   "source": [
    "!rm -f tmp.constants.exe && g++ -I. -std=c++17 tmp.constants.cpp -o tmp.constants.exe"
   ]
  },
  {
   "cell_type": "code",
   "execution_count": 3,
   "metadata": {
    "slideshow": {
     "slide_type": "subslide"
    }
   },
   "outputs": [
    {
     "name": "stdout",
     "output_type": "stream",
     "text": [
      "\n",
      "speed of light in a vacuum: 299792458 m/s\n",
      "Planck constant: 6.62606876e-34 m+2 kg s-1\n",
      "elementary charge: 1.602176462e-19 C\n",
      "Avogadro constant: 6.02214199e+23 mol-1\n",
      "\n",
      "acceleration of free-fall: 9.806649999999999 m s-2\n",
      "electronvolt: 1.60217733e-19 J\n",
      "unified atomic mass unit: 1.6605402e-27 kg\n",
      "\n"
     ]
    }
   ],
   "source": [
    "!./tmp.constants.exe"
   ]
  },
  {
   "cell_type": "markdown",
   "metadata": {
    "slideshow": {
     "slide_type": "slide"
    }
   },
   "source": [
    "## Mathematical constants\n",
    "\n",
    "We are slighty getting out of the strict SI system, but some mathematical constants, such as PI, are intensively used, and the problematic of their definition is close to the physical constants : is it enough to defined them in the most precise available floating point type ?"
   ]
  },
  {
   "cell_type": "markdown",
   "metadata": {
    "slideshow": {
     "slide_type": "subslide"
    }
   },
   "source": [
    "### PI\n",
    "\n",
    "Nowadays, for what concerns PI, experts dislike predefined literal constants (`M_PI`, or `M_PIl` with gcc, or some BOOST constant), and prefer use some variable template with the target precision, and a compile time computation based on `atan(1) * 4` or `acos(-1)` :"
   ]
  },
  {
   "cell_type": "code",
   "execution_count": 4,
   "metadata": {
    "slideshow": {
     "slide_type": "subslide"
    }
   },
   "outputs": [
    {
     "name": "stdout",
     "output_type": "stream",
     "text": [
      "Overwriting tmp.constants.cpp\n"
     ]
    }
   ],
   "source": [
    "%%file tmp.constants.cpp\n",
    "\n",
    "#include <iostream>\n",
    "#include <cmath>\n",
    "\n",
    "template<typename T>\n",
    "T constexpr pi = std::acos(static_cast<T>(-1)) ;\n",
    "\n",
    "int main()\n",
    " {\n",
    "  // 3.14159 26535 89793 23846 26433\n",
    "  std::cout.precision(20) ;\n",
    "  std::cout<< pi<int> <<\"\\n\";\n",
    "  std::cout<< pi<float> <<\"\\n\";\n",
    "  std::cout<< pi<double> <<\"\\n\";\n",
    "  std::cout<< pi<long double> <<\"\\n\";\n",
    " }"
   ]
  },
  {
   "cell_type": "code",
   "execution_count": 5,
   "metadata": {
    "slideshow": {
     "slide_type": "skip"
    }
   },
   "outputs": [],
   "source": [
    "!rm -f tmp.constants.exe && g++ -I. -std=c++17 tmp.constants.cpp -o tmp.constants.exe"
   ]
  },
  {
   "cell_type": "code",
   "execution_count": 6,
   "metadata": {
    "slideshow": {
     "slide_type": "subslide"
    }
   },
   "outputs": [
    {
     "name": "stdout",
     "output_type": "stream",
     "text": [
      "3\n",
      "3.1415927410125732422\n",
      "3.141592653589793116\n",
      "3.1415926535897932385\n"
     ]
    }
   ],
   "source": [
    "!./tmp.constants.exe"
   ]
  },
  {
   "cell_type": "markdown",
   "metadata": {
    "slideshow": {
     "slide_type": "skip"
    }
   },
   "source": [
    "BEWARE: for those who might be tempt to use `long double` to have a better precision, you have to remember `long double` size depend on the plateform, so this type is not portable...\n",
    "\n",
    "<!--\n",
    "https://www.meetingcpp.com/blog/items/cpp-and-pi.html\n",
    "https://stackoverflow.com/questions/49778240/does-c11-14-17-or-20-introduce-a-standard-constant-for-pi\n",
    "https://stackoverflow.com/questions/1727881/how-to-use-the-pi-constant-in-c\n",
    "https://stackoverflow.com/questions/18773343/how-to-calculate-euler-constant-or-euler-powered-in-c/57285506#57285506\n",
    "http://wg21.link/p0631\n",
    "https://en.cppreference.com/w/cpp/numeric/constants\n",
    "-->"
   ]
  },
  {
   "cell_type": "markdown",
   "metadata": {
    "slideshow": {
     "slide_type": "subslide"
    }
   },
   "source": [
    "This code is supposed to be independent from both the plateform and the most precise type of the moment. The debate is still raging to know which is the best computation formula, and which are the compilers doing it really at compilation time (especially the call to `acos` or `atan`). **This leads some authors to consider `constexpr` as non-portable**."
   ]
  },
  {
   "cell_type": "markdown",
   "metadata": {
    "slideshow": {
     "slide_type": "subslide"
    }
   },
   "source": [
    "C++20 provides values in the standard library. The flavor without the `_v` prefix is the shortcut for the double version."
   ]
  },
  {
   "cell_type": "code",
   "execution_count": 1,
   "metadata": {
    "slideshow": {
     "slide_type": "-"
    }
   },
   "outputs": [
    {
     "name": "stdout",
     "output_type": "stream",
     "text": [
      "Overwriting tmp.constants.cpp\n"
     ]
    }
   ],
   "source": [
    "%%file tmp.constants.cpp\n",
    "\n",
    "#include <iostream>\n",
    "#include <numbers>\n",
    "\n",
    "int main()\n",
    " {\n",
    "  std::cout.precision(20) ;\n",
    "  std::cout << std::endl ;\n",
    "  std::cout << \"pi (float)       : \" << std::numbers::pi_v<float> <<\"\\n\";\n",
    "  std::cout << \"pi (double)      : \" << std::numbers::pi_v<double> <<\"\\n\";\n",
    "  std::cout << \"pi (long double) : \" << std::numbers::pi_v<long double> <<\"\\n\";\n",
    "  std::cout << std::endl ;\n",
    "  std::cout.precision(16) ;\n",
    "  std::cout << \"pi  : \" << std::numbers::pi <<\"\\n\";\n",
    "  std::cout << \"e   : \" << std::numbers::e <<\"\\n\";\n",
    "  std::cout << \"phi : \" << std::numbers::phi <<\"\\n\";\n",
    "  std::cout << std::endl ;\n",
    " }"
   ]
  },
  {
   "cell_type": "code",
   "execution_count": 2,
   "metadata": {
    "slideshow": {
     "slide_type": "skip"
    }
   },
   "outputs": [],
   "source": [
    "!rm -f tmp.constants.exe && g++ -I. -std=c++20 tmp.constants.cpp -o tmp.constants.exe"
   ]
  },
  {
   "cell_type": "code",
   "execution_count": 3,
   "metadata": {
    "slideshow": {
     "slide_type": "-"
    }
   },
   "outputs": [
    {
     "name": "stdout",
     "output_type": "stream",
     "text": [
      "\r\n",
      "pi (float)       : 3.1415927410125732422\r\n",
      "pi (double)      : 3.141592653589793116\r\n",
      "pi (long double) : 3.1415926535897932385\r\n",
      "\r\n",
      "pi  : 3.141592653589793\r\n",
      "e   : 2.718281828459045\r\n",
      "phi : 1.618033988749895\r\n",
      "\r\n"
     ]
    }
   ],
   "source": [
    "!./tmp.constants.exe"
   ]
  },
  {
   "cell_type": "markdown",
   "metadata": {
    "slideshow": {
     "slide_type": "slide"
    }
   },
   "source": [
    "# Questions ?"
   ]
  },
  {
   "cell_type": "markdown",
   "metadata": {
    "slideshow": {
     "slide_type": "skip"
    }
   },
   "source": [
    "## Ressources & inspirations\n",
    "\n",
    "* https://www.meetingcpp.com/blog/items/cpp-and-pi.html\n",
    "* https://stackoverflow.com/questions/49778240/does-c11-14-17-or-20-introduce-a-standard-constant-for-pi\n",
    "* https://stackoverflow.com/questions/1727881/how-to-use-the-pi-constant-in-c\n",
    "* https://stackoverflow.com/questions/18773343/how-to-calculate-euler-constant-or-euler-powered-in-c/57285506#57285506\n",
    "* http://wg21.link/p0631\n",
    "* https://en.cppreference.com/w/cpp/numeric/constants"
   ]
  },
  {
   "cell_type": "markdown",
   "metadata": {
    "slideshow": {
     "slide_type": "skip"
    }
   },
   "source": [
    "© *CNRS 2020*  \n",
    "*This document was created by David Chamont and translated by Pierre Aubert. It is available under the [Licence Creative Commons - Attribution - No commercial use - Shared under the conditions 4.0 International](http://creativecommons.org/licenses/by-nc-sa/4.0/)*"
   ]
  }
 ],
 "metadata": {
  "celltoolbar": "Diaporama",
  "kernelspec": {
   "display_name": "Python 3 (ipykernel)",
   "language": "python",
   "name": "python3"
  },
  "language_info": {
   "codemirror_mode": {
    "name": "ipython",
    "version": 3
   },
   "file_extension": ".py",
   "mimetype": "text/x-python",
   "name": "python",
   "nbconvert_exporter": "python",
   "pygments_lexer": "ipython3",
   "version": "3.9.12"
  }
 },
 "nbformat": 4,
 "nbformat_minor": 4
}
