{
 "cells": [
  {
   "cell_type": "markdown",
   "metadata": {
    "slideshow": {
     "slide_type": "slide"
    }
   },
   "source": [
    "# Strong typing and physical units"
   ]
  },
  {
   "cell_type": "markdown",
   "metadata": {
    "slideshow": {
     "slide_type": "slide"
    }
   },
   "source": [
    "## Motivation\n",
    "\n",
    "There are many situations where the straight usage of builtin types is not safe."
   ]
  },
  {
   "cell_type": "markdown",
   "metadata": {
    "slideshow": {
     "slide_type": "skip"
    }
   },
   "source": [
    "For example, we could wish to create a circle from a radiss or a diameter :"
   ]
  },
  {
   "cell_type": "code",
   "execution_count": 28,
   "metadata": {
    "slideshow": {
     "slide_type": "subslide"
    }
   },
   "outputs": [
    {
     "name": "stderr",
     "output_type": "stream",
     "text": [
      "\u001b[1minput_line_35:6:14: \u001b[0m\u001b[0;1;31merror: \u001b[0m\u001b[1mconstructor cannot be redeclared\u001b[0m\n",
      "    explicit Circle(double diameter) // DOES NOT COMPILE\n",
      "\u001b[0;1;32m             ^\n",
      "\u001b[0m\u001b[1minput_line_35:4:14: \u001b[0m\u001b[0;1;30mnote: \u001b[0mprevious definition is here\u001b[0m\n",
      "    explicit Circle(double radius)\n",
      "\u001b[0;1;32m             ^\n",
      "\u001b[0m"
     ]
    },
    {
     "ename": "Interpreter Error",
     "evalue": "",
     "output_type": "error",
     "traceback": [
      "Interpreter Error: "
     ]
    }
   ],
   "source": [
    "class Circle\n",
    " {\n",
    "  public:\n",
    "    explicit Circle(double radius)\n",
    "     : my_radius(radius) {}\n",
    "    explicit Circle(double diameter)\n",
    "     : my_radius(diameter / 2) {}\n",
    "  private:\n",
    "    double my_radius ;\n",
    " } ;"
   ]
  },
  {
   "cell_type": "markdown",
   "metadata": {
    "slideshow": {
     "slide_type": "skip"
    }
   },
   "source": [
    "Other example : let's take a rectangle constructor from one width and height. In the client code, there is no way to distinguish which is width and which is height, and it is (so) easy to swap these values."
   ]
  },
  {
   "cell_type": "code",
   "execution_count": 11,
   "metadata": {
    "slideshow": {
     "slide_type": "subslide"
    }
   },
   "outputs": [],
   "source": [
    "class Rectangle\n",
    " {\n",
    "  public:\n",
    "    Rectangle( double width, double height ) { /*...*/ ; }\n",
    "    //....\n",
    " } ;"
   ]
  },
  {
   "cell_type": "code",
   "execution_count": 12,
   "metadata": {
    "slideshow": {
     "slide_type": "subslide"
    }
   },
   "outputs": [],
   "source": [
    "//...\n",
    "Rectangle r(10, 12) ;"
   ]
  },
  {
   "cell_type": "markdown",
   "metadata": {
    "slideshow": {
     "slide_type": "subslide"
    }
   },
   "source": [
    "In both cases (and in many others), we may wish to **create specific types to distinguish these quantities**."
   ]
  },
  {
   "cell_type": "markdown",
   "metadata": {
    "slideshow": {
     "slide_type": "subslide"
    }
   },
   "source": [
    "Type aliasing enables to better express the intention, and improve readability."
   ]
  },
  {
   "cell_type": "code",
   "execution_count": 13,
   "metadata": {
    "slideshow": {
     "slide_type": "fragment"
    }
   },
   "outputs": [],
   "source": [
    "using Width = double ;\n",
    "using Height = double ;\n",
    "\n",
    "class Rectangle\n",
    " {\n",
    "  public:\n",
    "    Rectangle( Width w, Height h ) { /*...*/ ; }\n",
    "    //....\n",
    " } ;\n",
    "//...\n",
    "Rectangle r(Width{10},Height{12}) ;"
   ]
  },
  {
   "cell_type": "markdown",
   "metadata": {
    "slideshow": {
     "slide_type": "fragment"
    }
   },
   "source": [
    "But from the compiler point of view, **it is still one single type**, and any erroneous mixture is allowed."
   ]
  },
  {
   "cell_type": "markdown",
   "metadata": {
    "slideshow": {
     "slide_type": "subslide"
    }
   },
   "source": [
    "We need new types which are considered different and not commutable by the compiler. The C++ community calls this possible feature **strong typedef** or **opaque typedef**. It was proposed to the normalization committee of C++, but according to last news (2016), Bjarne Stroustrup is not in favor of it..."
   ]
  },
  {
   "cell_type": "markdown",
   "metadata": {
    "slideshow": {
     "slide_type": "slide"
    }
   },
   "source": [
    "## Hand-made *strong typedef*\n",
    "\n",
    "We want, for example, to create a new type which behaves exactly like a `double`, but will be considered as a **different type** by the compiler."
   ]
  },
  {
   "cell_type": "markdown",
   "metadata": {
    "slideshow": {
     "slide_type": "subslide"
    }
   },
   "source": [
    "First steps consist in creating a constructor and a conversion operator from and to `double`. **Let's make them `explicit`**, so to avoid any unwanted implicit conversion:"
   ]
  },
  {
   "cell_type": "code",
   "execution_count": 1,
   "metadata": {
    "slideshow": {
     "slide_type": "subslide"
    }
   },
   "outputs": [],
   "source": [
    "class Width\n",
    " {\n",
    "  public :\n",
    "    explicit Width( double value ) : my_value{value} {}\n",
    "    explicit operator double() const { return my_value ; }\n",
    "  private :\n",
    "    double my_value ;\n",
    " } ;"
   ]
  },
  {
   "cell_type": "markdown",
   "metadata": {
    "slideshow": {
     "slide_type": "subslide"
    }
   },
   "source": [
    "Unfortunately, we cannot do much with this type. Firstly, **all usual operators are missing**, and you can guess how it will be painful to redo all this work each time we want to add a new \"strong alias\"."
   ]
  },
  {
   "cell_type": "markdown",
   "metadata": {
    "slideshow": {
     "slide_type": "slide"
    }
   },
   "source": [
    "## Let's use a template\n",
    "\n",
    "To ease the writing of strong alias, we can obviously use templates."
   ]
  },
  {
   "cell_type": "markdown",
   "metadata": {
    "slideshow": {
     "slide_type": "skip"
    }
   },
   "source": [
    "This one, beyond constructor and converter, add the `+` operator and `<<` operator:"
   ]
  },
  {
   "cell_type": "code",
   "execution_count": 16,
   "metadata": {
    "slideshow": {
     "slide_type": "subslide"
    }
   },
   "outputs": [],
   "source": [
    "template< typename UnderlyingType >\n",
    "class StrongTypedef\n",
    " {\n",
    "  public :\n",
    "    explicit StrongTypedef( UnderlyingType value ) : my_value{value} {}\n",
    "    explicit operator UnderlyingType() const { return my_value ; }\n",
    "    friend StrongTypedef operator+( StrongTypedef lhs, StrongTypedef rhs )\n",
    "     { return StrongTypedef(lhs.my_value+rhs.my_value) ; }\n",
    "    friend std::ostream & operator<<( std::ostream & os, StrongTypedef v )\n",
    "     { return (os<<v.my_value) ; }\n",
    "  private :\n",
    "    UnderlyingType my_value ;\n",
    " } ;\n",
    "\n",
    "using Width = StrongTypedef<double> ;\n",
    "using Height = StrongTypedef<double> ;"
   ]
  },
  {
   "cell_type": "markdown",
   "metadata": {
    "slideshow": {
     "slide_type": "subslide"
    }
   },
   "source": [
    "Well, from the compiler point of view, `Width` and `Height` are again the same single type `StrongTypedef<double>`. Let's add a second type parameter, whose single utility is to make them somehow different and not commutable."
   ]
  },
  {
   "cell_type": "code",
   "execution_count": 17,
   "metadata": {
    "slideshow": {
     "slide_type": "subslide"
    }
   },
   "outputs": [],
   "source": [
    "template< typename UnderlyingType, typename TagType >\n",
    "class StrongTypedef\n",
    " {\n",
    "  public :\n",
    "    explicit StrongTypedef( UnderlyingType value ) : my_value{value} {}\n",
    "    explicit operator UnderlyingType() const { return my_value ; }\n",
    "    friend StrongTypedef operator+( StrongTypedef v1, StrongTypedef v2 )\n",
    "     { return StrongTypedef(v1.my_value+v2.my_value) ; }\n",
    "    friend std::ostream & operator<<( std::ostream & os, StrongTypedef v )\n",
    "     { return (os<<v.my_value) ; }\n",
    "  private :\n",
    "    UnderlyingType my_value ;\n",
    " } ;\n",
    "\n",
    "struct WidthTag {} ;\n",
    "struct HeightTag {} ;\n",
    "\n",
    "using Width = StrongTypedef<double,WidthTag> ;\n",
    "using Height = StrongTypedef<double,HeightTag> ;"
   ]
  },
  {
   "cell_type": "markdown",
   "metadata": {
    "slideshow": {
     "slide_type": "subslide"
    }
   },
   "source": [
    "Void structs `WidthTag` and `HeightTag` aims to differenciate between `Width` et `Height`. There are usually called  **Tag Types** or **Phantom Types**. We can even create them on the fly :"
   ]
  },
  {
   "cell_type": "code",
   "execution_count": 18,
   "metadata": {
    "slideshow": {
     "slide_type": "fragment"
    }
   },
   "outputs": [],
   "source": [
    "using Width = StrongTypedef<double,struct WidthTag> ;\n",
    "using Height = StrongTypedef<double,struct HeightTag> ;"
   ]
  },
  {
   "cell_type": "markdown",
   "metadata": {
    "slideshow": {
     "slide_type": "slide"
    }
   },
   "source": [
    "## Factorize and recombine operators\n",
    "\n",
    "Actually, not all operators are valid for all types. For example, if we mix both points and vectors, it makes sense to add vectors, but not to add points... A single template which would define all operators is not relevant. We must find a mechanism so to **add operators on-demand**, depending of the meaning of the new type."
   ]
  },
  {
   "cell_type": "code",
   "execution_count": 5,
   "metadata": {
    "slideshow": {
     "slide_type": "subslide"
    }
   },
   "outputs": [],
   "source": [
    "template< typename UnderlyingType, typename TagType >\n",
    "class StrongTypedef\n",
    " {\n",
    "  public :\n",
    "    explicit StrongTypedef( UnderlyingType value ) : my_value{value} {}\n",
    "    explicit operator UnderlyingType() const { return my_value ; }\n",
    "  private :\n",
    "    UnderlyingType my_value ;\n",
    " } ;"
   ]
  },
  {
   "cell_type": "code",
   "execution_count": 6,
   "metadata": {
    "slideshow": {
     "slide_type": "subslide"
    }
   },
   "outputs": [],
   "source": [
    "#include <iostream>\n",
    "template< typename UT, typename TT >\n",
    "std::ostream & operator<<( std::ostream & os, const StrongTypedef<UT,TT> & obj )\n",
    " { return (os<<static_cast<UT>(obj)) ; }"
   ]
  },
  {
   "cell_type": "code",
   "execution_count": 7,
   "metadata": {
    "slideshow": {
     "slide_type": "fragment"
    }
   },
   "outputs": [],
   "source": [
    "template< typename UT, typename TT >\n",
    "struct addition\n",
    " {\n",
    "  friend StrongTypedef<UT,TT> operator+( const StrongTypedef<UT,TT> & lhs, const StrongTypedef<UT,TT> & rhs )\n",
    "   { return StrongTypedef<UT,TT>(static_cast<UT>(lhs)+static_cast<UT>(rhs)) ; }\n",
    " } ;"
   ]
  },
  {
   "cell_type": "code",
   "execution_count": 8,
   "metadata": {
    "slideshow": {
     "slide_type": "subslide"
    }
   },
   "outputs": [],
   "source": [
    "struct Meter : StrongTypedef<double, Meter>, addition<double,Meter>\n",
    " { using StrongTypedef::StrongTypedef ; } ;"
   ]
  },
  {
   "cell_type": "code",
   "execution_count": 9,
   "metadata": {
    "slideshow": {
     "slide_type": "fragment"
    }
   },
   "outputs": [],
   "source": [
    "struct Second : StrongTypedef<double, Second>, addition<double,Second>\n",
    " { using StrongTypedef::StrongTypedef ; } ;"
   ]
  },
  {
   "cell_type": "code",
   "execution_count": 10,
   "metadata": {
    "slideshow": {
     "slide_type": "subslide"
    }
   },
   "outputs": [
    {
     "name": "stderr",
     "output_type": "stream",
     "text": [
      "\u001b[1minput_line_17:7:30: \u001b[0m\u001b[0;1;31merror: \u001b[0m\u001b[1minvalid operands to binary expression ('__cling_N59::Meter' and '__cling_N510::Second')\u001b[0m\n",
      "std::cout<<m<<\"+\"<<s<<\"=\"<<(m+s)<<std::endl ;\n",
      "\u001b[0;1;32m                            ~^~\n",
      "\u001b[0m\u001b[1minput_line_14:4:31: \u001b[0m\u001b[0;1;30mnote: \u001b[0mcandidate function not viable: no known conversion from '__cling_N510::Second' to 'const StrongTypedef<double, __cling_N59::Meter>' for 2nd argument\u001b[0m\n",
      "  friend StrongTypedef<UT,TT> operator+( const StrongTypedef<UT,TT> & lhs, const StrongTypedef<UT,TT> & rhs )\n",
      "\u001b[0;1;32m                              ^\n",
      "\u001b[0m\u001b[1minput_line_14:4:31: \u001b[0m\u001b[0;1;30mnote: \u001b[0mcandidate function not viable: no known conversion from '__cling_N59::Meter' to 'const StrongTypedef<double, __cling_N510::Second>' for 1st argument\u001b[0m\n"
     ]
    },
    {
     "ename": "Interpreter Error",
     "evalue": "",
     "output_type": "error",
     "traceback": [
      "Interpreter Error: "
     ]
    }
   ],
   "source": [
    "Meter m { 1000 } ;\n",
    "Second s { 60 } ;\n",
    "    \n",
    "std::cout<<m<<\"+\"<<m<<\"=\"<<(m+m)<<std::endl ;\n",
    "std::cout<<s<<\"+\"<<s<<\"=\"<<(s+s)<<std::endl ;\n",
    "std::cout<<m<<\"+\"<<s<<\"=\"<<(m+s)<<std::endl ;"
   ]
  },
  {
   "cell_type": "markdown",
   "metadata": {
    "slideshow": {
     "slide_type": "slide"
    }
   },
   "source": [
    "## Libraries to the rescue\n",
    "\n",
    "Strong typing gives a meaning to your numerical values, and therefore helps the compiler to detect inconsistencies. But as you can guess, writing a complete \"strong typedef\" is rather complex. Some experts provide turnkey libraries  :\n",
    "* [type_safe, by Jonathan Muller](https://github.com/foonathan/type_safe)\n",
    "* [NamedType, by Jonathan Boccara](https://github.com/joboccara/NamedType)\n",
    "* [opaque-typedef, by Kyle Markley](https://sourceforge.net/projects/opaque-typedef/files/)\n",
    "* [BOOST_STRONG_TYPEDEF](http://www.boost.org/doc/libs/1_61_0/libs/serialization/doc/strong_typedef.html)"
   ]
  },
  {
   "cell_type": "markdown",
   "metadata": {
    "slideshow": {
     "slide_type": "slide"
    }
   },
   "source": [
    "# Questions ?"
   ]
  },
  {
   "cell_type": "markdown",
   "metadata": {
    "slideshow": {
     "slide_type": "skip"
    }
   },
   "source": [
    "## Exercise : give units to variables\n",
    "\n",
    "One obvious application of strong typedefs is to associate physical units to variables. In the code below, you are asked to introduce the types `Km` and `Liter`."
   ]
  },
  {
   "cell_type": "code",
   "execution_count": 11,
   "metadata": {
    "slideshow": {
     "slide_type": "skip"
    }
   },
   "outputs": [
    {
     "name": "stdout",
     "output_type": "stream",
     "text": [
      "Writing tmp.units.cpp\n"
     ]
    }
   ],
   "source": [
    "%%file tmp.units.cpp\n",
    "\n",
    "#include <iostream>\n",
    "\n",
    "// TO BE COMPLETED\n",
    "\n",
    "class Journey\n",
    " {\n",
    "  public :\n",
    "    Journey( double distance, double fuel )\n",
    "     : my_distance{distance}, my_fuel{fuel} {}\n",
    "    double consumption() { return my_fuel/my_distance*100. ; }\n",
    "  private :\n",
    "    double my_distance ;\n",
    "    double my_fuel ;\n",
    " } ;\n",
    "\n",
    "int main()\n",
    " {\n",
    "  double distance { 28.3 } ;\n",
    "  double fuel { 2.38 } ;\n",
    "  Journey j { fuel, distance } ;\n",
    "  std::cout<<j.consumption()<<\" l/100km\"<<std::endl;\n",
    " }"
   ]
  },
  {
   "cell_type": "code",
   "execution_count": 12,
   "metadata": {
    "slideshow": {
     "slide_type": "skip"
    }
   },
   "outputs": [],
   "source": [
    "!rm -f tmp.units.exe && g++ -std=c++17 tmp.units.cpp -o tmp.units.exe"
   ]
  },
  {
   "cell_type": "code",
   "execution_count": 13,
   "metadata": {
    "slideshow": {
     "slide_type": "skip"
    }
   },
   "outputs": [
    {
     "name": "stdout",
     "output_type": "stream",
     "text": [
      "1189.08 l/100km\n"
     ]
    }
   ],
   "source": [
    "!./tmp.units.exe"
   ]
  },
  {
   "cell_type": "markdown",
   "metadata": {
    "slideshow": {
     "slide_type": "skip"
    }
   },
   "source": [
    "## Ressources & inspirations on strong typing\n",
    "\n",
    "Blogs & Tutrials\n",
    "* Jonathan Muller : https://foonathan.net/2016/10/strong-typedefs/\n",
    "* Jonathan Boccara : https://www.fluentcpp.com/2016/12/08/strong-types-for-strong-interfaces/\n",
    "* Kyle Markley, 2016 : https://sourceforge.net/p/opaque-typedef/wiki/Home/\n",
    "\n",
    "Libraries\n",
    "* Jonathan Muller : https://github.com/foonathan/type_safe\n",
    "* Jonathan Boccara : https://github.com/joboccara/NamedType\n",
    "* Boost : http://www.boost.org/doc/libs/1_61_0/libs/serialization/doc/strong_typedef.html\n",
    "* Kyle Markley : https://sourceforge.net/projects/opaque-typedef/files/"
   ]
  },
  {
   "cell_type": "markdown",
   "metadata": {
    "slideshow": {
     "slide_type": "skip"
    }
   },
   "source": [
    "© *CNRS 2020*  \n",
    "*Assembled and written by David Chamont, translated by Pierre Aubert, this work is made available according to the terms of the*  \n",
    "[*Creative Commons License - Attribution - NonCommercial - ShareAlike 4.0 International*](http://creativecommons.org/licenses/by-nc-sa/4.0/)"
   ]
  }
 ],
 "metadata": {
  "celltoolbar": "Diaporama",
  "kernelspec": {
   "display_name": "C++17",
   "language": "C++17",
   "name": "xcpp17"
  },
  "language_info": {
   "codemirror_mode": "text/x-c++src",
   "file_extension": ".cpp",
   "mimetype": "text/x-c++src",
   "name": "c++",
   "version": "17"
  }
 },
 "nbformat": 4,
 "nbformat_minor": 4
}
