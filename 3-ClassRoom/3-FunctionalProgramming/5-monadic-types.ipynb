{
 "cells": [
  {
   "cell_type": "markdown",
   "metadata": {
    "slideshow": {
     "slide_type": "slide"
    }
   },
   "source": [
    "# Towards monads\n",
    "\n",
    "C ++ 17 introduced the `std::optional` type, which is said somehow **monadic**. Below, we will briefly present it and touch on the functional problematic of those kinds of types. Other types of modern C ++ are said *somehow monadic*, such as `std::future`, which we will discuss in the section on concurrent programming."
   ]
  },
  {
   "cell_type": "markdown",
   "metadata": {
    "slideshow": {
     "slide_type": "slide"
    }
   },
   "source": [
    "## When A is optional: `std::optional<A>`"
   ]
  },
  {
   "cell_type": "markdown",
   "metadata": {
    "slideshow": {
     "slide_type": "fragment"
    }
   },
   "source": [
    "The parameterized class `std::optional<A>` allows to store or not a value of type `A` in a more readable and more efficient way than a `std::pair<T,bool>`, and a easier way than raising an exception."
   ]
  },
  {
   "cell_type": "markdown",
   "metadata": {
    "slideshow": {
     "slide_type": "fragment"
    }
   },
   "source": [
    "When such a variable is converted to a boolean, we will get `true` if the value of type` A` is available and `false` otherwise."
   ]
  },
  {
   "cell_type": "code",
   "execution_count": 2,
   "metadata": {
    "slideshow": {
     "slide_type": "skip"
    }
   },
   "outputs": [],
   "source": [
    "#include <string>\n",
    "#include <iostream>\n",
    "#include <optional>"
   ]
  },
  {
   "cell_type": "code",
   "execution_count": 3,
   "metadata": {
    "slideshow": {
     "slide_type": "fragment"
    }
   },
   "outputs": [],
   "source": [
    "std::optional<std::string> create( bool b )\n",
    " {\n",
    "  if (b) return \"Godzilla\" ;\n",
    "  else return {} ;\n",
    " }"
   ]
  },
  {
   "cell_type": "code",
   "execution_count": 4,
   "metadata": {
    "slideshow": {
     "slide_type": "fragment"
    }
   },
   "outputs": [],
   "source": [
    "template< typename A >\n",
    "std::ostream & operator<<( std::ostream & os, std::optional<A> const & opt )\n",
    " { return os<<(opt?opt.value():\"nothing\") ; }"
   ]
  },
  {
   "cell_type": "code",
   "execution_count": 5,
   "metadata": {
    "slideshow": {
     "slide_type": "fragment"
    }
   },
   "outputs": [
    {
     "name": "stdout",
     "output_type": "stream",
     "text": [
      "create(false): nothing\n",
      "create(true): Godzilla\n"
     ]
    }
   ],
   "source": [
    "std::cout<<\"create(false): \"<<create(false)<<std::endl ; \n",
    "std::cout<<\"create(true): \"<<create(true)<<std::endl ;"
   ]
  },
  {
   "cell_type": "markdown",
   "metadata": {
    "slideshow": {
     "slide_type": "skip"
    }
   },
   "source": [
    "An optional variable is empty until it is assigned a value. It can be emptied by a call to `reset ()` or by assigning it the special value `std::nullopt`."
   ]
  },
  {
   "cell_type": "markdown",
   "metadata": {
    "slideshow": {
     "slide_type": "slide"
    }
   },
   "source": [
    "# Questions ?"
   ]
  },
  {
   "cell_type": "markdown",
   "metadata": {
    "slideshow": {
     "slide_type": "skip"
    }
   },
   "source": [
    "## Exercise 1 (simple)\n",
    "\n",
    "Modify the function `mysqrt` below so that it returns an `std::optional<double>` rather than a `double`, and the program prints `nothing` rather than `nan` for the call with `-10`. It will also require to modify `square`."
   ]
  },
  {
   "cell_type": "code",
   "execution_count": 9,
   "metadata": {
    "slideshow": {
     "slide_type": "skip"
    }
   },
   "outputs": [
    {
     "name": "stdout",
     "output_type": "stream",
     "text": [
      "Overwriting tmp.monadic-types.cpp\n"
     ]
    }
   ],
   "source": [
    "%%file tmp.monadic-types.cpp\n",
    "\n",
    "#include <cmath>\n",
    "#include <iostream>\n",
    "#include <optional>\n",
    "\n",
    "double mysqrt( double d )   // TO BE MODIFIED\n",
    " { return std::sqrt(d) ; }  // TO BE MODIFIED\n",
    "\n",
    "double square( double d )   // TO BE MODIFIED\n",
    " { return d*d ; }           // TO BE MODIFIED\n",
    "\n",
    "template< typename A >\n",
    "std::ostream & operator<<( std::ostream & os, std::optional<A> const & opt )\n",
    " {\n",
    "  if (opt) { return os<<opt.value() ; }\n",
    "  else { return os<<\"nothing\" ; }\n",
    " }\n",
    "\n",
    "int main()\n",
    " {\n",
    "  std::cout<<square(mysqrt(10))<<std::endl ;\n",
    "  std::cout<<square(mysqrt(-10))<<std::endl ;\n",
    " }"
   ]
  },
  {
   "cell_type": "code",
   "execution_count": 10,
   "metadata": {
    "slideshow": {
     "slide_type": "skip"
    }
   },
   "outputs": [],
   "source": [
    "!rm -f tmp.monadic-types.exe && g++ -std=c++17 tmp.monadic-types.cpp -o tmp.monadic-types.exe"
   ]
  },
  {
   "cell_type": "code",
   "execution_count": 11,
   "metadata": {
    "slideshow": {
     "slide_type": "skip"
    }
   },
   "outputs": [
    {
     "name": "stdout",
     "output_type": "stream",
     "text": [
      "10\n",
      "-nan\n"
     ]
    }
   ],
   "source": [
    "!./tmp.monadic-types.exe"
   ]
  },
  {
   "cell_type": "markdown",
   "metadata": {
    "slideshow": {
     "slide_type": "skip"
    }
   },
   "source": [
    "## Exercise 2 (difficult)\n",
    "\n",
    "Rather than modifying `square`, write a high-order function `raise`, which take as input a function of type `OutputType (&)( InputType )`, and return a function of type `std::optional<OutputType> (&)( std::optional<InputType> )`, which is calling the former one when its input optional has a value, or return an empty optional otherwise. Then, `raise` can help to reuse the original `square` without modifying it, it may be used likewise with any function `double(double)`.\n",
    "\n",
    "<!--\n",
    "This requires, at the very minimum, the new ... C++!& stuff ...\n",
    "3. (advanced) Make the function `raise` variadic, so that it can take any number of arguments as input.\n",
    "-->"
   ]
  },
  {
   "cell_type": "code",
   "execution_count": 12,
   "metadata": {
    "slideshow": {
     "slide_type": "skip"
    }
   },
   "outputs": [
    {
     "name": "stdout",
     "output_type": "stream",
     "text": [
      "Overwriting tmp.monadic-types.cpp\n"
     ]
    }
   ],
   "source": [
    "%%file tmp.monadic-types.cpp\n",
    "\n",
    "#include <cmath>\n",
    "#include <iostream>\n",
    "#include <optional>\n",
    "\n",
    "double mysqrt( double d )   // TO BE MODIFIED\n",
    " { return std::sqrt(d) ; }  // TO BE MODIFIED\n",
    "\n",
    "template< typename OutputType, typename InputType >\n",
    "auto raise( OutputType(&f)(InputType) )\n",
    " {\n",
    "  return [f]( std::optional<InputType> input ) -> std::optional<OutputType>\n",
    "   {\n",
    "    // TO BE COMPLETED\n",
    "   } ;\n",
    " }\n",
    "\n",
    "double square( double d )\n",
    " { return d*d ; }\n",
    "\n",
    "template< typename A >\n",
    "std::ostream & operator<<( std::ostream & os, std::optional<A> const & opt )\n",
    " {\n",
    "  if (opt) { return os<<opt.value() ; }\n",
    "  else { return os<<\"nothing\" ; }\n",
    " }\n",
    "\n",
    "int main()\n",
    " {\n",
    "  std::cout<<raise(square)(mysqrt(10))<<std::endl ;\n",
    "  std::cout<<raise(square)(mysqrt(-10))<<std::endl ;\n",
    " }"
   ]
  },
  {
   "cell_type": "code",
   "execution_count": 10,
   "metadata": {
    "slideshow": {
     "slide_type": "skip"
    }
   },
   "outputs": [],
   "source": [
    "!rm -f tmp.monadic-types.exe && g++ -std=c++17 tmp.monadic-types.cpp -o tmp.monadic-types.exe"
   ]
  },
  {
   "cell_type": "code",
   "execution_count": 11,
   "metadata": {
    "slideshow": {
     "slide_type": "skip"
    }
   },
   "outputs": [
    {
     "name": "stdout",
     "output_type": "stream",
     "text": [
      "10\n",
      "-nan\n"
     ]
    }
   ],
   "source": [
    "!./tmp.monadic-types.exe"
   ]
  },
  {
   "cell_type": "markdown",
   "metadata": {
    "slideshow": {
     "slide_type": "skip"
    }
   },
   "source": [
    "© *CNRS 2020*  \n",
    "*This document was created by David Chamont, proofread and improved by Hadrien Grasland and translated by Olga Abramkina. It is available under the [License Creative Commons - Attribution - No commercial use - Shared under the conditions 4.0 International](http://creativecommons.org/licenses/by-nc-sa/4.0/)*"
   ]
  }
 ],
 "metadata": {
  "celltoolbar": "Diaporama",
  "kernelspec": {
   "display_name": "C++17",
   "language": "C++17",
   "name": "xcpp17"
  },
  "language_info": {
   "codemirror_mode": "text/x-c++src",
   "file_extension": ".cpp",
   "mimetype": "text/x-c++src",
   "name": "c++",
   "version": "17"
  }
 },
 "nbformat": 4,
 "nbformat_minor": 4
}
