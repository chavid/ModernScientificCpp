{
 "cells": [
  {
   "cell_type": "markdown",
   "metadata": {
    "slideshow": {
     "slide_type": "slide"
    }
   },
   "source": [
    "# Lambda functions\n",
    "\n",
    "> C++11, C++14, and C++17 introduced quite a few features that make writing programs in the functional style much easier. The additional features are mostly syntactic sugar, but important syntactic sugar, in the form of the `auto` keyword and lambdas. *Ivan Cukic*"
   ]
  },
  {
   "cell_type": "markdown",
   "metadata": {
    "slideshow": {
     "slide_type": "slide"
    }
   },
   "source": [
    "## Lambda functions: anonymous and defined on the fly\n",
    "\n",
    "Many standard library algorithms, such as `std::for_each`, take a function as final argument. Starting with C++11, rather than defining such function separately, one can define it directly where it is used, by replacing its name with `[]`. These unnamed functions are called **anonymous functions** or **lambda functions**."
   ]
  },
  {
   "cell_type": "code",
   "execution_count": 1,
   "metadata": {
    "slideshow": {
     "slide_type": "skip"
    }
   },
   "outputs": [],
   "source": [
    "#include <algorithm>\n",
    "#include <vector>\n",
    "#include <iostream>"
   ]
  },
  {
   "cell_type": "code",
   "execution_count": 2,
   "metadata": {
    "slideshow": {
     "slide_type": "subslide"
    }
   },
   "outputs": [
    {
     "name": "stdout",
     "output_type": "stream",
     "text": [
      "1 4 9 16 25 \n"
     ]
    }
   ],
   "source": [
    "std::vector<int> v {1,2,3,4,5} ;\n",
    "std::for_each(v.begin(),v.end(), []( int i ){ std::cout<<i*i<<' ' ; } ) ;\n",
    "std::cout<<std::endl ;"
   ]
  },
  {
   "cell_type": "markdown",
   "metadata": {
    "slideshow": {
     "slide_type": "slide"
    }
   },
   "source": [
    "## To modify elements, pass the argument by reference\n",
    "\n",
    "If your lambda must modify the received element, you have to (naturally) declare this element as a reference:"
   ]
  },
  {
   "cell_type": "code",
   "execution_count": 4,
   "metadata": {
    "slideshow": {
     "slide_type": "subslide"
    }
   },
   "outputs": [
    {
     "name": "stdout",
     "output_type": "stream",
     "text": [
      "2 4 6 8 10 \n"
     ]
    }
   ],
   "source": [
    "std::vector<int> v {1,2,3,4,5} ;\n",
    "\n",
    "std::for_each(v.begin(),v.end(),[]( int & i )\n",
    " { i = 2*i ; }) ;\n",
    "\n",
    "std::for_each(v.begin(),v.end(),[]( int i )\n",
    " { std::cout<<i<<' ' ; }) ;\n",
    "std::cout<<std::endl ;"
   ]
  },
  {
   "cell_type": "markdown",
   "metadata": {
    "slideshow": {
     "slide_type": "slide"
    }
   },
   "source": [
    "## Return a result\n",
    "\n",
    "If your lambda function needs to return a result, it's about as easy. The compiler can guess the return type of your lambda by inspecting the instruction `return`. In the following example, we combine `std::sort` with a lambda so to reverse the ordering."
   ]
  },
  {
   "cell_type": "code",
   "execution_count": 5,
   "metadata": {
    "slideshow": {
     "slide_type": "subslide"
    }
   },
   "outputs": [
    {
     "name": "stdout",
     "output_type": "stream",
     "text": [
      "5 4 3 2 1 "
     ]
    }
   ],
   "source": [
    "std::vector<int> v {1,2,3,4,5} ;\n",
    "\n",
    "std::sort(v.begin(), v.end(), []( int lhs, int rhs )\n",
    " { return (lhs>rhs) ; }) ;\n",
    "\n",
    "std::for_each(v.begin(), v.end(), []( int i )\n",
    " { std::cout<<i<<' ' ; }) ;"
   ]
  },
  {
   "cell_type": "markdown",
   "metadata": {
    "slideshow": {
     "slide_type": "subslide"
    }
   },
   "source": [
    "To improve the readability of the code, or to help the compiler in certain ambiguous cases, we can explain the return type of a lambda. This is called **trailing return type declaration**."
   ]
  },
  {
   "cell_type": "code",
   "execution_count": 6,
   "metadata": {
    "slideshow": {
     "slide_type": "subslide"
    }
   },
   "outputs": [
    {
     "name": "stdout",
     "output_type": "stream",
     "text": [
      "5 4 3 2 1 "
     ]
    }
   ],
   "source": [
    "std::vector<int> v {1,2,3,4,5} ;\n",
    "\n",
    "std::sort(v.begin(), v.end(), []( int lhs, int rhs ) -> bool\n",
    " { return (lhs>rhs) ; }) ;\n",
    "\n",
    "std::for_each(v.begin(), v.end(), []( int i ) -> void\n",
    " { std::cout<<i<<' ' ; }) ;"
   ]
  },
  {
   "cell_type": "markdown",
   "metadata": {
    "slideshow": {
     "slide_type": "skip"
    }
   },
   "source": [
    "These early examples already show practical uses of lambdas. But their killing feature is their ability to capture local variables."
   ]
  },
  {
   "cell_type": "markdown",
   "metadata": {
    "slideshow": {
     "slide_type": "slide"
    }
   },
   "source": [
    "## Local variables capture\n",
    "\n",
    "A lambda function, when introduced with empty brackets \"[]\", can only access to its own arguments and global variables, like any other function. Yet, one can insert between the brackets a list of context variables to be captured, by value or by reference:\n",
    "* `[x,y,&j]` : `x` and `y` by value, `j` by reference ;\n",
    "* `[]` : nothing captured ;\n",
    "* `[&]` : all variables by reference ;\n",
    "* `[=]` : all variables by value ;\n",
    "* `[=,&j]` : all variables by value, except `j` by reference ;\n",
    "* `[&,j]` : all variables by reference, except `j` by value."
   ]
  },
  {
   "cell_type": "code",
   "execution_count": 7,
   "metadata": {
    "slideshow": {
     "slide_type": "subslide"
    }
   },
   "outputs": [
    {
     "name": "stdout",
     "output_type": "stream",
     "text": [
      "30\n"
     ]
    }
   ],
   "source": [
    "std::vector<int> v {1,2,3,4,5} ;\n",
    "    \n",
    "int multiplier = 2 ;\n",
    "std::for_each(v.begin(), v.end(), [multiplier]( int & i )\n",
    " { i = multiplier*i ; }) ;\n",
    "    \n",
    "int accumulator = 0 ;\n",
    "std::for_each(v.begin(), v.end(), [&accumulator]( int i )\n",
    " { accumulator += i ; }) ;\n",
    "    \n",
    "std::cout<<accumulator<<std::endl ;"
   ]
  },
  {
   "cell_type": "markdown",
   "metadata": {
    "slideshow": {
     "slide_type": "subslide"
    }
   },
   "source": [
    "A lambda is equivalent to some function-object, which capture the variables as members, and reuse them in the implementation of `operator()`:"
   ]
  },
  {
   "cell_type": "code",
   "execution_count": 8,
   "metadata": {
    "slideshow": {
     "slide_type": "-"
    }
   },
   "outputs": [],
   "source": [
    "class Multiplier\n",
    " {\n",
    "  public :\n",
    "    Multiplier( int m ) : m_m{m} {}\n",
    "    void operator()( int & i ) { i = m_m*i ; }\n",
    "  private :\n",
    "    int m_m ;\n",
    " } ;"
   ]
  },
  {
   "cell_type": "markdown",
   "metadata": {
    "slideshow": {
     "slide_type": "subslide"
    }
   },
   "source": [
    "**BEWARE**: when capturing by reference, as with any reference, the behavior is undefined if the original variable disappears before the lambda function is used. And from a *functional* point of view, such a kind of side-effect context modification **is rather impure**!"
   ]
  },
  {
   "cell_type": "markdown",
   "metadata": {
    "slideshow": {
     "slide_type": "skip"
    }
   },
   "source": [
    "In the case where we want to capture a large object without duplicating it and without making it modifiable, we can  regret that C ++ does not allow to capture a variable as a **constant reference**."
   ]
  },
  {
   "cell_type": "markdown",
   "metadata": {
    "slideshow": {
     "slide_type": "slide"
    }
   },
   "source": [
    "## Storing and reusing lambdas"
   ]
  },
  {
   "cell_type": "markdown",
   "metadata": {
    "slideshow": {
     "slide_type": "fragment"
    }
   },
   "source": [
    "A lambda function is a \"first class object\", and can be stored in a variable, to be reused later as any normal function. The type of the lambda is implementation-dependent. The usual practice is to declare above variable `auto`."
   ]
  },
  {
   "cell_type": "markdown",
   "metadata": {
    "slideshow": {
     "slide_type": "fragment"
    }
   },
   "source": [
    "A noteworthy difference with an ordinary function : you can **nest it** in any block."
   ]
  },
  {
   "cell_type": "markdown",
   "metadata": {
    "slideshow": {
     "slide_type": "fragment"
    }
   },
   "source": [
    "Again, beware not to capture by reference something which may be destrcuted before the lambda is used."
   ]
  },
  {
   "cell_type": "code",
   "execution_count": 10,
   "metadata": {
    "slideshow": {
     "slide_type": "skip"
    }
   },
   "outputs": [],
   "source": [
    "#include <vector>\n",
    "#include <algorithm>\n",
    "#include <iostream>"
   ]
  },
  {
   "cell_type": "code",
   "execution_count": 11,
   "metadata": {
    "slideshow": {
     "slide_type": "subslide"
    }
   },
   "outputs": [
    {
     "name": "stdout",
     "output_type": "stream",
     "text": [
      "2 4 6 8 10 \n",
      "3 6 9 12 15 \n"
     ]
    }
   ],
   "source": [
    "int m ;\n",
    "auto mult = [&m]( int i ){ std::cout<<(m*i)<<\" \" ; } ;\n",
    "std::vector<int> v {1,2,3,4,5} ;\n",
    "  \n",
    "m = 2 ;  \n",
    "std::for_each(v.begin(), v.end(), mult) ;\n",
    "std::cout<<std::endl ;\n",
    "\n",
    "m = 3 ;  \n",
    "std::for_each(v.begin(), v.end(), mult) ;\n",
    "std::cout<<std::endl ;"
   ]
  },
  {
   "cell_type": "markdown",
   "metadata": {
    "slideshow": {
     "slide_type": "slide"
    }
   },
   "source": [
    "## Generic lambdas\n",
    "\n",
    "If you want to reuse your lambda with different input types, you can also use `auto` in the functions parameters:"
   ]
  },
  {
   "cell_type": "code",
   "execution_count": 12,
   "metadata": {
    "slideshow": {
     "slide_type": "subslide"
    }
   },
   "outputs": [
    {
     "name": "stdout",
     "output_type": "stream",
     "text": [
      "1 2 3 4 5 \n",
      "1.1 2.2 3.3 4.4 \n"
     ]
    }
   ],
   "source": [
    "auto print = []( auto val ){ std::cout<<val<<' ' ; } ;\n",
    "\n",
    "std::vector<int> vi{1,2,3,4,5} ;\n",
    "std::for_each(vi.begin(),vi.end(),print) ;\n",
    "std::cout<<std::endl ;\n",
    "\n",
    "std::vector<double> vd{1.1,2.2,3.3,4.4} ;\n",
    "std::for_each(vd.begin(),vd.end(),print) ; \n",
    "std::cout<<std::endl ;"
   ]
  },
  {
   "cell_type": "markdown",
   "metadata": {
    "slideshow": {
     "slide_type": "subslide"
    }
   },
   "source": [
    "The first `auto` triggers type inference. The second is rather some simplified form of `template`. If we look for the equivalent function-object, it might look like this:"
   ]
  },
  {
   "cell_type": "code",
   "execution_count": 13,
   "metadata": {
    "slideshow": {
     "slide_type": "subslide"
    }
   },
   "outputs": [],
   "source": [
    "class Print\n",
    " {\n",
    "  public :\n",
    "    template< typename Value >\n",
    "    void operator()( Value val )\n",
    "     { std::cout<<val<<' ' ; }\n",
    " } ;"
   ]
  },
  {
   "cell_type": "markdown",
   "metadata": {
    "slideshow": {
     "slide_type": "fragment"
    }
   },
   "source": [
    "Note that it is the execution operator (`operator()`) that is parameterized, and not the class itself."
   ]
  },
  {
   "cell_type": "markdown",
   "metadata": {
    "slideshow": {
     "slide_type": "slide"
    }
   },
   "source": [
    "# Questions ?"
   ]
  },
  {
   "cell_type": "markdown",
   "metadata": {
    "slideshow": {
     "slide_type": "skip"
    }
   },
   "source": [
    "© *CNRS 2021*  \n",
    "*This document was created by David Chamont, proofread and improved by Hadrien Grasland and translated by Olga Abramkina. It is available under the [License Creative Commons - Attribution - No commercial use - Shared under the conditions 4.0 International](http://creativecommons.org/licenses/by-nc-sa/4.0/)*"
   ]
  }
 ],
 "metadata": {
  "celltoolbar": "Diaporama",
  "kernelspec": {
   "display_name": "C++17",
   "language": "C++17",
   "name": "xcpp17"
  },
  "language_info": {
   "codemirror_mode": "text/x-c++src",
   "file_extension": ".cpp",
   "mimetype": "text/x-c++src",
   "name": "c++",
   "version": "17"
  }
 },
 "nbformat": 4,
 "nbformat_minor": 4
}
