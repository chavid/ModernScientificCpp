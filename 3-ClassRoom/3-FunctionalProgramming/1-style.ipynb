{
 "cells": [
  {
   "cell_type": "markdown",
   "metadata": {
    "slideshow": {
     "slide_type": "slide"
    }
   },
   "source": [
    "# Adopt a functional style in old C ++\n",
    "\n",
    "> For FP in C++, the importance of templates isn’t (mainly) in the creation of container classes such as vectors, but in the fact that it allowed creation of STL algorithms (...) Most of these algorithms let you pass custom functions to customize the algorithms’ behavior (...) The capability to pass functions as arguments to another function, and to have functions that return new functions, made even the first standardized version of C++ an FP language. *Ivan Cukic*"
   ]
  },
  {
   "cell_type": "markdown",
   "metadata": {
    "slideshow": {
     "slide_type": "subslide"
    }
   },
   "source": [
    "## A vision of functional programming\n",
    "\n",
    "Get closer to **mathematical logic**:\n",
    "* a **variable** always means/contains the same thing,\n",
    "* given the same arguments, a **function** always returns the same result,\n",
    "* **high-order functions** can manipulate functions,\n",
    "* a **type algebra** allows types to be recombined.\n",
    "\n",
    "Compensate for the involved efficiencies:\n",
    "* **lazy evaluation**,\n",
    "* **immutable data structures**,\n",
    "* ..."
   ]
  },
  {
   "cell_type": "markdown",
   "metadata": {
    "slideshow": {
     "slide_type": "slide"
    }
   },
   "source": [
    "## Hypothetical benefits of functional programming\n",
    "\n",
    "* **Facilitates program proofs** ... on only the pure sub-part of a real application (excluding reading and creating files, displays, interaction with the database, etc.).\n",
    "* **Makes the code more readable?** Not so obvious in C ++, whose syntax serves so many paradigms..."
   ]
  },
  {
   "cell_type": "markdown",
   "metadata": {
    "slideshow": {
     "slide_type": "subslide"
    }
   },
   "source": [
    "## Practical benefits of functional programming\n",
    "\n",
    "* **Strengthen existing good practices** aimed at fighting spaghetti code (elimination of global variables).\n",
    "* **Reduce unintentional state changes** (\"OO makes code understandable by encapsulating moving parts. FP makes code understandable by minimizing moving parts.\" *Michael Feathers*).\n",
    "* **Promote the distinction between data structures and algorithms**, already more and more practiced in scientific computing, against a naive object approach.\n",
    "* **Facilitate parallelization** (\"No shared states, no problem\")."
   ]
  },
  {
   "cell_type": "markdown",
   "metadata": {
    "slideshow": {
     "slide_type": "slide"
    }
   },
   "source": [
    "## A classic code example"
   ]
  },
  {
   "cell_type": "code",
   "execution_count": 1,
   "metadata": {
    "slideshow": {
     "slide_type": "skip"
    }
   },
   "outputs": [],
   "source": [
    "#include <fstream>\n",
    "#include <vector>\n",
    "#include <string>"
   ]
  },
  {
   "cell_type": "code",
   "execution_count": 2,
   "metadata": {
    "slideshow": {
     "slide_type": "-"
    }
   },
   "outputs": [],
   "source": [
    "void count_lines_in_files\n",
    " ( std::vector<std::string> & fnames, std::vector<int> & nb_lines )\n",
    " {\n",
    "  std::vector<std::string>::iterator fileitr ;\n",
    "  for ( fileitr = fnames.begin() ; fileitr != fnames.end() ; ++fileitr )\n",
    "   {\n",
    "    int line_count = 0 ;\n",
    "    char c = 0 ;\n",
    "    std::ifstream in(fileitr->c_str()) ;\n",
    "    while (in.get(c))\n",
    "     {\n",
    "      if (c == '\\n')\n",
    "       { line_count++ ; }\n",
    "     }\n",
    "    nb_lines.push_back(line_count) ;\n",
    "   }\n",
    " }"
   ]
  },
  {
   "cell_type": "markdown",
   "metadata": {
    "slideshow": {
     "slide_type": "subslide"
    }
   },
   "source": [
    "## What we can already do with ancient C ++\n",
    "\n",
    "* Immutable data => use **`const`**\n",
    "* Functions made **pure** =>\n",
    "  * constant input variables,\n",
    "  * a single output (possibly composite),\n",
    "  * no side effects, never use of \"context\" !\n",
    "* Eliminate or hide as much as possible `if`,` for` or `while` => use the **standard library algorithms**.\n",
    "\n",
    "> Thinking functionally means thinking about the input data and the transformations you need to chain in order to get the desired output. *Ivan Cukic*"
   ]
  },
  {
   "cell_type": "markdown",
   "metadata": {
    "slideshow": {
     "slide_type": "subslide"
    }
   },
   "source": [
    "## Modified example"
   ]
  },
  {
   "cell_type": "code",
   "execution_count": 4,
   "metadata": {
    "slideshow": {
     "slide_type": "skip"
    }
   },
   "outputs": [],
   "source": [
    "#include <fstream>\n",
    "#include <vector>\n",
    "#include <string>\n",
    "#include <algorithm>"
   ]
  },
  {
   "cell_type": "code",
   "execution_count": 5,
   "metadata": {
    "slideshow": {
     "slide_type": "fragment"
    }
   },
   "outputs": [],
   "source": [
    "int count_lines( std::string const & filename )\n",
    " {\n",
    "  std::ifstream in(filename.c_str()) ;\n",
    "  typedef std::istreambuf_iterator<char> ifiterator ;\n",
    "  return std::count(ifiterator(in), ifiterator(), '\\n') ;\n",
    " }"
   ]
  },
  {
   "cell_type": "code",
   "execution_count": 6,
   "metadata": {
    "slideshow": {
     "slide_type": "fragment"
    }
   },
   "outputs": [],
   "source": [
    "std::vector<int> count_lines_in_files( std::vector<std::string> const & files )\n",
    " {\n",
    "  std::vector<int> nblines(files.size()) ;\n",
    "  std::transform(files.begin(), files.end(), nblines.begin(), count_lines) ;\n",
    "  return nblines ;\n",
    " }"
   ]
  },
  {
   "cell_type": "markdown",
   "metadata": {
    "slideshow": {
     "slide_type": "slide"
    }
   },
   "source": [
    "# Questions ?"
   ]
  },
  {
   "cell_type": "markdown",
   "metadata": {
    "slideshow": {
     "slide_type": "skip"
    }
   },
   "source": [
    "© *CNRS 2019*  \n",
    "*This document was created by David Chamont, proofread and improved by Hadrien Grasland, and translated by Olga Abramkina. It is available under the [License Creative Commons - Attribution - No commercial use - Shared under the conditions 4.0 International](http://creativecommons.org/licenses/by-nc-sa/4.0/)*"
   ]
  }
 ],
 "metadata": {
  "celltoolbar": "Diaporama",
  "kernelspec": {
   "display_name": "C++17",
   "language": "C++17",
   "name": "xcpp17"
  },
  "language_info": {
   "codemirror_mode": "text/x-c++src",
   "file_extension": ".cpp",
   "mimetype": "text/x-c++src",
   "name": "c++",
   "version": "17"
  }
 },
 "nbformat": 4,
 "nbformat_minor": 4
}
