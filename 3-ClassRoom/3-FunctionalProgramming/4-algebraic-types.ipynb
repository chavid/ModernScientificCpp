{
 "cells": [
  {
   "cell_type": "markdown",
   "metadata": {
    "slideshow": {
     "slide_type": "slide"
    }
   },
   "source": [
    "# A brief introduction to the algebra of types\n",
    "\n",
    "> In the functional world, building new types from old ones is usually done through two operations: sum and product (these new types are thus called algebraic). A product of two types A and B is a new type that contains an instance of A and an instance of B. (...) The sum  of types A and B is a type that can hold an instance of A or an instance of B, but not both at the same time. *Ivan Cukic*"
   ]
  },
  {
   "cell_type": "markdown",
   "metadata": {
    "slideshow": {
     "slide_type": "slide"
    }
   },
   "source": [
    "## A * B * ... : `std::tuple`\n",
    "\n",
    "The parameterized class `std::tuple <A, B, ...>` is a generalization of `std::pair` to an arbitrary number of types. From the *type algebra* point of view, it can be considered as the multiplication of types."
   ]
  },
  {
   "cell_type": "markdown",
   "metadata": {
    "slideshow": {
     "slide_type": "subslide"
    }
   },
   "source": [
    "### Access by `std::get`\n",
    "\n",
    "Different member variables of a tuple are accessible through their indices."
   ]
  },
  {
   "cell_type": "code",
   "execution_count": 1,
   "metadata": {
    "slideshow": {
     "slide_type": "skip"
    }
   },
   "outputs": [],
   "source": [
    "#include <tuple>\n",
    "#include <iostream>\n",
    "#include <string>\n",
    "#include <stdexcept> "
   ]
  },
  {
   "cell_type": "code",
   "execution_count": 2,
   "metadata": {
    "slideshow": {
     "slide_type": "subslide"
    }
   },
   "outputs": [],
   "source": [
    "std::tuple<double, char, std::string> get_student( int id )\n",
    " {\n",
    "  if (id == 0) return { 3.8, 'A', \"Lisa Simpson\" } ;\n",
    "  if (id == 1) return { 2.9, 'C', \"Milhouse Van Houten\" } ;\n",
    "  if (id == 2) return { 1.7, 'D', \"Ralph Wiggum\" } ;\n",
    "  throw std::invalid_argument(\"unknown student id\") ;\n",
    " }"
   ]
  },
  {
   "cell_type": "code",
   "execution_count": 3,
   "metadata": {
    "slideshow": {
     "slide_type": "subslide"
    }
   },
   "outputs": [],
   "source": [
    "void display_student( int id )\n",
    " {\n",
    "  auto student = get_student(id) ;\n",
    "    \n",
    "  std::cout\n",
    "    << \"GPA: \" << std::get<0>(student) << \", \"\n",
    "    << \"grade: \" << std::get<1>(student) << \", \"\n",
    "    << \"name: \" << std::get<2>(student)\n",
    "    << std::endl;\n",
    " }"
   ]
  },
  {
   "cell_type": "code",
   "execution_count": 4,
   "metadata": {
    "slideshow": {
     "slide_type": "fragment"
    }
   },
   "outputs": [
    {
     "name": "stdout",
     "output_type": "stream",
     "text": [
      "GPA: 3.8, grade: A, name: Lisa Simpson\n",
      "GPA: 2.9, grade: C, name: Milhouse Van Houten\n",
      "GPA: 1.7, grade: D, name: Ralph Wiggum\n"
     ]
    }
   ],
   "source": [
    "display_student(0) ;\n",
    "display_student(1) ;\n",
    "display_student(2) ;"
   ]
  },
  {
   "cell_type": "markdown",
   "metadata": {
    "slideshow": {
     "slide_type": "slide"
    }
   },
   "source": [
    "### Access by \"structured binding\"\n",
    "\n",
    "Since C ++ 17, we can \"unpack\" on the fly all kinds of structures, in order to distribute the values ​​of the structure in a set of independent variables. In the example below, this allows us to give more meaningful names to the different elements of a `std::tuple` and to avoid the use of `std::get<>` :"
   ]
  },
  {
   "cell_type": "code",
   "execution_count": 5,
   "metadata": {
    "slideshow": {
     "slide_type": "fragment"
    }
   },
   "outputs": [],
   "source": [
    "void display_student( int id )\n",
    " {\n",
    "  auto [ gpa, grade, name ] = get_student(id) ;\n",
    "    \n",
    "  std::cout\n",
    "    << \"GPA: \" << gpa << \", \"\n",
    "    << \"grade: \" << grade << \", \"\n",
    "    << \"name: \" << name\n",
    "    << std::endl;\n",
    " }"
   ]
  },
  {
   "cell_type": "code",
   "execution_count": 6,
   "metadata": {
    "slideshow": {
     "slide_type": "fragment"
    }
   },
   "outputs": [
    {
     "name": "stdout",
     "output_type": "stream",
     "text": [
      "GPA: 3.8, grade: A, name: Lisa Simpson\n",
      "GPA: 2.9, grade: C, name: Milhouse Van Houten\n",
      "GPA: 1.7, grade: D, name: Ralph Wiggum\n"
     ]
    }
   ],
   "source": [
    "display_student(0) ;\n",
    "display_student(1) ;\n",
    "display_student(2) ;"
   ]
  },
  {
   "cell_type": "markdown",
   "metadata": {
    "slideshow": {
     "slide_type": "skip"
    }
   },
   "source": [
    "**Note**: it is not necessarily intuitive, but it is complicated to loop through all the elements of a tuple. On this subject, see `std::apply`."
   ]
  },
  {
   "cell_type": "markdown",
   "metadata": {
    "slideshow": {
     "slide_type": "slide"
    }
   },
   "source": [
    "## A + B + ... : `std::variant`\n",
    "\n",
    "The parameterized class `std::variant<A, B, ...>` is an evolution of C unions. In addition, it memorizes the type of the last stored value and raises exceptions if the developer makes type errors. From the \"type algebra\" point of view, we can think of it as the addition of types."
   ]
  },
  {
   "cell_type": "markdown",
   "metadata": {
    "slideshow": {
     "slide_type": "subslide"
    }
   },
   "source": [
    "### Access when the current type is known: `std::get`\n",
    "\n",
    "When we know at all times what the type of the current value of a variant, we can use `std::get<>` with the desired type, or even the type index:"
   ]
  },
  {
   "cell_type": "code",
   "execution_count": 7,
   "metadata": {
    "slideshow": {
     "slide_type": "skip"
    }
   },
   "outputs": [],
   "source": [
    "#include <iostream>\n",
    "#include <variant>"
   ]
  },
  {
   "cell_type": "code",
   "execution_count": 8,
   "metadata": {
    "slideshow": {
     "slide_type": "subslide"
    }
   },
   "outputs": [
    {
     "name": "stdout",
     "output_type": "stream",
     "text": [
      "42 42 3.14 3.14 \n"
     ]
    }
   ],
   "source": [
    "std::variant<int, double> v, w ;\n",
    "int i, j ;\n",
    "double x, y ;\n",
    "\n",
    "v = 42 ;\n",
    "w = v ;\n",
    "i = std::get<int>(v) ;\n",
    "j = std::get<0>(w) ;\n",
    "\n",
    "w = 3.14 ;\n",
    "v = w ;\n",
    "x = std::get<double>(v) ;\n",
    "y = std::get<1>(w) ;\n",
    "\n",
    "// std::get<float>(v); // compilation error: no float in [int, double]\n",
    "// std::get<3>(v);     // compilation error: valid index values are 0 and 1\n",
    "// std::get<int>(v);   // runtime exception: v currently contains a double\n",
    "\n",
    "std::cout<<i<<\" \"<<j<<\" \"<<x<<\" \"<<y<<\" \"<<std::endl ;"
   ]
  },
  {
   "cell_type": "markdown",
   "metadata": {
    "slideshow": {
     "slide_type": "fragment"
    }
   },
   "source": [
    "The advantage of `std::variant` here, compared to a union, is that a type mismatch between a write and a read is detected at runtime."
   ]
  },
  {
   "cell_type": "markdown",
   "metadata": {
    "slideshow": {
     "slide_type": "subslide"
    }
   },
   "source": [
    "### Access when the current type is unknown: `std::get_if`\n",
    "\n",
    "If we do not know what is the type of the value currently stored in a variant, we will instead call `std::get_if` :"
   ]
  },
  {
   "cell_type": "code",
   "execution_count": 9,
   "metadata": {
    "slideshow": {
     "slide_type": "fragment"
    }
   },
   "outputs": [],
   "source": [
    "#include <vector>"
   ]
  },
  {
   "cell_type": "code",
   "execution_count": 10,
   "metadata": {
    "slideshow": {
     "slide_type": "fragment"
    }
   },
   "outputs": [
    {
     "name": "stdout",
     "output_type": "stream",
     "text": [
      "int value: 42\n",
      "double value: 3.14\n"
     ]
    }
   ],
   "source": [
    "using var_t = std::variant<int, double> ;\n",
    "std::vector<var_t> vals = { 42, 3.14 } ;\n",
    "\n",
    "for ( auto & val : vals )\n",
    " {\n",
    "  int * ipval = std::get_if<int>(&val) ;\n",
    "  double * dpval = std::get_if<double>(&val) ;\n",
    "  \n",
    "  if ( ipval ) std::cout << \"int value: \" << *ipval << std::endl ;     \n",
    "  else if ( dpval ) std::cout << \"double value: \" << *dpval << std::endl ;    \n",
    "  else throw \"unknown value !\" ;    \n",
    " }"
   ]
  },
  {
   "cell_type": "markdown",
   "metadata": {
    "slideshow": {
     "slide_type": "skip"
    }
   },
   "source": [
    "**Note**: as for the `std::tuple`, we have to know in advance all the types that make up our variant, and to try them all in the main program. This makes the program cumbersome and does not facilitate the extension of the variant with new types, since all the client codes will have to be updated. More complex syntax is available for writing more generic customer codes: see `std::visit`. "
   ]
  },
  {
   "cell_type": "markdown",
   "metadata": {
    "slideshow": {
     "slide_type": "slide"
    }
   },
   "source": [
    "# Questions ?"
   ]
  },
  {
   "cell_type": "markdown",
   "metadata": {
    "slideshow": {
     "slide_type": "skip"
    }
   },
   "source": [
    "# Exercise\n",
    "\n",
    "In this example, replace inheritance with the use of a variant:"
   ]
  },
  {
   "cell_type": "code",
   "execution_count": 11,
   "metadata": {
    "slideshow": {
     "slide_type": "skip"
    }
   },
   "outputs": [
    {
     "name": "stdout",
     "output_type": "stream",
     "text": [
      "Writing tmp.algebraic-types.cpp\n"
     ]
    }
   ],
   "source": [
    "%%file tmp.algebraic-types.cpp\n",
    "\n",
    "#include <iostream>\n",
    "#include <vector>\n",
    "\n",
    "struct Particle\n",
    " {\n",
    "  virtual void print() = 0 ;\n",
    "  virtual ~Particle() = default ;\n",
    " } ;\n",
    "\n",
    "struct Electron : public Particle\n",
    " { virtual void print(){ std::cout<<\"E\"<<std::endl ; } } ;\n",
    "\n",
    "struct Proton : public Particle\n",
    " { virtual void print(){ std::cout<<\"P\"<<std::endl ; } } ;\n",
    "\n",
    "struct Neutron : public Particle\n",
    " { virtual void print(){ std::cout<<\"N\"<<std::endl ; } } ;\n",
    "\n",
    "int main()\n",
    " {\n",
    "  std::vector<Particle *> ps =\n",
    "   { new Electron, new Proton, new Neutron } ;\n",
    "\n",
    "  for ( auto p : ps )\n",
    "   { p->print() ; }\n",
    " }"
   ]
  },
  {
   "cell_type": "code",
   "execution_count": 12,
   "metadata": {
    "slideshow": {
     "slide_type": "skip"
    }
   },
   "outputs": [],
   "source": [
    "!rm -f tmp.algebraic-types.exe && g++ -std=c++17 tmp.algebraic-types.cpp -o tmp.algebraic-types.exe"
   ]
  },
  {
   "cell_type": "code",
   "execution_count": 13,
   "metadata": {
    "slideshow": {
     "slide_type": "skip"
    }
   },
   "outputs": [
    {
     "name": "stdout",
     "output_type": "stream",
     "text": [
      "E\n",
      "P\n",
      "N\n"
     ]
    }
   ],
   "source": [
    "!./tmp.algebraic-types.exe"
   ]
  },
  {
   "cell_type": "markdown",
   "metadata": {
    "slideshow": {
     "slide_type": "skip"
    }
   },
   "source": [
    "© *CNRS 2020*  \n",
    "*This document was created by David Chamont, proofread and improved by Hadrien Grasland and translated by Olga Abramkina. It is available under the [License Creative Commons - Attribution - No commercial use - Shared under the conditions 4.0 International](http://creativecommons.org/licenses/by-nc-sa/4.0/)*"
   ]
  }
 ],
 "metadata": {
  "celltoolbar": "Diaporama",
  "kernelspec": {
   "display_name": "C++17",
   "language": "C++17",
   "name": "xcpp17"
  },
  "language_info": {
   "codemirror_mode": "text/x-c++src",
   "file_extension": ".cpp",
   "mimetype": "text/x-c++src",
   "name": "c++",
   "version": "17"
  }
 },
 "nbformat": 4,
 "nbformat_minor": 4
}
