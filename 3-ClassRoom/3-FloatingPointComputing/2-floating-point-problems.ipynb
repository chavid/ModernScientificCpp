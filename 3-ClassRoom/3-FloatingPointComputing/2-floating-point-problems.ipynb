{
 "cells": [
  {
   "cell_type": "markdown",
   "metadata": {
    "slideshow": {
     "slide_type": "slide"
    }
   },
   "source": [
    "\n",
    "# Flaws of floating-point computing\n",
    "\n",
    "Floating-point numbers can represent a very large range of numbers, from the smallest to the largest, similarly to scientific notation. They are the prefered types for scientific computing. Yet, one must be aware of the many **rounding errors** which are implied. "
   ]
  },
  {
   "cell_type": "markdown",
   "metadata": {
    "slideshow": {
     "slide_type": "subslide"
    }
   },
   "source": [
    "First, in order to check visually the accuracy of some calculations, let's increase to 18 the output stream precision (this is 6 by default)."
   ]
  },
  {
   "cell_type": "code",
   "execution_count": null,
   "metadata": {
    "slideshow": {
     "slide_type": "-"
    }
   },
   "outputs": [],
   "source": [
    "#include <iostream>\n",
    "std::cout.precision(18) ;"
   ]
  },
  {
   "cell_type": "markdown",
   "metadata": {},
   "source": [
    "## Binary is not decimal"
   ]
  },
  {
   "cell_type": "markdown",
   "metadata": {
    "slideshow": {
     "slide_type": "subslide"
    }
   },
   "source": [
    "In binary base, all the numbers `2^(-n)`, with `n` not to big, and all their combinations can be represented exactly by a floating point number:"
   ]
  },
  {
   "cell_type": "code",
   "execution_count": null,
   "metadata": {
    "slideshow": {
     "slide_type": "fragment"
    }
   },
   "outputs": [],
   "source": [
    "std::cout << (1./2.) << \" \" << (1./4.) << \" \" << (1./2.+1./4.) << std::endl ;"
   ]
  },
  {
   "cell_type": "markdown",
   "metadata": {
    "slideshow": {
     "slide_type": "subslide"
    }
   },
   "source": [
    "Apart from this rare special ones, given the limited number of digits available for the internal representation, most numbers cannot be represented exactly:"
   ]
  },
  {
   "cell_type": "code",
   "execution_count": null,
   "metadata": {
    "slideshow": {
     "slide_type": "fragment"
    }
   },
   "outputs": [],
   "source": [
    "std::cout << (1./3.) << std::endl ;"
   ]
  },
  {
   "cell_type": "markdown",
   "metadata": {
    "slideshow": {
     "slide_type": "subslide"
    }
   },
   "source": [
    "Less intuitive, some very simple numbers (for humans) do not have an exact base-two representation:"
   ]
  },
  {
   "cell_type": "code",
   "execution_count": null,
   "metadata": {
    "slideshow": {
     "slide_type": "-"
    }
   },
   "outputs": [],
   "source": [
    "std::cout << 0.1 << std::endl ;"
   ]
  },
  {
   "cell_type": "markdown",
   "metadata": {
    "slideshow": {
     "slide_type": "subslide"
    }
   },
   "source": [
    "Some simple operations may add rounding errors, which complicates comparison of floating-point numbers:"
   ]
  },
  {
   "cell_type": "code",
   "execution_count": null,
   "metadata": {},
   "outputs": [],
   "source": [
    "double d1 = .3 ;\n",
    "double d2 = .1+.2 ;\n",
    "std::cout << d1 << std::endl ;\n",
    "std::cout << d2 << std::endl ;\n",
    "if (d1==d2)\n",
    " { std::cout<<\"numbers are the same\"<<std::endl ; }\n",
    "else\n",
    " { std::cout<<\"numbers differ !\"<<std::endl ; }"
   ]
  },
  {
   "cell_type": "markdown",
   "metadata": {
    "slideshow": {
     "slide_type": "slide"
    }
   },
   "source": [
    "## Good old-fashioned practice: epsilon\n",
    "\n",
    "When comparing some floating point numbers, always allows for an epsilon difference, and scale it with the absolute values."
   ]
  },
  {
   "cell_type": "code",
   "execution_count": null,
   "metadata": {
    "slideshow": {
     "slide_type": "skip"
    }
   },
   "outputs": [],
   "source": [
    "#include <cmath>\n",
    "#include <limits>"
   ]
  },
  {
   "cell_type": "code",
   "execution_count": null,
   "metadata": {
    "slideshow": {
     "slide_type": "-"
    }
   },
   "outputs": [],
   "source": [
    "bool compare( double val1, double val2 )\n",
    " {\n",
    "  constexpr double eps = std::numeric_limits<double>::epsilon() ;\n",
    "  return (std::abs(val1-val2)<(eps*std::max(std::abs(val1),std::abs(val2)))) ;\n",
    " }"
   ]
  },
  {
   "cell_type": "code",
   "execution_count": null,
   "metadata": {
    "slideshow": {
     "slide_type": "-"
    }
   },
   "outputs": [],
   "source": [
    "if (compare(.3,.1+.2 ))\n",
    " { std::cout<<\"numbers are the same\"<<std::endl ; }\n",
    "else\n",
    " { std::cout<<\"numbers differ !\"<<std::endl ; }"
   ]
  },
  {
   "cell_type": "markdown",
   "metadata": {},
   "source": [
    "When doing long arithmetic computations and|or mathematical functions (exp, log, trigo...), it is even usual to multiply the epsilon by a factor such as 3.  "
   ]
  },
  {
   "cell_type": "markdown",
   "metadata": {},
   "source": [
    "## Absorption\n",
    "\n",
    "Adding a very small number to a very big one has no effect on the big one... And there is nothing you can do about it, except using a larger floating point type, to a given extent, and more importantly modify your algorithms so to avoid this situation. The even worse point is that it is really hard to detect such pitfall. "
   ]
  },
  {
   "cell_type": "code",
   "execution_count": null,
   "metadata": {},
   "outputs": [],
   "source": [
    "%%file tmp.absorption.cpp\n",
    "\n",
    "#include <iostream>\n",
    "#include <stdfloat>\n",
    "\n",
    "int main( int argc, char * argv[] )\n",
    " {\n",
    "  auto v1 { 128.0f16 } ;\n",
    "  auto v2 { 1.f16/16 } ;\n",
    "  std::cout << v1 << std::endl ;\n",
    "  std::cout << v2 << std::endl ;\n",
    "  std::cout << (v1+v2) << std::endl ;\n",
    " }"
   ]
  },
  {
   "cell_type": "code",
   "execution_count": null,
   "metadata": {
    "scrolled": true
   },
   "outputs": [],
   "source": [
    "!rm -f tmp.absorption.exe && g++ -O2 -std=c++23 tmp.absorption.cpp -o tmp.absorption.exe && ./tmp.absorption.exe"
   ]
  },
  {
   "cell_type": "markdown",
   "metadata": {},
   "source": [
    "## Cancellation\n",
    "\n",
    "Somehow similar to the previous problem, if you substract two numbers which are very close, the results will get very few significant digits. In the example below, where we consider the `long double` result as the \"truth\", after only few operations, the relative errors is far from the expected 7 significant digits."
   ]
  },
  {
   "cell_type": "code",
   "execution_count": null,
   "metadata": {},
   "outputs": [],
   "source": [
    "%%file tmp.cancellation.cpp\n",
    "    \n",
    "#include <iostream>\n",
    "#include <iomanip>\n",
    "\n",
    "template< typename R >\n",
    "std::tuple<R,R> main_impl()\n",
    " {\n",
    "  R v1 { static_cast<R>(3.333) + static_cast<R>(3.0e-4) } ;\n",
    "  R v2 { static_cast<R>(3.333) + static_cast<R>(2.0e-4) } ;\n",
    "  R res1 = (v1*v1-v2*v2) ;\n",
    "  R res2 = (v1+v2)*(v1-v2) ;\n",
    "  return { res1, res2 } ;\n",
    " }\n",
    "\n",
    "int main( int argc, char * argv[] ) {\n",
    "  auto [ res1l, res2l ] = main_impl<long double>() ;\n",
    "  auto [ res1f, res2f ] = main_impl<float>() ;\n",
    "\n",
    "  std::cout << std::fixed << std::setprecision(18) ;\n",
    "  std::cout << \"(v1*v1-v2*v2)     float result: \" << res1f << std::endl ;\n",
    "  std::cout << \"(v1+v2)*(v1-v2)   float result: \" << res2f << std::endl ;\n",
    "  std::cout << \"(v1*v1-v2*v2)   relative error: \" << (res1l-res1f)/res1l << std::endl ;\n",
    "  std::cout << \"(v1+v2)*(v1-v2) relative error: \" << (res2l-res2f)/res2l << std::endl ;\n",
    " }\n"
   ]
  },
  {
   "cell_type": "code",
   "execution_count": null,
   "metadata": {
    "scrolled": true
   },
   "outputs": [],
   "source": [
    "!rm -f tmp.cancellation.exe && g++ -O2 -std=c++23 tmp.cancellation.cpp -o tmp.cancellation.exe"
   ]
  },
  {
   "cell_type": "code",
   "execution_count": null,
   "metadata": {
    "scrolled": true
   },
   "outputs": [],
   "source": [
    "!./tmp.cancellation.exe"
   ]
  },
  {
   "cell_type": "markdown",
   "metadata": {
    "slideshow": {
     "slide_type": "slide"
    }
   },
   "source": [
    "# Take Away\n",
    "\n",
    "Modern C++ will not bring any silver bullet for the rounding problems of floating point computing. You still have to rely on only some old-fashioned good practice, yet externals tools that can help to locate greatest errors ([CADNA](https://www-pequan.lip6.fr/cadna/), [verificarlo](https://github.com/verificarlo/verificarlo), [verrou](https://github.com/edf-hpc/verrou))."
   ]
  },
  {
   "cell_type": "markdown",
   "metadata": {
    "slideshow": {
     "slide_type": "slide"
    }
   },
   "source": [
    "# Questions ?"
   ]
  },
  {
   "cell_type": "markdown",
   "metadata": {},
   "source": [
    "© *CNRS 2024*  \n",
    "*This document was created by David Chamont. It is available under the [License Creative Commons - Attribution - No commercial use - Shared under the conditions 4.0 International](http://creativecommons.org/licenses/by-nc-sa/4.0/)*"
   ]
  }
 ],
 "metadata": {
  "celltoolbar": "Diaporama",
  "kernelspec": {
   "display_name": "C++17",
   "language": "C++17",
   "name": "xcpp17"
  },
  "language_info": {
   "codemirror_mode": "text/x-c++src",
   "file_extension": ".cpp",
   "mimetype": "text/x-c++src",
   "name": "c++",
   "version": "17"
  },
  "toc": {
   "base_numbering": 1,
   "nav_menu": {},
   "number_sections": true,
   "sideBar": true,
   "skip_h1_title": true,
   "title_cell": "Table of Contents",
   "title_sidebar": "Contents",
   "toc_cell": false,
   "toc_position": {},
   "toc_section_display": true,
   "toc_window_display": false
  },
  "varInspector": {
   "cols": {
    "lenName": 16,
    "lenType": 16,
    "lenVar": 40
   },
   "kernels_config": {
    "python": {
     "delete_cmd_postfix": "",
     "delete_cmd_prefix": "del ",
     "library": "var_list.py",
     "varRefreshCmd": "print(var_dic_list())"
    },
    "r": {
     "delete_cmd_postfix": ") ",
     "delete_cmd_prefix": "rm(",
     "library": "var_list.r",
     "varRefreshCmd": "cat(var_dic_list()) "
    }
   },
   "types_to_exclude": [
    "module",
    "function",
    "builtin_function_or_method",
    "instance",
    "_Feature"
   ],
   "window_display": false
  }
 },
 "nbformat": 4,
 "nbformat_minor": 4
}
