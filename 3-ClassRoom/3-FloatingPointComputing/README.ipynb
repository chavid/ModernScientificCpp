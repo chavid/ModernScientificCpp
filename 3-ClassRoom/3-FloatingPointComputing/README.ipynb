{
 "cells": [
  {
   "cell_type": "markdown",
   "metadata": {
    "slideshow": {
     "slide_type": "slide"
    }
   },
   "source": [
    "# Floating point arithmetic\n",
    "\n",
    "1. [Floating point basics](1-floating-point-basics.ipynb)\n",
    "1. [Configuring the precision](2-configure-precision.ipynb)\n",
    "1. [Generation of random numbers](3-random-numbers.ipynb)"
   ]
  },
  {
   "cell_type": "markdown",
   "metadata": {
    "slideshow": {
     "slide_type": "skip"
    }
   },
   "source": [
    "## Some sources\n",
    "\n",
    "- [Floating point acuracy](https://indico.ijclab.in2p3.fr/event/10290/contributions/33106/attachments/23242/33510/Reprises_IJC_Precision_dual_i2i.pdf)\n",
    "- [Wikipedia](https://en.wikipedia.org/wiki/Floating-point_arithmetic)\n",
    "- [Fixed width floating-point types](https://en.cppreference.com/w/cpp/types/floating-point)\n",
    "- [QuadMath](https://people.sc.fsu.edu/~jburkardt/cpp_src/g++_quadmath/g++_quadmath.html)\n",
    "- [What Every Programmer Should Know About Floating-Point Arithmetic](https://floating-point-gui.de/)\n",
    "- [IEEE-754 Floating-Point Conversion](https://babbage.cs.qc.cuny.edu/IEEE-754.old/Decimal.html)"
   ]
  },
  {
   "cell_type": "markdown",
   "metadata": {
    "slideshow": {
     "slide_type": "skip"
    }
   },
   "source": [
    "© *CNRS 2024*  \n",
    "*This document was created by David Chamont and translated by Olga Abramkina. It is available under the [License Creative Commons - Attribution - No commercial use - Shared under the conditions 4.0 International](http://creativecommons.org/licenses/by-nc-sa/4.0/)*"
   ]
  }
 ],
 "metadata": {
  "celltoolbar": "Diaporama",
  "kernelspec": {
   "display_name": "Python 3 (ipykernel)",
   "language": "python",
   "name": "python3"
  },
  "language_info": {
   "codemirror_mode": {
    "name": "ipython",
    "version": 3
   },
   "file_extension": ".py",
   "mimetype": "text/x-python",
   "name": "python",
   "nbconvert_exporter": "python",
   "pygments_lexer": "ipython3",
   "version": "3.11.8"
  }
 },
 "nbformat": 4,
 "nbformat_minor": 4
}
