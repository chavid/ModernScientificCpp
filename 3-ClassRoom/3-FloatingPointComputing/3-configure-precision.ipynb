{
 "cells": [
  {
   "cell_type": "markdown",
   "metadata": {
    "attributes": {
     "classes": [
      "cpp"
     ],
     "id": ""
    },
    "slideshow": {
     "slide_type": "slide"
    }
   },
   "source": [
    "# Configuring the precision\n",
    "\n",
    "Many scientists choose the double precision type (`double`) by default, out of habit. They suspect that simple precision (`float`) might be insufficient, higher precision (quadruple precision) is slow and bulky, and they don’t know anything about hardware implemented extended precision (long double). Do not rely on such fuzzy intuition: instead, write your code with a configurable precision, and **try out** different ones."
   ]
  },
  {
   "cell_type": "markdown",
   "metadata": {
    "slideshow": {
     "slide_type": "subslide"
    }
   },
   "source": [
    "### First pre-requisite : accuracy control\n",
    "\n",
    "Before trying different floating-point types, one must wonder how to **validate how accurate is the final result**, or at least if it accurate enough."
   ]
  },
  {
   "cell_type": "markdown",
   "metadata": {
    "slideshow": {
     "slide_type": "subslide"
    }
   },
   "source": [
    "### Second-prequisite : execution time control\n",
    "\n",
    "When monitoring the execution time, there are a few rules to known about, especially when playing with small/toy code:\n",
    "* run your program many times and compute a mean execution time ;\n",
    "* your program must run long enough, so that the processor pipelines get filled and you go well beyond the initial *computing latency* ;\n",
    "* if the size of your data become too big, you may fill out the processor cache memory, become I/O bound, and the results will not any more express the CPU performance, but the bandwidth of the memory bus."
   ]
  },
  {
   "cell_type": "markdown",
   "metadata": {
    "slideshow": {
     "slide_type": "slide"
    }
   },
   "source": [
    "## First step with `using`\n",
    "\n",
    "If you are starting from a code written with `double`, you can simply search and replace all `double` with, for example, `real`, and add `using real = double` at the beginning of all your `*.cc` body files, or at the beginning of some `*.h` header file included everywhere. \n",
    "\n",
    "From there on, you can change your alias into `using real = float`, and recompile everything. Then check if the results are still accurate enough, and measure how faster is execution."
   ]
  },
  {
   "cell_type": "code",
   "execution_count": 1,
   "metadata": {
    "slideshow": {
     "slide_type": "subslide"
    }
   },
   "outputs": [
    {
     "name": "stdout",
     "output_type": "stream",
     "text": [
      "Writing tmp.precision.h\n"
     ]
    }
   ],
   "source": [
    "%%file tmp.precision.h\n",
    "\n",
    "using real = double ;"
   ]
  },
  {
   "cell_type": "code",
   "execution_count": 2,
   "metadata": {
    "slideshow": {
     "slide_type": "fragment"
    }
   },
   "outputs": [
    {
     "name": "stdout",
     "output_type": "stream",
     "text": [
      "Writing tmp.precision.cpp\n"
     ]
    }
   ],
   "source": [
    "%%file tmp.precision.cpp\n",
    "\n",
    "#include \"tmp.precision.h\"\n",
    "#include <iostream>\n",
    "#include <vector>\n",
    "\n",
    "void reduce( std::vector<real> const & collection )\n",
    " {\n",
    "  real res {static_cast<real>(1.)} ;\n",
    "  for ( auto element : collection )\n",
    "   { res *= element ; }\n",
    "  std::cout.precision(18) ;\n",
    "  std::cout << res << std::endl ;\n",
    " }\n",
    "\n",
    "int main()\n",
    " {\n",
    "  reduce({ 1.1, 2.2, 3.3, 4.4, 5.5 }) ;\n",
    " }"
   ]
  },
  {
   "cell_type": "code",
   "execution_count": 3,
   "metadata": {
    "slideshow": {
     "slide_type": "subslide"
    }
   },
   "outputs": [],
   "source": [
    "!rm -f tmp.precision.exe && g++ -std=c++17 tmp.precision.cpp -o tmp.precision.exe"
   ]
  },
  {
   "cell_type": "code",
   "execution_count": 4,
   "metadata": {
    "slideshow": {
     "slide_type": "fragment"
    }
   },
   "outputs": [
    {
     "name": "stdout",
     "output_type": "stream",
     "text": [
      "193.261200000000031\r\n"
     ]
    }
   ],
   "source": [
    "!./tmp.precision.exe"
   ]
  },
  {
   "cell_type": "code",
   "execution_count": 5,
   "metadata": {
    "slideshow": {
     "slide_type": "fragment"
    }
   },
   "outputs": [
    {
     "name": "stdout",
     "output_type": "stream",
     "text": [
      "Overwriting tmp.precision.h\n"
     ]
    }
   ],
   "source": [
    "%%file tmp.precision.h\n",
    "\n",
    "using real = float ;"
   ]
  },
  {
   "cell_type": "code",
   "execution_count": 6,
   "metadata": {
    "slideshow": {
     "slide_type": "fragment"
    }
   },
   "outputs": [],
   "source": [
    "!rm -f tmp.precision.exe && g++ -std=c++17 tmp.precision.cpp -o tmp.precision.exe"
   ]
  },
  {
   "cell_type": "code",
   "execution_count": 7,
   "metadata": {
    "slideshow": {
     "slide_type": "fragment"
    }
   },
   "outputs": [
    {
     "name": "stdout",
     "output_type": "stream",
     "text": [
      "193.261199951171875\r\n"
     ]
    }
   ],
   "source": [
    "!./tmp.precision.exe"
   ]
  },
  {
   "cell_type": "markdown",
   "metadata": {
    "slideshow": {
     "slide_type": "subslide"
    }
   },
   "source": [
    "This approach requires a complete recompilation and works in an \"all or nothing\" mode. We can improve it a bit by using a collection of `real1`,` real2`,... type aliases, to be used in different sub-sections of the code.\n",
    "\n",
    "**BEWARE**: in order not to stumble on unattended side effects, it is adviced to **track and remove from the original code any form of implicit conversion** between floating-point types."
   ]
  },
  {
   "cell_type": "markdown",
   "metadata": {
    "slideshow": {
     "slide_type": "slide"
    }
   },
   "source": [
    "## Go further with templates\n",
    "\n",
    "For each portion of your code that can be configured separately, you can create a template, taking as a parameter the floating-point type to be used.\n",
    "\n",
    "This flexibility comes with a price: the function bodies must be completely moved into header, which causes the usual lengthening of compilation and bloating of executables... until C++20 provide more efficient solutions using *Modules*."
   ]
  },
  {
   "cell_type": "markdown",
   "metadata": {
    "slideshow": {
     "slide_type": "subslide"
    }
   },
   "source": [
    "Make all and every class a template will often imply adaptations:\n",
    "* some nested types may become \"dependent\", and therefore require an additional `typename` keyword ;\n",
    "* some inherited members may become unreachable when the base class become a template, and therefore require the addition of `this->` or `using` ;\n",
    "* some implicit conversion may become dependent on a template parameter, not any more inferable by the compiler, and therefore require to be made explicit. "
   ]
  },
  {
   "cell_type": "code",
   "execution_count": 8,
   "metadata": {
    "slideshow": {
     "slide_type": "subslide"
    }
   },
   "outputs": [
    {
     "name": "stdout",
     "output_type": "stream",
     "text": [
      "Overwriting tmp.precision.cpp\n"
     ]
    }
   ],
   "source": [
    "%%file tmp.precision.cpp\n",
    "\n",
    "#include <iostream>\n",
    "#include <vector>\n",
    "\n",
    "template< typename Real >\n",
    "void reduce( std::vector<Real> const & collection )\n",
    " {\n",
    "  Real res = 1. ;\n",
    "  for ( auto element : collection )\n",
    "   { res *= element ; }\n",
    "  std::cout.precision(18) ;\n",
    "  std::cout << res << std::endl ;\n",
    " }\n",
    "\n",
    "int main()\n",
    " {\n",
    "  reduce(std::vector<double>{ 1.1, 2.2, 3.3, 4.4, 5.5 }) ;\n",
    "  reduce<float>({ 1.1, 2.2, 3.3, 4.4, 5.5 }) ;\n",
    " }"
   ]
  },
  {
   "cell_type": "code",
   "execution_count": 9,
   "metadata": {
    "slideshow": {
     "slide_type": "skip"
    }
   },
   "outputs": [],
   "source": [
    "!rm -f tmp.precision.exe && g++ -std=c++17 tmp.precision.cpp -o tmp.precision.exe"
   ]
  },
  {
   "cell_type": "code",
   "execution_count": 10,
   "metadata": {
    "scrolled": true,
    "slideshow": {
     "slide_type": "-"
    }
   },
   "outputs": [
    {
     "name": "stdout",
     "output_type": "stream",
     "text": [
      "193.261200000000031\r\n",
      "193.261199951171875\r\n"
     ]
    }
   ],
   "source": [
    "!./tmp.precision.exe"
   ]
  },
  {
   "cell_type": "markdown",
   "metadata": {
    "slideshow": {
     "slide_type": "slide"
    }
   },
   "source": [
    "# Questions?"
   ]
  },
  {
   "cell_type": "markdown",
   "metadata": {
    "slideshow": {
     "slide_type": "skip"
    }
   },
   "source": [
    "# Exercise"
   ]
  },
  {
   "cell_type": "markdown",
   "metadata": {
    "slideshow": {
     "slide_type": "skip"
    }
   },
   "source": [
    "## Initial code\n",
    "\n",
    "In the example below, we make a big array of unit complex numbers, them make the power of each of them (through multiplication), then reduce the array to a single number (through multiplication).\n",
    "\n",
    "Depending on the array size and the power degree, we can make the computation either cpu-bound or io-bound. Understand this code and run it."
   ]
  },
  {
   "cell_type": "code",
   "execution_count": 2,
   "metadata": {
    "slideshow": {
     "slide_type": "skip"
    }
   },
   "outputs": [
    {
     "name": "stdout",
     "output_type": "stream",
     "text": [
      "Writing tmp.precision.cpp\n"
     ]
    }
   ],
   "source": [
    "%%file tmp.precision.cpp\n",
    "\n",
    "#include <iostream>\n",
    "#include <cassert> // for assert\n",
    "#include <cstdlib> // for rand\n",
    "#include <valarray>\n",
    "#include <stdfloat>\n",
    "#include <complex>\n",
    "#include <cmath>\n",
    "\n",
    "// SoA of complex numbers\n",
    "class Complexes {\n",
    "  public :  \n",
    "  \n",
    "    Complexes( std::size_t size ) : m_rs(size), m_is(size) {}\n",
    "    std::size_t size() const { return m_rs.size() ; }\n",
    "    \n",
    "    std::complex<double> operator[]( std::size_t index ) const\n",
    "     { return { m_rs[index], m_is[index] } ; }\n",
    "    void real( std::size_t index, double value ) { m_rs[index] = value ; }\n",
    "    void imag( std::size_t index, double value ) { m_is[index] = value ; }\n",
    "    \n",
    "    friend Complexes operator*( Complexes const & lhs, Complexes const & rhs ) {\n",
    "      Complexes res {lhs.size()} ;\n",
    "      res.m_rs = lhs.m_rs*rhs.m_rs - lhs.m_is*rhs.m_is ;\n",
    "      res.m_is = rhs.m_rs*lhs.m_is + lhs.m_rs*rhs.m_is ;\n",
    "      return res ;\n",
    "    }\n",
    "    \n",
    "  private :\n",
    "    std::valarray<double> m_rs, m_is ;\n",
    " } ;\n",
    "\n",
    "Complexes random( std::size_t size )\n",
    " {\n",
    "  srand(1) ;\n",
    "  Complexes cplxs {size} ;\n",
    "  for ( std::size_t i = 0 ; i < cplxs.size() ; ++i )\n",
    "   {\n",
    "    double e = 2*M_PI*(static_cast<double>(std::rand())/RAND_MAX) ;\n",
    "    cplxs.real(i,cos(e)) ;\n",
    "    cplxs.imag(i,sin(e)) ;\n",
    "   }\n",
    "  return cplxs ;\n",
    " }\n",
    "\n",
    "Complexes pow( Complexes const & cplxs, long long degree )\n",
    " {\n",
    "  Complexes res {cplxs} ;\n",
    "  for ( long long d = 1 ; d < degree ; ++d ) {\n",
    "    res = res*cplxs ;\n",
    "  }\n",
    "  return res ;\n",
    " }\n",
    "\n",
    "std::complex<double> reduce( Complexes const & cplxs )\n",
    " {\n",
    "  std::complex<double> res { 1., 0. } ;\n",
    "  for ( std::size_t i = 0 ; i < cplxs.size() ; ++i )\n",
    "   { res *= cplxs[i] ; }\n",
    "  return res ;\n",
    " }\n",
    "\n",
    "int main( int argc, char * argv[] )\n",
    " {\n",
    "  assert(argc==3) ;\n",
    "  std::size_t size = atoi(argv[1]) ;\n",
    "  long long degree = atoll(argv[2]) ;\n",
    "  std::cout.precision(18) ;  \n",
    "\n",
    "  std::complex<double> res = reduce(pow(random(size),degree)) ;\n",
    "  double re = res.real(), im = res.imag() ;\n",
    "  auto r = std::sqrt(static_cast<long double>(re*re+im*im)) ;\n",
    "  auto n = std::atan(static_cast<long double>(im/re)) ;\n",
    "  std::cout<<r<<\" \"<<n<<std::endl ;\n",
    " }"
   ]
  },
  {
   "cell_type": "markdown",
   "metadata": {
    "slideshow": {
     "slide_type": "skip"
    }
   },
   "source": [
    "The main program receives two arguments:\n",
    "* the first argument sets up the size of the collections, and will affect the occupied RAM as well as the I/O volume ;\n",
    "* the second argument sets up the degree which we raise the numbers, and will affect the volume of calculations performed.\n",
    "\n",
    "By fiddling with these two arguments we can modify the balance between calculation and data volume. Also, with low values, we can have a reference output, that we can quickly check when refactoring the code. With high values, we can profile the performances."
   ]
  },
  {
   "cell_type": "code",
   "execution_count": 5,
   "metadata": {
    "slideshow": {
     "slide_type": "skip"
    }
   },
   "outputs": [
    {
     "name": "stdout",
     "output_type": "stream",
     "text": [
      "Overwriting tmp.precision.sh\n"
     ]
    }
   ],
   "source": [
    "%%file tmp.precision.sh\n",
    "echo\n",
    "\n",
    "opt=${1}\n",
    "shift\n",
    "\n",
    "rm -f tmp.precision.exe\n",
    "g++ -O${opt} -std=c++17 tmp.precision.cpp -o tmp.precision.exe\n",
    "\n",
    "./tmp.precision.exe $*\n",
    "\n",
    "rm -f tmp.precision.py\n",
    "echo \"s = 0 ; m = 0\" >> tmp.precision.py\n",
    "for i in 0 1 2 3 4 5 6 7 8 9 ; do\n",
    "    \\time -f \"s += %U ; m += %M\" -a -o ./tmp.precision.py ./tmp.precision.exe $*  >> /dev/null\n",
    "done\n",
    "echo \"print(\\\"{:.4} s. {} kB.\\\".format(s/10.,m/10.))\" >> tmp.precision.py\n",
    "python3 tmp.precision.py\n",
    "\n",
    "echo"
   ]
  },
  {
   "cell_type": "markdown",
   "metadata": {
    "slideshow": {
     "slide_type": "skip"
    }
   },
   "source": [
    "The script receives three arguments:\n",
    "* the first one sets the level of optimization requested from the compiler,\n",
    "* the next two are passed as is to the executable."
   ]
  },
  {
   "cell_type": "code",
   "execution_count": 6,
   "metadata": {
    "slideshow": {
     "slide_type": "skip"
    }
   },
   "outputs": [
    {
     "name": "stdout",
     "output_type": "stream",
     "text": [
      "\n",
      "1.00000000022830138 -1.20400202884309004\n",
      "0.236 s. 3979.6 kB.\n",
      "\n"
     ]
    }
   ],
   "source": [
    "! bash -l tmp.precision.sh 2 1024 100000"
   ]
  },
  {
   "cell_type": "markdown",
   "metadata": {
    "slideshow": {
     "slide_type": "skip"
    }
   },
   "source": [
    "## To do\n",
    "\n",
    "Modify the code so that it can turn either in `float`, `double`, `long double`, `std::float16_t`, `std::float128_t`, etc. Of course you can just recompile the code replacing all types each time. Rather try to template the code to the float type used and add an additional command line option in order to choose precision at execution."
   ]
  },
  {
   "cell_type": "markdown",
   "metadata": {
    "slideshow": {
     "slide_type": "skip"
    }
   },
   "source": [
    "Fill in the table below, which summarizes the computation times and the results significant digits, for different accuracies with the arguments `1024 10000`.\n",
    "\n",
    "| Type            | time (s) | significant digits |\n",
    "| :-------------- | -------: | -----------------: |\n",
    "| std::float16_t  |          |                    |\n",
    "| float           |          |                    |\n",
    "| double          |          |                    |\n",
    "| long            |          |                    |\n",
    "| std::float128_t |          |                    |"
   ]
  },
  {
   "cell_type": "markdown",
   "metadata": {
    "slideshow": {
     "slide_type": "skip"
    }
   },
   "source": [
    "Try the same with `g++ -O0`, `g++ -O1`, `g++ -O3`, `g++ -Ofast`..."
   ]
  },
  {
   "cell_type": "markdown",
   "metadata": {
    "slideshow": {
     "slide_type": "skip"
    }
   },
   "source": [
    "© *CNRS 2024*  \n",
    "*This document was created by David Chamont and translated by Olga Abramkina. It is available under the [License Creative Commons - Attribution - No commercial use - Shared under the conditions 4.0 International](http://creativecommons.org/licenses/by-nc-sa/4.0/)*"
   ]
  }
 ],
 "metadata": {
  "celltoolbar": "Diaporama",
  "kernelspec": {
   "display_name": "Python 3 (ipykernel)",
   "language": "python",
   "name": "python3"
  },
  "language_info": {
   "codemirror_mode": {
    "name": "ipython",
    "version": 3
   },
   "file_extension": ".py",
   "mimetype": "text/x-python",
   "name": "python",
   "nbconvert_exporter": "python",
   "pygments_lexer": "ipython3",
   "version": "3.11.8"
  }
 },
 "nbformat": 4,
 "nbformat_minor": 4
}
