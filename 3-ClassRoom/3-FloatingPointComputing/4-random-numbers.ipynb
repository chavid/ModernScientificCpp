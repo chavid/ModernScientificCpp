{
 "cells": [
  {
   "cell_type": "markdown",
   "metadata": {
    "attributes": {
     "classes": [
      "cpp"
     ],
     "id": ""
    },
    "slideshow": {
     "slide_type": "slide"
    }
   },
   "source": [
    "  # Pseudo-random number generation\n",
    "\n",
    "As compared to C, the C ++ standard library takes a big step forward in providing multiple utilities for generating pseudo-random numbers with different properties and probability laws."
   ]
  },
  {
   "cell_type": "markdown",
   "metadata": {
    "attributes": {
     "classes": [
      "cpp"
     ],
     "id": ""
    },
    "slideshow": {
     "slide_type": "skip"
    }
   },
   "source": [
    "One of the dilemmas of a developer of scientific code is to choose between a non-deterministic mechanism, therefore closer to what one expects from the \"random\" notion, and a deterministic and reproducible mechanism."
   ]
  },
  {
   "cell_type": "markdown",
   "metadata": {
    "slideshow": {
     "slide_type": "slide"
    }
   },
   "source": [
    "## Within C"
   ]
  },
  {
   "cell_type": "markdown",
   "metadata": {
    "slideshow": {
     "slide_type": "subslide"
    }
   },
   "source": [
    "The generation of random numbers within C relies on the `rand()` function, which returns a pseudo-random integer between `0` and `RAND_MAX`.\n",
    "\n",
    "The srand() function allows one to set the starting point of the process, the seed. We can give it a fixed value if we want to reproduce the same sequence each time and to always obtain the same final result."
   ]
  },
  {
   "cell_type": "code",
   "execution_count": 1,
   "metadata": {
    "slideshow": {
     "slide_type": "skip"
    }
   },
   "outputs": [],
   "source": [
    "#include <iostream>\n",
    "#include <cassert>   // for assert\n",
    "#include <cstdlib>   // for rand\n",
    "#include <ctime>     // for time\n",
    "#include <array>     // for std::array\n",
    "#include <numeric>   // for accumulate"
   ]
  },
  {
   "cell_type": "code",
   "execution_count": 2,
   "metadata": {
    "slideshow": {
     "slide_type": "subslide"
    }
   },
   "outputs": [],
   "source": [
    "constexpr unsigned SIZE = 1024 ;\n",
    "std::array<double,SIZE> coll ;"
   ]
  },
  {
   "cell_type": "code",
   "execution_count": 11,
   "metadata": {
    "slideshow": {
     "slide_type": "-"
    }
   },
   "outputs": [
    {
     "name": "stdout",
     "output_type": "stream",
     "text": [
      "mean   : 0.00675054\n"
     ]
    }
   ],
   "source": [
    "std::srand(1) ;\n",
    "for ( auto & elem : coll )\n",
    " { elem = std::rand()/(RAND_MAX+1.)-0.5 ; }\n",
    "\n",
    "double mean = 0. ;\n",
    "for ( auto elem : coll )\n",
    " { mean += elem ; }\n",
    "mean /= SIZE ;\n",
    "\n",
    "std::cout<<\"mean   : \"<<mean<<std::endl ;"
   ]
  },
  {
   "cell_type": "markdown",
   "metadata": {
    "slideshow": {
     "slide_type": "subslide"
    }
   },
   "source": [
    "In order to be **more random (but less reproducible)**, it is common to mix a call to `srand ()` with a call to `time(0)`."
   ]
  },
  {
   "cell_type": "code",
   "execution_count": 8,
   "metadata": {
    "slideshow": {
     "slide_type": "subslide"
    }
   },
   "outputs": [
    {
     "name": "stdout",
     "output_type": "stream",
     "text": [
      "mean   : -0.00338041\n"
     ]
    }
   ],
   "source": [
    "std::srand(std::time(0)) ;\n",
    "for ( auto & elem : coll )\n",
    " { elem = std::rand()/(RAND_MAX+1.)-0.5 ; }\n",
    "    \n",
    "double mean = 0. ;\n",
    "for ( auto elem : coll )\n",
    " { mean += elem ; }\n",
    "mean /= SIZE ;\n",
    "\n",
    "std::cout<<\"mean   : \"<<mean<<std::endl ;"
   ]
  },
  {
   "cell_type": "markdown",
   "metadata": {
    "slideshow": {
     "slide_type": "slide"
    }
   },
   "source": [
    "## C++ engines\n",
    "\n",
    "Instead of the single `rand()` function, the C++11 standard library provides a set of engines named after the algorithm which is used:\n",
    "* `linear_congruential_engine`\n",
    "* `mersenne_twister_engine`\n",
    "* `subtract_with_carry_engine` (also called Lagged Fibonacci)"
   ]
  },
  {
   "cell_type": "markdown",
   "metadata": {
    "slideshow": {
     "slide_type": "subslide"
    }
   },
   "source": [
    "All those engines are **function objects**: we start by calling a constructor of the class, optionally giving a seed, then we can use the created object as if it were a function, to produce a pseudo-random number given by its `operator()`."
   ]
  },
  {
   "cell_type": "code",
   "execution_count": 12,
   "metadata": {
    "slideshow": {
     "slide_type": "skip"
    }
   },
   "outputs": [],
   "source": [
    "#include <iostream>\n",
    "#include <random>"
   ]
  },
  {
   "cell_type": "code",
   "execution_count": 13,
   "metadata": {
    "slideshow": {
     "slide_type": "subslide"
    }
   },
   "outputs": [
    {
     "name": "stdout",
     "output_type": "stream",
     "text": [
      "16807\n",
      "282475249\n",
      "1622650073\n",
      "984943658\n",
      "1144108930\n"
     ]
    }
   ],
   "source": [
    "std::minstd_rand0 engine ;\n",
    "std::cout<<engine()<<std::endl ;\n",
    "std::cout<<engine()<<std::endl ;\n",
    "std::cout<<engine()<<std::endl ;\n",
    "std::cout<<engine()<<std::endl ;\n",
    "std::cout<<engine()<<std::endl ;"
   ]
  },
  {
   "cell_type": "markdown",
   "metadata": {
    "slideshow": {
     "slide_type": "subslide"
    }
   },
   "source": [
    "The standard library also defines a `default_random_engine`, whose type is implementation dependent."
   ]
  },
  {
   "cell_type": "code",
   "execution_count": 21,
   "metadata": {
    "slideshow": {
     "slide_type": "subslide"
    }
   },
   "outputs": [
    {
     "name": "stdout",
     "output_type": "stream",
     "text": [
      "16807\n",
      "282475249\n",
      "1622650073\n",
      "984943658\n",
      "1144108930\n"
     ]
    }
   ],
   "source": [
    "std::default_random_engine engine ;\n",
    "std::cout<<engine()<<std::endl ;\n",
    "std::cout<<engine()<<std::endl ;\n",
    "std::cout<<engine()<<std::endl ;\n",
    "std::cout<<engine()<<std::endl ;\n",
    "std::cout<<engine()<<std::endl ;"
   ]
  },
  {
   "cell_type": "markdown",
   "metadata": {
    "slideshow": {
     "slide_type": "subslide"
    }
   },
   "source": [
    "One of the difficulties with those engines is that they are all different C++ types. Even worse, the type is unknown for default engine. If you want some flexibility for the choice of the engine, you may have no choice but to use template parameters."
   ]
  },
  {
   "cell_type": "markdown",
   "metadata": {
    "slideshow": {
     "slide_type": "subslide"
    }
   },
   "source": [
    "If one wants truly random numbers, instead of `time()`, C++11 provides **`std::random_device`**, which is supposed to rely on \"a source of hardware entropy\", *if the hardware permits*, in order to provide non-deterministic random integers. Same as engines, it is an object-fonction which must be constructed first, then used as a function so to produce the integer than can be used as a seed for another engine."
   ]
  },
  {
   "cell_type": "code",
   "execution_count": 18,
   "metadata": {
    "slideshow": {
     "slide_type": "subslide"
    }
   },
   "outputs": [
    {
     "name": "stdout",
     "output_type": "stream",
     "text": [
      "784308858\n",
      "624351120\n",
      "864174598\n",
      "750563925\n",
      "408944997\n"
     ]
    }
   ],
   "source": [
    "std::random_device device ;\n",
    "std::default_random_engine engine(device()) ;\n",
    "std::cout<<engine()<<std::endl ;\n",
    "std::cout<<engine()<<std::endl ;\n",
    "std::cout<<engine()<<std::endl ;\n",
    "std::cout<<engine()<<std::endl ;\n",
    "std::cout<<engine()<<std::endl ;"
   ]
  },
  {
   "cell_type": "markdown",
   "metadata": {
    "slideshow": {
     "slide_type": "subslide"
    }
   },
   "source": [
    "Note: the seed can also by set after the construction of a generator, by calling the member function `seed()`."
   ]
  },
  {
   "cell_type": "code",
   "execution_count": 16,
   "metadata": {
    "slideshow": {
     "slide_type": "-"
    }
   },
   "outputs": [
    {
     "name": "stdout",
     "output_type": "stream",
     "text": [
      "1175761748\n",
      "2030662589\n",
      "1536015199\n",
      "906529006\n",
      "1784012024\n"
     ]
    }
   ],
   "source": [
    "std::random_device device ;\n",
    "std::default_random_engine engine ;\n",
    "engine.seed(device()) ;\n",
    "std::cout<<engine()<<std::endl ;\n",
    "std::cout<<engine()<<std::endl ;\n",
    "std::cout<<engine()<<std::endl ;\n",
    "std::cout<<engine()<<std::endl ;\n",
    "std::cout<<engine()<<std::endl ;"
   ]
  },
  {
   "cell_type": "markdown",
   "metadata": {
    "slideshow": {
     "slide_type": "slide"
    }
   },
   "source": [
    "## Distributions\n",
    "\n",
    "On top of the engines, the library provides a set of **distributions**. This makes it possible to transform the (pseudo-)random integers supplied by engines into a particular probability law: uniform, bernouilli, geometric, Poisson, binomial, uniform, exponential, normal and gamma.\n",
    "\n",
    "BEWARE: distribution are object-functions, which must be constructed first, and then take an engine as input argument later, when they are called as functions."
   ]
  },
  {
   "cell_type": "markdown",
   "metadata": {
    "slideshow": {
     "slide_type": "skip"
    }
   },
   "source": [
    "Below, we generate a normal (Gaussian) distribution with its default parameters and verify that the mean tends to `0` and the standard deviation to` 1`. As with engines, distributions are function objects. Their `()` operators take a generator as argument."
   ]
  },
  {
   "cell_type": "code",
   "execution_count": 17,
   "metadata": {
    "slideshow": {
     "slide_type": "skip"
    }
   },
   "outputs": [],
   "source": [
    "#include <iostream>\n",
    "#include <array>\n",
    "#include <random>\n",
    "#include <cmath>\n",
    "\n",
    "constexpr unsigned SIZE = 1024 ;\n",
    "std::array<double,SIZE> coll ;"
   ]
  },
  {
   "cell_type": "code",
   "execution_count": 18,
   "metadata": {
    "slideshow": {
     "slide_type": "subslide"
    }
   },
   "outputs": [
    {
     "name": "stdout",
     "output_type": "stream",
     "text": [
      "mean   : -0.0186748\n",
      "stddev : 0.994092\n"
     ]
    }
   ],
   "source": [
    "std::default_random_engine engine ;\n",
    "std::normal_distribution<double> distrib{0.,1.} ;\n",
    "for ( auto & elem : coll )\n",
    " { elem = distrib(engine) ; }\n",
    "    \n",
    "double mean = 0. ;\n",
    "for ( auto elem : coll )\n",
    " { mean += elem ; }\n",
    "mean /= SIZE ;\n",
    "\n",
    "double stddev = 0. ;\n",
    "for ( auto elem : coll )\n",
    " { stddev += std::pow(elem-mean,2.) ; }\n",
    "stddev = std::sqrt(stddev/SIZE) ;\n",
    "\n",
    "std::cout<<\"mean   : \"<<mean<<std::endl ;    \n",
    "std::cout<<\"stddev : \"<<stddev<<std::endl ;"
   ]
  },
  {
   "cell_type": "markdown",
   "metadata": {
    "slideshow": {
     "slide_type": "slide"
    }
   },
   "source": [
    "# Questions?"
   ]
  },
  {
   "cell_type": "markdown",
   "metadata": {
    "slideshow": {
     "slide_type": "skip"
    }
   },
   "source": [
    "# Exercise\n",
    "\n",
    "1. In the example below there is an error which causes the final result to be always be 0. Will you find out why?\n",
    "2. Try to run the program with the deterministic and non-deterministic arguments.\n",
    "3. Modify the program so to use the C++ standard library."
   ]
  },
  {
   "cell_type": "markdown",
   "metadata": {
    "slideshow": {
     "slide_type": "skip"
    }
   },
   "source": [
    "BEWARE: if you work with CoLiRu, `std::random_device` is not really random."
   ]
  },
  {
   "cell_type": "code",
   "execution_count": 22,
   "metadata": {
    "slideshow": {
     "slide_type": "skip"
    }
   },
   "outputs": [
    {
     "name": "stdout",
     "output_type": "stream",
     "text": [
      "Overwriting tmp.random-numbers.cpp\n"
     ]
    }
   ],
   "source": [
    "%%file tmp.random-numbers.cpp\n",
    "\n",
    "#include <iostream>\n",
    "#include <cassert>   // for assert\n",
    "#include <cstdlib>   // for rand\n",
    "#include <ctime>     // for time\n",
    "#include <array>     // for std::array\n",
    "#include <numeric>   // for accumulate\n",
    "\n",
    "int main( int argc, char * argv[] )\n",
    " {\n",
    "  assert(argc==2) ;\n",
    "  std::string mode(argv[1]) ;\n",
    "    \n",
    "  if (mode==\"deterministic\")\n",
    "   { srand(1) ; }\n",
    "  else if (mode==\"non-deterministic\")\n",
    "   { srand(std::time(0)) ; }\n",
    "  else throw \"unknown mode\" ;\n",
    "\n",
    "  constexpr unsigned SIZE = 1024 ;\n",
    "  std::array<double,SIZE> coll ;\n",
    "  for ( double & elem : coll )\n",
    "   { elem = std::rand()/(RAND_MAX+1.)-0.5 ; }\n",
    "    \n",
    "    \n",
    "  double mean = std::accumulate(coll.begin(),coll.end(),0)/SIZE ;\n",
    "  std::cout<<mean<<std::endl ;\n",
    " }"
   ]
  },
  {
   "cell_type": "code",
   "execution_count": 23,
   "metadata": {
    "slideshow": {
     "slide_type": "skip"
    }
   },
   "outputs": [],
   "source": [
    "!rm -f tmp.random-numbers.exe && g++ -std=c++17 tmp.random-numbers.cpp -o tmp.random-numbers.exe"
   ]
  },
  {
   "cell_type": "code",
   "execution_count": 24,
   "metadata": {
    "slideshow": {
     "slide_type": "skip"
    }
   },
   "outputs": [
    {
     "name": "stdout",
     "output_type": "stream",
     "text": [
      "0\n"
     ]
    }
   ],
   "source": [
    "!./tmp.random-numbers.exe deterministic"
   ]
  },
  {
   "cell_type": "markdown",
   "metadata": {
    "slideshow": {
     "slide_type": "skip"
    }
   },
   "source": [
    "# Resources\n",
    "\n",
    "- [cppreference](https://en.cppreference.com/w/cpp/numeric/random)"
   ]
  },
  {
   "cell_type": "markdown",
   "metadata": {
    "slideshow": {
     "slide_type": "skip"
    }
   },
   "source": [
    "© *CNRS 2021*  \n",
    "*This document was created by David Chamont and translated by Olga Abramkina. It is available under the [License Creative Commons - Attribution - No commercial use - Shared under the conditions 4.0 International](http://creativecommons.org/licenses/by-nc-sa/4.0/)*"
   ]
  }
 ],
 "metadata": {
  "celltoolbar": "Diaporama",
  "kernelspec": {
   "display_name": "C++17",
   "language": "C++17",
   "name": "xcpp17"
  },
  "language_info": {
   "codemirror_mode": "text/x-c++src",
   "file_extension": ".cpp",
   "mimetype": "text/x-c++src",
   "name": "c++",
   "version": "17"
  }
 },
 "nbformat": 4,
 "nbformat_minor": 4
}
