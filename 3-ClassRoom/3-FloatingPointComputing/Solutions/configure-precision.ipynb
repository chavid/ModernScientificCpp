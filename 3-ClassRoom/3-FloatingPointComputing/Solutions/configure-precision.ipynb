{
 "cells": [
  {
   "cell_type": "markdown",
   "metadata": {
    "slideshow": {
     "slide_type": "skip"
    }
   },
   "source": [
    "## Exercise results on i7-10875H"
   ]
  },
  {
   "cell_type": "code",
   "execution_count": 269,
   "metadata": {
    "slideshow": {
     "slide_type": "skip"
    }
   },
   "outputs": [
    {
     "name": "stdout",
     "output_type": "stream",
     "text": [
      "Overwriting tmp.precision.cpp\n"
     ]
    }
   ],
   "source": [
    "%%file tmp.precision.cpp\n",
    "\n",
    "#include <iostream>\n",
    "#include <cassert> // for assert\n",
    "#include <cstdlib> // for rand\n",
    "#include <valarray>\n",
    "#include <stdfloat>\n",
    "#include <complex>\n",
    "#include <cmath>\n",
    "\n",
    "// SoA of complex numbers\n",
    "template< typename R >\n",
    "class Complexes {\n",
    "  public :  \n",
    "  \n",
    "    Complexes( std::size_t size ) : m_rs(size), m_is(size) {}\n",
    "    std::size_t size() const { return m_rs.size() ; }\n",
    "    \n",
    "    std::complex<R> operator[]( std::size_t index ) const\n",
    "     { return { m_rs[index], m_is[index] } ; }\n",
    "    void real( std::size_t index, R value ) { m_rs[index] = value ; }\n",
    "    void imag( std::size_t index, R value ) { m_is[index] = value ; }\n",
    "    \n",
    "    friend Complexes<R> operator*( Complexes<R> const & lhs, Complexes<R> const & rhs ) {\n",
    "      Complexes<R> res {lhs.size()} ;\n",
    "      res.m_rs = lhs.m_rs*rhs.m_rs - lhs.m_is*rhs.m_is ;\n",
    "      res.m_is = rhs.m_rs*lhs.m_is + lhs.m_rs*rhs.m_is ;\n",
    "      return res ;\n",
    "    }\n",
    "    \n",
    "  private :\n",
    "    std::valarray<R> m_rs, m_is ;\n",
    " } ;\n",
    "\n",
    "template< typename R >\n",
    "Complexes<R> random( std::size_t size )\n",
    " {\n",
    "  srand(1) ;\n",
    "  Complexes<R> cplxs {size} ;\n",
    "  for ( std::size_t i = 0 ; i < cplxs.size() ; ++i )\n",
    "   {\n",
    "    long double e = 2*M_PI*(static_cast<long double>(std::rand())/RAND_MAX) ;\n",
    "    cplxs.real(i,static_cast<R>(std::cos(e))) ;\n",
    "    cplxs.imag(i,static_cast<R>(std::sin(e))) ;\n",
    "   }\n",
    "  return cplxs ;\n",
    " }\n",
    "\n",
    "template< typename R>\n",
    "Complexes<R> pow( Complexes<R> const & cplxs, long long degree )\n",
    " {\n",
    "  Complexes<R> res {cplxs} ;\n",
    "  for ( long long d = 1 ; d < degree ; ++d ) {\n",
    "    res = res*cplxs ;\n",
    "  }\n",
    "  return res ;\n",
    " }\n",
    "\n",
    "template< typename R>\n",
    "std::complex<R> reduce( Complexes<R> const & cplxs )\n",
    " {\n",
    "  std::complex<R> acc { static_cast<R>(1.), static_cast<R>(0.) } ;\n",
    "  for ( std::size_t i = 0 ; i < cplxs.size() ; ++i )\n",
    "   { acc *= cplxs[i] ; }\n",
    "  return acc ;\n",
    " }\n",
    "\n",
    "template< typename R>\n",
    "void main_impl( std::size_t size, long long degree )\n",
    " {\n",
    "  std::complex<R> res = reduce(pow(random<R>(size),degree)) ;\n",
    "  R re = res.real(), im = res.imag() ;\n",
    "  auto r = std::sqrt(static_cast<long double>(re*re+im*im)) ;\n",
    "  auto n = std::atan(static_cast<long double>(im/re)) ;\n",
    "  std::cout<<r<<\" \"<<n<<std::endl ;\n",
    " }\n",
    "\n",
    "int main( int argc, char * argv[] )\n",
    " {\n",
    "  assert(argc==4) ;\n",
    "  std::string precision(argv[1]) ;\n",
    "  std::size_t size = atoi(argv[2]) ;\n",
    "  long long degree = atoll(argv[3]) ;\n",
    "  std::cout.precision(18) ;\n",
    "\n",
    "  if (precision==\"half\") main_impl<std::float16_t>(size,degree) ;\n",
    "  else if (precision==\"float\") main_impl<float>(size,degree) ;\n",
    "  else if (precision==\"double\") main_impl<double>(size,degree) ;\n",
    "  else if (precision==\"long\") main_impl<long double>(size,degree) ;\n",
    "  else if (precision==\"quad\") main_impl<std::float128_t>(size,degree) ;\n",
    "  else throw \"unknown precision\" ;\n",
    " }"
   ]
  },
  {
   "cell_type": "code",
   "execution_count": 281,
   "metadata": {
    "slideshow": {
     "slide_type": "skip"
    }
   },
   "outputs": [
    {
     "name": "stdout",
     "output_type": "stream",
     "text": [
      "Overwriting tmp.precision.sh\n"
     ]
    }
   ],
   "source": [
    "%%file tmp.precision.sh\n",
    "echo\n",
    "\n",
    "opt=${1}\n",
    "shift\n",
    "\n",
    "rm -f tmp.precision.exe\n",
    "g++ -O${opt} -Wconversion -march=native -std=c++23 tmp.precision.cpp -o tmp.precision.exe\n",
    "\n",
    "./tmp.precision.exe $*\n",
    "\n",
    "rm -f tmp.precision.py\n",
    "echo \"s = 0 ; m = 0\" >> tmp.precision.py\n",
    "for i in 0 1 2 3 4 5 6 7 8 9 ; do\n",
    "    \\time -f \"s += %U ; m += %M\" -a -o ./tmp.precision.py ./tmp.precision.exe $*  >> /dev/null\n",
    "done\n",
    "echo \"print(\\\"{:.4} s. {} kB.\\\".format(s/10.,m/10.))\" >> tmp.precision.py\n",
    "python3 tmp.precision.py\n",
    "\n",
    "echo"
   ]
  },
  {
   "cell_type": "code",
   "execution_count": 282,
   "metadata": {
    "slideshow": {
     "slide_type": "skip"
    }
   },
   "outputs": [
    {
     "name": "stdout",
     "output_type": "stream",
     "text": [
      "\n",
      "0 -nan\n",
      "0.556 s. 3942.8 kB.\n",
      "\n"
     ]
    }
   ],
   "source": [
    "! bash -l tmp.precision.sh 0 half 1024 10000"
   ]
  },
  {
   "cell_type": "code",
   "execution_count": 272,
   "metadata": {},
   "outputs": [
    {
     "name": "stdout",
     "output_type": "stream",
     "text": [
      "\n",
      "1.00019518616282033 -0.119005833216005102\n",
      "0.481 s. 3918.0 kB.\n",
      "\n"
     ]
    }
   ],
   "source": [
    "! bash -l tmp.precision.sh 0 float 1024 10000"
   ]
  },
  {
   "cell_type": "code",
   "execution_count": 273,
   "metadata": {
    "slideshow": {
     "slide_type": "skip"
    }
   },
   "outputs": [
    {
     "name": "stdout",
     "output_type": "stream",
     "text": [
      "\n",
      "1.00000000001092559 -0.120400202952363668\n",
      "0.528 s. 3946.8 kB.\n",
      "\n"
     ]
    }
   ],
   "source": [
    "! bash -l tmp.precision.sh 0 double 1024 10000"
   ]
  },
  {
   "cell_type": "code",
   "execution_count": 274,
   "metadata": {
    "slideshow": {
     "slide_type": "skip"
    }
   },
   "outputs": [
    {
     "name": "stdout",
     "output_type": "stream",
     "text": [
      "\n",
      "1.00000000000000007 -0.120400202947234851\n",
      "0.511 s. 4021.6 kB.\n",
      "\n"
     ]
    }
   ],
   "source": [
    "! bash -l tmp.precision.sh 0 long 1024 10000"
   ]
  },
  {
   "cell_type": "code",
   "execution_count": 275,
   "metadata": {
    "slideshow": {
     "slide_type": "skip"
    }
   },
   "outputs": [
    {
     "name": "stdout",
     "output_type": "stream",
     "text": [
      "\n",
      "1.00000000000000009 -0.120400202947234855\n",
      "1.897 s. 4057.6 kB.\n",
      "\n"
     ]
    }
   ],
   "source": [
    "! bash -l tmp.precision.sh 0 quad 1024 10000"
   ]
  },
  {
   "cell_type": "markdown",
   "metadata": {
    "slideshow": {
     "slide_type": "skip"
    }
   },
   "source": [
    "### With `g++ -O0 ...`\n",
    "\n",
    "| Type   | time (s) | significant digits |\n",
    "| :------| -------: | -----------------: |\n",
    "| half   |    0.545 |                  0 |\n",
    "| float  |    0.481 |                  4 |\n",
    "| double |    0.483 |                 11 |\n",
    "| long   |    0.509 |                 17 |\n",
    "| quad   |    1.819 |                 17 |\n"
   ]
  },
  {
   "cell_type": "code",
   "execution_count": 276,
   "metadata": {
    "slideshow": {
     "slide_type": "skip"
    }
   },
   "outputs": [
    {
     "name": "stdout",
     "output_type": "stream",
     "text": [
      "\n",
      "0 -nan\n",
      "0.099 s. 3901.2 kB.\n",
      "\n"
     ]
    }
   ],
   "source": [
    "! bash -l tmp.precision.sh 1 half 1024 10000"
   ]
  },
  {
   "cell_type": "code",
   "execution_count": 277,
   "metadata": {
    "slideshow": {
     "slide_type": "skip"
    }
   },
   "outputs": [
    {
     "name": "stdout",
     "output_type": "stream",
     "text": [
      "\n",
      "1.00019518616282033 -0.119005833216005102\n",
      "0.018 s. 3929.2 kB.\n",
      "\n"
     ]
    }
   ],
   "source": [
    "! bash -l tmp.precision.sh 1 float 1024 10000"
   ]
  },
  {
   "cell_type": "code",
   "execution_count": 278,
   "metadata": {
    "slideshow": {
     "slide_type": "skip"
    }
   },
   "outputs": [
    {
     "name": "stdout",
     "output_type": "stream",
     "text": [
      "\n",
      "1.00000000001092559 -0.120400202952363668\n",
      "0.021 s. 3933.6 kB.\n",
      "\n"
     ]
    }
   ],
   "source": [
    "! bash -l tmp.precision.sh 1 double 1024 10000"
   ]
  },
  {
   "cell_type": "code",
   "execution_count": 279,
   "metadata": {
    "slideshow": {
     "slide_type": "skip"
    }
   },
   "outputs": [
    {
     "name": "stdout",
     "output_type": "stream",
     "text": [
      "\n",
      "1.00000000000000007 -0.120400202947234851\n",
      "0.056 s. 4000.4 kB.\n",
      "\n"
     ]
    }
   ],
   "source": [
    "! bash -l tmp.precision.sh 1 long 1024 10000"
   ]
  },
  {
   "cell_type": "code",
   "execution_count": 280,
   "metadata": {
    "slideshow": {
     "slide_type": "skip"
    }
   },
   "outputs": [
    {
     "name": "stdout",
     "output_type": "stream",
     "text": [
      "\n",
      "1.00000000000000009 -0.120400202947234855\n",
      "1.351 s. 4006.0 kB.\n",
      "\n"
     ]
    }
   ],
   "source": [
    "! bash -l tmp.precision.sh 1 quad 1024 10000"
   ]
  },
  {
   "cell_type": "markdown",
   "metadata": {
    "slideshow": {
     "slide_type": "skip"
    }
   },
   "source": [
    "#### With `g++ -O1 ...`\n",
    "\n",
    "| Type   | time (s) | significant digits |\n",
    "| :------| -------: | -----------------: |\n",
    "| half   |    0.094 |                  0 |\n",
    "| float  |    0.018 |                  4 |\n",
    "| double |    0.020 |                 11 |\n",
    "| long   |    0.066 |                 18 |\n",
    "| quad   |    1.224 |                 18 |"
   ]
  },
  {
   "cell_type": "code",
   "execution_count": 239,
   "metadata": {
    "slideshow": {
     "slide_type": "skip"
    }
   },
   "outputs": [
    {
     "name": "stdout",
     "output_type": "stream",
     "text": [
      "\n",
      "0\n",
      "0.094 s. 3948.8 kB.\n",
      "\n"
     ]
    }
   ],
   "source": [
    "! bash -l tmp.precision.sh 2 half 1024 10000"
   ]
  },
  {
   "cell_type": "code",
   "execution_count": 247,
   "metadata": {
    "slideshow": {
     "slide_type": "skip"
    }
   },
   "outputs": [
    {
     "name": "stdout",
     "output_type": "stream",
     "text": [
      "\n",
      "0.999907936388290119\n",
      "0.01 s. 3956.4 kB.\n",
      "\n"
     ]
    }
   ],
   "source": [
    "! bash -l tmp.precision.sh 2 float 1024 10000"
   ]
  },
  {
   "cell_type": "code",
   "execution_count": 241,
   "metadata": {
    "slideshow": {
     "slide_type": "skip"
    }
   },
   "outputs": [
    {
     "name": "stdout",
     "output_type": "stream",
     "text": [
      "\n",
      "1.00000000001088041\n",
      "0.019 s. 3919.2 kB.\n",
      "\n"
     ]
    }
   ],
   "source": [
    "! bash -l tmp.precision.sh 2 double 1024 10000"
   ]
  },
  {
   "cell_type": "code",
   "execution_count": 242,
   "metadata": {
    "slideshow": {
     "slide_type": "skip"
    }
   },
   "outputs": [
    {
     "name": "stdout",
     "output_type": "stream",
     "text": [
      "\n",
      "1\n",
      "0.061 s. 4012.8 kB.\n",
      "\n"
     ]
    }
   ],
   "source": [
    "! bash -l tmp.precision.sh 2 long 1024 10000"
   ]
  },
  {
   "cell_type": "code",
   "execution_count": 243,
   "metadata": {
    "slideshow": {
     "slide_type": "skip"
    }
   },
   "outputs": [
    {
     "name": "stdout",
     "output_type": "stream",
     "text": [
      "\n",
      "1\n",
      "1.273 s. 4050.0 kB.\n",
      "\n"
     ]
    }
   ],
   "source": [
    "! bash -l tmp.precision.sh 2 quad 1024 10000"
   ]
  },
  {
   "cell_type": "markdown",
   "metadata": {
    "slideshow": {
     "slide_type": "skip"
    }
   },
   "source": [
    "#### With `g++ -O2 ...`\n",
    "\n",
    "| Type   | time (s) | significant digits |\n",
    "| :------| -------: | -----------------: |\n",
    "| half   |    0.094 |                  0 |\n",
    "| float  |    0.010 |                  4 |\n",
    "| double |    0.019 |                 11 |\n",
    "| long   |    0.061 |                 18 |\n",
    "| quad   |    1.273 |                 18 |"
   ]
  },
  {
   "cell_type": "code",
   "execution_count": 252,
   "metadata": {
    "slideshow": {
     "slide_type": "skip"
    }
   },
   "outputs": [
    {
     "name": "stdout",
     "output_type": "stream",
     "text": [
      "\n",
      "-nan\n",
      "0.977 s. 3902.4 kB.\n",
      "\n"
     ]
    }
   ],
   "source": [
    "! bash -l tmp.precision.sh 3 half 1024 100000"
   ]
  },
  {
   "cell_type": "code",
   "execution_count": 253,
   "metadata": {
    "slideshow": {
     "slide_type": "skip"
    }
   },
   "outputs": [
    {
     "name": "stdout",
     "output_type": "stream",
     "text": [
      "\n",
      "0.99935391535653062\n",
      "0.053 s. 3882.8 kB.\n",
      "\n"
     ]
    }
   ],
   "source": [
    "! bash -l tmp.precision.sh 3 float 1024 100000"
   ]
  },
  {
   "cell_type": "code",
   "execution_count": 254,
   "metadata": {
    "slideshow": {
     "slide_type": "skip"
    }
   },
   "outputs": [
    {
     "name": "stdout",
     "output_type": "stream",
     "text": [
      "\n",
      "1.00000000010806178\n",
      "0.141 s. 3970.8 kB.\n",
      "\n"
     ]
    }
   ],
   "source": [
    "! bash -l tmp.precision.sh 3 double 1024 100000"
   ]
  },
  {
   "cell_type": "code",
   "execution_count": 255,
   "metadata": {
    "slideshow": {
     "slide_type": "skip"
    }
   },
   "outputs": [
    {
     "name": "stdout",
     "output_type": "stream",
     "text": [
      "\n",
      "1.00000000000000089\n",
      "0.622 s. 3996.4 kB.\n",
      "\n"
     ]
    }
   ],
   "source": [
    "! bash -l tmp.precision.sh 3 long 1024 100000"
   ]
  },
  {
   "cell_type": "code",
   "execution_count": 256,
   "metadata": {
    "slideshow": {
     "slide_type": "skip"
    }
   },
   "outputs": [
    {
     "name": "stdout",
     "output_type": "stream",
     "text": [
      "\n",
      "1.00000000000000089\n",
      "12.73 s. 3976.8 kB.\n",
      "\n"
     ]
    }
   ],
   "source": [
    "! bash -l tmp.precision.sh 3 quad 1024 100000"
   ]
  },
  {
   "cell_type": "markdown",
   "metadata": {
    "slideshow": {
     "slide_type": "skip"
    }
   },
   "source": [
    "#### With `g++ -O3 ...`\n",
    "\n",
    "| Type   | time (s) | significant digits |\n",
    "| :------| -------: | -----------------: |\n",
    "| half   |    0.959 |                nan |\n",
    "| float  |    0.053 |                  3 |\n",
    "| double |    0.141 |                 10 |\n",
    "| long   |    0.622 |                 16 |\n",
    "| quad   |   12.73  |                 16 |\n"
   ]
  },
  {
   "cell_type": "code",
   "execution_count": 257,
   "metadata": {
    "slideshow": {
     "slide_type": "skip"
    }
   },
   "outputs": [
    {
     "name": "stdout",
     "output_type": "stream",
     "text": [
      "\n",
      "-nan\n",
      "0.95 s. 3620.0 kB.\n",
      "\n"
     ]
    }
   ],
   "source": [
    "! bash -l tmp.precision.sh fast half 1024 100000"
   ]
  },
  {
   "cell_type": "code",
   "execution_count": 258,
   "metadata": {
    "slideshow": {
     "slide_type": "skip"
    }
   },
   "outputs": [
    {
     "name": "stdout",
     "output_type": "stream",
     "text": [
      "\n",
      "0.99935391535653062\n",
      "0.054 s. 3684.0 kB.\n",
      "\n"
     ]
    }
   ],
   "source": [
    "! bash -l tmp.precision.sh fast float 1024 100000"
   ]
  },
  {
   "cell_type": "code",
   "execution_count": 259,
   "metadata": {
    "slideshow": {
     "slide_type": "skip"
    }
   },
   "outputs": [
    {
     "name": "stdout",
     "output_type": "stream",
     "text": [
      "\n",
      "1.00000000010791479\n",
      "0.122 s. 3713.6 kB.\n",
      "\n"
     ]
    }
   ],
   "source": [
    "! bash -l tmp.precision.sh fast double 1024 100000"
   ]
  },
  {
   "cell_type": "code",
   "execution_count": 260,
   "metadata": {
    "slideshow": {
     "slide_type": "skip"
    }
   },
   "outputs": [
    {
     "name": "stdout",
     "output_type": "stream",
     "text": [
      "\n",
      "1.00000000000003797\n",
      "0.668 s. 3788.4 kB.\n",
      "\n"
     ]
    }
   ],
   "source": [
    "! bash -l tmp.precision.sh fast long 1024 100000"
   ]
  },
  {
   "cell_type": "code",
   "execution_count": 262,
   "metadata": {
    "slideshow": {
     "slide_type": "skip"
    }
   },
   "outputs": [
    {
     "name": "stdout",
     "output_type": "stream",
     "text": [
      "\n",
      "1.00000000000003819\n",
      "12.17 s. 3807.2 kB.\n",
      "\n"
     ]
    }
   ],
   "source": [
    "! bash -l tmp.precision.sh fast quad 1024 100000"
   ]
  },
  {
   "cell_type": "markdown",
   "metadata": {
    "slideshow": {
     "slide_type": "skip"
    }
   },
   "source": [
    "#### With `g++ -Ofast ...`\n",
    "\n",
    "| Type   | time (s) | significant digits |\n",
    "| :------| -------: | -----------------: |\n",
    "| half   |    0.95  |                nan |\n",
    "| float  |    0.054 |                  3 |\n",
    "| double |    0.122 |                 10 |\n",
    "| long   |    0.668 |                 14 |\n",
    "| quad   |   12.17  |                 14 |\n"
   ]
  },
  {
   "cell_type": "markdown",
   "metadata": {
    "slideshow": {
     "slide_type": "skip"
    }
   },
   "source": [
    "© *CNRS 2024*  \n",
    "*This document was created by David Chamont and translated by Olga Abramkina. It is available under the [License Creative Commons - Attribution - No commercial use - Shared under the conditions 4.0 International](http://creativecommons.org/licenses/by-nc-sa/4.0/)*"
   ]
  }
 ],
 "metadata": {
  "celltoolbar": "Diaporama",
  "kernelspec": {
   "display_name": "Python 3 (ipykernel)",
   "language": "python",
   "name": "python3"
  },
  "language_info": {
   "codemirror_mode": {
    "name": "ipython",
    "version": 3
   },
   "file_extension": ".py",
   "mimetype": "text/x-python",
   "name": "python",
   "nbconvert_exporter": "python",
   "pygments_lexer": "ipython3",
   "version": "3.11.8"
  }
 },
 "nbformat": 4,
 "nbformat_minor": 4
}
