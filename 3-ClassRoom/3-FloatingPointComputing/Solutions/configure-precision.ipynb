{
 "cells": [
  {
   "cell_type": "markdown",
   "metadata": {
    "slideshow": {
     "slide_type": "skip"
    }
   },
   "source": [
    "## Exercise results on i7-10875H"
   ]
  },
  {
   "cell_type": "code",
   "execution_count": 65,
   "metadata": {
    "slideshow": {
     "slide_type": "skip"
    }
   },
   "outputs": [
    {
     "name": "stdout",
     "output_type": "stream",
     "text": [
      "Overwriting tmp.precision.cpp\n"
     ]
    }
   ],
   "source": [
    "%%file tmp.precision.cpp\n",
    "\n",
    "#include <iostream>\n",
    "#include <cassert> // for assert\n",
    "#include <cstdlib> // for rand\n",
    "#include <valarray>\n",
    "\n",
    "template< typename real >\n",
    "void randomize( std::valarray<real> & collection )\n",
    " {\n",
    "  srand(1) ;\n",
    "  for ( auto & elem : collection )\n",
    "   { elem = std::rand()/(RAND_MAX+1.)-0.5 ; }\n",
    " }\n",
    "\n",
    "template< typename real >\n",
    "real mean( std::valarray<real> const & collection )\n",
    " {\n",
    "  real res {0.} ;\n",
    "  for ( auto elem : collection )\n",
    "   { res += elem ; }\n",
    "  return res/collection.size() ;\n",
    " }\n",
    "\n",
    "template< typename real >\n",
    "void main_impl( unsigned long long size, unsigned long long repeat )\n",
    " {\n",
    "  std::valarray<real> xs(0.,size) ;\n",
    "  std::valarray<real> ys(0.,size) ;\n",
    "  randomize(xs) ;\n",
    "  while (repeat--)\n",
    "    { ys = 0.1*xs + ys ; }\n",
    "  real res = mean(ys) ;\n",
    "  std::cout<<res<<std::endl ;\n",
    " }\n",
    "\n",
    "int main( int argc, char * argv[] )\n",
    " {\n",
    "  assert(argc==4) ;\n",
    "  std::string precision(argv[1]) ;\n",
    "  unsigned long long size = atoi(argv[2]) ;\n",
    "  unsigned long long repeat = atoi(argv[3]) ;\n",
    "  std::cout.precision(18) ;\n",
    "\n",
    "  if (precision==\"float\") main_impl<float>(size,repeat) ;\n",
    "  else if (precision==\"double\") main_impl<double>(size,repeat) ;\n",
    "  else if (precision==\"long\") main_impl<long double>(size,repeat) ;\n",
    "  else throw \"unknown precision\" ;\n",
    " }\n"
   ]
  },
  {
   "cell_type": "code",
   "execution_count": 106,
   "metadata": {
    "slideshow": {
     "slide_type": "skip"
    }
   },
   "outputs": [
    {
     "name": "stdout",
     "output_type": "stream",
     "text": [
      "Overwriting tmp.precision.sh\n"
     ]
    }
   ],
   "source": [
    "%%file tmp.precision.sh\n",
    "echo\n",
    "\n",
    "opt=${1}\n",
    "shift\n",
    "\n",
    "rm -f tmp.precision.exe\n",
    "g++ -O${opt} -march=native -std=c++17 tmp.precision.cpp -o tmp.precision.exe\n",
    "\n",
    "./tmp.precision.exe $*\n",
    "\n",
    "rm -f tmp.precision.py\n",
    "echo \"s = 0\" >> tmp.precision.py\n",
    "for i in 0 1 2 3 4 5 6 7 8 9 ; do\n",
    "    \\time -f \"s += %U\" -a -o ./tmp.precision.py ./tmp.precision.exe $*  >> /dev/null\n",
    "done\n",
    "echo \"print(\\\"{:.4} s\\\".format(s/10.))\" >> tmp.precision.py\n",
    "python3 tmp.precision.py\n",
    "\n",
    "echo"
   ]
  },
  {
   "cell_type": "code",
   "execution_count": 107,
   "metadata": {
    "slideshow": {
     "slide_type": "skip"
    }
   },
   "outputs": [
    {
     "name": "stdout",
     "output_type": "stream",
     "text": [
      "\n",
      "67.525482177734375\n",
      "3.679 s\n",
      "\n"
     ]
    }
   ],
   "source": [
    "! bash -l tmp.precision.sh 0 float 1024 100000"
   ]
  },
  {
   "cell_type": "code",
   "execution_count": 108,
   "metadata": {
    "slideshow": {
     "slide_type": "skip"
    }
   },
   "outputs": [
    {
     "name": "stdout",
     "output_type": "stream",
     "text": [
      "\n",
      "67.5053500207703507\n",
      "4.032 s\n",
      "\n"
     ]
    }
   ],
   "source": [
    "! bash -l tmp.precision.sh 0 double 1024 100000"
   ]
  },
  {
   "cell_type": "code",
   "execution_count": 109,
   "metadata": {
    "slideshow": {
     "slide_type": "skip"
    }
   },
   "outputs": [
    {
     "name": "stdout",
     "output_type": "stream",
     "text": [
      "\n",
      "67.5053500208378198\n",
      "3.499 s\n",
      "\n"
     ]
    }
   ],
   "source": [
    "! bash -l tmp.precision.sh 0 long 1024 100000"
   ]
  },
  {
   "cell_type": "markdown",
   "metadata": {
    "slideshow": {
     "slide_type": "skip"
    }
   },
   "source": [
    "### With `g++ -O0 ...`\n",
    "\n",
    "| Type   | time (s) | speedup |              result | significant digits |\n",
    "| :------| -------: | ------: | ------------------: | -----------------: |\n",
    "| float  |    3.307 |   0.034 | 67.525482177734375  |                  3 |\n",
    "| double |    3.334 |   0.034 | 67.5053500207703507 |                 12 |\n",
    "| long   |    3.285 |   0.034 | 67.5053500208378198 |                 18 |"
   ]
  },
  {
   "cell_type": "code",
   "execution_count": 110,
   "metadata": {
    "slideshow": {
     "slide_type": "skip"
    }
   },
   "outputs": [
    {
     "name": "stdout",
     "output_type": "stream",
     "text": [
      "\n",
      "67.525482177734375\n",
      "0.114 s\n",
      "\n"
     ]
    }
   ],
   "source": [
    "! bash -l tmp.precision.sh 1 float 1024 100000"
   ]
  },
  {
   "cell_type": "code",
   "execution_count": 111,
   "metadata": {
    "slideshow": {
     "slide_type": "skip"
    }
   },
   "outputs": [
    {
     "name": "stdout",
     "output_type": "stream",
     "text": [
      "\n",
      "67.5053500207703507\n",
      "0.114 s\n",
      "\n"
     ]
    }
   ],
   "source": [
    "! bash -l tmp.precision.sh 1 double 1024 100000"
   ]
  },
  {
   "cell_type": "code",
   "execution_count": 112,
   "metadata": {
    "slideshow": {
     "slide_type": "skip"
    }
   },
   "outputs": [
    {
     "name": "stdout",
     "output_type": "stream",
     "text": [
      "\n",
      "67.5053500208378198\n",
      "0.411 s\n",
      "\n"
     ]
    }
   ],
   "source": [
    "! bash -l tmp.precision.sh 1 long 1024 100000"
   ]
  },
  {
   "cell_type": "markdown",
   "metadata": {
    "slideshow": {
     "slide_type": "skip"
    }
   },
   "source": [
    "#### With `g++ -O1 ...`\n",
    "\n",
    "| Type   | time (s) | speedup |              result | significant digits |\n",
    "| :------| -------: | ------: | ------------------: | -----------------: |\n",
    "| float  |      0.1 |    1.00 | 67.525482177734375  |                  3 |\n",
    "| double |      0.1 |    1.00 | 67.5053500207703507 |                 12 |\n",
    "| long   |      0.4 |    0.25 | 67.5053500208378198 |                 18 |"
   ]
  },
  {
   "cell_type": "code",
   "execution_count": 113,
   "metadata": {
    "slideshow": {
     "slide_type": "skip"
    }
   },
   "outputs": [
    {
     "name": "stdout",
     "output_type": "stream",
     "text": [
      "\n",
      "67.525482177734375\n",
      "0.114 s\n",
      "\n"
     ]
    }
   ],
   "source": [
    "! bash -l tmp.precision.sh 2 float 1024 100000"
   ]
  },
  {
   "cell_type": "code",
   "execution_count": 114,
   "metadata": {
    "slideshow": {
     "slide_type": "skip"
    }
   },
   "outputs": [
    {
     "name": "stdout",
     "output_type": "stream",
     "text": [
      "\n",
      "67.5053500207703507\n",
      "0.115 s\n",
      "\n"
     ]
    }
   ],
   "source": [
    "! bash -l tmp.precision.sh 2 double 1024 100000"
   ]
  },
  {
   "cell_type": "code",
   "execution_count": 115,
   "metadata": {
    "slideshow": {
     "slide_type": "skip"
    }
   },
   "outputs": [
    {
     "name": "stdout",
     "output_type": "stream",
     "text": [
      "\n",
      "67.5053500208378198\n",
      "0.753 s\n",
      "\n"
     ]
    }
   ],
   "source": [
    "! bash -l tmp.precision.sh 2 long 1024 100000"
   ]
  },
  {
   "cell_type": "markdown",
   "metadata": {
    "slideshow": {
     "slide_type": "skip"
    }
   },
   "source": [
    "#### With `g++ -O2 ...`\n",
    "\n",
    "| Type   | time (s) | speedup |              result | significant digits |\n",
    "| :------| -------: | ------: | ------------------: | -----------------: |\n",
    "| float  |      0.1 |    1.00 | 67.525482177734375  |                  3 |\n",
    "| double |      0.1 |    1.00 | 67.5053500207703507 |                 12 |\n",
    "| long   |      0.7 |    0.14 | 67.5053500208378198 |                 18 |"
   ]
  },
  {
   "cell_type": "code",
   "execution_count": 118,
   "metadata": {
    "slideshow": {
     "slide_type": "skip"
    }
   },
   "outputs": [
    {
     "name": "stdout",
     "output_type": "stream",
     "text": [
      "\n",
      "67.525482177734375\n",
      "0.02 s\n",
      "\n"
     ]
    }
   ],
   "source": [
    "! bash -l tmp.precision.sh 3 float 1024 100000"
   ]
  },
  {
   "cell_type": "code",
   "execution_count": 119,
   "metadata": {
    "slideshow": {
     "slide_type": "skip"
    }
   },
   "outputs": [
    {
     "name": "stdout",
     "output_type": "stream",
     "text": [
      "\n",
      "67.5053500207703507\n",
      "0.04 s\n",
      "\n"
     ]
    }
   ],
   "source": [
    "! bash -l tmp.precision.sh 3 double 1024 100000"
   ]
  },
  {
   "cell_type": "code",
   "execution_count": 120,
   "metadata": {
    "slideshow": {
     "slide_type": "skip"
    }
   },
   "outputs": [
    {
     "name": "stdout",
     "output_type": "stream",
     "text": [
      "\n",
      "67.5053500208378198\n",
      "0.746 s\n",
      "\n"
     ]
    }
   ],
   "source": [
    "! bash -l tmp.precision.sh 3 long 1024 100000"
   ]
  },
  {
   "cell_type": "markdown",
   "metadata": {
    "slideshow": {
     "slide_type": "skip"
    }
   },
   "source": [
    "#### With `g++ -O3 ...`\n",
    "\n",
    "| Type   | time (s) |  speedup |              result | significant digits |\n",
    "| :------| -------: | -------: | ------------------: | -----------------: |\n",
    "| float  |     0.02 |     5.00 | 67.525482177734375  |                  3 |\n",
    "| double |     0.04 |     2.50 | 67.5053500207703507 |                 12 |\n",
    "| long   |     0.70 |     0.14 | 67.5053500208378198 |                 18 |"
   ]
  },
  {
   "cell_type": "code",
   "execution_count": 123,
   "metadata": {
    "slideshow": {
     "slide_type": "skip"
    }
   },
   "outputs": [
    {
     "name": "stdout",
     "output_type": "stream",
     "text": [
      "\n",
      "67.5254364013671875\n",
      "0.019 s\n",
      "\n"
     ]
    }
   ],
   "source": [
    "! bash -l tmp.precision.sh fast float 1024 100000"
   ]
  },
  {
   "cell_type": "code",
   "execution_count": 124,
   "metadata": {
    "slideshow": {
     "slide_type": "skip"
    }
   },
   "outputs": [
    {
     "name": "stdout",
     "output_type": "stream",
     "text": [
      "\n",
      "67.5053500207702939\n",
      "0.042 s\n",
      "\n"
     ]
    }
   ],
   "source": [
    "! bash -l tmp.precision.sh fast double 1024 100000"
   ]
  },
  {
   "cell_type": "code",
   "execution_count": 125,
   "metadata": {
    "slideshow": {
     "slide_type": "skip"
    }
   },
   "outputs": [
    {
     "name": "stdout",
     "output_type": "stream",
     "text": [
      "\n",
      "67.5053500208378198\n",
      "0.733 s\n",
      "\n"
     ]
    }
   ],
   "source": [
    "! bash -l tmp.precision.sh fast long 1024 100000"
   ]
  },
  {
   "cell_type": "markdown",
   "metadata": {
    "slideshow": {
     "slide_type": "skip"
    }
   },
   "source": [
    "#### With `g++ -Ofast ...`\n",
    "\n",
    "| Type   | time (s) |  speedup |              result | significant digits |\n",
    "| :------| -------: | -------: | ------------------: | -----------------: |\n",
    "| float  |     0.02 |     5.00 | 67.5254364013671875 |                  3 |\n",
    "| double |     0.04 |     2.50 | 67.5053500207702939 |                 12 |\n",
    "| long   |     0.70 |     0.14 | 67.5053500208378198 |                 18 |"
   ]
  },
  {
   "cell_type": "markdown",
   "metadata": {
    "slideshow": {
     "slide_type": "skip"
    }
   },
   "source": [
    "© *CNRS 2021*  \n",
    "*This document was created by David Chamont and translated by Olga Abramkina. It is available under the [License Creative Commons - Attribution - No commercial use - Shared under the conditions 4.0 International](http://creativecommons.org/licenses/by-nc-sa/4.0/)*"
   ]
  }
 ],
 "metadata": {
  "celltoolbar": "Diaporama",
  "kernelspec": {
   "display_name": "Python 3 (ipykernel)",
   "language": "python",
   "name": "python3"
  },
  "language_info": {
   "codemirror_mode": {
    "name": "ipython",
    "version": 3
   },
   "file_extension": ".py",
   "mimetype": "text/x-python",
   "name": "python",
   "nbconvert_exporter": "python",
   "pygments_lexer": "ipython3",
   "version": "3.9.12"
  }
 },
 "nbformat": 4,
 "nbformat_minor": 2
}
