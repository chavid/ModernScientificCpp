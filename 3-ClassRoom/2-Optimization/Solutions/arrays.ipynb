{
 "cells": [
  {
   "cell_type": "markdown",
   "metadata": {
    "slideshow": {
     "slide_type": "slide"
    }
   },
   "source": [
    "# Arrays results on i7-10875H\n",
    "\n",
    "The global script `arrays-all.sh` can be used to run them all.\n",
    "\n",
    "For each table, I put in bold the worst and the best."
   ]
  },
  {
   "cell_type": "markdown",
   "metadata": {},
   "source": [
    "## Presumably with g++ 12.2\n",
    "\n",
    "Options:\n",
    "- Compilation: `-std=c++17 -march=native -fopt-info-vec-all`\n",
    "- Runtime: `1024 100000`"
   ]
  },
  {
   "cell_type": "markdown",
   "metadata": {
    "slideshow": {
     "slide_type": "subslide"
    }
   },
   "source": [
    "### AoS\n",
    "\n",
    "| Array \\ Option         | -O0   | -O2   | -O3   |\n",
    "| :--------------------- | ----: | ----: | ----: |\n",
    "| Classic C array        | 0.974 | 0.068 | 0.231 |\n",
    "| std::array             | 0.959 | 0.069 | 0.215 |\n",
    "| std::valarray          | 0.955 | 0.082 | 0.236 |\n",
    "| std::vector            | 1.585 | **0.051** | 0.229 |\n",
    "| std::list              | **2.141** | 0.278 | 0.290 |"
   ]
  },
  {
   "cell_type": "markdown",
   "metadata": {
    "slideshow": {
     "slide_type": "subslide"
    }
   },
   "source": [
    "### SoA\n",
    "\n",
    "| Array \\ Option         | -O0   | -O2   | -O3   |\n",
    "| :--------------------- | ----: | ----: | ----: |\n",
    "| Classic C array        | 0.654 | 0.073 | 0.040 |\n",
    "| std::array             | 1.834 | 0.044 | **0.015** |\n",
    "| std::valarray          | 2.420 | 0.090 | 0.038 |\n",
    "| std::vector 1          | 1.999 | 0.096 | 0.050 |\n",
    "| std::vector 2          | 1.193 | 0.079 | 0.087 |\n",
    "| std::list              | **4.308** | 0.225 | 0.230 |\n"
   ]
  },
  {
   "cell_type": "markdown",
   "metadata": {},
   "source": [
    "## With g++ 13.2\n",
    "\n",
    "The compiler made some visible improvements, and we had to raise up the power of 2 to 200000.\n",
    "\n",
    "Options:\n",
    "- Compilation: `-std=c++17 -march=native -fopt-info-vec-all`\n",
    "- Runtime: `1024 200000`\n",
    "\n",
    "Some tries have given similar results : `-std=c++20`, additional `-mtune=native`.\n"
   ]
  },
  {
   "cell_type": "markdown",
   "metadata": {},
   "source": [
    "### AoS\n",
    "\n",
    "Execution time in seconds (vectorization):\n",
    "| Array \\ Option         | -O0      | -O2   | -O3   |\n",
    "| :--------------------- | -------: | ----: | ----: |\n",
    "| Classic C array        | 1.26     | 0.06 () | **0.04** (32) |\n",
    "| std::array             | 1.27     | 0.06 () | **0.04** (32) |\n",
    "| std::valarray          | 1.26     | 0.06 () | **0.04** (32) |\n",
    "| std::vector            | 2.13     | 0.10 () | **0.04** (32) |\n",
    "| std::list              | **2.82** | 0.35 () | 0.35     (  ) |\n",
    "\n"
   ]
  },
  {
   "cell_type": "markdown",
   "metadata": {},
   "source": [
    "### SoA\n",
    "\n",
    "Execution time in seconds (vectorization):\n",
    "| Array \\ Option         | -O0      | -O2     | -O3           |\n",
    "| :--------------------- | -------: | ------: | ------------: |\n",
    "| Classic C array        | 0.85     | 0.10 () | 0.02     (32) |\n",
    "| std::array             | 1.26     | 0.06 () | **0.01** (32) |\n",
    "| std::valarray          | 3.21     | 0.10 () | 0.03     (32) |\n",
    "| std::vector 1          | 2.69     | 0.10 () | 0.02     (32) |\n",
    "| std::vector 2          | 1.59     | 0.10 () | 0.10     ()   |\n",
    "| std::list              | **5.88** | 0.28 () | 0.28     ()   |\n"
   ]
  },
  {
   "cell_type": "markdown",
   "metadata": {
    "vscode": {
     "languageId": "plaintext"
    }
   },
   "source": [
    "As expected:\n",
    "- `std::list` is the bad guy,\n",
    "- the option `-O2` option remove the interface boilerplate and make all the * contiguous memory* collection equivalent.\n",
    "- the option `-O3` presumably add some more vectorization and benefit mostly typ the SoA layout.\n",
    "\n",
    "Unexpected and ununderstood:\n",
    "- the second implementation foof `std::vector` does not benefit from `-O3` ?!?\n",
    "\n",
    "So, they may some differences between an access through iterators, and an access through operator[] ?\n",
    "\n",
    "Actually, the global time of few milliseconds is too small to be significant., so we made additional tests with -o2 and -o3 with 2000000 elements."
   ]
  },
  {
   "cell_type": "markdown",
   "metadata": {},
   "source": [
    "## With g++ 14.2 and 10x more computing\n",
    "\n",
    "Because it is too long, we remove here the `-O0` option and the `std::list` collection.\n",
    "\n",
    "Options:\n",
    "- Compilation: `-std=c++17 -march=native -fopt-info-vec-all`\n",
    "- Runtime: `1024 2000000`"
   ]
  },
  {
   "cell_type": "markdown",
   "metadata": {},
   "source": [
    "### AoS\n",
    "\n",
    "Execution time in seconds (vectorization):\n",
    "| Array \\ Option         | -O2   | -O3   |\n",
    "| :--------------------- | ----: | ----: |\n",
    "| Classic C array        | 0.657 () | **0.457** (32) |\n",
    "| std::array             | 0.629 () | **0.443** (32) |\n",
    "| std::valarray          | 0.630 () | **0.457** (32) |\n",
    "| std::vector            | 0.629 () | **0.462** (32) |\n",
    "\n"
   ]
  },
  {
   "cell_type": "markdown",
   "metadata": {},
   "source": [
    "### SoA\n",
    "\n",
    "Execution time in seconds (vectorization):\n",
    "| Array \\ Option         | -O2     | -O3           |\n",
    "| :--------------------- | ------: | ------------: |\n",
    "| Classic C array        | 1.007 () | **0.200** (32) |\n",
    "| std::array             | 0.638 () | **0.123** (32) |\n",
    "| std::valarray          | 1.001 () | **0.193** (32) |\n",
    "| std::vector 1          | 1.016 () | **0.190** (32) |\n",
    "| std::vector 2          | 1.011 () | 1.0003     ()   |\n"
   ]
  },
  {
   "cell_type": "markdown",
   "metadata": {},
   "source": [
    "## With g++ 14.2 and -funroll-loops\n",
    "\n",
    "Options:\n",
    "- Compilation: `-std=c++17 -march=native -funroll-loops`\n",
    "- Runtime: `1024 2000000`\n"
   ]
  },
  {
   "cell_type": "markdown",
   "metadata": {},
   "source": [
    "### AoS\n",
    "\n",
    "Execution time in seconds (vectorization):\n",
    "| Array \\ Option         | -O2   | -O3   |\n",
    "| :--------------------- | ----: | ----: |\n",
    "| Classic C array        | 0.591 () | **0.622** (32) |\n",
    "| std::array             | 0.594 () | **0.618** (32) |\n",
    "| std::valarray          | 0.591 () | **0.621** (32) |\n",
    "| std::vector            | 0.590 () | **0.627** (32) |\n",
    "\n"
   ]
  },
  {
   "cell_type": "markdown",
   "metadata": {},
   "source": [
    "### SoA\n",
    "\n",
    "Execution time in seconds (vectorization):\n",
    "| Array \\ Option         | -O2     | -O3           |\n",
    "| :--------------------- | ------: | ------------: |\n",
    "| Classic C array        | 0.747 () | **0.210** (32) |\n",
    "| std::array             | 0.591 () | **0.247** (32) |\n",
    "| std::valarray          | 0.740 () | **0.207** (32) |\n",
    "| std::vector            | 0.750 () | **0.213** (32) |\n"
   ]
  },
  {
   "cell_type": "markdown",
   "metadata": {
    "vscode": {
     "languageId": "plaintext"
    }
   },
   "source": [
    "The additional `-funroll-loops` mostly benefit to SoA, especially with `-O3`."
   ]
  },
  {
   "cell_type": "markdown",
   "metadata": {},
   "source": [
    "## With clang++ 19.1.15\n",
    "\n",
    "With docker image `silkeh/clang:19`.\n",
    "\n",
    "Options:\n",
    "- Compilation: `-std=c++17 -march=native -Rpass=loop-vectorize -Rpass-missed=loop-vectorize -Rpass-analysis=loop-vectorize`\n",
    "- Runtime: `1024 2000000`\n"
   ]
  },
  {
   "cell_type": "markdown",
   "metadata": {},
   "source": [
    "### AoS\n",
    "\n",
    "Execution time in seconds (vectorization width/interleave):\n",
    "| Array \\ Option         | -O2   | -O3   |\n",
    "| :--------------------- | ----: | ----: |\n",
    "| Classic C array        | 0.616 () | 0.616 () |\n",
    "| std::array             | 0.585 () | 0.590 () |\n",
    "| std::valarray          | 0.616 () | 0.619 () |\n",
    "| std::vector            | 0.615 () | 0.587 () |\n",
    "\n"
   ]
  },
  {
   "cell_type": "markdown",
   "metadata": {},
   "source": [
    "### SoA\n",
    "\n",
    "Execution time in seconds (vectorization width/interleave):\n",
    "| Array \\ Option         | -O2     | -O3           |\n",
    "| :--------------------- | ------: | ------------: |\n",
    "| Classic C array        | 0.241 (4/4) | 0.240 (4/4) |\n",
    "| std::array             | 0.202 (4/4) | 0.250 (4/4) |\n",
    "| std::valarray          | 0.240 (4/4) | 0.241 (4/4) |\n",
    "| std::vector 1          | 0.243 (4/4) | 0.240 (4/4) |\n",
    "| std::vector 2          | 0.240 (4/4) | 0.240 (4/4)   |\n"
   ]
  },
  {
   "cell_type": "markdown",
   "metadata": {},
   "source": [
    "The results are very uniforms between the different flavors of contiguous memory collections, including the `vector2` flavor, but the results are not as good as with the g++. Also:\n",
    "- clang++ is vectorizing already at the option level `-O2`.\n",
    "- The magic option `-funroll-loops` does not nmake miracles wit h `clang++`. \n",
    "- So to get the `interleave` of `4` with `C array`, we had to make `__restrict__` the pointers. "
   ]
  },
  {
   "cell_type": "markdown",
   "metadata": {
    "vscode": {
     "languageId": "plaintext"
    }
   },
   "source": [
    "# Essayer\n",
    "\n",
    "- Confronter les intuitions a QuickBench ?\n"
   ]
  },
  {
   "cell_type": "markdown",
   "metadata": {
    "slideshow": {
     "slide_type": "skip"
    }
   },
   "source": [
    "© *CNRS 2024*\n",
    "*Assembled and written in french by David Chamont, this work is made available according to the terms of the [Creative Commons License - Attribution - NonCommercial - ShareAlike 4.0 International](http://creativecommons.org/licenses/by-nc-sa/4.0/)*"
   ]
  }
 ],
 "metadata": {
  "celltoolbar": "Diaporama",
  "kernelspec": {
   "display_name": "Python 3 (ipykernel)",
   "language": "python",
   "name": "python3"
  },
  "language_info": {
   "codemirror_mode": {
    "name": "ipython",
    "version": 3
   },
   "file_extension": ".py",
   "mimetype": "text/x-python",
   "name": "python",
   "nbconvert_exporter": "python",
   "pygments_lexer": "ipython3",
   "version": "3.11.8"
  }
 },
 "nbformat": 4,
 "nbformat_minor": 4
}
