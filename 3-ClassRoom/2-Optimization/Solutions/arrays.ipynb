{
 "cells": [
  {
   "cell_type": "markdown",
   "metadata": {
    "slideshow": {
     "slide_type": "slide"
    }
   },
   "source": [
    "# Arrays results on i7-10875H\n",
    "\n",
    "The global script `arrays-all.sh` can be used to run them all.\n",
    "\n",
    "For each table, I put in bold the worst and the best."
   ]
  },
  {
   "cell_type": "markdown",
   "metadata": {},
   "source": [
    "## Presumably with g++ 12.2\n",
    "\n",
    "Options:\n",
    "- Compilation: `-std=c++17 -march=native -fopt-info-vec-all`\n",
    "- Runtime: `1024 100000`"
   ]
  },
  {
   "cell_type": "markdown",
   "metadata": {
    "slideshow": {
     "slide_type": "subslide"
    }
   },
   "source": [
    "### AoS\n",
    "\n",
    "| Array \\ Option         | -O0   | -O2   | -O3   |\n",
    "| :--------------------- | ----: | ----: | ----: |\n",
    "| Classic C array        | 0.974 | 0.068 | 0.231 |\n",
    "| std::array             | 0.959 | 0.069 | 0.215 |\n",
    "| std::valarray          | 0.955 | 0.082 | 0.236 |\n",
    "| std::vector            | 1.585 | **0.051** | 0.229 |\n",
    "| std::list              | **2.141** | 0.278 | 0.290 |"
   ]
  },
  {
   "cell_type": "markdown",
   "metadata": {
    "slideshow": {
     "slide_type": "subslide"
    }
   },
   "source": [
    "### SoA\n",
    "\n",
    "| Array \\ Option         | -O0   | -O2   | -O3   |\n",
    "| :--------------------- | ----: | ----: | ----: |\n",
    "| Classic C array        | 0.654 | 0.073 | 0.040 |\n",
    "| std::array             | 1.834 | 0.044 | **0.015** |\n",
    "| std::valarray          | 2.420 | 0.090 | 0.038 |\n",
    "| std::vector 1          | 1.999 | 0.096 | 0.050 |\n",
    "| std::vector 2          | 1.193 | 0.079 | 0.087 |\n",
    "| std::list              | **4.308** | 0.225 | 0.230 |\n"
   ]
  },
  {
   "cell_type": "markdown",
   "metadata": {},
   "source": [
    "## With g++ 13.2\n",
    "\n",
    "The compiler made some visible improvements, and we had to raise up the power of 2 to 200000.\n",
    "\n",
    "Options:\n",
    "- Compilation: `-std=c++17 -march=native -fopt-info-vec-all`\n",
    "- Runtime: `1024 200000`\n",
    "\n",
    "Some tries have given similar results : `-std=c++20`, additional `-mtune=native`.\n"
   ]
  },
  {
   "cell_type": "markdown",
   "metadata": {},
   "source": [
    "### AoS\n",
    "\n",
    "Execution time in seconds (vectorization):\n",
    "| Array \\ Option         | -O0      | -O2   | -O3   |\n",
    "| :--------------------- | -------: | ----: | ----: |\n",
    "| Classic C array        | 1.26     | 0.06 () | **0.04** (32) |\n",
    "| std::array             | 1.27     | 0.06 () | **0.04** (32) |\n",
    "| std::valarray          | 1.26     | 0.06 () | **0.04** (32) |\n",
    "| std::vector            | 2.13     | 0.10 () | **0.04** (32) |\n",
    "| std::list              | **2.82** | 0.35 () | 0.35     (  ) |\n",
    "\n"
   ]
  },
  {
   "cell_type": "markdown",
   "metadata": {},
   "source": [
    "### SoA\n",
    "\n",
    "Execution time in seconds (vectorization):\n",
    "| Array \\ Option         | -O0      | -O2     | -O3           |\n",
    "| :--------------------- | -------: | ------: | ------------: |\n",
    "| Classic C array        | 0.85     | 0.10 () | 0.02     (32) |\n",
    "| std::array             | 1.26     | 0.06 () | **0.01** (32) |\n",
    "| std::valarray          | 3.21     | 0.10 () | 0.03     (32) |\n",
    "| std::vector 1          | 2.69     | 0.10 () | 0.02     (32) |\n",
    "| std::vector 2          | 1.59     | 0.10 () | 0.10     ()   |\n",
    "| std::list              | **5.88** | 0.28 () | 0.28     ()   |\n"
   ]
  },
  {
   "cell_type": "markdown",
   "metadata": {
    "vscode": {
     "languageId": "plaintext"
    }
   },
   "source": [
    "As expected:\n",
    "- `std::list` is the bad guy,\n",
    "- the option `-O2` option remove the interface boilerplate and make all the * contiguous memory* collection equivalent.\n",
    "- the option `-O3` presumably add some more vectorization and benefit mostly typ the SoA layout.\n",
    "\n",
    "Unexpected and understood:\n",
    "- the second implementation fo `std::vector` does not benefit from `-O3` ?!?\n",
    "\n",
    "So, they may some differences between an access through iterators, and an access through operator[] ?"
   ]
  },
  {
   "cell_type": "markdown",
   "metadata": {},
   "source": [
    "## With g++ 14.2\n",
    "\n",
    "Trying to enlarge differences, and we raised up again to 300000.\n",
    "\n",
    "Options:\n",
    "- Compilation: `-std=c++17 -march=native -fopt-info-vec-all`\n",
    "- Runtime: `1024 300000`\n"
   ]
  },
  {
   "cell_type": "markdown",
   "metadata": {},
   "source": [
    "### AoS\n",
    "\n",
    "Execution time in seconds (vectorization):\n",
    "| Array \\ Option         | -O0      | -O2   | -O3   |\n",
    "| :--------------------- | -------: | ----: | ----: |\n",
    "| Classic C array        | 1.90     | 0.09 () | **0.06** (32) |\n",
    "| std::array             | 1.91     | 0.09 () | **0.06** (32) |\n",
    "| std::valarray          | 1.90     | 0.09 () | **0.06** (32) |\n",
    "| std::vector            | 3.18     | 0.09 () | **0.06** (32) |\n",
    "| std::list              | **4.34** | 0.53 () | 0.53     (  ) |\n",
    "\n"
   ]
  },
  {
   "cell_type": "markdown",
   "metadata": {},
   "source": [
    "### SoA\n",
    "\n",
    "Execution time in seconds (vectorization):\n",
    "| Array \\ Option         | -O0      | -O2     | -O3           |\n",
    "| :--------------------- | -------: | ------: | ------------: |\n",
    "| Classic C array        | 1.29     | 0.17 () | 0.03     (32) |\n",
    "| std::array             | 1.89     | 0.09 () | **0.01** (32) |\n",
    "| std::valarray          | 4.38     | 0.15 () | 0.02     (32) |\n",
    "| std::vector 1          | 3.99     | 0.15 () | 0.02     (32) |\n",
    "| std::vector 2          | 2.41     | 0.14 () | 0.15     ()   |\n",
    "| std::list              | **8.86** | 0.41 () | 0.41     ()   |\n"
   ]
  },
  {
   "cell_type": "markdown",
   "metadata": {},
   "source": [
    "## With clang++ 19.1.15\n",
    "\n",
    "With docker image `silkeh/clang:19`. Trying to enlarge differences, and we raised up again to 300000.\n",
    "\n",
    "Options:\n",
    "- Compilation: `-std=c++17 -march=native -Rpass=loop-vectorize -Rpass-missed=loop-vectorize -Rpass-analysis=loop-vectorize`\n",
    "- Runtime: `1024 300000`\n"
   ]
  },
  {
   "cell_type": "markdown",
   "metadata": {},
   "source": [
    "### AoS\n",
    "\n",
    "Execution time in seconds (vectorization width/interleave):\n",
    "| Array \\ Option         | -O0      | -O2   | -O3   |\n",
    "| :--------------------- | -------: | ----: | ----: |\n",
    "| Classic C array        | 1.70     | 0.09 () | **0.09** () |\n",
    "| std::array             | 1.70     | 0.09 () | **0.09** () |\n",
    "| std::valarray          | 1.70     | 0.09 () | **0.09** () |\n",
    "| std::vector            | 2.94     | 0.09 () | **0.09** () |\n",
    "| std::list              | **3.52** | 0.52 () | 0.52     () |\n",
    "\n"
   ]
  },
  {
   "cell_type": "markdown",
   "metadata": {},
   "source": [
    "### SoA\n",
    "\n",
    "Execution time in seconds (vectorization):\n",
    "| Array \\ Option         | -O0      | -O2     | -O3           |\n",
    "| :--------------------- | -------: | ------: | ------------: |\n",
    "| Classic C array        | 1.15     | **0.03** (4/1) | **0.03** (4/1) |\n",
    "| std::array             | 2.83     | **0.03** (4/4) | **0.03** (4/4) |\n",
    "| std::valarray          | 3.43     | **0.03** (4/4) | **0.03** (4/4) |\n",
    "| std::vector 1          | 3.57     | **0.03** (4/4) | **0.03** (4/4) |\n",
    "| std::vector 2          | 2.39     | **0.04** (4/4) | **0.03** (4/4)   |\n",
    "| std::list              | **6.74** | 0.48 () | 0.49     ()   |\n"
   ]
  },
  {
   "cell_type": "markdown",
   "metadata": {},
   "source": [
    "As one can see in the performance and in the compilation outputs, clang++ is vectorizing already at the option level `-O2`. The results are very uniforms between the different flavors of contiguous memory collections, but the results are not as good as with the g++ for `std::array`."
   ]
  },
  {
   "cell_type": "markdown",
   "metadata": {
    "vscode": {
     "languageId": "plaintext"
    }
   },
   "source": [
    "# Essayer\n",
    "\n",
    "- confronter les intuitions a QuickBench ?\n"
   ]
  },
  {
   "cell_type": "markdown",
   "metadata": {
    "slideshow": {
     "slide_type": "skip"
    }
   },
   "source": [
    "© *CNRS 2024*\n",
    "*Assembled and written in french by David Chamont, this work is made available according to the terms of the [Creative Commons License - Attribution - NonCommercial - ShareAlike 4.0 International](http://creativecommons.org/licenses/by-nc-sa/4.0/)*"
   ]
  }
 ],
 "metadata": {
  "celltoolbar": "Diaporama",
  "kernelspec": {
   "display_name": "Python 3 (ipykernel)",
   "language": "python",
   "name": "python3"
  },
  "language_info": {
   "codemirror_mode": {
    "name": "ipython",
    "version": 3
   },
   "file_extension": ".py",
   "mimetype": "text/x-python",
   "name": "python",
   "nbconvert_exporter": "python",
   "pygments_lexer": "ipython3",
   "version": "3.11.8"
  }
 },
 "nbformat": 4,
 "nbformat_minor": 4
}
