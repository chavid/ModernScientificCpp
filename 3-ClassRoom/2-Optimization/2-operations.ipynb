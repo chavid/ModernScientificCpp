{
 "cells": [
  {
   "cell_type": "markdown",
   "metadata": {
    "slideshow": {
     "slide_type": "slide"
    }
   },
   "source": [
    "# The volatile price of basic operations"
   ]
  },
  {
   "cell_type": "markdown",
   "metadata": {
    "slideshow": {
     "slide_type": "subslide"
    }
   },
   "source": [
    "Nowadays, it is hazardous to estimate the time taken by an isolated arithmetic operation, in particular because modern processors apply **instruction parallelism**, which covers two aspects :\n",
    "* the use of a \"pipeline\", which allows to overlap the various stages of the elementary operations, sometimes reducing an operation to an apparent execution time of 1 clock cycle.\n",
    "* the use of several arithmetic units in parallel, when the processor detects independent instructions."
   ]
  },
  {
   "cell_type": "markdown",
   "metadata": {
    "slideshow": {
     "slide_type": "subslide"
    }
   },
   "source": [
    "Similarly to data tranfers, one may consider that computation has some kind of **latency**, seen at the beginning of a programm execution, when pipelines and caches are empty, and some kind of **throughput**, which is the mean speed reached when all the hardware facilities are fully operating."
   ]
  },
  {
   "cell_type": "markdown",
   "metadata": {
    "slideshow": {
     "slide_type": "subslide"
    }
   },
   "source": [
    "Here are some relative measures from 2015, that give clues about what is expensive and is cheap:\n",
    "- ADD, SUB, MUL, FM: ~0.5 cycle\n",
    "- DIV, SQRT: ~3-4 cycles\n",
    "- EXP, LOG: ~5-6 cycles\n",
    "- SIN, COS: ~10-11 cycles\n",
    "- ATAN: ~22 cycles"
   ]
  },
  {
   "cell_type": "markdown",
   "metadata": {
    "slideshow": {
     "slide_type": "skip"
    }
   },
   "source": [
    "## Few tools\n",
    "\n",
    "The two files below will help to monitor the mean execution time of a given function."
   ]
  },
  {
   "cell_type": "code",
   "execution_count": null,
   "metadata": {
    "slideshow": {
     "slide_type": "skip"
    }
   },
   "outputs": [],
   "source": [
    "%%file tmp.time.h\n",
    "\n",
    "// This works with any function whose return type is void\n",
    "\n",
    "#include <chrono>\n",
    "#include <string_view>\n",
    "#include <iostream>\n",
    "\n",
    "template< typename Fonction, typename... ArgTypes >\n",
    "void time( std::string_view title, Fonction f, ArgTypes&&... args )\n",
    " {\n",
    "  using namespace std::chrono ;\n",
    "  auto t1 {steady_clock::now()} ;\n",
    "\n",
    "  f(std::forward<ArgTypes>(args)...) ;\n",
    "   \n",
    "  auto t2 {steady_clock::now()} ;\n",
    "  auto dt {duration_cast<microseconds>(t2-t1).count()} ;\n",
    "  std::cout<<\"(\"<<title<<\" time: \"<<dt<<\" us)\"<<std::endl ;\n",
    " }"
   ]
  },
  {
   "cell_type": "code",
   "execution_count": null,
   "metadata": {
    "slideshow": {
     "slide_type": "skip"
    }
   },
   "outputs": [],
   "source": [
    "%%file tmp.time.py\n",
    "#!/usr/bin/env python3\n",
    "\n",
    "import os, sys\n",
    "import re\n",
    "import subprocess\n",
    "import statistics\n",
    "\n",
    "NB_RUNS = int(sys.argv[1])\n",
    "SRC_FILE = sys.argv[2]\n",
    "RUN_ARGS = ' '.join(sys.argv[3:])\n",
    "\n",
    "exe_file = SRC_FILE.replace(\".cpp\",\".exe\")\n",
    "compile_cmd = \"rm -f {} && g++ -std=c++17 -O3 -march=native {} -o {}\".format(exe_file,SRC_FILE,exe_file)\n",
    "run_cmd = \"./{} {}\".format(exe_file,RUN_ARGS)\n",
    "\n",
    "# Utility fonction\n",
    "\n",
    "def run(cmd):\n",
    "    proc = subprocess.run(\n",
    "      cmd, stdout=subprocess.PIPE, stderr=subprocess.STDOUT, shell=True,\n",
    "      executable='bash', universal_newlines=True, check=True\n",
    "    )\n",
    "    return proc.stdout.rstrip().split('\\n')\n",
    "\n",
    "# Compile & first run\n",
    "\n",
    "expr_times = re.compile(\"^\\((.*) time: (.*) us\\)$\")\n",
    "\n",
    "times = {}\n",
    "\n",
    "os.system(compile_cmd)\n",
    "for line in run(run_cmd):\n",
    "    match = expr_times.match(line)\n",
    "    if expr_times.match(line):\n",
    "        times[match.groups()[0]] = []\n",
    "    else:\n",
    "        print(line)\n",
    "\n",
    "# Repeat timing\n",
    "\n",
    "for irun in range(NB_RUNS):\n",
    "    for line in run(run_cmd):\n",
    "        match = expr_times.match(line)\n",
    "        if expr_times.match(line):\n",
    "            times[match.groups()[0]].append(int(match.groups()[1]))\n",
    "\n",
    "# Display mean times\n",
    "\n",
    "for ktime in times:\n",
    "    #print(\"({} times: {} s)\".format(ktime,times[ktime]))\n",
    "    print(\"({} mean time: {} s)\".format(ktime,round(statistics.mean(times[ktime])/1000000.,3)))\n"
   ]
  },
  {
   "cell_type": "markdown",
   "metadata": {
    "slideshow": {
     "slide_type": "slide"
    }
   },
   "source": [
    "## The division cost\n",
    "\n",
    "In the following code, we compare two functions, one which is actively using `x*0.1` and the other which is doing `x/10.`instead. We should get the same result. What do you observe regarding the computation time ?"
   ]
  },
  {
   "cell_type": "code",
   "execution_count": null,
   "metadata": {
    "slideshow": {
     "slide_type": "subslide"
    }
   },
   "outputs": [],
   "source": [
    "%%file tmp.division.1.h\n",
    "\n",
    "#include \"tmp.time.h\"\n",
    "#include <cstdlib>\n",
    "#include <array>\n",
    "\n",
    "int const SIZE = 1024 ;\n",
    "int const REPEAT = 100000 ;\n",
    "\n",
    "using Array = std::array<double,SIZE> ;\n",
    "\n",
    "void randomize( Array & x ) {\n",
    "  srand(1) ;\n",
    "  for ( int i=0 ; i<SIZE ; ++i )\n",
    "    x[i] = std::rand()/(RAND_MAX+1.)-0.5 ;\n",
    "}"
   ]
  },
  {
   "cell_type": "code",
   "execution_count": null,
   "metadata": {
    "slideshow": {
     "slide_type": "subslide"
    }
   },
   "outputs": [],
   "source": [
    "%%file tmp.division.2.h\n",
    "\n",
    "void multiply( Array const & x, Array & y ) {\n",
    "  for ( int r=0 ; r<REPEAT ; ++r )\n",
    "    for ( int i=0 ; i<SIZE ; ++i )\n",
    "      y[i] += x[i]*.1 ;\n",
    "}\n",
    "      \n",
    "void divide( Array const & x, Array & y ) {\n",
    "  for ( int r=0 ; r<REPEAT ; ++r )\n",
    "    for ( int i=0 ; i<SIZE ; ++i )\n",
    "      y[i] += x[i]/10. ;\n",
    "}\n",
    "\n",
    "void reduce( Array const & y ) {\n",
    "  double res {0.} ;\n",
    "  for ( int i=0 ; i<SIZE ; ++i ) {\n",
    "    res += y[i] ;\n",
    "  }\n",
    "  std::cout<<(res/SIZE)<<std::endl ;\n",
    "}"
   ]
  },
  {
   "cell_type": "code",
   "execution_count": null,
   "metadata": {
    "slideshow": {
     "slide_type": "subslide"
    }
   },
   "outputs": [],
   "source": [
    "%%file tmp.division.cpp\n",
    "\n",
    "#include \"tmp.division.1.h\"\n",
    "#include \"tmp.division.2.h\"\n",
    "\n",
    "int main( int argc, char * argv[] )\n",
    " {\n",
    "  Array x, y ;\n",
    "  randomize(x) ;\n",
    "\n",
    "  y.fill(0.) ;\n",
    "  time(\"multiply\",multiply,x,y) ;\n",
    "  reduce(y) ;\n",
    "     \n",
    "  y.fill(0.) ;\n",
    "  time(\"divide\",divide,x,y) ; \n",
    "  reduce(y) ;\n",
    " }"
   ]
  },
  {
   "cell_type": "code",
   "execution_count": null,
   "metadata": {
    "slideshow": {
     "slide_type": "subslide"
    }
   },
   "outputs": [],
   "source": [
    "!python3 tmp.time.py 10 tmp.division.cpp"
   ]
  },
  {
   "cell_type": "markdown",
   "metadata": {
    "slideshow": {
     "slide_type": "subslide"
    }
   },
   "source": [
    "### Tips and tricks\n",
    "\n",
    "When a division by a constant value is applied many times within a loop, you can precompute the inverse of the constant value, and replace the division by a mutiplication with the inverse."
   ]
  },
  {
   "cell_type": "markdown",
   "metadata": {
    "slideshow": {
     "slide_type": "slide"
    }
   },
   "source": [
    "## The conditions cost\n",
    "\n",
    "In a naive processor, a simple `if` would cost **1 cycle**.\n",
    "\n",
    "But **modern processors speculate**: they execute some instructions in advance, reversibly. When they finally know if those instructions should have been done, they write resuls in memory or through them away.\n",
    "\n",
    "A typical speculation is the **branch prediction** for `if`. The processor makes a bet on the conditional value to come. If the bet is false, the *super-pipeline* must be emptied and the cost of this mess can go up to **hundreds cycles**."
   ]
  },
  {
   "cell_type": "markdown",
   "metadata": {
    "slideshow": {
     "slide_type": "skip"
    }
   },
   "source": [
    "Let's introduce two fake conditions in our example."
   ]
  },
  {
   "cell_type": "code",
   "execution_count": null,
   "metadata": {
    "slideshow": {
     "slide_type": "subslide"
    }
   },
   "outputs": [],
   "source": [
    "%%file tmp.if.1.h\n",
    "\n",
    "#include \"tmp.time.h\"\n",
    "#include <cstdlib>\n",
    "#include <array>\n",
    "\n",
    "int const SIZE = 1024 ;\n",
    "int const REPEAT = 100000 ;\n",
    "\n",
    "using Array = std::array<double,SIZE> ;\n",
    "\n",
    "void randomize( Array & x, Array & pos, Array & neg ) {\n",
    "  srand(1) ;\n",
    "  for ( int i=0 ; i<SIZE ; ++i ) {\n",
    "    x[i] = std::rand()/(RAND_MAX+1.)-0.5 ;\n",
    "    pos[i] = (x[i]>=0.) ;\n",
    "    neg[i] = (x[i]<0.) ;\n",
    "  }\n",
    "}"
   ]
  },
  {
   "cell_type": "code",
   "execution_count": null,
   "metadata": {
    "slideshow": {
     "slide_type": "subslide"
    }
   },
   "outputs": [],
   "source": [
    "%%file tmp.if.2.h\n",
    "\n",
    "void multiply( Array const & x, Array & y ) {\n",
    "  for ( int r=0 ; r<REPEAT ; ++r )\n",
    "    for ( int i=0 ; i<SIZE ; ++i )\n",
    "      y[i] += x[i]*.1 ;\n",
    "}\n",
    "      \n",
    "void multiply_if\n",
    " ( Array const & x,\n",
    "   Array const & pos, Array const & neg,\n",
    "   Array & ypos, Array & yneg ) {\n",
    "  for ( int r=0 ; r<REPEAT ; ++r ) {\n",
    "    for ( int i=0 ; i<SIZE ; ++i ) {\n",
    "      if (pos[i]) ypos[i] += x[i]*.1 ;\n",
    "      if (neg[i]) yneg[i] += x[i]*.1 ;\n",
    "    }\n",
    "  }\n",
    "}\n",
    "      "
   ]
  },
  {
   "cell_type": "code",
   "execution_count": null,
   "metadata": {
    "slideshow": {
     "slide_type": "subslide"
    }
   },
   "outputs": [],
   "source": [
    "%%file tmp.if.3.h\n",
    "\n",
    "void reduce( Array const & y ) {\n",
    "  double res {0.} ;\n",
    "  for ( int i=0 ; i<SIZE ; ++i ) {\n",
    "    res += y[i] ;\n",
    "  }\n",
    "  std::cout<<(res/SIZE)<<std::endl ;\n",
    "}\n",
    "\n",
    "void reduce( Array const & ypos, Array const & yneg ) {\n",
    "  double res {0.} ;\n",
    "  for ( int i=0 ; i<SIZE ; ++i ) {\n",
    "    res += ypos[i] ;\n",
    "    res += yneg[i] ;\n",
    "  }\n",
    "  std::cout<<(res/SIZE)<<std::endl ;\n",
    "}"
   ]
  },
  {
   "cell_type": "code",
   "execution_count": null,
   "metadata": {
    "slideshow": {
     "slide_type": "subslide"
    }
   },
   "outputs": [],
   "source": [
    "%%file tmp.if.cpp\n",
    "\n",
    "#include \"tmp.if.1.h\"\n",
    "#include \"tmp.if.2.h\"\n",
    "#include \"tmp.if.3.h\"\n",
    "\n",
    "int main( int argc, char * argv[] )\n",
    " {\n",
    "  Array x, pos, neg, y, ypos, yneg ;\n",
    "  randomize(x,pos,neg) ;\n",
    "\n",
    "  y.fill(0.) ;\n",
    "  time(\"multiply\",multiply,x,y) ;\n",
    "  reduce(y) ;\n",
    "\n",
    "  ypos.fill(0.) ; yneg.fill(0.) ;\n",
    "  time(\"multiply if\",multiply_if,x,pos,neg,ypos,yneg) ;\n",
    "  reduce(ypos,yneg) ;\n",
    " }"
   ]
  },
  {
   "cell_type": "code",
   "execution_count": null,
   "metadata": {
    "slideshow": {
     "slide_type": "subslide"
    }
   },
   "outputs": [],
   "source": [
    "!python3 tmp.time.py 10 tmp.if.cpp"
   ]
  },
  {
   "cell_type": "markdown",
   "metadata": {
    "slideshow": {
     "slide_type": "subslide"
    }
   },
   "source": [
    "### Tips and tricks\n",
    "\n",
    "When you know that a given condition is hardly predictable, it may proves efficient to replace it with a raw-force computation."
   ]
  },
  {
   "cell_type": "code",
   "execution_count": null,
   "metadata": {
    "slideshow": {
     "slide_type": "subslide"
    }
   },
   "outputs": [],
   "source": [
    "%%file tmp.if.2.h\n",
    "\n",
    "void multiply_if\n",
    " ( Array const & x,\n",
    "   Array const & pos, Array const & neg,\n",
    "   Array & ypos, Array & yneg ) {\n",
    "  for ( int r=0 ; r<REPEAT ; ++r ) {\n",
    "    for ( int i=0 ; i<SIZE ; ++i ) {\n",
    "      if (pos[i]) ypos[i] += x[i]*.1 ;\n",
    "      if (neg[i]) yneg[i] += x[i]*.1 ;\n",
    "    }\n",
    "  }\n",
    "}\n",
    "void multiply_bool\n",
    " ( Array const & x,\n",
    "   Array const & pos, Array const & neg,\n",
    "   Array & ypos, Array & yneg ) {\n",
    "  for ( int r=0 ; r<REPEAT ; ++r ) {\n",
    "    for ( int i=0 ; i<SIZE ; ++i ) {\n",
    "      ypos[i] += pos[i]*x[i]*.1 ;\n",
    "      yneg[i] += neg[i]*x[i]*.1 ;\n",
    "    }\n",
    "  }\n",
    "}\n",
    "      "
   ]
  },
  {
   "cell_type": "code",
   "execution_count": null,
   "metadata": {
    "slideshow": {
     "slide_type": "skip"
    }
   },
   "outputs": [],
   "source": [
    "%%file tmp.if.cpp\n",
    "\n",
    "#include \"tmp.if.1.h\"\n",
    "#include \"tmp.if.2.h\"\n",
    "#include \"tmp.if.3.h\"\n",
    "\n",
    "int main( int argc, char * argv[] )\n",
    " {\n",
    "  Array x, pos, neg, ypos, yneg ;\n",
    "  randomize(x,pos,neg) ;\n",
    "\n",
    "  ypos.fill(0.) ; yneg.fill(0.) ;\n",
    "  time(\"multiply if\",multiply_if,x,pos,neg,ypos,yneg) ;\n",
    "  reduce(ypos,yneg) ;\n",
    "\n",
    "  ypos.fill(0.) ; yneg.fill(0.) ;\n",
    "  time(\"multiply bool\",multiply_bool,x,pos,neg,ypos,yneg) ;\n",
    "  reduce(ypos,yneg) ;\n",
    " }"
   ]
  },
  {
   "cell_type": "code",
   "execution_count": null,
   "metadata": {
    "slideshow": {
     "slide_type": "subslide"
    }
   },
   "outputs": [],
   "source": [
    "!python3 tmp.time.py 10 tmp.if.cpp"
   ]
  },
  {
   "cell_type": "markdown",
   "metadata": {
    "slideshow": {
     "slide_type": "slide"
    }
   },
   "source": [
    "## The function call cost\n",
    "\n",
    "Note the significant additional cost of a virtual function, and therefore the interest of avoiding object polymorphism in the lowest layers of applications :\n",
    "* ordinary function call : 3 cy\n",
    "* **virtual function call : ~90 cy !**"
   ]
  },
  {
   "cell_type": "code",
   "execution_count": null,
   "metadata": {
    "slideshow": {
     "slide_type": "subslide"
    }
   },
   "outputs": [],
   "source": [
    "%%file tmp.virtual.1.h\n",
    "\n",
    "#include \"tmp.time.h\"\n",
    "#include <cstdlib>\n",
    "#include <vector>\n",
    "#include <memory>\n",
    "\n",
    "int const SIZE = 1024 ;\n",
    "int const REPEAT = 100000 ;\n",
    "\n",
    "struct XY1 {\n",
    "  double x, y = 0. ;\n",
    "  void saxpy( double a ) { y += x*a ; }\n",
    " } ;\n",
    "\n",
    "struct XY2 {\n",
    "  double x, ypos = 0., yneg = 0. ;\n",
    "  virtual void saxpy( double ) = 0 ;\n",
    " } ;\n",
    "\n",
    "struct XY2pos : public XY2 {\n",
    "  void saxpy( double a ) { ypos += x*a ; }\n",
    " } ;\n",
    "struct XY2neg : public XY2 {\n",
    "  void saxpy( double a ) { yneg += x*a ; }\n",
    " } ;\n",
    " \n",
    "using XY1s = std::vector<std::unique_ptr<XY1>> ;\n",
    "using XY2s = std::vector<std::unique_ptr<XY2>> ;"
   ]
  },
  {
   "cell_type": "code",
   "execution_count": null,
   "metadata": {
    "slideshow": {
     "slide_type": "subslide"
    }
   },
   "outputs": [],
   "source": [
    "%%file tmp.virtual.2.h\n",
    "\n",
    "#include <memory>\n",
    "\n",
    "void randomize( XY1s & xys ) {\n",
    "  srand(1) ;\n",
    "  for ( int i=0 ; i<SIZE ; ++i ) {\n",
    "    xys.emplace_back(std::make_unique<XY1>()) ;\n",
    "    xys[i]->x = std::rand()/(RAND_MAX+1.)-0.5 ;\n",
    "  }\n",
    "}\n",
    "\n",
    "void randomize( XY2s & xys ) {\n",
    "  srand(1) ;\n",
    "  for ( int i=0 ; i<SIZE ; ++i ) {\n",
    "    double x = std::rand()/(RAND_MAX+1.)-0.5 ;\n",
    "    if (x>=0)\n",
    "      xys.emplace_back(std::make_unique<XY2pos>()) ;\n",
    "    else\n",
    "      xys.emplace_back(std::make_unique<XY2neg>()) ;\n",
    "    xys[i]->x = x ;\n",
    "  }\n",
    "}"
   ]
  },
  {
   "cell_type": "code",
   "execution_count": null,
   "metadata": {
    "slideshow": {
     "slide_type": "subslide"
    }
   },
   "outputs": [],
   "source": [
    "%%file tmp.virtual.3.h\n",
    "\n",
    "template< typename Array >\n",
    "void saxpy( Array const & xys ) {\n",
    "  for ( int r=0 ; r<REPEAT ; ++r )\n",
    "    for ( int i=0 ; i<SIZE ; ++i )\n",
    "      xys[i]->saxpy(.1) ;\n",
    "}\n",
    "      \n",
    "void reduce( XY1s const & xys ) {\n",
    "  double res {0.} ;\n",
    "  for ( int i=0 ; i<SIZE ; ++i ) {\n",
    "    res += xys[i]->y;\n",
    "  }\n",
    "  std::cout<<(res/SIZE)<<std::endl ;\n",
    "}\n",
    "\n",
    "void reduce( XY2s const & xys ) {\n",
    "  double res {0.} ;\n",
    "  for ( int i=0 ; i<SIZE ; ++i ) {\n",
    "    res += xys[i]->ypos ;\n",
    "    res += xys[i]->yneg ;\n",
    "  }\n",
    "  std::cout<<(res/SIZE)<<std::endl ;\n",
    "}      "
   ]
  },
  {
   "cell_type": "code",
   "execution_count": null,
   "metadata": {
    "slideshow": {
     "slide_type": "subslide"
    }
   },
   "outputs": [],
   "source": [
    "%%file tmp.virtual.cpp\n",
    "\n",
    "#include \"tmp.virtual.1.h\"\n",
    "#include \"tmp.virtual.2.h\"\n",
    "#include \"tmp.virtual.3.h\"\n",
    "\n",
    "int main( int argc, char * argv[] )\n",
    " {\n",
    "  XY1s xy1s ;\n",
    "  randomize(xy1s) ;\n",
    "  time(\"static call\",saxpy<XY1s>,xy1s) ;\n",
    "  reduce(xy1s) ;\n",
    "\n",
    "  XY2s xy2s ;\n",
    "  randomize(xy2s) ;\n",
    "  time(\"virtual call\",saxpy<XY2s>,xy2s) ;\n",
    "  reduce(xy2s) ;\n",
    " }"
   ]
  },
  {
   "cell_type": "code",
   "execution_count": null,
   "metadata": {
    "slideshow": {
     "slide_type": "subslide"
    }
   },
   "outputs": [],
   "source": [
    "!python3 tmp.time.py 10 tmp.virtual.cpp"
   ]
  },
  {
   "cell_type": "markdown",
   "metadata": {
    "slideshow": {
     "slide_type": "skip"
    }
   },
   "source": [
    "### Tips and tricks\n",
    "\n",
    "If you do not need the run-time flexibility and extensibility offered by the object-oriented polymophism, prefer the use of generic programming features: templates, `std::variant`, etc."
   ]
  },
  {
   "cell_type": "markdown",
   "metadata": {
    "slideshow": {
     "slide_type": "slide"
    }
   },
   "source": [
    "## The cost of mathematical functions\n",
    "\n",
    "Regarding functions such as `sin`, `cos`, `exp`, `log`, ... their costs are specific to the math library used (which itself can use fast hardware instructions and/or slow software refinement depending on the precision that is required). At the back of this pack, **`pow` costs really a lot**.  And **even worse, the *special* functions** (bessel, ellipticals, polylog, dzeta, hypergeometric ...)."
   ]
  },
  {
   "cell_type": "markdown",
   "metadata": {
    "slideshow": {
     "slide_type": "fragment"
    }
   },
   "source": [
    "For all of these functions, it is important to note that they do not necessarily provide the expected accuracy of the float type used, especially with the universally used library `libm`. When maximum precision is needed on these functions, **alternative libraries should be used** (`libultim`,` libmcr`, `CRlibm`) should be used."
   ]
  },
  {
   "cell_type": "markdown",
   "metadata": {
    "slideshow": {
     "slide_type": "fragment"
    }
   },
   "source": [
    "On the contrary, if accuracy is not so important in your use-case, and if you do not care too much about standards compliance, then the compiler option **`-Ofast` may boost your performance**."
   ]
  },
  {
   "cell_type": "markdown",
   "metadata": {
    "slideshow": {
     "slide_type": "slide"
    }
   },
   "source": [
    "# Take away"
   ]
  },
  {
   "cell_type": "markdown",
   "metadata": {
    "slideshow": {
     "slide_type": "fragment"
    }
   },
   "source": [
    "We must confess we had a very hard time to write code examples which demonstrate the expected relative cost between multiplication, division, if, etc. The CPU advanced features, combined with compiler advanced features, make the execution time hardly predictable. If you take previous examples, and **mix them all**, with different compiler options and hardware, **you will be often puzzled**."
   ]
  },
  {
   "cell_type": "markdown",
   "metadata": {
    "slideshow": {
     "slide_type": "fragment"
    }
   },
   "source": [
    "The only way to know the best options, for your own application and platform, is to **test and compare alternatives**."
   ]
  },
  {
   "cell_type": "markdown",
   "metadata": {
    "slideshow": {
     "slide_type": "fragment"
    }
   },
   "source": [
    "This is tedious, and the optimization tricks deteriorate the code readibility, portability, robustness. **You must only optimize the code section where it is really worth**."
   ]
  },
  {
   "cell_type": "markdown",
   "metadata": {
    "slideshow": {
     "slide_type": "fragment"
    }
   },
   "source": [
    "So, **first and foremost, you must profile your code**, and identify the bottlenecks."
   ]
  },
  {
   "cell_type": "markdown",
   "metadata": {
    "slideshow": {
     "slide_type": "slide"
    }
   },
   "source": [
    "# Questions ?"
   ]
  },
  {
   "cell_type": "markdown",
   "metadata": {
    "slideshow": {
     "slide_type": "skip"
    }
   },
   "source": [
    "# Exercice\n",
    "\n",
    "Let's assume that we always run the program below with a `degree`which is even.\n",
    "1. Replace `val *= data` with `val *= data*data`, and `j<degree` with `j<(degree/2)`. What is the effect on the execution time ?\n",
    "2. Ask for `std::cout.precision(18)`, and compare the original and the previous implementation. Why the result is slightly differing ?\n",
    "3. Try to compile with `-Ofast`."
   ]
  },
  {
   "cell_type": "code",
   "execution_count": null,
   "metadata": {
    "slideshow": {
     "slide_type": "skip"
    }
   },
   "outputs": [],
   "source": [
    "%%file tmp.operations.cpp\n",
    "\n",
    "#include <valarray>\n",
    "#include <cstdlib>\n",
    "#include <cassert>\n",
    "#include <iostream>\n",
    "\n",
    "std::valarray<double> generate( int size )\n",
    " {\n",
    "  std::valarray<double> datas(size) ;\n",
    "  for ( double & data : datas )\n",
    "   { data = std::rand()/(RAND_MAX+1.) ; }\n",
    "  return datas ;\n",
    " }\n",
    "\n",
    "double pow_reduce( std::valarray<double> const & datas, int degree )\n",
    " {\n",
    "  double res = 0 ;\n",
    "  for ( double data : datas )\n",
    "   {\n",
    "    double val = 1 ; \n",
    "    for ( int j=0 ; j<degree ; ++j )\n",
    "      val *= data ;\n",
    "    res += val ;\n",
    "   }\n",
    "  return res ;\n",
    " }\n",
    "\n",
    "int main( int argc, char * argv[] )\n",
    " {\n",
    "  assert(argc==3) ;\n",
    "  int size {atoi(argv[1])} ;\n",
    "  int degree {atoi(argv[2])} ;\n",
    "\n",
    "  auto datas = generate(size) ;\n",
    "  auto res = pow_reduce(datas,degree) ;\n",
    "  std::cout << res << std::endl ;\n",
    " }"
   ]
  },
  {
   "cell_type": "code",
   "execution_count": null,
   "metadata": {
    "slideshow": {
     "slide_type": "skip"
    }
   },
   "outputs": [],
   "source": [
    "%%file tmp.operations.sh\n",
    "\n",
    "rm -f tmp.operations.exe\n",
    "g++ -std=c++17 -O3 tmp.operations.cpp -o tmp.operations.exe\n",
    "\\time -f \"(%U s)\" ./tmp.operations.exe $*"
   ]
  },
  {
   "cell_type": "code",
   "execution_count": null,
   "metadata": {
    "slideshow": {
     "slide_type": "skip"
    }
   },
   "outputs": [],
   "source": [
    "!bash -l ./tmp.operations.sh 1024 65536"
   ]
  },
  {
   "cell_type": "markdown",
   "metadata": {
    "slideshow": {
     "slide_type": "skip"
    }
   },
   "source": [
    "## References\n",
    "\n",
    "* [Processeurs super-scalaires]( https://fr.wikipedia.org/wiki/Processeur_superscalaire)\n",
    "* [Agner Fog Instruction Tables](https://www.agner.org/optimize/instruction_tables.pdf)\n",
    "* [Branch predictor](https://en.wikipedia.org/wiki/Branch_predictor)\n",
    "* [As if rule](https://en.cppreference.com/w/cpp/language/as_if)"
   ]
  },
  {
   "cell_type": "markdown",
   "metadata": {
    "slideshow": {
     "slide_type": "skip"
    }
   },
   "source": [
    "© *CNRS 2021*\n",
    "*Assembled and written in french by David Chamont, translated by Karim Hasnaoui, this work is made available according to the terms of the [Creative Commons License - Attribution - NonCommercial - ShareAlike 4.0 International](http://creativecommons.org/licenses/by-nc-sa/4.0/)*"
   ]
  }
 ],
 "metadata": {
  "celltoolbar": "Diaporama",
  "kernelspec": {
   "display_name": "Python 3 (ipykernel)",
   "language": "python",
   "name": "python3"
  },
  "language_info": {
   "codemirror_mode": {
    "name": "ipython",
    "version": 3
   },
   "file_extension": ".py",
   "mimetype": "text/x-python",
   "name": "python",
   "nbconvert_exporter": "python",
   "pygments_lexer": "ipython3",
   "version": "3.11.8"
  }
 },
 "nbformat": 4,
 "nbformat_minor": 4
}
