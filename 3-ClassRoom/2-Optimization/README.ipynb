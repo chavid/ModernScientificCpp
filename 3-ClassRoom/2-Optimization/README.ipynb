{
 "cells": [
  {
   "cell_type": "markdown",
   "metadata": {},
   "source": [
    "# Performance optimization\n",
    "\n",
    "1. [Choice of data structure](1-arrays.ipynb)\n",
    "1. [The cost of the different operations](2-operations.ipynb)"
   ]
  },
  {
   "cell_type": "markdown",
   "metadata": {},
   "source": [
    "## Sources\n",
    "\n",
    "Make your code more efficient\n",
    "- [Repository](https://gitlab.in2p3.fr/informatique-des-deux-infinis/pheniics/make-your-code-more-efficient)\n",
    "- [Slides Day 1](https://indico.ijclab.in2p3.fr/event/10290/contributions/33107/attachments/23235/33493/Day1.pdf)\n",
    "- [Slides Day 2](https://indico.ijclab.in2p3.fr/event/10290/contributions/33108/attachments/23236/33496/Day2.pdf)\n",
    "- [Practicals](https://informatique-des-deux-infinis.pages.in2p3.fr/pheniics/make-your-code-more-efficient/)"
   ]
  },
  {
   "cell_type": "markdown",
   "metadata": {},
   "source": [
    "© *CNRS 2024*\n",
    "*Assembled and written in french by David Chamont, translated by Karim Hasnaoui, this work is made available according to the terms of the [Creative Commons License - Attribution - NonCommercial - ShareAlike 4.0 International](http://creativecommons.org/licenses/by-nc-sa/4.0/)*"
   ]
  }
 ],
 "metadata": {
  "kernelspec": {
   "display_name": "Python 3 (ipykernel)",
   "language": "python",
   "name": "python3"
  },
  "language_info": {
   "codemirror_mode": {
    "name": "ipython",
    "version": 3
   },
   "file_extension": ".py",
   "mimetype": "text/x-python",
   "name": "python",
   "nbconvert_exporter": "python",
   "pygments_lexer": "ipython3",
   "version": "3.11.8"
  }
 },
 "nbformat": 4,
 "nbformat_minor": 4
}
