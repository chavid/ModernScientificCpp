{
 "cells": [
  {
   "cell_type": "markdown",
   "metadata": {},
   "source": [
    "# Check your installation\n",
    "\n",
    "This notebook is meant to check if your infrastructure is supporting the requirements of this course. Since you are currently running this notebook, we guess you got the file with `git` !"
   ]
  },
  {
   "cell_type": "code",
   "execution_count": 20,
   "metadata": {},
   "outputs": [
    {
     "name": "stdout",
     "output_type": "stream",
     "text": [
      "git version 2.39.2\n"
     ]
    }
   ],
   "source": [
    "!git --version"
   ]
  },
  {
   "cell_type": "markdown",
   "metadata": {},
   "source": [
    "## Xeus-cling C++17 kernel\n",
    "\n",
    "If you have the relevant kernel installed, you should be able to execute the following code cells."
   ]
  },
  {
   "cell_type": "code",
   "execution_count": 21,
   "metadata": {},
   "outputs": [],
   "source": [
    "#include <iostream>"
   ]
  },
  {
   "cell_type": "code",
   "execution_count": 22,
   "metadata": {},
   "outputs": [
    {
     "name": "stdout",
     "output_type": "stream",
     "text": [
      "i is greater than j"
     ]
    }
   ],
   "source": [
    "{\n",
    "  int i = -1 ;\n",
    "  unsigned int j = 1 ;\n",
    "  if ( i < j ) std::cout << \"i is less than j\" ;\n",
    "  else std::cout << \"i is greater than j\" ;\n",
    "}"
   ]
  },
  {
   "cell_type": "markdown",
   "metadata": {},
   "source": [
    "## GCC\n",
    "\n",
    "The more we progress in the lessons, the more advanced C++ features we will use: mostly C++17, and C++20/23 for few demonstrations. Even in the notebooks, when we want to practice the recent C++20 features, or the few C++17 features that are not supported by the xeus-cling notebook kernel, we will generate a file on-the-fly and compile it directly with g++. This course was prepared with g++ 13.2."
   ]
  },
  {
   "cell_type": "code",
   "execution_count": 53,
   "metadata": {},
   "outputs": [
    {
     "name": "stdout",
     "output_type": "stream",
     "text": [
      "g++ (GCC) 13.2.0\n",
      "Copyright (C) 2023 Free Software Foundation, Inc.\n",
      "This is free software; see the source for copying conditions.  There is NO\n",
      "warranty; not even for MERCHANTABILITY or FITNESS FOR A PARTICULAR PURPOSE.\n",
      "\n"
     ]
    }
   ],
   "source": [
    "!g++ --version"
   ]
  },
  {
   "cell_type": "markdown",
   "metadata": {},
   "source": [
    "Note: you will find [here](https://en.cppreference.com/w/cpp/compiler_support) the table of which C++ feature is supported by which compiler version. You should be aware that there is often a distinction between language syntax and standard library : a compiler version which supports C++20 language features does not necessarily supports the complete C++20 standard library. Generally, the support for syntax is implemented first, and the library novelties comes progressively with later versions."
   ]
  },
  {
   "cell_type": "markdown",
   "metadata": {},
   "source": [
    "## Gnu time\n",
    "\n",
    "For some of the exercices, you will need to have **GNU time** installed where you want to execute the scripts. Try the command `\\time -f \"%U\" echo toto` to check if it works fine. The `\\` is there to avoid that bash use its own internal time command. If it does not work properly, try `conda install -c conda-forge time` (for example). "
   ]
  },
  {
   "cell_type": "code",
   "execution_count": 3,
   "metadata": {},
   "outputs": [
    {
     "name": "stdout",
     "output_type": "stream",
     "text": [
      "42\n",
      "0.00\n"
     ]
    }
   ],
   "source": [
    "!\\time -f \"%U\" echo 42"
   ]
  },
  {
   "cell_type": "markdown",
   "metadata": {},
   "source": [
    "## TBB backend\n",
    "\n",
    "You should have TBB behind g++, if you want to observe the benefit of `std::execution::par`."
   ]
  },
  {
   "cell_type": "code",
   "execution_count": 54,
   "metadata": {},
   "outputs": [
    {
     "name": "stdout",
     "output_type": "stream",
     "text": [
      "Writing tmp.execution.cpp\n"
     ]
    }
   ],
   "source": [
    "%%file tmp.execution.cpp\n",
    "\n",
    "#include <vector>\n",
    "#include <algorithm>\n",
    "#include <chrono>\n",
    "#include <string_view>\n",
    "#include <iostream>\n",
    "#include <execution>\n",
    "\n",
    "template< typename Fonction, typename... ArgTypes >\n",
    "auto time( std::string_view title, Fonction f, ArgTypes... args )\n",
    " {\n",
    "  using namespace std::chrono ;\n",
    "  auto t1 {steady_clock::now()} ;\n",
    "  f(args...) ;\n",
    "  auto t2 {steady_clock::now()} ;\n",
    "  auto dt {duration_cast<microseconds>(t2-t1).count()} ;\n",
    "  std::cout<<\"(\"<<title<<\" time: \"<<dt<<\" us)\"<<std::endl ;\n",
    " }\n",
    "\n",
    "void seq() {\n",
    "  std::vector<double> xs(100000), ys(100000) ;\n",
    "  std::transform( xs.begin(), xs.end(), ys.begin(), []( double x ) {\n",
    "      double y {1.0} ;\n",
    "      for ( int d=0 ; d<1024 ; ++d )\n",
    "       { y *= x ; }\n",
    "    return y ;\n",
    "  });\n",
    "}\n",
    "\n",
    "void par() {\n",
    "  std::vector<double> xs(100000), ys(100000) ;\n",
    "  std::transform( std::execution::par, xs.begin(), xs.end(), ys.begin(), []( double x ) {\n",
    "      double y {1.0} ;\n",
    "      for ( int d=0 ; d<1024 ; ++d )\n",
    "       { y *= x ; }\n",
    "    return y ;\n",
    "  });\n",
    "}\n",
    "\n",
    "int main() {\n",
    "  time(\"seq\",seq) ;\n",
    "  time(\"par\",par) ;\n",
    "}"
   ]
  },
  {
   "cell_type": "code",
   "execution_count": 55,
   "metadata": {},
   "outputs": [],
   "source": [
    "!rm -f tmp.execution.exe && g++ -std=c++17 -O2 -ltbb tmp.execution.cpp -o tmp.execution.exe"
   ]
  },
  {
   "cell_type": "code",
   "execution_count": 56,
   "metadata": {},
   "outputs": [
    {
     "name": "stdout",
     "output_type": "stream",
     "text": [
      "(seq time: 76667 us)\n",
      "(par time: 13456 us)\n"
     ]
    }
   ],
   "source": [
    "!./tmp.execution.exe"
   ]
  },
  {
   "cell_type": "markdown",
   "metadata": {},
   "source": [
    "## Eigen\n",
    "\n",
    "The very end of the formation requires Eigen."
   ]
  },
  {
   "cell_type": "code",
   "execution_count": 50,
   "metadata": {},
   "outputs": [
    {
     "name": "stdout",
     "output_type": "stream",
     "text": [
      "Overwriting tmp.eigen.cpp\n"
     ]
    }
   ],
   "source": [
    "%%file tmp.eigen.cpp\n",
    "\n",
    "#include <cmath>\n",
    "double pow2( double d ) { return d*d ; }\n",
    "double pow4( double d ) { return std::pow(d,4) ; }\n",
    "\n",
    "#include \"Eigen/Dense\"\n",
    "using Eigen3d = Eigen::Matrix<double,3,1> ;\n",
    "\n",
    "#include <iostream>\n",
    "int main() {\n",
    "  double m { 9.109e-31 } ;\n",
    "  double c { 299792458 } ;\n",
    "  Eigen3d speed { 0.75*c, 0., 0. } ; \n",
    "  Eigen3d p { m*speed } ;\n",
    "  double e = sqrt(pow2(m)*pow4(c)+pow2(p.norm())*pow2(c)) ;  \n",
    "  std::cout << e << std::endl ;\n",
    "}"
   ]
  },
  {
   "cell_type": "code",
   "execution_count": 51,
   "metadata": {},
   "outputs": [],
   "source": [
    "!rm -f tmp.eigen.exe && g++ -I/usr/local/include/eigen3/ -std=c++17 -O2 -ltbb tmp.eigen.cpp -o tmp.eigen.exe"
   ]
  },
  {
   "cell_type": "code",
   "execution_count": 52,
   "metadata": {},
   "outputs": [
    {
     "name": "stdout",
     "output_type": "stream",
     "text": [
      "1.02335e-13\n"
     ]
    }
   ],
   "source": [
    "!./tmp.eigen.exe"
   ]
  }
 ],
 "metadata": {
  "kernelspec": {
   "display_name": "C++17",
   "language": "C++17",
   "name": "xcpp17"
  },
  "language_info": {
   "codemirror_mode": "text/x-c++src",
   "file_extension": ".cpp",
   "mimetype": "text/x-c++src",
   "name": "c++",
   "version": "17"
  }
 },
 "nbformat": 4,
 "nbformat_minor": 4
}
