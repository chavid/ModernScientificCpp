{
 "cells": [
  {
   "cell_type": "markdown",
   "metadata": {},
   "source": [
    "# Check your installation\n",
    "\n",
    "This notebook is meant to check if your infrastructure is supporting the requirements of this course. Since you are currently running this notebook, we guess you got the file with `git` !"
   ]
  },
  {
   "cell_type": "code",
   "execution_count": 20,
   "metadata": {},
   "outputs": [
    {
     "name": "stdout",
     "output_type": "stream",
     "text": [
      "git version 2.39.2\n"
     ]
    }
   ],
   "source": [
    "!git --version"
   ]
  },
  {
   "cell_type": "markdown",
   "metadata": {},
   "source": [
    "## Xeus-cling C++17 kernel\n",
    "\n",
    "If you have the relevant kernel installed, you should be able to execute the following code cells."
   ]
  },
  {
   "cell_type": "code",
   "execution_count": 21,
   "metadata": {},
   "outputs": [],
   "source": [
    "#include <iostream>"
   ]
  },
  {
   "cell_type": "code",
   "execution_count": 22,
   "metadata": {},
   "outputs": [
    {
     "name": "stdout",
     "output_type": "stream",
     "text": [
      "i is greater than j"
     ]
    }
   ],
   "source": [
    "{\n",
    "  int i = -1 ;\n",
    "  unsigned int j = 1 ;\n",
    "  if ( i < j ) std::cout << \"i is less than j\" ;\n",
    "  else std::cout << \"i is greater than j\" ;\n",
    "}"
   ]
  },
  {
   "cell_type": "markdown",
   "metadata": {},
   "source": [
    "## G++ 11.2\n",
    "\n",
    "The more we progress in the lessons, the more advanced C++ features we will use: mostly C++17, and C++20 for few demonstrations. Even in the notebooks, when we want to practice the recent C++20 features, or the few C++17 features that are not supported by the xeus-cling notebook kernel, we will generate a file on-the-fly and compile it directly with g++. We currently recommend to use at least g++ 11.2."
   ]
  },
  {
   "cell_type": "code",
   "execution_count": 23,
   "metadata": {},
   "outputs": [
    {
     "name": "stdout",
     "output_type": "stream",
     "text": [
      "g++ (GCC) 13.2.0\n",
      "Copyright (C) 2023 Free Software Foundation, Inc.\n",
      "This is free software; see the source for copying conditions.  There is NO\n",
      "warranty; not even for MERCHANTABILITY or FITNESS FOR A PARTICULAR PURPOSE.\n",
      "\n"
     ]
    }
   ],
   "source": [
    "!g++ --version"
   ]
  },
  {
   "cell_type": "markdown",
   "metadata": {},
   "source": [
    "Note: you will find [here](https://en.cppreference.com/w/cpp/compiler_support) the table of which C++ feature is supported by which compiler version. You should be aware that there is often a distinction between language syntax and standard library : a compiler version which supports C++20 language features does not necessarily supports the complete C++20 standard library. Generally, the support for syntax is implemented first, and the library novelties comes progressively with later versions."
   ]
  },
  {
   "cell_type": "markdown",
   "metadata": {},
   "source": [
    "## Gnu time\n",
    "\n",
    "For some of the exercices, you will need to have **GNU time** installed where you want to execute the scripts. Try the command `\\time -f \"%U\" echo toto` to check if it works fine. The `\\` is there to avoid that bash use its own internal time command. If it does not work properly, try `conda install -c conda-forge time` (for example). "
   ]
  },
  {
   "cell_type": "code",
   "execution_count": 24,
   "metadata": {},
   "outputs": [
    {
     "name": "stdout",
     "output_type": "stream",
     "text": [
      "42\n",
      "0.00\n"
     ]
    }
   ],
   "source": [
    "!\\time -f \"%U\" echo 42"
   ]
  },
  {
   "cell_type": "code",
   "execution_count": null,
   "metadata": {},
   "outputs": [],
   "source": []
  }
 ],
 "metadata": {
  "kernelspec": {
   "display_name": "C++17",
   "language": "C++17",
   "name": "xcpp17"
  },
  "language_info": {
   "codemirror_mode": "text/x-c++src",
   "file_extension": ".cpp",
   "mimetype": "text/x-c++src",
   "name": "c++",
   "version": "17"
  }
 },
 "nbformat": 4,
 "nbformat_minor": 4
}
