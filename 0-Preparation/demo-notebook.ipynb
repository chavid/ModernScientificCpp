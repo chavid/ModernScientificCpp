{
 "cells": [
  {
   "cell_type": "markdown",
   "metadata": {},
   "source": [
    "# Demonstration notebook\n",
    "\n",
    "A jupyter notebook is a sequence of cells. Some of them are for textual explanations, and written in markdown. Other cells are extracts code, and can be executed on the fly, thanks to the associated **kernel** attached to the notebook.\n",
    "\n",
    "The jupyter notebooks were initially designed for interpreted language, such as python, but the QuantStack company provides the [xeus-cling](https://xeus-cling.readthedocs.io/en/latest/) kernels, which extend those notebooks to C++. This notebook is associated to a C++17 kernel.\n",
    "\n",
    "When you use a notebook, you can interactively select any cell, *double-click* on it, and edit its content. Then, when you *shift-return*, a markdown cell will be rendered, and a code cell will be executed on the associated `kernel`."
   ]
  },
  {
   "cell_type": "markdown",
   "metadata": {},
   "source": [
    "## Code executed with the xeus-cling kernel\n",
    "\n",
    "The recent releases of xeus-cling have made huge progress, so to marry the \"compiled\" nature of C++ with the \"interpreted\" nature of notebook cells. Yet, you will encounter during this lesson some old notebooks, with tricks which were necessary with the old kernels."
   ]
  },
  {
   "cell_type": "markdown",
   "metadata": {},
   "source": [
    "You should consider all the code cells of a given notebook are subsets of a single big C++ program. In C++, one cannot declare several time the same variable. As a consequence, it was initially impossible to reuse the same variable name in several cells. It was even impossible to replay the same cell several times ! In order to bypass this limit, we often enclose each cell in a `{}` block, creating a local scope:"
   ]
  },
  {
   "cell_type": "code",
   "execution_count": 1,
   "metadata": {},
   "outputs": [],
   "source": [
    "#include <iostream>"
   ]
  },
  {
   "cell_type": "code",
   "execution_count": 2,
   "metadata": {},
   "outputs": [
    {
     "name": "stdout",
     "output_type": "stream",
     "text": [
      "i is greater than j"
     ]
    }
   ],
   "source": [
    "{\n",
    "  int i = -1 ;\n",
    "  unsigned int j = 1 ;\n",
    "  if ( i < j ) std::cout << \"i is less than j\" ;\n",
    "  else std::cout << \"i is greater than j\" ;\n",
    "}"
   ]
  },
  {
   "cell_type": "markdown",
   "metadata": {},
   "source": [
    "Also, until recently, one had to make an independant cell for each independent function, and you may encounter such notebooks where we have split the code in many many cells."
   ]
  },
  {
   "cell_type": "markdown",
   "metadata": {},
   "source": [
    "## Restarting the kernel\n",
    "\n",
    "When it fails to compile some wrong code, the kernel may switch in a *corrupted* state, being unable to compile anything more. When you suspect such a situation, **restart the kernel** with the relevant button above. This can be done any time, on purpose, when you want to restart your execution from a blank page."
   ]
  },
  {
   "cell_type": "markdown",
   "metadata": {},
   "source": [
    "## Code executed in the underlying machine"
   ]
  },
  {
   "cell_type": "markdown",
   "metadata": {},
   "source": [
    "Sometimes, we want to demonstrate some modern C++ features which are not yet supported by the notebook kernel, but may be compiled with the underlying computer where your jupyter server is running. Also, sometimes, we need some additional libraries which are not accessible to the notebook kernel, or we want to split our code into several files and demonstrate how those files interact."
   ]
  },
  {
   "cell_type": "markdown",
   "metadata": {},
   "source": [
    "The cell below, with its magic first line `%%file`, will generate a file in the underlying file system, which you can see if you look at the file browser on the left of this window, or if you start a terminal."
   ]
  },
  {
   "cell_type": "code",
   "execution_count": 1,
   "metadata": {},
   "outputs": [
    {
     "name": "stdout",
     "output_type": "stream",
     "text": [
      "Writing tmp.ref.cpp\n"
     ]
    }
   ],
   "source": [
    "%%file tmp.ref.cpp\n",
    "\n",
    "#include <iostream>\n",
    "\n",
    "template < typename T >\n",
    "class Ref\n",
    "{\n",
    "public :\n",
    "  Ref( T data ) { data_ = data ; }\n",
    "  void operator=( T data ) { data_ = data ; }\n",
    "private :\n",
    "  T data_ ;\n",
    "} ;\n",
    "\n",
    "template < typename T >\n",
    "Ref<T> make_ref( T & data )\n",
    "{ return Ref<T>(data) ; }\n",
    "\n",
    "template < typename T >\n",
    "void f( T data )\n",
    "{ data = 42 ; }\n",
    "\n",
    "int main()\n",
    "{\n",
    "  int i = 0, j = 0 ;\n",
    "  f(i) ;\n",
    "  f(make_ref(j)) ;\n",
    "  std::cout<<i<<\" \"<<j<<std::endl ;\n",
    "  return 0 ;\n",
    "}"
   ]
  },
  {
   "cell_type": "markdown",
   "metadata": {},
   "source": [
    "The cells below, with their magic prompt `!`, are executing bash commands in the underlying folder, and display their outputs."
   ]
  },
  {
   "cell_type": "code",
   "execution_count": 2,
   "metadata": {},
   "outputs": [],
   "source": [
    "!rm -f tmp.ref.exe && g++ -std=c++03 tmp.ref.cpp -o tmp.ref.exe"
   ]
  },
  {
   "cell_type": "code",
   "execution_count": 3,
   "metadata": {},
   "outputs": [
    {
     "name": "stdout",
     "output_type": "stream",
     "text": [
      "0 0\n"
     ]
    }
   ],
   "source": [
    "!./tmp.ref.exe"
   ]
  },
  {
   "cell_type": "code",
   "execution_count": null,
   "metadata": {},
   "outputs": [],
   "source": []
  }
 ],
 "metadata": {
  "kernelspec": {
   "display_name": "C++17",
   "language": "C++17",
   "name": "xcpp17"
  },
  "language_info": {
   "codemirror_mode": "text/x-c++src",
   "file_extension": ".cpp",
   "mimetype": "text/x-c++src",
   "name": "c++",
   "version": "17"
  }
 },
 "nbformat": 4,
 "nbformat_minor": 4
}
