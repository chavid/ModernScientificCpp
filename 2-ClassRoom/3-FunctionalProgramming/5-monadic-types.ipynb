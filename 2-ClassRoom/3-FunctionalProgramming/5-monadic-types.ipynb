{
 "cells": [
  {
   "cell_type": "markdown",
   "metadata": {
    "slideshow": {
     "slide_type": "slide"
    }
   },
   "source": [
    "# Towards monads\n",
    "\n",
    "C ++ 17 introduced the `std::optional` type, which is said somehow **monadic**. Below, we will briefly present it, together with `std::expected`, and touch on the functional problematic of those kinds of types."
   ]
  },
  {
   "cell_type": "markdown",
   "metadata": {
    "slideshow": {
     "slide_type": "slide"
    }
   },
   "source": [
    "## When A is optional: `std::optional<A>` (C++17)"
   ]
  },
  {
   "cell_type": "markdown",
   "metadata": {
    "slideshow": {
     "slide_type": "fragment"
    }
   },
   "source": [
    "The parameterized class `std::optional<A>` allows to store or not a value of type `A` in a more readable and more efficient way than a `std::pair<T,bool>` or `std::variant<T,bool>`, and a easier way than raising an exception."
   ]
  },
  {
   "cell_type": "markdown",
   "metadata": {
    "slideshow": {
     "slide_type": "fragment"
    }
   },
   "source": [
    "When such a variable is converted to a boolean, we will get `true` if the value of type` A` is available and `false` otherwise."
   ]
  },
  {
   "cell_type": "code",
   "execution_count": 1,
   "metadata": {
    "slideshow": {
     "slide_type": "skip"
    }
   },
   "outputs": [],
   "source": [
    "#include <string>\n",
    "#include <iostream>\n",
    "#include <optional>"
   ]
  },
  {
   "cell_type": "code",
   "execution_count": 5,
   "metadata": {
    "slideshow": {
     "slide_type": "fragment"
    }
   },
   "outputs": [],
   "source": [
    "std::optional<double> divide( double num, double denom ) {\n",
    "  if (denom) return (num/denom) ;\n",
    "  else return std::nullopt ;\n",
    "}"
   ]
  },
  {
   "cell_type": "code",
   "execution_count": 3,
   "metadata": {
    "slideshow": {
     "slide_type": "fragment"
    }
   },
   "outputs": [],
   "source": [
    "template< typename A >\n",
    "std::ostream & operator<<( std::ostream & os, std::optional<A> const & opt )\n",
    " { if (opt) return (os<<opt.value()) ; else return (os<<\"nothing\") ; }"
   ]
  },
  {
   "cell_type": "code",
   "execution_count": 4,
   "metadata": {
    "slideshow": {
     "slide_type": "fragment"
    }
   },
   "outputs": [
    {
     "name": "stdout",
     "output_type": "stream",
     "text": [
      "2/3: 0.666667\n",
      "3/0: nothing\n"
     ]
    }
   ],
   "source": [
    "std::cout<<\"2/3: \"<<divide(2,3)<<std::endl ; \n",
    "std::cout<<\"3/0: \"<<divide(3,0)<<std::endl ;"
   ]
  },
  {
   "cell_type": "markdown",
   "metadata": {
    "slideshow": {
     "slide_type": "skip"
    }
   },
   "source": [
    "An optional variable is empty until it is assigned a value. It can be emptied by a call to `reset ()` or by assigning it the special value `std::nullopt`."
   ]
  },
  {
   "cell_type": "markdown",
   "metadata": {
    "slideshow": {
     "slide_type": "slide"
    }
   },
   "source": [
    "## With an error value: `std::expected<T,E>` (C++23)\n",
    "\n",
    "Similar to `std::optional<T>`, but combined with an alternative code error of any type."
   ]
  },
  {
   "cell_type": "code",
   "execution_count": 6,
   "metadata": {
    "slideshow": {
     "slide_type": "skip"
    }
   },
   "outputs": [
    {
     "name": "stdout",
     "output_type": "stream",
     "text": [
      "Writing tmp.expected.cpp\n"
     ]
    }
   ],
   "source": [
    "%%file tmp.expected.cpp\n",
    "\n",
    "#include <string>\n",
    "#include <iostream>\n",
    "#include <expected>\n",
    "#include <cmath>\n",
    "\n",
    "std::expected<double,std::string> divide_and_sqrt( int num, int denom ) {\n",
    "  if (denom==0) return std::unexpected(\"cannot divide by 0\") ;\n",
    "  double d { static_cast<double>(num)/denom } ;\n",
    "  if (d<0) return std::unexpected(\"cannot sqrt a negative number\") ;\n",
    "  else return sqrt(d) ;\n",
    "}\n",
    "\n",
    "template< typename T, typename E >\n",
    "std::ostream & operator<<( std::ostream & os, std::expected<T,E> const & exp ) {\n",
    "  if (exp) {\n",
    "    return (os<<exp.value()) ; \n",
    "  } else {\n",
    "    return (os<<\"(\"<<exp.error()<<\")\") ;\n",
    "  }\n",
    "}\n",
    "\n",
    "int main() {\n",
    "  std::cout<<\" 2/3: \"<<divide_and_sqrt(2,3)<<std::endl ; \n",
    "  std::cout<<\" 3/0: \"<<divide_and_sqrt(3,0)<<std::endl ;\n",
    "  std::cout<<\"-2/3: \"<<divide_and_sqrt(-2,3)<<std::endl ;\n",
    "}"
   ]
  },
  {
   "cell_type": "code",
   "execution_count": 8,
   "metadata": {
    "slideshow": {
     "slide_type": "skip"
    }
   },
   "outputs": [],
   "source": [
    "!rm -f tmp.expected.exe && g++ -std=c++23 tmp.expected.cpp -o tmp.expected.exe"
   ]
  },
  {
   "cell_type": "code",
   "execution_count": 9,
   "metadata": {
    "slideshow": {
     "slide_type": "skip"
    }
   },
   "outputs": [
    {
     "name": "stdout",
     "output_type": "stream",
     "text": [
      " 2/3: 0.816497\n",
      " 3/0: (cannot divide by 0)\n",
      "-2/3: (cannot sqrt a negative number)\n"
     ]
    }
   ],
   "source": [
    "!./tmp.expected.exe"
   ]
  },
  {
   "cell_type": "markdown",
   "metadata": {
    "slideshow": {
     "slide_type": "slide"
    }
   },
   "source": [
    "# Questions ?"
   ]
  },
  {
   "cell_type": "markdown",
   "metadata": {
    "slideshow": {
     "slide_type": "skip"
    }
   },
   "source": [
    "## Exercise 1 (simple)\n",
    "\n",
    "If your compiler supports C++17:\n",
    "1. Modify `mysqrt` below so that it returns an `std::optional<double>` rather than a `double`.\n",
    "2. Adapt `divide` so that it accepts optional inputs,\n",
    "\n",
    "Optionally, if your compiler support C++23:\n",
    "1. Modify `divide` so that it returns an expected output, which detect an imaginary numerator, imaginary denominator or a zero denominator.\n",
    "2. Adapt `operator<<` so that it accepts an expected input."
   ]
  },
  {
   "cell_type": "code",
   "execution_count": 29,
   "metadata": {
    "slideshow": {
     "slide_type": "skip"
    }
   },
   "outputs": [
    {
     "name": "stdout",
     "output_type": "stream",
     "text": [
      "Overwriting tmp.monadic-types.cpp\n"
     ]
    }
   ],
   "source": [
    "%%file tmp.monadic-types.cpp\n",
    "\n",
    "#include <cmath>\n",
    "#include <iostream>\n",
    "#include <optional>\n",
    "\n",
    "double mysqrt( double d ) { \n",
    "  return std::sqrt(d) ;\n",
    "}\n",
    "\n",
    "std::optional<double> divide( double d1, double d2 ) {\n",
    "  if (d2==0) return std::nullopt ;\n",
    "  else return d1/d2 ;\n",
    "}\n",
    "\n",
    "template< typename T>\n",
    "std::ostream & operator<<( std::ostream & os, std::optional<T> const & opt ) {\n",
    "  if (opt) { return (os<<opt.value()) ; }\n",
    "  else { return (os<<\"(nothing)\") ; }\n",
    "}\n",
    "\n",
    "int main() {\n",
    "  std::cout<<divide(mysqrt(10),0)<<std::endl ;\n",
    "  std::cout<<divide(mysqrt(-10),mysqrt(10))<<std::endl ;\n",
    "  std::cout<<divide(mysqrt(10),mysqrt(-10))<<std::endl ;\n",
    "  std::cout<<divide(mysqrt(10),mysqrt(10))<<std::endl ;\n",
    "}"
   ]
  },
  {
   "cell_type": "code",
   "execution_count": 27,
   "metadata": {
    "slideshow": {
     "slide_type": "skip"
    }
   },
   "outputs": [],
   "source": [
    "!rm -f tmp.monadic-types.exe && g++ -std=c++23 tmp.monadic-types.cpp -o tmp.monadic-types.exe"
   ]
  },
  {
   "cell_type": "code",
   "execution_count": 28,
   "metadata": {
    "slideshow": {
     "slide_type": "skip"
    }
   },
   "outputs": [
    {
     "name": "stdout",
     "output_type": "stream",
     "text": [
      "(nothing)\n",
      "-nan\n",
      "-nan\n",
      "1\n"
     ]
    }
   ],
   "source": [
    "!./tmp.monadic-types.exe"
   ]
  },
  {
   "cell_type": "markdown",
   "metadata": {
    "slideshow": {
     "slide_type": "skip"
    }
   },
   "source": [
    "## Exercise 2 (difficult, C++23)\n",
    "\n",
    "Rather than modifying `divide`, write a high-order function `raise`, which take as input a function of type `std::optional<OutputType> (&)( InputType1, InputType2 )`, and return a function of type `std::expected<OutputType,std::string> (&)( std::optional<InputType1>, std::optional<InputType2> )`, which is calling the former one when its input optionals have values, or return a comment about lacking values or lacking result. Then, `raise` can help to reuse the original `divide` without modifying it.\n",
    "\n",
    "<!--\n",
    "This requires, at the very minimum, the new ... C++!& stuff ...\n",
    "3. (advanced) Make the function `raise` variadic, so that it can take any number of arguments as input.\n",
    "-->"
   ]
  },
  {
   "cell_type": "code",
   "execution_count": 12,
   "metadata": {
    "slideshow": {
     "slide_type": "skip"
    }
   },
   "outputs": [
    {
     "name": "stdout",
     "output_type": "stream",
     "text": [
      "Overwriting tmp.monadic-types.cpp\n"
     ]
    }
   ],
   "source": [
    "%%file tmp.monadic-types.cpp\n",
    "\n",
    "#include <cmath>\n",
    "#include <iostream>\n",
    "#include <optional>\n",
    "#include <expected>\n",
    "\n",
    "template< typename OutputType, typename InputType1, typename InputType2 >\n",
    "auto raise( std::optional<OutputType>(&f)(InputType1,InputType2) )\n",
    " {\n",
    "  return [f]( std::optional<InputType1> input1, std::optional<InputType2> input2 ) -> std::expected<OutputType,std::string>\n",
    "   {\n",
    "    // TO BE COMPLETED\n",
    "   } ;\n",
    " }\n",
    "\n",
    "std::optional<double> mysqrt( double d ) {\n",
    " if (d<0) return std::nullopt ;\n",
    " else return std::sqrt(d) ;\n",
    "}\n",
    "\n",
    "std::optional<double> divide( double d1, double d2 ) {\n",
    "  if (d2==0) return std::nullopt ;\n",
    "  else return d1/d2 ;\n",
    "}\n",
    "\n",
    "template< typename T, typename E >\n",
    "std::ostream & operator<<( std::ostream & os, std::expected<T,E> const & exp ) {\n",
    "  if (exp) { return (os<<exp.value()) ; }\n",
    "  else { return (os<<\"(\"<<exp.error()<<\")\") ; }\n",
    "}\n",
    "\n",
    "int main() {\n",
    "  std::cout<<raise(divide)(mysqrt(10),0)<<std::endl ;\n",
    "  std::cout<<raise(divide)(mysqrt(-10),mysqrt(10))<<std::endl ;\n",
    "  std::cout<<raise(divide)(mysqrt(10),mysqrt(-10))<<std::endl ;\n",
    "  std::cout<<raise(divide)(mysqrt(10),mysqrt(10))<<std::endl ;\n",
    "}"
   ]
  },
  {
   "cell_type": "code",
   "execution_count": 10,
   "metadata": {
    "slideshow": {
     "slide_type": "skip"
    }
   },
   "outputs": [],
   "source": [
    "!rm -f tmp.monadic-types.exe && g++ -std=c++17 tmp.monadic-types.cpp -o tmp.monadic-types.exe"
   ]
  },
  {
   "cell_type": "code",
   "execution_count": 11,
   "metadata": {
    "slideshow": {
     "slide_type": "skip"
    }
   },
   "outputs": [
    {
     "name": "stdout",
     "output_type": "stream",
     "text": [
      "10\n",
      "-nan\n"
     ]
    }
   ],
   "source": [
    "!./tmp.monadic-types.exe"
   ]
  },
  {
   "cell_type": "markdown",
   "metadata": {
    "slideshow": {
     "slide_type": "skip"
    }
   },
   "source": [
    "## Exercise 3 (difficult)\n",
    "\n",
    "What happens if you want a `mysqrt` of `mysqrt` ? Can you add another flavor of `raise` which would solve the issue ?"
   ]
  },
  {
   "cell_type": "code",
   "execution_count": 1,
   "metadata": {
    "slideshow": {
     "slide_type": "skip"
    }
   },
   "outputs": [
    {
     "name": "stdout",
     "output_type": "stream",
     "text": [
      "Writing tmp.monadic-types.cpp\n"
     ]
    }
   ],
   "source": [
    "%%file tmp.monadic-types.cpp\n",
    "\n",
    "#include <cmath>\n",
    "#include <iostream>\n",
    "#include <optional>\n",
    "\n",
    "// TO BE COMPLETED\n",
    "\n",
    "std::optional<double> mysqrt( double d ) {\n",
    " if (d<0) return std::nullopt ;\n",
    " else return std::sqrt(d) ;\n",
    "}\n",
    "\n",
    "int main()\n",
    " {\n",
    "  std::cout<<mysqrt(mysqrt(10))<<std::endl ;\n",
    "  std::cout<<mysqrt(mysqrt(-10))<<std::endl ;\n",
    " }"
   ]
  },
  {
   "cell_type": "markdown",
   "metadata": {
    "slideshow": {
     "slide_type": "skip"
    }
   },
   "source": [
    "© *CNRS 2024*  \n",
    "*This document was created by David Chamont, proofread and improved by Hadrien Grasland and translated by Olga Abramkina. It is available under the [License Creative Commons - Attribution - No commercial use - Shared under the conditions 4.0 International](http://creativecommons.org/licenses/by-nc-sa/4.0/)*"
   ]
  }
 ],
 "metadata": {
  "celltoolbar": "Diaporama",
  "kernelspec": {
   "display_name": "C++17",
   "language": "C++17",
   "name": "xcpp17"
  },
  "language_info": {
   "codemirror_mode": "text/x-c++src",
   "file_extension": ".cpp",
   "mimetype": "text/x-c++src",
   "name": "c++",
   "version": "17"
  }
 },
 "nbformat": 4,
 "nbformat_minor": 4
}
