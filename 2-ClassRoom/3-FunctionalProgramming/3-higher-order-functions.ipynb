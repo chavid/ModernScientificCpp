{
 "cells": [
  {
   "cell_type": "markdown",
   "metadata": {
    "slideshow": {
     "slide_type": "slide"
    }
   },
   "source": [
    "# Higher-order functions\n",
    "\n",
    "We have already seen that a \"functional\" feature of C++, already present in early C++, is to have functions which take other functions as arguments (i.e. the standard library algorithms). The counterpart of this feature, made possible by modern C++ lambdas, is to write functions that build other functions and return them as result. One can now manage functions as first-class objects : use, construct, compose them."
   ]
  },
  {
   "cell_type": "markdown",
   "metadata": {
    "slideshow": {
     "slide_type": "slide"
    }
   },
   "source": [
    "## Taking a lambda as parameter\n",
    "\n",
    "If you want to create your own functions which takes a lambda as parameter (higher-order functions), one issue is again the detailed type of the lambda function. A usual practice is to rely on a template parameter."
   ]
  },
  {
   "cell_type": "code",
   "execution_count": 1,
   "metadata": {
    "slideshow": {
     "slide_type": "skip"
    }
   },
   "outputs": [],
   "source": [
    "#include <vector>\n",
    "#include <algorithm>\n",
    "#include <iostream>"
   ]
  },
  {
   "cell_type": "code",
   "execution_count": 2,
   "metadata": {
    "slideshow": {
     "slide_type": "subslide"
    }
   },
   "outputs": [],
   "source": [
    "template< typename Collection, typename Function >\n",
    "void for_all( Collection const & col, Function f )\n",
    " { std::for_each(col.begin(), col.end(), f) ; }"
   ]
  },
  {
   "cell_type": "code",
   "execution_count": 3,
   "metadata": {
    "slideshow": {
     "slide_type": "-"
    }
   },
   "outputs": [
    {
     "name": "stdout",
     "output_type": "stream",
     "text": [
      "1 2 3 4 5 \n",
      "1.1 2.2 3.3 4.4 \n"
     ]
    }
   ],
   "source": [
    "auto print = []( auto val ){ std::cout<<val<<' ' ; } ;\n",
    "\n",
    "std::vector<int> vi{1,2,3,4,5} ;\n",
    "for_all(vi,print) ;\n",
    "std::cout<<std::endl ;\n",
    "\n",
    "std::vector<double> vd{1.1,2.2,3.3,4.4} ;\n",
    "for_all(vd,print) ; \n",
    "std::cout<<std::endl ;"
   ]
  },
  {
   "cell_type": "markdown",
   "metadata": {
    "slideshow": {
     "slide_type": "slide"
    }
   },
   "source": [
    "## Returning a lamdda as result\n",
    "\n",
    "The complementary face of the previous practice, made possible by lambdas, is to write **functions that build other functions** and return them as a result. The lambda type issue is solved by setting the return type as `auto`."
   ]
  },
  {
   "cell_type": "code",
   "execution_count": 4,
   "metadata": {
    "slideshow": {
     "slide_type": "fragment"
    }
   },
   "outputs": [],
   "source": [
    "auto multiplier( int m )\n",
    " { return [m]( int i ){ std::cout<<(m*i)<<' ' ; } ; } "
   ]
  },
  {
   "cell_type": "code",
   "execution_count": 5,
   "metadata": {
    "slideshow": {
     "slide_type": "fragment"
    }
   },
   "outputs": [
    {
     "name": "stdout",
     "output_type": "stream",
     "text": [
      "2 4 6 8 10 \n",
      "3 6 9 12 15 \n"
     ]
    }
   ],
   "source": [
    "std::vector<int> v {1,2,3,4,5} ;\n",
    "    \n",
    "for_all(v,multiplier(2)) ;\n",
    "std::cout<<std::endl ;\n",
    "\n",
    "for_all(v,multiplier(3)) ;\n",
    "std::cout<<std::endl ;"
   ]
  },
  {
   "cell_type": "markdown",
   "metadata": {
    "slideshow": {
     "slide_type": "slide"
    }
   },
   "source": [
    "# Questions ?"
   ]
  },
  {
   "cell_type": "markdown",
   "metadata": {
    "slideshow": {
     "slide_type": "skip"
    }
   },
   "source": [
    "# Exercise\n",
    "\n",
    "Try to complete the code below, where we define a higher-order function capable of building the composite of two functions `f1` and `f2`. The resulting function must return `f1(f2(i))` for any input value `i`."
   ]
  },
  {
   "cell_type": "code",
   "execution_count": null,
   "metadata": {
    "slideshow": {
     "slide_type": "skip"
    }
   },
   "outputs": [],
   "source": [
    "%%file tmp.functions.cpp\n",
    "\n",
    "#include <iostream>\n",
    "#include <array>\n",
    "#include <algorithm>\n",
    "\n",
    "template< typename Function1, typename Function2 >\n",
    "... compose( Function1 f1, Function2 f2 )\n",
    " { return ... ; }\n",
    "\n",
    "int square( int i ) { return i*i ; }\n",
    "void display( int i ) { std::cout<<i<<std::endl ; }\n",
    "\n",
    "int main()\n",
    " {     \n",
    "  std::array<int,5> table { 1, 2, 3, 4, 5 } ;\n",
    "  std::for_each(table.begin(),table.end(),compose(display,square)) ;\n",
    " }"
   ]
  },
  {
   "cell_type": "code",
   "execution_count": null,
   "metadata": {
    "slideshow": {
     "slide_type": "skip"
    }
   },
   "outputs": [],
   "source": [
    "!rm -f tmp.functions.exe && g++ -std=c++17 tmp.functions.cpp -o tmp.functions.exe"
   ]
  },
  {
   "cell_type": "code",
   "execution_count": null,
   "metadata": {
    "slideshow": {
     "slide_type": "skip"
    }
   },
   "outputs": [],
   "source": [
    "!./tmp.functions.exe"
   ]
  },
  {
   "cell_type": "markdown",
   "metadata": {
    "slideshow": {
     "slide_type": "skip"
    }
   },
   "source": [
    "© *CNRS 2022*  \n",
    "*This document was created by David Chamont, proofread and improved by Hadrien Grasland and translated by Olga Abramkina. It is available under the [License Creative Commons - Attribution - No commercial use - Shared under the conditions 4.0 International](http://creativecommons.org/licenses/by-nc-sa/4.0/)*"
   ]
  }
 ],
 "metadata": {
  "celltoolbar": "Diaporama",
  "kernelspec": {
   "display_name": "C++17",
   "language": "C++17",
   "name": "xcpp17"
  },
  "language_info": {
   "codemirror_mode": "text/x-c++src",
   "file_extension": ".cpp",
   "mimetype": "text/x-c++src",
   "name": "c++",
   "version": "17"
  }
 },
 "nbformat": 4,
 "nbformat_minor": 4
}
