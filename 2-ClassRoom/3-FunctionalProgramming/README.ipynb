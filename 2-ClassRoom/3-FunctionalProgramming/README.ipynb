{
 "cells": [
  {
   "cell_type": "markdown",
   "metadata": {
    "slideshow": {
     "slide_type": "slide"
    }
   },
   "source": [
    "# Functional programming in C++\n",
    "\n",
    "Functional programming means coming back closer to what **variables** and **functions** are in **mathematics**: the former, immutable data, and the latter, transformations from an input into an output.\n",
    "\n",
    "In this presentation, we will see how to modify our C++ programs to approach the functional paradigm, by the way formalizing already known good practices, and facilitating parallel and distributed execution."
   ]
  },
  {
   "cell_type": "markdown",
   "metadata": {
    "slideshow": {
     "slide_type": "subslide"
    }
   },
   "source": [
    "## To be continued\n",
    "\n",
    "1. [Adopt a functional style in old C ++](1-style.ipynb).\n",
    "2. [Lambda functions](2-lambda-functions.ipynb).\n",
    "2. [Higher-order functions](3-higher-order-functions.ipynb).\n",
    "3. [A brief introduction to the algebra of types](4-algebraic-types.ipynb).\n",
    "4. [Towards monads](5-monadic-types.ipynb).\n",
    "5. [C++20 functional pipes with Ranges](6-ranges.ipynb)"
   ]
  },
  {
   "cell_type": "markdown",
   "metadata": {
    "slideshow": {
     "slide_type": "skip"
    }
   },
   "source": [
    "## Inspirations\n",
    "\n",
    "* John Carmack & Arzar : [Programmation fonctionnelle en C++](https://cpp.developpez.com/redaction/data/pages/rubrique/cpp/carmack/fonctionnel/)\n",
    "* Ivan Cukic : [Functional Programming in C++](https://www.manning.com/books/functional-programming-in-c-plus-plus?query=Functional%20Programming%20in%20C++)\n",
    "* Bartosz Milewski : [Category Theory for Programmers](https://github.com/hmemcpy/milewski-ctfp-pdf)"
   ]
  },
  {
   "cell_type": "markdown",
   "metadata": {
    "slideshow": {
     "slide_type": "skip"
    }
   },
   "source": [
    "© *CNRS 2024*  \n",
    "*This document was created by David Chamont, proofread and improved by Hadrien Grasland and translated by Olga Abramkina. It is available under the [License Creative Commons - Attribution - No commercial use - Shared under the conditions 4.0 International](http://creativecommons.org/licenses/by-nc-sa/4.0/)*"
   ]
  }
 ],
 "metadata": {
  "celltoolbar": "Diaporama",
  "kernelspec": {
   "display_name": "C++17",
   "language": "C++17",
   "name": "xcpp17"
  },
  "language_info": {
   "codemirror_mode": "text/x-c++src",
   "file_extension": ".cpp",
   "mimetype": "text/x-c++src",
   "name": "c++",
   "version": "17"
  }
 },
 "nbformat": 4,
 "nbformat_minor": 4
}
