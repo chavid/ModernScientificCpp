{
 "cells": [
  {
   "cell_type": "markdown",
   "metadata": {
    "slideshow": {
     "slide_type": "slide"
    }
   },
   "source": [
    "# Adopt a functional style in old C ++\n",
    "\n",
    "> For FP in C++, the importance of templates isn’t (mainly) in the creation of container classes such as vectors, but in the fact that it allowed creation of STL algorithms (...) Most of these algorithms let you pass custom functions to customize the algorithms’ behavior (...) The capability to pass functions as arguments to another function, and to have functions that return new functions, made even the first standardized version of C++ an FP language. *Ivan Cukic*"
   ]
  },
  {
   "cell_type": "markdown",
   "metadata": {
    "slideshow": {
     "slide_type": "subslide"
    }
   },
   "source": [
    "## A vision of functional programming\n",
    "\n",
    "Get closer to **mathematical logic**:\n",
    "* a **variable** always means/contains the same thing,\n",
    "* given the same arguments, a **function** always returns the same result,\n",
    "* **high-order functions** can manipulate functions,\n",
    "* a **type algebra** allows types to be recombined.\n",
    "\n",
    "Compensate for the involved efficiencies:\n",
    "* **lazy evaluation**,\n",
    "* **immutable data structures**,\n",
    "* ..."
   ]
  },
  {
   "cell_type": "markdown",
   "metadata": {
    "slideshow": {
     "slide_type": "slide"
    }
   },
   "source": [
    "## Hypothetical benefits of functional programming\n",
    "\n",
    "* **Facilitates program proofs** ... on only the pure sub-part of a real application (excluding reading and creating files, displays, interaction with the database, etc.).\n",
    "* **Makes the code more readable?** Not so obvious in C ++, whose syntax serves so many paradigms..."
   ]
  },
  {
   "cell_type": "markdown",
   "metadata": {
    "slideshow": {
     "slide_type": "subslide"
    }
   },
   "source": [
    "## Practical benefits of functional programming\n",
    "\n",
    "* **Strengthen existing good practices** aimed at fighting spaghetti code (elimination of global variables).\n",
    "* **Reduce unintentional state changes** (\"OO makes code understandable by encapsulating moving parts. FP makes code understandable by minimizing moving parts.\" *Michael Feathers*).\n",
    "* **Promote the distinction between data structures and algorithms**, already more and more practiced in scientific computing, against a naive object approach.\n",
    "* **Facilitate parallelization** (\"No shared states, no problem\")."
   ]
  },
  {
   "cell_type": "markdown",
   "metadata": {
    "slideshow": {
     "slide_type": "slide"
    }
   },
   "source": [
    "## A classic code example"
   ]
  },
  {
   "cell_type": "code",
   "execution_count": 4,
   "metadata": {
    "slideshow": {
     "slide_type": "skip"
    }
   },
   "outputs": [],
   "source": [
    "#include <iostream>\n",
    "#include <vector>\n",
    "#include <string>"
   ]
  },
  {
   "cell_type": "code",
   "execution_count": 11,
   "metadata": {
    "slideshow": {
     "slide_type": "subslide"
    }
   },
   "outputs": [],
   "source": [
    "void spaces_in_sentences\n",
    " ( std::vector<std::string> & sentences, std::vector<unsigned> & spaces )\n",
    " {\n",
    "  unsigned i, imax = sentences.size() ;\n",
    "  for ( i = 0 ; i<imax ; ++i )\n",
    "   {\n",
    "    spaces[i] = 0 ;\n",
    "    unsigned j, jmax = sentences[i].size() ;\n",
    "    for ( j = 0 ; j<jmax ; ++j )\n",
    "     {\n",
    "      if (sentences[i][j]==' ')\n",
    "       { ++spaces[i] ; }\n",
    "     }\n",
    "   }\n",
    " }"
   ]
  },
  {
   "cell_type": "code",
   "execution_count": 14,
   "metadata": {
    "slideshow": {
     "slide_type": "subslide"
    }
   },
   "outputs": [],
   "source": [
    "int main()\n",
    " {\n",
    "  unsigned SIZE = 2 ;\n",
    "  std::vector<std::string> sentences(SIZE) ;\n",
    "  sentences[0] = \"Hello world !\" ;\n",
    "  sentences[1] = \"Happy birthday\" ;\n",
    "  \n",
    "  std::vector<unsigned> spaces(sentences.size()) ;\n",
    "  spaces_in_sentences(sentences,spaces) ;\n",
    "    \n",
    "  std::cout<<spaces[0]<<' '<<spaces[1]<<std::endl ;\n",
    " }"
   ]
  },
  {
   "cell_type": "markdown",
   "metadata": {
    "slideshow": {
     "slide_type": "subslide"
    }
   },
   "source": [
    "## What we can already do with ancient C ++\n",
    "\n",
    "* Immutable data => use **`const`**\n",
    "* Functions made **pure** =>\n",
    "  * constant input variables,\n",
    "  * a single output (possibly composite),\n",
    "  * no side effects, never use of \"context\" !\n",
    "* Eliminate or hide as much as possible `if`,` for` or `while` => use the **standard library algorithms**.\n",
    "\n",
    "> Thinking functionally means thinking about the input data and the transformations you need to chain in order to get the desired output. *Ivan Cukic*"
   ]
  },
  {
   "cell_type": "markdown",
   "metadata": {
    "slideshow": {
     "slide_type": "subslide"
    }
   },
   "source": [
    "## Modified example"
   ]
  },
  {
   "cell_type": "code",
   "execution_count": 4,
   "metadata": {
    "slideshow": {
     "slide_type": "skip"
    }
   },
   "outputs": [],
   "source": [
    "#include <iostream>\n",
    "#include <vector>\n",
    "#include <string>\n",
    "#include <algorithm>"
   ]
  },
  {
   "cell_type": "code",
   "execution_count": 7,
   "metadata": {
    "slideshow": {
     "slide_type": "fragment"
    }
   },
   "outputs": [],
   "source": [
    "unsigned spaces_in_sentence\n",
    " ( std::string const & sentence )\n",
    " { return std::count(sentence.begin(),sentence.end(),' ') ; }"
   ]
  },
  {
   "cell_type": "code",
   "execution_count": 8,
   "metadata": {
    "slideshow": {
     "slide_type": "fragment"
    }
   },
   "outputs": [],
   "source": [
    "std::vector<unsigned> spaces_in_sentences\n",
    " ( std::vector<std::string> const & sentences )\n",
    " {\n",
    "  std::vector<unsigned> spaces(sentences.size()) ;\n",
    "  std::transform(sentences.begin(),sentences.end(),spaces.begin(),spaces_in_sentence) ;\n",
    "  return spaces ;\n",
    " }"
   ]
  },
  {
   "cell_type": "code",
   "execution_count": 9,
   "metadata": {
    "slideshow": {
     "slide_type": "skip"
    }
   },
   "outputs": [],
   "source": [
    "int main()\n",
    " {\n",
    "  unsigned SIZE = 2 ;\n",
    "  std::vector<std::string> sentences(SIZE) ;\n",
    "  sentences[0] = \"Hello world !\" ;\n",
    "  sentences[1] = \"Happy birthday\" ;\n",
    "  \n",
    "  std::vector<unsigned> spaces = spaces_in_sentences(words) ;\n",
    "  std::cout<<spaces[0]<<' '<<spaces[1]<<std::endl ;\n",
    " }"
   ]
  },
  {
   "cell_type": "markdown",
   "metadata": {
    "slideshow": {
     "slide_type": "slide"
    }
   },
   "source": [
    "# Questions ?"
   ]
  },
  {
   "cell_type": "markdown",
   "metadata": {
    "slideshow": {
     "slide_type": "skip"
    }
   },
   "source": [
    "© *CNRS 2022*  \n",
    "*This document was created by David Chamont, proofread and improved by Hadrien Grasland, and translated by Olga Abramkina. It is available under the [License Creative Commons - Attribution - No commercial use - Shared under the conditions 4.0 International](http://creativecommons.org/licenses/by-nc-sa/4.0/)*"
   ]
  }
 ],
 "metadata": {
  "celltoolbar": "Diaporama",
  "kernelspec": {
   "display_name": "C++17",
   "language": "C++17",
   "name": "xcpp17"
  },
  "language_info": {
   "codemirror_mode": "text/x-c++src",
   "file_extension": ".cpp",
   "mimetype": "text/x-c++src",
   "name": "c++",
   "version": "17"
  }
 },
 "nbformat": 4,
 "nbformat_minor": 4
}
