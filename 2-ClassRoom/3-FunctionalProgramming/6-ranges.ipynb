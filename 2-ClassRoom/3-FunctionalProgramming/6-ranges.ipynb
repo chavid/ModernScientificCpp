{
 "cells": [
  {
   "cell_type": "markdown",
   "metadata": {
    "slideshow": {
     "slide_type": "slide"
    }
   },
   "source": [
    "# C++20  functional pipes with Ranges\n",
    "\n",
    "\n",
    "> The issue of unnecessary memory allocation arises from the composability problem of STL algorithms. This problem has been known for some time, and a few libraries have been created to fix it. (...) Ranges are currently published as a Technical Specification and are planned for inclusion in C++20. Until ranges become part of the STL, they're available as a third-party library that can be used with most C++11-compatible compilers. Ranges let you have your cake and eat it too, by creating composable smaller functions without any performance penalties. *Ivan Cukic*"
   ]
  },
  {
   "cell_type": "markdown",
   "metadata": {
    "slideshow": {
     "slide_type": "slide"
    }
   },
   "source": [
    "## Motivation : composability problem of STL algorithms"
   ]
  },
  {
   "cell_type": "markdown",
   "metadata": {
    "slideshow": {
     "slide_type": "subslide"
    }
   },
   "source": [
    "### Benefits of the STL design"
   ]
  },
  {
   "cell_type": "markdown",
   "metadata": {
    "slideshow": {
     "slide_type": "fragment"
    }
   },
   "source": [
    "Because the deep copy of a collection is expensive, the design favors **cheap in-place modification of collections**."
   ]
  },
  {
   "cell_type": "markdown",
   "metadata": {
    "slideshow": {
     "slide_type": "fragment"
    }
   },
   "source": [
    "Thanks to the use iterators, **algorithms can work on a collection subset**. Some algorithms, such as `std::partition`, are meant to be used repeatedly on different subsets of a given collection."
   ]
  },
  {
   "cell_type": "markdown",
   "metadata": {
    "slideshow": {
     "slide_type": "subslide"
    }
   },
   "source": [
    "### Yet an impediment to composability\n",
    "\n",
    "When trying to apply a sequence of transformations on a collection, the STL design leads to store intermediate results in **temporary collections**, with **useless deep copies**, and **numerous iterators**."
   ]
  },
  {
   "cell_type": "code",
   "execution_count": null,
   "metadata": {
    "slideshow": {
     "slide_type": "subslide"
    }
   },
   "outputs": [],
   "source": [
    "%%file tmp.ranges.h\n",
    "\n",
    "#include <vector>\n",
    "#include <algorithm>\n",
    "\n",
    "bool even( int value ) { return 0==value%2 ; }\n",
    "int square( int value ) { return value*value ; }\n",
    "\n",
    "std::vector<int> process( std::vector<int> const & input )\n",
    " {\n",
    "  std::vector<int> intermediary ;\n",
    "  std::copy_if(input.cbegin(), input.cend(), std::back_inserter(intermediary), even) ;\n",
    "\n",
    "  std::vector<int> output ;\n",
    "  std::transform(intermediary.cbegin(), intermediary.cend(), std::back_inserter(output), square) ;\n",
    "\n",
    "  return output ;\n",
    " }"
   ]
  },
  {
   "cell_type": "code",
   "execution_count": null,
   "metadata": {
    "slideshow": {
     "slide_type": "subslide"
    }
   },
   "outputs": [],
   "source": [
    "%%file tmp.ranges.cpp\n",
    "\n",
    "#include \"tmp.ranges.h\"\n",
    "#include <iostream>\n",
    "\n",
    "int main()\n",
    " {\n",
    "  for ( auto data : process({ 0, 1, 2, 3, 4, 5 }) )\n",
    "   { std::cout << data << ' ' ; }\n",
    " }"
   ]
  },
  {
   "cell_type": "code",
   "execution_count": null,
   "metadata": {
    "slideshow": {
     "slide_type": "skip"
    }
   },
   "outputs": [],
   "source": [
    "!rm -f tmp.ranges.exe && g++ -std=c++20 tmp.ranges.cpp -o tmp.ranges.exe"
   ]
  },
  {
   "cell_type": "code",
   "execution_count": null,
   "metadata": {
    "slideshow": {
     "slide_type": "-"
    }
   },
   "outputs": [],
   "source": [
    "!./tmp.ranges.exe"
   ]
  },
  {
   "cell_type": "markdown",
   "metadata": {
    "slideshow": {
     "slide_type": "slide"
    }
   },
   "source": [
    "## Introduction about ranges\n",
    "\n",
    "A *range* basically behave like a pair of begin/end iterators. The usual algorithms have been adapted so that they can receive a range as input, produce a range as output, and can be chained with the operator `|`."
   ]
  },
  {
   "cell_type": "code",
   "execution_count": null,
   "metadata": {
    "slideshow": {
     "slide_type": "subslide"
    }
   },
   "outputs": [],
   "source": [
    "%%file tmp.ranges.h\n",
    "\n",
    "#include <ranges>\n",
    "\n",
    "int even( int value ) { return 0==value%2 ; }\n",
    "int square( int value ) { return value*value ; }\n",
    "\n",
    "auto process( std::initializer_list<int> const & input )\n",
    " { return ( input | std::views::filter(even) | std::views::transform(square)  ) ; }"
   ]
  },
  {
   "cell_type": "code",
   "execution_count": null,
   "metadata": {
    "slideshow": {
     "slide_type": "skip"
    }
   },
   "outputs": [],
   "source": [
    "!rm -f tmp.ranges.exe && g++ -std=c++20 tmp.ranges.cpp -o tmp.ranges.exe"
   ]
  },
  {
   "cell_type": "code",
   "execution_count": null,
   "metadata": {
    "slideshow": {
     "slide_type": "-"
    }
   },
   "outputs": [],
   "source": [
    "!./tmp.ranges.exe"
   ]
  },
  {
   "cell_type": "markdown",
   "metadata": {
    "slideshow": {
     "slide_type": "slide"
    }
   },
   "source": [
    "## `std::views` : lazy algorithms & smart iterators\n",
    "\n",
    "When they do not need to modify the input collection, the ranges algorithms return some special iterators which are using **lazy evaluation** : the transformation on the values are not made immediatly by the algorithm, but hidden in the iterator and made on the fly. "
   ]
  },
  {
   "cell_type": "markdown",
   "metadata": {
    "slideshow": {
     "slide_type": "subslide"
    }
   },
   "source": [
    "### std::view::filter\n",
    "\n",
    "This algorithm returns a range whose iterators have a smart increment operator, which is ignoring the elements which do not match the predicate. The input collection is not modified or duplicated in any way. The iterator is filtering the element on the fly."
   ]
  },
  {
   "cell_type": "markdown",
   "metadata": {
    "slideshow": {
     "slide_type": "subslide"
    }
   },
   "source": [
    "### std::view::transform\n",
    "\n",
    "Similarly, this algorithm returns a range whose iterators have a smart dereferencing operator, which is applying the transformation when one ask for the pointed value. Again, the input collection is not modified or duplicated in any way. The iterator is transforming the element on the fly."
   ]
  },
  {
   "cell_type": "markdown",
   "metadata": {
    "slideshow": {
     "slide_type": "slide"
    }
   },
   "source": [
    "## `ranges::actions` : active algorithms\n",
    "\n",
    "Sometimes you cannot avoid modifying the original collection. For this, the **range-v3** library provides some other algorithms, called **actions**. Those actions are not lazy, and can be applied to left-value collection with the operator `|=`. They may prove more efficient when we know that a given transformation will be reused many times."
   ]
  },
  {
   "cell_type": "markdown",
   "metadata": {
    "slideshow": {
     "slide_type": "fragment"
    }
   },
   "source": [
    "WARNING: apparently, the C++ committee has not kept the idea of some `std::actions` namespace in C++20, and has not kept the operator `|=`."
   ]
  },
  {
   "cell_type": "markdown",
   "metadata": {
    "slideshow": {
     "slide_type": "slide"
    }
   },
   "source": [
    "## Special ranges\n",
    "\n",
    "* One can customize what is the end of a range. instead of an *end iterator*, we will rather call this a *sentinel*. In a range-based for, the use of sentinels is allowed since C++17. \n",
    "* A **delimited range** has a fixed, but unknown, size. It can be the values of an `istream`. A predicate is used so to define the end of the range.\n",
    "* An **infinite range** has no end. This may prive useful when you combine several collections with a `zip`."
   ]
  },
  {
   "cell_type": "markdown",
   "metadata": {
    "slideshow": {
     "slide_type": "skip"
    }
   },
   "source": [
    "In the example below, which also demonstrates the *lazy* nature of those views, we are adding:\n",
    "- `iota(0)` : which is the infinite list of all positive integers,\n",
    "- `take(3)` : which is taking the first three elements of its input range."
   ]
  },
  {
   "cell_type": "code",
   "execution_count": null,
   "metadata": {
    "slideshow": {
     "slide_type": "subslide"
    }
   },
   "outputs": [],
   "source": [
    "%%file tmp.ranges.cpp\n",
    "\n",
    "#include <vector>\n",
    "#include <ranges>\n",
    "#include <iostream>\n",
    "\n",
    "int main()\n",
    " {\n",
    "  for( auto data :\n",
    "    std::views::iota(0) |\n",
    "    std::views::filter([]( int value ){ return 0==value%2 ; }) |\n",
    "    std::views::transform([]( int value ) { return value*value ; }) |\n",
    "    std::views::take(3) )\n",
    "   { std::cout << data << ' ' ; }\n",
    " }"
   ]
  },
  {
   "cell_type": "code",
   "execution_count": null,
   "metadata": {
    "slideshow": {
     "slide_type": "skip"
    }
   },
   "outputs": [],
   "source": [
    "!rm -f tmp.ranges.exe && g++ -std=c++20 tmp.ranges.cpp -o tmp.ranges.exe"
   ]
  },
  {
   "cell_type": "code",
   "execution_count": null,
   "metadata": {
    "slideshow": {
     "slide_type": "-"
    }
   },
   "outputs": [],
   "source": [
    "!./tmp.ranges.exe"
   ]
  },
  {
   "cell_type": "markdown",
   "metadata": {
    "slideshow": {
     "slide_type": "slide"
    }
   },
   "source": [
    "## Availability\n",
    "\n",
    "**GCC 10** offers the best support today (except the *actions*, apparently not adopted in the standard). MSVC 19.28 has partial support. Two other external implementations are available :\n",
    "* The reference implementation which has inspired C++20 : [**Range-v3**](https://github.com/ericniebler/range-v3), by Eric Niebler.\n",
    "* The older mature library, compatible with older C++ : [**Boost.Range**](https://www.boost.org/doc/libs/1_74_0/libs/range/doc/html/index.html)."
   ]
  },
  {
   "cell_type": "markdown",
   "metadata": {
    "slideshow": {
     "slide_type": "slide"
    }
   },
   "source": [
    "# Questions ?"
   ]
  },
  {
   "cell_type": "markdown",
   "metadata": {
    "slideshow": {
     "slide_type": "skip"
    }
   },
   "source": [
    "# Sources\n",
    "\n",
    "* [Cpp Reference](https://en.cppreference.com/w/cpp/ranges)\n",
    "* [Marius Bancila's Blog](https://mariusbancila.ro/blog/2019/01/20/cpp-code-samples-before-and-after-ranges/)"
   ]
  },
  {
   "cell_type": "markdown",
   "metadata": {
    "slideshow": {
     "slide_type": "skip"
    }
   },
   "source": [
    "© *CNRS 2024*  \n",
    "*Assembled and written by David Chamont, reviewed and extended by Hadrien Grasland,* \n",
    "*this work is made available according to the terms of the*  \n",
    "[*Creative Commons License - Attribution - NonCommercial - ShareAlike 4.0 International*](http://creativecommons.org/licenses/by-nc-sa/4.0/)"
   ]
  }
 ],
 "metadata": {
  "celltoolbar": "Diaporama",
  "kernelspec": {
   "display_name": "Python 3 (ipykernel)",
   "language": "python",
   "name": "python3"
  },
  "language_info": {
   "codemirror_mode": {
    "name": "ipython",
    "version": 3
   },
   "file_extension": ".py",
   "mimetype": "text/x-python",
   "name": "python",
   "nbconvert_exporter": "python",
   "pygments_lexer": "ipython3",
   "version": "3.11.8"
  }
 },
 "nbformat": 4,
 "nbformat_minor": 4
}
