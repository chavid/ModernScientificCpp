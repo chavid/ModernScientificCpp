{
 "cells": [
  {
   "cell_type": "markdown",
   "metadata": {
    "slideshow": {
     "slide_type": "slide"
    }
   },
   "source": [
    "# Types handling\n",
    "\n",
    "In the context of C++, we will call ***metafunction*** a function that is **executed by the compiler**, at compile time. Its inputs are the parameters of a template, and can therefore be **types and integer constant expressions**. Similarly, the outputs can be types or integers. The gymnastics required to access the results depends greatly on the version of C++ used."
   ]
  },
  {
   "cell_type": "markdown",
   "metadata": {
    "slideshow": {
     "slide_type": "slide"
    }
   },
   "source": [
    "## Example of type transformation\n",
    "\n",
    "Below, the `remove_possible_pointer` metafunction removes the possible higher-level pointer. In this old C++ implementation, the input type is U, passed as a template parameter, and the result of the meta-function is extracted using the syntax `typename remove_possible_pointer<U>::type`:"
   ]
  },
  {
   "cell_type": "code",
   "execution_count": 1,
   "metadata": {
    "attributes": {
     "classes": [
      "cpp"
     ],
     "id": ""
    },
    "slideshow": {
     "slide_type": "skip"
    }
   },
   "outputs": [],
   "source": [
    "#include <iostream>\n",
    "#include <typeinfo>"
   ]
  },
  {
   "cell_type": "code",
   "execution_count": 2,
   "metadata": {
    "attributes": {
     "classes": [
      "cpp"
     ],
     "id": ""
    },
    "slideshow": {
     "slide_type": "subslide"
    }
   },
   "outputs": [],
   "source": [
    "template<typename U>    // general case\n",
    "struct remove_possible_pointer\n",
    " { typedef U type ; } ;\n",
    "\n",
    "template<typename T>    // pour U = T*\n",
    "struct remove_possible_pointer<T*>\n",
    " { typedef T type ; } ;"
   ]
  },
  {
   "cell_type": "code",
   "execution_count": 3,
   "metadata": {
    "attributes": {
     "classes": [
      "cpp"
     ],
     "id": ""
    },
    "slideshow": {
     "slide_type": "subslide"
    }
   },
   "outputs": [],
   "source": [
    "template<typename U>\n",
    "char const * value_type_name( U /* variable */ )\n",
    " { return typeid(typename remove_possible_pointer<U>::type).name() ; }"
   ]
  },
  {
   "cell_type": "code",
   "execution_count": 4,
   "metadata": {
    "attributes": {
     "classes": [
      "cpp"
     ],
     "id": ""
    },
    "slideshow": {
     "slide_type": "-"
    }
   },
   "outputs": [
    {
     "name": "stdout",
     "output_type": "stream",
     "text": [
      "i\n",
      "d\n"
     ]
    }
   ],
   "source": [
    "std::cout<<value_type_name(42)<<std::endl ;\n",
    "std::cout<<value_type_name(new double(3.14))<<std::endl ;"
   ]
  },
  {
   "cell_type": "markdown",
   "metadata": {
    "slideshow": {
     "slide_type": "subslide"
    }
   },
   "source": [
    "C++11 offers a new comfort with template aliases. We can add an alias to the previous code, to make it easier to use:"
   ]
  },
  {
   "cell_type": "code",
   "execution_count": 5,
   "metadata": {
    "attributes": {
     "classes": [
      "cpp"
     ],
     "id": ""
    },
    "slideshow": {
     "slide_type": "-"
    }
   },
   "outputs": [],
   "source": [
    "template<typename T>\n",
    "using remove_possible_pointer_t = typename remove_possible_pointer<T>::type ;"
   ]
  },
  {
   "cell_type": "code",
   "execution_count": 6,
   "metadata": {
    "attributes": {
     "classes": [
      "cpp"
     ],
     "id": ""
    },
    "slideshow": {
     "slide_type": "-"
    }
   },
   "outputs": [],
   "source": [
    "template<typename U>\n",
    "char const * value_type_name( U /* variable */ )\n",
    " { return typeid(remove_possible_pointer_t<U>).name() ; }"
   ]
  },
  {
   "cell_type": "code",
   "execution_count": 7,
   "metadata": {
    "attributes": {
     "classes": [
      "cpp"
     ],
     "id": ""
    },
    "slideshow": {
     "slide_type": "skip"
    }
   },
   "outputs": [
    {
     "name": "stdout",
     "output_type": "stream",
     "text": [
      "i\n",
      "d\n"
     ]
    }
   ],
   "source": [
    "std::cout<<value_type_name(42)<<std::endl ;\n",
    "std::cout<<value_type_name(new double(3.14))<<std::endl ;"
   ]
  },
  {
   "cell_type": "markdown",
   "metadata": {
    "slideshow": {
     "slide_type": "slide"
    }
   },
   "source": [
    "## New standard library\n",
    "\n",
    "C++11 introduces many meta-fonctions for the transformation of types. They are all implemented individually to facilitate their composition, rather than grouped together, like in the C++03 library. We list the easiest ones below. Since C++14, for each of them, there is an additional alias template `_t`, like in the previous example."
   ]
  },
  {
   "cell_type": "code",
   "execution_count": 9,
   "metadata": {
    "slideshow": {
     "slide_type": "subslide"
    }
   },
   "outputs": [],
   "source": [
    "namespace std\n",
    " {\n",
    "  // const-volatile modifications:\n",
    "  template <class T> struct remove_const;\n",
    "  template <class T> struct remove_volatile;\n",
    "  template <class T> struct remove_cv;\n",
    "  template <class T> struct add_const;\n",
    "  template <class T> struct add_volatile;\n",
    "  template <class T> struct add_cv;\n",
    "  \n",
    "  // reference modifications:\n",
    "  template <class T> struct remove_reference;\n",
    "  template <class T> struct add_lvalue_reference;\n",
    "  template <class T> struct add_rvalue_reference;\n",
    "  \n",
    "  // sign modifications:\n",
    "  template <class T> struct make_signed;\n",
    "  template <class T> struct make_unsigned;\n",
    "  \n",
    "  // array modifications:\n",
    "  template <class T> struct remove_extent;\n",
    "  template <class T> struct remove_all_extents;\n",
    "  \n",
    "  // pointer modifications:\n",
    "  template <class T> struct remove_pointer;\n",
    "  template <class T> struct add_pointer;\n",
    " }"
   ]
  },
  {
   "cell_type": "markdown",
   "metadata": {
    "slideshow": {
     "slide_type": "slide"
    }
   },
   "source": [
    "## Example of type testing\n",
    "\n",
    "Below, the `is_floating_point` metafunction is used to determine if the input type is a floating number. This time, the result of the meta-function is a boolean (from the compiler's point of view, a kind of integer), and is extracted using the syntax `is_floating_point<U>::value`:"
   ]
  },
  {
   "cell_type": "code",
   "execution_count": 8,
   "metadata": {
    "slideshow": {
     "slide_type": "subslide"
    }
   },
   "outputs": [],
   "source": [
    "template <typename T>\n",
    "struct is_floating_point\n",
    " { static const bool value = false ; } ;\n",
    "\n",
    "template <>\n",
    "struct is_floating_point<float>\n",
    " { static const bool value = true ; } ;\n",
    "\n",
    "template <>\n",
    "struct is_floating_point<double>\n",
    " { static const bool value = true ; } ;"
   ]
  },
  {
   "cell_type": "code",
   "execution_count": 9,
   "metadata": {
    "slideshow": {
     "slide_type": "skip"
    }
   },
   "outputs": [],
   "source": [
    "#include <iostream>"
   ]
  },
  {
   "cell_type": "code",
   "execution_count": 10,
   "metadata": {
    "slideshow": {
     "slide_type": "subslide"
    }
   },
   "outputs": [],
   "source": [
    "template< typename T>\n",
    "void check( T v )\n",
    "{\n",
    "  if (is_floating_point<T>::value)\n",
    "    std::cout << v << \" is a floating point number\" << std::endl ;\n",
    "  else \n",
    "    std::cout << v << \" is not a floating point number\" << std::endl ;\n",
    "}"
   ]
  },
  {
   "cell_type": "code",
   "execution_count": 11,
   "metadata": {
    "slideshow": {
     "slide_type": "-"
    }
   },
   "outputs": [
    {
     "name": "stdout",
     "output_type": "stream",
     "text": [
      "42 is not a floating point number\n",
      "3.14 is a floating point number\n"
     ]
    }
   ],
   "source": [
    "check(42) ;\n",
    "check(3.14) ;"
   ]
  },
  {
   "cell_type": "markdown",
   "metadata": {
    "slideshow": {
     "slide_type": "subslide"
    }
   },
   "source": [
    "C++14 offers a little more comfort with variable aliases. We can add an alias to the previous code to make it easier to use, saving us from typing `::value`:"
   ]
  },
  {
   "cell_type": "code",
   "execution_count": 12,
   "metadata": {
    "slideshow": {
     "slide_type": "-"
    }
   },
   "outputs": [],
   "source": [
    "template <typename T>\n",
    "bool is_floating_point_v = is_floating_point<T>::value ;"
   ]
  },
  {
   "cell_type": "code",
   "execution_count": 13,
   "metadata": {
    "slideshow": {
     "slide_type": "-"
    }
   },
   "outputs": [],
   "source": [
    "template< typename T>\n",
    "void check( T v )\n",
    "{\n",
    "  if (is_floating_point_v<T>)\n",
    "    std::cout << v << \" is a floating point number\" << std::endl ;\n",
    "  else \n",
    "    std::cout << v << \" is not a floating point number\" << std::endl ;\n",
    "}"
   ]
  },
  {
   "cell_type": "code",
   "execution_count": 14,
   "metadata": {
    "slideshow": {
     "slide_type": "skip"
    }
   },
   "outputs": [
    {
     "name": "stdout",
     "output_type": "stream",
     "text": [
      "42 is not a floating point number\n",
      "3.14 is a floating point number\n"
     ]
    }
   ],
   "source": [
    "check(42) ;\n",
    "check(3.14) ;"
   ]
  },
  {
   "cell_type": "markdown",
   "metadata": {
    "slideshow": {
     "slide_type": "slide"
    }
   },
   "source": [
    "## In the standard library\n",
    "\n",
    "C++11 introduces a bunch of new traits, e.g. `is_fundamental<T>` (is T a builtin type ?), `is_array<T>` (is T an array?), and `is_base_of<T1, T2>` (is T2 a base class of T1, or T1 itself?). Note that these new traits are all implemented individually to facilitate their composition, rather than grouped together like the C++03 library."
   ]
  },
  {
   "cell_type": "code",
   "execution_count": 23,
   "metadata": {
    "slideshow": {
     "slide_type": "subslide"
    }
   },
   "outputs": [],
   "source": [
    "// primary type categories:\n",
    "template <class T> struct is_void;\n",
    "template <class T> struct is_null_pointer;\n",
    "template <class T> struct is_integral;\n",
    "template <class T> struct is_floating_point;\n",
    "template <class T> struct is_array;\n",
    "template <class T> struct is_pointer;\n",
    "template <class T> struct is_lvalue_reference;\n",
    "template <class T> struct is_rvalue_reference;\n",
    "template <class T> struct is_member_object_pointer;\n",
    "template <class T> struct is_member_function_pointer;\n",
    "template <class T> struct is_enum;\n",
    "template <class T> struct is_union;\n",
    "template <class T> struct is_class;\n",
    "template <class T> struct is_function;"
   ]
  },
  {
   "cell_type": "code",
   "execution_count": 24,
   "metadata": {
    "slideshow": {
     "slide_type": "subslide"
    }
   },
   "outputs": [],
   "source": [
    "// composite type categories:\n",
    "template <class T> struct is_reference;\n",
    "template <class T> struct is_arithmetic;\n",
    "template <class T> struct is_fundamental;\n",
    "template <class T> struct is_object;\n",
    "template <class T> struct is_scalar;\n",
    "template <class T> struct is_compound;\n",
    "template <class T> struct is_member_pointer;"
   ]
  },
  {
   "cell_type": "code",
   "execution_count": 25,
   "metadata": {
    "slideshow": {
     "slide_type": "subslide"
    }
   },
   "outputs": [],
   "source": [
    "// type properties:\n",
    "template <class T> struct is_const;\n",
    "template <class T> struct is_volatile;\n",
    "template <class T> struct is_trivial;\n",
    "template <class T> struct is_trivially_copyable;\n",
    "template <class T> struct is_standard_layout;\n",
    "template <class T> struct is_pod;\n",
    "template <class T> struct is_literal_type;\n",
    "template <class T> struct is_empty;\n",
    "template <class T> struct is_polymorphic;\n",
    "template <class T> struct is_abstract;\n",
    "template <class T> struct is_signed;\n",
    "template <class T> struct is_unsigned;\n",
    "template <class T, class... Args> struct is_constructible;\n",
    "template <class T> struct is_default_constructible;\n",
    "template <class T> struct is_copy_constructible;\n",
    "template <class T> struct is_move_constructible;\n",
    "template <class T, class U> struct is_assignable;\n",
    "template <class T> struct is_copy_assignable;\n",
    "template <class T> struct is_move_assignable;\n",
    "template <class T> struct is_destructible;\n",
    "//..."
   ]
  },
  {
   "cell_type": "code",
   "execution_count": 26,
   "metadata": {
    "slideshow": {
     "slide_type": "subslide"
    }
   },
   "outputs": [],
   "source": [
    "// type relations:\n",
    "template <class T, class U> struct is_same;\n",
    "template <class Base, class Derived> struct is_base_of;\n",
    "template <class From, class To> struct is_convertible;"
   ]
  },
  {
   "cell_type": "markdown",
   "metadata": {},
   "source": [
    "## C++17 flavor"
   ]
  },
  {
   "cell_type": "markdown",
   "metadata": {
    "slideshow": {
     "slide_type": "subslide"
    }
   },
   "source": [
    "Starting with C++17, all the above `is_something` templates, whose result is a variable (usually boolean), and which is accessed by `is_something<T>::value`, have a corresponding variable template `is_something_v<T>`, to save the typing of `::value`. Also, since those values can be evaluated at compile time, they can be combined with the new `if constexpr`."
   ]
  },
  {
   "cell_type": "code",
   "execution_count": 34,
   "metadata": {
    "slideshow": {
     "slide_type": "subslide"
    }
   },
   "outputs": [
    {
     "name": "stdout",
     "output_type": "stream",
     "text": [
      "Overwriting tmp.types-handling.cpp\n"
     ]
    }
   ],
   "source": [
    "%%file tmp.types-handling.cpp\n",
    "\n",
    "#include <iostream>\n",
    "    \n",
    "template <typename T>\n",
    "struct is_floating_point\n",
    " { static const bool value = false ; } ;\n",
    "\n",
    "template <>\n",
    "struct is_floating_point<float>\n",
    " { static const bool value = true ; } ;\n",
    "\n",
    "template <>\n",
    "struct is_floating_point<double>\n",
    " { static const bool value = true ; } ;\n",
    "\n",
    "template <typename T>\n",
    "constexpr bool is_floating_point_v = is_floating_point<T>::value ;\n",
    "\n",
    "template< typename T>\n",
    "void check( T v )\n",
    "{\n",
    "  if constexpr (is_floating_point_v<T>)\n",
    "    std::cout << v << \" is a floating point number\" << std::endl ;\n",
    "  else \n",
    "    std::cout << v << \" is not a floating point number\" << std::endl ;\n",
    "}\n",
    "\n",
    "int main() {\n",
    "  check(42) ;\n",
    "  check(3.14) ;\n",
    "}"
   ]
  },
  {
   "cell_type": "code",
   "execution_count": 35,
   "metadata": {
    "slideshow": {
     "slide_type": "skip"
    }
   },
   "outputs": [],
   "source": [
    "!rm -f tmp.types-handling.exe && g++ -std=c++17 tmp.types-handling.cpp -o tmp.types-handling.exe"
   ]
  },
  {
   "cell_type": "code",
   "execution_count": 36,
   "metadata": {
    "slideshow": {
     "slide_type": "skip"
    }
   },
   "outputs": [
    {
     "name": "stdout",
     "output_type": "stream",
     "text": [
      "42 is not a floating point number\n",
      "3.14 is a floating point number\n"
     ]
    }
   ],
   "source": [
    "!./tmp.types-handling.exe"
   ]
  },
  {
   "attachments": {},
   "cell_type": "markdown",
   "metadata": {
    "slideshow": {
     "slide_type": "slide"
    }
   },
   "source": [
    "## What for ?\n",
    "\n",
    "- In `static_assert`, to check template arguments.\n",
    "- In `if constexpr`, to select a specialized implementation.\n",
    "- In the so-called SFINAE mechanism..."
   ]
  },
  {
   "cell_type": "markdown",
   "metadata": {
    "slideshow": {
     "slide_type": "slide"
    }
   },
   "source": [
    "# Questions ?"
   ]
  },
  {
   "cell_type": "markdown",
   "metadata": {
    "slideshow": {
     "slide_type": "skip"
    }
   },
   "source": [
    "# Exercice\n",
    "\n",
    "1. Make the `times_power_of_two()` function applicable to any type. Notice that the compilation fails for `times_power_of_two(3.14,1)`, because the offset operators `<<` and `>>` do not exist for the `double` type.\n",
    "2. Make `times_power_of_two()` only apply to integer types, using `static_assert` and `std::is_integral<>`. Check that now the compiler refuses to compile `times_power_of_two(3.14,1)`, because the inferred type is not integer."
   ]
  },
  {
   "cell_type": "code",
   "execution_count": 37,
   "metadata": {
    "slideshow": {
     "slide_type": "skip"
    }
   },
   "outputs": [
    {
     "name": "stdout",
     "output_type": "stream",
     "text": [
      "Overwriting tmp.types-handling.cpp\n"
     ]
    }
   ],
   "source": [
    "%%file tmp.types-handling.cpp\n",
    "\n",
    "#include <iostream>\n",
    "\n",
    "int times_power_of_two( int number, int exponent )\n",
    " {\n",
    "  if (exponent<0) { return (number>>-exponent) ; }\n",
    "  else { return (number<<exponent) ; }\n",
    " }\n",
    "\n",
    "int main()\n",
    "{\n",
    "  std::cout<<times_power_of_two(42,1)<<std::endl ;\n",
    "  std::cout<<times_power_of_two(42,-1)<<std::endl ;\n",
    "  std::cout<<times_power_of_two(3.14,1)<<std::endl ;\n",
    "  std::cout<<times_power_of_two(3.14,-1)<<std::endl ;\n",
    "  return 0 ;\n",
    "}"
   ]
  },
  {
   "cell_type": "code",
   "execution_count": 38,
   "metadata": {
    "slideshow": {
     "slide_type": "skip"
    }
   },
   "outputs": [],
   "source": [
    "!rm -f tmp.types-handling.exe && g++ -std=c++17 tmp.types-handling.cpp -o tmp.types-handling.exe"
   ]
  },
  {
   "cell_type": "code",
   "execution_count": 39,
   "metadata": {
    "slideshow": {
     "slide_type": "skip"
    }
   },
   "outputs": [
    {
     "name": "stdout",
     "output_type": "stream",
     "text": [
      "84\n",
      "21\n",
      "6\n",
      "1\n"
     ]
    }
   ],
   "source": [
    "!./tmp.types-handling.exe"
   ]
  },
  {
   "cell_type": "markdown",
   "metadata": {
    "slideshow": {
     "slide_type": "skip"
    }
   },
   "source": [
    "© *CNRS 2021*  \n",
    "*This document was created by David Chamont and translated by Patricia Mary. It is available under the [License Creative Commons - Attribution - No commercial use - Shared under the conditions 4.0 International](http://creativecommons.org/licenses/by-nc-sa/4.0/)*"
   ]
  }
 ],
 "metadata": {
  "celltoolbar": "Diaporama",
  "kernelspec": {
   "display_name": "C++17",
   "language": "C++17",
   "name": "xcpp17"
  },
  "language_info": {
   "codemirror_mode": "text/x-c++src",
   "file_extension": ".cpp",
   "mimetype": "text/x-c++src",
   "name": "c++",
   "version": "17"
  }
 },
 "nbformat": 4,
 "nbformat_minor": 4
}
