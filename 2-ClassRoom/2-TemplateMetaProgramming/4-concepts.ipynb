{
 "cells": [
  {
   "cell_type": "markdown",
   "metadata": {
    "slideshow": {
     "slide_type": "slide"
    }
   },
   "source": [
    "# C++20 requirements & concepts"
   ]
  },
  {
   "cell_type": "markdown",
   "metadata": {
    "slideshow": {
     "slide_type": "slide"
    }
   },
   "source": [
    "## Motivation"
   ]
  },
  {
   "cell_type": "markdown",
   "metadata": {
    "slideshow": {
     "slide_type": "fragment"
    }
   },
   "source": [
    "Generic programming is made of functions and class templates which can be instanciated with different types.\n",
    "It is frequent to instantiate them with **unsuited types**, and the resulting compilation errors are generally very long and hardly understandable."
   ]
  },
  {
   "cell_type": "markdown",
   "metadata": {
    "slideshow": {
     "slide_type": "fragment"
    }
   },
   "source": [
    "As a last resort, the template authors are providing **documentation** about the relevant parameters, and practice some tricky **template meta-programmation**."
   ]
  },
  {
   "cell_type": "markdown",
   "metadata": {
    "slideshow": {
     "slide_type": "fragment"
    }
   },
   "source": [
    "C++20 finally brings simpler ways to define constraint on template parameters !"
   ]
  },
  {
   "cell_type": "markdown",
   "metadata": {
    "slideshow": {
     "slide_type": "skip"
    }
   },
   "source": [
    "Among different proposals, the ISO committee has validated the flavor known as **Concepts Lite**."
   ]
  },
  {
   "cell_type": "markdown",
   "metadata": {
    "slideshow": {
     "slide_type": "subslide"
    }
   },
   "source": [
    "## Requirements and concepts in a nutshell"
   ]
  },
  {
   "cell_type": "markdown",
   "metadata": {
    "slideshow": {
     "slide_type": "fragment"
    }
   },
   "source": [
    "- A template can define **requirements** on some of its type parameters. Compiler error messages better states which parameter value does not fulfill which expected requirement."
   ]
  },
  {
   "cell_type": "markdown",
   "metadata": {
    "slideshow": {
     "slide_type": "fragment"
    }
   },
   "source": [
    "- A typical set of requirements can be gathered in a reusable **concept**. Overload resolution takes those requirements and concepts into account."
   ]
  },
  {
   "cell_type": "markdown",
   "metadata": {
    "slideshow": {
     "slide_type": "fragment"
    }
   },
   "source": [
    "- The standard library now provides many concepts, easy to use. Writing a new perfect concept stays an expert topic."
   ]
  },
  {
   "cell_type": "markdown",
   "metadata": {
    "slideshow": {
     "slide_type": "skip"
    }
   },
   "source": [
    "BEWARE : some example below may require a compiler which support concepts AND the convergence with `auto` which is associated to C++20. If using GCC >= 10, `-fconcepts` or `-fconcepts-ts` is not enough ; you should better use `-std=c++20`."
   ]
  },
  {
   "cell_type": "markdown",
   "metadata": {
    "slideshow": {
     "slide_type": "slide"
    }
   },
   "source": [
    "## Some SFINAE example"
   ]
  },
  {
   "cell_type": "markdown",
   "metadata": {
    "slideshow": {
     "slide_type": "skip"
    }
   },
   "source": [
    "Taking benefit from the type traits `std::is_integral` and `std::is_floating_point`, the C++17 code below is relying on SFINAE in order to implement two flavors of the `equal` function. Depending on `T`, the overload resolution will select one implementation or the other."
   ]
  },
  {
   "cell_type": "code",
   "execution_count": null,
   "metadata": {
    "slideshow": {
     "slide_type": "skip"
    }
   },
   "outputs": [],
   "source": [
    "%%file tmp.concepts.1.h\n",
    "\n",
    "#include <iostream>\n",
    "#include <type_traits>\n",
    "#include <limits>\n",
    "#include <cmath>"
   ]
  },
  {
   "cell_type": "code",
   "execution_count": null,
   "metadata": {
    "slideshow": {
     "slide_type": "subslide"
    }
   },
   "outputs": [],
   "source": [
    "%%file tmp.concepts.2.h\n",
    "\n",
    "template< typename T, std::enable_if_t<!std::is_floating_point_v<T>> * = nullptr>\n",
    "bool equal( T e1, T e2 )\n",
    "{\n",
    "  std::cout<<\"(default) \" ;\n",
    "  return (e1==e2) ;\n",
    "}\n",
    "\n",
    "template< typename T, std::enable_if_t<std::is_floating_point_v<T>> * = nullptr>\n",
    "bool equal( T e1, T e2 )\n",
    "{\n",
    "  std::cout<<\"(floating) \" ;\n",
    "  return abs(e1-e2)<std::numeric_limits<T>::epsilon() ;\n",
    "}"
   ]
  },
  {
   "cell_type": "code",
   "execution_count": null,
   "metadata": {
    "slideshow": {
     "slide_type": "subslide"
    }
   },
   "outputs": [],
   "source": [
    "%%file tmp.concepts.3.h\n",
    "\n",
    "template< typename T >\n",
    "void test_equal( T v1, T v2 )\n",
    "{\n",
    "  std::string cmp = equal(v1,v2)?\"=~\":\"!~\" ;\n",
    "  std::cout<<v1<<cmp<<v2<<std::endl ;\n",
    "}"
   ]
  },
  {
   "cell_type": "code",
   "execution_count": null,
   "metadata": {
    "slideshow": {
     "slide_type": "subslide"
    }
   },
   "outputs": [],
   "source": [
    "%%file tmp.concepts.cpp\n",
    "\n",
    "#include \"tmp.concepts.1.h\"\n",
    "#include \"tmp.concepts.2.h\"\n",
    "#include \"tmp.concepts.3.h\"\n",
    "\n",
    "int main()\n",
    " {\n",
    "  test_equal(100,10*10) ;\n",
    "  test_equal(1.,.1+.1+.1+.1+.1+.1+.1+.1+.1+.1) ;\n",
    " } "
   ]
  },
  {
   "cell_type": "code",
   "execution_count": null,
   "metadata": {
    "slideshow": {
     "slide_type": "skip"
    }
   },
   "outputs": [],
   "source": [
    "!rm -f tmp.concepts.exe && g++ -std=c++20 tmp.concepts.cpp -o tmp.concepts.exe"
   ]
  },
  {
   "cell_type": "code",
   "execution_count": null,
   "metadata": {
    "scrolled": true,
    "slideshow": {
     "slide_type": "-"
    }
   },
   "outputs": [],
   "source": [
    "!./tmp.concepts.exe"
   ]
  },
  {
   "cell_type": "markdown",
   "metadata": {
    "slideshow": {
     "slide_type": "slide"
    }
   },
   "source": [
    "## Basic requirements\n",
    "\n",
    "C++20 let us define many kind of requirements on the template parameters, with a syntax a lot more natural than the previous SFINAE."
   ]
  },
  {
   "cell_type": "code",
   "execution_count": null,
   "metadata": {
    "slideshow": {
     "slide_type": "subslide"
    }
   },
   "outputs": [],
   "source": [
    "%%file tmp.concepts.2.h\n",
    "\n",
    "template< typename T>\n",
    "bool equal( T e1, T e2 )\n",
    "{\n",
    "  std::cout<<\"(default) \" ;\n",
    "  return (e1==e2) ;\n",
    "}\n",
    "\n",
    "template< typename T>\n",
    "requires\n",
    "  (std::is_floating_point_v<T>) &&\n",
    "  (std::numeric_limits<T>::epsilon()>0)\n",
    "bool equal( T e1, T e2 )\n",
    "{\n",
    "  std::cout<<\"(floating) \" ;\n",
    "  return abs(e1-e2)<std::numeric_limits<T>::epsilon() ;\n",
    "}"
   ]
  },
  {
   "cell_type": "code",
   "execution_count": null,
   "metadata": {
    "slideshow": {
     "slide_type": "skip"
    }
   },
   "outputs": [],
   "source": [
    "!rm -f tmp.concepts.exe && g++ -std=c++20 tmp.concepts.cpp -o tmp.concepts.exe"
   ]
  },
  {
   "cell_type": "code",
   "execution_count": null,
   "metadata": {
    "slideshow": {
     "slide_type": "skip"
    }
   },
   "outputs": [],
   "source": [
    "!./tmp.concepts.exe"
   ]
  },
  {
   "cell_type": "markdown",
   "metadata": {
    "slideshow": {
     "slide_type": "skip"
    }
   },
   "source": [
    "To be noticed : in the code above, I can get rid of the requirement about the default implementation of `equal`. When instanciating with a floating point type, the compiler is clever enough to understand that the second implementation meet more requirements, and is more relevant. With SFINAE, this would result into an ambiguity."
   ]
  },
  {
   "cell_type": "markdown",
   "metadata": {
    "slideshow": {
     "slide_type": "slide"
    }
   },
   "source": [
    "## Concepts\n",
    "\n",
    "When a given set of requirements may be reused often, one should gather them in a concept."
   ]
  },
  {
   "cell_type": "code",
   "execution_count": null,
   "metadata": {
    "slideshow": {
     "slide_type": "skip"
    }
   },
   "outputs": [],
   "source": [
    "%%file tmp.concepts.2.h\n",
    "\n",
    "template< typename T>\n",
    "bool equal( T e1, T e2 )\n",
    "{\n",
    "  std::cout<<\"(default) \" ;\n",
    "  return (e1==e2) ;\n",
    "}"
   ]
  },
  {
   "cell_type": "code",
   "execution_count": null,
   "metadata": {
    "slideshow": {
     "slide_type": "subslide"
    }
   },
   "outputs": [],
   "source": [
    "%%file tmp.concepts.4.h\n",
    "\n",
    "template< typename T>\n",
    "concept MyFloatingPoint =\n",
    "  (std::is_floating_point_v<T>) &&\n",
    "  (std::numeric_limits<T>::epsilon()>0) ;\n",
    "\n",
    "template<typename T>\n",
    "requires MyFloatingPoint<T>\n",
    "bool equal( T e1, T e2 )\n",
    "{\n",
    "  std::cout<<\"(floating) \" ;\n",
    "  return abs(e1-e2)<std::numeric_limits<T>::epsilon() ;\n",
    "}"
   ]
  },
  {
   "cell_type": "code",
   "execution_count": null,
   "metadata": {
    "slideshow": {
     "slide_type": "skip"
    }
   },
   "outputs": [],
   "source": [
    "%%file tmp.concepts.cpp\n",
    "\n",
    "#include \"tmp.concepts.1.h\"\n",
    "#include \"tmp.concepts.2.h\"\n",
    "#include \"tmp.concepts.3.h\"\n",
    "#include \"tmp.concepts.4.h\"\n",
    "\n",
    "int main()\n",
    " {\n",
    "  test_equal(100,10*10) ;\n",
    "  test_equal(1.,.1+.1+.1+.1+.1+.1+.1+.1+.1+.1) ;\n",
    " } "
   ]
  },
  {
   "cell_type": "code",
   "execution_count": null,
   "metadata": {
    "slideshow": {
     "slide_type": "skip"
    }
   },
   "outputs": [],
   "source": [
    "!rm -f tmp.concepts.exe && g++ -std=c++20 tmp.concepts.cpp -o tmp.concepts.exe"
   ]
  },
  {
   "cell_type": "code",
   "execution_count": null,
   "metadata": {
    "scrolled": true,
    "slideshow": {
     "slide_type": "skip"
    }
   },
   "outputs": [],
   "source": [
    "!./tmp.concepts.exe"
   ]
  },
  {
   "cell_type": "markdown",
   "metadata": {
    "slideshow": {
     "slide_type": "slide"
    }
   },
   "source": [
    "## Within the template head\n",
    "\n",
    "Actually, when relevant, the concept can be directly used instead of `typename` within the template head."
   ]
  },
  {
   "cell_type": "code",
   "execution_count": null,
   "metadata": {
    "slideshow": {
     "slide_type": "skip"
    }
   },
   "outputs": [],
   "source": [
    "%%file tmp.concepts.4.h\n",
    "\n",
    "template< typename T>\n",
    "concept MyFloatingPoint =\n",
    "  (std::is_floating_point_v<T>) &&\n",
    "  (std::numeric_limits<T>::epsilon()>0) ;"
   ]
  },
  {
   "cell_type": "code",
   "execution_count": null,
   "metadata": {
    "slideshow": {
     "slide_type": "subslide"
    }
   },
   "outputs": [],
   "source": [
    "%%file tmp.concepts.5.h\n",
    "\n",
    "template<MyFloatingPoint T>\n",
    "bool equal( T e1, T e2 )\n",
    "{\n",
    "  std::cout<<\"(floating) \" ;\n",
    "  return abs(e1-e2)<std::numeric_limits<T>::epsilon() ;\n",
    "}"
   ]
  },
  {
   "cell_type": "code",
   "execution_count": null,
   "metadata": {
    "slideshow": {
     "slide_type": "skip"
    }
   },
   "outputs": [],
   "source": [
    "%%file tmp.concepts.cpp\n",
    "\n",
    "#include \"tmp.concepts.1.h\"\n",
    "#include \"tmp.concepts.2.h\"\n",
    "#include \"tmp.concepts.3.h\"\n",
    "#include \"tmp.concepts.4.h\"\n",
    "#include \"tmp.concepts.5.h\"\n",
    "\n",
    "int main()\n",
    " {\n",
    "  test_equal(100,10*10) ;\n",
    "  test_equal(1.,.1+.1+.1+.1+.1+.1+.1+.1+.1+.1) ;\n",
    " } "
   ]
  },
  {
   "cell_type": "code",
   "execution_count": null,
   "metadata": {
    "slideshow": {
     "slide_type": "skip"
    }
   },
   "outputs": [],
   "source": [
    "!rm -f tmp.concepts.exe && g++ -std=c++20 tmp.concepts.cpp -o tmp.concepts.exe"
   ]
  },
  {
   "cell_type": "code",
   "execution_count": null,
   "metadata": {
    "scrolled": true,
    "slideshow": {
     "slide_type": "skip"
    }
   },
   "outputs": [],
   "source": [
    "!./tmp.concepts.exe"
   ]
  },
  {
   "cell_type": "markdown",
   "metadata": {
    "slideshow": {
     "slide_type": "slide"
    }
   },
   "source": [
    "## With abbreviated function templates\n",
    "\n",
    "The concepts can be used together with `auto` in the abbreviated function templates."
   ]
  },
  {
   "cell_type": "code",
   "execution_count": null,
   "metadata": {
    "slideshow": {
     "slide_type": "subslide"
    }
   },
   "outputs": [],
   "source": [
    "%%file tmp.concepts.5.h\n",
    "\n",
    "bool equal( MyFloatingPoint auto e1, MyFloatingPoint auto e2 )\n",
    "{\n",
    "  std::cout<<\"(floating) \" ;\n",
    "  return abs(e1-e2)<std::numeric_limits<decltype(e1)>::epsilon() ;\n",
    "}"
   ]
  },
  {
   "cell_type": "code",
   "execution_count": null,
   "metadata": {
    "slideshow": {
     "slide_type": "skip"
    }
   },
   "outputs": [],
   "source": [
    "!rm -f tmp.concepts.exe && g++ -std=c++20 tmp.concepts.cpp -o tmp.concepts.exe"
   ]
  },
  {
   "cell_type": "code",
   "execution_count": null,
   "metadata": {
    "scrolled": true,
    "slideshow": {
     "slide_type": "skip"
    }
   },
   "outputs": [],
   "source": [
    "!./tmp.concepts.exe"
   ]
  },
  {
   "cell_type": "markdown",
   "metadata": {
    "slideshow": {
     "slide_type": "skip"
    }
   },
   "source": [
    "To be noticed : when using the abbreviated function templates, I cannot any more enforce that `e1` and `e2` are from the same type. Consequently, when looking for the epsilon, I had to choose between the type of `e1` and the type of `e2`."
   ]
  },
  {
   "cell_type": "markdown",
   "metadata": {
    "slideshow": {
     "slide_type": "slide"
    }
   },
   "source": [
    "## Standard concepts\n",
    "\n",
    "Writing a bug-proof concept is actually is really expert task. Whenever you can, use the ones provided by the standard library. Not surprisingly, there is one for floating point numbers."
   ]
  },
  {
   "cell_type": "code",
   "execution_count": null,
   "metadata": {
    "slideshow": {
     "slide_type": "skip"
    }
   },
   "outputs": [],
   "source": [
    "%%file tmp.concepts.1.h\n",
    "\n",
    "#include <iostream>\n",
    "#include <type_traits>\n",
    "#include <cmath>\n",
    "#include <concepts>"
   ]
  },
  {
   "cell_type": "code",
   "execution_count": null,
   "metadata": {
    "slideshow": {
     "slide_type": "subslide"
    }
   },
   "outputs": [],
   "source": [
    "%%file tmp.concepts.5.h\n",
    "\n",
    "bool equal( std::floating_point auto e1, std::floating_point auto e2 )\n",
    "{\n",
    "  std::cout<<\"(floating) \" ;\n",
    "  return abs(e1-e2)<std::numeric_limits<decltype(e1)>::epsilon() ;\n",
    "}"
   ]
  },
  {
   "cell_type": "code",
   "execution_count": null,
   "metadata": {
    "slideshow": {
     "slide_type": "skip"
    }
   },
   "outputs": [],
   "source": [
    "!rm -f tmp.concepts.exe && g++ -std=c++20 tmp.concepts.cpp -o tmp.concepts.exe"
   ]
  },
  {
   "cell_type": "code",
   "execution_count": null,
   "metadata": {
    "scrolled": true,
    "slideshow": {
     "slide_type": "skip"
    }
   },
   "outputs": [],
   "source": [
    "!./tmp.concepts.exe"
   ]
  },
  {
   "cell_type": "markdown",
   "metadata": {
    "slideshow": {
     "slide_type": "slide"
    }
   },
   "source": [
    "## With if constexpr\n",
    "\n",
    "Concepts are usable wherever a boolean is expected, including in the condition of `if constexpr`, because they are evaluated at compile-time."
   ]
  },
  {
   "cell_type": "code",
   "execution_count": null,
   "metadata": {
    "slideshow": {
     "slide_type": "subslide"
    }
   },
   "outputs": [],
   "source": [
    "%%file tmp.concepts.2.h\n",
    "\n",
    "template< typename T>\n",
    "bool equal( T e1, T e2 )\n",
    "{\n",
    "  if constexpr (std::floating_point<T>)\n",
    "  {\n",
    "    std::cout<<\"(floating) \" ;\n",
    "    return abs(e1-e2)<std::numeric_limits<T>::epsilon() ;\n",
    "  }\n",
    "  else\n",
    "  {\n",
    "    std::cout<<\"(default) \" ;\n",
    "    return (e1==e2) ;\n",
    "  }\n",
    "}"
   ]
  },
  {
   "cell_type": "code",
   "execution_count": null,
   "metadata": {
    "slideshow": {
     "slide_type": "skip"
    }
   },
   "outputs": [],
   "source": [
    "%%file tmp.concepts.cpp\n",
    "\n",
    "#include \"tmp.concepts.1.h\"\n",
    "#include \"tmp.concepts.2.h\"\n",
    "#include \"tmp.concepts.3.h\"\n",
    "\n",
    "int main()\n",
    " {\n",
    "  test_equal(100,10*10) ;\n",
    "  test_equal(1.,.1+.1+.1+.1+.1+.1+.1+.1+.1+.1) ;\n",
    " } "
   ]
  },
  {
   "cell_type": "code",
   "execution_count": null,
   "metadata": {
    "slideshow": {
     "slide_type": "skip"
    }
   },
   "outputs": [],
   "source": [
    "!rm -f tmp.concepts.exe && g++ -std=c++20 tmp.concepts.cpp -o tmp.concepts.exe"
   ]
  },
  {
   "cell_type": "code",
   "execution_count": null,
   "metadata": {
    "scrolled": true,
    "slideshow": {
     "slide_type": "skip"
    }
   },
   "outputs": [],
   "source": [
    "!./tmp.concepts.exe"
   ]
  },
  {
   "cell_type": "markdown",
   "metadata": {
    "slideshow": {
     "slide_type": "slide"
    }
   },
   "source": [
    "## Advanced requirements\n",
    "\n",
    "More than the basic requirements seen before, one can use a **requires-expression** : some kind of *pseudo-fonction* which is listing expressions that must be valid."
   ]
  },
  {
   "cell_type": "markdown",
   "metadata": {
    "slideshow": {
     "slide_type": "skip"
    }
   },
   "source": [
    "For example, for the needs of our `test_equal` function, we may want to check that:\n",
    "1. `T` is a number (integral or floating point),\n",
    "2. two such numbers can be given to `equal` and get in return something that can be converted into a boolean,\n",
    "3. can be sent to `std::cout`."
   ]
  },
  {
   "cell_type": "code",
   "execution_count": null,
   "metadata": {
    "slideshow": {
     "slide_type": "subslide"
    }
   },
   "outputs": [],
   "source": [
    "%%file tmp.concepts.3.h\n",
    "\n",
    "template< typename T>\n",
    "concept MyComparable = requires( T v1, T v2 )\n",
    " {\n",
    "  requires std::integral<T> || std::floating_point<T> ;\n",
    "  { equal(v1,v2) } -> std::convertible_to<bool> ;\n",
    "  std::cout<<v1<<v2 ;\n",
    " } ;\n",
    "\n",
    "template< typename T >\n",
    "requires MyComparable<T>\n",
    "void test_equal( T v1, T v2 )\n",
    "{\n",
    "  std::string cmp = equal(v1,v2)?\"=~\":\"!~\" ;\n",
    "  std::cout<<v1<<cmp<<v2<<std::endl ;\n",
    "}"
   ]
  },
  {
   "cell_type": "code",
   "execution_count": null,
   "metadata": {
    "slideshow": {
     "slide_type": "skip"
    }
   },
   "outputs": [],
   "source": [
    "!rm -f tmp.concepts.exe && g++ -std=c++20 tmp.concepts.cpp -o tmp.concepts.exe"
   ]
  },
  {
   "cell_type": "code",
   "execution_count": null,
   "metadata": {
    "scrolled": true,
    "slideshow": {
     "slide_type": "skip"
    }
   },
   "outputs": [],
   "source": [
    "!./tmp.concepts.exe"
   ]
  },
  {
   "cell_type": "markdown",
   "metadata": {
    "slideshow": {
     "slide_type": "slide"
    }
   },
   "source": [
    "## Availability\n",
    "\n",
    "GCC is probably the compiler which better supports this feature today:\n",
    "* GCC 6 : implements the technical specification ISO/IEC TS 19217:2015.\n",
    "* **GCC 10, with `-fconcepts`: implements both syntax and standard library.**\n",
    "* Clang 10 : implements the syntax, but not the standard library.\n",
    "* MSVC 19.23 : partial support of syntax and standard library."
   ]
  },
  {
   "cell_type": "markdown",
   "metadata": {
    "slideshow": {
     "slide_type": "slide"
    }
   },
   "source": [
    "# Questions ?"
   ]
  },
  {
   "cell_type": "markdown",
   "metadata": {
    "slideshow": {
     "slide_type": "skip"
    }
   },
   "source": [
    "# Sources\n",
    "\n",
    "* [Andreas Fertig](https://andreasfertig.info/talks/dl/afertig-2021-cpp-paris-2021-cpp20-templates---the-next-level.pdf)\n",
    "* [Cpp Reference](https://en.cppreference.com/w/cpp/language/constraints)"
   ]
  },
  {
   "cell_type": "markdown",
   "metadata": {
    "slideshow": {
     "slide_type": "skip"
    }
   },
   "source": [
    "© *CNRS 2021*  \n",
    "*Assembled and written by David Chamont, this work is made available according to the terms of the*  \n",
    "[*Creative Commons License - Attribution - NonCommercial - ShareAlike 4.0 International*](http://creativecommons.org/licenses/by-nc-sa/4.0/)"
   ]
  }
 ],
 "metadata": {
  "celltoolbar": "Diaporama",
  "kernelspec": {
   "display_name": "Python 3 (ipykernel)",
   "language": "python",
   "name": "python3"
  },
  "language_info": {
   "codemirror_mode": {
    "name": "ipython",
    "version": 3
   },
   "file_extension": ".py",
   "mimetype": "text/x-python",
   "name": "python",
   "nbconvert_exporter": "python",
   "pygments_lexer": "ipython3",
   "version": "3.11.8"
  }
 },
 "nbformat": 4,
 "nbformat_minor": 4
}
