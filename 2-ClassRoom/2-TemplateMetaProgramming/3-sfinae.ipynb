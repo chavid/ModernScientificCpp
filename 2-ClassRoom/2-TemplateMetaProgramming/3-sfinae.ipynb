{
 "cells": [
  {
   "cell_type": "markdown",
   "metadata": {
    "slideshow": {
     "slide_type": "slide"
    }
   },
   "source": [
    "# At the crossroads between overload and templates"
   ]
  },
  {
   "cell_type": "markdown",
   "metadata": {
    "slideshow": {
     "slide_type": "slide"
    }
   },
   "source": [
    "## Motivation\n",
    "\n",
    "When overloaded function templates and ordinary functions are competing, the function templates are often invasive and the results may be surprising."
   ]
  },
  {
   "cell_type": "markdown",
   "metadata": {
    "slideshow": {
     "slide_type": "skip"
    }
   },
   "source": [
    "Below, what do you think will be displayed ? `(template) 42`, because `42` is by default of type `int`, and will  perfectly match the function template, while the ordinary function requires a conversion. We would have prefered that the function template is only used with floating point types !"
   ]
  },
  {
   "cell_type": "code",
   "execution_count": 9,
   "metadata": {
    "slideshow": {
     "slide_type": "subslide"
    }
   },
   "outputs": [
    {
     "name": "stdout",
     "output_type": "stream",
     "text": [
      "Overwriting tmp.sfinae.cpp\n"
     ]
    }
   ],
   "source": [
    "%%file tmp.sfinae.cpp\n",
    "\n",
    "#include <iostream>\n",
    "\n",
    "bool equal( unsigned e1, unsigned e2 )\n",
    " {\n",
    "  std::cout<<\"(unsigned)\"<<std::endl ;\n",
    "  return (e1==e2) ;\n",
    " }\n",
    "\n",
    "template< typename T >\n",
    "bool equal( T e1, T e2 )\n",
    " {\n",
    "  std::cout<<\"(template)\"<<std::endl ;\n",
    "  return abs(e1-e2)<1e-6 ;\n",
    " }\n",
    "\n",
    "int main()\n",
    " { equal(100,10*10) ; }"
   ]
  },
  {
   "cell_type": "code",
   "execution_count": 10,
   "metadata": {
    "slideshow": {
     "slide_type": "-"
    }
   },
   "outputs": [],
   "source": [
    "!rm -f tmp.sfinae.exe && g++ -std=c++17 tmp.sfinae.cpp -o tmp.sfinae.exe"
   ]
  },
  {
   "cell_type": "code",
   "execution_count": 11,
   "metadata": {
    "slideshow": {
     "slide_type": "-"
    }
   },
   "outputs": [
    {
     "name": "stdout",
     "output_type": "stream",
     "text": [
      "(template)\n"
     ]
    }
   ],
   "source": [
    "!./tmp.sfinae.exe"
   ]
  },
  {
   "cell_type": "markdown",
   "metadata": {
    "slideshow": {
     "slide_type": "slide"
    }
   },
   "source": [
    "## Overload resolution"
   ]
  },
  {
   "cell_type": "markdown",
   "metadata": {
    "slideshow": {
     "slide_type": "subslide"
    }
   },
   "source": [
    "When the compiler encounters a function call, it looks for all candidate functions with the appropriate name, and then selects the one that best matches the arguments of the call: this is what we call the \"overload resolution\"."
   ]
  },
  {
   "cell_type": "markdown",
   "metadata": {
    "slideshow": {
     "slide_type": "fragment"
    }
   },
   "source": [
    "When it examines a candidate function that is a template, the compiler substitutes the types if they are explicitly specified in the call, or it tries to infer them from the function's call arguments."
   ]
  },
  {
   "cell_type": "markdown",
   "metadata": {
    "slideshow": {
     "slide_type": "fragment"
    }
   },
   "source": [
    "Let's change the template return type :"
   ]
  },
  {
   "cell_type": "code",
   "execution_count": 26,
   "metadata": {
    "slideshow": {
     "slide_type": "subslide"
    }
   },
   "outputs": [
    {
     "name": "stdout",
     "output_type": "stream",
     "text": [
      "Overwriting tmp.sfinae.cpp\n"
     ]
    }
   ],
   "source": [
    "%%file tmp.sfinae.cpp\n",
    "\n",
    "#include <iostream>\n",
    "#include <limits>\n",
    "\n",
    "bool equal( unsigned e1, unsigned e2 )\n",
    " {\n",
    "  std::cout<<\"(unsigned)\"<<std::endl ;\n",
    "  return (e1==e2) ;\n",
    " }\n",
    "\n",
    "template< typename T >\n",
    "typename T::bool_type equal( T e1, T e2 )\n",
    " {\n",
    "  std::cout<<\"(template)\"<<std::endl ;\n",
    "  return abs(e1-e2)<std::numeric_limits<T>::epsilon() ;\n",
    " }\n",
    "\n",
    "int main()\n",
    " { equal(100,10*10) ; }"
   ]
  },
  {
   "cell_type": "code",
   "execution_count": 27,
   "metadata": {
    "attributes": {
     "classes": [
      "cpp"
     ],
     "id": ""
    },
    "slideshow": {
     "slide_type": "skip"
    }
   },
   "outputs": [],
   "source": [
    "!rm -f tmp.sfinae.exe && g++ -std=c++17 tmp.sfinae.cpp -o tmp.sfinae.exe"
   ]
  },
  {
   "cell_type": "code",
   "execution_count": 28,
   "metadata": {
    "attributes": {
     "classes": [
      "cpp"
     ],
     "id": ""
    },
    "slideshow": {
     "slide_type": "-"
    }
   },
   "outputs": [
    {
     "name": "stdout",
     "output_type": "stream",
     "text": [
      "(unsigned)\n"
     ]
    }
   ],
   "source": [
    "!./tmp.sfinae.exe"
   ]
  },
  {
   "cell_type": "markdown",
   "metadata": {
    "slideshow": {
     "slide_type": "subslide"
    }
   },
   "source": [
    "This time, the first variant is selected. But all candidates were reviewed, and the template was interpreted (and rejected) in this format :\n",
    "```c++\n",
    "int::bool_type equal( int e1, int e2 )\n",
    "```"
   ]
  },
  {
   "cell_type": "markdown",
   "metadata": {
    "slideshow": {
     "slide_type": "skip"
    }
   },
   "source": [
    "This is an invalid form, since the predefined type `int` has no nested `bool_type`. One could imagine that the compiler emits an error in this case, but this would make the generic code writing  extremely difficult. The standard therefore recommends that when the type deduction has failed, then the candidate template should be ignored, but **it is not a compilation error**."
   ]
  },
  {
   "cell_type": "markdown",
   "metadata": {
    "slideshow": {
     "slide_type": "slide"
    }
   },
   "source": [
    "## SFINAE\n",
    "\n",
    "In C++ jargon, this rule is called SFINAE (Substitution Failure Is Not An Error). The standard specifies that the rule applies to the the *immediate environment* of the function template, i.e. everything that is involved in the declaration of the function, not in its definition, i.e. the body of the function. Let's modify a little our previous\n",
    "example:"
   ]
  },
  {
   "cell_type": "code",
   "execution_count": 15,
   "metadata": {
    "slideshow": {
     "slide_type": "subslide"
    }
   },
   "outputs": [
    {
     "name": "stdout",
     "output_type": "stream",
     "text": [
      "Overwriting tmp.sfinae.cpp\n"
     ]
    }
   ],
   "source": [
    "%%file tmp.sfinae.cpp\n",
    "\n",
    "#include <iostream>\n",
    "\n",
    "bool equal( unsigned e1, unsigned e2 )\n",
    " {\n",
    "  std::cout<<\"(unsigned)\"<<std::endl ;\n",
    "  return (e1==e2) ;\n",
    " }\n",
    "\n",
    "template< typename T >\n",
    "bool equal( T e1, T e2 )\n",
    " {\n",
    "  std::cout<<\"(template)\"<<std::endl ;\n",
    "  typename T::bool_type res = abs(e1-e2)<1e-6 ;\n",
    "  return res ;\n",
    " }\n",
    "\n",
    "int main()\n",
    " { equal(100,10*10) ; }"
   ]
  },
  {
   "cell_type": "code",
   "execution_count": 16,
   "metadata": {
    "slideshow": {
     "slide_type": "fragment"
    }
   },
   "outputs": [
    {
     "name": "stdout",
     "output_type": "stream",
     "text": [
      "tmp.sfinae.cpp: In instantiation of 'bool equal(T, T) [with T = int]':\n",
      "tmp.sfinae.cpp:19:19:   required from here\n",
      "tmp.sfinae.cpp:14:25: error: 'int' is not a class, struct, or union type\n",
      "   14 |   typename T::bool_type res = abs(e1-e2)<1e-6 ;\n",
      "      |                         ^~~\n",
      "tmp.sfinae.cpp:14:25: error: 'int' is not a class, struct, or union type\n"
     ]
    }
   ],
   "source": [
    "!rm -f tmp.sfinae.exe && g++ -std=c++17 tmp.sfinae.cpp -o tmp.sfinae.exe"
   ]
  },
  {
   "cell_type": "markdown",
   "metadata": {
    "slideshow": {
     "slide_type": "skip"
    }
   },
   "source": [
    "This time, if the candidate function is selected to solve a function call,  with a builtin type for `T` (e.g. `int` as before), we will indeed have a compilation error. Of course, we prefer when the candidate function is only ignored, and does not hide another function which would fit better. "
   ]
  },
  {
   "cell_type": "markdown",
   "metadata": {
    "slideshow": {
     "slide_type": "subslide"
    }
   },
   "source": [
    "The moral is that when you write a function template that has no mean with certain types, **try to formulate a declaration that will cause the type substitution to fail**, so that an inappropriate type does not go beyond the stage of the overload resolution."
   ]
  },
  {
   "cell_type": "markdown",
   "metadata": {
    "slideshow": {
     "slide_type": "slide"
    }
   },
   "source": [
    "## `enable_if`\n",
    "\n",
    "Very early in the history of C++, SFINAE became a mechanism that was used on purpose, when people realized it allowed\n",
    "to write templates triggered only by appropriate parameters, instead of catching everything that comes along."
   ]
  },
  {
   "cell_type": "markdown",
   "metadata": {
    "slideshow": {
     "slide_type": "subslide"
    }
   },
   "source": [
    "`enable_if` is a very appreciated utility meta-fonction: it is receiving an input type and a boolean expression, and it \"returns\" the same type as output, if and only if the boolean is true. Of course, C++14 brings a `_t` alias:"
   ]
  },
  {
   "cell_type": "code",
   "execution_count": 1,
   "metadata": {
    "slideshow": {
     "slide_type": "-"
    }
   },
   "outputs": [],
   "source": [
    "template <bool, typename T = void>\n",
    "struct enable_if\n",
    " {} ;\n",
    "\n",
    "template <typename T>\n",
    "struct enable_if<true, T>\n",
    " { using type = T ; } ;\n",
    "\n",
    "template <bool b, typename T>\n",
    "using enable_if_t = typename enable_if<b, T>::type ;"
   ]
  },
  {
   "cell_type": "markdown",
   "metadata": {
    "slideshow": {
     "slide_type": "subslide"
    }
   },
   "source": [
    "In the context of a given template, by replacing any occurrence of a type `T` with an `enable_if_t<condition,T>`, we make sure that the substitution fails if the condition is `false`, and that the template is discarded when solving the overload. For example:"
   ]
  },
  {
   "cell_type": "code",
   "execution_count": 1,
   "metadata": {
    "slideshow": {
     "slide_type": "skip"
    }
   },
   "outputs": [],
   "source": [
    "#include <iostream>"
   ]
  },
  {
   "cell_type": "code",
   "execution_count": 2,
   "metadata": {
    "slideshow": {
     "slide_type": "-"
    }
   },
   "outputs": [],
   "source": [
    "template <typename T>\n",
    "bool equal( T e1, T e2, std::enable_if_t<std::is_floating_point_v<T>,T> epsilon = 1e-6 )\n",
    " {\n",
    "  std::cout<<\"(template)\"<<std::endl ;\n",
    "  return abs(e1-e2)<epsilon ;\n",
    " }"
   ]
  },
  {
   "cell_type": "markdown",
   "metadata": {
    "slideshow": {
     "slide_type": "subslide"
    }
   },
   "source": [
    "In order not to affect readability too much, it is now recommended to add a fake template parameter, i.e. a pointer to an `enable_if`, with a default value of `nullptr`. This parameter is of no use, except to make the resolution of the overload fail when the condition is `false`."
   ]
  },
  {
   "cell_type": "code",
   "execution_count": 3,
   "metadata": {
    "attributes": {
     "classes": [
      "cpp"
     ],
     "id": ""
    },
    "slideshow": {
     "slide_type": "subslide"
    }
   },
   "outputs": [
    {
     "name": "stdout",
     "output_type": "stream",
     "text": [
      "Writing tmp.sfinae.cpp\n"
     ]
    }
   ],
   "source": [
    "%%file tmp.sfinae.cpp\n",
    "\n",
    "#include <iostream>\n",
    "#include <type_traits>\n",
    "\n",
    "bool equal( unsigned e1, unsigned e2 )\n",
    " {\n",
    "  std::cout<<\"(unsigned)\"<<std::endl ;\n",
    "  return (e1==e2) ;\n",
    " }\n",
    "\n",
    "template< typename T, std::enable_if_t<std::is_floating_point_v<T>> * = nullptr >\n",
    "bool equal( T e1, T e2, T epsilon = 1e-6 )\n",
    " {\n",
    "  std::cout<<\"(template)\"<<std::endl ;\n",
    "  return abs(e1-e2)<epsilon ;\n",
    " }\n",
    "\n",
    "int main()\n",
    " { equal(100,10*10) ; }"
   ]
  },
  {
   "cell_type": "code",
   "execution_count": 4,
   "metadata": {
    "attributes": {
     "classes": [
      "cpp"
     ],
     "id": ""
    },
    "slideshow": {
     "slide_type": "skip"
    }
   },
   "outputs": [],
   "source": [
    "!rm -f tmp.sfinae.exe && g++ -std=c++17 tmp.sfinae.cpp -o tmp.sfinae.exe"
   ]
  },
  {
   "cell_type": "code",
   "execution_count": 5,
   "metadata": {
    "slideshow": {
     "slide_type": "-"
    }
   },
   "outputs": [
    {
     "name": "stdout",
     "output_type": "stream",
     "text": [
      "(unsigned)\n"
     ]
    }
   ],
   "source": [
    "!./tmp.sfinae.exe"
   ]
  },
  {
   "cell_type": "markdown",
   "metadata": {
    "attributes": {
     "classes": [
      "cpp"
     ],
     "id": ""
    },
    "collapsed": true,
    "jupyter": {
     "outputs_hidden": true
    },
    "slideshow": {
     "slide_type": "subslide"
    }
   },
   "source": [
    "At this stage, we can even put in competition two function templates, one that activates for floating numbers, and the other for non-floating numbers."
   ]
  },
  {
   "cell_type": "code",
   "execution_count": 6,
   "metadata": {
    "attributes": {
     "classes": [
      "cpp"
     ],
     "id": ""
    },
    "slideshow": {
     "slide_type": "subslide"
    }
   },
   "outputs": [
    {
     "name": "stdout",
     "output_type": "stream",
     "text": [
      "Overwriting tmp.sfinae.cpp\n"
     ]
    }
   ],
   "source": [
    "%%file tmp.sfinae.cpp\n",
    "\n",
    "#include <iostream>\n",
    "#include <type_traits>\n",
    "\n",
    "template< typename T, std::enable_if_t<!std::is_floating_point_v<T>> * = nullptr >\n",
    "bool equal( T e1, T e2 )\n",
    " { std::cout<<\"(non floating)\"<<std::endl ; return (e1==e2) ; }\n",
    "\n",
    "template< typename T, std::enable_if_t<std::is_floating_point_v<T>> * = nullptr >\n",
    "bool equal( T e1, T e2, T epsilon = 1e-6 )\n",
    " { std::cout<<\"(floating)\"<<std::endl ; return abs(e1-e2)<epsilon ; }\n",
    "\n",
    "int main()\n",
    " {\n",
    "  equal(100,10*10) ;\n",
    "  equal(1.,.1+.1+.1+.1+.1+.1+.1+.1+.1+.1) ;\n",
    " }"
   ]
  },
  {
   "cell_type": "code",
   "execution_count": 7,
   "metadata": {
    "attributes": {
     "classes": [
      "cpp"
     ],
     "id": ""
    },
    "slideshow": {
     "slide_type": "skip"
    }
   },
   "outputs": [],
   "source": [
    "!rm -f tmp.sfinae.exe && g++ -std=c++17 tmp.sfinae.cpp -o tmp.sfinae.exe"
   ]
  },
  {
   "cell_type": "code",
   "execution_count": 8,
   "metadata": {
    "slideshow": {
     "slide_type": "-"
    }
   },
   "outputs": [
    {
     "name": "stdout",
     "output_type": "stream",
     "text": [
      "(non floating)\n",
      "(floating)\n"
     ]
    }
   ],
   "source": [
    "!./tmp.sfinae.exe"
   ]
  },
  {
   "cell_type": "markdown",
   "metadata": {
    "slideshow": {
     "slide_type": "slide"
    }
   },
   "source": [
    "# Questions ?"
   ]
  },
  {
   "cell_type": "markdown",
   "metadata": {
    "slideshow": {
     "slide_type": "skip"
    }
   },
   "source": [
    "# Exercise\n",
    "\n",
    "1. Instead of the `static_assert`, use an `std::enable_if<>` in the context of the `times_power_of_two()` function. Check that the compiler always refuses to compile `times_power_of_two(3.14,1)`, on the grounds that it can't find a \n",
    "`times_power_of_two` for the type of 3.14.\n",
    "1. Uncomment the second function `times_power_of_two()` for doubles, and transform it into a template similar to the above one, yet checking the type parameter is a floating point type.\n",
    "1. Finally, try to join them into a single universal `times_power_of_two()` function, using `if constexpr`."
   ]
  },
  {
   "cell_type": "code",
   "execution_count": null,
   "metadata": {
    "slideshow": {
     "slide_type": "skip"
    }
   },
   "outputs": [],
   "source": [
    "%%file tmp.sfinae.cpp\n",
    "\n",
    "#include <iostream>\n",
    "\n",
    "template < typename T >\n",
    "T times_power_of_two( T number, int exponent )\n",
    " {\n",
    "  static_assert(std::is_integral_v<T>,\"the type must be an integer !\") ;\n",
    "  if (exponent<0) { return (number>>-exponent) ; }\n",
    "  else { return (number<<exponent) ; }\n",
    " }\n",
    "\n",
    "//double times_power_of_two( double number, int exponent )\n",
    "// {\n",
    "//  while (exponent<0) { number /= 2 ; exponent++ ; }\n",
    "//  while (exponent>0) { number *= 2 ; exponent-- ; }\n",
    "//  return number ;\n",
    "// }\n",
    "\n",
    "int main()\n",
    "{\n",
    "  std::cout<<times_power_of_two(42,1)<<std::endl ;\n",
    "  std::cout<<times_power_of_two(42,-1)<<std::endl ;\n",
    "  std::cout<<times_power_of_two(3.14,1)<<std::endl ;\n",
    "  std::cout<<times_power_of_two(3.14,-1)<<std::endl ;\n",
    "  return 0 ;\n",
    "}"
   ]
  },
  {
   "cell_type": "code",
   "execution_count": null,
   "metadata": {
    "slideshow": {
     "slide_type": "skip"
    }
   },
   "outputs": [],
   "source": [
    "!rm -f tmp.sfinae.exe && g++ -std=c++17 tmp.sfinae.cpp -o tmp.sfinae.exe"
   ]
  },
  {
   "cell_type": "code",
   "execution_count": null,
   "metadata": {
    "slideshow": {
     "slide_type": "skip"
    }
   },
   "outputs": [],
   "source": [
    "!./tmp.sfinae.exe"
   ]
  },
  {
   "cell_type": "markdown",
   "metadata": {
    "slideshow": {
     "slide_type": "skip"
    }
   },
   "source": [
    "© *CNRS 2021*  \n",
    "*This document was created by David Chamont and translated by Patricia Mary. It is available under the [License Creative Commons - Attribution - No commercial use - Shared under the conditions 4.0 International](http://creativecommons.org/licenses/by-nc-sa/4.0/)*"
   ]
  }
 ],
 "metadata": {
  "celltoolbar": "Diaporama",
  "kernelspec": {
   "display_name": "C++17",
   "language": "C++17",
   "name": "xcpp17"
  },
  "language_info": {
   "codemirror_mode": "text/x-c++src",
   "file_extension": ".cpp",
   "mimetype": "text/x-c++src",
   "name": "c++",
   "version": "17"
  }
 },
 "nbformat": 4,
 "nbformat_minor": 4
}
