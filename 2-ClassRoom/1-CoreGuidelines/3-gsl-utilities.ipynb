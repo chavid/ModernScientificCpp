{
 "cells": [
  {
   "cell_type": "markdown",
   "metadata": {
    "slideshow": {
     "slide_type": "slide"
    }
   },
   "source": [
    "# Miscellaneous GSL utilities\n",
    "\n",
    "Some isolated utilities, which sometimes prefigure features to come in the next versions of the C ++ standard and its library."
   ]
  },
  {
   "cell_type": "markdown",
   "metadata": {
    "slideshow": {
     "slide_type": "slide"
    }
   },
   "source": [
    "## \"C-style\" strings `gsl::zstring` and `gsl::czstring`\n",
    "\n",
    "The two aliases below simply allow to draw attention to strings that are supposed to end with a null character:\n",
    "* `zstring`: `char *`, being `nullptr` or pointing to a C-style string;\n",
    "* `czstring`: `char const *`, being `nullptr` or pointing to a C-style string."
   ]
  },
  {
   "cell_type": "markdown",
   "metadata": {
    "slideshow": {
     "slide_type": "subslide"
    }
   },
   "source": [
    "If your C-style string pointer should not be null, use `gsl::not_null<zstring>`."
   ]
  },
  {
   "cell_type": "markdown",
   "metadata": {
    "slideshow": {
     "slide_type": "subslide"
    }
   },
   "source": [
    "If your string is not supposed to end with a null character, use `string_view`."
   ]
  },
  {
   "cell_type": "markdown",
   "metadata": {
    "slideshow": {
     "slide_type": "slide"
    }
   },
   "source": [
    "## For generic and efficient access to strings: `std::string_view`"
   ]
  },
  {
   "cell_type": "markdown",
   "metadata": {
    "slideshow": {
     "slide_type": "fragment"
    }
   },
   "source": [
    "The `std::string` class is both very convenient and very expensive."
   ]
  },
  {
   "cell_type": "markdown",
   "metadata": {
    "slideshow": {
     "slide_type": "fragment"
    }
   },
   "source": [
    "On the model of `gsl::span`, a *view* was proposed for string, renamed into `std::string_view` upon integration into C++17."
   ]
  },
  {
   "cell_type": "markdown",
   "metadata": {
    "slideshow": {
     "slide_type": "subslide"
    }
   },
   "source": [
    "Composed of a pointer and a size, the `std::string_view` class allows to create easily and quickly a **constant non-owner view to a sequence of contiguous characters in memory**: not just on top of a `std::string`, but also a simple literal string or a `Qstring` (Qt)."
   ]
  },
  {
   "cell_type": "markdown",
   "metadata": {
    "slideshow": {
     "slide_type": "fragment"
    }
   },
   "source": [
    "As `string_view` stores the size of the string, the underlying string does not necessarily need to end with a character `0`."
   ]
  },
  {
   "cell_type": "markdown",
   "metadata": {
    "slideshow": {
     "slide_type": "subslide"
    }
   },
   "source": [
    "Writing a function receiving a `string_view` (rather than a `std::string const &`) has benefits:"
   ]
  },
  {
   "cell_type": "markdown",
   "metadata": {
    "slideshow": {
     "slide_type": "fragment"
    }
   },
   "source": [
    "* more efficiency than `std::string` with a literal string;"
   ]
  },
  {
   "cell_type": "markdown",
   "metadata": {
    "slideshow": {
     "slide_type": "fragment"
    }
   },
   "source": [
    "* capacity of receiving all kinds of strings as input;"
   ]
  },
  {
   "cell_type": "markdown",
   "metadata": {
    "slideshow": {
     "slide_type": "fragment"
    }
   },
   "source": [
    "* efficient creation of a substrings because the final `0` character is no longer necessary."
   ]
  },
  {
   "cell_type": "markdown",
   "metadata": {
    "slideshow": {
     "slide_type": "subslide"
    }
   },
   "source": [
    "**Be careful**: the `string_view` does not own or duplicate the underlying data. Be careful not to use a view when its underlying data has disappeared."
   ]
  },
  {
   "cell_type": "markdown",
   "metadata": {
    "slideshow": {
     "slide_type": "fragment"
    }
   },
   "source": [
    "In addition, by going through a `string_view`, we lose the guarantee of having the final `0`. If the string must then be passed to other functions that expect the terminal `0`, it is better to use `string` from the beginning."
   ]
  },
  {
   "cell_type": "markdown",
   "metadata": {
    "slideshow": {
     "slide_type": "slide"
    }
   },
   "source": [
    "## Contracts\n",
    "\n",
    "GSL offers two dedicated assertions to validate *pre-conditions* and *post-conditions*.\n",
    "* `Expects(p)`: stop the application unless `p == true`.\n",
    "* `Ensures(p)`: stop the application unless `p == true`."
   ]
  },
  {
   "cell_type": "markdown",
   "metadata": {
    "slideshow": {
     "slide_type": "subslide"
    }
   },
   "source": [
    "These assertions are **currently implemented via macros**, and must be placed in the body of functions, while waiting for future decisions of the standardization committee that deals with contracts and syntax of assertions."
   ]
  },
  {
   "cell_type": "markdown",
   "metadata": {
    "slideshow": {
     "slide_type": "fragment"
    }
   },
   "source": [
    "In the [Contract Proposal](http://www.open-std.org/jtc1/sc22/wg21/docs/papers/2016/p0380r1.pdf), it is proposed to to move these declarations to the level of function declarations and use some specifiers such as `[[expects: p]]`."
   ]
  },
  {
   "cell_type": "markdown",
   "metadata": {
    "slideshow": {
     "slide_type": "fragment"
    }
   },
   "source": [
    "The contracts are not yet in C++23. Perhaps in C++ 26 ?"
   ]
  },
  {
   "cell_type": "code",
   "execution_count": null,
   "metadata": {
    "slideshow": {
     "slide_type": "subslide"
    }
   },
   "outputs": [],
   "source": [
    "%%file tmp.gsl-utilities.cpp\n",
    "\n",
    "#include <iostream>\n",
    "#include <gsl/gsl>\n",
    "\n",
    "void divide( double num, double den ) {\n",
    "    Expects(den!=0) ;\n",
    "    std::cout<<(num/den)<<std::endl ;\n",
    "}\n",
    "\n",
    "int main() {\n",
    "    divide(5,0) ;\n",
    "}"
   ]
  },
  {
   "cell_type": "code",
   "execution_count": null,
   "metadata": {
    "slideshow": {
     "slide_type": "skip"
    }
   },
   "outputs": [],
   "source": [
    "!rm -f tmp.gsl-utilities.exe && g++ -std=c++17 -I./ tmp.gsl-utilities.cpp -o tmp.gsl-utilities.exe"
   ]
  },
  {
   "cell_type": "code",
   "execution_count": null,
   "metadata": {
    "slideshow": {
     "slide_type": "fragment"
    }
   },
   "outputs": [],
   "source": [
    "!./tmp.gsl-utilities.exe"
   ]
  },
  {
   "cell_type": "markdown",
   "metadata": {
    "slideshow": {
     "slide_type": "skip"
    }
   },
   "source": [
    "## Final action: `finally()`\n",
    "\n",
    "As a last resort, when the resources management tools are not sufficient, we can define a function to be invoked at the end of a block."
   ]
  },
  {
   "cell_type": "code",
   "execution_count": null,
   "metadata": {
    "slideshow": {
     "slide_type": "skip"
    }
   },
   "outputs": [],
   "source": [
    "%%file tmp.gsl-utilities.cpp\n",
    "\n",
    "#include <iostream>\n",
    "#include <gsl/gsl>\n",
    "\n",
    "struct Demo {\n",
    "    Demo() { std::cout<<\"Constructor\"<<std::endl ; }\n",
    "    ~Demo() { std::cout<<\"Destructor\"<<std::endl ; }\n",
    "} ;\n",
    "\n",
    "int main() {\n",
    "    Demo * d {new Demo} ;\n",
    "    auto _ { gsl::finally( [d](){ delete d ; } ) } ;\n",
    "    // ...\n",
    "}"
   ]
  },
  {
   "cell_type": "code",
   "execution_count": null,
   "metadata": {
    "slideshow": {
     "slide_type": "skip"
    }
   },
   "outputs": [],
   "source": [
    "!rm -f tmp.gsl-utilities.exe && g++ -std=c++17 -I./ tmp.gsl-utilities.cpp -o tmp.gsl-utilities.exe"
   ]
  },
  {
   "cell_type": "code",
   "execution_count": null,
   "metadata": {
    "slideshow": {
     "slide_type": "skip"
    }
   },
   "outputs": [],
   "source": [
    "!./tmp.gsl-utilities.exe"
   ]
  },
  {
   "cell_type": "markdown",
   "metadata": {
    "slideshow": {
     "slide_type": "slide"
    }
   },
   "source": [
    "## Numerical utilities: `narrow_cast<T>(x)` and `narrow<T>(x)`"
   ]
  },
  {
   "cell_type": "markdown",
   "metadata": {
    "slideshow": {
     "slide_type": "fragment"
    }
   },
   "source": [
    "The first one, `narrow_cast<T>(x)`, is just a statement for programmers or testing tools. It clarifies the fact that the developer wants **voluntarily** to force a value to a less precise type. "
   ]
  },
  {
   "cell_type": "markdown",
   "metadata": {
    "slideshow": {
     "slide_type": "fragment"
    }
   },
   "source": [
    "The second one, `narrow<T>(x)`, also checks at runtime that the value `x` was not modified when its type was transformed into a `T`, and throws an exception (or terminates the program) otherwise (if `static_cast<T>(x) != x`)."
   ]
  },
  {
   "cell_type": "code",
   "execution_count": null,
   "metadata": {
    "slideshow": {
     "slide_type": "subslide"
    }
   },
   "outputs": [],
   "source": [
    "%%file tmp.gsl-utilities.cpp\n",
    "\n",
    "#include <iostream>\n",
    "#include <gsl/gsl>\n",
    "\n",
    "int main() {\n",
    "    double d { 3.14 } ;\n",
    "    int i { gsl::narrow<int>(d) } ;\n",
    "    std::cout<<i<<std::endl ;\n",
    "}"
   ]
  },
  {
   "cell_type": "code",
   "execution_count": null,
   "metadata": {
    "slideshow": {
     "slide_type": "skip"
    }
   },
   "outputs": [],
   "source": [
    "!rm -f tmp.gsl-utilities.exe && g++ -std=c++17 -I./ tmp.gsl-utilities.cpp -o tmp.gsl-utilities.exe"
   ]
  },
  {
   "cell_type": "code",
   "execution_count": null,
   "metadata": {
    "slideshow": {
     "slide_type": "fragment"
    }
   },
   "outputs": [],
   "source": [
    "!./tmp.gsl-utilities.exe"
   ]
  },
  {
   "cell_type": "markdown",
   "metadata": {
    "slideshow": {
     "slide_type": "slide"
    }
   },
   "source": [
    "# Questions ?"
   ]
  },
  {
   "cell_type": "markdown",
   "metadata": {
    "slideshow": {
     "slide_type": "skip"
    }
   },
   "source": [
    "## Exercise\n",
    "\n",
    "Create your own minimal `my_narrow`, so that the program below accept the narrowing of `42`, but will crash when trying to narrow `3.14`."
   ]
  },
  {
   "cell_type": "code",
   "execution_count": null,
   "metadata": {
    "slideshow": {
     "slide_type": "skip"
    }
   },
   "outputs": [],
   "source": [
    "%%file tmp.gsl-utilities.cpp\n",
    "\n",
    "#include <iostream>\n",
    "#include <cassert>\n",
    "\n",
    "// ... PUT HERE YOUR IMPLEMENTATION OF my_narrow  ...\n",
    " \n",
    "int main()\n",
    " {\n",
    "  double d1 {42} ;\n",
    "  int i1 {my_narrow<int>(d1)} ;\n",
    "  std::cout<<i1<<std::endl ;\n",
    "    \n",
    "  double d2 {3.14} ;\n",
    "  int i2 {my_narrow<int>(d2)} ;\n",
    "  std::cout<<i2<<std::endl ;\n",
    " }"
   ]
  },
  {
   "cell_type": "code",
   "execution_count": null,
   "metadata": {
    "slideshow": {
     "slide_type": "skip"
    }
   },
   "outputs": [],
   "source": [
    "!rm -f tmp.gsl-utilities.exe && g++ -std=c++17 -I./ tmp.gsl-utilities.cpp -o tmp.gsl-utilities.exe"
   ]
  },
  {
   "cell_type": "code",
   "execution_count": null,
   "metadata": {
    "slideshow": {
     "slide_type": "skip"
    }
   },
   "outputs": [],
   "source": [
    "!./tmp.gsl-utilities.exe"
   ]
  },
  {
   "cell_type": "markdown",
   "metadata": {
    "slideshow": {
     "slide_type": "skip"
    }
   },
   "source": [
    "## Sources\n",
    "\n",
    "* https://stackoverflow.com/questions/40127965/how-exactly-is-stdstring-view-faster-than-const-stdstring\n",
    "* http://isocpp.github.io/CppCoreGuidelines/CppCoreGuidelines#gsl-guidelines-support-library\n",
    "* http://modernescpp.com/index.php/c-core-guideline-the-guidelines-support-library\n",
    "* http://nullptr.nl/2018/08/refurbish-legacy-code/"
   ]
  },
  {
   "cell_type": "markdown",
   "metadata": {
    "slideshow": {
     "slide_type": "skip"
    }
   },
   "source": [
    "© *CNRS 2024*  \n",
    "*This document was created by David Chamont and translated by Olga Abramkina. It is available under the [License Creative Commons - Attribution - No commercial use - Shared under the conditions 4.0 International](http://creativecommons.org/licenses/by-nc-sa/4.0/)*"
   ]
  }
 ],
 "metadata": {
  "celltoolbar": "Diaporama",
  "kernelspec": {
   "display_name": "Python 3 (ipykernel)",
   "language": "python",
   "name": "python3"
  },
  "language_info": {
   "codemirror_mode": {
    "name": "ipython",
    "version": 3
   },
   "file_extension": ".py",
   "mimetype": "text/x-python",
   "name": "python",
   "nbconvert_exporter": "python",
   "pygments_lexer": "ipython3",
   "version": "3.11.8"
  }
 },
 "nbformat": 4,
 "nbformat_minor": 4
}
