{
 "cells": [
  {
   "cell_type": "markdown",
   "metadata": {
    "slideshow": {
     "slide_type": "slide"
    }
   },
   "source": [
    "<img src=\"img/cpp_core_guidelines_logo.png\" width=60px align=\"right\"/>\n",
    "\n",
    "# Hiding Pointers - Cpp Core Guidelines & Guidelines Support Library\n",
    "\n",
    "2015 : Stroustrup and Sutter formalized a draft [coding guidelines](http://isocpp.github.io/CppCoreGuidelines/CppCoreGuidelines), established on an \"informal\" basis with a few experts. This tends to be now the reference for good practices."
   ]
  },
  {
   "cell_type": "markdown",
   "metadata": {
    "slideshow": {
     "slide_type": "subslide"
    }
   },
   "source": [
    "### Goals\n",
    "* Facilitate the adoption of modern C ++.\n",
    "* Reference and reinforce good practices.\n",
    "* Favor automatically verifiable rules, and thus promote the emergence of verification tools."
   ]
  },
  {
   "cell_type": "markdown",
   "metadata": {
    "slideshow": {
     "slide_type": "subslide"
    }
   },
   "source": [
    "The rules specify a header library called **Guideline Support Library (GSL)**\n",
    "* [Microsoft implementation](https://github.com/microsoft/gsl) requires C++14.\n",
    "* The one implemented by Martin Moene, [GSL-lite](https://github.com/martinmoene/gsl-lite), is operational starting C++98.\n",
    "* Some of the GSL proposals have been incorporated into C++11/14/17/20/23..."
   ]
  },
  {
   "cell_type": "markdown",
   "metadata": {
    "slideshow": {
     "slide_type": "subslide"
    }
   },
   "source": [
    "A common point to many proposals is an increase of abstraction level. Instead of just exposing the implementation and the language mechanisms used, they strive to **better express the developer's intention**."
   ]
  },
  {
   "cell_type": "markdown",
   "metadata": {
    "slideshow": {
     "slide_type": "subslide"
    }
   },
   "source": [
    "### To be continued\n",
    "* [Pointers](1-gsl-pointers.ipynb)\n",
    "* [Arrays](2-gsl-arrays.ipynb)\n",
    "* [Utilities](3-gsl-utilities.ipynb)"
   ]
  },
  {
   "cell_type": "markdown",
   "metadata": {
    "slideshow": {
     "slide_type": "skip"
    }
   },
   "source": [
    "© *CNRS 2024*  \n",
    "*This document was created by David Chamont and translated by Olga Abramkina. It is available under the [License Creative Commons - Attribution - No commercial use - Shared under the conditions 4.0 International](http://creativecommons.org/licenses/by-nc-sa/4.0/)*"
   ]
  }
 ],
 "metadata": {
  "celltoolbar": "Diaporama",
  "kernelspec": {
   "display_name": "Python 3 (ipykernel)",
   "language": "python",
   "name": "python3"
  },
  "language_info": {
   "codemirror_mode": {
    "name": "ipython",
    "version": 3
   },
   "file_extension": ".py",
   "mimetype": "text/x-python",
   "name": "python",
   "nbconvert_exporter": "python",
   "pygments_lexer": "ipython3",
   "version": "3.11.8"
  }
 },
 "nbformat": 4,
 "nbformat_minor": 4
}
