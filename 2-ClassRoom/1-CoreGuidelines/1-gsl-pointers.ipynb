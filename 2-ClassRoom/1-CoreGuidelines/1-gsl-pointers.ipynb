{
 "cells": [
  {
   "cell_type": "markdown",
   "metadata": {
    "slideshow": {
     "slide_type": "slide"
    }
   },
   "source": [
    "# About pointers\n",
    "\n",
    "Many of the problems with pointers come from their multiple uses. They point indifferently to:\n",
    "* memory areas of the stack or of the heap,\n",
    "* single objects or tables,\n",
    "* heap zones whose release is managed elsewhere,\n",
    "* heap zones to be released at the end of the current instruction block.\n",
    "\n",
    "**Let's sort it out and express these uses more clearly**."
   ]
  },
  {
   "cell_type": "markdown",
   "metadata": {
    "slideshow": {
     "slide_type": "slide"
    }
   },
   "source": [
    "## Raw pointers and references: `T*` and `T&`"
   ]
  },
  {
   "cell_type": "markdown",
   "metadata": {
    "slideshow": {
     "slide_type": "fragment"
    }
   },
   "source": [
    "A \"raw\" pointer (e.g. `T *`) is supposed to have the most ordinary meaning: **it points to an object, but does not \"own\" it**. In what follows, the portion of code that uses this pointer is not supposed to do a `delete` at the end of the use."
   ]
  },
  {
   "cell_type": "markdown",
   "metadata": {
    "slideshow": {
     "slide_type": "fragment"
    }
   },
   "source": [
    "If the pointer itself is not meant to change value, and is never meant to be zero, **we will prefer a reference** whenever possible."
   ]
  },
  {
   "cell_type": "markdown",
   "metadata": {
    "slideshow": {
     "slide_type": "fragment"
    }
   },
   "source": [
    "In addition, using a raw pointer to designate an array is to be avoided. Many other solutions exist now."
   ]
  },
  {
   "cell_type": "markdown",
   "metadata": {
    "slideshow": {
     "slide_type": "slide"
    }
   },
   "source": [
    "## Non-zero pointers: `gsl::not_null<T>`\n",
    "\n",
    "When dereferencing a pointer (via `*` or `->`), a common practice is to first check that it is not null as a precaution, which obscures and slows down the code."
   ]
  },
  {
   "cell_type": "markdown",
   "metadata": {
    "slideshow": {
     "slide_type": "fragment"
    }
   },
   "source": [
    "Whenever possible, **replace this pointer with a reference**."
   ]
  },
  {
   "cell_type": "markdown",
   "metadata": {
    "slideshow": {
     "slide_type": "fragment"
    }
   },
   "source": [
    "**Otherwise**, use **`gsl::not_null<T>`**, which ensures that you never assign a null value to the pointer."
   ]
  },
  {
   "cell_type": "markdown",
   "metadata": {
    "slideshow": {
     "slide_type": "skip"
    }
   },
   "source": [
    "If you try to assign a null value, you will get an error at compile time (`d2` in the example below), or at run time (`d4` in the example below)."
   ]
  },
  {
   "cell_type": "code",
   "execution_count": 1,
   "metadata": {
    "slideshow": {
     "slide_type": "subslide"
    }
   },
   "outputs": [
    {
     "name": "stdout",
     "output_type": "stream",
     "text": [
      "Overwriting tmp.gsl-pointer.cpp\n"
     ]
    }
   ],
   "source": [
    "%%file tmp.gsl-pointer.cpp\n",
    "\n",
    "#include <iostream>\n",
    "#include <gsl/gsl>\n",
    "\n",
    "struct Demo {\n",
    "    Demo() { std::cout<<\"Constructor\"<<std::endl ; }\n",
    "    ~Demo() { std::cout<<\"Destructor\"<<std::endl ; }\n",
    "} ;\n",
    "\n",
    "int main() {\n",
    "    gsl::not_null<Demo *> d1 { new Demo() } ;\n",
    "    delete d1 ;\n",
    "    // ...\n",
    "    //gsl::not_null<Demo *> d2 { nullptr } ;\n",
    "    // ...\n",
    "    Demo * d3 { nullptr } ;\n",
    "    // ...\n",
    "    gsl::not_null<Demo *> d4 { d3 } ; \n",
    "}"
   ]
  },
  {
   "cell_type": "code",
   "execution_count": 2,
   "metadata": {
    "slideshow": {
     "slide_type": "subslide"
    }
   },
   "outputs": [],
   "source": [
    "!rm -f tmp.gsl-pointer.exe && g++ -std=c++17 -I./ tmp.gsl-pointer.cpp -o tmp.gsl-pointer.exe"
   ]
  },
  {
   "cell_type": "code",
   "execution_count": 3,
   "metadata": {
    "slideshow": {
     "slide_type": "subslide"
    }
   },
   "outputs": [
    {
     "name": "stdout",
     "output_type": "stream",
     "text": [
      "Constructor\n",
      "Destructor\n",
      "terminate called without an active exception\n",
      "Aborted (core dumped)\n"
     ]
    }
   ],
   "source": [
    "!./tmp.gsl-pointer.exe"
   ]
  },
  {
   "cell_type": "markdown",
   "metadata": {
    "slideshow": {
     "slide_type": "slide"
    }
   },
   "source": [
    "## Ownership pointers `gsl::owner<T>`"
   ]
  },
  {
   "cell_type": "markdown",
   "metadata": {
    "slideshow": {
     "slide_type": "fragment"
    }
   },
   "source": [
    "The type `gsl::owner<T>` is used to mark that a pointer owns the pointed object. `T` is assumed to be a pointer type, such as `int *`."
   ]
  },
  {
   "cell_type": "markdown",
   "metadata": {
    "slideshow": {
     "slide_type": "fragment"
    }
   },
   "source": [
    "The type `gsl::owner<T>` does nothing in itself: you are still in charge of making the call to `delete`, but it clarifies your intention and can allow static checking tools to detect a forgotten delete."
   ]
  },
  {
   "cell_type": "code",
   "execution_count": 4,
   "metadata": {
    "slideshow": {
     "slide_type": "subslide"
    }
   },
   "outputs": [
    {
     "name": "stdout",
     "output_type": "stream",
     "text": [
      "Overwriting tmp.gsl-pointer.cpp\n"
     ]
    }
   ],
   "source": [
    "%%file tmp.gsl-pointer.cpp\n",
    "\n",
    "#include <iostream>\n",
    "#include <gsl/gsl>\n",
    "\n",
    "struct Demo {\n",
    "    Demo() { std::cout<<\"Constructor\"<<std::endl ; }\n",
    "    ~Demo() { std::cout<<\"Destructor\"<<std::endl ; }\n",
    "} ;\n",
    "\n",
    "int main() {\n",
    "    gsl::owner<Demo *> d { new Demo() } ;\n",
    "    delete d ; \n",
    "}"
   ]
  },
  {
   "cell_type": "code",
   "execution_count": 5,
   "metadata": {
    "slideshow": {
     "slide_type": "skip"
    }
   },
   "outputs": [],
   "source": [
    "!rm -f tmp.gsl-pointer.exe && g++ -std=c++17 -I./ tmp.gsl-pointer.cpp -o tmp.gsl-pointer.exe"
   ]
  },
  {
   "cell_type": "code",
   "execution_count": 6,
   "metadata": {
    "slideshow": {
     "slide_type": "fragment"
    }
   },
   "outputs": [
    {
     "name": "stdout",
     "output_type": "stream",
     "text": [
      "Constructor\n",
      "Destructor\n"
     ]
    }
   ],
   "source": [
    "!./tmp.gsl-pointer.exe"
   ]
  },
  {
   "cell_type": "markdown",
   "metadata": {
    "slideshow": {
     "slide_type": "slide"
    }
   },
   "source": [
    "## Smart pointers `std::unique_ptr<T>` and `std::shared_ptr<T>`"
   ]
  },
  {
   "cell_type": "markdown",
   "metadata": {
    "slideshow": {
     "slide_type": "subslide"
    }
   },
   "source": [
    "In the case of owning pointers, the GSL encourages the use of pointers from the standard libraries `std::unique_ptr<T>` and `std::shared_ptr<T>`."
   ]
  },
  {
   "cell_type": "markdown",
   "metadata": {
    "slideshow": {
     "slide_type": "subslide"
    }
   },
   "source": [
    "`std::unique_ptr<T>`\n",
    "* costs nothing,\n",
    "* but is not copiable."
   ]
  },
  {
   "cell_type": "markdown",
   "metadata": {
    "slideshow": {
     "slide_type": "subslide"
    }
   },
   "source": [
    "`std::shared_ptr<T>`\n",
    "* easy to copy,\n",
    "* but expensive."
   ]
  },
  {
   "cell_type": "markdown",
   "metadata": {
    "slideshow": {
     "slide_type": "subslide"
    }
   },
   "source": [
    "Whenever you can, entrust your raw pointer, created by `new`, directly to one of these smart pointers, and only use `gsl::owner<T>` as a last resort. Even better, use `std::make_unique` and `std::make_shared`."
   ]
  },
  {
   "attachments": {},
   "cell_type": "markdown",
   "metadata": {
    "slideshow": {
     "slide_type": "slide"
    }
   },
   "source": [
    "# Take away\n",
    "\n",
    "#### Non-owning pointers and references, by order of preference\n",
    "\n",
    "* `T&`: non-owner, cannot be null (always attached to an element).\n",
    "* `gsl::not_null<T>`: non-owner, T is a pointer, cannot be zero.\n",
    "* `T*`: non-owner, can be null, assumed to point to a unique element.\n",
    "\n",
    "#### Owning pointers, by order of preference\n",
    "\n",
    "* `unique_ptr<T>`: unique owner, not copyable, movable, automatic delete, efficient.\n",
    "* `shared_ptr<T>`: shared ownership, automatic delete, simple but less efficient.\n",
    "* `gsl::owner<T>`: owner, T is a pointer, can be zero, assumed to point to a dynamically allocated element (on the heap)`"
   ]
  },
  {
   "cell_type": "markdown",
   "metadata": {
    "slideshow": {
     "slide_type": "slide"
    }
   },
   "source": [
    "# Questions ?"
   ]
  },
  {
   "cell_type": "markdown",
   "metadata": {
    "slideshow": {
     "slide_type": "skip"
    }
   },
   "source": [
    "# Exercise\n",
    "\n",
    "In the code below:\n",
    "* write `my_owner`, which must emulate `gsl::owner` (trivial) ;\n",
    "* write `my_not_null`, which must emulate `gsl::not_null` (easy) ;\n",
    "* make sure that your types only accept pointers as parameters (difficult)."
   ]
  },
  {
   "cell_type": "code",
   "execution_count": 4,
   "metadata": {
    "slideshow": {
     "slide_type": "skip"
    }
   },
   "outputs": [
    {
     "name": "stdout",
     "output_type": "stream",
     "text": [
      "Writing tmp.gsl-pointers.h\n"
     ]
    }
   ],
   "source": [
    "%%file tmp.gsl-pointers.h\n",
    "\n",
    "#include <iostream>\n",
    "\n",
    "class Demo {\n",
    "  public:\n",
    "    Demo() { std::cout<<\"Constructor\"<<std::endl ; }\n",
    "    void print() { std::cout<<\"Printing\"<<std::endl ; }\n",
    "    ~Demo() { std::cout<<\"Destructor\"<<std::endl ; }\n",
    "} ;"
   ]
  },
  {
   "cell_type": "code",
   "execution_count": 38,
   "metadata": {
    "slideshow": {
     "slide_type": "skip"
    }
   },
   "outputs": [
    {
     "name": "stdout",
     "output_type": "stream",
     "text": [
      "Overwriting tmp.gsl-pointers-owner.cpp\n"
     ]
    }
   ],
   "source": [
    "%%file tmp.gsl-pointers-owner.cpp\n",
    "\n",
    "#include \"tmp.gsl-pointers.h\"\n",
    "#include <type_traits>\n",
    "\n",
    "template <typename T, typename = std::enable_if_t<std::is_pointer_v<T>>>\n",
    "using my_owner = T ;\n",
    "\n",
    "int main() {\n",
    "  my_owner<Demo> p1 ;              // COMPILATION ERROR: Demo is not a pointer\n",
    "  my_owner<Demo *> p2 {new Demo()} ;\n",
    "  p2->print() ;\n",
    "  delete p2 ;\n",
    "}"
   ]
  },
  {
   "cell_type": "code",
   "execution_count": 39,
   "metadata": {
    "slideshow": {
     "slide_type": "skip"
    }
   },
   "outputs": [
    {
     "name": "stdout",
     "output_type": "stream",
     "text": [
      "In file included from \u001b[01m\u001b[K/usr/local/include/c++/13.2.0/bits/move.h:37\u001b[m\u001b[K,\n",
      "                 from \u001b[01m\u001b[K/usr/local/include/c++/13.2.0/bits/exception_ptr.h:41\u001b[m\u001b[K,\n",
      "                 from \u001b[01m\u001b[K/usr/local/include/c++/13.2.0/exception:164\u001b[m\u001b[K,\n",
      "                 from \u001b[01m\u001b[K/usr/local/include/c++/13.2.0/ios:41\u001b[m\u001b[K,\n",
      "                 from \u001b[01m\u001b[K/usr/local/include/c++/13.2.0/ostream:40\u001b[m\u001b[K,\n",
      "                 from \u001b[01m\u001b[K/usr/local/include/c++/13.2.0/iostream:41\u001b[m\u001b[K,\n",
      "                 from \u001b[01m\u001b[Ktmp.gsl-pointers.h:2\u001b[m\u001b[K,\n",
      "                 from \u001b[01m\u001b[Ktmp.gsl-pointers-owner.cpp:2\u001b[m\u001b[K:\n",
      "/usr/local/include/c++/13.2.0/type_traits: In substitution of ‘\u001b[01m\u001b[Ktemplate<bool _Cond, class _Tp> using std::enable_if_t = typename std::enable_if::type \u001b[35m\u001b[K[with bool _Cond = false; _Tp = void]\u001b[m\u001b[K\u001b[m\u001b[K’:\n",
      "\u001b[01m\u001b[Ktmp.gsl-pointers-owner.cpp:9:16:\u001b[m\u001b[K   required from here\n",
      "\u001b[01m\u001b[K/usr/local/include/c++/13.2.0/type_traits:2610:11:\u001b[m\u001b[K \u001b[01;31m\u001b[Kerror: \u001b[m\u001b[Kno type named ‘\u001b[01m\u001b[Ktype\u001b[m\u001b[K’ in ‘\u001b[01m\u001b[Kstruct std::enable_if<false, void>\u001b[m\u001b[K’\n",
      " 2610 |     using \u001b[01;31m\u001b[Kenable_if_t\u001b[m\u001b[K = typename enable_if<_Cond, _Tp>::type;\n",
      "      |           \u001b[01;31m\u001b[K^~~~~~~~~~~\u001b[m\u001b[K\n",
      "\u001b[01m\u001b[Ktmp.gsl-pointers-owner.cpp:\u001b[m\u001b[K In function ‘\u001b[01m\u001b[Kint\u001b[01;32m\u001b[K main\u001b[m\u001b[K()\u001b[m\u001b[K’:\n",
      "\u001b[01m\u001b[Ktmp.gsl-pointers-owner.cpp:9:16:\u001b[m\u001b[K \u001b[01;31m\u001b[Kerror: \u001b[m\u001b[Ktemplate argument 2 is invalid\n",
      "    9 |   my_owner<Demo\u001b[01;31m\u001b[K>\u001b[m\u001b[K p1 ;              // COMPILATION ERROR: Demo is not a pointer\n",
      "      |                \u001b[01;31m\u001b[K^\u001b[m\u001b[K\n"
     ]
    }
   ],
   "source": [
    "!rm -f tmp.gsl-pointers-owner.exe && g++ -std=c++17 -I./ tmp.gsl-pointers-owner.cpp -o tmp.gsl-pointers-owner.exe"
   ]
  },
  {
   "cell_type": "code",
   "execution_count": 9,
   "metadata": {
    "slideshow": {
     "slide_type": "skip"
    }
   },
   "outputs": [
    {
     "name": "stdout",
     "output_type": "stream",
     "text": [
      "/usr/bin/sh: 1: ./tmp.gsl-pointer.exe: not found\n"
     ]
    }
   ],
   "source": [
    "!./tmp.gsl-pointers-owner.exe"
   ]
  },
  {
   "cell_type": "code",
   "execution_count": 34,
   "metadata": {},
   "outputs": [
    {
     "name": "stdout",
     "output_type": "stream",
     "text": [
      "Overwriting tmp.gsl-pointers-not-null.cpp\n"
     ]
    }
   ],
   "source": [
    "%%file tmp.gsl-pointers-not-null.cpp\n",
    "\n",
    "#include \"tmp.gsl-pointers.h\"\n",
    "#include <type_traits>\n",
    "\n",
    "template< typename T>\n",
    "class my_not_null {\n",
    "  public:\n",
    "    my_not_null( T ptr ) : m_ptr(ptr) {\n",
    "        if (!m_ptr) throw \"valeur nulle\" ;\n",
    "    }\n",
    "    my_not_null( std::nullptr_t ) = delete ;\n",
    "    my_not_null( my_not_null<T> const & other )\n",
    "     : my_not_null(other.m_ptr) {}\n",
    "    void operator=( my_not_null<T> const & other ) {\n",
    "        m_ptr = other.m_ptr ;\n",
    "        if (!m_ptr) throw \"valeur nulle\" ;\n",
    "    }\n",
    "    T operator->() { return m_ptr; }\n",
    "    operator T() { return m_ptr; }\n",
    "  private:\n",
    "    T m_ptr;\n",
    "};\n",
    "    \n",
    "int main() {\n",
    "  //my_not_null<Demo*> p1 ;          // COMPILATION ERROR: p1 is not initialized\n",
    "  //my_not_null<Demo*> p2(nullptr) ; // COMPILATION ERROR: p2 cannot be null\n",
    "  my_not_null<Demo *> p3 = new Demo() ;\n",
    "  p3 = nullptr ;                   // EXECUTION ERROR: p3 cannot be null\n",
    "  p3->print() ;\n",
    "  delete p3 ;\n",
    "}"
   ]
  },
  {
   "cell_type": "code",
   "execution_count": 35,
   "metadata": {
    "slideshow": {
     "slide_type": "skip"
    }
   },
   "outputs": [
    {
     "name": "stdout",
     "output_type": "stream",
     "text": [
      "\u001b[01m\u001b[Ktmp.gsl-pointers-not-null.cpp:\u001b[m\u001b[K In function ‘\u001b[01m\u001b[Kint\u001b[01;32m\u001b[K main\u001b[m\u001b[K()\u001b[m\u001b[K’:\n",
      "\u001b[01m\u001b[Ktmp.gsl-pointers-not-null.cpp:28:8:\u001b[m\u001b[K \u001b[01;31m\u001b[Kerror: \u001b[m\u001b[Kuse of deleted function ‘\u001b[01m\u001b[Kmy_not_null<T>::\u001b[01;32m\u001b[Kmy_not_null\u001b[m\u001b[K(std::nullptr_t) \u001b[35m\u001b[K[with T = Demo*; std::nullptr_t = std::nullptr_t]\u001b[m\u001b[K\u001b[m\u001b[K’\n",
      "   28 |   p3 = \u001b[01;31m\u001b[Knullptr\u001b[m\u001b[K ;                   // EXECUTION ERROR: p3 cannot be null\n",
      "      |        \u001b[01;31m\u001b[K^~~~~~~\u001b[m\u001b[K\n",
      "\u001b[01m\u001b[Ktmp.gsl-pointers-not-null.cpp:11:5:\u001b[m\u001b[K \u001b[01;36m\u001b[Knote: \u001b[m\u001b[Kdeclared here\n",
      "   11 |     \u001b[01;36m\u001b[Kmy_not_null\u001b[m\u001b[K( std::nullptr_t ) = delete ;\n",
      "      |     \u001b[01;36m\u001b[K^~~~~~~~~~~\u001b[m\u001b[K\n"
     ]
    }
   ],
   "source": [
    "!rm -f tmp.gsl-pointers-not-null.exe && g++ -std=c++17 -I./ tmp.gsl-pointers-not-null.cpp -o tmp.gsl-pointers-not-null.exe"
   ]
  },
  {
   "cell_type": "code",
   "execution_count": 25,
   "metadata": {
    "slideshow": {
     "slide_type": "skip"
    }
   },
   "outputs": [
    {
     "name": "stdout",
     "output_type": "stream",
     "text": [
      "Constructor\n",
      "Printing\n",
      "Destructor\n"
     ]
    }
   ],
   "source": [
    "!./tmp.gsl-pointers-not-null.exe"
   ]
  },
  {
   "cell_type": "markdown",
   "metadata": {
    "slideshow": {
     "slide_type": "skip"
    }
   },
   "source": [
    "## Sources\n",
    "\n",
    "* http://isocpp.github.io/CppCoreGuidelines/CppCoreGuidelines#gsl-guidelines-support-library\n",
    "* http://modernescpp.com/index.php/c-core-guideline-the-guidelines-support-library\n",
    "* http://nullptr.nl/2018/08/refurbish-legacy-code/"
   ]
  },
  {
   "cell_type": "markdown",
   "metadata": {
    "slideshow": {
     "slide_type": "skip"
    }
   },
   "source": [
    "© *CNRS 2024*  \n",
    "*This document was created by David Chamont and translated by Olga Abramkina. It is available under the [License Creative Commons - Attribution - No commercial use - Shared under the conditions 4.0 International](http://creativecommons.org/licenses/by-nc-sa/4.0/)*"
   ]
  }
 ],
 "metadata": {
  "celltoolbar": "Diaporama",
  "kernelspec": {
   "display_name": "Python 3 (ipykernel)",
   "language": "python",
   "name": "python3"
  },
  "language_info": {
   "codemirror_mode": {
    "name": "ipython",
    "version": 3
   },
   "file_extension": ".py",
   "mimetype": "text/x-python",
   "name": "python",
   "nbconvert_exporter": "python",
   "pygments_lexer": "ipython3",
   "version": "3.11.8"
  }
 },
 "nbformat": 4,
 "nbformat_minor": 4
}
