{
 "cells": [
  {
   "cell_type": "markdown",
   "metadata": {
    "slideshow": {
     "slide_type": "slide"
    }
   },
   "source": [
    "# Sharing data between threads"
   ]
  },
  {
   "cell_type": "markdown",
   "metadata": {
    "slideshow": {
     "slide_type": "slide"
    }
   },
   "source": [
    "## Potential problem\n",
    "\n",
    "The threads launched by the same program see the same memory area. They can possibly interact at the same time on the same data and produce undesirable effects. In the following example the functions `compute` and `print` are executed within two different threads. We see that `print` can interfere during the execution of `compute` between the increment of the number and the calculation of the square, which can produce an erroneous display."
   ]
  },
  {
   "cell_type": "code",
   "execution_count": null,
   "metadata": {
    "slideshow": {
     "slide_type": "skip"
    }
   },
   "outputs": [],
   "source": [
    "%%file tmp.mutex.h\n",
    "\n",
    "#include <iostream>\n",
    "#include <chrono>\n",
    "#include <thread>\n",
    "#include <cstdlib>\n",
    "#include <cassert>\n",
    "#include <mutex>\n",
    "\n",
    "using namespace std::chrono_literals ;"
   ]
  },
  {
   "cell_type": "code",
   "execution_count": null,
   "metadata": {
    "slideshow": {
     "slide_type": "subslide"
    }
   },
   "outputs": [],
   "source": [
    "%%file tmp.mutex-calculator.h\n",
    "\n",
    "class Calculator\n",
    "{\n",
    " public :\n",
    "   void compute()\n",
    "    {\n",
    "     m_number++ ;\n",
    "     std::this_thread::sleep_for(900us) ;\n",
    "     m_square = m_number*m_number ;\n",
    "    }\n",
    "   void print()\n",
    "    {  std::cout<<m_number<<\" squared \"<<m_square<<std::endl ; }\n",
    " private :\n",
    "   int m_number{}, m_square{} ;\n",
    "} ;"
   ]
  },
  {
   "cell_type": "code",
   "execution_count": null,
   "metadata": {
    "slideshow": {
     "slide_type": "subslide"
    }
   },
   "outputs": [],
   "source": [
    "%%file tmp.mutex-repeaters.h\n",
    "\n",
    "void repeat_print( int nb, Calculator & c )\n",
    "{\n",
    " for ( int i=0 ; i<nb ; ++i )\n",
    "  {\n",
    "   c.print() ;\n",
    "   std::this_thread::sleep_for(1ms) ;\n",
    "  }\n",
    "}\n",
    "void repeat_compute( int nb, Calculator & c )\n",
    "{\n",
    " for ( int i=0 ; i<nb ; ++i )\n",
    "  {\n",
    "   c.compute() ;\n",
    "   std::this_thread::sleep_for(100us) ;\n",
    "  }\n",
    "}"
   ]
  },
  {
   "cell_type": "code",
   "execution_count": null,
   "metadata": {
    "slideshow": {
     "slide_type": "subslide"
    }
   },
   "outputs": [],
   "source": [
    "%%file tmp.mutex.cpp\n",
    "\n",
    "#include \"tmp.mutex.h\"\n",
    "#include \"tmp.mutex-calculator.h\"\n",
    "#include \"tmp.mutex-repeaters.h\"\n",
    "\n",
    "int main( int argc, char * argv[] )\n",
    "{\n",
    "  assert(argc==2) ;\n",
    "  int nb = atoi(argv[1]) ;\n",
    "  Calculator c ;\n",
    "  std::thread t1(repeat_print,nb,std::ref(c)) ;\n",
    "  std::thread t2(repeat_compute,nb,std::ref(c)) ;\n",
    "  t1.join() ; t2.join() ;\n",
    " }"
   ]
  },
  {
   "cell_type": "code",
   "execution_count": null,
   "metadata": {
    "slideshow": {
     "slide_type": "skip"
    }
   },
   "outputs": [],
   "source": [
    "%%file tmp.mutex.sh\n",
    "echo\n",
    "\n",
    "rm -f tmp.mutex.exe \\\n",
    "&& g++ -std=c++17 -lpthread tmp.mutex.cpp -o tmp.mutex.exe\\\n",
    "&& ./tmp.mutex.exe $*\n",
    "\n",
    "echo"
   ]
  },
  {
   "cell_type": "code",
   "execution_count": null,
   "metadata": {
    "scrolled": true,
    "slideshow": {
     "slide_type": "subslide"
    }
   },
   "outputs": [],
   "source": [
    "! bash -l tmp.mutex.sh 10"
   ]
  },
  {
   "cell_type": "markdown",
   "metadata": {
    "slideshow": {
     "slide_type": "slide"
    }
   },
   "source": [
    "## Locking a portion of code\n",
    "\n",
    "To avoid the above situation, C ++ 11 offers the notion of a lock via the `std::mutex` class, which guarantees that a certain portion of code is only executed by one process at a time. Below, a correction for the class `Calculator`."
   ]
  },
  {
   "cell_type": "code",
   "execution_count": null,
   "metadata": {
    "slideshow": {
     "slide_type": "subslide"
    }
   },
   "outputs": [],
   "source": [
    "%%file tmp.mutex-calculator.h\n",
    "\n",
    "class Calculator\n",
    "{\n",
    " public :\n",
    "   void compute()\n",
    "    {\n",
    "     m_mtx.lock() ; // lock acquisition\n",
    "     m_number++ ;\n",
    "     std::this_thread::sleep_for(900us) ;\n",
    "     m_square = m_number*m_number ;\n",
    "     m_mtx.unlock() ; // lock release\n",
    "    }\n",
    "   void print()\n",
    "    {\n",
    "     m_mtx.lock() ; // lock acquisition\n",
    "     std::cout<<m_number<<\" squared \"<<m_square<<std::endl ;\n",
    "     m_mtx.unlock() ; // lock release\n",
    "    }\n",
    " private :\n",
    "   int m_number{} ,m_square{} ;\n",
    "   std::mutex m_mtx ; // can only be acquired by one thread at a time\n",
    "} ;"
   ]
  },
  {
   "cell_type": "code",
   "execution_count": null,
   "metadata": {
    "scrolled": true,
    "slideshow": {
     "slide_type": "subslide"
    }
   },
   "outputs": [],
   "source": [
    "! bash -l tmp.mutex.sh 10"
   ]
  },
  {
   "cell_type": "markdown",
   "metadata": {
    "slideshow": {
     "slide_type": "subslide"
    }
   },
   "source": [
    "**BEWARE**: the mutex used by multiple threads must be the same single object. It can be passed by reference to processes and their functions via an `std::ref`, or it can be enclosed in an object passed in this way. It can also be a global, static, or heap-allocated object with a `new`. In all cases, for the locking to be effective, the different processes involved must view the same object."
   ]
  },
  {
   "cell_type": "markdown",
   "metadata": {
    "slideshow": {
     "slide_type": "slide"
    }
   },
   "source": [
    "## Protection against exceptions\n",
    "\n",
    "This code is not completely protected against the occurrence of an exception, which could leave locks blocked indefinitely. As with all resources, we can improve this code with an object responsible for acquiring a lock on construction and releasing it on destruction. To manage `std::mutex` in this way, C++11 introduced `std::lock_guard`. C++17 added **`std::scoped_lock`** which can lock several mutexes simultaneously."
   ]
  },
  {
   "cell_type": "code",
   "execution_count": null,
   "metadata": {
    "slideshow": {
     "slide_type": "subslide"
    }
   },
   "outputs": [],
   "source": [
    "%%file tmp.mutex-calculator.h\n",
    "\n",
    "class Calculator\n",
    "{\n",
    " public :\n",
    "   void compute()\n",
    "    {\n",
    "     std::scoped_lock<std::mutex> lg(m_mtx) ;\n",
    "     m_number++ ;\n",
    "     std::this_thread::sleep_for(500us) ;\n",
    "     m_square = m_number*m_number ;\n",
    "    }\n",
    "   void print()\n",
    "    {\n",
    "     std::scoped_lock<std::mutex> lg(m_mtx) ;\n",
    "     std::cout<<m_number<<\" squared \"<<m_square<<std::endl ;\n",
    "    }\n",
    " private :\n",
    "   int m_number{} ,m_square{} ;\n",
    "   std::mutex m_mtx ; // can only be acquired by one thread at a time\n",
    "} ;"
   ]
  },
  {
   "cell_type": "code",
   "execution_count": null,
   "metadata": {
    "scrolled": true,
    "slideshow": {
     "slide_type": "subslide"
    }
   },
   "outputs": [],
   "source": [
    "! bash -l tmp.mutex.sh 10"
   ]
  },
  {
   "cell_type": "markdown",
   "metadata": {
    "slideshow": {
     "slide_type": "skip"
    }
   },
   "source": [
    "### Additional remarks\n",
    "\n",
    "- `mutex::try_lock()` allows to check whether or not the mutex is locked.\n",
    "- `unique_lock` is a \"movable\" variant of `lock_guard`.\n",
    "- `recursive_mutex`: can be acquired more than once (incrementation of a counter) and freed as many times (decrementation of the counter) for recursive approaches.\n",
    "- `timed_mutex`: the `try_lock_for` and `try_lock_until` methods allow to set a time limit for lock acquisition.\n",
    "- `recursive_timed_mutex`: combines the properties of `recursive_mutex` and `timed_mutex`."
   ]
  },
  {
   "cell_type": "markdown",
   "metadata": {
    "slideshow": {
     "slide_type": "slide"
    }
   },
   "source": [
    "# Questions ?"
   ]
  },
  {
   "cell_type": "markdown",
   "metadata": {
    "slideshow": {
     "slide_type": "skip"
    }
   },
   "source": [
    "# Exercise\n",
    "\n",
    "In the program below, we added a display within the `complexes_pow` function, which is executed by threads. Normally, when running the program several times, you will notice anomalies in the display. Indeed, like any variable seen and shared by several threads, `std::cout` can malfunction when it is used at the same time by several threads. To solve this, use an `std::mutex` to lock the portion of code that is displaying."
   ]
  },
  {
   "cell_type": "code",
   "execution_count": null,
   "metadata": {
    "attributes": {
     "classes": [
      "cpp"
     ],
     "id": ""
    },
    "slideshow": {
     "slide_type": "skip"
    }
   },
   "outputs": [],
   "source": [
    "%%file tmp.mutex.cpp\n",
    "\n",
    "#include <complex>\n",
    "#include <vector>\n",
    "#include <iostream>\n",
    "#include <cassert>\n",
    "#include <cmath>\n",
    "#include <thread>\n",
    "#include <mutex>\n",
    "\n",
    "using Real = double ;\n",
    "using Complex = std::complex<Real> ;\n",
    "using Complexes = std::vector<Complex> ;\n",
    "\n",
    "// random unitary complexes\n",
    "void generate( Complexes & cs )\n",
    " {\n",
    "  srand(1) ;\n",
    "  for ( auto & c : cs )\n",
    "   { \n",
    "    Real angle {rand()/(Real(RAND_MAX)+1)*2.0*M_PI} ;\n",
    "    c = Complex{std::cos(angle),std::sin(angle)} ;\n",
    "   }\n",
    " }\n",
    "\n",
    "// compute a slice of xs^degree and store it into ys\n",
    "// xs.size() must be a multiple of nb_slices\n",
    "void complexes_pow\n",
    " ( std::size_t num_slice, std::size_t nb_slices,\n",
    "   Complexes const & xs, int degree, Complexes & ys )\n",
    " {\n",
    "  assert((xs.size()%nb_slices)==0) ;  \n",
    "  auto slice_size {xs.size()/nb_slices} ;\n",
    "  auto min {num_slice*slice_size} ;\n",
    "  auto max {(num_slice+1)*slice_size} ;\n",
    "  std::cout<<\"complexes_pow \"<<num_slice<<\" min : \"<<min<<std::endl ;     \n",
    "  std::cout<<\"complexes_pow \"<<num_slice<<\" max : \"<<max<<std::endl ; \n",
    "  for ( auto i {min} ; i<max ; ++i )\n",
    "   {\n",
    "    ys[i] = Complex{1.,0.} ;\n",
    "    for ( int d=0 ; d<degree ; ++d )\n",
    "     { ys[i] *= xs[i] ; }\n",
    "   }\n",
    " }\n",
    "\n",
    "// display the angle of the complexes global product\n",
    "void postprocess( Complexes const & cs )\n",
    " {\n",
    "  Complex prod(1.,0.) ;\n",
    "  for( auto c : cs ) { prod *= c ; }\n",
    "  double angle {atan2(prod.imag(),prod.real())} ;\n",
    "  std::cout<<\"result = \"<<static_cast<int>(angle/2./M_PI*360.)<<\"\\n\" ;\n",
    " }\n",
    "\n",
    "// main program\n",
    "int main ( int argc, char * argv[] )\n",
    " {\n",
    "  assert(argc==4) ;\n",
    "  std::size_t nbtasks {std::stoul(argv[1])} ;\n",
    "  std::size_t dim {std::stoul(argv[2])} ;\n",
    "  int degree {std::stoi(argv[3])} ;\n",
    "\n",
    "  // prepare input\n",
    "  Complexes input(dim) ;\n",
    "  generate(input) ;\n",
    "   \n",
    "  // compute\n",
    "  Complexes output(dim) ;\n",
    "  std::size_t numtask ;\n",
    "  std::vector<std::thread> workers ;\n",
    "  for ( numtask = 0 ; numtask<nbtasks ; ++numtask )\n",
    "   { workers.emplace_back(complexes_pow,numtask,nbtasks,std::ref(input),degree,std::ref(output)) ; }\n",
    "  for ( auto & worker : workers )\n",
    "   { worker.join() ; }\n",
    "  \n",
    "  // post-process\n",
    "  postprocess(output) ;\n",
    " }\n"
   ]
  },
  {
   "cell_type": "code",
   "execution_count": null,
   "metadata": {
    "slideshow": {
     "slide_type": "skip"
    }
   },
   "outputs": [],
   "source": [
    "%%file tmp.mutex.sh\n",
    "echo\n",
    "\n",
    "rm -f tmp.mutex.exe \\\n",
    "&& g++ -std=c++17 -lpthread tmp.mutex.cpp -o tmp.mutex.exe\\\n",
    "&& ./tmp.mutex.exe $*\n",
    "\n",
    "echo"
   ]
  },
  {
   "cell_type": "code",
   "execution_count": null,
   "metadata": {
    "slideshow": {
     "slide_type": "skip"
    }
   },
   "outputs": [],
   "source": [
    "! bash -l tmp.mutex.sh 2 2 3"
   ]
  },
  {
   "cell_type": "code",
   "execution_count": null,
   "metadata": {
    "slideshow": {
     "slide_type": "skip"
    }
   },
   "outputs": [],
   "source": [
    "! bash -l tmp.mutex.sh 4 1024 100000"
   ]
  },
  {
   "cell_type": "markdown",
   "metadata": {
    "slideshow": {
     "slide_type": "skip"
    }
   },
   "source": [
    "© *CNRS 2024*  \n",
    "*This document was created by David Chamont and translated by Olga Abramkina. It is available under the [License Creative Commons - Attribution - No commercial use - Shared under the conditions 4.0 International](http://creativecommons.org/licenses/by-nc-sa/4.0/)*"
   ]
  }
 ],
 "metadata": {
  "celltoolbar": "Diaporama",
  "kernelspec": {
   "display_name": "Python 3 (ipykernel)",
   "language": "python",
   "name": "python3"
  },
  "language_info": {
   "codemirror_mode": {
    "name": "ipython",
    "version": 3
   },
   "file_extension": ".py",
   "mimetype": "text/x-python",
   "name": "python",
   "nbconvert_exporter": "python",
   "pygments_lexer": "ipython3",
   "version": "3.11.8"
  },
  "livereveal": {
   "scroll": true
  }
 },
 "nbformat": 4,
 "nbformat_minor": 4
}
