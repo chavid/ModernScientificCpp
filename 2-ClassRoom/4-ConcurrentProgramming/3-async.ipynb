{
 "cells": [
  {
   "cell_type": "markdown",
   "metadata": {
    "slideshow": {
     "slide_type": "slide"
    }
   },
   "source": [
    "# Retrieve the results from a thread: `future` & `promise`\n",
    "\n",
    "C ++ 11 offers a few ways to retrieve the output of a thread, without having to go through shared data and locks (apparently). This simpler style of programming is referred to as \"asynchronous programming\"."
   ]
  },
  {
   "cell_type": "markdown",
   "metadata": {
    "slideshow": {
     "slide_type": "slide"
    }
   },
   "source": [
    "## Using the function `async`\n",
    "\n",
    "If you do not want to interfere in some thread during its progress, but simply launch its execution, do something else in parallel and then wait and use thread's result: use a call to `std::async` instead.\n",
    "\n",
    "The call to **`std::async`** is **non-blocking**, and immediatly returns a variable of type **`std::future <T>`**. Only later on, when one consult the value of this variable thanks to a call to **`get()`**, then the program will **block** until the result is available."
   ]
  },
  {
   "cell_type": "code",
   "execution_count": 1,
   "metadata": {
    "attributes": {
     "classes": [
      "cpp"
     ],
     "id": ""
    },
    "slideshow": {
     "slide_type": "skip"
    }
   },
   "outputs": [
    {
     "name": "stdout",
     "output_type": "stream",
     "text": [
      "Writing tmp.async.h\n"
     ]
    }
   ],
   "source": [
    "%%file tmp.async.h\n",
    "\n",
    "#include <cstdio>\n",
    "#include <chrono>\n",
    "#include <thread>\n",
    "#include <future>\n",
    "#include <cassert>\n",
    "\n",
    "using namespace std::chrono_literals ;"
   ]
  },
  {
   "cell_type": "code",
   "execution_count": 2,
   "metadata": {
    "attributes": {
     "classes": [
      "cpp"
     ],
     "id": ""
    },
    "slideshow": {
     "slide_type": "subslide"
    }
   },
   "outputs": [
    {
     "name": "stdout",
     "output_type": "stream",
     "text": [
      "Writing tmp.async-add.h\n"
     ]
    }
   ],
   "source": [
    "%%file tmp.async-add.h\n",
    "\n",
    "int addition( int nb )\n",
    " {\n",
    "  int res = 0 ;\n",
    "  for ( int i=1 ; i<=nb ; ++i )\n",
    "   {\n",
    "    std::this_thread::sleep_for(10us) ;\n",
    "    int sum = i+i ;\n",
    "    printf(\"...addition : %d => %d\\n\",i,sum) ;\n",
    "    res += i ;\n",
    "   }\n",
    "  return res ;\n",
    " }"
   ]
  },
  {
   "cell_type": "code",
   "execution_count": 3,
   "metadata": {
    "attributes": {
     "classes": [
      "cpp"
     ],
     "id": ""
    },
    "slideshow": {
     "slide_type": "subslide"
    }
   },
   "outputs": [
    {
     "name": "stdout",
     "output_type": "stream",
     "text": [
      "Writing tmp.async-mul.h\n"
     ]
    }
   ],
   "source": [
    "%%file tmp.async-mul.h\n",
    "\n",
    "int multiplication( int nb )\n",
    " {\n",
    "  int res = 1 ;\n",
    "  for ( int i=1 ; i<=nb ; ++i )\n",
    "   {\n",
    "    std::this_thread::sleep_for(50us) ;\n",
    "    int square = i*i ;\n",
    "    printf(\"...multiplication : %d => %d\\n\",i,square) ;\n",
    "    res *= i ;\n",
    "   }\n",
    "  return res ;\n",
    " }"
   ]
  },
  {
   "cell_type": "code",
   "execution_count": 4,
   "metadata": {
    "attributes": {
     "classes": [
      "cpp"
     ],
     "id": ""
    },
    "slideshow": {
     "slide_type": "subslide"
    }
   },
   "outputs": [
    {
     "name": "stdout",
     "output_type": "stream",
     "text": [
      "Writing tmp.async.cpp\n"
     ]
    }
   ],
   "source": [
    "%%file tmp.async.cpp\n",
    "\n",
    "#include \"tmp.async.h\"\n",
    "#include \"tmp.async-add.h\"\n",
    "#include \"tmp.async-mul.h\"\n",
    "\n",
    "int main( int argc, char * argv[] )\n",
    " {\n",
    "  assert(argc==2) ;\n",
    "  int nb = atoi(argv[1]) ;\n",
    "  std::future<int> res1 = std::async(addition,nb) ;\n",
    "  std::future<int> res2 = std::async(multiplication,nb) ;\n",
    "  //...\n",
    "  printf(\"=> final addition: %d\\n\",res1.get()) ;\n",
    "  printf(\"=> final multiplication: %d\\n\",res2.get()) ;\n",
    "  return 0 ;\n",
    " }"
   ]
  },
  {
   "cell_type": "code",
   "execution_count": 5,
   "metadata": {
    "slideshow": {
     "slide_type": "skip"
    }
   },
   "outputs": [
    {
     "name": "stdout",
     "output_type": "stream",
     "text": [
      "Writing tmp.async.sh\n"
     ]
    }
   ],
   "source": [
    "%%file tmp.async.sh\n",
    "echo\n",
    "\n",
    "rm -f tmp.async.exe \\\n",
    "&& g++ -std=c++17 -pthread tmp.async.cpp -o tmp.async.exe\\\n",
    "&& ./tmp.async.exe $*\n",
    "\n",
    "echo"
   ]
  },
  {
   "cell_type": "code",
   "execution_count": 6,
   "metadata": {
    "slideshow": {
     "slide_type": "subslide"
    }
   },
   "outputs": [
    {
     "name": "stdout",
     "output_type": "stream",
     "text": [
      "\n",
      "...addition : 1 => 2\n",
      "...multiplication : 1 => 1\n",
      "...addition : 2 => 4\n",
      "...addition : 3 => 6\n",
      "...multiplication : 2 => 4\n",
      "...addition : 4 => 8\n",
      "...multiplication : 3 => 9\n",
      "...addition : 5 => 10\n",
      "=> final addition: 15\n",
      "...multiplication : 4 => 16\n",
      "...multiplication : 5 => 25\n",
      "=> final multiplication: 120\n",
      "\n"
     ]
    }
   ],
   "source": [
    "! bash -l tmp.async.sh 5"
   ]
  },
  {
   "cell_type": "markdown",
   "metadata": {
    "slideshow": {
     "slide_type": "slide"
    }
   },
   "source": [
    "## Making promises"
   ]
  },
  {
   "cell_type": "markdown",
   "metadata": {
    "slideshow": {
     "slide_type": "fragment"
    }
   },
   "source": [
    "More generally, if we want to have a little more control over the course of the underlying thread, we can organize the recovery of a result by connecting one or more objects of type `future` in the main client code, together with one or several objects of type `promise` in to the supplier thread."
   ]
  },
  {
   "cell_type": "markdown",
   "metadata": {
    "slideshow": {
     "slide_type": "fragment"
    }
   },
   "source": [
    "The same function can make several promises. In addition, it may still have things to do after the results are made available: the blocking call to `get()` on all expected values ​​does not mean that the threads have finished what they have to do. Unlike using `std::async`, you have to add explicit calls to `join()` on all threads again, or they will be finished cleanly."
   ]
  },
  {
   "cell_type": "code",
   "execution_count": 7,
   "metadata": {
    "attributes": {
     "classes": [
      "cpp"
     ],
     "id": ""
    },
    "slideshow": {
     "slide_type": "subslide"
    }
   },
   "outputs": [
    {
     "name": "stdout",
     "output_type": "stream",
     "text": [
      "Overwriting tmp.async-add.h\n"
     ]
    }
   ],
   "source": [
    "%%file tmp.async-add.h\n",
    "\n",
    "void addition( int nb, std::promise<int> prom )\n",
    " {\n",
    "  int res = 0 ;\n",
    "  for ( int i=1 ; i<=nb ; ++i )\n",
    "   {\n",
    "    res += i ;\n",
    "    std::this_thread::sleep_for(10us) ;\n",
    "    printf(\"...addition : %d => %d\\n\",i,res) ;\n",
    "   }\n",
    "  prom.set_value(res) ;\n",
    "  std::this_thread::sleep_for(100us) ;\n",
    "  printf(\"...addition cleaning\\n\") ;\n",
    " }"
   ]
  },
  {
   "cell_type": "code",
   "execution_count": 8,
   "metadata": {
    "attributes": {
     "classes": [
      "cpp"
     ],
     "id": ""
    },
    "slideshow": {
     "slide_type": "subslide"
    }
   },
   "outputs": [
    {
     "name": "stdout",
     "output_type": "stream",
     "text": [
      "Overwriting tmp.async-mul.h\n"
     ]
    }
   ],
   "source": [
    "%%file tmp.async-mul.h\n",
    "\n",
    "void multiplication( int nb, std::promise<int> prom )\n",
    " {\n",
    "  int res = 1 ;\n",
    "  for ( int i=1 ; i<=nb ; ++i )\n",
    "   {\n",
    "    res *= i ;\n",
    "    std::this_thread::sleep_for(50us) ;\n",
    "    printf(\"...multiplication : %d => %d\\n\",i,res) ;\n",
    "   }\n",
    "  prom.set_value(res) ;\n",
    "  std::this_thread::sleep_for(100us) ;\n",
    "  printf(\"...multiplication cleaning\\n\") ;\n",
    " }"
   ]
  },
  {
   "cell_type": "code",
   "execution_count": 9,
   "metadata": {
    "attributes": {
     "classes": [
      "cpp"
     ],
     "id": ""
    },
    "slideshow": {
     "slide_type": "subslide"
    }
   },
   "outputs": [
    {
     "name": "stdout",
     "output_type": "stream",
     "text": [
      "Overwriting tmp.async.cpp\n"
     ]
    }
   ],
   "source": [
    "%%file tmp.async.cpp\n",
    "\n",
    "#include \"tmp.async.h\"\n",
    "#include \"tmp.async-add.h\"\n",
    "#include \"tmp.async-mul.h\"\n",
    "\n",
    "int main( int argc, char * argv[] )\n",
    " {\n",
    "  assert(argc==2) ;\n",
    "  int nb = atoi(argv[1]) ;\n",
    "     \n",
    "  std::promise<int> res1_promise ;\n",
    "  std::promise<int> res2_promise ;\n",
    "     \n",
    "  std::future<int> res1_future = res1_promise.get_future() ;\n",
    "  std::future<int> res2_future = res2_promise.get_future() ;\n",
    "     \n",
    "  std::thread t1(addition,nb,std::move(res1_promise)) ;\n",
    "  std::thread t2(multiplication,nb,std::move(res2_promise)) ;\n",
    "                 \n",
    "  //...\n",
    "                 \n",
    "  printf(\"=> global addition: %d\\n\",res1_future.get()) ;\n",
    "  printf(\"=> global multiplication: %d\\n\",res2_future.get()) ;\n",
    "     \n",
    "  t1.join() ;\n",
    "  t2.join() ;\n",
    " }"
   ]
  },
  {
   "cell_type": "code",
   "execution_count": 10,
   "metadata": {
    "attributes": {
     "classes": [
      "cpp"
     ],
     "id": ""
    },
    "slideshow": {
     "slide_type": "subslide"
    }
   },
   "outputs": [
    {
     "name": "stdout",
     "output_type": "stream",
     "text": [
      "\n",
      "...addition : 1 => 1\n",
      "...multiplication : 1 => 1\n",
      "...addition : 2 => 3\n",
      "...multiplication : 2 => 2\n",
      "...addition : 3 => 6\n",
      "...addition : 4 => 10\n",
      "...multiplication : 3 => 6\n",
      "...addition : 5 => 15\n",
      "=> global addition: 15\n",
      "...multiplication : 4 => 24\n",
      "...addition cleaning\n",
      "...multiplication : 5 => 120\n",
      "=> global multiplication: 120\n",
      "...multiplication cleaning\n",
      "\n"
     ]
    }
   ],
   "source": [
    "! bash -l tmp.async.sh 5"
   ]
  },
  {
   "cell_type": "markdown",
   "metadata": {
    "slideshow": {
     "slide_type": "slide"
    }
   },
   "source": [
    "## Our shared future"
   ]
  },
  {
   "cell_type": "markdown",
   "metadata": {
    "slideshow": {
     "slide_type": "fragment"
    }
   },
   "source": [
    "Like an instance of `std::thread`, an instance of `std::future` is non-copiable, only movable. If we want to have several threads waiting for the same input asynchronous computation, we will instead use an instance of `std::shared_future`, which is copiable. Each client thread will then have its own copy of the result."
   ]
  },
  {
   "cell_type": "markdown",
   "metadata": {
    "slideshow": {
     "slide_type": "fragment"
    }
   },
   "source": [
    "Below, we make the two threads wait together for the availability of the value of `nb` before actually starting their calculations. No longer taking advantage of the `multiplication` launch delay, `addition` takes a longer time to start."
   ]
  },
  {
   "cell_type": "code",
   "execution_count": 11,
   "metadata": {
    "slideshow": {
     "slide_type": "subslide"
    }
   },
   "outputs": [
    {
     "name": "stdout",
     "output_type": "stream",
     "text": [
      "Overwriting tmp.async-add.h\n"
     ]
    }
   ],
   "source": [
    "%%file tmp.async-add.h\n",
    "\n",
    "int addition( std::shared_future<int> nb_future )\n",
    " {\n",
    "  int res = 0 ;\n",
    "  int nb = nb_future.get() ;\n",
    "  for ( int i=1 ; i<=nb ; ++i )\n",
    "   {\n",
    "    std::this_thread::sleep_for(10us) ;\n",
    "    int sum = i+i ;\n",
    "    printf(\"...addition : %d => %d\\n\",i,sum) ;\n",
    "    res += i ;\n",
    "   }\n",
    "  return res ;\n",
    " }"
   ]
  },
  {
   "cell_type": "code",
   "execution_count": 12,
   "metadata": {
    "slideshow": {
     "slide_type": "subslide"
    }
   },
   "outputs": [
    {
     "name": "stdout",
     "output_type": "stream",
     "text": [
      "Overwriting tmp.async-mul.h\n"
     ]
    }
   ],
   "source": [
    "%%file tmp.async-mul.h\n",
    "\n",
    "int multiplication( std::shared_future<int> nb_future )\n",
    " {\n",
    "  int res = 1 ;\n",
    "  int nb = nb_future.get() ;\n",
    "  for ( int i=1 ; i<=nb ; ++i )\n",
    "   {\n",
    "    std::this_thread::sleep_for(50us) ;\n",
    "    int square = i*i ;\n",
    "    printf(\"...multiplication : %d => %d\\n\",i,square) ;\n",
    "    res *= i ;\n",
    "   }\n",
    "  return res ;\n",
    " }"
   ]
  },
  {
   "cell_type": "code",
   "execution_count": 13,
   "metadata": {
    "slideshow": {
     "slide_type": "subslide"
    }
   },
   "outputs": [
    {
     "name": "stdout",
     "output_type": "stream",
     "text": [
      "Overwriting tmp.async.cpp\n"
     ]
    }
   ],
   "source": [
    "%%file tmp.async.cpp\n",
    "\n",
    "#include \"tmp.async.h\"\n",
    "#include \"tmp.async-add.h\"\n",
    "#include \"tmp.async-mul.h\"\n",
    "\n",
    "int main( int argc, char * argv[] )\n",
    " {\n",
    "  assert(argc==2) ;\n",
    "  int nb = atoi(argv[1]) ;\n",
    "     \n",
    "  std::promise<int> nb_promise ;\n",
    "  std::shared_future<int> nb_future(nb_promise.get_future()) ;\n",
    "     \n",
    "  std::future<int> res1 = std::async(addition,nb_future) ;\n",
    "  std::future<int> res2 = std::async(multiplication,nb_future) ;\n",
    "     \n",
    "  nb_promise.set_value(nb) ;\n",
    "     \n",
    "  //...\n",
    "     \n",
    "  printf(\"=> global addition: %d\\n\",res1.get()) ;\n",
    "  printf(\"=> global multiplication: %d\\n\",res2.get()) ;\n",
    "     \n",
    "  return 0 ;\n",
    " }"
   ]
  },
  {
   "cell_type": "code",
   "execution_count": 14,
   "metadata": {
    "attributes": {
     "classes": [
      "cpp"
     ],
     "id": ""
    },
    "slideshow": {
     "slide_type": "subslide"
    }
   },
   "outputs": [
    {
     "name": "stdout",
     "output_type": "stream",
     "text": [
      "\n",
      "...addition : 1 => 2\n",
      "...multiplication : 1 => 1\n",
      "...addition : 2 => 4\n",
      "...addition : 3 => 6\n",
      "...multiplication : 2 => 4\n",
      "...addition : 4 => 8\n",
      "...multiplication : 3 => 9\n",
      "...addition : 5 => 10\n",
      "=> global addition: 15\n",
      "...multiplication : 4 => 16\n",
      "...multiplication : 5 => 25\n",
      "=> global multiplication: 120\n",
      "\n"
     ]
    }
   ],
   "source": [
    "! bash -l tmp.async.sh 5"
   ]
  },
  {
   "cell_type": "markdown",
   "metadata": {
    "slideshow": {
     "slide_type": "slide"
    }
   },
   "source": [
    "# Questions ?"
   ]
  },
  {
   "cell_type": "markdown",
   "metadata": {
    "slideshow": {
     "slide_type": "slide"
    }
   },
   "source": [
    "# Exercise\n",
    "\n",
    "Modify the program below to use the `std::async()` function instead of the explicit threads.\n",
    "\n",
    "We have already modified the function `complexes_pow`, so that it returns its slice of results, instead of storing it into an arry received by reference. But now **it does not compile** (on purpose) : you still have to upgrade the section *compute* in the main program.\n",
    "\n",
    "Check your results with the usual commands and parameters."
   ]
  },
  {
   "cell_type": "code",
   "execution_count": null,
   "metadata": {
    "slideshow": {
     "slide_type": "skip"
    }
   },
   "outputs": [],
   "source": [
    "%%file tmp.async.cpp\n",
    "\n",
    "#include <complex>\n",
    "#include <vector>\n",
    "#include <iostream>\n",
    "#include <cassert>\n",
    "#include <cmath>\n",
    "#include <thread>\n",
    "\n",
    "using Real = double ;\n",
    "using Complex = std::complex<Real> ;\n",
    "using Complexes = std::vector<Complex> ;\n",
    "\n",
    "// random unitary complexes\n",
    "void generate( Complexes & cs )\n",
    " {\n",
    "  srand(1) ;\n",
    "  for ( auto & c : cs )\n",
    "   { \n",
    "    Real angle {rand()/(Real(RAND_MAX)+1)*2.0*M_PI} ;\n",
    "    c = Complex{std::cos(angle),std::sin(angle)} ;\n",
    "   }\n",
    " }\n",
    "\n",
    "// compute a slice of xs^degree and return it\n",
    "Complexes complexes_pow\n",
    " ( std::size_t num_slice, std::size_t nb_slices,\n",
    "   Complexes const & xs, int degree )\n",
    " {\n",
    "  assert((xs.size()%nb_slices)==0) ;  \n",
    "  auto slice_size {xs.size()/nb_slices} ;\n",
    "  auto min {num_slice*slice_size} ;\n",
    "  Complexes ys(slice_size) ;\n",
    "  for ( decltype(slice_size) i {0} ; i<slice_size ; ++i )\n",
    "   {\n",
    "    ys[i] = Complex{1.,0.} ;\n",
    "    for ( int d=0 ; d<degree ; ++d )\n",
    "     { ys[i] *= xs[i+min] ; }\n",
    "   }\n",
    "  return ys ;\n",
    " }\n",
    "\n",
    "// display the angle of the global product\n",
    "void postprocess( Complexes const & cs )\n",
    " {\n",
    "  Complex prod {1.,0.} ;\n",
    "  for( auto c : cs ) { prod *= c ; }\n",
    "  double angle {atan2(prod.imag(),prod.real())} ;\n",
    "  std::cout<<\"result = \"<<static_cast<int>(angle/2./M_PI*360.)<<\"\\n\" ;\n",
    " }\n",
    "\n",
    "// main program\n",
    "int main ( int argc, char * argv[] )\n",
    " {\n",
    "  assert(argc==4) ;\n",
    "  std::size_t nbtasks {std::stoul(argv[1])} ;\n",
    "  std::size_t dim {std::stoul(argv[2])} ;\n",
    "  int degree {std::stoi(argv[3])} ;\n",
    "\n",
    "  // prepare input\n",
    "  Complexes input(dim) ;\n",
    "  generate(input) ;\n",
    "   \n",
    "  // compute\n",
    "  Complexes output(dim) ;\n",
    "  std::size_t numtask ;\n",
    "  std::vector<> workers ;\n",
    "  for ( numtask = 0 ; numtask<nbtasks ; ++numtask )\n",
    "   { workers.emplace_back(complexes_pow,numtask,nbtasks,std::ref(input),degree,std::ref(output)) ; }\n",
    "  for ( auto & worker : workers )\n",
    "   { worker.join() ; }\n",
    "  \n",
    "  // post-process\n",
    "  postprocess(output) ;\n",
    " }"
   ]
  },
  {
   "cell_type": "code",
   "execution_count": null,
   "metadata": {
    "slideshow": {
     "slide_type": "skip"
    }
   },
   "outputs": [],
   "source": [
    "%%file tmp.async.sh\n",
    "echo\n",
    "\n",
    "rm -f tmp.async.exe \\\n",
    "&& g++ -std=c++17 -lpthread tmp.async.cpp -o tmp.async.exe\\\n",
    "&& time ./tmp.async.exe $*\n",
    "\n",
    "echo"
   ]
  },
  {
   "cell_type": "code",
   "execution_count": null,
   "metadata": {
    "slideshow": {
     "slide_type": "skip"
    }
   },
   "outputs": [],
   "source": [
    "! bash -l tmp.async.sh 2 2 3"
   ]
  },
  {
   "cell_type": "code",
   "execution_count": null,
   "metadata": {
    "slideshow": {
     "slide_type": "skip"
    }
   },
   "outputs": [],
   "source": [
    "! bash -l tmp.async.sh 4 1024 100000"
   ]
  },
  {
   "cell_type": "markdown",
   "metadata": {
    "slideshow": {
     "slide_type": "skip"
    }
   },
   "source": [
    "© *CNRS 2020*  \n",
    "*This document was created by David Chamont and translated by Olga Abramkina. It is available under the [License Creative Commons - Attribution - No commercial use - Shared under the conditions 4.0 International](http://creativecommons.org/licenses/by-nc-sa/4.0/)*"
   ]
  }
 ],
 "metadata": {
  "celltoolbar": "Diaporama",
  "kernelspec": {
   "display_name": "Python 3 (ipykernel)",
   "language": "python",
   "name": "python3"
  },
  "language_info": {
   "codemirror_mode": {
    "name": "ipython",
    "version": 3
   },
   "file_extension": ".py",
   "mimetype": "text/x-python",
   "name": "python",
   "nbconvert_exporter": "python",
   "pygments_lexer": "ipython3",
   "version": "3.11.8"
  },
  "livereveal": {
   "scroll": true
  }
 },
 "nbformat": 4,
 "nbformat_minor": 4
}
