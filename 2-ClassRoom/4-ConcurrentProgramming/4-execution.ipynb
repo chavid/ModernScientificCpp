{
 "cells": [
  {
   "cell_type": "markdown",
   "metadata": {
    "slideshow": {
     "slide_type": "slide"
    }
   },
   "source": [
    "# New execution strategies in C++17/20\n",
    "\n",
    "C++17 takes a further step in the direction of automatic code parallelization by adding a new argument, the **execution policy**, to most of the algorithms in the standard library.\n",
    "\n",
    "The available policies are `std::execution::seq`, `std::execution::par` and `std::execution::par_unseq`. C++20 is adding `std::execution::unseq`."
   ]
  },
  {
   "cell_type": "markdown",
   "metadata": {
    "slideshow": {
     "slide_type": "skip"
    }
   },
   "source": [
    "**WARNING**: the exceptions are not compatible with the algorithms which takes an execution policy as first argument."
   ]
  },
  {
   "cell_type": "markdown",
   "metadata": {
    "slideshow": {
     "slide_type": "subslide"
    }
   },
   "source": [
    "**WARNING**: the actual application of parallelization is highly dependent on the hardware and the implementation of the compiler and its standard library. This requires most of the time (if not always) a **backend technology**. For example, g++ relies on Intel TBB."
   ]
  },
  {
   "cell_type": "markdown",
   "metadata": {
    "slideshow": {
     "slide_type": "subslide"
    }
   },
   "source": [
    "Let's browse a toy code which takes a collection of floating point numbers, raises them to a given power, then prints their mean value."
   ]
  },
  {
   "cell_type": "code",
   "execution_count": 60,
   "metadata": {
    "slideshow": {
     "slide_type": "subslide"
    }
   },
   "outputs": [
    {
     "name": "stdout",
     "output_type": "stream",
     "text": [
      "Overwriting tmp.execution-common.h\n"
     ]
    }
   ],
   "source": [
    "%%file tmp.execution-common.h\n",
    "\n",
    "#include <vector>\n",
    "#include <cmath>\n",
    "#include <algorithm>\n",
    "#include <numeric>\n",
    "#include <iostream>\n",
    "#include <cassert>\n",
    "\n",
    "using Real = double ;\n",
    "using Reals = std::vector<Real> ;"
   ]
  },
  {
   "cell_type": "code",
   "execution_count": 61,
   "metadata": {
    "slideshow": {
     "slide_type": "subslide"
    }
   },
   "outputs": [
    {
     "name": "stdout",
     "output_type": "stream",
     "text": [
      "Overwriting tmp.execution-prepare-input.h\n"
     ]
    }
   ],
   "source": [
    "%%file tmp.execution-prepare-input.h\n",
    "\n",
    "// random numbers in [1.-1./scal,1.]\n",
    "void generate( Reals & rs, Real scale )\n",
    " {\n",
    "  srand(1) ;\n",
    "  for ( auto & r : rs )\n",
    "   { r = 1.-rand()/scale/RAND_MAX ; }\n",
    " }"
   ]
  },
  {
   "cell_type": "code",
   "execution_count": 62,
   "metadata": {
    "slideshow": {
     "slide_type": "subslide"
    }
   },
   "outputs": [
    {
     "name": "stdout",
     "output_type": "stream",
     "text": [
      "Overwriting tmp.execution-process.h\n"
     ]
    }
   ],
   "source": [
    "%%file tmp.execution-process.h\n",
    "\n",
    "// compute xs^degree and store it into ys\n",
    "void pow\n",
    " ( Reals const & xs, int degree, Reals & ys )\n",
    " {\n",
    "  std::transform(xs.begin(),xs.end(),ys.begin(),\n",
    "   [degree]( Real x )\n",
    "   {\n",
    "    Real y {1.0} ;\n",
    "    for ( int d=0 ; d<degree ; ++d )\n",
    "     { y *= x ; }\n",
    "    return y ;\n",
    "   }) ;\n",
    " }"
   ]
  },
  {
   "cell_type": "code",
   "execution_count": 63,
   "metadata": {
    "slideshow": {
     "slide_type": "subslide"
    }
   },
   "outputs": [
    {
     "name": "stdout",
     "output_type": "stream",
     "text": [
      "Overwriting tmp.execution-post-process-output.h\n"
     ]
    }
   ],
   "source": [
    "%%file tmp.execution-post-process-output.h\n",
    "\n",
    "// compute the mean \n",
    "void postprocess( Reals const & rs )\n",
    " { std::cout<<\"mean: \"<<(std::accumulate(rs.begin(),rs.end(),Real{0.})/rs.size())<<\"\\n\" ; }"
   ]
  },
  {
   "cell_type": "code",
   "execution_count": 64,
   "metadata": {
    "slideshow": {
     "slide_type": "subslide"
    }
   },
   "outputs": [
    {
     "name": "stdout",
     "output_type": "stream",
     "text": [
      "Overwriting tmp.execution.cpp\n"
     ]
    }
   ],
   "source": [
    "%%file tmp.execution.cpp\n",
    "\n",
    "#include \"tmp.execution-common.h\"\n",
    "#include \"tmp.execution-prepare-input.h\"\n",
    "#include \"tmp.execution-process.h\"\n",
    "#include \"tmp.execution-post-process-output.h\"\n",
    "\n",
    "// main program\n",
    "int main ( int argc, char * argv[] )\n",
    " {\n",
    "  assert(argc==3) ;\n",
    "  std::size_t dim {std::stoul(argv[1])} ;\n",
    "  int degree = atoi(argv[2]) ;\n",
    "\n",
    "  // prepare input\n",
    "  Reals input(dim) ;\n",
    "  generate(input,degree) ;\n",
    "   \n",
    "  // compute ouput\n",
    "  Reals output(dim) ;\n",
    "  pow(input,degree,output) ;\n",
    "  \n",
    "  // post-process\n",
    "  postprocess(output) ;\n",
    " }"
   ]
  },
  {
   "cell_type": "code",
   "execution_count": 65,
   "metadata": {
    "slideshow": {
     "slide_type": "skip"
    }
   },
   "outputs": [
    {
     "name": "stdout",
     "output_type": "stream",
     "text": [
      "Overwriting tmp.execution.sh\n"
     ]
    }
   ],
   "source": [
    "%%file tmp.execution.sh\n",
    "echo\n",
    "\n",
    "rm -f tmp.execution.exe \\\n",
    "&& g++ -std=c++17 -O2 tmp.execution.cpp -o tmp.execution.exe\\\n",
    "&& time ./tmp.execution.exe $*\n",
    "\n",
    "echo"
   ]
  },
  {
   "cell_type": "code",
   "execution_count": 66,
   "metadata": {
    "slideshow": {
     "slide_type": "subslide"
    }
   },
   "outputs": [
    {
     "name": "stdout",
     "output_type": "stream",
     "text": [
      "\n",
      "mean: 0.62705\n",
      "\n",
      "real\t0m0.162s\n",
      "user\t0m0.158s\n",
      "sys\t0m0.004s\n",
      "\n"
     ]
    }
   ],
   "source": [
    "!bash -l tmp.execution.sh 1024 100000"
   ]
  },
  {
   "cell_type": "markdown",
   "metadata": {
    "slideshow": {
     "slide_type": "slide"
    }
   },
   "source": [
    "## Parallel execution policy\n",
    "\n",
    "When using an algorithm from the standard library, we can **suggest** a multi-threaded execution using a simple additional argument:"
   ]
  },
  {
   "cell_type": "code",
   "execution_count": 67,
   "metadata": {
    "slideshow": {
     "slide_type": "subslide"
    }
   },
   "outputs": [
    {
     "name": "stdout",
     "output_type": "stream",
     "text": [
      "Overwriting tmp.execution-process.h\n"
     ]
    }
   ],
   "source": [
    "%%file tmp.execution-process.h\n",
    "\n",
    "#include <execution>\n",
    "\n",
    "// compute xs^degree and store it into ys\n",
    "void pow\n",
    " ( Reals const & xs, int degree, Reals & ys )\n",
    " {\n",
    "  std::transform(std::execution::par,xs.begin(),xs.end(),ys.begin(),[degree]( Real x )\n",
    "   {\n",
    "    Real y {1.0} ;\n",
    "    for ( int d=0 ; d<degree ; ++d )\n",
    "     { y *= x ; }\n",
    "    return y ;\n",
    "   }) ;\n",
    " }"
   ]
  },
  {
   "cell_type": "markdown",
   "metadata": {
    "slideshow": {
     "slide_type": "subslide"
    }
   },
   "source": [
    "Yet, for the time being, with GCC, do not forget to add the library `-ltbb`, because Intel TBB is the backend implementation which enables GCC to apply `std::execution::par`.\n",
    "\n",
    "The simplicity of the written code as a drawback : additional installations and compilation options, at least today."
   ]
  },
  {
   "cell_type": "code",
   "execution_count": 68,
   "metadata": {
    "slideshow": {
     "slide_type": "fragment"
    }
   },
   "outputs": [
    {
     "name": "stdout",
     "output_type": "stream",
     "text": [
      "Overwriting tmp.execution.sh\n"
     ]
    }
   ],
   "source": [
    "%%file tmp.execution.sh\n",
    "echo\n",
    "\n",
    "rm -f tmp.execution.exe \\\n",
    "&& g++ -std=c++17 -O2 -ltbb tmp.execution.cpp -o tmp.execution.exe\\\n",
    "&& time ./tmp.execution.exe $*\n",
    "\n",
    "echo"
   ]
  },
  {
   "cell_type": "code",
   "execution_count": 69,
   "metadata": {
    "slideshow": {
     "slide_type": "subslide"
    }
   },
   "outputs": [
    {
     "name": "stdout",
     "output_type": "stream",
     "text": [
      "\n",
      "In file included from \u001b[01m\u001b[K/usr/local/include/c++/11.2.0/pstl/parallel_backend_tbb.h:26\u001b[m\u001b[K,\n",
      "                 from \u001b[01m\u001b[K/usr/local/include/c++/11.2.0/pstl/parallel_backend.h:20\u001b[m\u001b[K,\n",
      "                 from \u001b[01m\u001b[K/usr/local/include/c++/11.2.0/pstl/algorithm_impl.h:22\u001b[m\u001b[K,\n",
      "                 from \u001b[01m\u001b[K/usr/local/include/c++/11.2.0/pstl/glue_execution_defs.h:50\u001b[m\u001b[K,\n",
      "                 from \u001b[01m\u001b[K/usr/local/include/c++/11.2.0/execution:32\u001b[m\u001b[K,\n",
      "                 from \u001b[01m\u001b[Ktmp.execution-process.h:2\u001b[m\u001b[K,\n",
      "                 from \u001b[01m\u001b[Ktmp.execution.cpp:4\u001b[m\u001b[K:\n",
      "\u001b[01m\u001b[K/usr/include/tbb/task.h:21:139:\u001b[m\u001b[K \u001b[01;36m\u001b[Knote: \u001b[m\u001b[K‘\u001b[01m\u001b[K#pragma message: TBB Warning: tbb/task.h is deprecated. For details, please see Deprecated Features appendix in the TBB reference manual.\u001b[m\u001b[K’\n",
      "   21 |  please see Deprecated Features appendix in the TBB reference manual.\"\u001b[01;36m\u001b[K)\u001b[m\u001b[K\n",
      "      |                                                                       \u001b[01;36m\u001b[K^\u001b[m\u001b[K\n",
      "\n",
      "mean: 0.62705\n",
      "\n",
      "real\t0m0.016s\n",
      "user\t0m0.193s\n",
      "sys\t0m0.004s\n",
      "\n"
     ]
    }
   ],
   "source": [
    "!bash -l tmp.execution.sh 1024 100000"
   ]
  },
  {
   "cell_type": "markdown",
   "metadata": {
    "slideshow": {
     "slide_type": "slide"
    }
   },
   "source": [
    "## Unsequenced execution policy\n",
    "\n",
    "It seems just as easy to suggest the use of vectorized SIMD instructions, with the `std::execution::unseq` execution policy (C++20 only)..."
   ]
  },
  {
   "cell_type": "code",
   "execution_count": 70,
   "metadata": {
    "slideshow": {
     "slide_type": "subslide"
    }
   },
   "outputs": [
    {
     "name": "stdout",
     "output_type": "stream",
     "text": [
      "Overwriting tmp.execution-process.h\n"
     ]
    }
   ],
   "source": [
    "%%file tmp.execution-process.h\n",
    "\n",
    "#include <execution>\n",
    "\n",
    "// compute xs^degree and store it into ys\n",
    "void pow\n",
    " ( Reals const & xs, int degree, Reals & ys )\n",
    " {\n",
    "  std::transform(std::execution::unseq,xs.begin(),xs.end(),ys.begin(),[degree]( Real x )\n",
    "   {\n",
    "    Real y = 1.0 ;\n",
    "    for ( int d=0 ; d<degree ; ++d )\n",
    "     { y *= x ; }\n",
    "    return y ;\n",
    "   }) ;\n",
    " }"
   ]
  },
  {
   "cell_type": "markdown",
   "metadata": {
    "slideshow": {
     "slide_type": "subslide"
    }
   },
   "source": [
    "... but the speedup is not there. An important point is that the use of an execution policy argument **allows some parallelism, but does not make it mandatory**. It is an invitation given to the compiler, that it will accept or not, depending on the code context and the backends available."
   ]
  },
  {
   "cell_type": "code",
   "execution_count": 71,
   "metadata": {
    "slideshow": {
     "slide_type": "-"
    }
   },
   "outputs": [
    {
     "name": "stdout",
     "output_type": "stream",
     "text": [
      "\n",
      "In file included from \u001b[01m\u001b[K/usr/local/include/c++/11.2.0/pstl/parallel_backend_tbb.h:26\u001b[m\u001b[K,\n",
      "                 from \u001b[01m\u001b[K/usr/local/include/c++/11.2.0/pstl/parallel_backend.h:20\u001b[m\u001b[K,\n",
      "                 from \u001b[01m\u001b[K/usr/local/include/c++/11.2.0/pstl/algorithm_impl.h:22\u001b[m\u001b[K,\n",
      "                 from \u001b[01m\u001b[K/usr/local/include/c++/11.2.0/pstl/glue_execution_defs.h:50\u001b[m\u001b[K,\n",
      "                 from \u001b[01m\u001b[K/usr/local/include/c++/11.2.0/execution:32\u001b[m\u001b[K,\n",
      "                 from \u001b[01m\u001b[Ktmp.execution-process.h:2\u001b[m\u001b[K,\n",
      "                 from \u001b[01m\u001b[Ktmp.execution.cpp:4\u001b[m\u001b[K:\n",
      "\u001b[01m\u001b[K/usr/include/tbb/task.h:21:139:\u001b[m\u001b[K \u001b[01;36m\u001b[Knote: \u001b[m\u001b[K‘\u001b[01m\u001b[K#pragma message: TBB Warning: tbb/task.h is deprecated. For details, please see Deprecated Features appendix in the TBB reference manual.\u001b[m\u001b[K’\n",
      "   21 |  please see Deprecated Features appendix in the TBB reference manual.\"\u001b[01;36m\u001b[K)\u001b[m\u001b[K\n",
      "      |                                                                       \u001b[01;36m\u001b[K^\u001b[m\u001b[K\n",
      "\n",
      "mean: 0.62705\n",
      "\n",
      "real\t0m0.180s\n",
      "user\t0m0.180s\n",
      "sys\t0m0.000s\n",
      "\n"
     ]
    }
   ],
   "source": [
    "!bash -l tmp.execution.sh 1024 100000"
   ]
  },
  {
   "cell_type": "markdown",
   "metadata": {
    "slideshow": {
     "slide_type": "slide"
    }
   },
   "source": [
    "## Availability of this features (for what concerns g++)\n",
    "\n",
    "The effective implementation of the new parallel execution strategies requires a background implementation.\n",
    "\n",
    "The last version of g++ (11.2), together with Intel TBB as backend, automatically apply multi-threading when one ask a `std::execution::par` policy.\n",
    "\n",
    "On the contrary, currently, g++ does not care about `std::execution::unseq`, and rather relies on its auto-vectorization feature."
   ]
  },
  {
   "cell_type": "markdown",
   "metadata": {
    "slideshow": {
     "slide_type": "slide"
    }
   },
   "source": [
    "# Questions ?"
   ]
  },
  {
   "cell_type": "markdown",
   "metadata": {
    "slideshow": {
     "slide_type": "skip"
    }
   },
   "source": [
    "## Resources\n",
    "\n",
    "* [Rainer Grimm's blog](https://www.modernescpp.com/index.php/parallel-algorithms-of-the-stl-with-gcc)\n",
    "* [Rainer Grimm's blog](https://www.modernescpp.com/index.php/performance-of-the-parallel-stl-algorithmn)\n",
    "* [Bartek's coding blog](https://www.cppstories.com/2018/11/pstl/)\n",
    "* [Compiler support](https://en.cppreference.com/w/cpp/compiler_support) (see \"Standardization of Parallelism TS\")\n",
    "* [Intel parallel STL](https://github.com/intel/parallelstl)\n",
    "* [Intel TBB](https://github.com/intel/tbb/)"
   ]
  },
  {
   "cell_type": "markdown",
   "metadata": {
    "slideshow": {
     "slide_type": "skip"
    }
   },
   "source": [
    "© *CNRS 2022*  \n",
    "*This document was created by David Chamont and translated by Olga Abramkina. It is available under the [License Creative Commons - Attribution - No commercial use - Shared under the conditions 4.0 International](http://creativecommons.org/licenses/by-nc-sa/4.0/)*"
   ]
  }
 ],
 "metadata": {
  "celltoolbar": "Diaporama",
  "kernelspec": {
   "display_name": "Python 3 (ipykernel)",
   "language": "python",
   "name": "python3"
  },
  "language_info": {
   "codemirror_mode": {
    "name": "ipython",
    "version": 3
   },
   "file_extension": ".py",
   "mimetype": "text/x-python",
   "name": "python",
   "nbconvert_exporter": "python",
   "pygments_lexer": "ipython3",
   "version": "3.9.12"
  }
 },
 "nbformat": 4,
 "nbformat_minor": 4
}
