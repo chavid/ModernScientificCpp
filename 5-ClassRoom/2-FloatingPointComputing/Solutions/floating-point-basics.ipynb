{
 "cells": [
  {
   "cell_type": "markdown",
   "metadata": {
    "attributes": {
     "classes": [
      "cpp"
     ],
     "id": ""
    },
    "slideshow": {
     "slide_type": "skip"
    }
   },
   "source": [
    "# Exercise results on CoLiRu\n",
    "\n",
    "| Type        | Size (in bytes) | Minimal value             | Maximum value             |  Epsilon                |\n",
    "| :---------- | --------------: | ------------------------: | ------------------------: | ----------------------: |\n",
    "| float       | 4               | 1.17549435082228751e-38   | 3.4028234663852886 e+38   | 1.1920928955078125 e-07 |\n",
    "| double      | 8               | 2.22507385850720138e-308  | 1.79769313486231571e+308  | 2.22044604925031308e-16 |\n",
    "| long double | 16              | 3.36210314311209351e-4932 | 1.18973149535723177e+4932 | 1.08420217248550443e-19 |\n",
    "\n",
    "* What do we mean here by \"minimal value\" ? Smallest positive one.\n",
    "* What is the difference with the \"lowest value\" ? Largest negative opne.\n",
    "* What do you think of the results for `long double`: the same as GCC `__float80`, so 80 bits.\n"
   ]
  }
 ],
 "metadata": {
  "celltoolbar": "Diaporama",
  "kernelspec": {
   "display_name": "Python 3 (ipykernel)",
   "language": "python",
   "name": "python3"
  },
  "language_info": {
   "codemirror_mode": {
    "name": "ipython",
    "version": 3
   },
   "file_extension": ".py",
   "mimetype": "text/x-python",
   "name": "python",
   "nbconvert_exporter": "python",
   "pygments_lexer": "ipython3",
   "version": "3.9.5"
  }
 },
 "nbformat": 4,
 "nbformat_minor": 4
}
