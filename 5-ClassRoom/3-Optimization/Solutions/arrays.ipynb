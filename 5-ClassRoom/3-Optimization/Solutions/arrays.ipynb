{
 "cells": [
  {
   "cell_type": "markdown",
   "metadata": {
    "slideshow": {
     "slide_type": "slide"
    }
   },
   "source": [
    "# Arrays results on i7-10875H"
   ]
  },
  {
   "cell_type": "markdown",
   "metadata": {
    "slideshow": {
     "slide_type": "subslide"
    }
   },
   "source": [
    "## AoS\n",
    "\n",
    "| Array \\ Option         | -O0   | -O2   | -O3   |\n",
    "| :--------------------- | ----: | ----: | ----: |\n",
    "| Classic C array        | 0.974 | 0.068 | 0.231 |\n",
    "| std::array             | 0.959 | 0.069 | 0.215 |\n",
    "| std::valarray          | 0.955 | 0.082 | 0.236 |\n",
    "| std::vector            | 1.585 | **0.051** | 0.229 |\n",
    "| std::list              | **2.141** | 0.278 | 0.290 |"
   ]
  },
  {
   "cell_type": "markdown",
   "metadata": {
    "slideshow": {
     "slide_type": "subslide"
    }
   },
   "source": [
    "## SoA\n",
    "\n",
    "| Array \\ Option         | -O0   | -O2   | -O3   |\n",
    "| :--------------------- | ----: | ----: | ----: |\n",
    "| Classic C array        | 0.654 | 0.073 | 0.040 |\n",
    "| std::array             | 1.834 | 0.044 | **0.015** |\n",
    "| std::valarray          | 2.420 | 0.090 | 0.038 |\n",
    "| std::vector 1          | 1.999 | 0.096 | 0.050 |\n",
    "| std::vector 2          | 1.193 | 0.079 | 0.087 |\n",
    "| std::list              | **4.308** | 0.225 | 0.230 |\n"
   ]
  },
  {
   "cell_type": "markdown",
   "metadata": {
    "slideshow": {
     "slide_type": "skip"
    }
   },
   "source": [
    "© *CNRS 2022*\n",
    "*Assembled and written in french by David Chamont, this work is made available according to the terms of the [Creative Commons License - Attribution - NonCommercial - ShareAlike 4.0 International](http://creativecommons.org/licenses/by-nc-sa/4.0/)*"
   ]
  }
 ],
 "metadata": {
  "celltoolbar": "Diaporama",
  "kernelspec": {
   "display_name": "Python 3 (ipykernel)",
   "language": "python",
   "name": "python3"
  },
  "language_info": {
   "codemirror_mode": {
    "name": "ipython",
    "version": 3
   },
   "file_extension": ".py",
   "mimetype": "text/x-python",
   "name": "python",
   "nbconvert_exporter": "python",
   "pygments_lexer": "ipython3",
   "version": "3.9.12"
  }
 },
 "nbformat": 4,
 "nbformat_minor": 4
}
