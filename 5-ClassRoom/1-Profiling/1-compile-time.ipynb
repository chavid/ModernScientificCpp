{
 "cells": [
  {
   "cell_type": "markdown",
   "metadata": {
    "slideshow": {
     "slide_type": "slide"
    }
   },
   "source": [
    "# Measuring compilation time\n",
    "\n",
    "UNDER WORK"
   ]
  },
  {
   "cell_type": "markdown",
   "metadata": {
    "slideshow": {
     "slide_type": "slide"
    }
   },
   "source": [
    "## Globally, with linux `time` command\n",
    "\n",
    "In the Linux world, information about the overall execution time of an application can be obtained by simply preceding the application name with the `time` command."
   ]
  },
  {
   "cell_type": "code",
   "execution_count": 1,
   "metadata": {
    "slideshow": {
     "slide_type": "skip"
    }
   },
   "outputs": [
    {
     "name": "stdout",
     "output_type": "stream",
     "text": [
      "Overwriting tmp.chrono.1.h\n"
     ]
    }
   ],
   "source": [
    "%%file tmp.chrono.1.h\n",
    "\n",
    "#include <vector>\n",
    "#include <cstdlib>\n",
    "#include <cassert>\n",
    "#include <iostream>"
   ]
  },
  {
   "cell_type": "code",
   "execution_count": 2,
   "metadata": {
    "slideshow": {
     "slide_type": "subslide"
    }
   },
   "outputs": [
    {
     "name": "stdout",
     "output_type": "stream",
     "text": [
      "Overwriting tmp.chrono.2.h\n"
     ]
    }
   ],
   "source": [
    "%%file tmp.chrono.2.h\n",
    "\n",
    "std::vector<double> generate( int size )\n",
    " {\n",
    "  std::vector<double> datas(size) ;\n",
    "  for ( double & data : datas )\n",
    "   { data = std::rand()/(RAND_MAX+1.) ; }\n",
    "  return datas ;\n",
    " }"
   ]
  },
  {
   "cell_type": "code",
   "execution_count": 3,
   "metadata": {
    "slideshow": {
     "slide_type": "subslide"
    }
   },
   "outputs": [
    {
     "name": "stdout",
     "output_type": "stream",
     "text": [
      "Overwriting tmp.chrono.3.h\n"
     ]
    }
   ],
   "source": [
    "%%file tmp.chrono.3.h\n",
    "\n",
    "double analyse( std::vector<double> const & datas, int power )\n",
    " {\n",
    "  double res = 0 ;\n",
    "  for ( double data : datas )\n",
    "   {\n",
    "    double val = 1 ; \n",
    "    for ( int j=0 ; j<power ; ++j )\n",
    "      val *= data ;\n",
    "    res += val ;\n",
    "   }\n",
    "  return res ;\n",
    " }"
   ]
  },
  {
   "cell_type": "code",
   "execution_count": 4,
   "metadata": {
    "slideshow": {
     "slide_type": "subslide"
    }
   },
   "outputs": [
    {
     "name": "stdout",
     "output_type": "stream",
     "text": [
      "Overwriting tmp.chrono.cpp\n"
     ]
    }
   ],
   "source": [
    "%%file tmp.chrono.cpp\n",
    "\n",
    "#include \"tmp.chrono.1.h\"\n",
    "#include \"tmp.chrono.2.h\"\n",
    "#include \"tmp.chrono.3.h\"\n",
    "\n",
    "int main( int argc, char * argv[] )\n",
    " {\n",
    "  assert(argc==3) ;\n",
    "  int size {atoi(argv[1])} ;\n",
    "  int power {atoi(argv[2])} ;\n",
    "\n",
    "  auto datas = generate(size) ;\n",
    "  auto res = analyse(datas,power) ;\n",
    "  std::cout<<res<<std::endl ; \n",
    " }"
   ]
  },
  {
   "cell_type": "code",
   "execution_count": 5,
   "metadata": {
    "slideshow": {
     "slide_type": "subslide"
    }
   },
   "outputs": [
    {
     "name": "stdout",
     "output_type": "stream",
     "text": [
      "Overwriting tmp.chrono.sh\n"
     ]
    }
   ],
   "source": [
    "%%file tmp.chrono.sh\n",
    "\n",
    "rm -f tmp.chrono.exe\n",
    "g++ -std=c++17 -O3 tmp.chrono.cpp -o tmp.chrono.exe\n",
    "time ./tmp.chrono.exe $*"
   ]
  },
  {
   "cell_type": "code",
   "execution_count": 6,
   "metadata": {
    "slideshow": {
     "slide_type": "subslide"
    }
   },
   "outputs": [
    {
     "name": "stdout",
     "output_type": "stream",
     "text": [
      "0.525744\r\n",
      "\r\n",
      "real\t0m2.457s\r\n",
      "user\t0m2.457s\r\n",
      "sys\t0m0.000s\r\n"
     ]
    }
   ],
   "source": [
    "!bash -l ./tmp.chrono.sh 1024 100000"
   ]
  },
  {
   "cell_type": "markdown",
   "metadata": {
    "slideshow": {
     "slide_type": "skip"
    }
   },
   "source": [
    "Details of the `time` display:\n",
    "- `real` : the elapsed time seen in real life.\n",
    "- `user` : the execution time spent in the user code.\n",
    "- `sys`  : the execution time spent in system calls."
   ]
  },
  {
   "cell_type": "markdown",
   "metadata": {
    "slideshow": {
     "slide_type": "slide"
    }
   },
   "source": [
    "## Repeated time measurement\n",
    "\n",
    "When monitoring the execution time, especially a small code, and especially when running on a non-reserved dedicated machine :\n",
    "- **run your program many times** and compute the mean execution time,\n",
    "- **ensure each single run is long enough** so that the processor pipelines get filled and you go well beyond the initial computing latency.\n",
    "\n",
    "Also, be aware that if your data size is larger than the CPU cache, this may reduce I/O throughput, thus make your program I/ bound. In such a case, optimizing the computation instructions will not improve your global execution time."
   ]
  },
  {
   "cell_type": "markdown",
   "metadata": {
    "slideshow": {
     "slide_type": "subslide"
    }
   },
   "source": [
    "Below, we run the program once, so to check the result. Then we run it 10 times, measuring the execution time with a GNU flavor of `time`, and redirect the results into a python script, which will finally compute the mean time. We ask a power of `100000`, to be sure the arithmetic intensity is high, and we limit the size of the array to `1024`, below the typical cache size."
   ]
  },
  {
   "cell_type": "code",
   "execution_count": 7,
   "metadata": {
    "slideshow": {
     "slide_type": "subslide"
    }
   },
   "outputs": [
    {
     "name": "stdout",
     "output_type": "stream",
     "text": [
      "Overwriting tmp.chrono.sh\n"
     ]
    }
   ],
   "source": [
    "%%file tmp.chrono.sh\n",
    "\n",
    "rm -f tmp.chrono.exe\n",
    "g++ -std=c++17 -O3 tmp.chrono.cpp -o tmp.chrono.exe\n",
    "./tmp.chrono.exe $*\n",
    "\n",
    "rm -f tmp.chrono.py\n",
    "echo \"t = 0\" >> tmp.chrono.py\n",
    "for i in 0 1 2 3 4 5 6 7 8 9\n",
    "do \\time -f \"t += %U\" -a -o ./tmp.chrono.py ./tmp.chrono.exe $* >> /dev/null\n",
    "done\n",
    "echo \"print('(~ {:.3f} s)'.format(t/10.))\" >> tmp.chrono.py\n",
    "python3 tmp.chrono.py"
   ]
  },
  {
   "cell_type": "code",
   "execution_count": 8,
   "metadata": {
    "slideshow": {
     "slide_type": "subslide"
    }
   },
   "outputs": [
    {
     "name": "stdout",
     "output_type": "stream",
     "text": [
      "0.525744\n",
      "tmp.chrono.sh: line 9: time: command not found\n",
      "tmp.chrono.sh: line 9: time: command not found\n",
      "tmp.chrono.sh: line 9: time: command not found\n",
      "tmp.chrono.sh: line 9: time: command not found\n",
      "tmp.chrono.sh: line 9: time: command not found\n",
      "tmp.chrono.sh: line 9: time: command not found\n",
      "tmp.chrono.sh: line 9: time: command not found\n",
      "tmp.chrono.sh: line 9: time: command not found\n",
      "tmp.chrono.sh: line 9: time: command not found\n",
      "tmp.chrono.sh: line 9: time: command not found\n",
      "(~ 0.000 s)\n"
     ]
    }
   ],
   "source": [
    "!bash -l tmp.chrono.sh 1024 100000"
   ]
  },
  {
   "cell_type": "markdown",
   "metadata": {
    "slideshow": {
     "slide_type": "slide"
    }
   },
   "source": [
    "## Internal time measurement with `std::chrono`\n",
    "\n",
    "When trying to speed-up a big real world application, one needs to known the execution time of the subparts of the application, so to focus his efforts where it is worth. **It is highly advised to learn how to use a profiling tool such as [`perf`](https://perf.wiki.kernel.org/index.php/Main_Page)**."
   ]
  },
  {
   "cell_type": "markdown",
   "metadata": {
    "slideshow": {
     "slide_type": "subslide"
    }
   },
   "source": [
    "Meanwhile, some internal information can be collected thanks to `std::chrono`. One of the interesting aspects of `std::chrono` is the work done on time units. Below, we measure the execution time of `generate` and displays it in milliseconds."
   ]
  },
  {
   "cell_type": "code",
   "execution_count": 9,
   "metadata": {
    "slideshow": {
     "slide_type": "subslide"
    }
   },
   "outputs": [
    {
     "name": "stdout",
     "output_type": "stream",
     "text": [
      "Overwriting tmp.chrono.2.h\n"
     ]
    }
   ],
   "source": [
    "%%file tmp.chrono.2.h\n",
    "\n",
    "#include <chrono>\n",
    "        \n",
    "std::vector<double> generate( int size )\n",
    " {\n",
    "  using namespace std::chrono ;\n",
    "  auto t1 {steady_clock::now()} ;   \n",
    "\n",
    "  std::vector<double> datas(size) ;     \n",
    "  for ( double & data : datas )\n",
    "   { data = std::rand()/(RAND_MAX+1.) ; }\n",
    "\n",
    "  auto t2 {steady_clock::now()} ;\n",
    "  auto dt {duration_cast<microseconds>(t2-t1).count()} ;\n",
    "  std::cout<<\"(generate: \"<<dt<<\" us)\"<<std::endl ;\n",
    "     \n",
    "  return datas ;\n",
    " }"
   ]
  },
  {
   "cell_type": "code",
   "execution_count": 10,
   "metadata": {
    "slideshow": {
     "slide_type": "skip"
    }
   },
   "outputs": [],
   "source": [
    "!rm -f tmp.chrono.exe && g++ -std=c++17 -I./ tmp.chrono.cpp -o tmp.chrono.exe"
   ]
  },
  {
   "cell_type": "code",
   "execution_count": 11,
   "metadata": {
    "slideshow": {
     "slide_type": "subslide"
    }
   },
   "outputs": [
    {
     "name": "stdout",
     "output_type": "stream",
     "text": [
      "(generate: 29 us)\n",
      "0.525744\n"
     ]
    }
   ],
   "source": [
    "!./tmp.chrono.exe 1024 100000"
   ]
  },
  {
   "cell_type": "markdown",
   "metadata": {
    "slideshow": {
     "slide_type": "slide"
    }
   },
   "source": [
    "## Comparing two codes with [QuickBench](https://www.quick-bench.com/)\n",
    "\n",
    "If you do not care about the absolute computation time, but want to compare two (or more) alternative implementations, you may like the online tool [QuickBench](https://www.quick-bench.com/), powered by [Google Benchmark](https://github.com/google/benchmark)."
   ]
  },
  {
   "cell_type": "markdown",
   "metadata": {
    "slideshow": {
     "slide_type": "slide"
    }
   },
   "source": [
    "Basically, in the QuickBench main window, for each code to be compared, add a section like this..."
   ]
  },
  {
   "cell_type": "code",
   "execution_count": null,
   "metadata": {
    "slideshow": {
     "slide_type": "-"
    }
   },
   "outputs": [],
   "source": [
    "static void CodeVersion1(benchmark::State& state) {\n",
    "\n",
    "  // code to be executed once\n",
    "  // ...\n",
    "    \n",
    "  for (auto _ : state) {\n",
    "\n",
    "    // code to be measured repeatedly\n",
    "    // ...\n",
    "    \n",
    "    // output variable should be protected so that\n",
    "    //  the compiler does not optimize them out\n",
    "    benchmark::DoNotOptimize(res) ;\n",
    "\n",
    "  }\n",
    "\n",
    "}\n",
    "BENCHMARK(CodeVersion1);"
   ]
  },
  {
   "cell_type": "markdown",
   "metadata": {
    "slideshow": {
     "slide_type": "-"
    }
   },
   "source": [
    ".. and push the button *Run Benchmark*."
   ]
  },
  {
   "cell_type": "markdown",
   "metadata": {
    "slideshow": {
     "slide_type": "slide"
    }
   },
   "source": [
    "# Questions ?"
   ]
  },
  {
   "cell_type": "markdown",
   "metadata": {
    "slideshow": {
     "slide_type": "skip"
    }
   },
   "source": [
    "# Exercise\n",
    "\n",
    "The code below defines some kind of \"meta-function\" `time()`, which takes as input another function `f`, and a set of arguments to be used for a call to `f`.\n",
    "1. You are asked to complete the definition of `time`, with `chrono` features, so to compute, display and compare the execution time of `analyse1` and `analyse2`.\n",
    "2. Try to write a Python script which will run the program 10 times, and compute the mean execution time of `generate`, `analyse1` and `analyse2`...\n",
    "3. ...And/or try with [QuickBench](https://www.quick-bench.com/)."
   ]
  },
  {
   "cell_type": "code",
   "execution_count": null,
   "metadata": {
    "slideshow": {
     "slide_type": "skip"
    }
   },
   "outputs": [],
   "source": [
    "%%file tmp.chrono.cpp\n",
    "\n",
    "#include <valarray>\n",
    "#include <cstdlib>\n",
    "#include <cassert>\n",
    "#include <iostream>\n",
    "#include <string_view>\n",
    "#include <chrono>\n",
    "\n",
    "template< typename Fonction, typename... ArgTypes >\n",
    "auto time( std::string_view title, Fonction f, ArgTypes... args )\n",
    " {\n",
    "  // to be completed\n",
    "  auto res {f(args...)} ;\n",
    "  // to be completed\n",
    "  std::cout<<\"(\"<<title<<\" time: ?? us)\"<<std::endl ;\n",
    "  return res ;\n",
    " }\n",
    "\n",
    "std::valarray<double> generate( int size )\n",
    " {\n",
    "  std::valarray<double> datas(size) ;\n",
    "  for ( double & data : datas )\n",
    "   { data = std::rand()/(RAND_MAX+1.) ; }\n",
    "  return datas ;\n",
    " }\n",
    "\n",
    "double analyse1( std::valarray<double> const & datas, int power )\n",
    " {\n",
    "  double res = 0 ;\n",
    "  for ( double data : datas )\n",
    "   {\n",
    "    double val = 1 ; \n",
    "    for ( int j=0 ; j<power ; ++j )\n",
    "      val *= data ;\n",
    "    res += val ;\n",
    "   }\n",
    "  return res ;\n",
    " }\n",
    "\n",
    "double analyse2( std::valarray<double> datas, int power )\n",
    " {\n",
    "  std::valarray<double> vals(1.,datas.size()) ;\n",
    "  for ( int j=0 ; j<power ; ++j )\n",
    "   { vals *= datas ; }\n",
    "  double res = 0 ;\n",
    "  for ( double val : vals )\n",
    "   { res += val ; }\n",
    "  return res ;\n",
    " }\n",
    "\n",
    "int main( int argc, char * argv[] )\n",
    " {\n",
    "  assert(argc==3) ;\n",
    "  int size {atoi(argv[1])} ;\n",
    "  int power {atoi(argv[2])} ;\n",
    "\n",
    "  auto datas = time(\"gen\",generate,size) ;\n",
    "  auto res1 = time(\"ana1\",analyse1,datas,power) ;\n",
    "  auto res2 = time(\"ana2\",analyse2,datas,power) ;\n",
    "  std::cout << res1 << \" \" << res2 << std::endl ;\n",
    " }"
   ]
  },
  {
   "cell_type": "code",
   "execution_count": null,
   "metadata": {
    "slideshow": {
     "slide_type": "skip"
    }
   },
   "outputs": [],
   "source": [
    "!rm -f tmp.chrono.exe && g++ -O3 -std=c++17 -I./ tmp.chrono.cpp -o tmp.chrono.exe"
   ]
  },
  {
   "cell_type": "code",
   "execution_count": null,
   "metadata": {
    "slideshow": {
     "slide_type": "skip"
    }
   },
   "outputs": [],
   "source": [
    "!./tmp.chrono.exe 1024 100000"
   ]
  },
  {
   "cell_type": "markdown",
   "metadata": {
    "slideshow": {
     "slide_type": "slide"
    }
   },
   "source": [
    "# Resources\n",
    "\n",
    "- [Chrono](https://en.cppreference.com/w/cpp/chrono)\n",
    "- [QuickBench](https://www.quick-bench.com/)\n",
    "- [Google Benchmark](https://github.com/google/benchmark)\n",
    "- [Perf](https://perf.wiki.kernel.org/)."
   ]
  },
  {
   "cell_type": "markdown",
   "metadata": {
    "slideshow": {
     "slide_type": "skip"
    }
   },
   "source": [
    "© *CNRS 2022*\n",
    "*Assembled and written in french by David Chamont, translated by Karim Hasnaoui in 2021, this work is made available according to the terms of the [Creative Commons License - Attribution - NonCommercial - ShareAlike 4.0 International](http://creativecommons.org/licenses/by-nc-sa/4.0/)*"
   ]
  }
 ],
 "metadata": {
  "celltoolbar": "Diaporama",
  "kernelspec": {
   "display_name": "Python 3 (ipykernel)",
   "language": "python",
   "name": "python3"
  },
  "language_info": {
   "codemirror_mode": {
    "name": "ipython",
    "version": 3
   },
   "file_extension": ".py",
   "mimetype": "text/x-python",
   "name": "python",
   "nbconvert_exporter": "python",
   "pygments_lexer": "ipython3",
   "version": "3.9.12"
  }
 },
 "nbformat": 4,
 "nbformat_minor": 4
}
